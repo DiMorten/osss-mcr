{
  "nbformat": 4,
  "nbformat_minor": 0,
  "metadata": {
    "colab": {
      "name": "Welcome To Colaboratory",
      "provenance": [],
      "collapsed_sections": [],
      "machine_shape": "hm",
      "include_colab_link": true
    },
    "kernelspec": {
      "display_name": "Python 3",
      "name": "python3"
    },
    "accelerator": "GPU"
  },
  "cells": [
    {
      "cell_type": "markdown",
      "metadata": {
        "id": "view-in-github",
        "colab_type": "text"
      },
      "source": [
        "<a href=\"https://colab.research.google.com/github/DiMorten/FCN_ConvLSTM_Crop_Recognition_Open_Set/blob/coords5/train_and_evaluate_open_set.ipynb\" target=\"_parent\"><img src=\"https://colab.research.google.com/assets/colab-badge.svg\" alt=\"Open In Colab\"/></a>"
      ]
    },
    {
      "cell_type": "markdown",
      "metadata": {
        "id": "LJ7UjI3YD4w8"
      },
      "source": [
        "## Dependencies"
      ]
    },
    {
      "cell_type": "code",
      "metadata": {
        "id": "jJZd_oJYCkmN",
        "colab": {
          "base_uri": "https://localhost:8080/"
        },
        "outputId": "447356a2-dc52-4d5e-8eac-c0197efa1b87"
      },
      "source": [
        "!pip install icecream\n",
        "#%tensorflow_version 1.x\n",
        "import os\n",
        "!pip install kora\n",
        "from kora import drive\n",
        "import time\n",
        "!pip install colorama\n",
        "\n",
        "ds_path='/content/drive/My Drive/PhD/datasets/cv_data/'"
      ],
      "execution_count": 1,
      "outputs": [
        {
          "output_type": "stream",
          "text": [
            "Collecting icecream\n",
            "  Downloading icecream-2.1.1-py2.py3-none-any.whl (8.1 kB)\n",
            "Collecting colorama>=0.3.9\n",
            "  Downloading colorama-0.4.4-py2.py3-none-any.whl (16 kB)\n",
            "Collecting asttokens>=2.0.1\n",
            "  Downloading asttokens-2.0.5-py2.py3-none-any.whl (20 kB)\n",
            "Requirement already satisfied: pygments>=2.2.0 in /usr/local/lib/python3.7/dist-packages (from icecream) (2.6.1)\n",
            "Collecting executing>=0.3.1\n",
            "  Downloading executing-0.8.0-py2.py3-none-any.whl (15 kB)\n",
            "Requirement already satisfied: six in /usr/local/lib/python3.7/dist-packages (from asttokens>=2.0.1->icecream) (1.15.0)\n",
            "Installing collected packages: executing, colorama, asttokens, icecream\n",
            "Successfully installed asttokens-2.0.5 colorama-0.4.4 executing-0.8.0 icecream-2.1.1\n",
            "Collecting kora\n",
            "  Downloading kora-0.9.19-py3-none-any.whl (57 kB)\n",
            "\u001b[K     |████████████████████████████████| 57 kB 2.9 MB/s \n",
            "\u001b[?25hRequirement already satisfied: ipython in /usr/local/lib/python3.7/dist-packages (from kora) (5.5.0)\n",
            "Collecting fastcore\n",
            "  Downloading fastcore-1.3.26-py3-none-any.whl (56 kB)\n",
            "\u001b[K     |████████████████████████████████| 56 kB 4.1 MB/s \n",
            "\u001b[?25hRequirement already satisfied: pip in /usr/local/lib/python3.7/dist-packages (from fastcore->kora) (21.1.3)\n",
            "Requirement already satisfied: packaging in /usr/local/lib/python3.7/dist-packages (from fastcore->kora) (21.0)\n",
            "Requirement already satisfied: simplegeneric>0.8 in /usr/local/lib/python3.7/dist-packages (from ipython->kora) (0.8.1)\n",
            "Requirement already satisfied: prompt-toolkit<2.0.0,>=1.0.4 in /usr/local/lib/python3.7/dist-packages (from ipython->kora) (1.0.18)\n",
            "Requirement already satisfied: setuptools>=18.5 in /usr/local/lib/python3.7/dist-packages (from ipython->kora) (57.4.0)\n",
            "Requirement already satisfied: pygments in /usr/local/lib/python3.7/dist-packages (from ipython->kora) (2.6.1)\n",
            "Requirement already satisfied: decorator in /usr/local/lib/python3.7/dist-packages (from ipython->kora) (4.4.2)\n",
            "Requirement already satisfied: traitlets>=4.2 in /usr/local/lib/python3.7/dist-packages (from ipython->kora) (5.0.5)\n",
            "Requirement already satisfied: pexpect in /usr/local/lib/python3.7/dist-packages (from ipython->kora) (4.8.0)\n",
            "Requirement already satisfied: pickleshare in /usr/local/lib/python3.7/dist-packages (from ipython->kora) (0.7.5)\n",
            "Requirement already satisfied: six>=1.9.0 in /usr/local/lib/python3.7/dist-packages (from prompt-toolkit<2.0.0,>=1.0.4->ipython->kora) (1.15.0)\n",
            "Requirement already satisfied: wcwidth in /usr/local/lib/python3.7/dist-packages (from prompt-toolkit<2.0.0,>=1.0.4->ipython->kora) (0.2.5)\n",
            "Requirement already satisfied: ipython-genutils in /usr/local/lib/python3.7/dist-packages (from traitlets>=4.2->ipython->kora) (0.2.0)\n",
            "Requirement already satisfied: pyparsing>=2.0.2 in /usr/local/lib/python3.7/dist-packages (from packaging->fastcore->kora) (2.4.7)\n",
            "Requirement already satisfied: ptyprocess>=0.5 in /usr/local/lib/python3.7/dist-packages (from pexpect->ipython->kora) (0.7.0)\n",
            "Installing collected packages: fastcore, kora\n",
            "Successfully installed fastcore-1.3.26 kora-0.9.19\n",
            "Requirement already satisfied: colorama in /usr/local/lib/python3.7/dist-packages (0.4.4)\n"
          ],
          "name": "stdout"
        }
      ]
    },
    {
      "cell_type": "code",
      "metadata": {
        "id": "Cosqh5n5Pewo",
        "colab": {
          "base_uri": "https://localhost:8080/"
        },
        "outputId": "cf8c2f41-54a8-4dd1-a519-aa8c83f7e8ff"
      },
      "source": [
        "\n",
        "from google.colab import drive\n",
        "drive.mount('/content/drive')"
      ],
      "execution_count": 2,
      "outputs": [
        {
          "output_type": "stream",
          "text": [
            "Mounted at /content/drive\n"
          ],
          "name": "stdout"
        }
      ]
    },
    {
      "cell_type": "code",
      "metadata": {
        "colab": {
          "base_uri": "https://localhost:8080/"
        },
        "id": "gJr_9dXGpJ05",
        "outputId": "958e092b-1785-4af2-bfc1-ad0bfbb825c4"
      },
      "source": [
        "git_clone = True\n",
        "\n",
        "if git_clone == True:\n",
        "  os.chdir('/content')\n",
        "  %rm -rf FCN_ConvLSTM_Crop_Recognition_Open_Set\n",
        "  !git clone --branch coords5 https://github.com/DiMorten/FCN_ConvLSTM_Crop_Recognition_Open_Set.git"
      ],
      "execution_count": 3,
      "outputs": [
        {
          "output_type": "stream",
          "text": [
            "Cloning into 'FCN_ConvLSTM_Crop_Recognition_Open_Set'...\n",
            "remote: Enumerating objects: 2231, done.\u001b[K\n",
            "remote: Counting objects: 100% (30/30), done.\u001b[K\n",
            "remote: Compressing objects: 100% (22/22), done.\u001b[K\n",
            "remote: Total 2231 (delta 11), reused 20 (delta 5), pack-reused 2201\u001b[K\n",
            "Receiving objects: 100% (2231/2231), 37.51 MiB | 33.00 MiB/s, done.\n",
            "Resolving deltas: 100% (1477/1477), done.\n"
          ],
          "name": "stdout"
        }
      ]
    },
    {
      "cell_type": "markdown",
      "metadata": {
        "id": "Xdj6CiT0Dz9l"
      },
      "source": [
        "## Download images into proper folder"
      ]
    },
    {
      "cell_type": "code",
      "metadata": {
        "id": "5q1eoQFaYvB4"
      },
      "source": [
        "!cp -r /content/drive/MyDrive/PhD/datasets/cv_data /content/FCN_ConvLSTM_Crop_Recognition_Open_Set/dataset/dataset/"
      ],
      "execution_count": 4,
      "outputs": []
    },
    {
      "cell_type": "code",
      "metadata": {
        "id": "vvzH-luqPoiU",
        "colab": {
          "base_uri": "https://localhost:8080/"
        },
        "outputId": "8720be6a-7e5c-4112-8794-27285eff8d3b"
      },
      "source": [
        "os.chdir('/content/FCN_ConvLSTM_Crop_Recognition_Open_Set/networks/convlstm_networks/train_src')\n",
        "os.getcwd()\n",
        "os.listdir()"
      ],
      "execution_count": 5,
      "outputs": [
        {
          "output_type": "execute_result",
          "data": {
            "text/plain": [
              "['densnet.py',\n",
              " 'metrics.py',\n",
              " 'patch_extractor.py',\n",
              " 'keras_weighted_categorical_crossentropy.py',\n",
              " 'modelArchitecture.py',\n",
              " 'parameters',\n",
              " '__init__.py',\n",
              " 'postprocessing.py',\n",
              " 'deb.py',\n",
              " 'obj',\n",
              " 'analysis',\n",
              " 'monitor.py',\n",
              " 'main.py',\n",
              " 'mosaic.py',\n",
              " 'densnet_timedistributed.py',\n",
              " 'mosaic.py.old',\n",
              " 'train_openset.py',\n",
              " 'dataset.py',\n",
              " 'model.py',\n",
              " 'open_set.py',\n",
              " 'model_input_mode.py',\n",
              " 'generator.py',\n",
              " 'dataSource.py']"
            ]
          },
          "metadata": {},
          "execution_count": 5
        }
      ]
    },
    {
      "cell_type": "code",
      "metadata": {
        "id": "CUsDu9hhDZT8"
      },
      "source": [
        "from colorama import init\n",
        "init()\n",
        "from tensorflow.keras.layers import Input, Dense, Conv2D, MaxPool2D, Flatten, Dropout, Conv2DTranspose\n",
        "# from tensorflow.keras.callbacks import ModelCheckpoint , EarlyStopping\n",
        "from tensorflow.keras.optimizers import Adam,Adagrad \n",
        "from tensorflow.keras.models import Model\n",
        "from tensorflow.keras import backend as K\n",
        "import tensorflow.keras as keras\n",
        "\n",
        "import numpy as np\n",
        "from sklearn.utils import shuffle\n",
        "import cv2\n",
        "import argparse\n",
        "import tensorflow as tf\n",
        "\n",
        "from tensorflow.keras.models import *\n",
        "from tensorflow.keras.layers import *\n",
        "from tensorflow.keras.optimizers import *\n",
        "from tensorflow.keras import metrics\n",
        "import sys\n",
        "import glob\n",
        "\n",
        "from sklearn.metrics import confusion_matrix,f1_score,accuracy_score,classification_report\n",
        "# Local\n",
        "from densnet import DenseNetFCN\n",
        "from densnet_timedistributed import DenseNetFCNTimeDistributed\n",
        "\n",
        "#from metrics import fmeasure,categorical_accuracy\n",
        "import deb\n",
        "from keras_weighted_categorical_crossentropy import weighted_categorical_crossentropy, sparse_accuracy_ignoring_last_label, weighted_categorical_crossentropy_ignoring_last_label, categorical_focal_ignoring_last_label, weighted_categorical_focal_ignoring_last_label\n",
        "from tensorflow.keras.models import load_model\n",
        "from tensorflow.keras.layers import ConvLSTM2D, UpSampling2D, multiply\n",
        "from tensorflow.keras.regularizers import l1,l2\n",
        "import time\n",
        "import pickle\n",
        "#from tensorflow.keras_self_attention import SeqSelfAttention\n",
        "import pdb\n",
        "import pathlib\n",
        "from pathlib import Path, PureWindowsPath\n",
        "from tensorflow.keras.layers import Conv3DTranspose, Conv3D\n",
        "\n",
        "from tensorflow.keras.callbacks import EarlyStopping\n",
        "import tensorflow as tf\n",
        "from collections import Counter\n",
        "\n",
        "\n",
        "#from datagenerator import DataGenerator\n",
        "from generator import DataGenerator, DataGeneratorWithCoords, DataGeneratorWithCoordsRandom\n",
        "\n",
        "import matplotlib.pyplot as plt\n",
        "sys.path.append('../../../dataset/dataset/patches_extract_script/')\n",
        "from dataSource import DataSource, SARSource, OpticalSource, Dataset, LEM, LEM2, CampoVerde, OpticalSourceWithClouds, Humidity\n",
        "from model_input_mode import MIMFixed, MIMVarLabel, MIMVarSeqLabel, MIMVarLabel_PaddedSeq, MIMFixedLabelAllLabels, MIMFixed_PaddedSeq\n",
        "from parameters.parameters_reader import ParamsTrain\n",
        "\n",
        "from icecream import ic\n",
        "from monitor import Monitor, MonitorNPY, MonitorGenerator, MonitorNPYAndGenerator\n",
        "import natsort\n",
        "from model import NetModel, ModelFit, ModelLoadGeneratorWithCoords\n",
        "from dataset import Dataset, DatasetWithCoords\n",
        "\n",
        "from patch_extractor import PatchExtractor\n",
        "ic.configureOutput(includeContext=False)\n",
        "np.random.seed(2021)\n",
        "#tf.random.set_seed(2021)\n",
        "\n",
        "from main import TrainTest"
      ],
      "execution_count": 6,
      "outputs": []
    },
    {
      "cell_type": "code",
      "metadata": {
        "id": "uIs_yF23Psa_",
        "colab": {
          "base_uri": "https://localhost:8080/"
        },
        "outputId": "50545846-42c1-4a73-c01e-68f3d531ab03"
      },
      "source": [
        "!nvidia-smi"
      ],
      "execution_count": 7,
      "outputs": [
        {
          "output_type": "stream",
          "text": [
            "Mon Aug 23 21:55:35 2021       \n",
            "+-----------------------------------------------------------------------------+\n",
            "| NVIDIA-SMI 470.57.02    Driver Version: 460.32.03    CUDA Version: 11.2     |\n",
            "|-------------------------------+----------------------+----------------------+\n",
            "| GPU  Name        Persistence-M| Bus-Id        Disp.A | Volatile Uncorr. ECC |\n",
            "| Fan  Temp  Perf  Pwr:Usage/Cap|         Memory-Usage | GPU-Util  Compute M. |\n",
            "|                               |                      |               MIG M. |\n",
            "|===============================+======================+======================|\n",
            "|   0  Tesla P100-PCIE...  Off  | 00000000:00:04.0 Off |                    0 |\n",
            "| N/A   50C    P0    30W / 250W |      0MiB / 16280MiB |      0%      Default |\n",
            "|                               |                      |                  N/A |\n",
            "+-------------------------------+----------------------+----------------------+\n",
            "                                                                               \n",
            "+-----------------------------------------------------------------------------+\n",
            "| Processes:                                                                  |\n",
            "|  GPU   GI   CI        PID   Type   Process name                  GPU Memory |\n",
            "|        ID   ID                                                   Usage      |\n",
            "|=============================================================================|\n",
            "|  No running processes found                                                 |\n",
            "+-----------------------------------------------------------------------------+\n"
          ],
          "name": "stdout"
        }
      ]
    },
    {
      "cell_type": "markdown",
      "metadata": {
        "id": "3ODvyAOie5NU"
      },
      "source": [
        "## Set parameters\n",
        "\n",
        "Parameters can be modified in /content/FCN_ConvLSTM_Crop_Recognition_Open_Set/networks/convlstm_networks/train_src/parameters/parameters_reader.py"
      ]
    },
    {
      "cell_type": "code",
      "metadata": {
        "id": "On6HSUJwDsCU",
        "colab": {
          "base_uri": "https://localhost:8080/"
        },
        "outputId": "ea09a4f8-92e0-4d72-e7b0-c5539d7841e1"
      },
      "source": [
        "from pathlib import Path\n",
        "\n",
        "paramsTrain = ParamsTrain('parameters/')\n",
        "paramsTrain.mim = MIMFixed_PaddedSeq()\n",
        "\n",
        "paramsTrain.getFullIms = True\n",
        "paramsTrain.coordsExtract = True\n",
        "paramsTrain.train = True\n",
        "\n",
        "paramsTrain.train_overlap_percentage = 0\n",
        "paramsTrain.trainGeneratorRandom = False\n",
        "paramsTrain.patch_len = 32\n",
        "paramsTrain.stride = int(paramsTrain.patch_len - paramsTrain.patch_len * paramsTrain.train_overlap_percentage)\n",
        "paramsTrain.patch_step_train = paramsTrain.stride\n",
        "paramsTrain.patch_step_test = paramsTrain.patch_len # to do: paramsTrain.getCalculatedParams() does these calculations\n",
        "\n",
        "paramsTrain.dataset = 'cv'\n",
        "paramsTrain.seq_date = 'jun'\n",
        "paramsTrain.path = Path(\"../../../dataset/dataset/\") / (paramsTrain.dataset + \"_data\")\n",
        "\n",
        "paramsTrain.test_overlap_percentage = 0\n",
        "\n",
        "paramsTrain.dataSource = SARSource()\n",
        "paramsTrain.openSetMethod = None\n",
        "\n",
        "trainTest = TrainTest(paramsTrain)\n",
        "\n",
        "patchExtractor = PatchExtractor(paramsTrain, trainTest.ds)\t"
      ],
      "execution_count": 8,
      "outputs": [
        {
          "output_type": "stream",
          "text": [
            "[@debug] parameters_reader.py:115 in __init__()- self.seq_date: 'mar'\n"
          ],
          "name": "stderr"
        },
        {
          "output_type": "stream",
          "text": [
            "self.known_classes [0, 1, 2, 3, 4, 5, 6, 7, 8, 9, 10, 11, 12, 13]\n"
          ],
          "name": "stdout"
        },
        {
          "output_type": "stream",
          "text": [
            "[@debug] parameters_reader.py:174 in __init__()- self.stride: 32\n"
          ],
          "name": "stderr"
        },
        {
          "output_type": "stream",
          "text": [
            "['save_nonaugmented_train_patches_unknownclasses.json', 'parameters_closedset_groupclasses.json', '__init__.py', 'parameters_reader.py', 'parameters_closedset_groupclasses_lessclass8.json', 'twokkc_save_nonaugmented_train_patches.json', 'parameters_openset_lessclass8.json', 'cv', 'parameters_openset_specifyunknownclasses.json', 'parameters_openset.json', 'twokkc_parameters_openset.json', 'params_batchprocessing.py', '__pycache__', 'no_mode.json', 'allkkc_save_nonaugmented_train_patches.json', 'twokkc_parameters_closedset_groupclasses.json', 'save_nonaugmented_train_patches_lessclass8.json', 'save_nonaugmented_train_patches.json', 'allkkc_parameters_openset.json', 'params_reconstruct.py']\n",
            "[@debug] self.seq_mode = fixed\n",
            "[@debug] self.mim = <model_input_mode.MIMFixed_PaddedSeq object at 0x7f0130dd06d0>\n",
            "[@debug] self.ds = <dataSource.CampoVerde object at 0x7f0130d14690>\n",
            "20151029\n",
            "20151110\n",
            "20151122\n",
            "20151204\n",
            "20151216\n",
            "20160121\n",
            "20160214\n",
            "20160309\n",
            "20160321\n",
            "20160508\n",
            "20160520\n",
            "20160613\n",
            "dotys_sin_cos.shape (12, 2)\n",
            "[302, 314, 326, 338, 350, 21, 45, 69, 81, 129, 141, 165]\n",
            "[[0.05084 0.7197 ]\n",
            " [0.1053  0.807  ]\n",
            " [0.1764  0.8813 ]\n",
            " [0.2612  0.9395 ]\n",
            " [0.3562  0.979  ]\n",
            " [0.6685  0.9707 ]\n",
            " [0.843   0.8643 ]\n",
            " [0.96    0.6963 ]\n",
            " [0.99    0.598  ]\n",
            " [0.905   0.2068 ]\n",
            " [0.8364  0.1301 ]\n",
            " [0.66    0.02637]]\n"
          ],
          "name": "stdout"
        },
        {
          "output_type": "stream",
          "text": [
            "[@debug] patch_extractor.py:17 in __init__()\n",
            "         self.dataSource: <dataSource.SARSource object at 0x7f0130dd0c50>\n",
            "[@debug] patch_extractor.py:26 in __init__()\n",
            "         self.conf['path']/self.label_folder/\"/\": PosixPath('/')\n",
            "[@debug] patch_extractor.py:35 in __init__()\n",
            "         self.conf[\"in_npy_path\"]: PosixPath('../../../dataset/dataset/cv_data/in_sar')\n",
            "[@debug] patch_extractor.py:43 in __init__()\n",
            "         self.conf[\"train\"][\"mask\"][\"dir\"]: PosixPath('../../../dataset/dataset/cv_data/TrainTestMask.tif')\n",
            "[@debug] patch_extractor.py:44 in __init__()\n",
            "         os.getcwd(): '/content/FCN_ConvLSTM_Crop_Recognition_Open_Set/networks/convlstm_networks/train_src'\n"
          ],
          "name": "stderr"
        }
      ]
    },
    {
      "cell_type": "markdown",
      "metadata": {
        "id": "eqA-z0Ju9-xO"
      },
      "source": [
        "## Download or load sequence of images\n"
      ]
    },
    {
      "cell_type": "code",
      "metadata": {
        "id": "8BaFQV6M9yKS",
        "colab": {
          "base_uri": "https://localhost:8080/"
        },
        "outputId": "12927e49-d597-464c-d376-6d9a706e0cb6"
      },
      "source": [
        "if paramsTrain.getFullIms == True:\n",
        "  patchExtractor.getFullIms()\t\n",
        "else:\n",
        "  patchExtractor.fullImsLoad()\n"
      ],
      "execution_count": 9,
      "outputs": [
        {
          "output_type": "stream",
          "text": [
            "[@debug] patch_extractor.py:90 in getFullIms()\n",
            "         patch[\"full_ims\"].shape: (12, 8492, 7995, 2)\n",
            "[@debug] patch_extractor.py:91 in getFullIms()\n",
            "         self.dataset.im_list: ['20151029_S1',\n",
            "                                '20151110_S1',\n",
            "                                '20151122_S1',\n",
            "                                '20151204_S1',\n",
            "                                '20151216_S1',\n",
            "                                '20160121_S1',\n",
            "                                '20160214_S1',\n",
            "                                '20160309_S1',\n",
            "                                '20160321_S1',\n",
            "                                '20160508_S1',\n",
            "                                '20160520_S1',\n",
            "                                '20160613_S1']\n"
          ],
          "name": "stderr"
        },
        {
          "output_type": "stream",
          "text": [
            "0 0\n",
            "[@debug] conf[\"in_npy_path\"]/(im_names[t_step]+\".npy\") = ../../../dataset/dataset/cv_data/in_sar/20151029_S1.npy\n",
            "[@debug] patch[\"full_ims\"].dtype = float16\n",
            "[@debug] np.average(patch[\"full_ims\"][t_step]) = 0.1871337890625\n",
            "[@debug] np.max(patch[\"full_ims\"][t_step]) = 1.0\n",
            "[@debug] np.min(patch[\"full_ims\"][t_step]) = 4.172325134277344e-07\n",
            "../../../dataset/dataset/cv_data/labels/20151029_S1.tif\n",
            "[@debug] conf[\"path\"]/(self.dataSource.label_folder+\"/\"+label_names[t_step]+\".tif\") = ../../../dataset/dataset/cv_data/labels/20151029_S1.tif\n",
            "[@debug] np.unique(patch[\"full_label_ims\"][t_step],return_counts=True) = (array([ 0,  1,  2,  6,  7,  8,  9, 10, 11], dtype=int8), array([61778564,    45178,    51808,   131138,   438371,   155189,\n",
            "        5136068,     1007,   156217]))\n",
            "1 0\n",
            "[@debug] conf[\"in_npy_path\"]/(im_names[t_step]+\".npy\") = ../../../dataset/dataset/cv_data/in_sar/20151110_S1.npy\n",
            "[@debug] patch[\"full_ims\"].dtype = float16\n",
            "[@debug] np.average(patch[\"full_ims\"][t_step]) = 0.180419921875\n",
            "[@debug] np.max(patch[\"full_ims\"][t_step]) = 1.9267578125\n",
            "[@debug] np.min(patch[\"full_ims\"][t_step]) = 2.384185791015625e-07\n",
            "../../../dataset/dataset/cv_data/labels/20151110_S1.tif\n",
            "[@debug] conf[\"path\"]/(self.dataSource.label_folder+\"/\"+label_names[t_step]+\".tif\") = ../../../dataset/dataset/cv_data/labels/20151110_S1.tif\n",
            "[@debug] np.unique(patch[\"full_label_ims\"][t_step],return_counts=True) = (array([ 0,  1,  2,  5,  6,  7,  8,  9, 10, 11], dtype=int8), array([61778564,  1524080,    27056,    11783,   432952,   419824,\n",
            "         155189,  3386868,     1007,   156217]))\n",
            "2 0\n",
            "[@debug] conf[\"in_npy_path\"]/(im_names[t_step]+\".npy\") = ../../../dataset/dataset/cv_data/in_sar/20151122_S1.npy\n",
            "[@debug] patch[\"full_ims\"].dtype = float16\n",
            "[@debug] np.average(patch[\"full_ims\"][t_step]) = 0.1802978515625\n",
            "[@debug] np.max(patch[\"full_ims\"][t_step]) = 1.7099609375\n",
            "[@debug] np.min(patch[\"full_ims\"][t_step]) = 2.384185791015625e-07\n",
            "../../../dataset/dataset/cv_data/labels/20151122_S1.tif\n",
            "[@debug] conf[\"path\"]/(self.dataSource.label_folder+\"/\"+label_names[t_step]+\".tif\") = ../../../dataset/dataset/cv_data/labels/20151122_S1.tif\n",
            "[@debug] np.unique(patch[\"full_label_ims\"][t_step],return_counts=True) = (array([ 0,  1,  2,  5,  6,  7,  8,  9, 10, 11], dtype=int8), array([61778564,  1524080,    27056,    11783,   432952,   419824,\n",
            "         155189,  3386868,     1007,   156217]))\n",
            "3 0\n",
            "[@debug] conf[\"in_npy_path\"]/(im_names[t_step]+\".npy\") = ../../../dataset/dataset/cv_data/in_sar/20151204_S1.npy\n",
            "[@debug] patch[\"full_ims\"].dtype = float16\n",
            "[@debug] np.average(patch[\"full_ims\"][t_step]) = 0.1793212890625\n",
            "[@debug] np.max(patch[\"full_ims\"][t_step]) = 3.447265625\n",
            "[@debug] np.min(patch[\"full_ims\"][t_step]) = 1.1920928955078125e-07\n",
            "../../../dataset/dataset/cv_data/labels/20151204_S1.tif\n",
            "[@debug] conf[\"path\"]/(self.dataSource.label_folder+\"/\"+label_names[t_step]+\".tif\") = ../../../dataset/dataset/cv_data/labels/20151204_S1.tif\n",
            "[@debug] np.unique(patch[\"full_label_ims\"][t_step],return_counts=True) = (array([ 0,  1,  2,  3,  4,  5,  6,  7,  8,  9, 10, 11], dtype=int8), array([61778564,  4496663,    35095,    18211,     2197,    11783,\n",
            "         366875,   419824,   155189,   451915,     1007,   156217]))\n",
            "4 0\n",
            "[@debug] conf[\"in_npy_path\"]/(im_names[t_step]+\".npy\") = ../../../dataset/dataset/cv_data/in_sar/20151216_S1.npy\n",
            "[@debug] patch[\"full_ims\"].dtype = float16\n",
            "[@debug] np.average(patch[\"full_ims\"][t_step]) = 0.1737060546875\n",
            "[@debug] np.max(patch[\"full_ims\"][t_step]) = 1.373046875\n",
            "[@debug] np.min(patch[\"full_ims\"][t_step]) = 1.7881393432617188e-07\n",
            "../../../dataset/dataset/cv_data/labels/20151216_S1.tif\n",
            "[@debug] conf[\"path\"]/(self.dataSource.label_folder+\"/\"+label_names[t_step]+\".tif\") = ../../../dataset/dataset/cv_data/labels/20151216_S1.tif\n",
            "[@debug] np.unique(patch[\"full_label_ims\"][t_step],return_counts=True) = (array([ 0,  1,  2,  3,  4,  5,  6,  7,  8,  9, 10, 11], dtype=int8), array([61778564,  4496663,    35095,    18211,     2197,    11783,\n",
            "         366875,   419824,   155189,   451915,     1007,   156217]))\n",
            "5 0\n",
            "[@debug] conf[\"in_npy_path\"]/(im_names[t_step]+\".npy\") = ../../../dataset/dataset/cv_data/in_sar/20160121_S1.npy\n",
            "[@debug] patch[\"full_ims\"].dtype = float16\n",
            "[@debug] np.average(patch[\"full_ims\"][t_step]) = 0.159912109375\n",
            "[@debug] np.max(patch[\"full_ims\"][t_step]) = 138.0\n",
            "[@debug] np.min(patch[\"full_ims\"][t_step]) = 3.2186508178710938e-06\n",
            "../../../dataset/dataset/cv_data/labels/20160121_S1.tif\n",
            "[@debug] conf[\"path\"]/(self.dataSource.label_folder+\"/\"+label_names[t_step]+\".tif\") = ../../../dataset/dataset/cv_data/labels/20160121_S1.tif\n",
            "[@debug] np.unique(patch[\"full_label_ims\"][t_step],return_counts=True) = (array([ 0,  1,  2,  3,  4,  6,  7,  8,  9, 10, 11], dtype=int8), array([61778564,  2956904,     8039,    18211,     2197,     8859,\n",
            "         419824,   155189,  2388529,     1007,   156217]))\n",
            "6 0\n",
            "[@debug] conf[\"in_npy_path\"]/(im_names[t_step]+\".npy\") = ../../../dataset/dataset/cv_data/in_sar/20160214_S1.npy\n",
            "[@debug] patch[\"full_ims\"].dtype = float16\n",
            "[@debug] np.average(patch[\"full_ims\"][t_step]) = 0.171630859375\n",
            "[@debug] np.max(patch[\"full_ims\"][t_step]) = 1.4169921875\n",
            "[@debug] np.min(patch[\"full_ims\"][t_step]) = 7.748603820800781e-07\n",
            "../../../dataset/dataset/cv_data/labels/20160214_S1.tif\n",
            "[@debug] conf[\"path\"]/(self.dataSource.label_folder+\"/\"+label_names[t_step]+\".tif\") = ../../../dataset/dataset/cv_data/labels/20160214_S1.tif\n",
            "[@debug] np.unique(patch[\"full_label_ims\"][t_step],return_counts=True) = (array([ 0,  1,  2,  3,  4,  6,  7,  8,  9, 10, 11], dtype=int8), array([61778564,  2183414,     8039,   116684,     2197,     8006,\n",
            "         419824,   155189,  3064399,     1007,   156217]))\n",
            "7 0\n",
            "[@debug] conf[\"in_npy_path\"]/(im_names[t_step]+\".npy\") = ../../../dataset/dataset/cv_data/in_sar/20160309_S1.npy\n",
            "[@debug] patch[\"full_ims\"].dtype = float16\n",
            "[@debug] np.average(patch[\"full_ims\"][t_step]) = 0.188232421875\n",
            "[@debug] np.max(patch[\"full_ims\"][t_step]) = 2.869140625\n",
            "[@debug] np.min(patch[\"full_ims\"][t_step]) = 3.5762786865234375e-07\n",
            "../../../dataset/dataset/cv_data/labels/20160309_S1.tif\n",
            "[@debug] conf[\"path\"]/(self.dataSource.label_folder+\"/\"+label_names[t_step]+\".tif\") = ../../../dataset/dataset/cv_data/labels/20160309_S1.tif\n",
            "[@debug] np.unique(patch[\"full_label_ims\"][t_step],return_counts=True) = (array([ 0,  1,  2,  3,  4,  6,  7,  8,  9, 10, 11], dtype=int8), array([61778564,    10049,   900649,  2084968,     2197,     8006,\n",
            "         419824,   155189,  2376870,     1007,   156217]))\n",
            "8 0\n",
            "[@debug] conf[\"in_npy_path\"]/(im_names[t_step]+\".npy\") = ../../../dataset/dataset/cv_data/in_sar/20160321_S1.npy\n",
            "[@debug] patch[\"full_ims\"].dtype = float16\n",
            "[@debug] np.average(patch[\"full_ims\"][t_step]) = 0.16064453125\n",
            "[@debug] np.max(patch[\"full_ims\"][t_step]) = 3.5390625\n",
            "[@debug] np.min(patch[\"full_ims\"][t_step]) = 0.0\n",
            "../../../dataset/dataset/cv_data/labels/20160321_S1.tif\n",
            "[@debug] conf[\"path\"]/(self.dataSource.label_folder+\"/\"+label_names[t_step]+\".tif\") = ../../../dataset/dataset/cv_data/labels/20160321_S1.tif\n",
            "[@debug] np.unique(patch[\"full_label_ims\"][t_step],return_counts=True) = (array([ 0,  1,  2,  3,  4,  6,  7,  8,  9, 10, 11], dtype=int8), array([61778564,    10049,   900649,  2084968,     2197,     8006,\n",
            "         419824,   155189,  2376870,     1007,   156217]))\n",
            "9 0\n",
            "[@debug] conf[\"in_npy_path\"]/(im_names[t_step]+\".npy\") = ../../../dataset/dataset/cv_data/in_sar/20160508_S1.npy\n",
            "[@debug] patch[\"full_ims\"].dtype = float16\n",
            "[@debug] np.average(patch[\"full_ims\"][t_step]) = 0.154541015625\n",
            "[@debug] np.max(patch[\"full_ims\"][t_step]) = 1.1572265625\n",
            "[@debug] np.min(patch[\"full_ims\"][t_step]) = 0.0\n",
            "../../../dataset/dataset/cv_data/labels/20160508_S1.tif\n",
            "[@debug] conf[\"path\"]/(self.dataSource.label_folder+\"/\"+label_names[t_step]+\".tif\") = ../../../dataset/dataset/cv_data/labels/20160508_S1.tif\n",
            "[@debug] np.unique(patch[\"full_label_ims\"][t_step],return_counts=True) = (array([ 0,  2,  3,  4,  5,  6,  7,  8,  9, 10, 11], dtype=int8), array([61778564,  2187712,  2771075,    57536,     2285,   236822,\n",
            "         525054,   155189,    22079,     1007,   156217]))\n",
            "10 0\n",
            "[@debug] conf[\"in_npy_path\"]/(im_names[t_step]+\".npy\") = ../../../dataset/dataset/cv_data/in_sar/20160520_S1.npy\n",
            "[@debug] patch[\"full_ims\"].dtype = float16\n",
            "[@debug] np.average(patch[\"full_ims\"][t_step]) = 0.16552734375\n",
            "[@debug] np.max(patch[\"full_ims\"][t_step]) = 3.634765625\n",
            "[@debug] np.min(patch[\"full_ims\"][t_step]) = 0.0\n",
            "../../../dataset/dataset/cv_data/labels/20160520_S1.tif\n",
            "[@debug] conf[\"path\"]/(self.dataSource.label_folder+\"/\"+label_names[t_step]+\".tif\") = ../../../dataset/dataset/cv_data/labels/20160520_S1.tif\n",
            "[@debug] np.unique(patch[\"full_label_ims\"][t_step],return_counts=True) = (array([ 0,  2,  3,  4,  5,  6,  7,  8,  9, 10, 11], dtype=int8), array([61778564,  2187712,  2771075,    57536,     2285,   236822,\n",
            "         525054,   155189,    22079,     1007,   156217]))\n",
            "11 0\n",
            "[@debug] conf[\"in_npy_path\"]/(im_names[t_step]+\".npy\") = ../../../dataset/dataset/cv_data/in_sar/20160613_S1.npy\n",
            "[@debug] patch[\"full_ims\"].dtype = float16\n",
            "[@debug] np.average(patch[\"full_ims\"][t_step]) = 0.140380859375\n",
            "[@debug] np.max(patch[\"full_ims\"][t_step]) = 4.57421875\n",
            "[@debug] np.min(patch[\"full_ims\"][t_step]) = 0.0\n",
            "../../../dataset/dataset/cv_data/labels/20160613_S1.tif\n",
            "[@debug] conf[\"path\"]/(self.dataSource.label_folder+\"/\"+label_names[t_step]+\".tif\") = ../../../dataset/dataset/cv_data/labels/20160613_S1.tif\n",
            "[@debug] np.unique(patch[\"full_label_ims\"][t_step],return_counts=True) = (array([ 0,  2,  3,  4,  6,  7,  8,  9, 10, 11], dtype=int8), array([61778564,  1441022,  2573657,    57536,   225585,   525054,\n",
            "         155189,   979709,     1007,   156217]))\n"
          ],
          "name": "stdout"
        },
        {
          "output_type": "stream",
          "text": [
            "[@debug] dataSource.py:369 in im_load()\n",
            "         patch[\"full_ims\"].shape: (12, 8492, 7995, 2)\n",
            "[@debug] dataSource.py:370 in im_load()\n",
            "         patch[\"full_label_ims\"].shape: (12, 8492, 7995)\n",
            "[@debug] dataSource.py:371 in im_load()\n",
            "         patch[\"full_ims\"].dtype: dtype('float16')\n",
            "[@debug] dataSource.py:372 in im_load()\n",
            "         patch[\"full_label_ims\"].dtype: dtype('int8')\n"
          ],
          "name": "stderr"
        },
        {
          "output_type": "stream",
          "text": [
            "[@debug] np.unique(patch['full_label_ims'],return_counts=True) = (array([ 0,  1,  2,  3,  4,  5,  6,  7,  8,  9, 10, 11], dtype=int8), array([741342768,  17247080,   7809932,  12457060,    185790,     51702,\n",
            "         2462898,   5372125,   1862268,  24044169,     12084,   1874604]))\n",
            "0.0 1.0 0.1702\n",
            "[@debug] self.dataset.name = cv\n",
            "[@debug] self.dataset.scaler_name = cv\n",
            "[@debug] self.dataset.seq_mode = fixed\n",
            "[@debug] self.dataset.seq_date = jun\n",
            "[@debug] self.dataset.scaler_load = False\n",
            "[@debug] im.shape = (12, 8492, 7995, 2)\n",
            "[@debug] im_flat[mask_flat==1,:].shape = (38664648, 2)\n",
            "0.0001407 1.0 0.0779\n",
            "[@debug] im_norm.shape = (12, 8492, 7995, 2)\n",
            "FINISHED NORMALIZING, RESULT:\n",
            "-1.432 51.53 3.117\n",
            "[@debug] im.shape = (12, 8492, 7995)\n",
            "[@debug] mask_train.shape = (8492, 7995)\n",
            "[@debug] im.dtype = uint8\n",
            "[@debug] mask_train.dtype = uint8\n",
            "[@debug] im_train.shape = (12, 8492, 7995)\n",
            "Train masked unique/count [ 0  1  2  3  4  5  6  7  8  9 10 11] [776057832   9399025   4170646   6930141    103494     34628   1280237\n",
            "   2371008    861648  12705225      8388    800208]\n",
            "Test masked unique/count [ 0  1  2  3  4  5  6  7  8  9 10 11] [780007416   7848055   3639286   5526919     82296     17074   1182661\n",
            "   3001117   1000620  11338944      3696   1074396]\n"
          ],
          "name": "stdout"
        },
        {
          "output_type": "stream",
          "text": [
            "[@debug] patch_extractor.py:127 in getFullIms()\n",
            "         self.paramsTrain.path / 'full_ims/full_ims_test.npy': PosixPath('../../../dataset/dataset/cv_data/full_ims/full_ims_test.npy')\n"
          ],
          "name": "stderr"
        }
      ]
    },
    {
      "cell_type": "markdown",
      "metadata": {
        "id": "R5FPmIpS-Hqu"
      },
      "source": [
        "## Extract coords of image patches"
      ]
    },
    {
      "cell_type": "code",
      "metadata": {
        "id": "2XzJoNO896wl",
        "colab": {
          "base_uri": "https://localhost:8080/"
        },
        "outputId": "77220278-e234-44d8-e876-419ba3e9ce33"
      },
      "source": [
        "\n",
        "if paramsTrain.coordsExtract == True:\n",
        "  patchExtractor.extract()\n",
        "\n",
        "del patchExtractor\n",
        "\n"
      ],
      "execution_count": 10,
      "outputs": [
        {
          "output_type": "stream",
          "text": [
            "STARTED PATCH EXTRACTION\n",
            "[@debug] gridx.shape = (250,)\n",
            "[@debug] gridy.shape = (266,)\n"
          ],
          "name": "stdout"
        },
        {
          "output_type": "stream",
          "text": [
            "[@debug] patch_extractor.py:205 in extract()\n",
            "         coords_train.shape: (4983, 2)\n",
            "         coords_test.shape: (4626, 2)\n",
            "[@debug] patch_extractor.py:206 in extract()\n",
            "         coords_train.dtype: dtype('int64')\n",
            "[@debug] patch_extractor.py:207 in extract()\n",
            "         coords_train[0]: array([7568,  656])\n"
          ],
          "name": "stderr"
        }
      ]
    },
    {
      "cell_type": "markdown",
      "metadata": {
        "id": "2fhs6GZ4qFMx"
      },
      "source": [
        "## Train\n"
      ]
    },
    {
      "cell_type": "code",
      "metadata": {
        "id": "TZztSJXG977M",
        "colab": {
          "base_uri": "https://localhost:8080/",
          "height": 1000
        },
        "outputId": "65001c74-1325-4a0e-da3c-8cd0c2a3b22d"
      },
      "source": [
        "\ttrainTest.setData()\n",
        "\n",
        "\n",
        "\ttrainTest.preprocess(paramsTrain.model_name_id) # move into if\n",
        "\n",
        "\ttrainTest.setModel()\n",
        "\n",
        "\tif paramsTrain.train == True:\n",
        "\t\ttrainTest.train()\n",
        "\telse:\n",
        "    # copy pre trained model to paramsTrain.model_name_id\n",
        "\t\ttrainTest.modelLoad(paramsTrain.model_name_id)"
      ],
      "execution_count": 11,
      "outputs": [
        {
          "output_type": "stream",
          "text": [
            "Initializing object...\n",
            "12 2\n",
            "[@debug] self.channel_n = 2\n"
          ],
          "name": "stdout"
        },
        {
          "output_type": "stream",
          "text": [
            "[@debug] dataset.py:96 in __init__()- self.class_n: 10\n"
          ],
          "name": "stderr"
        },
        {
          "output_type": "stream",
          "text": [
            "[@debug] self.t_len = 12\n",
            "Initializing Dataset instance\n"
          ],
          "name": "stdout"
        },
        {
          "output_type": "stream",
          "text": [
            "[@debug] main.py:119 in setData()- self.data.class_n: 10\n",
            "[@debug] main.py:147 in preprocess()\n",
            "         self.model_name: '../results/convlstm_results/model/lm/model_best_UUnetConvLSTM_mar_lm_nomode.h5'\n",
            "[@debug] dataset.py:186 in create_load()\n",
            "         os.path.dirname(os.path.abspath(__file__)): '/content/FCN_ConvLSTM_Crop_Recognition_Open_Set/networks/convlstm_networks/train_src'\n",
            "[@debug] dataset.py:187 in create_load()\n",
            "         os.getcwd(): '/content/FCN_ConvLSTM_Crop_Recognition_Open_Set/networks/convlstm_networks/train_src'\n",
            "[@debug] dataset.py:191 in create_load()\n",
            "         self.patches['train']['coords'].shape: (4983, 2)\n",
            "[@debug] dataset.py:284 in labelPreprocess()\n",
            "         np.unique(self.full_label_train, return_counts=True): (array([ 0,  2,  3,  4,  6,  7,  8,  9, 10, 11], dtype=uint8),\n",
            "                                                                array([64671486,   710232,  1374508,    31550,   136800,   212701,\n",
            "                                                                         71804,   617076,      699,    66684]))\n",
            "[@debug] dataset.py:285 in labelPreprocess()\n",
            "         np.unique(self.full_label_test, return_counts=True): (array([ 0,  2,  3,  4,  6,  7,  8,  9, 10, 11], dtype=uint8),\n",
            "                                                               array([65000618,   730790,  1199149,    25986,    88785,   312353,\n",
            "                                                                        83385,   362633,      308,    89533]))\n",
            "[@debug] dataset.py:289 in labelPreprocess()\n",
            "         self.paramsTrain.known_classes: array([ 1,  2,  3,  5,  6,  7,  8,  9, 10], dtype=uint8)\n",
            "[@debug] dataset.py:333 in labelPreprocess()\n",
            "         np.unique(self.full_label_train, return_counts=True): (array([ 0,  2,  3,  4,  6,  7,  8,  9, 10, 11], dtype=uint8),\n",
            "                                                                array([64671486,   710232,  1374508,    31550,   136800,   212701,\n",
            "                                                                         71804,   617076,      699,    66684]))\n",
            "[@debug] dataset.py:339 in labelPreprocess()\n",
            "         self.classes: array([ 0,  2,  3,  4,  6,  7,  8,  9, 10, 11], dtype=uint8)\n"
          ],
          "name": "stderr"
        },
        {
          "output_type": "stream",
          "text": [
            "[@debug] np.unique(self.full_label_train, return_counts=True) = (array([ 0,  2,  3,  4,  6,  7,  8,  9, 10, 11], dtype=uint8), array([64671486,   710232,  1374508,    31550,   136800,   212701,\n",
            "          71804,   617076,      699,    66684]))\n"
          ],
          "name": "stdout"
        },
        {
          "output_type": "stream",
          "text": [
            "[@debug] dataset.py:343 in labelPreprocess()\n",
            "         self.labels2new_labels: {0: 0, 2: 1, 3: 2, 4: 3, 6: 4, 7: 5, 8: 6, 9: 7, 10: 8, 11: 9}\n",
            "         self.new_labels2labels: {0: 0, 1: 2, 2: 3, 3: 4, 4: 6, 5: 7, 6: 8, 7: 9, 8: 10, 9: 11}\n"
          ],
          "name": "stderr"
        },
        {
          "output_type": "stream",
          "text": [
            "Transforming labels2new_labels...\n",
            "Transformed labels2new_labels. Moving bcknd to last...\n",
            "[@debug] dict_filename = results/label_translations/new_labels2labels_cv_20160613_S1.pkl\n",
            "[@debug] self.new_labels2labels = {0: 0, 1: 2, 2: 3, 3: 4, 4: 6, 5: 7, 6: 8, 7: 9, 8: 10, 9: 11}\n"
          ],
          "name": "stdout"
        },
        {
          "output_type": "stream",
          "text": [
            "[@debug] dataset.py:364 in labelPreprocess()\n",
            "         np.unique(self.full_label_train, return_counts=True): (array([0, 1, 2, 3, 4, 5, 6, 7, 8, 9], dtype=uint8),\n",
            "                                                                array([64671486,   710232,  1374508,    31550,   136800,   212701,\n",
            "                                                                         71804,   617076,      699,    66684]))\n"
          ],
          "name": "stderr"
        },
        {
          "output_type": "stream",
          "text": [
            "Moved bcknd to last\n"
          ],
          "name": "stdout"
        },
        {
          "output_type": "stream",
          "text": [
            "[@debug] dataset.py:373 in labelPreprocess()\n",
            "         np.unique(self.full_label_train, return_counts=True): (array([0, 1, 2, 3, 4, 5, 6, 7, 8, 9], dtype=uint8),\n",
            "                                                                array([  710232,  1374508,    31550,   136800,   212701,    71804,\n",
            "                                                                        617076,      699,    66684, 64671486]))\n",
            "[@debug] dataset.py:374 in labelPreprocess()\n",
            "         np.unique(self.full_label_test, return_counts=True): (array([0, 1, 2, 3, 4, 5, 6, 7, 8, 9], dtype=uint8),\n",
            "                                                               array([  730790,  1199149,    25986,    88785,   312353,    83385,\n",
            "                                                                       362633,      308,    89533, 65000618]))\n",
            "[@debug] dataset.py:377 in labelPreprocess()- self.class_n: 10\n",
            "[@debug] dataset.py:215 in create_load()\n",
            "         self.patches['train']['label'].shape: (4983, 32, 32)\n",
            "[@debug] dataset.py:216 in create_load()\n",
            "         np.unique(self.patches['train']['label'], return_counts = True): (array([0, 1, 2, 3, 4, 5, 6, 7, 8, 9]),\n",
            "                                                                           array([ 710232, 1374508,   31550,  136800,  212701,   71804,  617076,\n",
            "                                                                                     699,   66684, 1880538]))\n",
            "[@debug] dataset.py:217 in create_load()\n",
            "         self.patches['test']['label'].shape: (4626, 32, 32)\n",
            "[@debug] dataset.py:218 in create_load()\n",
            "         np.unique(self.patches['test']['label'], return_counts = True): (array([0, 1, 2, 3, 4, 5, 6, 7, 8, 9]),\n",
            "                                                                          array([ 730790, 1199149,   25986,   88785,  312353,   83385,  362633,\n",
            "                                                                                    308,   89533, 1844102]))\n",
            "[@debug] dataset.py:223 in create_load()\n",
            "         np.unique(self.full_label_train,return_counts=True): (array([0, 1, 2, 3, 4, 5, 6, 7, 8, 9], dtype=uint8),\n",
            "                                                               array([  710232,  1374508,    31550,   136800,   212701,    71804,\n",
            "                                                                       617076,      699,    66684, 64671486]))\n",
            "[@debug] dataset.py:224 in create_load()- self.class_n: 10\n",
            "[@debug] main.py:152 in preprocess()- self.paramsTrain.class_n: 10\n"
          ],
          "name": "stderr"
        },
        {
          "output_type": "stream",
          "text": [
            "=== SELECT VALIDATION SET FROM TRAIN SET\n"
          ],
          "name": "stdout"
        },
        {
          "output_type": "stream",
          "text": [
            "[@debug] main.py:160 in preprocess()- self.paramsTrain.val_set: True\n"
          ],
          "name": "stderr"
        },
        {
          "output_type": "stream",
          "text": [
            "[@debug] self.paramsTrain.val_set_mode = random\n"
          ],
          "name": "stdout"
        },
        {
          "output_type": "stream",
          "text": [
            "[@debug] dataset.py:402 in val_set_get()\n",
            "         self.patches['train']['n']: 4983\n",
            "         self.patches['val']['n']: 747\n",
            "[@debug] dataset.py:403 in val_set_get()\n",
            "         self.patches['train']['coords'].shape: (4983, 2)\n",
            "[@debug] dataset.py:412 in val_set_get()\n",
            "         self.patches['train']['coords'].shape: (4236, 2)\n",
            "[@debug] dataset.py:413 in val_set_get()\n",
            "         self.patches['val']['coords'].shape: (747, 2)\n",
            "[@debug] main.py:164 in preprocess()\n",
            "         self.data.patches['val']['coords'].shape: (747, 2)\n"
          ],
          "name": "stderr"
        },
        {
          "output_type": "stream",
          "text": [
            "=== AUGMENTING TRAINING DATA\n",
            "[@debug] label_type = Nto1\n",
            "Before balancing:\n",
            "data.semantic_balance\n"
          ],
          "name": "stdout"
        },
        {
          "output_type": "stream",
          "text": [
            "[@debug] dataset.py:439 in semantic_balance()\n",
            "         balance[\"coords\"].shape: (6300, 2)\n",
            "[@debug] dataset.py:443 in semantic_balance()\n",
            "         np.unique(self.full_label_train, return_counts = True): (array([0, 1, 2, 3, 4, 5, 6, 7, 8, 9], dtype=uint8),\n",
            "                                                                  array([  710232,  1374508,    31550,   136800,   212701,    71804,\n",
            "                                                                          617076,      699,    66684, 64671486]))\n",
            "[@debug] dataset.py:449 in semantic_balance()\n",
            "         coords_classes.shape: (4236, 10)\n",
            "[@debug] dataset.py:451 in semantic_balance()\n",
            "         unique_train: array([0, 1, 2, 3, 4, 5, 6, 7, 8, 9], dtype=uint8)\n",
            "[@debug] dataset.py:453 in semantic_balance()- bcknd_idx: 9\n",
            "[@debug] dataset.py:455 in semantic_balance()- psize: 32\n",
            "[@debug] dataset.py:468 in semantic_balance()\n",
            "         patch_count: array([1055., 1820.,   55.,  196.,  352.,  125.,  882.,    6.,  120.,\n",
            "                                0.])\n",
            "[@debug] dataset.py:474 in semantic_balance()\n",
            "         patch_count[clss]: 1055.0\n",
            "[@debug] dataset.py:478 in semantic_balance()- clss: 0\n",
            "[@debug] dataset.py:481 in semantic_balance()\n",
            "         idxs.shape: (4236,)\n",
            "         idxs.dtype: dtype('bool')\n",
            "[@debug] dataset.py:482 in semantic_balance()\n",
            "         np.unique(idxs, return_counts = True): (array([False,  True]), array([3181, 1055]))\n",
            "[@debug] dataset.py:487 in semantic_balance()\n",
            "         balance[\"class_coords\"].shape: (1055, 2)\n",
            "[@debug] dataset.py:488 in semantic_balance()- samples_per_class: 700\n"
          ],
          "name": "stderr"
        },
        {
          "output_type": "stream",
          "text": [
            "[@debug] clss = 0\n"
          ],
          "name": "stdout"
        },
        {
          "output_type": "stream",
          "text": [
            "[@debug] dataset.py:474 in semantic_balance()\n",
            "         patch_count[clss]: 1820.0\n",
            "[@debug] dataset.py:478 in semantic_balance()- clss: 1\n",
            "[@debug] dataset.py:481 in semantic_balance()\n",
            "         idxs.shape: (4236,)\n",
            "         idxs.dtype: dtype('bool')\n",
            "[@debug] dataset.py:482 in semantic_balance()\n",
            "         np.unique(idxs, return_counts = True): (array([False,  True]), array([2416, 1820]))\n",
            "[@debug] dataset.py:487 in semantic_balance()\n",
            "         balance[\"class_coords\"].shape: (1820, 2)\n",
            "[@debug] dataset.py:488 in semantic_balance()- samples_per_class: 700\n"
          ],
          "name": "stderr"
        },
        {
          "output_type": "stream",
          "text": [
            "[@debug] clss = 1\n"
          ],
          "name": "stdout"
        },
        {
          "output_type": "stream",
          "text": [
            "[@debug] dataset.py:474 in semantic_balance()- patch_count[clss]: 55.0\n",
            "[@debug] dataset.py:478 in semantic_balance()- clss: 2\n",
            "[@debug] dataset.py:481 in semantic_balance()\n",
            "         idxs.shape: (4236,)\n",
            "         idxs.dtype: dtype('bool')\n",
            "[@debug] dataset.py:482 in semantic_balance()\n",
            "         np.unique(idxs, return_counts = True): (array([False,  True]), array([4181,   55]))\n",
            "[@debug] dataset.py:487 in semantic_balance()\n",
            "         balance[\"class_coords\"].shape: (55, 2)\n",
            "[@debug] dataset.py:488 in semantic_balance()- samples_per_class: 700\n"
          ],
          "name": "stderr"
        },
        {
          "output_type": "stream",
          "text": [
            "[@debug] clss = 2\n"
          ],
          "name": "stdout"
        },
        {
          "output_type": "stream",
          "text": [
            "[@debug] dataset.py:474 in semantic_balance()\n",
            "         patch_count[clss]: 196.0\n",
            "[@debug] dataset.py:478 in semantic_balance()- clss: 3\n",
            "[@debug] dataset.py:481 in semantic_balance()\n",
            "         idxs.shape: (4236,)\n",
            "         idxs.dtype: dtype('bool')\n",
            "[@debug] dataset.py:482 in semantic_balance()\n",
            "         np.unique(idxs, return_counts = True): (array([False,  True]), array([4040,  196]))\n",
            "[@debug] dataset.py:487 in semantic_balance()\n",
            "         balance[\"class_coords\"].shape: (196, 2)\n",
            "[@debug] dataset.py:488 in semantic_balance()- samples_per_class: 700\n"
          ],
          "name": "stderr"
        },
        {
          "output_type": "stream",
          "text": [
            "[@debug] clss = 3\n"
          ],
          "name": "stdout"
        },
        {
          "output_type": "stream",
          "text": [
            "[@debug] dataset.py:474 in semantic_balance()\n",
            "         patch_count[clss]: 352.0\n",
            "[@debug] dataset.py:478 in semantic_balance()- clss: 4\n",
            "[@debug] dataset.py:481 in semantic_balance()\n",
            "         idxs.shape: (4236,)\n",
            "         idxs.dtype: dtype('bool')\n",
            "[@debug] dataset.py:482 in semantic_balance()\n",
            "         np.unique(idxs, return_counts = True): (array([False,  True]), array([3884,  352]))\n",
            "[@debug] dataset.py:487 in semantic_balance()\n",
            "         balance[\"class_coords\"].shape: (352, 2)\n",
            "[@debug] dataset.py:488 in semantic_balance()- samples_per_class: 700\n"
          ],
          "name": "stderr"
        },
        {
          "output_type": "stream",
          "text": [
            "[@debug] clss = 4\n"
          ],
          "name": "stdout"
        },
        {
          "output_type": "stream",
          "text": [
            "[@debug] dataset.py:474 in semantic_balance()\n",
            "         patch_count[clss]: 125.0\n",
            "[@debug] dataset.py:478 in semantic_balance()- clss: 5\n",
            "[@debug] dataset.py:481 in semantic_balance()\n",
            "         idxs.shape: (4236,)\n",
            "         idxs.dtype: dtype('bool')\n",
            "[@debug] dataset.py:482 in semantic_balance()\n",
            "         np.unique(idxs, return_counts = True): (array([False,  True]), array([4111,  125]))\n",
            "[@debug] dataset.py:487 in semantic_balance()\n",
            "         balance[\"class_coords\"].shape: (125, 2)\n",
            "[@debug] dataset.py:488 in semantic_balance()- samples_per_class: 700\n"
          ],
          "name": "stderr"
        },
        {
          "output_type": "stream",
          "text": [
            "[@debug] clss = 5\n"
          ],
          "name": "stdout"
        },
        {
          "output_type": "stream",
          "text": [
            "[@debug] dataset.py:474 in semantic_balance()\n",
            "         patch_count[clss]: 882.0\n",
            "[@debug] dataset.py:478 in semantic_balance()- clss: 6\n",
            "[@debug] dataset.py:481 in semantic_balance()\n",
            "         idxs.shape: (4236,)\n",
            "         idxs.dtype: dtype('bool')\n",
            "[@debug] dataset.py:482 in semantic_balance()\n",
            "         np.unique(idxs, return_counts = True): (array([False,  True]), array([3354,  882]))\n",
            "[@debug] dataset.py:487 in semantic_balance()\n",
            "         balance[\"class_coords\"].shape: (882, 2)\n",
            "[@debug] dataset.py:488 in semantic_balance()- samples_per_class: 700\n"
          ],
          "name": "stderr"
        },
        {
          "output_type": "stream",
          "text": [
            "[@debug] clss = 6\n"
          ],
          "name": "stdout"
        },
        {
          "output_type": "stream",
          "text": [
            "[@debug] dataset.py:474 in semantic_balance()- patch_count[clss]: 6.0\n",
            "[@debug] dataset.py:478 in semantic_balance()- clss: 7\n",
            "[@debug] dataset.py:481 in semantic_balance()\n",
            "         idxs.shape: (4236,)\n",
            "         idxs.dtype: dtype('bool')\n",
            "[@debug] dataset.py:482 in semantic_balance()\n",
            "         np.unique(idxs, return_counts = True): (array([False,  True]), array([4230,    6]))\n",
            "[@debug] dataset.py:487 in semantic_balance()\n",
            "         balance[\"class_coords\"].shape: (6, 2)\n",
            "[@debug] dataset.py:488 in semantic_balance()- samples_per_class: 700\n"
          ],
          "name": "stderr"
        },
        {
          "output_type": "stream",
          "text": [
            "[@debug] clss = 7\n"
          ],
          "name": "stdout"
        },
        {
          "output_type": "stream",
          "text": [
            "[@debug] dataset.py:474 in semantic_balance()\n",
            "         patch_count[clss]: 120.0\n",
            "[@debug] dataset.py:478 in semantic_balance()- clss: 8\n",
            "[@debug] dataset.py:481 in semantic_balance()\n",
            "         idxs.shape: (4236,)\n",
            "         idxs.dtype: dtype('bool')\n",
            "[@debug] dataset.py:482 in semantic_balance()\n",
            "         np.unique(idxs, return_counts = True): (array([False,  True]), array([4116,  120]))\n",
            "[@debug] dataset.py:487 in semantic_balance()\n",
            "         balance[\"class_coords\"].shape: (120, 2)\n",
            "[@debug] dataset.py:488 in semantic_balance()- samples_per_class: 700\n"
          ],
          "name": "stderr"
        },
        {
          "output_type": "stream",
          "text": [
            "[@debug] clss = 8\n",
            "Balanced train unique (coords):\n",
            "[@debug] self.patches['train']['coords'].shape = (6300, 2)\n",
            "[@debug] self.data.patches['train']['coords'].shape = (6300, 2)\n",
            "Initializing object...\n",
            "12 2\n",
            "[@debug] self.channel_n = 2\n",
            "[@debug] self.t_len = 12\n",
            "Initializing Model instance\n",
            "[@debug] self.mp = {'dense': {'recurrent_filters': 128, 'nb_dense_block': 2, 'growth_rate': 64, 'nb_layers_per_block': 1}, 'unet': {'recurrent_filters': 128, 'filter_size': 16}, 'atrous': {'recurrent_filters': 128, 'filter_size': 16, 'dilation_rate_mode': 'auto', 'dilation_rates': [1, 2, 4, 8]}}\n",
            "[@debug] self.stop_epoch = 400\n"
          ],
          "name": "stdout"
        },
        {
          "output_type": "stream",
          "text": [
            "[@debug] main.py:133 in setModel()\n",
            "         self.model.name: PosixPath('../results/convlstm_results/model/lm/../results/convlstm_results/model/lm/model_best_UUnetConvLSTM_mar_lm_nomode.h5')\n",
            "[@debug] main.py:135 in setModel()- self.model.class_n: 9\n",
            "[@debug] main.py:136 in setModel()- self.data.class_n: 10\n"
          ],
          "name": "stderr"
        },
        {
          "output_type": "stream",
          "text": [
            "[@debug] self.data.class_n = 10\n",
            "[@debug] self.t_len = 12\n",
            "[@debug] self.model_t_len = 12\n",
            "[@debug] K.int_shape(x) = (None, 12, 8, 8, 64)\n",
            "[@debug] K.int_shape(res2) = (None, 8, 8, 64)\n",
            "[@debug] K.int_shape(p3) = (None, 8, 8, 64)\n",
            "[@debug] K.int_shape(d3) = (None, 8, 8, 64)\n",
            "[@debug] K.int_shape(x) = (None, 12, 16, 16, 32)\n",
            "[@debug] K.int_shape(res2) = (None, 16, 16, 32)\n",
            "[@debug] K.int_shape(p2) = (None, 16, 16, 32)\n",
            "[@debug] K.int_shape(d2) = (None, 16, 16, 32)\n",
            "[@debug] K.int_shape(x) = (None, 12, 32, 32, 16)\n",
            "[@debug] K.int_shape(res2) = (None, 32, 32, 16)\n",
            "[@debug] K.int_shape(p1) = (None, 32, 32, 16)\n",
            "[@debug] K.int_shape(d1) = (None, 32, 32, 16)\n",
            "Model: \"model\"\n",
            "__________________________________________________________________________________________________\n",
            "Layer (type)                    Output Shape         Param #     Connected to                     \n",
            "==================================================================================================\n",
            "input_1 (InputLayer)            [(None, 12, 32, 32,  0                                            \n",
            "__________________________________________________________________________________________________\n",
            "time_distributed (TimeDistribut (None, 12, 32, 32, 1 304         input_1[0][0]                    \n",
            "__________________________________________________________________________________________________\n",
            "batch_normalization (BatchNorma (None, 12, 32, 32, 1 64          time_distributed[0][0]           \n",
            "__________________________________________________________________________________________________\n",
            "activation (Activation)         (None, 12, 32, 32, 1 0           batch_normalization[0][0]        \n",
            "__________________________________________________________________________________________________\n",
            "time_distributed_1 (TimeDistrib (None, 12, 32, 32, 1 2320        activation[0][0]                 \n",
            "__________________________________________________________________________________________________\n",
            "batch_normalization_1 (BatchNor (None, 12, 32, 32, 1 64          time_distributed_1[0][0]         \n",
            "__________________________________________________________________________________________________\n",
            "activation_1 (Activation)       (None, 12, 32, 32, 1 0           batch_normalization_1[0][0]      \n",
            "__________________________________________________________________________________________________\n",
            "time_distributed_2 (TimeDistrib (None, 12, 16, 16, 1 0           activation_1[0][0]               \n",
            "__________________________________________________________________________________________________\n",
            "time_distributed_3 (TimeDistrib (None, 12, 16, 16, 3 4640        time_distributed_2[0][0]         \n",
            "__________________________________________________________________________________________________\n",
            "batch_normalization_2 (BatchNor (None, 12, 16, 16, 3 128         time_distributed_3[0][0]         \n",
            "__________________________________________________________________________________________________\n",
            "activation_2 (Activation)       (None, 12, 16, 16, 3 0           batch_normalization_2[0][0]      \n",
            "__________________________________________________________________________________________________\n",
            "time_distributed_4 (TimeDistrib (None, 12, 8, 8, 32) 0           activation_2[0][0]               \n",
            "__________________________________________________________________________________________________\n",
            "time_distributed_5 (TimeDistrib (None, 12, 8, 8, 64) 18496       time_distributed_4[0][0]         \n",
            "__________________________________________________________________________________________________\n",
            "batch_normalization_3 (BatchNor (None, 12, 8, 8, 64) 256         time_distributed_5[0][0]         \n",
            "__________________________________________________________________________________________________\n",
            "activation_3 (Activation)       (None, 12, 8, 8, 64) 0           batch_normalization_3[0][0]      \n",
            "__________________________________________________________________________________________________\n",
            "time_distributed_6 (TimeDistrib (None, 12, 4, 4, 64) 0           activation_3[0][0]               \n",
            "__________________________________________________________________________________________________\n",
            "conv_lst_m2d (ConvLSTM2D)       (None, 4, 4, 256)    2950144     time_distributed_6[0][0]         \n",
            "__________________________________________________________________________________________________\n",
            "conv2d_transpose (Conv2DTranspo (None, 8, 8, 64)     147520      conv_lst_m2d[0][0]               \n",
            "__________________________________________________________________________________________________\n",
            "batch_normalization_4 (BatchNor (None, 8, 8, 64)     256         conv2d_transpose[0][0]           \n",
            "__________________________________________________________________________________________________\n",
            "activation_4 (Activation)       (None, 8, 8, 64)     0           batch_normalization_4[0][0]      \n",
            "__________________________________________________________________________________________________\n",
            "lambda (Lambda)                 (None, 8, 8, 64)     0           activation_3[0][0]               \n",
            "__________________________________________________________________________________________________\n",
            "concatenate (Concatenate)       (None, 8, 8, 128)    0           activation_4[0][0]               \n",
            "                                                                 lambda[0][0]                     \n",
            "__________________________________________________________________________________________________\n",
            "conv2d_4 (Conv2D)               (None, 8, 8, 64)     73792       concatenate[0][0]                \n",
            "__________________________________________________________________________________________________\n",
            "batch_normalization_5 (BatchNor (None, 8, 8, 64)     256         conv2d_4[0][0]                   \n",
            "__________________________________________________________________________________________________\n",
            "activation_5 (Activation)       (None, 8, 8, 64)     0           batch_normalization_5[0][0]      \n",
            "__________________________________________________________________________________________________\n",
            "conv2d_transpose_1 (Conv2DTrans (None, 16, 16, 32)   18464       activation_5[0][0]               \n",
            "__________________________________________________________________________________________________\n",
            "batch_normalization_6 (BatchNor (None, 16, 16, 32)   128         conv2d_transpose_1[0][0]         \n",
            "__________________________________________________________________________________________________\n",
            "activation_6 (Activation)       (None, 16, 16, 32)   0           batch_normalization_6[0][0]      \n",
            "__________________________________________________________________________________________________\n",
            "lambda_1 (Lambda)               (None, 16, 16, 32)   0           activation_2[0][0]               \n",
            "__________________________________________________________________________________________________\n",
            "concatenate_1 (Concatenate)     (None, 16, 16, 64)   0           activation_6[0][0]               \n",
            "                                                                 lambda_1[0][0]                   \n",
            "__________________________________________________________________________________________________\n",
            "conv2d_5 (Conv2D)               (None, 16, 16, 32)   18464       concatenate_1[0][0]              \n",
            "__________________________________________________________________________________________________\n",
            "batch_normalization_7 (BatchNor (None, 16, 16, 32)   128         conv2d_5[0][0]                   \n",
            "__________________________________________________________________________________________________\n",
            "activation_7 (Activation)       (None, 16, 16, 32)   0           batch_normalization_7[0][0]      \n",
            "__________________________________________________________________________________________________\n",
            "conv2d_transpose_2 (Conv2DTrans (None, 32, 32, 16)   4624        activation_7[0][0]               \n",
            "__________________________________________________________________________________________________\n",
            "batch_normalization_8 (BatchNor (None, 32, 32, 16)   64          conv2d_transpose_2[0][0]         \n",
            "__________________________________________________________________________________________________\n",
            "activation_8 (Activation)       (None, 32, 32, 16)   0           batch_normalization_8[0][0]      \n",
            "__________________________________________________________________________________________________\n",
            "lambda_2 (Lambda)               (None, 32, 32, 16)   0           activation_1[0][0]               \n",
            "__________________________________________________________________________________________________\n",
            "concatenate_2 (Concatenate)     (None, 32, 32, 32)   0           activation_8[0][0]               \n",
            "                                                                 lambda_2[0][0]                   \n",
            "__________________________________________________________________________________________________\n",
            "conv2d_6 (Conv2D)               (None, 32, 32, 16)   4624        concatenate_2[0][0]              \n",
            "__________________________________________________________________________________________________\n",
            "batch_normalization_9 (BatchNor (None, 32, 32, 16)   64          conv2d_6[0][0]                   \n",
            "__________________________________________________________________________________________________\n",
            "activation_9 (Activation)       (None, 32, 32, 16)   0           batch_normalization_9[0][0]      \n",
            "__________________________________________________________________________________________________\n",
            "conv2d_7 (Conv2D)               (None, 32, 32, 9)    153         activation_9[0][0]               \n",
            "==================================================================================================\n",
            "Total params: 3,244,953\n",
            "Trainable params: 3,244,249\n",
            "Non-trainable params: 704\n",
            "__________________________________________________________________________________________________\n",
            "None\n"
          ],
          "name": "stdout"
        },
        {
          "output_type": "stream",
          "text": [
            "/usr/local/lib/python3.7/dist-packages/keras/optimizer_v2/optimizer_v2.py:356: UserWarning: The `lr` argument is deprecated, use `learning_rate` instead.\n",
            "  \"The `lr` argument is deprecated, use `learning_rate` instead.\")\n",
            "[@debug] model.py:243 in train()\n",
            "         data.patches['train']['coords'].shape: (6300, 2)\n",
            "[@debug] model.py:248 in train()- data.t_len: 12\n",
            "[@debug] model.py:249 in train()\n",
            "         data.full_ims_train.shape: (12, 8492, 7995, 2)\n",
            "[@debug] model.py:250 in train()- self.model_t_len: 12\n",
            "[@debug] dataset.py:386 in addPaddingToInput()\n",
            "         im.shape: (12, 8492, 7995, 2)\n",
            "[@debug] model.py:256 in train()\n",
            "         data.full_ims_train.shape: (12, 8492, 7995, 2)\n",
            "[@debug] model.py:259 in train()\n",
            "         self.name: PosixPath('../results/convlstm_results/model/lm/../results/convlstm_results/model/lm/model_best_UUnetConvLSTM_mar_lm_nomode.h5')\n",
            "[@debug] model.py:314 in applyFitMethod()- self.class_n: 9\n",
            "[@debug] model.py:333 in applyFitMethod()\n",
            "         data.patches['train']['coords'].shape: (6300, 2)\n",
            "[@debug] model.py:334 in applyFitMethod()\n",
            "         data.patches['train']['coords'][0:16]: array([[5744, 1488],\n",
            "                                                       [5552, 2032],\n",
            "                                                       [5328, 3440],\n",
            "                                                       [6544, 1392],\n",
            "                                                       [5712, 1456],\n",
            "                                                       [4080, 3472],\n",
            "                                                       [6992, 2000],\n",
            "                                                       [2928, 2224],\n",
            "                                                       [ 432, 6160],\n",
            "                                                       [5680, 1456],\n",
            "                                                       [5680, 1488],\n",
            "                                                       [2288, 4976],\n",
            "                                                       [3984, 7664],\n",
            "                                                       [ 688, 5808],\n",
            "                                                       [5680, 1456],\n",
            "                                                       [1616, 4624]])\n",
            "[@debug] model.py:335 in applyFitMethod()\n",
            "         data.patches['val']['coords'][0:16]: array([[4048, 7472],\n",
            "                                                     [ 528, 6256],\n",
            "                                                     [ 496, 6288],\n",
            "                                                     [3632, 2736],\n",
            "                                                     [3536, 4464],\n",
            "                                                     [ 944, 5520],\n",
            "                                                     [7344,  976],\n",
            "                                                     [1776, 4240],\n",
            "                                                     [7344, 1040],\n",
            "                                                     [4752, 1808],\n",
            "                                                     [7824,  848],\n",
            "                                                     [3440, 5040],\n",
            "                                                     [4368, 3472],\n",
            "                                                     [3600, 2992],\n",
            "                                                     [1488, 4368],\n",
            "                                                     [4048, 3664]])\n",
            "[@debug] generator.py:170 in __init__()- self.batch_size: 16\n",
            "[@debug] generator.py:172 in __init__()- self.patch_size: 32\n",
            "[@debug] generator.py:170 in __init__()- self.batch_size: 16\n",
            "[@debug] generator.py:172 in __init__()- self.patch_size: 32\n",
            "[@debug] model.py:348 in applyFitMethod()\n",
            "         data.patches['val']['coords'].shape: (747, 2)\n",
            "[@debug] model.py:349 in applyFitMethod()\n",
            "         data.patches['val']['coords']: array([[4048, 7472],\n",
            "                                               [ 528, 6256],\n",
            "                                               [ 496, 6288],\n",
            "                                               ...,\n",
            "                                               [4304, 6416],\n",
            "                                               [1776, 4048],\n",
            "                                               [3024, 2096]])\n",
            "[@debug] generator.py:192 in __len__()- n_batches: 46\n",
            "[@debug] generator.py:192 in __len__()- n_batches: 393\n"
          ],
          "name": "stderr"
        },
        {
          "output_type": "stream",
          "text": [
            "Epoch 1/70\n"
          ],
          "name": "stdout"
        },
        {
          "output_type": "stream",
          "text": [
            "[@debug] generator.py:192 in __len__()- n_batches: 393\n"
          ],
          "name": "stderr"
        },
        {
          "output_type": "stream",
          "text": [
            "393/393 [==============================] - ETA: 0s - loss: 0.2301 - accuracy: 0.1076"
          ],
          "name": "stdout"
        },
        {
          "output_type": "stream",
          "text": [
            "[@debug] generator.py:192 in __len__()- n_batches: 46\n",
            "[@debug] generator.py:192 in __len__()- n_batches: 46\n",
            "[@debug] generator.py:192 in __len__()- n_batches: 46\n"
          ],
          "name": "stderr"
        },
        {
          "output_type": "stream",
          "text": [
            "393/393 [==============================] - 83s 149ms/step - loss: 0.2301 - accuracy: 0.1076 - val_loss: 0.1941 - val_accuracy: 0.2496\n"
          ],
          "name": "stdout"
        },
        {
          "output_type": "stream",
          "text": [
            "[@debug] generator.py:192 in __len__()- n_batches: 46\n",
            "/usr/local/lib/python3.7/dist-packages/sklearn/metrics/_classification.py:1272: UndefinedMetricWarning: Recall is ill-defined and being set to 0.0 in labels with no true samples. Use `zero_division` parameter to control this behavior.\n",
            "  _warn_prf(average, modifier, msg_start, len(result))\n"
          ],
          "name": "stderr"
        },
        {
          "output_type": "stream",
          "text": [
            " — val_f1: [60.02 77.99  3.3  28.71 27.76 66.42 55.85  0.   22.79]\n",
            " — val_precision: [56.1  92.6   2.19 20.19 52.49 59.86 51.3   0.   18.73]\n",
            " — val_recall: [64.54 67.36  6.73 49.67 18.87 74.61 61.29  0.   29.11]\n",
            " — mean_f1: 38.093333333333334\n",
            "oa 60.26\n",
            "Found best weights at epoch 1\n",
            "Epoch 2/70\n"
          ],
          "name": "stdout"
        },
        {
          "output_type": "stream",
          "text": [
            "[@debug] generator.py:192 in __len__()- n_batches: 393\n"
          ],
          "name": "stderr"
        },
        {
          "output_type": "stream",
          "text": [
            "393/393 [==============================] - ETA: 0s - loss: 0.1609 - accuracy: 0.1409"
          ],
          "name": "stdout"
        },
        {
          "output_type": "stream",
          "text": [
            "[@debug] generator.py:192 in __len__()- n_batches: 46\n",
            "[@debug] generator.py:192 in __len__()- n_batches: 46\n"
          ],
          "name": "stderr"
        },
        {
          "output_type": "stream",
          "text": [
            "393/393 [==============================] - 56s 142ms/step - loss: 0.1609 - accuracy: 0.1409 - val_loss: 0.1309 - val_accuracy: 0.1688\n"
          ],
          "name": "stdout"
        },
        {
          "output_type": "stream",
          "text": [
            "[@debug] generator.py:192 in __len__()- n_batches: 46\n"
          ],
          "name": "stderr"
        },
        {
          "output_type": "stream",
          "text": [
            " — val_f1: [71.38 91.3  36.3  49.38 66.82 79.53 65.91 34.34]\n",
            " — val_precision: [79.89 90.85 24.92 38.05 69.53 72.28 69.74 29.88]\n",
            " — val_recall: [64.51 91.75 66.77 70.32 64.31 88.41 62.48 40.36]\n",
            " — mean_f1: 54.99555555555556\n",
            "oa 76.29\n",
            "Found best weights at epoch 2\n",
            "Epoch 3/70\n"
          ],
          "name": "stdout"
        },
        {
          "output_type": "stream",
          "text": [
            "[@debug] generator.py:192 in __len__()- n_batches: 393\n"
          ],
          "name": "stderr"
        },
        {
          "output_type": "stream",
          "text": [
            "393/393 [==============================] - ETA: 0s - loss: 0.1277 - accuracy: 0.1347"
          ],
          "name": "stdout"
        },
        {
          "output_type": "stream",
          "text": [
            "[@debug] generator.py:192 in __len__()- n_batches: 46\n",
            "[@debug] generator.py:192 in __len__()- n_batches: 46\n"
          ],
          "name": "stderr"
        },
        {
          "output_type": "stream",
          "text": [
            "393/393 [==============================] - 56s 141ms/step - loss: 0.1277 - accuracy: 0.1347 - val_loss: 0.1166 - val_accuracy: 0.1542\n"
          ],
          "name": "stdout"
        },
        {
          "output_type": "stream",
          "text": [
            "[@debug] generator.py:192 in __len__()- n_batches: 46\n"
          ],
          "name": "stderr"
        },
        {
          "output_type": "stream",
          "text": [
            " — val_f1: [73.57 92.64 51.76 66.34 70.02 75.23 69.19 35.79]\n",
            " — val_precision: [85.35 92.24 35.92 54.13 76.83 62.77 72.22 25.32]\n",
            " — val_recall: [64.65 93.04 92.59 85.68 64.33 93.88 66.4  61.05]\n",
            " — mean_f1: 59.39333333333333\n",
            "oa 78.97\n",
            "Found best weights at epoch 3\n",
            "Epoch 4/70\n"
          ],
          "name": "stdout"
        },
        {
          "output_type": "stream",
          "text": [
            "[@debug] generator.py:192 in __len__()- n_batches: 393\n"
          ],
          "name": "stderr"
        },
        {
          "output_type": "stream",
          "text": [
            "393/393 [==============================] - ETA: 0s - loss: 0.1045 - accuracy: 0.1360"
          ],
          "name": "stdout"
        },
        {
          "output_type": "stream",
          "text": [
            "[@debug] generator.py:192 in __len__()- n_batches: 46\n",
            "[@debug] generator.py:192 in __len__()- n_batches: 46\n"
          ],
          "name": "stderr"
        },
        {
          "output_type": "stream",
          "text": [
            "393/393 [==============================] - 56s 141ms/step - loss: 0.1045 - accuracy: 0.1360 - val_loss: 0.0980 - val_accuracy: 0.1647\n"
          ],
          "name": "stdout"
        },
        {
          "output_type": "stream",
          "text": [
            "[@debug] generator.py:192 in __len__()- n_batches: 46\n"
          ],
          "name": "stderr"
        },
        {
          "output_type": "stream",
          "text": [
            " — val_f1: [74.94 93.31 55.39 70.28 79.16 84.42 74.1  54.55]\n",
            " — val_precision: [84.57 92.63 38.62 58.86 83.33 75.25 76.45 42.54]\n",
            " — val_recall: [67.28 94.   97.89 87.2  75.39 96.14 71.9  76.02]\n",
            " — mean_f1: 65.12777777777778\n",
            "oa 82.21\n",
            "Found best weights at epoch 4\n",
            "Epoch 5/70\n"
          ],
          "name": "stdout"
        },
        {
          "output_type": "stream",
          "text": [
            "[@debug] generator.py:192 in __len__()- n_batches: 393\n"
          ],
          "name": "stderr"
        },
        {
          "output_type": "stream",
          "text": [
            "393/393 [==============================] - ETA: 0s - loss: 0.0891 - accuracy: 0.1382"
          ],
          "name": "stdout"
        },
        {
          "output_type": "stream",
          "text": [
            "[@debug] generator.py:192 in __len__()- n_batches: 46\n",
            "[@debug] generator.py:192 in __len__()- n_batches: 46\n"
          ],
          "name": "stderr"
        },
        {
          "output_type": "stream",
          "text": [
            "393/393 [==============================] - 56s 141ms/step - loss: 0.0891 - accuracy: 0.1382 - val_loss: 0.0918 - val_accuracy: 0.1618\n"
          ],
          "name": "stdout"
        },
        {
          "output_type": "stream",
          "text": [
            "[@debug] generator.py:192 in __len__()- n_batches: 46\n"
          ],
          "name": "stderr"
        },
        {
          "output_type": "stream",
          "text": [
            " — val_f1: [76.13 93.44 59.4  71.93 80.38 82.55 74.38  0.   59.71]\n",
            " — val_precision: [86.54 92.21 42.44 58.47 86.65 71.87 77.74  0.   46.09]\n",
            " — val_recall: [67.96 94.71 98.95 93.46 74.95 96.94 71.3   0.   84.74]\n",
            " — mean_f1: 66.43555555555557\n",
            "oa 82.93\n",
            "Found best weights at epoch 5\n",
            "Epoch 6/70\n"
          ],
          "name": "stdout"
        },
        {
          "output_type": "stream",
          "text": [
            "[@debug] generator.py:192 in __len__()- n_batches: 393\n"
          ],
          "name": "stderr"
        },
        {
          "output_type": "stream",
          "text": [
            "393/393 [==============================] - ETA: 0s - loss: 0.0783 - accuracy: 0.1398"
          ],
          "name": "stdout"
        },
        {
          "output_type": "stream",
          "text": [
            "[@debug] generator.py:192 in __len__()- n_batches: 46\n",
            "[@debug] generator.py:192 in __len__()- n_batches: 46\n"
          ],
          "name": "stderr"
        },
        {
          "output_type": "stream",
          "text": [
            "393/393 [==============================] - 56s 141ms/step - loss: 0.0783 - accuracy: 0.1398 - val_loss: 0.0792 - val_accuracy: 0.1700\n"
          ],
          "name": "stdout"
        },
        {
          "output_type": "stream",
          "text": [
            "[@debug] generator.py:192 in __len__()- n_batches: 46\n"
          ],
          "name": "stderr"
        },
        {
          "output_type": "stream",
          "text": [
            " — val_f1: [78.97 94.28 75.91 73.9  81.8  83.54 78.3   0.   65.22]\n",
            " — val_precision: [87.45 93.51 61.55 61.39 88.19 73.24 78.58  0.   53.68]\n",
            " — val_recall: [71.99 95.06 99.   92.8  76.27 97.2  78.02  0.   83.09]\n",
            " — mean_f1: 70.21333333333334\n",
            "oa 85.27\n",
            "Found best weights at epoch 6\n",
            "Epoch 7/70\n"
          ],
          "name": "stdout"
        },
        {
          "output_type": "stream",
          "text": [
            "[@debug] generator.py:192 in __len__()- n_batches: 393\n"
          ],
          "name": "stderr"
        },
        {
          "output_type": "stream",
          "text": [
            "393/393 [==============================] - ETA: 0s - loss: 0.0696 - accuracy: 0.1405"
          ],
          "name": "stdout"
        },
        {
          "output_type": "stream",
          "text": [
            "[@debug] generator.py:192 in __len__()- n_batches: 46\n",
            "[@debug] generator.py:192 in __len__()- n_batches: 46\n"
          ],
          "name": "stderr"
        },
        {
          "output_type": "stream",
          "text": [
            "393/393 [==============================] - 55s 140ms/step - loss: 0.0696 - accuracy: 0.1405 - val_loss: 0.0709 - val_accuracy: 0.1857\n"
          ],
          "name": "stdout"
        },
        {
          "output_type": "stream",
          "text": [
            "[@debug] generator.py:192 in __len__()- n_batches: 46\n"
          ],
          "name": "stderr"
        },
        {
          "output_type": "stream",
          "text": [
            " — val_f1: [81.89 94.72 78.9  76.04 82.86 88.15 81.02  0.   67.72]\n",
            " — val_precision: [87.78 93.39 71.29 63.52 87.61 80.55 83.22  0.   58.23]\n",
            " — val_recall: [76.75 96.08 88.33 94.7  78.6  97.32 78.92  0.   80.9 ]\n",
            " — mean_f1: 72.36666666666666\n",
            "oa 87.0\n",
            "Found best weights at epoch 7\n",
            "Epoch 8/70\n"
          ],
          "name": "stdout"
        },
        {
          "output_type": "stream",
          "text": [
            "[@debug] generator.py:192 in __len__()- n_batches: 393\n"
          ],
          "name": "stderr"
        },
        {
          "output_type": "stream",
          "text": [
            "393/393 [==============================] - ETA: 0s - loss: 0.0625 - accuracy: 0.1418"
          ],
          "name": "stdout"
        },
        {
          "output_type": "stream",
          "text": [
            "[@debug] generator.py:192 in __len__()- n_batches: 46\n",
            "[@debug] generator.py:192 in __len__()- n_batches: 46\n"
          ],
          "name": "stderr"
        },
        {
          "output_type": "stream",
          "text": [
            "393/393 [==============================] - 55s 140ms/step - loss: 0.0625 - accuracy: 0.1418 - val_loss: 0.0642 - val_accuracy: 0.1930\n"
          ],
          "name": "stdout"
        },
        {
          "output_type": "stream",
          "text": [
            "[@debug] generator.py:192 in __len__()- n_batches: 46\n"
          ],
          "name": "stderr"
        },
        {
          "output_type": "stream",
          "text": [
            " — val_f1: [83.9  96.09 68.32 81.82 85.62 91.67 84.5   0.   75.  ]\n",
            " — val_precision: [88.78 96.3  68.68 71.51 88.86 86.28 82.14  0.   68.19]\n",
            " — val_recall: [79.53 95.88 67.96 95.62 82.61 97.78 87.01  0.   83.31]\n",
            " — mean_f1: 74.10222222222222\n",
            "oa 89.14\n",
            "Found best weights at epoch 8\n",
            "Epoch 9/70\n"
          ],
          "name": "stdout"
        },
        {
          "output_type": "stream",
          "text": [
            "[@debug] generator.py:192 in __len__()- n_batches: 393\n"
          ],
          "name": "stderr"
        },
        {
          "output_type": "stream",
          "text": [
            "393/393 [==============================] - ETA: 0s - loss: 0.0566 - accuracy: 0.1425"
          ],
          "name": "stdout"
        },
        {
          "output_type": "stream",
          "text": [
            "[@debug] generator.py:192 in __len__()- n_batches: 46\n",
            "[@debug] generator.py:192 in __len__()- n_batches: 46\n"
          ],
          "name": "stderr"
        },
        {
          "output_type": "stream",
          "text": [
            "393/393 [==============================] - 55s 141ms/step - loss: 0.0566 - accuracy: 0.1425 - val_loss: 0.0624 - val_accuracy: 0.1895\n"
          ],
          "name": "stdout"
        },
        {
          "output_type": "stream",
          "text": [
            "[@debug] generator.py:192 in __len__()- n_batches: 46\n"
          ],
          "name": "stderr"
        },
        {
          "output_type": "stream",
          "text": [
            " — val_f1: [84.35 95.92 79.13 81.62 87.36 92.41 84.33  0.   80.51]\n",
            " — val_precision: [89.87 96.6  77.38 71.38 87.38 87.58 81.    0.   79.38]\n",
            " — val_recall: [79.47 95.24 80.96 95.28 87.34 97.81 87.95  0.   81.68]\n",
            " — mean_f1: 76.1811111111111\n",
            "oa 89.48\n",
            "Found best weights at epoch 9\n",
            "Epoch 10/70\n"
          ],
          "name": "stdout"
        },
        {
          "output_type": "stream",
          "text": [
            "[@debug] generator.py:192 in __len__()- n_batches: 393\n"
          ],
          "name": "stderr"
        },
        {
          "output_type": "stream",
          "text": [
            "393/393 [==============================] - ETA: 0s - loss: 0.0518 - accuracy: 0.1441"
          ],
          "name": "stdout"
        },
        {
          "output_type": "stream",
          "text": [
            "[@debug] generator.py:192 in __len__()- n_batches: 46\n",
            "[@debug] generator.py:192 in __len__()- n_batches: 46\n"
          ],
          "name": "stderr"
        },
        {
          "output_type": "stream",
          "text": [
            "393/393 [==============================] - 55s 140ms/step - loss: 0.0518 - accuracy: 0.1441 - val_loss: 0.0575 - val_accuracy: 0.2049\n"
          ],
          "name": "stdout"
        },
        {
          "output_type": "stream",
          "text": [
            "[@debug] generator.py:192 in __len__()- n_batches: 46\n"
          ],
          "name": "stderr"
        },
        {
          "output_type": "stream",
          "text": [
            " — val_f1: [88.07 96.52 74.75 81.67 90.17 92.45 88.83  0.   82.26]\n",
            " — val_precision: [89.99 97.07 76.18 70.48 91.73 87.31 89.    0.   79.41]\n",
            " — val_recall: [86.23 95.97 73.37 97.07 88.67 98.24 88.67  0.   85.33]\n",
            " — mean_f1: 77.19111111111111\n",
            "oa 91.56\n",
            "Found best weights at epoch 10\n",
            "Epoch 11/70\n"
          ],
          "name": "stdout"
        },
        {
          "output_type": "stream",
          "text": [
            "[@debug] generator.py:192 in __len__()- n_batches: 393\n"
          ],
          "name": "stderr"
        },
        {
          "output_type": "stream",
          "text": [
            "393/393 [==============================] - ETA: 0s - loss: 0.0478 - accuracy: 0.1449"
          ],
          "name": "stdout"
        },
        {
          "output_type": "stream",
          "text": [
            "[@debug] generator.py:192 in __len__()- n_batches: 46\n",
            "[@debug] generator.py:192 in __len__()- n_batches: 46\n"
          ],
          "name": "stderr"
        },
        {
          "output_type": "stream",
          "text": [
            "393/393 [==============================] - 55s 140ms/step - loss: 0.0478 - accuracy: 0.1449 - val_loss: 0.0557 - val_accuracy: 0.2157\n"
          ],
          "name": "stdout"
        },
        {
          "output_type": "stream",
          "text": [
            "[@debug] generator.py:192 in __len__()- n_batches: 46\n"
          ],
          "name": "stderr"
        },
        {
          "output_type": "stream",
          "text": [
            " — val_f1: [88.71 96.58 84.12 81.46 89.6  90.96 88.58  0.   82.01]\n",
            " — val_precision: [88.77 97.45 75.31 70.11 91.23 85.06 91.    0.   83.17]\n",
            " — val_recall: [88.64 95.72 95.27 97.19 88.03 97.75 86.29  0.   80.88]\n",
            " — mean_f1: 78.00222222222222\n",
            "oa 91.69\n",
            "Found best weights at epoch 11\n",
            "Epoch 12/70\n"
          ],
          "name": "stdout"
        },
        {
          "output_type": "stream",
          "text": [
            "[@debug] generator.py:192 in __len__()- n_batches: 393\n"
          ],
          "name": "stderr"
        },
        {
          "output_type": "stream",
          "text": [
            "393/393 [==============================] - ETA: 0s - loss: 0.0437 - accuracy: 0.1470"
          ],
          "name": "stdout"
        },
        {
          "output_type": "stream",
          "text": [
            "[@debug] generator.py:192 in __len__()- n_batches: 46\n",
            "[@debug] generator.py:192 in __len__()- n_batches: 46\n"
          ],
          "name": "stderr"
        },
        {
          "output_type": "stream",
          "text": [
            "393/393 [==============================] - 55s 140ms/step - loss: 0.0437 - accuracy: 0.1470 - val_loss: 0.0522 - val_accuracy: 0.2069\n"
          ],
          "name": "stdout"
        },
        {
          "output_type": "stream",
          "text": [
            "[@debug] generator.py:192 in __len__()- n_batches: 46\n"
          ],
          "name": "stderr"
        },
        {
          "output_type": "stream",
          "text": [
            " — val_f1: [89.24 96.84 88.76 82.49 90.85 92.93 90.17  0.   82.14]\n",
            " — val_precision: [91.05 97.23 80.77 71.72 90.82 88.98 91.4   0.   83.7 ]\n",
            " — val_recall: [87.51 96.44 98.51 97.05 90.88 97.26 88.97  0.   80.63]\n",
            " — mean_f1: 79.26888888888888\n",
            "oa 92.47\n",
            "Found best weights at epoch 12\n",
            "Epoch 13/70\n"
          ],
          "name": "stdout"
        },
        {
          "output_type": "stream",
          "text": [
            "[@debug] generator.py:192 in __len__()- n_batches: 393\n"
          ],
          "name": "stderr"
        },
        {
          "output_type": "stream",
          "text": [
            "393/393 [==============================] - ETA: 0s - loss: 0.0410 - accuracy: 0.1490"
          ],
          "name": "stdout"
        },
        {
          "output_type": "stream",
          "text": [
            "[@debug] generator.py:192 in __len__()- n_batches: 46\n",
            "[@debug] generator.py:192 in __len__()- n_batches: 46\n"
          ],
          "name": "stderr"
        },
        {
          "output_type": "stream",
          "text": [
            "393/393 [==============================] - 55s 140ms/step - loss: 0.0410 - accuracy: 0.1490 - val_loss: 0.0508 - val_accuracy: 0.1961\n"
          ],
          "name": "stdout"
        },
        {
          "output_type": "stream",
          "text": [
            "[@debug] generator.py:192 in __len__()- n_batches: 46\n"
          ],
          "name": "stderr"
        },
        {
          "output_type": "stream",
          "text": [
            " — val_f1: [89.45 97.37 85.68 85.28 88.52 89.97 90.71  0.   79.45]\n",
            " — val_precision: [92.07 97.53 76.88 76.08 88.48 83.29 91.77  0.   77.89]\n",
            " — val_recall: [86.98 97.21 96.75 97.02 88.56 97.82 89.68  0.   81.08]\n",
            " — mean_f1: 78.49222222222222\n",
            "oa 92.65\n",
            "Epoch 14/70\n"
          ],
          "name": "stdout"
        },
        {
          "output_type": "stream",
          "text": [
            "[@debug] generator.py:192 in __len__()- n_batches: 393\n"
          ],
          "name": "stderr"
        },
        {
          "output_type": "stream",
          "text": [
            "393/393 [==============================] - ETA: 0s - loss: 0.0385 - accuracy: 0.1489"
          ],
          "name": "stdout"
        },
        {
          "output_type": "stream",
          "text": [
            "[@debug] generator.py:192 in __len__()- n_batches: 46\n",
            "[@debug] generator.py:192 in __len__()- n_batches: 46\n"
          ],
          "name": "stderr"
        },
        {
          "output_type": "stream",
          "text": [
            "393/393 [==============================] - 55s 140ms/step - loss: 0.0385 - accuracy: 0.1489 - val_loss: 0.0502 - val_accuracy: 0.2186\n"
          ],
          "name": "stdout"
        },
        {
          "output_type": "stream",
          "text": [
            "[@debug] generator.py:192 in __len__()- n_batches: 46\n"
          ],
          "name": "stderr"
        },
        {
          "output_type": "stream",
          "text": [
            " — val_f1: [90.49 97.41 80.87 84.51 89.62 94.   91.    0.   81.72]\n",
            " — val_precision: [89.58 98.53 72.31 74.77 88.68 91.   94.39  0.   80.23]\n",
            " — val_recall: [91.43 96.32 91.73 97.17 90.57 97.2  87.85  0.   83.27]\n",
            " — mean_f1: 78.84666666666666\n",
            "oa 93.02\n",
            "Epoch 15/70\n"
          ],
          "name": "stdout"
        },
        {
          "output_type": "stream",
          "text": [
            "[@debug] generator.py:192 in __len__()- n_batches: 393\n"
          ],
          "name": "stderr"
        },
        {
          "output_type": "stream",
          "text": [
            "393/393 [==============================] - ETA: 0s - loss: 0.0366 - accuracy: 0.1519"
          ],
          "name": "stdout"
        },
        {
          "output_type": "stream",
          "text": [
            "[@debug] generator.py:192 in __len__()- n_batches: 46\n",
            "[@debug] generator.py:192 in __len__()- n_batches: 46\n"
          ],
          "name": "stderr"
        },
        {
          "output_type": "stream",
          "text": [
            "393/393 [==============================] - 55s 139ms/step - loss: 0.0366 - accuracy: 0.1519 - val_loss: 0.0480 - val_accuracy: 0.2104\n"
          ],
          "name": "stdout"
        },
        {
          "output_type": "stream",
          "text": [
            "[@debug] generator.py:192 in __len__()- n_batches: 46\n"
          ],
          "name": "stderr"
        },
        {
          "output_type": "stream",
          "text": [
            " — val_f1: [90.92 97.56 86.29 83.75 90.08 92.58 91.96  0.   85.32]\n",
            " — val_precision: [91.41 98.07 78.45 73.7  91.18 87.3  94.21  0.   85.07]\n",
            " — val_recall: [90.43 97.06 95.86 96.99 89.01 98.54 89.81  0.   85.57]\n",
            " — mean_f1: 79.8288888888889\n",
            "oa 93.49\n",
            "Found best weights at epoch 15\n",
            "Epoch 16/70\n"
          ],
          "name": "stdout"
        },
        {
          "output_type": "stream",
          "text": [
            "[@debug] generator.py:192 in __len__()- n_batches: 393\n"
          ],
          "name": "stderr"
        },
        {
          "output_type": "stream",
          "text": [
            "393/393 [==============================] - ETA: 0s - loss: 0.0346 - accuracy: 0.1505"
          ],
          "name": "stdout"
        },
        {
          "output_type": "stream",
          "text": [
            "[@debug] generator.py:192 in __len__()- n_batches: 46\n",
            "[@debug] generator.py:192 in __len__()- n_batches: 46\n"
          ],
          "name": "stderr"
        },
        {
          "output_type": "stream",
          "text": [
            "393/393 [==============================] - 55s 140ms/step - loss: 0.0346 - accuracy: 0.1505 - val_loss: 0.0459 - val_accuracy: 0.2135\n"
          ],
          "name": "stdout"
        },
        {
          "output_type": "stream",
          "text": [
            "[@debug] generator.py:192 in __len__()- n_batches: 46\n"
          ],
          "name": "stderr"
        },
        {
          "output_type": "stream",
          "text": [
            " — val_f1: [90.69 97.94 91.55 83.97 91.24 95.44 91.88  0.   87.61]\n",
            " — val_precision: [91.13 98.53 84.8  73.92 90.43 93.7  93.67  0.   91.82]\n",
            " — val_recall: [90.25 97.37 99.46 97.19 92.07 97.25 90.16  0.   83.77]\n",
            " — mean_f1: 81.14666666666668\n",
            "oa 93.86\n",
            "Found best weights at epoch 16\n",
            "Epoch 17/70\n"
          ],
          "name": "stdout"
        },
        {
          "output_type": "stream",
          "text": [
            "[@debug] generator.py:192 in __len__()- n_batches: 393\n"
          ],
          "name": "stderr"
        },
        {
          "output_type": "stream",
          "text": [
            "393/393 [==============================] - ETA: 0s - loss: 0.0328 - accuracy: 0.1503"
          ],
          "name": "stdout"
        },
        {
          "output_type": "stream",
          "text": [
            "[@debug] generator.py:192 in __len__()- n_batches: 46\n",
            "[@debug] generator.py:192 in __len__()- n_batches: 46\n"
          ],
          "name": "stderr"
        },
        {
          "output_type": "stream",
          "text": [
            "393/393 [==============================] - 55s 139ms/step - loss: 0.0328 - accuracy: 0.1503 - val_loss: 0.0450 - val_accuracy: 0.2135\n"
          ],
          "name": "stdout"
        },
        {
          "output_type": "stream",
          "text": [
            "[@debug] generator.py:192 in __len__()- n_batches: 46\n"
          ],
          "name": "stderr"
        },
        {
          "output_type": "stream",
          "text": [
            " — val_f1: [92.12 97.49 84.52 86.21 91.81 93.53 92.04  0.   88.61]\n",
            " — val_precision: [91.42 98.27 78.45 77.66 92.12 89.63 94.47  0.   88.11]\n",
            " — val_recall: [92.82 96.73 91.61 96.88 91.5  97.79 89.74  0.   89.12]\n",
            " — mean_f1: 80.70333333333333\n",
            "oa 94.02\n",
            "Epoch 18/70\n"
          ],
          "name": "stdout"
        },
        {
          "output_type": "stream",
          "text": [
            "[@debug] generator.py:192 in __len__()- n_batches: 393\n"
          ],
          "name": "stderr"
        },
        {
          "output_type": "stream",
          "text": [
            "393/393 [==============================] - ETA: 0s - loss: 0.0318 - accuracy: 0.1525"
          ],
          "name": "stdout"
        },
        {
          "output_type": "stream",
          "text": [
            "[@debug] generator.py:192 in __len__()- n_batches: 46\n",
            "[@debug] generator.py:192 in __len__()- n_batches: 46\n"
          ],
          "name": "stderr"
        },
        {
          "output_type": "stream",
          "text": [
            "393/393 [==============================] - 55s 140ms/step - loss: 0.0318 - accuracy: 0.1525 - val_loss: 0.0448 - val_accuracy: 0.2091\n"
          ],
          "name": "stdout"
        },
        {
          "output_type": "stream",
          "text": [
            "[@debug] generator.py:192 in __len__()- n_batches: 46\n"
          ],
          "name": "stderr"
        },
        {
          "output_type": "stream",
          "text": [
            " — val_f1: [91.12 97.74 76.52 86.68 91.87 96.41 92.51  0.   85.13]\n",
            " — val_precision: [91.21 98.3  62.17 78.6  92.33 95.03 95.38  0.   84.63]\n",
            " — val_recall: [91.03 97.19 99.48 96.61 91.42 97.84 89.8   0.   85.64]\n",
            " — mean_f1: 79.77555555555556\n",
            "oa 93.86\n",
            "Epoch 19/70\n"
          ],
          "name": "stdout"
        },
        {
          "output_type": "stream",
          "text": [
            "[@debug] generator.py:192 in __len__()- n_batches: 393\n"
          ],
          "name": "stderr"
        },
        {
          "output_type": "stream",
          "text": [
            "393/393 [==============================] - ETA: 0s - loss: 0.0323 - accuracy: 0.1502"
          ],
          "name": "stdout"
        },
        {
          "output_type": "stream",
          "text": [
            "[@debug] generator.py:192 in __len__()- n_batches: 46\n",
            "[@debug] generator.py:192 in __len__()- n_batches: 46\n"
          ],
          "name": "stderr"
        },
        {
          "output_type": "stream",
          "text": [
            "393/393 [==============================] - 55s 140ms/step - loss: 0.0323 - accuracy: 0.1502 - val_loss: 0.0454 - val_accuracy: 0.2026\n"
          ],
          "name": "stdout"
        },
        {
          "output_type": "stream",
          "text": [
            "[@debug] generator.py:192 in __len__()- n_batches: 46\n"
          ],
          "name": "stderr"
        },
        {
          "output_type": "stream",
          "text": [
            " — val_f1: [88.65 97.32 90.58 86.31 91.07 97.24 89.54  0.   84.44]\n",
            " — val_precision: [90.73 96.82 83.29 79.27 90.05 97.17 90.96  0.   85.96]\n",
            " — val_recall: [86.67 97.83 99.27 94.72 92.11 97.31 88.17  0.   82.97]\n",
            " — mean_f1: 80.57222222222224\n",
            "oa 92.8\n",
            "Epoch 20/70\n"
          ],
          "name": "stdout"
        },
        {
          "output_type": "stream",
          "text": [
            "[@debug] generator.py:192 in __len__()- n_batches: 393\n"
          ],
          "name": "stderr"
        },
        {
          "output_type": "stream",
          "text": [
            "393/393 [==============================] - ETA: 0s - loss: 0.0306 - accuracy: 0.1522"
          ],
          "name": "stdout"
        },
        {
          "output_type": "stream",
          "text": [
            "[@debug] generator.py:192 in __len__()- n_batches: 46\n",
            "[@debug] generator.py:192 in __len__()- n_batches: 46\n"
          ],
          "name": "stderr"
        },
        {
          "output_type": "stream",
          "text": [
            "393/393 [==============================] - 55s 140ms/step - loss: 0.0306 - accuracy: 0.1522 - val_loss: 0.0408 - val_accuracy: 0.2172\n"
          ],
          "name": "stdout"
        },
        {
          "output_type": "stream",
          "text": [
            "[@debug] generator.py:192 in __len__()- n_batches: 46\n"
          ],
          "name": "stderr"
        },
        {
          "output_type": "stream",
          "text": [
            " — val_f1: [91.66 98.1  88.84 83.56 92.38 97.4  92.64  0.   85.78]\n",
            " — val_precision: [91.83 98.79 87.69 73.36 92.63 96.42 94.2   0.   84.08]\n",
            " — val_recall: [91.5  97.41 90.01 97.06 92.13 98.41 91.13  0.   87.54]\n",
            " — mean_f1: 81.1511111111111\n",
            "oa 94.3\n",
            "Found best weights at epoch 20\n",
            "Epoch 21/70\n"
          ],
          "name": "stdout"
        },
        {
          "output_type": "stream",
          "text": [
            "[@debug] generator.py:192 in __len__()- n_batches: 393\n"
          ],
          "name": "stderr"
        },
        {
          "output_type": "stream",
          "text": [
            "393/393 [==============================] - ETA: 0s - loss: 0.0281 - accuracy: 0.1535"
          ],
          "name": "stdout"
        },
        {
          "output_type": "stream",
          "text": [
            "[@debug] generator.py:192 in __len__()- n_batches: 46\n",
            "[@debug] generator.py:192 in __len__()- n_batches: 46\n"
          ],
          "name": "stderr"
        },
        {
          "output_type": "stream",
          "text": [
            "393/393 [==============================] - 55s 141ms/step - loss: 0.0281 - accuracy: 0.1535 - val_loss: 0.0402 - val_accuracy: 0.2192\n"
          ],
          "name": "stdout"
        },
        {
          "output_type": "stream",
          "text": [
            "[@debug] generator.py:192 in __len__()- n_batches: 46\n"
          ],
          "name": "stderr"
        },
        {
          "output_type": "stream",
          "text": [
            " — val_f1: [92.09 98.   93.3  84.84 92.44 96.57 92.7   0.   88.07]\n",
            " — val_precision: [91.91 98.42 87.78 75.47 94.57 95.31 94.85  0.   84.42]\n",
            " — val_recall: [92.27 97.58 99.56 96.87 90.4  97.86 90.64  0.   92.05]\n",
            " — mean_f1: 82.00111111111111\n",
            "oa 94.52\n",
            "Found best weights at epoch 21\n",
            "Epoch 22/70\n"
          ],
          "name": "stdout"
        },
        {
          "output_type": "stream",
          "text": [
            "[@debug] generator.py:192 in __len__()- n_batches: 393\n"
          ],
          "name": "stderr"
        },
        {
          "output_type": "stream",
          "text": [
            "393/393 [==============================] - ETA: 0s - loss: 0.0270 - accuracy: 0.1546"
          ],
          "name": "stdout"
        },
        {
          "output_type": "stream",
          "text": [
            "[@debug] generator.py:192 in __len__()- n_batches: 46\n",
            "[@debug] generator.py:192 in __len__()- n_batches: 46\n"
          ],
          "name": "stderr"
        },
        {
          "output_type": "stream",
          "text": [
            "393/393 [==============================] - 55s 141ms/step - loss: 0.0270 - accuracy: 0.1546 - val_loss: 0.0393 - val_accuracy: 0.2191\n"
          ],
          "name": "stdout"
        },
        {
          "output_type": "stream",
          "text": [
            "[@debug] generator.py:192 in __len__()- n_batches: 46\n"
          ],
          "name": "stderr"
        },
        {
          "output_type": "stream",
          "text": [
            " — val_f1: [92.56 97.97 94.72 87.28 90.97 96.66 93.29  0.   83.08]\n",
            " — val_precision: [91.75 98.5  90.45 78.93 92.05 95.35 95.46  0.   82.89]\n",
            " — val_recall: [93.38 97.45 99.41 97.6  89.92 98.   91.21  0.   83.27]\n",
            " — mean_f1: 81.83666666666667\n",
            "oa 94.65\n",
            "Epoch 23/70\n"
          ],
          "name": "stdout"
        },
        {
          "output_type": "stream",
          "text": [
            "[@debug] generator.py:192 in __len__()- n_batches: 393\n"
          ],
          "name": "stderr"
        },
        {
          "output_type": "stream",
          "text": [
            "393/393 [==============================] - ETA: 0s - loss: 0.0258 - accuracy: 0.1536"
          ],
          "name": "stdout"
        },
        {
          "output_type": "stream",
          "text": [
            "[@debug] generator.py:192 in __len__()- n_batches: 46\n",
            "[@debug] generator.py:192 in __len__()- n_batches: 46\n"
          ],
          "name": "stderr"
        },
        {
          "output_type": "stream",
          "text": [
            "393/393 [==============================] - 55s 140ms/step - loss: 0.0258 - accuracy: 0.1536 - val_loss: 0.0377 - val_accuracy: 0.2153\n"
          ],
          "name": "stdout"
        },
        {
          "output_type": "stream",
          "text": [
            "[@debug] generator.py:192 in __len__()- n_batches: 46\n"
          ],
          "name": "stderr"
        },
        {
          "output_type": "stream",
          "text": [
            " — val_f1: [92.6  98.34 95.03 87.03 91.16 98.02 93.14  0.   81.36]\n",
            " — val_precision: [93.11 98.81 90.69 78.82 90.76 97.74 93.84  0.   84.18]\n",
            " — val_recall: [92.08 97.86 99.81 97.14 91.57 98.29 92.45  0.   78.72]\n",
            " — mean_f1: 81.85333333333332\n",
            "oa 94.8\n",
            "Epoch 24/70\n"
          ],
          "name": "stdout"
        },
        {
          "output_type": "stream",
          "text": [
            "[@debug] generator.py:192 in __len__()- n_batches: 393\n"
          ],
          "name": "stderr"
        },
        {
          "output_type": "stream",
          "text": [
            "393/393 [==============================] - ETA: 0s - loss: 0.0252 - accuracy: 0.1518"
          ],
          "name": "stdout"
        },
        {
          "output_type": "stream",
          "text": [
            "[@debug] generator.py:192 in __len__()- n_batches: 46\n",
            "[@debug] generator.py:192 in __len__()- n_batches: 46\n"
          ],
          "name": "stderr"
        },
        {
          "output_type": "stream",
          "text": [
            "393/393 [==============================] - 55s 140ms/step - loss: 0.0252 - accuracy: 0.1518 - val_loss: 0.0375 - val_accuracy: 0.2153\n"
          ],
          "name": "stdout"
        },
        {
          "output_type": "stream",
          "text": [
            "[@debug] generator.py:192 in __len__()- n_batches: 46\n"
          ],
          "name": "stderr"
        },
        {
          "output_type": "stream",
          "text": [
            " — val_f1: [92.48 97.87 96.6  86.61 91.85 96.85 92.66  0.   81.2 ]\n",
            " — val_precision: [92.85 98.82 93.93 78.17 91.98 95.87 92.59  0.   81.4 ]\n",
            " — val_recall: [92.1  96.95 99.43 97.11 91.73 97.86 92.72  0.   81.  ]\n",
            " — mean_f1: 81.79111111111112\n",
            "oa 94.5\n",
            "Epoch 25/70\n"
          ],
          "name": "stdout"
        },
        {
          "output_type": "stream",
          "text": [
            "[@debug] generator.py:192 in __len__()- n_batches: 393\n"
          ],
          "name": "stderr"
        },
        {
          "output_type": "stream",
          "text": [
            "393/393 [==============================] - ETA: 0s - loss: 0.0244 - accuracy: 0.1542"
          ],
          "name": "stdout"
        },
        {
          "output_type": "stream",
          "text": [
            "[@debug] generator.py:192 in __len__()- n_batches: 46\n",
            "[@debug] generator.py:192 in __len__()- n_batches: 46\n"
          ],
          "name": "stderr"
        },
        {
          "output_type": "stream",
          "text": [
            "393/393 [==============================] - 56s 141ms/step - loss: 0.0244 - accuracy: 0.1542 - val_loss: 0.0384 - val_accuracy: 0.2367\n"
          ],
          "name": "stdout"
        },
        {
          "output_type": "stream",
          "text": [
            "[@debug] generator.py:192 in __len__()- n_batches: 46\n"
          ],
          "name": "stderr"
        },
        {
          "output_type": "stream",
          "text": [
            " — val_f1: [91.64 97.06 94.73 88.32 92.52 98.26 92.29  0.   87.38]\n",
            " — val_precision: [88.66 98.97 90.54 80.92 93.17 99.25 93.89  0.   86.85]\n",
            " — val_recall: [94.83 95.21 99.32 97.2  91.87 97.28 90.74  0.   87.91]\n",
            " — mean_f1: 82.46666666666665\n",
            "oa 94.1\n",
            "Found best weights at epoch 25\n",
            "Epoch 26/70\n"
          ],
          "name": "stdout"
        },
        {
          "output_type": "stream",
          "text": [
            "[@debug] generator.py:192 in __len__()- n_batches: 393\n"
          ],
          "name": "stderr"
        },
        {
          "output_type": "stream",
          "text": [
            "393/393 [==============================] - ETA: 0s - loss: 0.0244 - accuracy: 0.1554"
          ],
          "name": "stdout"
        },
        {
          "output_type": "stream",
          "text": [
            "[@debug] generator.py:192 in __len__()- n_batches: 46\n",
            "[@debug] generator.py:192 in __len__()- n_batches: 46\n"
          ],
          "name": "stderr"
        },
        {
          "output_type": "stream",
          "text": [
            "393/393 [==============================] - 56s 141ms/step - loss: 0.0244 - accuracy: 0.1554 - val_loss: 0.0352 - val_accuracy: 0.2105\n"
          ],
          "name": "stdout"
        },
        {
          "output_type": "stream",
          "text": [
            "[@debug] generator.py:192 in __len__()- n_batches: 46\n"
          ],
          "name": "stderr"
        },
        {
          "output_type": "stream",
          "text": [
            " — val_f1: [92.76 98.14 96.31 88.21 92.5  97.93 93.43  0.   86.58]\n",
            " — val_precision: [93.61 98.66 93.54 80.39 93.35 98.55 93.27  0.   85.24]\n",
            " — val_recall: [91.92 97.63 99.24 97.71 91.66 97.31 93.59  0.   87.96]\n",
            " — mean_f1: 82.87333333333333\n",
            "oa 95.05\n",
            "Found best weights at epoch 26\n",
            "Epoch 27/70\n"
          ],
          "name": "stdout"
        },
        {
          "output_type": "stream",
          "text": [
            "[@debug] generator.py:192 in __len__()- n_batches: 393\n"
          ],
          "name": "stderr"
        },
        {
          "output_type": "stream",
          "text": [
            "393/393 [==============================] - ETA: 0s - loss: 0.0229 - accuracy: 0.1533"
          ],
          "name": "stdout"
        },
        {
          "output_type": "stream",
          "text": [
            "[@debug] generator.py:192 in __len__()- n_batches: 46\n",
            "[@debug] generator.py:192 in __len__()- n_batches: 46\n"
          ],
          "name": "stderr"
        },
        {
          "output_type": "stream",
          "text": [
            "393/393 [==============================] - 56s 141ms/step - loss: 0.0229 - accuracy: 0.1533 - val_loss: 0.0347 - val_accuracy: 0.2210\n"
          ],
          "name": "stdout"
        },
        {
          "output_type": "stream",
          "text": [
            "[@debug] generator.py:192 in __len__()- n_batches: 46\n"
          ],
          "name": "stderr"
        },
        {
          "output_type": "stream",
          "text": [
            " — val_f1: [93.46 98.23 92.22 88.57 91.49 96.65 94.03  0.   83.68]\n",
            " — val_precision: [92.75 98.44 88.99 81.32 94.11 96.11 96.66  0.   76.56]\n",
            " — val_recall: [94.19 98.02 95.69 97.25 89.01 97.19 91.53  0.   92.26]\n",
            " — mean_f1: 82.03666666666666\n",
            "oa 95.16\n",
            "Epoch 28/70\n"
          ],
          "name": "stdout"
        },
        {
          "output_type": "stream",
          "text": [
            "[@debug] generator.py:192 in __len__()- n_batches: 393\n"
          ],
          "name": "stderr"
        },
        {
          "output_type": "stream",
          "text": [
            "393/393 [==============================] - ETA: 0s - loss: 0.0220 - accuracy: 0.1520"
          ],
          "name": "stdout"
        },
        {
          "output_type": "stream",
          "text": [
            "[@debug] generator.py:192 in __len__()- n_batches: 46\n",
            "[@debug] generator.py:192 in __len__()- n_batches: 46\n"
          ],
          "name": "stderr"
        },
        {
          "output_type": "stream",
          "text": [
            "393/393 [==============================] - 55s 141ms/step - loss: 0.0220 - accuracy: 0.1520 - val_loss: 0.0344 - val_accuracy: 0.2301\n"
          ],
          "name": "stdout"
        },
        {
          "output_type": "stream",
          "text": [
            "[@debug] generator.py:192 in __len__()- n_batches: 46\n"
          ],
          "name": "stderr"
        },
        {
          "output_type": "stream",
          "text": [
            " — val_f1: [93.24 98.44 96.46 88.87 92.28 97.37 93.06  0.   85.54]\n",
            " — val_precision: [91.63 98.69 93.51 81.81 93.2  96.69 96.26  0.   86.4 ]\n",
            " — val_recall: [94.9  98.19 99.61 97.27 91.38 98.06 90.07  0.   84.7 ]\n",
            " — mean_f1: 82.80666666666667\n",
            "oa 95.22\n",
            "Epoch 29/70\n"
          ],
          "name": "stdout"
        },
        {
          "output_type": "stream",
          "text": [
            "[@debug] generator.py:192 in __len__()- n_batches: 393\n"
          ],
          "name": "stderr"
        },
        {
          "output_type": "stream",
          "text": [
            "393/393 [==============================] - ETA: 0s - loss: 0.0208 - accuracy: 0.1546"
          ],
          "name": "stdout"
        },
        {
          "output_type": "stream",
          "text": [
            "[@debug] generator.py:192 in __len__()- n_batches: 46\n",
            "[@debug] generator.py:192 in __len__()- n_batches: 46\n"
          ],
          "name": "stderr"
        },
        {
          "output_type": "stream",
          "text": [
            "393/393 [==============================] - 55s 141ms/step - loss: 0.0208 - accuracy: 0.1546 - val_loss: 0.0334 - val_accuracy: 0.2236\n"
          ],
          "name": "stdout"
        },
        {
          "output_type": "stream",
          "text": [
            "[@debug] generator.py:192 in __len__()- n_batches: 46\n"
          ],
          "name": "stderr"
        },
        {
          "output_type": "stream",
          "text": [
            " — val_f1: [92.77 98.03 95.78 87.63 91.68 94.83 93.95  0.   85.81]\n",
            " — val_precision: [92.05 98.09 93.08 80.09 94.   92.08 96.58  0.   84.07]\n",
            " — val_recall: [93.49 97.97 98.65 96.74 89.47 97.74 91.46  0.   87.62]\n",
            " — mean_f1: 82.27555555555556\n",
            "oa 94.95\n",
            "Epoch 30/70\n"
          ],
          "name": "stdout"
        },
        {
          "output_type": "stream",
          "text": [
            "[@debug] generator.py:192 in __len__()- n_batches: 393\n"
          ],
          "name": "stderr"
        },
        {
          "output_type": "stream",
          "text": [
            "393/393 [==============================] - ETA: 0s - loss: 0.0254 - accuracy: 0.1523"
          ],
          "name": "stdout"
        },
        {
          "output_type": "stream",
          "text": [
            "[@debug] generator.py:192 in __len__()- n_batches: 46\n",
            "[@debug] generator.py:192 in __len__()- n_batches: 46\n"
          ],
          "name": "stderr"
        },
        {
          "output_type": "stream",
          "text": [
            "393/393 [==============================] - 55s 141ms/step - loss: 0.0254 - accuracy: 0.1523 - val_loss: 0.0338 - val_accuracy: 0.2071\n"
          ],
          "name": "stdout"
        },
        {
          "output_type": "stream",
          "text": [
            "[@debug] generator.py:192 in __len__()- n_batches: 46\n"
          ],
          "name": "stderr"
        },
        {
          "output_type": "stream",
          "text": [
            " — val_f1: [91.96 98.28 91.3  86.78 92.8  96.74 92.37  0.   88.83]\n",
            " — val_precision: [93.36 98.49 84.98 78.6  93.45 96.12 92.78  0.   88.51]\n",
            " — val_recall: [90.61 98.08 98.63 96.87 92.15 97.36 91.97  0.   89.15]\n",
            " — mean_f1: 82.11777777777779\n",
            "oa 94.67\n",
            "Epoch 31/70\n"
          ],
          "name": "stdout"
        },
        {
          "output_type": "stream",
          "text": [
            "[@debug] generator.py:192 in __len__()- n_batches: 393\n"
          ],
          "name": "stderr"
        },
        {
          "output_type": "stream",
          "text": [
            "393/393 [==============================] - ETA: 0s - loss: 0.0204 - accuracy: 0.1517"
          ],
          "name": "stdout"
        },
        {
          "output_type": "stream",
          "text": [
            "[@debug] generator.py:192 in __len__()- n_batches: 46\n",
            "[@debug] generator.py:192 in __len__()- n_batches: 46\n"
          ],
          "name": "stderr"
        },
        {
          "output_type": "stream",
          "text": [
            "393/393 [==============================] - 56s 141ms/step - loss: 0.0204 - accuracy: 0.1517 - val_loss: 0.0315 - val_accuracy: 0.2239\n"
          ],
          "name": "stdout"
        },
        {
          "output_type": "stream",
          "text": [
            "[@debug] generator.py:192 in __len__()- n_batches: 46\n"
          ],
          "name": "stderr"
        },
        {
          "output_type": "stream",
          "text": [
            " — val_f1: [93.24 98.34 96.23 88.98 92.77 97.09 93.43  0.   87.88]\n",
            " — val_precision: [91.8  98.6  93.17 83.14 93.59 97.09 96.25  0.   86.34]\n",
            " — val_recall: [94.71 98.08 99.49 95.7  91.96 97.08 90.78  0.   89.47]\n",
            " — mean_f1: 83.10666666666665\n",
            "oa 95.31\n",
            "Found best weights at epoch 31\n",
            "Epoch 32/70\n"
          ],
          "name": "stdout"
        },
        {
          "output_type": "stream",
          "text": [
            "[@debug] generator.py:192 in __len__()- n_batches: 393\n"
          ],
          "name": "stderr"
        },
        {
          "output_type": "stream",
          "text": [
            "393/393 [==============================] - ETA: 0s - loss: 0.0192 - accuracy: 0.1538"
          ],
          "name": "stdout"
        },
        {
          "output_type": "stream",
          "text": [
            "[@debug] generator.py:192 in __len__()- n_batches: 46\n",
            "[@debug] generator.py:192 in __len__()- n_batches: 46\n"
          ],
          "name": "stderr"
        },
        {
          "output_type": "stream",
          "text": [
            "393/393 [==============================] - 56s 141ms/step - loss: 0.0192 - accuracy: 0.1538 - val_loss: 0.0313 - val_accuracy: 0.2227\n"
          ],
          "name": "stdout"
        },
        {
          "output_type": "stream",
          "text": [
            "[@debug] generator.py:192 in __len__()- n_batches: 46\n"
          ],
          "name": "stderr"
        },
        {
          "output_type": "stream",
          "text": [
            " — val_f1: [93.69 98.61 96.93 89.09 91.44 95.03 93.89  0.   83.38]\n",
            " — val_precision: [92.56 98.9  94.58 83.45 92.01 94.55 96.05  0.   83.6 ]\n",
            " — val_recall: [94.85 98.33 99.41 95.55 90.87 95.52 91.82  0.   83.16]\n",
            " — mean_f1: 82.45111111111112\n",
            "oa 95.41\n",
            "Epoch 33/70\n"
          ],
          "name": "stdout"
        },
        {
          "output_type": "stream",
          "text": [
            "[@debug] generator.py:192 in __len__()- n_batches: 393\n"
          ],
          "name": "stderr"
        },
        {
          "output_type": "stream",
          "text": [
            "393/393 [==============================] - ETA: 0s - loss: 0.0185 - accuracy: 0.1530"
          ],
          "name": "stdout"
        },
        {
          "output_type": "stream",
          "text": [
            "[@debug] generator.py:192 in __len__()- n_batches: 46\n",
            "[@debug] generator.py:192 in __len__()- n_batches: 46\n"
          ],
          "name": "stderr"
        },
        {
          "output_type": "stream",
          "text": [
            "393/393 [==============================] - 56s 141ms/step - loss: 0.0185 - accuracy: 0.1530 - val_loss: 0.0307 - val_accuracy: 0.2198\n"
          ],
          "name": "stdout"
        },
        {
          "output_type": "stream",
          "text": [
            "[@debug] generator.py:192 in __len__()- n_batches: 46\n"
          ],
          "name": "stderr"
        },
        {
          "output_type": "stream",
          "text": [
            " — val_f1: [93.9  98.55 94.95 87.68 92.2  96.05 94.5   0.   86.34]\n",
            " — val_precision: [93.19 98.52 90.75 80.53 93.21 93.75 97.39  0.   88.58]\n",
            " — val_recall: [94.61 98.58 99.56 96.23 91.21 98.47 91.78  0.   84.2 ]\n",
            " — mean_f1: 82.68555555555555\n",
            "oa 95.59\n",
            "Epoch 34/70\n"
          ],
          "name": "stdout"
        },
        {
          "output_type": "stream",
          "text": [
            "[@debug] generator.py:192 in __len__()- n_batches: 393\n"
          ],
          "name": "stderr"
        },
        {
          "output_type": "stream",
          "text": [
            "393/393 [==============================] - ETA: 0s - loss: 0.0182 - accuracy: 0.1533"
          ],
          "name": "stdout"
        },
        {
          "output_type": "stream",
          "text": [
            "[@debug] generator.py:192 in __len__()- n_batches: 46\n",
            "[@debug] generator.py:192 in __len__()- n_batches: 46\n"
          ],
          "name": "stderr"
        },
        {
          "output_type": "stream",
          "text": [
            "393/393 [==============================] - 56s 141ms/step - loss: 0.0182 - accuracy: 0.1533 - val_loss: 0.0299 - val_accuracy: 0.2198\n"
          ],
          "name": "stdout"
        },
        {
          "output_type": "stream",
          "text": [
            "[@debug] generator.py:192 in __len__()- n_batches: 46\n"
          ],
          "name": "stderr"
        },
        {
          "output_type": "stream",
          "text": [
            " — val_f1: [93.75 98.4  95.11 88.29 92.85 94.99 94.41  0.   87.32]\n",
            " — val_precision: [92.82 98.79 91.61 81.64 93.36 91.64 96.76  0.   88.45]\n",
            " — val_recall: [94.69 98.02 98.9  96.12 92.35 98.59 92.16  0.   86.23]\n",
            " — mean_f1: 82.79111111111109\n",
            "oa 95.54\n",
            "Epoch 35/70\n"
          ],
          "name": "stdout"
        },
        {
          "output_type": "stream",
          "text": [
            "[@debug] generator.py:192 in __len__()- n_batches: 393\n"
          ],
          "name": "stderr"
        },
        {
          "output_type": "stream",
          "text": [
            "393/393 [==============================] - ETA: 0s - loss: 0.0177 - accuracy: 0.1517"
          ],
          "name": "stdout"
        },
        {
          "output_type": "stream",
          "text": [
            "[@debug] generator.py:192 in __len__()- n_batches: 46\n",
            "[@debug] generator.py:192 in __len__()- n_batches: 46\n"
          ],
          "name": "stderr"
        },
        {
          "output_type": "stream",
          "text": [
            "393/393 [==============================] - 56s 142ms/step - loss: 0.0177 - accuracy: 0.1517 - val_loss: 0.0379 - val_accuracy: 0.2124\n"
          ],
          "name": "stdout"
        },
        {
          "output_type": "stream",
          "text": [
            "[@debug] generator.py:192 in __len__()- n_batches: 46\n"
          ],
          "name": "stderr"
        },
        {
          "output_type": "stream",
          "text": [
            " — val_f1: [91.04 95.29 93.97 87.27 91.04 92.56 87.24  0.   85.58]\n",
            " — val_precision: [91.61 98.04 90.77 80.5  92.5  87.53 83.12  0.   87.73]\n",
            " — val_recall: [90.48 92.68 97.41 95.28 89.62 98.19 91.79  0.   83.52]\n",
            " — mean_f1: 80.44333333333334\n",
            "oa 91.91\n",
            "Epoch 36/70\n"
          ],
          "name": "stdout"
        },
        {
          "output_type": "stream",
          "text": [
            "[@debug] generator.py:192 in __len__()- n_batches: 393\n"
          ],
          "name": "stderr"
        },
        {
          "output_type": "stream",
          "text": [
            "393/393 [==============================] - ETA: 0s - loss: 0.0180 - accuracy: 0.1527"
          ],
          "name": "stdout"
        },
        {
          "output_type": "stream",
          "text": [
            "[@debug] generator.py:192 in __len__()- n_batches: 46\n",
            "[@debug] generator.py:192 in __len__()- n_batches: 46\n"
          ],
          "name": "stderr"
        },
        {
          "output_type": "stream",
          "text": [
            "393/393 [==============================] - 56s 142ms/step - loss: 0.0180 - accuracy: 0.1527 - val_loss: 0.0313 - val_accuracy: 0.2151\n"
          ],
          "name": "stdout"
        },
        {
          "output_type": "stream",
          "text": [
            "[@debug] generator.py:192 in __len__()- n_batches: 46\n"
          ],
          "name": "stderr"
        },
        {
          "output_type": "stream",
          "text": [
            " — val_f1: [92.91 98.47 90.12 88.41 91.52 98.17 93.46  0.   85.89]\n",
            " — val_precision: [93.06 98.58 90.28 80.91 89.99 98.78 95.43  0.   87.01]\n",
            " — val_recall: [92.77 98.37 89.96 97.44 93.11 97.57 91.56  0.   84.79]\n",
            " — mean_f1: 82.10555555555555\n",
            "oa 95.1\n",
            "Epoch 37/70\n"
          ],
          "name": "stdout"
        },
        {
          "output_type": "stream",
          "text": [
            "[@debug] generator.py:192 in __len__()- n_batches: 393\n"
          ],
          "name": "stderr"
        },
        {
          "output_type": "stream",
          "text": [
            "393/393 [==============================] - ETA: 0s - loss: 0.0166 - accuracy: 0.1548"
          ],
          "name": "stdout"
        },
        {
          "output_type": "stream",
          "text": [
            "[@debug] generator.py:192 in __len__()- n_batches: 46\n",
            "[@debug] generator.py:192 in __len__()- n_batches: 46\n"
          ],
          "name": "stderr"
        },
        {
          "output_type": "stream",
          "text": [
            "393/393 [==============================] - 56s 141ms/step - loss: 0.0166 - accuracy: 0.1548 - val_loss: 0.0307 - val_accuracy: 0.2138\n"
          ],
          "name": "stdout"
        },
        {
          "output_type": "stream",
          "text": [
            "[@debug] generator.py:192 in __len__()- n_batches: 46\n"
          ],
          "name": "stderr"
        },
        {
          "output_type": "stream",
          "text": [
            " — val_f1: [93.02 98.67 87.19 85.26 93.67 94.4  94.    0.   86.84]\n",
            " — val_precision: [93.37 98.68 87.38 75.54 94.21 94.56 96.18  0.   86.48]\n",
            " — val_recall: [92.67 98.65 87.   97.84 93.15 94.24 91.91  0.   87.21]\n",
            " — mean_f1: 81.45\n",
            "oa 95.22\n",
            "Epoch 38/70\n"
          ],
          "name": "stdout"
        },
        {
          "output_type": "stream",
          "text": [
            "[@debug] generator.py:192 in __len__()- n_batches: 393\n"
          ],
          "name": "stderr"
        },
        {
          "output_type": "stream",
          "text": [
            "393/393 [==============================] - ETA: 0s - loss: 0.0182 - accuracy: 0.1531"
          ],
          "name": "stdout"
        },
        {
          "output_type": "stream",
          "text": [
            "[@debug] generator.py:192 in __len__()- n_batches: 46\n",
            "[@debug] generator.py:192 in __len__()- n_batches: 46\n"
          ],
          "name": "stderr"
        },
        {
          "output_type": "stream",
          "text": [
            "393/393 [==============================] - 56s 141ms/step - loss: 0.0182 - accuracy: 0.1531 - val_loss: 0.0370 - val_accuracy: 0.1985\n"
          ],
          "name": "stdout"
        },
        {
          "output_type": "stream",
          "text": [
            "[@debug] generator.py:192 in __len__()- n_batches: 46\n"
          ],
          "name": "stderr"
        },
        {
          "output_type": "stream",
          "text": [
            " — val_f1: [88.17 96.82 80.14 80.62 91.16 85.01 91.31  0.   80.4 ]\n",
            " — val_precision: [91.67 97.42 66.88 70.94 97.11 74.26 90.08  0.   80.34]\n",
            " — val_recall: [84.93 96.22 99.97 93.37 85.9  99.41 92.57  0.   80.47]\n",
            " — mean_f1: 77.07\n",
            "oa 92.05\n",
            "Epoch 39/70\n"
          ],
          "name": "stdout"
        },
        {
          "output_type": "stream",
          "text": [
            "[@debug] generator.py:192 in __len__()- n_batches: 393\n"
          ],
          "name": "stderr"
        },
        {
          "output_type": "stream",
          "text": [
            "393/393 [==============================] - ETA: 0s - loss: 0.0171 - accuracy: 0.1519"
          ],
          "name": "stdout"
        },
        {
          "output_type": "stream",
          "text": [
            "[@debug] generator.py:192 in __len__()- n_batches: 46\n",
            "[@debug] generator.py:192 in __len__()- n_batches: 46\n"
          ],
          "name": "stderr"
        },
        {
          "output_type": "stream",
          "text": [
            "393/393 [==============================] - 56s 141ms/step - loss: 0.0171 - accuracy: 0.1519 - val_loss: 0.0283 - val_accuracy: 0.2118\n"
          ],
          "name": "stdout"
        },
        {
          "output_type": "stream",
          "text": [
            "[@debug] generator.py:192 in __len__()- n_batches: 46\n"
          ],
          "name": "stderr"
        },
        {
          "output_type": "stream",
          "text": [
            " — val_f1: [93.16 98.6  96.7  83.3  93.59 97.87 94.57  0.   87.62]\n",
            " — val_precision: [93.67 98.73 93.96 72.61 93.19 98.05 96.9   0.   91.95]\n",
            " — val_recall: [92.65 98.47 99.61 97.7  93.98 97.7  92.34  0.   83.68]\n",
            " — mean_f1: 82.82333333333332\n",
            "oa 95.44\n",
            "Epoch 40/70\n"
          ],
          "name": "stdout"
        },
        {
          "output_type": "stream",
          "text": [
            "[@debug] generator.py:192 in __len__()- n_batches: 393\n"
          ],
          "name": "stderr"
        },
        {
          "output_type": "stream",
          "text": [
            "393/393 [==============================] - ETA: 0s - loss: 0.0153 - accuracy: 0.1540"
          ],
          "name": "stdout"
        },
        {
          "output_type": "stream",
          "text": [
            "[@debug] generator.py:192 in __len__()- n_batches: 46\n",
            "[@debug] generator.py:192 in __len__()- n_batches: 46\n"
          ],
          "name": "stderr"
        },
        {
          "output_type": "stream",
          "text": [
            "393/393 [==============================] - 56s 141ms/step - loss: 0.0153 - accuracy: 0.1540 - val_loss: 0.0264 - val_accuracy: 0.2111\n"
          ],
          "name": "stdout"
        },
        {
          "output_type": "stream",
          "text": [
            "[@debug] generator.py:192 in __len__()- n_batches: 46\n"
          ],
          "name": "stderr"
        },
        {
          "output_type": "stream",
          "text": [
            " — val_f1: [94.36 98.47 95.81 89.46 92.72 96.86 94.88  0.   84.61]\n",
            " — val_precision: [94.69 98.33 91.99 83.01 92.34 95.57 96.57  0.   88.89]\n",
            " — val_recall: [94.04 98.6  99.97 97.   93.1  98.19 93.25  0.   80.72]\n",
            " — mean_f1: 83.01888888888888\n",
            "oa 95.84\n",
            "Epoch 41/70\n"
          ],
          "name": "stdout"
        },
        {
          "output_type": "stream",
          "text": [
            "[@debug] generator.py:192 in __len__()- n_batches: 393\n"
          ],
          "name": "stderr"
        },
        {
          "output_type": "stream",
          "text": [
            "393/393 [==============================] - ETA: 0s - loss: 0.0146 - accuracy: 0.1532"
          ],
          "name": "stdout"
        },
        {
          "output_type": "stream",
          "text": [
            "[@debug] generator.py:192 in __len__()- n_batches: 46\n",
            "[@debug] generator.py:192 in __len__()- n_batches: 46\n"
          ],
          "name": "stderr"
        },
        {
          "output_type": "stream",
          "text": [
            "393/393 [==============================] - 56s 142ms/step - loss: 0.0146 - accuracy: 0.1532 - val_loss: 0.0263 - val_accuracy: 0.2163\n"
          ],
          "name": "stdout"
        },
        {
          "output_type": "stream",
          "text": [
            "[@debug] generator.py:192 in __len__()- n_batches: 46\n"
          ],
          "name": "stderr"
        },
        {
          "output_type": "stream",
          "text": [
            " — val_f1: [94.17 98.56 96.22 89.16 92.37 96.5  94.75  0.   84.43]\n",
            " — val_precision: [93.94 98.73 92.87 82.31 91.8  94.68 96.37  0.   91.9 ]\n",
            " — val_recall: [94.4  98.4  99.81 97.25 92.95 98.4  93.18  0.   78.08]\n",
            " — mean_f1: 82.90666666666668\n",
            "oa 95.78\n",
            "Restoring model weights from the end of the best epoch.\n",
            "Epoch %05d: early stopping\n",
            "f1 history [38.093333333333334, 54.99555555555556, 59.39333333333333, 65.12777777777778, 66.43555555555557, 70.21333333333334, 72.36666666666666, 74.10222222222222, 76.1811111111111, 77.19111111111111, 78.00222222222222, 79.26888888888888, 78.49222222222222, 78.84666666666666, 79.8288888888889, 81.14666666666668, 80.70333333333333, 79.77555555555556, 80.57222222222224, 81.1511111111111, 82.00111111111111, 81.83666666666667, 81.85333333333332, 81.79111111111112, 82.46666666666665, 82.87333333333333, 82.03666666666666, 82.80666666666667, 82.27555555555556, 82.11777777777779, 83.10666666666665, 82.45111111111112, 82.68555555555555, 82.79111111111109, 80.44333333333334, 82.10555555555555, 81.45, 77.07, 82.82333333333332, 83.01888888888888, 82.90666666666668]\n",
            "oa history [60.26, 76.29, 78.97, 82.21, 82.93, 85.27, 87.0, 89.14, 89.48, 91.56, 91.69, 92.47, 92.65, 93.02, 93.49, 93.86, 94.02, 93.86, 92.8, 94.3, 94.52, 94.65, 94.8, 94.5, 94.1, 95.05, 95.16, 95.22, 94.95, 94.67, 95.31, 95.41, 95.59, 95.54, 91.91, 95.1, 95.22, 92.05, 95.44, 95.84, 95.78]\n"
          ],
          "name": "stdout"
        },
        {
          "output_type": "stream",
          "text": [
            "[@debug] model.py:276 in train()\n",
            "         self.name: PosixPath('../results/convlstm_results/model/lm/../results/convlstm_results/model/lm/model_best_UUnetConvLSTM_mar_lm_nomode.h5')\n"
          ],
          "name": "stderr"
        },
        {
          "output_type": "display_data",
          "data": {
            "image/png": "[encoded data removed]",
            "text/plain": [
              "<Figure size 432x288 with 1 Axes>"
            ]
          },
          "metadata": {
            "needs_background": "light"
          }
        }
      ]
    },
    {
      "cell_type": "markdown",
      "metadata": {
        "id": "0lD8P03YG0IX"
      },
      "source": [
        "## Evaluate\n"
      ]
    },
    {
      "cell_type": "code",
      "metadata": {
        "id": "im68QpP-JvbR",
        "colab": {
          "base_uri": "https://localhost:8080/"
        },
        "outputId": "41f5ed7b-58d8-4f03-f02b-532f8cf426ec"
      },
      "source": [
        "from parameters.params_reconstruct import ParamsReconstruct\n",
        "import pathlib\n",
        "\n",
        "pathlib.Path('results/spatial_results').mkdir(parents=True, exist_ok=True)\n",
        "\n",
        "paramsMosaic = ParamsReconstruct(paramsTrain)\n",
        "\n",
        "paramsMosaic.mosaic_flag = True\n",
        "paramsMosaic.open_set_mode = False\n",
        "\n",
        "trainTest.evaluate(paramsMosaic)\n"
      ],
      "execution_count": 12,
      "outputs": [
        {
          "output_type": "stream",
          "text": [
            "[@debug] params_reconstruct.py:43 in __init__()\n",
            "         self.overlap: 0\n",
            "         self.threshold_idx: 4\n",
            "[@debug] dataset.py:562 in loadMask()\n",
            "         str(self.paramsTrain.path): '../../../dataset/dataset/cv_data'\n",
            "[@debug] dataset.py:564 in loadMask()- self.mask.shape: (8492, 7995)\n",
            "[@debug] dataset.py:386 in addPaddingToInput()\n",
            "         im.shape: (12, 8492, 7995, 2)\n",
            "[@debug] mosaic.py:45 in __init__()- paramsTrain.seq_date: 'jun'\n"
          ],
          "name": "stderr"
        },
        {
          "output_type": "stream",
          "text": [
            "[@debug] dataset = cv\n",
            "[@debug] paramsTrain.model_type = UUnetConvLSTM\n"
          ],
          "name": "stdout"
        },
        {
          "output_type": "stream",
          "text": [
            "[@debug] mosaic.py:133 in create()- self.data.class_n: 10\n",
            "[@debug] mosaic.py:134 in create()\n",
            "         np.unique(self.data.full_label_test): array([ 0,  2,  3,  4,  6,  7,  8,  9, 10, 11], dtype=uint8)\n",
            "         len(np.unique(self.data.full_label_test)): 10\n",
            "[@debug] mosaic.py:135 in create()\n",
            "         np.unique(self.data.full_label_train): array([0, 1, 2, 3, 4, 5, 6, 7, 8, 9], dtype=uint8)\n",
            "         len(np.unique(self.data.full_label_train)): 10\n"
          ],
          "name": "stderr"
        },
        {
          "output_type": "stream",
          "text": [
            "stride 32\n",
            "265\n",
            "249\n"
          ],
          "name": "stdout"
        },
        {
          "output_type": "stream",
          "text": [
            "[@debug] mosaic.py:508 in getPatchesPerBatch()- self.count_mask: 65985\n",
            "[@debug] mosaic.py:510 in getPatchesPerBatch()\n",
            "         self.patches_per_batch: 1245\n",
            "[@debug] mosaic.py:511 in getPatchesPerBatch()\n",
            "         self.patches_per_batch * self.pb.batch_processing_n: 65985\n",
            "[@debug] mosaic.py:512 in getPatchesPerBatch()\n",
            "         self.pb.batch_processing_n: 53\n"
          ],
          "name": "stderr"
        },
        {
          "output_type": "stream",
          "text": [
            "================== starting self.batch ... ==================\n"
          ],
          "name": "stdout"
        },
        {
          "output_type": "stream",
          "text": [
            "[@debug] mosaic.py:331 in loopOverImage()- self.count_mask_overall: 0\n",
            "[@debug] mosaic.py:332 in loopOverImage()- self.batch: 0\n",
            "[@debug] mosaic.py:333 in loopOverImage()\n",
            "         self.batch * self.patches_per_batch: 0\n",
            "[@debug] mosaic.py:334 in loopOverImage()\n",
            "         (self.batch + 1) * self.patches_per_batch: 1245\n",
            "[@debug] mosaic.py:340 in loopOverImage()\n",
            "         np.average(self.data.full_ims_test): 3.117\n",
            "         np.min(self.data.full_ims_test): -1.432\n",
            "         np.max(self.data.full_ims_test): 51.53\n",
            "[@debug] mosaic.py:341 in loopOverImage()\n",
            "         np.average(patches_in): 6.92\n",
            "         np.min(patches_in): -1.432\n",
            "         np.max(patches_in): 51.53\n",
            "[@debug] mosaic.py:342 in loopOverImage()\n",
            "         patches_in.shape: (1245, 12, 32, 32, 2)\n",
            "[@debug] mosaic.py:344 in loopOverImage()- self.count_mask_batch: 1245\n",
            "[@debug] mosaic.py:345 in loopOverImage()- self.count_mask: 65985\n",
            "[@debug] mosaic.py:350 in loopOverImage()\n",
            "         self.pred_logits_patches.dtype: dtype('float16')\n",
            "[@debug] mosaic.py:351 in loopOverImage()\n",
            "         self.pred_logits_patches.shape: (1245, 32, 32, 9)\n",
            "[@debug] mosaic.py:353 in loopOverImage()\n",
            "         np.unique(self.pred_logits_patches.argmax(axis=-1), return_counts = True): (array([0, 1, 2, 3, 4, 5, 6, 7, 8]),\n",
            "                                                                                     array([ 20299, 147655,   4311,  58708, 333570,  77756, 257296,   1490,\n",
            "                                                                                           373795]))\n",
            "[@debug] mosaic.py:368 in loopOverImage()- self.count_mask: 65985\n",
            "[@debug] mosaic.py:502 in loopToPredict()- self.count_mask_batch: 1245\n",
            "[@debug] mosaic.py:503 in loopToPredict()- self.count_mask: 65985\n",
            "[@debug] mosaic.py:374 in loopOverImage()\n",
            "         np.unique(self.prediction_mosaic, return_counts=True): (array([  0,   1,   2,   3,   4,   5,   6,   7,   8, 255], dtype=uint8),\n",
            "                                                                 array([   20299,   147655,     4311,    58708,   333570,    77756,\n",
            "                                                                         257296,     1490,   373795, 66618660]))\n",
            "[@debug] mosaic.py:379 in loopOverImage()\n",
            "         np.unique(self.prediction_mosaic, return_counts=True): (array([  0, 255], dtype=uint8), array([ 2892922, 65000618]))\n"
          ],
          "name": "stderr"
        },
        {
          "output_type": "stream",
          "text": [
            "================== starting self.batch ... ==================\n"
          ],
          "name": "stdout"
        },
        {
          "output_type": "stream",
          "text": [
            "[@debug] mosaic.py:331 in loopOverImage()\n",
            "         self.count_mask_overall: 1245\n",
            "[@debug] mosaic.py:332 in loopOverImage()- self.batch: 1\n",
            "[@debug] mosaic.py:333 in loopOverImage()\n",
            "         self.batch * self.patches_per_batch: 1245\n",
            "[@debug] mosaic.py:334 in loopOverImage()\n",
            "         (self.batch + 1) * self.patches_per_batch: 2490\n",
            "[@debug] mosaic.py:340 in loopOverImage()\n",
            "         np.average(self.data.full_ims_test): 3.117\n",
            "         np.min(self.data.full_ims_test): -1.432\n",
            "         np.max(self.data.full_ims_test): 51.53\n",
            "[@debug] mosaic.py:341 in loopOverImage()\n",
            "         np.average(patches_in): 6.746\n",
            "         np.min(patches_in): -1.432\n",
            "         np.max(patches_in): 51.53\n",
            "[@debug] mosaic.py:342 in loopOverImage()\n",
            "         patches_in.shape: (1245, 12, 32, 32, 2)\n",
            "[@debug] mosaic.py:344 in loopOverImage()- self.count_mask_batch: 1245\n",
            "[@debug] mosaic.py:345 in loopOverImage()- self.count_mask: 65985\n",
            "[@debug] mosaic.py:350 in loopOverImage()\n",
            "         self.pred_logits_patches.dtype: dtype('float16')\n",
            "[@debug] mosaic.py:351 in loopOverImage()\n",
            "         self.pred_logits_patches.shape: (1245, 32, 32, 9)\n",
            "[@debug] mosaic.py:353 in loopOverImage()\n",
            "         np.unique(self.pred_logits_patches.argmax(axis=-1), return_counts = True): (array([0, 1, 2, 3, 4, 5, 6, 7, 8]),\n",
            "                                                                                     array([ 12254, 117038,   1793,  66585, 319098,  78065, 281053,   6351,\n",
            "                                                                                           392643]))\n",
            "[@debug] mosaic.py:368 in loopOverImage()- self.count_mask: 65985\n",
            "[@debug] mosaic.py:502 in loopToPredict()- self.count_mask_batch: 1245\n",
            "[@debug] mosaic.py:503 in loopToPredict()- self.count_mask: 65985\n",
            "[@debug] mosaic.py:374 in loopOverImage()\n",
            "         np.unique(self.prediction_mosaic, return_counts=True): (array([  0,   1,   2,   3,   4,   5,   6,   7,   8, 255], dtype=uint8),\n",
            "                                                                 array([ 2905176,   117038,     1793,    66585,   319098,    78065,\n",
            "                                                                         281053,     6351,   392643, 63725738]))\n",
            "[@debug] mosaic.py:379 in loopOverImage()\n",
            "         np.unique(self.prediction_mosaic, return_counts=True): (array([  0, 255], dtype=uint8), array([ 2892922, 65000618]))\n"
          ],
          "name": "stderr"
        },
        {
          "output_type": "stream",
          "text": [
            "================== starting self.batch ... ==================\n"
          ],
          "name": "stdout"
        },
        {
          "output_type": "stream",
          "text": [
            "[@debug] mosaic.py:331 in loopOverImage()\n",
            "         self.count_mask_overall: 2490\n",
            "[@debug] mosaic.py:332 in loopOverImage()- self.batch: 2\n",
            "[@debug] mosaic.py:333 in loopOverImage()\n",
            "         self.batch * self.patches_per_batch: 2490\n",
            "[@debug] mosaic.py:334 in loopOverImage()\n",
            "         (self.batch + 1) * self.patches_per_batch: 3735\n",
            "[@debug] mosaic.py:340 in loopOverImage()\n",
            "         np.average(self.data.full_ims_test): 3.117\n",
            "         np.min(self.data.full_ims_test): -1.432\n",
            "         np.max(self.data.full_ims_test): 51.53\n",
            "[@debug] mosaic.py:341 in loopOverImage()\n",
            "         np.average(patches_in): 6.625\n",
            "         np.min(patches_in): -1.432\n",
            "         np.max(patches_in): 51.53\n",
            "[@debug] mosaic.py:342 in loopOverImage()\n",
            "         patches_in.shape: (1245, 12, 32, 32, 2)\n",
            "[@debug] mosaic.py:344 in loopOverImage()- self.count_mask_batch: 1245\n",
            "[@debug] mosaic.py:345 in loopOverImage()- self.count_mask: 65985\n",
            "[@debug] mosaic.py:350 in loopOverImage()\n",
            "         self.pred_logits_patches.dtype: dtype('float16')\n",
            "[@debug] mosaic.py:351 in loopOverImage()\n",
            "         self.pred_logits_patches.shape: (1245, 32, 32, 9)\n",
            "[@debug] mosaic.py:353 in loopOverImage()\n",
            "         np.unique(self.pred_logits_patches.argmax(axis=-1), return_counts = True): (array([0, 1, 2, 3, 4, 5, 6, 7, 8]),\n",
            "                                                                                     array([ 39770,  99593,   2396,  68682, 318534, 147163, 254023,   1530,\n",
            "                                                                                           343189]))\n",
            "[@debug] mosaic.py:368 in loopOverImage()- self.count_mask: 65985\n",
            "[@debug] mosaic.py:502 in loopToPredict()- self.count_mask_batch: 1245\n",
            "[@debug] mosaic.py:503 in loopToPredict()- self.count_mask: 65985\n",
            "[@debug] mosaic.py:374 in loopOverImage()\n",
            "         np.unique(self.prediction_mosaic, return_counts=True): (array([  0,   1,   2,   3,   4,   5,   6,   7,   8, 255], dtype=uint8),\n",
            "                                                                 array([ 2932303,    99593,     2396,    68682,   318534,   147163,\n",
            "                                                                         254023,     1530,   343189, 63726127]))\n",
            "[@debug] mosaic.py:379 in loopOverImage()\n",
            "         np.unique(self.prediction_mosaic, return_counts=True): (array([  0,   3,   6,   8, 255], dtype=uint8),\n",
            "                                                                 array([ 2892827,       30,        5,       60, 65000618]))\n"
          ],
          "name": "stderr"
        },
        {
          "output_type": "stream",
          "text": [
            "================== starting self.batch ... ==================\n"
          ],
          "name": "stdout"
        },
        {
          "output_type": "stream",
          "text": [
            "[@debug] mosaic.py:331 in loopOverImage()\n",
            "         self.count_mask_overall: 3735\n",
            "[@debug] mosaic.py:332 in loopOverImage()- self.batch: 3\n",
            "[@debug] mosaic.py:333 in loopOverImage()\n",
            "         self.batch * self.patches_per_batch: 3735\n",
            "[@debug] mosaic.py:334 in loopOverImage()\n",
            "         (self.batch + 1) * self.patches_per_batch: 4980\n",
            "[@debug] mosaic.py:340 in loopOverImage()\n",
            "         np.average(self.data.full_ims_test): 3.117\n",
            "         np.min(self.data.full_ims_test): -1.432\n",
            "         np.max(self.data.full_ims_test): 51.53\n",
            "[@debug] mosaic.py:341 in loopOverImage()\n",
            "         np.average(patches_in): 6.496\n",
            "         np.min(patches_in): -1.432\n",
            "         np.max(patches_in): 51.53\n",
            "[@debug] mosaic.py:342 in loopOverImage()\n",
            "         patches_in.shape: (1245, 12, 32, 32, 2)\n",
            "[@debug] mosaic.py:344 in loopOverImage()- self.count_mask_batch: 1245\n",
            "[@debug] mosaic.py:345 in loopOverImage()- self.count_mask: 65985\n",
            "[@debug] mosaic.py:350 in loopOverImage()\n",
            "         self.pred_logits_patches.dtype: dtype('float16')\n",
            "[@debug] mosaic.py:351 in loopOverImage()\n",
            "         self.pred_logits_patches.shape: (1245, 32, 32, 9)\n",
            "[@debug] mosaic.py:353 in loopOverImage()\n",
            "         np.unique(self.pred_logits_patches.argmax(axis=-1), return_counts = True): (array([0, 1, 2, 3, 4, 5, 6, 7, 8]),\n",
            "                                                                                     array([ 43462,  96697,   3268,  87604, 322230, 156678, 206281,    783,\n",
            "                                                                                           357877]))\n",
            "[@debug] mosaic.py:368 in loopOverImage()- self.count_mask: 65985\n",
            "[@debug] mosaic.py:502 in loopToPredict()- self.count_mask_batch: 1245\n",
            "[@debug] mosaic.py:503 in loopToPredict()- self.count_mask: 65985\n",
            "[@debug] mosaic.py:374 in loopOverImage()\n",
            "         np.unique(self.prediction_mosaic, return_counts=True): (array([  0,   1,   2,   3,   4,   5,   6,   7,   8, 255], dtype=uint8),\n",
            "                                                                 array([ 2904160,    96697,     3268,    87634,   322230,   156678,\n",
            "                                                                         206286,      783,   357937, 63757867]))\n",
            "[@debug] mosaic.py:379 in loopOverImage()\n",
            "         np.unique(self.prediction_mosaic, return_counts=True): (array([  0,   2,   3,   4,   6,   7,   8, 255], dtype=uint8),\n",
            "                                                                 array([ 2878963,      197,     1396,     2742,     7838,       10,\n",
            "                                                                           1776, 65000618]))\n"
          ],
          "name": "stderr"
        },
        {
          "output_type": "stream",
          "text": [
            "================== starting self.batch ... ==================\n"
          ],
          "name": "stdout"
        },
        {
          "output_type": "stream",
          "text": [
            "[@debug] mosaic.py:331 in loopOverImage()\n",
            "         self.count_mask_overall: 4980\n",
            "[@debug] mosaic.py:332 in loopOverImage()- self.batch: 4\n",
            "[@debug] mosaic.py:333 in loopOverImage()\n",
            "         self.batch * self.patches_per_batch: 4980\n",
            "[@debug] mosaic.py:334 in loopOverImage()\n",
            "         (self.batch + 1) * self.patches_per_batch: 6225\n",
            "[@debug] mosaic.py:340 in loopOverImage()\n",
            "         np.average(self.data.full_ims_test): 3.117\n",
            "         np.min(self.data.full_ims_test): -1.432\n",
            "         np.max(self.data.full_ims_test): 51.53\n",
            "[@debug] mosaic.py:341 in loopOverImage()\n",
            "         np.average(patches_in): 6.36\n",
            "         np.min(patches_in): -1.432\n",
            "         np.max(patches_in): 51.53\n",
            "[@debug] mosaic.py:342 in loopOverImage()\n",
            "         patches_in.shape: (1245, 12, 32, 32, 2)\n",
            "[@debug] mosaic.py:344 in loopOverImage()- self.count_mask_batch: 1245\n",
            "[@debug] mosaic.py:345 in loopOverImage()- self.count_mask: 65985\n",
            "[@debug] mosaic.py:350 in loopOverImage()\n",
            "         self.pred_logits_patches.dtype: dtype('float16')\n",
            "[@debug] mosaic.py:351 in loopOverImage()\n",
            "         self.pred_logits_patches.shape: (1245, 32, 32, 9)\n",
            "[@debug] mosaic.py:353 in loopOverImage()\n",
            "         np.unique(self.pred_logits_patches.argmax(axis=-1), return_counts = True): (array([0, 1, 2, 3, 4, 5, 6, 7, 8]),\n",
            "                                                                                     array([ 32158,  89608,   3376,  70190, 272731, 185340, 268803,   1188,\n",
            "                                                                                           351486]))\n",
            "[@debug] mosaic.py:368 in loopOverImage()- self.count_mask: 65985\n",
            "[@debug] mosaic.py:502 in loopToPredict()- self.count_mask_batch: 1245\n",
            "[@debug] mosaic.py:503 in loopToPredict()- self.count_mask: 65985\n",
            "[@debug] mosaic.py:374 in loopOverImage()\n",
            "         np.unique(self.prediction_mosaic, return_counts=True): (array([  0,   1,   2,   3,   4,   5,   6,   7,   8, 255], dtype=uint8),\n",
            "                                                                 array([ 2898689,    89608,     3573,    71586,   275473,   185340,\n",
            "                                                                         276641,     1198,   353262, 63738170]))\n",
            "[@debug] mosaic.py:379 in loopOverImage()\n",
            "         np.unique(self.prediction_mosaic, return_counts=True): (array([  0,   2,   3,   4,   6,   7,   8, 255], dtype=uint8),\n",
            "                                                                 array([ 2867577,      197,     1497,     2807,    19049,       10,\n",
            "                                                                           1785, 65000618]))\n"
          ],
          "name": "stderr"
        },
        {
          "output_type": "stream",
          "text": [
            "================== starting self.batch ... ==================\n"
          ],
          "name": "stdout"
        },
        {
          "output_type": "stream",
          "text": [
            "[@debug] mosaic.py:331 in loopOverImage()\n",
            "         self.count_mask_overall: 6225\n",
            "[@debug] mosaic.py:332 in loopOverImage()- self.batch: 5\n",
            "[@debug] mosaic.py:333 in loopOverImage()\n",
            "         self.batch * self.patches_per_batch: 6225\n",
            "[@debug] mosaic.py:334 in loopOverImage()\n",
            "         (self.batch + 1) * self.patches_per_batch: 7470\n",
            "[@debug] mosaic.py:340 in loopOverImage()\n",
            "         np.average(self.data.full_ims_test): 3.117\n",
            "         np.min(self.data.full_ims_test): -1.432\n",
            "         np.max(self.data.full_ims_test): 51.53\n",
            "[@debug] mosaic.py:341 in loopOverImage()\n",
            "         np.average(patches_in): 6.195\n",
            "         np.min(patches_in): -1.432\n",
            "         np.max(patches_in): 51.53\n",
            "[@debug] mosaic.py:342 in loopOverImage()\n",
            "         patches_in.shape: (1245, 12, 32, 32, 2)\n",
            "[@debug] mosaic.py:344 in loopOverImage()- self.count_mask_batch: 1245\n",
            "[@debug] mosaic.py:345 in loopOverImage()- self.count_mask: 65985\n",
            "[@debug] mosaic.py:350 in loopOverImage()\n",
            "         self.pred_logits_patches.dtype: dtype('float16')\n",
            "[@debug] mosaic.py:351 in loopOverImage()\n",
            "         self.pred_logits_patches.shape: (1245, 32, 32, 9)\n",
            "[@debug] mosaic.py:353 in loopOverImage()\n",
            "         np.unique(self.pred_logits_patches.argmax(axis=-1), return_counts = True): (array([0, 1, 2, 3, 4, 5, 6, 7, 8]),\n",
            "                                                                                     array([ 42274, 108959,   4015, 111507, 244677, 181424, 270949,   1236,\n",
            "                                                                                           309839]))\n",
            "[@debug] mosaic.py:368 in loopOverImage()- self.count_mask: 65985\n",
            "[@debug] mosaic.py:502 in loopToPredict()- self.count_mask_batch: 1245\n",
            "[@debug] mosaic.py:503 in loopToPredict()- self.count_mask: 65985\n",
            "[@debug] mosaic.py:374 in loopOverImage()\n",
            "         np.unique(self.prediction_mosaic, return_counts=True): (array([  0,   1,   2,   3,   4,   5,   6,   7,   8, 255], dtype=uint8),\n",
            "                                                                 array([ 2909371,   108959,     4212,   113004,   247484,   181424,\n",
            "                                                                         289998,     1246,   311624, 63726218]))\n",
            "[@debug] mosaic.py:379 in loopOverImage()\n",
            "         np.unique(self.prediction_mosaic, return_counts=True): (array([  0,   2,   3,   4,   6,   7,   8, 255], dtype=uint8),\n",
            "                                                                 array([ 2867573,      197,     1498,     2807,    19052,       10,\n",
            "                                                                           1785, 65000618]))\n"
          ],
          "name": "stderr"
        },
        {
          "output_type": "stream",
          "text": [
            "================== starting self.batch ... ==================\n"
          ],
          "name": "stdout"
        },
        {
          "output_type": "stream",
          "text": [
            "[@debug] mosaic.py:331 in loopOverImage()\n",
            "         self.count_mask_overall: 7470\n",
            "[@debug] mosaic.py:332 in loopOverImage()- self.batch: 6\n",
            "[@debug] mosaic.py:333 in loopOverImage()\n",
            "         self.batch * self.patches_per_batch: 7470\n",
            "[@debug] mosaic.py:334 in loopOverImage()\n",
            "         (self.batch + 1) * self.patches_per_batch: 8715\n",
            "[@debug] mosaic.py:340 in loopOverImage()\n",
            "         np.average(self.data.full_ims_test): 3.117\n",
            "         np.min(self.data.full_ims_test): -1.432\n",
            "         np.max(self.data.full_ims_test): 51.53\n",
            "[@debug] mosaic.py:341 in loopOverImage()\n",
            "         np.average(patches_in): 6.06\n",
            "         np.min(patches_in): -1.432\n",
            "         np.max(patches_in): 51.53\n",
            "[@debug] mosaic.py:342 in loopOverImage()\n",
            "         patches_in.shape: (1245, 12, 32, 32, 2)\n",
            "[@debug] mosaic.py:344 in loopOverImage()- self.count_mask_batch: 1245\n",
            "[@debug] mosaic.py:345 in loopOverImage()- self.count_mask: 65985\n",
            "[@debug] mosaic.py:350 in loopOverImage()\n",
            "         self.pred_logits_patches.dtype: dtype('float16')\n",
            "[@debug] mosaic.py:351 in loopOverImage()\n",
            "         self.pred_logits_patches.shape: (1245, 32, 32, 9)\n",
            "[@debug] mosaic.py:353 in loopOverImage()\n",
            "         np.unique(self.pred_logits_patches.argmax(axis=-1), return_counts = True): (array([0, 1, 2, 3, 4, 5, 6, 7, 8]),\n",
            "                                                                                     array([ 59217, 156274,   7629,  73853, 264518, 202130, 254943,   2132,\n",
            "                                                                                           254184]))\n",
            "[@debug] mosaic.py:368 in loopOverImage()- self.count_mask: 65985\n",
            "[@debug] mosaic.py:502 in loopToPredict()- self.count_mask_batch: 1245\n",
            "[@debug] mosaic.py:503 in loopToPredict()- self.count_mask: 65985\n",
            "[@debug] mosaic.py:374 in loopOverImage()\n",
            "         np.unique(self.prediction_mosaic, return_counts=True): (array([  0,   1,   2,   3,   4,   5,   6,   7,   8, 255], dtype=uint8),\n",
            "                                                                 array([ 2857089,   156274,     7826,    75351,   267325,   202130,\n",
            "                                                                         273995,     2142,   255969, 63795439]))\n",
            "[@debug] mosaic.py:379 in loopOverImage()\n",
            "         np.unique(self.prediction_mosaic, return_counts=True): (array([  0,   1,   2,   3,   4,   5,   6,   7,   8, 255], dtype=uint8),\n",
            "                                                                 array([ 2809577,      131,     1730,    24205,    13647,     1702,\n",
            "                                                                          39865,       10,     2055, 65000618]))\n"
          ],
          "name": "stderr"
        },
        {
          "output_type": "stream",
          "text": [
            "================== starting self.batch ... ==================\n"
          ],
          "name": "stdout"
        },
        {
          "output_type": "stream",
          "text": [
            "[@debug] mosaic.py:331 in loopOverImage()\n",
            "         self.count_mask_overall: 8715\n",
            "[@debug] mosaic.py:332 in loopOverImage()- self.batch: 7\n",
            "[@debug] mosaic.py:333 in loopOverImage()\n",
            "         self.batch * self.patches_per_batch: 8715\n",
            "[@debug] mosaic.py:334 in loopOverImage()\n",
            "         (self.batch + 1) * self.patches_per_batch: 9960\n",
            "[@debug] mosaic.py:340 in loopOverImage()\n",
            "         np.average(self.data.full_ims_test): 3.117\n",
            "         np.min(self.data.full_ims_test): -1.432\n",
            "         np.max(self.data.full_ims_test): 51.53\n",
            "[@debug] mosaic.py:341 in loopOverImage()\n",
            "         np.average(patches_in): 5.863\n",
            "         np.min(patches_in): -1.432\n",
            "         np.max(patches_in): 51.53\n",
            "[@debug] mosaic.py:342 in loopOverImage()\n",
            "         patches_in.shape: (1245, 12, 32, 32, 2)\n",
            "[@debug] mosaic.py:344 in loopOverImage()- self.count_mask_batch: 1245\n",
            "[@debug] mosaic.py:345 in loopOverImage()- self.count_mask: 65985\n",
            "[@debug] mosaic.py:350 in loopOverImage()\n",
            "         self.pred_logits_patches.dtype: dtype('float16')\n",
            "[@debug] mosaic.py:351 in loopOverImage()\n",
            "         self.pred_logits_patches.shape: (1245, 32, 32, 9)\n",
            "[@debug] mosaic.py:353 in loopOverImage()\n",
            "         np.unique(self.pred_logits_patches.argmax(axis=-1), return_counts = True): (array([0, 1, 2, 3, 4, 5, 6, 7, 8]),\n",
            "                                                                                     array([ 85540, 194411,  24822,  89721, 271516, 144302, 218687,   1625,\n",
            "                                                                                           244256]))\n",
            "[@debug] mosaic.py:368 in loopOverImage()- self.count_mask: 65985\n",
            "[@debug] mosaic.py:502 in loopToPredict()- self.count_mask_batch: 1245\n",
            "[@debug] mosaic.py:503 in loopToPredict()- self.count_mask: 65985\n",
            "[@debug] mosaic.py:374 in loopOverImage()\n",
            "         np.unique(self.prediction_mosaic, return_counts=True): (array([  0,   1,   2,   3,   4,   5,   6,   7,   8, 255], dtype=uint8),\n",
            "                                                                 array([ 2788133,   194542,    26552,   113926,   285163,   146004,\n",
            "                                                                         258552,     1635,   246311, 63832722]))\n",
            "[@debug] mosaic.py:379 in loopOverImage()\n",
            "         np.unique(self.prediction_mosaic, return_counts=True): (array([  0,   1,   2,   3,   4,   5,   6,   7,   8, 255], dtype=uint8),\n",
            "                                                                 array([ 2716434,    18246,    11964,    35530,    43772,     3961,\n",
            "                                                                          45545,       10,    17460, 65000618]))\n"
          ],
          "name": "stderr"
        },
        {
          "output_type": "stream",
          "text": [
            "================== starting self.batch ... ==================\n"
          ],
          "name": "stdout"
        },
        {
          "output_type": "stream",
          "text": [
            "[@debug] mosaic.py:331 in loopOverImage()\n",
            "         self.count_mask_overall: 9960\n",
            "[@debug] mosaic.py:332 in loopOverImage()- self.batch: 8\n",
            "[@debug] mosaic.py:333 in loopOverImage()\n",
            "         self.batch * self.patches_per_batch: 9960\n",
            "[@debug] mosaic.py:334 in loopOverImage()\n",
            "         (self.batch + 1) * self.patches_per_batch: 11205\n",
            "[@debug] mosaic.py:340 in loopOverImage()\n",
            "         np.average(self.data.full_ims_test): 3.117\n",
            "         np.min(self.data.full_ims_test): -1.432\n",
            "         np.max(self.data.full_ims_test): 51.53\n",
            "[@debug] mosaic.py:341 in loopOverImage()\n",
            "         np.average(patches_in): 5.75\n",
            "         np.min(patches_in): -1.432\n",
            "         np.max(patches_in): 51.53\n",
            "[@debug] mosaic.py:342 in loopOverImage()\n",
            "         patches_in.shape: (1245, 12, 32, 32, 2)\n",
            "[@debug] mosaic.py:344 in loopOverImage()- self.count_mask_batch: 1245\n",
            "[@debug] mosaic.py:345 in loopOverImage()- self.count_mask: 65985\n",
            "[@debug] mosaic.py:350 in loopOverImage()\n",
            "         self.pred_logits_patches.dtype: dtype('float16')\n",
            "[@debug] mosaic.py:351 in loopOverImage()\n",
            "         self.pred_logits_patches.shape: (1245, 32, 32, 9)\n",
            "[@debug] mosaic.py:353 in loopOverImage()\n",
            "         np.unique(self.pred_logits_patches.argmax(axis=-1), return_counts = True): (array([0, 1, 2, 3, 4, 5, 6, 7, 8]),\n",
            "                                                                                     array([ 70914, 231225,  40819, 118276, 239971, 186791, 199889,   1668,\n",
            "                                                                                           185327]))\n",
            "[@debug] mosaic.py:368 in loopOverImage()- self.count_mask: 65985\n",
            "[@debug] mosaic.py:502 in loopToPredict()- self.count_mask_batch: 1245\n",
            "[@debug] mosaic.py:503 in loopToPredict()- self.count_mask: 65985\n",
            "[@debug] mosaic.py:374 in loopOverImage()\n",
            "         np.unique(self.prediction_mosaic, return_counts=True): (array([  0,   1,   2,   3,   4,   5,   6,   7,   8, 255], dtype=uint8),\n",
            "                                                                 array([ 2697909,   249471,    52783,   153806,   283743,   190752,\n",
            "                                                                         245434,     1678,   202787, 63815177]))\n",
            "[@debug] mosaic.py:379 in loopOverImage()\n",
            "         np.unique(self.prediction_mosaic, return_counts=True): (array([  0,   1,   2,   3,   4,   5,   6,   7,   8, 255], dtype=uint8),\n",
            "                                                                 array([ 2629735,    49015,    25888,    41329,    64703,     4331,\n",
            "                                                                          46347,       10,    31564, 65000618]))\n"
          ],
          "name": "stderr"
        },
        {
          "output_type": "stream",
          "text": [
            "================== starting self.batch ... ==================\n"
          ],
          "name": "stdout"
        },
        {
          "output_type": "stream",
          "text": [
            "[@debug] mosaic.py:331 in loopOverImage()\n",
            "         self.count_mask_overall: 11205\n",
            "[@debug] mosaic.py:332 in loopOverImage()- self.batch: 9\n",
            "[@debug] mosaic.py:333 in loopOverImage()\n",
            "         self.batch * self.patches_per_batch: 11205\n",
            "[@debug] mosaic.py:334 in loopOverImage()\n",
            "         (self.batch + 1) * self.patches_per_batch: 12450\n",
            "[@debug] mosaic.py:340 in loopOverImage()\n",
            "         np.average(self.data.full_ims_test): 3.117\n",
            "         np.min(self.data.full_ims_test): -1.432\n",
            "         np.max(self.data.full_ims_test): 51.53\n",
            "[@debug] mosaic.py:341 in loopOverImage()\n",
            "         np.average(patches_in): 5.617\n",
            "         np.min(patches_in): -1.432\n",
            "         np.max(patches_in): 51.53\n",
            "[@debug] mosaic.py:342 in loopOverImage()\n",
            "         patches_in.shape: (1245, 12, 32, 32, 2)\n",
            "[@debug] mosaic.py:344 in loopOverImage()- self.count_mask_batch: 1245\n",
            "[@debug] mosaic.py:345 in loopOverImage()- self.count_mask: 65985\n",
            "[@debug] mosaic.py:350 in loopOverImage()\n",
            "         self.pred_logits_patches.dtype: dtype('float16')\n",
            "[@debug] mosaic.py:351 in loopOverImage()\n",
            "         self.pred_logits_patches.shape: (1245, 32, 32, 9)\n",
            "[@debug] mosaic.py:353 in loopOverImage()\n",
            "         np.unique(self.pred_logits_patches.argmax(axis=-1), return_counts = True): (array([0, 1, 2, 3, 4, 5, 6, 7, 8]),\n",
            "                                                                                     array([108741, 206416,   2104, 101137, 255643, 177095, 202610,   1003,\n",
            "                                                                                           220131]))\n",
            "[@debug] mosaic.py:368 in loopOverImage()- self.count_mask: 65985\n",
            "[@debug] mosaic.py:502 in loopToPredict()- self.count_mask_batch: 1245\n",
            "[@debug] mosaic.py:503 in loopToPredict()- self.count_mask: 65985\n",
            "[@debug] mosaic.py:374 in loopOverImage()\n",
            "         np.unique(self.prediction_mosaic, return_counts=True): (array([  0,   1,   2,   3,   4,   5,   6,   7,   8, 255], dtype=uint8),\n",
            "                                                                 array([ 2641157,   255431,    27992,   142466,   320346,   181426,\n",
            "                                                                         248957,     1013,   251695, 63823057]))\n",
            "[@debug] mosaic.py:379 in loopOverImage()\n",
            "         np.unique(self.prediction_mosaic, return_counts=True): (array([  0,   1,   2,   3,   4,   5,   6,   7,   8, 255], dtype=uint8),\n",
            "                                                                 array([ 2539160,    89417,    26102,    52087,    88729,    12360,\n",
            "                                                                          50338,       10,    34719, 65000618]))\n"
          ],
          "name": "stderr"
        },
        {
          "output_type": "stream",
          "text": [
            "================== starting self.batch ... ==================\n"
          ],
          "name": "stdout"
        },
        {
          "output_type": "stream",
          "text": [
            "[@debug] mosaic.py:331 in loopOverImage()\n",
            "         self.count_mask_overall: 12450\n",
            "[@debug] mosaic.py:332 in loopOverImage()- self.batch: 10\n",
            "[@debug] mosaic.py:333 in loopOverImage()\n",
            "         self.batch * self.patches_per_batch: 12450\n",
            "[@debug] mosaic.py:334 in loopOverImage()\n",
            "         (self.batch + 1) * self.patches_per_batch: 13695\n",
            "[@debug] mosaic.py:340 in loopOverImage()\n",
            "         np.average(self.data.full_ims_test): 3.117\n",
            "         np.min(self.data.full_ims_test): -1.432\n",
            "         np.max(self.data.full_ims_test): 51.53\n",
            "[@debug] mosaic.py:341 in loopOverImage()\n",
            "         np.average(patches_in): 5.484\n",
            "         np.min(patches_in): -1.432\n",
            "         np.max(patches_in): 51.53\n",
            "[@debug] mosaic.py:342 in loopOverImage()\n",
            "         patches_in.shape: (1245, 12, 32, 32, 2)\n",
            "[@debug] mosaic.py:344 in loopOverImage()- self.count_mask_batch: 1245\n",
            "[@debug] mosaic.py:345 in loopOverImage()- self.count_mask: 65985\n",
            "[@debug] mosaic.py:350 in loopOverImage()\n",
            "         self.pred_logits_patches.dtype: dtype('float16')\n",
            "[@debug] mosaic.py:351 in loopOverImage()\n",
            "         self.pred_logits_patches.shape: (1245, 32, 32, 9)\n",
            "[@debug] mosaic.py:353 in loopOverImage()\n",
            "         np.unique(self.pred_logits_patches.argmax(axis=-1), return_counts = True): (array([0, 1, 2, 3, 4, 5, 6, 7, 8]),\n",
            "                                                                                     array([100225, 180224,   6397, 131318, 225794, 127934, 218122,   1303,\n",
            "                                                                                           283563]))\n",
            "[@debug] mosaic.py:368 in loopOverImage()- self.count_mask: 65985\n",
            "[@debug] mosaic.py:502 in loopToPredict()- self.count_mask_batch: 1245\n",
            "[@debug] mosaic.py:503 in loopToPredict()- self.count_mask: 65985\n",
            "[@debug] mosaic.py:374 in loopOverImage()\n",
            "         np.unique(self.prediction_mosaic, return_counts=True): (array([  0,   1,   2,   3,   4,   5,   6,   7,   8, 255], dtype=uint8),\n",
            "                                                                 array([ 2589012,   269641,    32499,   183405,   314523,   140294,\n",
            "                                                                         268460,     1313,   318282, 63776111]))\n",
            "[@debug] mosaic.py:379 in loopOverImage()\n",
            "         np.unique(self.prediction_mosaic, return_counts=True): (array([  0,   1,   2,   3,   4,   5,   6,   7,   8, 255], dtype=uint8),\n",
            "                                                                 array([ 2494290,   117403,    26150,    53098,   102713,    12671,\n",
            "                                                                          50675,       38,    35884, 65000618]))\n"
          ],
          "name": "stderr"
        },
        {
          "output_type": "stream",
          "text": [
            "================== starting self.batch ... ==================\n"
          ],
          "name": "stdout"
        },
        {
          "output_type": "stream",
          "text": [
            "[@debug] mosaic.py:331 in loopOverImage()\n",
            "         self.count_mask_overall: 13695\n",
            "[@debug] mosaic.py:332 in loopOverImage()- self.batch: 11\n",
            "[@debug] mosaic.py:333 in loopOverImage()\n",
            "         self.batch * self.patches_per_batch: 13695\n",
            "[@debug] mosaic.py:334 in loopOverImage()\n",
            "         (self.batch + 1) * self.patches_per_batch: 14940\n",
            "[@debug] mosaic.py:340 in loopOverImage()\n",
            "         np.average(self.data.full_ims_test): 3.117\n",
            "         np.min(self.data.full_ims_test): -1.432\n",
            "         np.max(self.data.full_ims_test): 51.53\n",
            "[@debug] mosaic.py:341 in loopOverImage()\n",
            "         np.average(patches_in): 5.34\n",
            "         np.min(patches_in): -1.432\n",
            "         np.max(patches_in): 51.53\n",
            "[@debug] mosaic.py:342 in loopOverImage()\n",
            "         patches_in.shape: (1245, 12, 32, 32, 2)\n",
            "[@debug] mosaic.py:344 in loopOverImage()- self.count_mask_batch: 1245\n",
            "[@debug] mosaic.py:345 in loopOverImage()- self.count_mask: 65985\n",
            "[@debug] mosaic.py:350 in loopOverImage()\n",
            "         self.pred_logits_patches.dtype: dtype('float16')\n",
            "[@debug] mosaic.py:351 in loopOverImage()\n",
            "         self.pred_logits_patches.shape: (1245, 32, 32, 9)\n",
            "[@debug] mosaic.py:353 in loopOverImage()\n",
            "         np.unique(self.pred_logits_patches.argmax(axis=-1), return_counts = True): (array([0, 1, 2, 3, 4, 5, 6, 7, 8]),\n",
            "                                                                                     array([105349, 204477,   4939,  74626, 235965, 193061, 194653,   1393,\n",
            "                                                                                           260417]))\n",
            "[@debug] mosaic.py:368 in loopOverImage()- self.count_mask: 65985\n",
            "[@debug] mosaic.py:502 in loopToPredict()- self.count_mask_batch: 1245\n",
            "[@debug] mosaic.py:503 in loopToPredict()- self.count_mask: 65985\n",
            "[@debug] mosaic.py:374 in loopOverImage()\n",
            "         np.unique(self.prediction_mosaic, return_counts=True): (array([  0,   1,   2,   3,   4,   5,   6,   7,   8, 255], dtype=uint8),\n",
            "                                                                 array([ 2537544,   321880,    31089,   127724,   338678,   205732,\n",
            "                                                                         245328,     1431,   296301, 63787833]))\n",
            "[@debug] mosaic.py:379 in loopOverImage()\n",
            "         np.unique(self.prediction_mosaic, return_counts=True): (array([  0,   1,   2,   3,   4,   5,   6,   7,   8, 255], dtype=uint8),\n",
            "                                                                 array([ 2437028,   137498,    26154,    55279,   111959,    20036,\n",
            "                                                                          53468,       38,    51462, 65000618]))\n"
          ],
          "name": "stderr"
        },
        {
          "output_type": "stream",
          "text": [
            "================== starting self.batch ... ==================\n"
          ],
          "name": "stdout"
        },
        {
          "output_type": "stream",
          "text": [
            "[@debug] mosaic.py:331 in loopOverImage()\n",
            "         self.count_mask_overall: 14940\n",
            "[@debug] mosaic.py:332 in loopOverImage()- self.batch: 12\n",
            "[@debug] mosaic.py:333 in loopOverImage()\n",
            "         self.batch * self.patches_per_batch: 14940\n",
            "[@debug] mosaic.py:334 in loopOverImage()\n",
            "         (self.batch + 1) * self.patches_per_batch: 16185\n",
            "[@debug] mosaic.py:340 in loopOverImage()\n",
            "         np.average(self.data.full_ims_test): 3.117\n",
            "         np.min(self.data.full_ims_test): -1.432\n",
            "         np.max(self.data.full_ims_test): 51.53\n",
            "[@debug] mosaic.py:341 in loopOverImage()\n",
            "         np.average(patches_in): 5.164\n",
            "         np.min(patches_in): -1.432\n",
            "         np.max(patches_in): 51.53\n",
            "[@debug] mosaic.py:342 in loopOverImage()\n",
            "         patches_in.shape: (1245, 12, 32, 32, 2)\n",
            "[@debug] mosaic.py:344 in loopOverImage()- self.count_mask_batch: 1245\n",
            "[@debug] mosaic.py:345 in loopOverImage()- self.count_mask: 65985\n",
            "[@debug] mosaic.py:350 in loopOverImage()\n",
            "         self.pred_logits_patches.dtype: dtype('float16')\n",
            "[@debug] mosaic.py:351 in loopOverImage()\n",
            "         self.pred_logits_patches.shape: (1245, 32, 32, 9)\n",
            "[@debug] mosaic.py:353 in loopOverImage()\n",
            "         np.unique(self.pred_logits_patches.argmax(axis=-1), return_counts = True): (array([0, 1, 2, 3, 4, 5, 6, 7, 8]),\n",
            "                                                                                     array([ 94619, 236852,   8454, 124705, 238416, 155206, 206871,   1253,\n",
            "                                                                                           208504]))\n",
            "[@debug] mosaic.py:368 in loopOverImage()- self.count_mask: 65985\n",
            "[@debug] mosaic.py:502 in loopToPredict()- self.count_mask_batch: 1245\n",
            "[@debug] mosaic.py:503 in loopToPredict()- self.count_mask: 65985\n",
            "[@debug] mosaic.py:374 in loopOverImage()\n",
            "         np.unique(self.prediction_mosaic, return_counts=True): (array([  0,   1,   2,   3,   4,   5,   6,   7,   8, 255], dtype=uint8),\n",
            "                                                                 array([ 2452808,   374350,    34608,   179984,   350375,   175242,\n",
            "                                                                         260339,     1291,   259966, 63804577]))\n",
            "[@debug] mosaic.py:379 in loopOverImage()\n",
            "         np.unique(self.prediction_mosaic, return_counts=True): (array([  0,   1,   2,   3,   4,   5,   6,   7,   8, 255], dtype=uint8),\n",
            "                                                                 array([ 2362837,   168022,    26213,    76817,   120485,    25241,\n",
            "                                                                          57053,       38,    56216, 65000618]))\n"
          ],
          "name": "stderr"
        },
        {
          "output_type": "stream",
          "text": [
            "================== starting self.batch ... ==================\n"
          ],
          "name": "stdout"
        },
        {
          "output_type": "stream",
          "text": [
            "[@debug] mosaic.py:331 in loopOverImage()\n",
            "         self.count_mask_overall: 16185\n",
            "[@debug] mosaic.py:332 in loopOverImage()- self.batch: 13\n",
            "[@debug] mosaic.py:333 in loopOverImage()\n",
            "         self.batch * self.patches_per_batch: 16185\n",
            "[@debug] mosaic.py:334 in loopOverImage()\n",
            "         (self.batch + 1) * self.patches_per_batch: 17430\n",
            "[@debug] mosaic.py:340 in loopOverImage()\n",
            "         np.average(self.data.full_ims_test): 3.117\n",
            "         np.min(self.data.full_ims_test): -1.432\n",
            "         np.max(self.data.full_ims_test): 51.53\n",
            "[@debug] mosaic.py:341 in loopOverImage()\n",
            "         np.average(patches_in): 5.035\n",
            "         np.min(patches_in): -1.432\n",
            "         np.max(patches_in): 51.53\n",
            "[@debug] mosaic.py:342 in loopOverImage()\n",
            "         patches_in.shape: (1245, 12, 32, 32, 2)\n",
            "[@debug] mosaic.py:344 in loopOverImage()- self.count_mask_batch: 1245\n",
            "[@debug] mosaic.py:345 in loopOverImage()- self.count_mask: 65985\n",
            "[@debug] mosaic.py:350 in loopOverImage()\n",
            "         self.pred_logits_patches.dtype: dtype('float16')\n",
            "[@debug] mosaic.py:351 in loopOverImage()\n",
            "         self.pred_logits_patches.shape: (1245, 32, 32, 9)\n",
            "[@debug] mosaic.py:353 in loopOverImage()\n",
            "         np.unique(self.pred_logits_patches.argmax(axis=-1), return_counts = True): (array([0, 1, 2, 3, 4, 5, 6, 7, 8]),\n",
            "                                                                                     array([ 87488, 281109,   3018, 123266, 219852, 154498, 231924,    815,\n",
            "                                                                                           172910]))\n",
            "[@debug] mosaic.py:368 in loopOverImage()- self.count_mask: 65985\n",
            "[@debug] mosaic.py:502 in loopToPredict()- self.count_mask_batch: 1245\n",
            "[@debug] mosaic.py:503 in loopToPredict()- self.count_mask: 65985\n",
            "[@debug] mosaic.py:374 in loopOverImage()\n",
            "         np.unique(self.prediction_mosaic, return_counts=True): (array([  0,   1,   2,   3,   4,   5,   6,   7,   8, 255], dtype=uint8),\n",
            "                                                                 array([ 2367088,   449131,    29231,   200083,   340337,   179739,\n",
            "                                                                         288977,      853,   229126, 63808975]))\n",
            "[@debug] mosaic.py:379 in loopOverImage()\n",
            "         np.unique(self.prediction_mosaic, return_counts=True): (array([  0,   1,   2,   3,   4,   5,   6,   7,   8, 255], dtype=uint8),\n",
            "                                                                 array([ 2280423,   239015,    26213,    78422,   120492,    29433,\n",
            "                                                                          62615,       38,    56271, 65000618]))\n"
          ],
          "name": "stderr"
        },
        {
          "output_type": "stream",
          "text": [
            "================== starting self.batch ... ==================\n"
          ],
          "name": "stdout"
        },
        {
          "output_type": "stream",
          "text": [
            "[@debug] mosaic.py:331 in loopOverImage()\n",
            "         self.count_mask_overall: 17430\n",
            "[@debug] mosaic.py:332 in loopOverImage()- self.batch: 14\n",
            "[@debug] mosaic.py:333 in loopOverImage()\n",
            "         self.batch * self.patches_per_batch: 17430\n",
            "[@debug] mosaic.py:334 in loopOverImage()\n",
            "         (self.batch + 1) * self.patches_per_batch: 18675\n",
            "[@debug] mosaic.py:340 in loopOverImage()\n",
            "         np.average(self.data.full_ims_test): 3.117\n",
            "         np.min(self.data.full_ims_test): -1.432\n",
            "         np.max(self.data.full_ims_test): 51.53\n",
            "[@debug] mosaic.py:341 in loopOverImage()\n",
            "         np.average(patches_in): 4.887\n",
            "         np.min(patches_in): -1.432\n",
            "         np.max(patches_in): 51.53\n",
            "[@debug] mosaic.py:342 in loopOverImage()\n",
            "         patches_in.shape: (1245, 12, 32, 32, 2)\n",
            "[@debug] mosaic.py:344 in loopOverImage()- self.count_mask_batch: 1245\n",
            "[@debug] mosaic.py:345 in loopOverImage()- self.count_mask: 65985\n",
            "[@debug] mosaic.py:350 in loopOverImage()\n",
            "         self.pred_logits_patches.dtype: dtype('float16')\n",
            "[@debug] mosaic.py:351 in loopOverImage()\n",
            "         self.pred_logits_patches.shape: (1245, 32, 32, 9)\n",
            "[@debug] mosaic.py:353 in loopOverImage()\n",
            "         np.unique(self.pred_logits_patches.argmax(axis=-1), return_counts = True): (array([0, 1, 2, 3, 4, 5, 6, 7, 8]),\n",
            "                                                                                     array([118023, 245343,  24487,  90021, 190831, 206773, 215222,   1352,\n",
            "                                                                                           182828]))\n",
            "[@debug] mosaic.py:368 in loopOverImage()- self.count_mask: 65985\n",
            "[@debug] mosaic.py:502 in loopToPredict()- self.count_mask_batch: 1245\n",
            "[@debug] mosaic.py:503 in loopToPredict()- self.count_mask: 65985\n",
            "[@debug] mosaic.py:374 in loopOverImage()\n",
            "         np.unique(self.prediction_mosaic, return_counts=True): (array([  0,   1,   2,   3,   4,   5,   6,   7,   8, 255], dtype=uint8),\n",
            "                                                                 array([ 2335503,   484358,    50700,   168443,   311323,   236206,\n",
            "                                                                         277837,     1390,   239099, 63788681]))\n",
            "[@debug] mosaic.py:379 in loopOverImage()\n",
            "         np.unique(self.prediction_mosaic, return_counts=True): (array([  0,   1,   2,   3,   4,   5,   6,   7,   8, 255], dtype=uint8),\n",
            "                                                                 array([ 2222799,   280705,    26577,    78626,   125603,    31907,\n",
            "                                                                          66984,       42,    59679, 65000618]))\n"
          ],
          "name": "stderr"
        },
        {
          "output_type": "stream",
          "text": [
            "================== starting self.batch ... ==================\n"
          ],
          "name": "stdout"
        },
        {
          "output_type": "stream",
          "text": [
            "[@debug] mosaic.py:331 in loopOverImage()\n",
            "         self.count_mask_overall: 18675\n",
            "[@debug] mosaic.py:332 in loopOverImage()- self.batch: 15\n",
            "[@debug] mosaic.py:333 in loopOverImage()\n",
            "         self.batch * self.patches_per_batch: 18675\n",
            "[@debug] mosaic.py:334 in loopOverImage()\n",
            "         (self.batch + 1) * self.patches_per_batch: 19920\n",
            "[@debug] mosaic.py:340 in loopOverImage()\n",
            "         np.average(self.data.full_ims_test): 3.117\n",
            "         np.min(self.data.full_ims_test): -1.432\n",
            "         np.max(self.data.full_ims_test): 51.53\n",
            "[@debug] mosaic.py:341 in loopOverImage()\n",
            "         np.average(patches_in): 4.695\n",
            "         np.min(patches_in): -1.432\n",
            "         np.max(patches_in): 51.53\n",
            "[@debug] mosaic.py:342 in loopOverImage()\n",
            "         patches_in.shape: (1245, 12, 32, 32, 2)\n",
            "[@debug] mosaic.py:344 in loopOverImage()- self.count_mask_batch: 1245\n",
            "[@debug] mosaic.py:345 in loopOverImage()- self.count_mask: 65985\n",
            "[@debug] mosaic.py:350 in loopOverImage()\n",
            "         self.pred_logits_patches.dtype: dtype('float16')\n",
            "[@debug] mosaic.py:351 in loopOverImage()\n",
            "         self.pred_logits_patches.shape: (1245, 32, 32, 9)\n",
            "[@debug] mosaic.py:353 in loopOverImage()\n",
            "         np.unique(self.pred_logits_patches.argmax(axis=-1), return_counts = True): (array([0, 1, 2, 3, 4, 5, 6, 7, 8]),\n",
            "                                                                                     array([186911, 204908,  28898,  89103, 164550, 154782, 233243,   2387,\n",
            "                                                                                           210098]))\n",
            "[@debug] mosaic.py:368 in loopOverImage()- self.count_mask: 65985\n",
            "[@debug] mosaic.py:502 in loopToPredict()- self.count_mask_batch: 1245\n",
            "[@debug] mosaic.py:503 in loopToPredict()- self.count_mask: 65985\n",
            "[@debug] mosaic.py:374 in loopOverImage()\n",
            "         np.unique(self.prediction_mosaic, return_counts=True): (array([  0,   1,   2,   3,   4,   5,   6,   7,   8, 255], dtype=uint8),\n",
            "                                                                 array([ 2302303,   485613,    55475,   167729,   290153,   186689,\n",
            "                                                                         300227,     2429,   269777, 63833145]))\n",
            "[@debug] mosaic.py:379 in loopOverImage()\n",
            "         np.unique(self.prediction_mosaic, return_counts=True): (array([  0,   1,   2,   3,   4,   5,   6,   7,   8, 255], dtype=uint8),\n",
            "                                                                 array([ 2132228,   331642,    26971,    97689,   137037,    33356,\n",
            "                                                                          74059,       44,    59896, 65000618]))\n"
          ],
          "name": "stderr"
        },
        {
          "output_type": "stream",
          "text": [
            "================== starting self.batch ... ==================\n"
          ],
          "name": "stdout"
        },
        {
          "output_type": "stream",
          "text": [
            "[@debug] mosaic.py:331 in loopOverImage()\n",
            "         self.count_mask_overall: 19920\n",
            "[@debug] mosaic.py:332 in loopOverImage()- self.batch: 16\n",
            "[@debug] mosaic.py:333 in loopOverImage()\n",
            "         self.batch * self.patches_per_batch: 19920\n",
            "[@debug] mosaic.py:334 in loopOverImage()\n",
            "         (self.batch + 1) * self.patches_per_batch: 21165\n",
            "[@debug] mosaic.py:340 in loopOverImage()\n",
            "         np.average(self.data.full_ims_test): 3.117\n",
            "         np.min(self.data.full_ims_test): -1.432\n",
            "         np.max(self.data.full_ims_test): 51.53\n",
            "[@debug] mosaic.py:341 in loopOverImage()\n",
            "         np.average(patches_in): 4.492\n",
            "         np.min(patches_in): -1.432\n",
            "         np.max(patches_in): 51.53\n",
            "[@debug] mosaic.py:342 in loopOverImage()\n",
            "         patches_in.shape: (1245, 12, 32, 32, 2)\n",
            "[@debug] mosaic.py:344 in loopOverImage()- self.count_mask_batch: 1245\n",
            "[@debug] mosaic.py:345 in loopOverImage()- self.count_mask: 65985\n",
            "[@debug] mosaic.py:350 in loopOverImage()\n",
            "         self.pred_logits_patches.dtype: dtype('float16')\n",
            "[@debug] mosaic.py:351 in loopOverImage()\n",
            "         self.pred_logits_patches.shape: (1245, 32, 32, 9)\n",
            "[@debug] mosaic.py:353 in loopOverImage()\n",
            "         np.unique(self.pred_logits_patches.argmax(axis=-1), return_counts = True): (array([0, 1, 2, 3, 4, 5, 6, 7, 8]),\n",
            "                                                                                     array([191555, 272401,  12007, 112354, 133091,  95073, 305521,   4256,\n",
            "                                                                                           148622]))\n",
            "[@debug] mosaic.py:368 in loopOverImage()- self.count_mask: 65985\n",
            "[@debug] mosaic.py:502 in loopToPredict()- self.count_mask_batch: 1245\n",
            "[@debug] mosaic.py:503 in loopToPredict()- self.count_mask: 65985\n",
            "[@debug] mosaic.py:374 in loopOverImage()\n",
            "         np.unique(self.prediction_mosaic, return_counts=True): (array([  0,   1,   2,   3,   4,   5,   6,   7,   8, 255], dtype=uint8),\n",
            "                                                                 array([ 2256386,   604043,    38978,   210043,   270128,   128429,\n",
            "                                                                         379580,     4300,   208518, 63793135]))\n",
            "[@debug] mosaic.py:379 in loopOverImage()\n",
            "         np.unique(self.prediction_mosaic, return_counts=True): (array([  0,   1,   2,   3,   4,   5,   6,   7,   8, 255], dtype=uint8),\n",
            "                                                                 array([ 2076387,   343838,    27546,   121889,   139916,    33526,\n",
            "                                                                          89714,       62,    60044, 65000618]))\n"
          ],
          "name": "stderr"
        },
        {
          "output_type": "stream",
          "text": [
            "================== starting self.batch ... ==================\n"
          ],
          "name": "stdout"
        },
        {
          "output_type": "stream",
          "text": [
            "[@debug] mosaic.py:331 in loopOverImage()\n",
            "         self.count_mask_overall: 21165\n",
            "[@debug] mosaic.py:332 in loopOverImage()- self.batch: 17\n",
            "[@debug] mosaic.py:333 in loopOverImage()\n",
            "         self.batch * self.patches_per_batch: 21165\n",
            "[@debug] mosaic.py:334 in loopOverImage()\n",
            "         (self.batch + 1) * self.patches_per_batch: 22410\n",
            "[@debug] mosaic.py:340 in loopOverImage()\n",
            "         np.average(self.data.full_ims_test): 3.117\n",
            "         np.min(self.data.full_ims_test): -1.432\n",
            "         np.max(self.data.full_ims_test): 51.53\n",
            "[@debug] mosaic.py:341 in loopOverImage()\n",
            "         np.average(patches_in): 4.414\n",
            "         np.min(patches_in): -1.432\n",
            "         np.max(patches_in): 51.53\n",
            "[@debug] mosaic.py:342 in loopOverImage()\n",
            "         patches_in.shape: (1245, 12, 32, 32, 2)\n",
            "[@debug] mosaic.py:344 in loopOverImage()- self.count_mask_batch: 1245\n",
            "[@debug] mosaic.py:345 in loopOverImage()- self.count_mask: 65985\n",
            "[@debug] mosaic.py:350 in loopOverImage()\n",
            "         self.pred_logits_patches.dtype: dtype('float16')\n",
            "[@debug] mosaic.py:351 in loopOverImage()\n",
            "         self.pred_logits_patches.shape: (1245, 32, 32, 9)\n",
            "[@debug] mosaic.py:353 in loopOverImage()\n",
            "         np.unique(self.pred_logits_patches.argmax(axis=-1), return_counts = True): (array([0, 1, 2, 3, 4, 5, 6, 7, 8]),\n",
            "                                                                                     array([158261, 428040,   8199, 101821,  92408, 140205, 262193,   2441,\n",
            "                                                                                            81312]))\n",
            "[@debug] mosaic.py:368 in loopOverImage()- self.count_mask: 65985\n",
            "[@debug] mosaic.py:502 in loopToPredict()- self.count_mask_batch: 1245\n",
            "[@debug] mosaic.py:503 in loopToPredict()- self.count_mask: 65985\n",
            "[@debug] mosaic.py:374 in loopOverImage()\n",
            "         np.unique(self.prediction_mosaic, return_counts=True): (array([  0,   1,   2,   3,   4,   5,   6,   7,   8, 255], dtype=uint8),\n",
            "                                                                 array([ 2207316,   771878,    35745,   223710,   232324,   173731,\n",
            "                                                                         351907,     2503,   141356, 63753070]))\n",
            "[@debug] mosaic.py:379 in loopOverImage()\n",
            "         np.unique(self.prediction_mosaic, return_counts=True): (array([  0,   1,   2,   3,   4,   5,   6,   7,   8, 255], dtype=uint8),\n",
            "                                                                 array([ 2050708,   357723,    27548,   131181,   140011,    33547,\n",
            "                                                                          92063,       62,    60079, 65000618]))\n"
          ],
          "name": "stderr"
        },
        {
          "output_type": "stream",
          "text": [
            "================== starting self.batch ... ==================\n"
          ],
          "name": "stdout"
        },
        {
          "output_type": "stream",
          "text": [
            "[@debug] mosaic.py:331 in loopOverImage()\n",
            "         self.count_mask_overall: 22410\n",
            "[@debug] mosaic.py:332 in loopOverImage()- self.batch: 18\n",
            "[@debug] mosaic.py:333 in loopOverImage()\n",
            "         self.batch * self.patches_per_batch: 22410\n",
            "[@debug] mosaic.py:334 in loopOverImage()\n",
            "         (self.batch + 1) * self.patches_per_batch: 23655\n",
            "[@debug] mosaic.py:340 in loopOverImage()\n",
            "         np.average(self.data.full_ims_test): 3.117\n",
            "         np.min(self.data.full_ims_test): -1.432\n",
            "         np.max(self.data.full_ims_test): 51.53\n",
            "[@debug] mosaic.py:341 in loopOverImage()\n",
            "         np.average(patches_in): 4.277\n",
            "         np.min(patches_in): -1.432\n",
            "         np.max(patches_in): 51.53\n",
            "[@debug] mosaic.py:342 in loopOverImage()\n",
            "         patches_in.shape: (1245, 12, 32, 32, 2)\n",
            "[@debug] mosaic.py:344 in loopOverImage()- self.count_mask_batch: 1245\n",
            "[@debug] mosaic.py:345 in loopOverImage()- self.count_mask: 65985\n",
            "[@debug] mosaic.py:350 in loopOverImage()\n",
            "         self.pred_logits_patches.dtype: dtype('float16')\n",
            "[@debug] mosaic.py:351 in loopOverImage()\n",
            "         self.pred_logits_patches.shape: (1245, 32, 32, 9)\n",
            "[@debug] mosaic.py:353 in loopOverImage()\n",
            "         np.unique(self.pred_logits_patches.argmax(axis=-1), return_counts = True): (array([0, 1, 2, 3, 4, 5, 6, 7, 8]),\n",
            "                                                                                     array([148814, 561940,   7282,  43517,  78634,  88213, 280813,   1888,\n",
            "                                                                                            63779]))\n",
            "[@debug] mosaic.py:368 in loopOverImage()- self.count_mask: 65985\n",
            "[@debug] mosaic.py:502 in loopToPredict()- self.count_mask_batch: 1245\n",
            "[@debug] mosaic.py:503 in loopToPredict()- self.count_mask: 65985\n",
            "[@debug] mosaic.py:374 in loopOverImage()\n",
            "         np.unique(self.prediction_mosaic, return_counts=True): (array([  0,   1,   2,   3,   4,   5,   6,   7,   8, 255], dtype=uint8),\n",
            "                                                                 array([ 2164909,   919663,    34830,   174698,   218645,   121760,\n",
            "                                                                         372876,     1950,   123858, 63760351]))\n",
            "[@debug] mosaic.py:379 in loopOverImage()\n",
            "         np.unique(self.prediction_mosaic, return_counts=True): (array([  0,   1,   2,   3,   4,   5,   6,   7,   8, 255], dtype=uint8),\n",
            "                                                                 array([ 2016275,   385563,    27562,   131300,   144974,    33849,\n",
            "                                                                          93258,       62,    60079, 65000618]))\n"
          ],
          "name": "stderr"
        },
        {
          "output_type": "stream",
          "text": [
            "================== starting self.batch ... ==================\n"
          ],
          "name": "stdout"
        },
        {
          "output_type": "stream",
          "text": [
            "[@debug] mosaic.py:331 in loopOverImage()\n",
            "         self.count_mask_overall: 23655\n",
            "[@debug] mosaic.py:332 in loopOverImage()- self.batch: 19\n",
            "[@debug] mosaic.py:333 in loopOverImage()\n",
            "         self.batch * self.patches_per_batch: 23655\n",
            "[@debug] mosaic.py:334 in loopOverImage()\n",
            "         (self.batch + 1) * self.patches_per_batch: 24900\n",
            "[@debug] mosaic.py:340 in loopOverImage()\n",
            "         np.average(self.data.full_ims_test): 3.117\n",
            "         np.min(self.data.full_ims_test): -1.432\n",
            "         np.max(self.data.full_ims_test): 51.53\n",
            "[@debug] mosaic.py:341 in loopOverImage()\n",
            "         np.average(patches_in): 4.16\n",
            "         np.min(patches_in): -1.432\n",
            "         np.max(patches_in): 51.53\n",
            "[@debug] mosaic.py:342 in loopOverImage()\n",
            "         patches_in.shape: (1245, 12, 32, 32, 2)\n",
            "[@debug] mosaic.py:344 in loopOverImage()- self.count_mask_batch: 1245\n",
            "[@debug] mosaic.py:345 in loopOverImage()- self.count_mask: 65985\n",
            "[@debug] mosaic.py:350 in loopOverImage()\n",
            "         self.pred_logits_patches.dtype: dtype('float16')\n",
            "[@debug] mosaic.py:351 in loopOverImage()\n",
            "         self.pred_logits_patches.shape: (1245, 32, 32, 9)\n",
            "[@debug] mosaic.py:353 in loopOverImage()\n",
            "         np.unique(self.pred_logits_patches.argmax(axis=-1), return_counts = True): (array([0, 1, 2, 3, 4, 5, 6, 7, 8]),\n",
            "                                                                                     array([197625, 533008,  11171,  20045,  50674, 107528, 294022,   1461,\n",
            "                                                                                            59346]))\n",
            "[@debug] mosaic.py:368 in loopOverImage()- self.count_mask: 65985\n",
            "[@debug] mosaic.py:502 in loopToPredict()- self.count_mask_batch: 1245\n",
            "[@debug] mosaic.py:503 in loopToPredict()- self.count_mask: 65985\n",
            "[@debug] mosaic.py:374 in loopOverImage()\n",
            "         np.unique(self.prediction_mosaic, return_counts=True): (array([  0,   1,   2,   3,   4,   5,   6,   7,   8, 255], dtype=uint8),\n",
            "                                                                 array([ 2154859,   918571,    38733,   151345,   195648,   141377,\n",
            "                                                                         387280,     1523,   119425, 63784779]))\n",
            "[@debug] mosaic.py:379 in loopOverImage()\n",
            "         np.unique(self.prediction_mosaic, return_counts=True): (array([  0,   1,   2,   3,   4,   5,   6,   7,   8, 255], dtype=uint8),\n",
            "                                                                 array([ 1967350,   426644,    27605,   131349,   145440,    33849,\n",
            "                                                                         100543,       63,    60079, 65000618]))\n"
          ],
          "name": "stderr"
        },
        {
          "output_type": "stream",
          "text": [
            "================== starting self.batch ... ==================\n"
          ],
          "name": "stdout"
        },
        {
          "output_type": "stream",
          "text": [
            "[@debug] mosaic.py:331 in loopOverImage()\n",
            "         self.count_mask_overall: 24900\n",
            "[@debug] mosaic.py:332 in loopOverImage()- self.batch: 20\n",
            "[@debug] mosaic.py:333 in loopOverImage()\n",
            "         self.batch * self.patches_per_batch: 24900\n",
            "[@debug] mosaic.py:334 in loopOverImage()\n",
            "         (self.batch + 1) * self.patches_per_batch: 26145\n",
            "[@debug] mosaic.py:340 in loopOverImage()\n",
            "         np.average(self.data.full_ims_test): 3.117\n",
            "         np.min(self.data.full_ims_test): -1.432\n",
            "         np.max(self.data.full_ims_test): 51.53\n",
            "[@debug] mosaic.py:341 in loopOverImage()\n",
            "         np.average(patches_in): 4.023\n",
            "         np.min(patches_in): -1.432\n",
            "         np.max(patches_in): 51.53\n",
            "[@debug] mosaic.py:342 in loopOverImage()\n",
            "         patches_in.shape: (1245, 12, 32, 32, 2)\n",
            "[@debug] mosaic.py:344 in loopOverImage()- self.count_mask_batch: 1245\n",
            "[@debug] mosaic.py:345 in loopOverImage()- self.count_mask: 65985\n",
            "[@debug] mosaic.py:350 in loopOverImage()\n",
            "         self.pred_logits_patches.dtype: dtype('float16')\n",
            "[@debug] mosaic.py:351 in loopOverImage()\n",
            "         self.pred_logits_patches.shape: (1245, 32, 32, 9)\n",
            "[@debug] mosaic.py:353 in loopOverImage()\n",
            "         np.unique(self.pred_logits_patches.argmax(axis=-1), return_counts = True): (array([0, 1, 2, 3, 4, 5, 6, 7, 8]),\n",
            "                                                                                     array([160987, 556386,   1094,  33692,  72034, 144855, 215388,   2311,\n",
            "                                                                                            88133]))\n",
            "[@debug] mosaic.py:368 in loopOverImage()- self.count_mask: 65985\n",
            "[@debug] mosaic.py:502 in loopToPredict()- self.count_mask_batch: 1245\n",
            "[@debug] mosaic.py:503 in loopToPredict()- self.count_mask: 65985\n",
            "[@debug] mosaic.py:374 in loopOverImage()\n",
            "         np.unique(self.prediction_mosaic, return_counts=True): (array([  0,   1,   2,   3,   4,   5,   6,   7,   8, 255], dtype=uint8),\n",
            "                                                                 array([ 2043765,   983030,    28699,   165041,   217474,   178704,\n",
            "                                                                         315931,     2374,   148212, 63810310]))\n",
            "[@debug] mosaic.py:379 in loopOverImage()\n",
            "         np.unique(self.prediction_mosaic, return_counts=True): (array([  0,   1,   2,   3,   4,   5,   6,   7,   8, 255], dtype=uint8),\n",
            "                                                                 array([ 1882959,   502689,    27609,   131349,   147285,    33901,\n",
            "                                                                         106877,      171,    60082, 65000618]))\n"
          ],
          "name": "stderr"
        },
        {
          "output_type": "stream",
          "text": [
            "================== starting self.batch ... ==================\n"
          ],
          "name": "stdout"
        },
        {
          "output_type": "stream",
          "text": [
            "[@debug] mosaic.py:331 in loopOverImage()\n",
            "         self.count_mask_overall: 26145\n",
            "[@debug] mosaic.py:332 in loopOverImage()- self.batch: 21\n",
            "[@debug] mosaic.py:333 in loopOverImage()\n",
            "         self.batch * self.patches_per_batch: 26145\n",
            "[@debug] mosaic.py:334 in loopOverImage()\n",
            "         (self.batch + 1) * self.patches_per_batch: 27390\n",
            "[@debug] mosaic.py:340 in loopOverImage()\n",
            "         np.average(self.data.full_ims_test): 3.117\n",
            "         np.min(self.data.full_ims_test): -1.432\n",
            "         np.max(self.data.full_ims_test): 51.53\n",
            "[@debug] mosaic.py:341 in loopOverImage()\n",
            "         np.average(patches_in): 3.865\n",
            "         np.min(patches_in): -1.432\n",
            "         np.max(patches_in): 51.53\n",
            "[@debug] mosaic.py:342 in loopOverImage()\n",
            "         patches_in.shape: (1245, 12, 32, 32, 2)\n",
            "[@debug] mosaic.py:344 in loopOverImage()- self.count_mask_batch: 1245\n",
            "[@debug] mosaic.py:345 in loopOverImage()- self.count_mask: 65985\n",
            "[@debug] mosaic.py:350 in loopOverImage()\n",
            "         self.pred_logits_patches.dtype: dtype('float16')\n",
            "[@debug] mosaic.py:351 in loopOverImage()\n",
            "         self.pred_logits_patches.shape: (1245, 32, 32, 9)\n",
            "[@debug] mosaic.py:353 in loopOverImage()\n",
            "         np.unique(self.pred_logits_patches.argmax(axis=-1), return_counts = True): (array([0, 1, 2, 3, 4, 5, 6, 7, 8]),\n",
            "                                                                                     array([163659, 440920,   2679,  11537,  98512, 178734, 235905,   7006,\n",
            "                                                                                           135928]))\n",
            "[@debug] mosaic.py:368 in loopOverImage()- self.count_mask: 65985\n",
            "[@debug] mosaic.py:502 in loopToPredict()- self.count_mask_batch: 1245\n",
            "[@debug] mosaic.py:503 in loopToPredict()- self.count_mask: 65985\n",
            "[@debug] mosaic.py:374 in loopOverImage()\n",
            "         np.unique(self.prediction_mosaic, return_counts=True): (array([  0,   1,   2,   3,   4,   5,   6,   7,   8, 255], dtype=uint8),\n",
            "                                                                 array([ 1961249,   943609,    30288,   142886,   245797,   212635,\n",
            "                                                                         342782,     7177,   196010, 63811107]))\n",
            "[@debug] mosaic.py:379 in loopOverImage()\n",
            "         np.unique(self.prediction_mosaic, return_counts=True): (array([  0,   1,   2,   3,   4,   5,   6,   7,   8, 255], dtype=uint8),\n",
            "                                                                 array([ 1805398,   580247,    27609,   131349,   147285,    33901,\n",
            "                                                                         106880,      171,    60082, 65000618]))\n"
          ],
          "name": "stderr"
        },
        {
          "output_type": "stream",
          "text": [
            "================== starting self.batch ... ==================\n"
          ],
          "name": "stdout"
        },
        {
          "output_type": "stream",
          "text": [
            "[@debug] mosaic.py:331 in loopOverImage()\n",
            "         self.count_mask_overall: 27390\n",
            "[@debug] mosaic.py:332 in loopOverImage()- self.batch: 22\n",
            "[@debug] mosaic.py:333 in loopOverImage()\n",
            "         self.batch * self.patches_per_batch: 27390\n",
            "[@debug] mosaic.py:334 in loopOverImage()\n",
            "         (self.batch + 1) * self.patches_per_batch: 28635\n",
            "[@debug] mosaic.py:340 in loopOverImage()\n",
            "         np.average(self.data.full_ims_test): 3.117\n",
            "         np.min(self.data.full_ims_test): -1.432\n",
            "         np.max(self.data.full_ims_test): 51.53\n",
            "[@debug] mosaic.py:341 in loopOverImage()\n",
            "         np.average(patches_in): 3.732\n",
            "         np.min(patches_in): -1.432\n",
            "         np.max(patches_in): 51.53\n",
            "[@debug] mosaic.py:342 in loopOverImage()\n",
            "         patches_in.shape: (1245, 12, 32, 32, 2)\n",
            "[@debug] mosaic.py:344 in loopOverImage()- self.count_mask_batch: 1245\n",
            "[@debug] mosaic.py:345 in loopOverImage()- self.count_mask: 65985\n",
            "[@debug] mosaic.py:350 in loopOverImage()\n",
            "         self.pred_logits_patches.dtype: dtype('float16')\n",
            "[@debug] mosaic.py:351 in loopOverImage()\n",
            "         self.pred_logits_patches.shape: (1245, 32, 32, 9)\n",
            "[@debug] mosaic.py:353 in loopOverImage()\n",
            "         np.unique(self.pred_logits_patches.argmax(axis=-1), return_counts = True): (array([0, 1, 2, 3, 4, 5, 6, 7, 8]),\n",
            "                                                                                     array([144791, 435108,   2592,  13574, 145306, 210789, 229408,   1043,\n",
            "                                                                                            92269]))\n",
            "[@debug] mosaic.py:368 in loopOverImage()- self.count_mask: 65985\n",
            "[@debug] mosaic.py:502 in loopToPredict()- self.count_mask_batch: 1245\n",
            "[@debug] mosaic.py:503 in loopToPredict()- self.count_mask: 65985\n",
            "[@debug] mosaic.py:374 in loopOverImage()\n",
            "         np.unique(self.prediction_mosaic, return_counts=True): (array([  0,   1,   2,   3,   4,   5,   6,   7,   8, 255], dtype=uint8),\n",
            "                                                                 array([ 1871001,  1015355,    30201,   144923,   292591,   244690,\n",
            "                                                                         336288,     1214,   152351, 63804926]))\n",
            "[@debug] mosaic.py:379 in loopOverImage()\n",
            "         np.unique(self.prediction_mosaic, return_counts=True): (array([  0,   1,   2,   3,   4,   5,   6,   7,   8, 255], dtype=uint8),\n",
            "                                                                 array([ 1732657,   650690,    27609,   131365,   147299,    33942,\n",
            "                                                                         109095,      179,    60086, 65000618]))\n"
          ],
          "name": "stderr"
        },
        {
          "output_type": "stream",
          "text": [
            "================== starting self.batch ... ==================\n"
          ],
          "name": "stdout"
        },
        {
          "output_type": "stream",
          "text": [
            "[@debug] mosaic.py:331 in loopOverImage()\n",
            "         self.count_mask_overall: 28635\n",
            "[@debug] mosaic.py:332 in loopOverImage()- self.batch: 23\n",
            "[@debug] mosaic.py:333 in loopOverImage()\n",
            "         self.batch * self.patches_per_batch: 28635\n",
            "[@debug] mosaic.py:334 in loopOverImage()\n",
            "         (self.batch + 1) * self.patches_per_batch: 29880\n",
            "[@debug] mosaic.py:340 in loopOverImage()\n",
            "         np.average(self.data.full_ims_test): 3.117\n",
            "         np.min(self.data.full_ims_test): -1.432\n",
            "         np.max(self.data.full_ims_test): 51.53\n",
            "[@debug] mosaic.py:341 in loopOverImage()\n",
            "         np.average(patches_in): 3.555\n",
            "         np.min(patches_in): -1.432\n",
            "         np.max(patches_in): 51.53\n",
            "[@debug] mosaic.py:342 in loopOverImage()\n",
            "         patches_in.shape: (1245, 12, 32, 32, 2)\n",
            "[@debug] mosaic.py:344 in loopOverImage()- self.count_mask_batch: 1245\n",
            "[@debug] mosaic.py:345 in loopOverImage()- self.count_mask: 65985\n",
            "[@debug] mosaic.py:350 in loopOverImage()\n",
            "         self.pred_logits_patches.dtype: dtype('float16')\n",
            "[@debug] mosaic.py:351 in loopOverImage()\n",
            "         self.pred_logits_patches.shape: (1245, 32, 32, 9)\n",
            "[@debug] mosaic.py:353 in loopOverImage()\n",
            "         np.unique(self.pred_logits_patches.argmax(axis=-1), return_counts = True): (array([0, 1, 2, 3, 4, 5, 6, 7, 8]),\n",
            "                                                                                     array([158755, 516791,   5575,  14653, 109304, 169690, 212171,    968,\n",
            "                                                                                            86973]))\n",
            "[@debug] mosaic.py:368 in loopOverImage()- self.count_mask: 65985\n",
            "[@debug] mosaic.py:502 in loopToPredict()- self.count_mask_batch: 1245\n",
            "[@debug] mosaic.py:503 in loopToPredict()- self.count_mask: 65985\n",
            "[@debug] mosaic.py:374 in loopOverImage()\n",
            "         np.unique(self.prediction_mosaic, return_counts=True): (array([  0,   1,   2,   3,   4,   5,   6,   7,   8, 255], dtype=uint8),\n",
            "                                                                 array([ 1754645,  1167481,    33184,   146018,   256603,   203632,\n",
            "                                                                         321266,     1147,   147059, 63862505]))\n",
            "[@debug] mosaic.py:379 in loopOverImage()\n",
            "         np.unique(self.prediction_mosaic, return_counts=True): (array([  0,   1,   2,   3,   4,   5,   6,   7,   8, 255], dtype=uint8),\n",
            "                                                                 array([ 1617231,   760060,    27666,   131365,   147351,    34188,\n",
            "                                                                         113978,      191,    60892, 65000618]))\n"
          ],
          "name": "stderr"
        },
        {
          "output_type": "stream",
          "text": [
            "================== starting self.batch ... ==================\n"
          ],
          "name": "stdout"
        },
        {
          "output_type": "stream",
          "text": [
            "[@debug] mosaic.py:331 in loopOverImage()\n",
            "         self.count_mask_overall: 29880\n",
            "[@debug] mosaic.py:332 in loopOverImage()- self.batch: 24\n",
            "[@debug] mosaic.py:333 in loopOverImage()\n",
            "         self.batch * self.patches_per_batch: 29880\n",
            "[@debug] mosaic.py:334 in loopOverImage()\n",
            "         (self.batch + 1) * self.patches_per_batch: 31125\n",
            "[@debug] mosaic.py:340 in loopOverImage()\n",
            "         np.average(self.data.full_ims_test): 3.117\n",
            "         np.min(self.data.full_ims_test): -1.432\n",
            "         np.max(self.data.full_ims_test): 51.53\n",
            "[@debug] mosaic.py:341 in loopOverImage()\n",
            "         np.average(patches_in): 3.39\n",
            "         np.min(patches_in): -1.432\n",
            "         np.max(patches_in): 51.53\n",
            "[@debug] mosaic.py:342 in loopOverImage()\n",
            "         patches_in.shape: (1245, 12, 32, 32, 2)\n",
            "[@debug] mosaic.py:344 in loopOverImage()- self.count_mask_batch: 1245\n",
            "[@debug] mosaic.py:345 in loopOverImage()- self.count_mask: 65985\n",
            "[@debug] mosaic.py:350 in loopOverImage()\n",
            "         self.pred_logits_patches.dtype: dtype('float16')\n",
            "[@debug] mosaic.py:351 in loopOverImage()\n",
            "         self.pred_logits_patches.shape: (1245, 32, 32, 9)\n",
            "[@debug] mosaic.py:353 in loopOverImage()\n",
            "         np.unique(self.pred_logits_patches.argmax(axis=-1), return_counts = True): (array([0, 1, 2, 3, 4, 5, 6, 7, 8]),\n",
            "                                                                                     array([198910, 400767,   5825,  17652, 105405, 195043, 248304,    654,\n",
            "                                                                                           102320]))\n",
            "[@debug] mosaic.py:368 in loopOverImage()- self.count_mask: 65985\n",
            "[@debug] mosaic.py:502 in loopToPredict()- self.count_mask_batch: 1245\n",
            "[@debug] mosaic.py:503 in loopToPredict()- self.count_mask: 65985\n",
            "[@debug] mosaic.py:374 in loopOverImage()\n",
            "         np.unique(self.prediction_mosaic, return_counts=True): (array([  0,   1,   2,   3,   4,   5,   6,   7,   8, 255], dtype=uint8),\n",
            "                                                                 array([ 1676133,  1160827,    33491,   149017,   252756,   229231,\n",
            "                                                                         362282,      845,   163212, 63865746]))\n",
            "[@debug] mosaic.py:379 in loopOverImage()\n",
            "         np.unique(self.prediction_mosaic, return_counts=True): (array([  0,   1,   2,   3,   4,   5,   6,   7,   8, 255], dtype=uint8),\n",
            "                                                                 array([ 1492698,   845454,    28650,   131587,   147515,    35383,\n",
            "                                                                         135928,      192,    75515, 65000618]))\n"
          ],
          "name": "stderr"
        },
        {
          "output_type": "stream",
          "text": [
            "================== starting self.batch ... ==================\n"
          ],
          "name": "stdout"
        },
        {
          "output_type": "stream",
          "text": [
            "[@debug] mosaic.py:331 in loopOverImage()\n",
            "         self.count_mask_overall: 31125\n",
            "[@debug] mosaic.py:332 in loopOverImage()- self.batch: 25\n",
            "[@debug] mosaic.py:333 in loopOverImage()\n",
            "         self.batch * self.patches_per_batch: 31125\n",
            "[@debug] mosaic.py:334 in loopOverImage()\n",
            "         (self.batch + 1) * self.patches_per_batch: 32370\n",
            "[@debug] mosaic.py:340 in loopOverImage()\n",
            "         np.average(self.data.full_ims_test): 3.117\n",
            "         np.min(self.data.full_ims_test): -1.432\n",
            "         np.max(self.data.full_ims_test): 51.53\n",
            "[@debug] mosaic.py:341 in loopOverImage()\n",
            "         np.average(patches_in): 3.244\n",
            "         np.min(patches_in): -1.432\n",
            "         np.max(patches_in): 51.53\n",
            "[@debug] mosaic.py:342 in loopOverImage()\n",
            "         patches_in.shape: (1245, 12, 32, 32, 2)\n",
            "[@debug] mosaic.py:344 in loopOverImage()- self.count_mask_batch: 1245\n",
            "[@debug] mosaic.py:345 in loopOverImage()- self.count_mask: 65985\n",
            "[@debug] mosaic.py:350 in loopOverImage()\n",
            "         self.pred_logits_patches.dtype: dtype('float16')\n",
            "[@debug] mosaic.py:351 in loopOverImage()\n",
            "         self.pred_logits_patches.shape: (1245, 32, 32, 9)\n",
            "[@debug] mosaic.py:353 in loopOverImage()\n",
            "         np.unique(self.pred_logits_patches.argmax(axis=-1), return_counts = True): (array([0, 1, 2, 3, 4, 5, 6, 7, 8]),\n",
            "                                                                                     array([182254, 479069,   3618,  19556, 101905, 199990, 216537,   1044,\n",
            "                                                                                            70907]))\n",
            "[@debug] mosaic.py:368 in loopOverImage()- self.count_mask: 65985\n",
            "[@debug] mosaic.py:502 in loopToPredict()- self.count_mask_batch: 1245\n",
            "[@debug] mosaic.py:503 in loopToPredict()- self.count_mask: 65985\n",
            "[@debug] mosaic.py:374 in loopOverImage()\n",
            "         np.unique(self.prediction_mosaic, return_counts=True): (array([  0,   1,   2,   3,   4,   5,   6,   7,   8, 255], dtype=uint8),\n",
            "                                                                 array([ 1533939,  1324523,    32268,   151143,   249420,   235373,\n",
            "                                                                         352465,     1236,   146422, 63866751]))\n",
            "[@debug] mosaic.py:379 in loopOverImage()\n",
            "         np.unique(self.prediction_mosaic, return_counts=True): (array([  0,   1,   2,   3,   4,   5,   6,   7,   8, 255], dtype=uint8),\n",
            "                                                                 array([ 1374457,   917277,    28659,   131587,   151682,    36075,\n",
            "                                                                         173331,      224,    79630, 65000618]))\n"
          ],
          "name": "stderr"
        },
        {
          "output_type": "stream",
          "text": [
            "================== starting self.batch ... ==================\n"
          ],
          "name": "stdout"
        },
        {
          "output_type": "stream",
          "text": [
            "[@debug] mosaic.py:331 in loopOverImage()\n",
            "         self.count_mask_overall: 32370\n",
            "[@debug] mosaic.py:332 in loopOverImage()- self.batch: 26\n",
            "[@debug] mosaic.py:333 in loopOverImage()\n",
            "         self.batch * self.patches_per_batch: 32370\n",
            "[@debug] mosaic.py:334 in loopOverImage()\n",
            "         (self.batch + 1) * self.patches_per_batch: 33615\n",
            "[@debug] mosaic.py:340 in loopOverImage()\n",
            "         np.average(self.data.full_ims_test): 3.117\n",
            "         np.min(self.data.full_ims_test): -1.432\n",
            "         np.max(self.data.full_ims_test): 51.53\n",
            "[@debug] mosaic.py:341 in loopOverImage()\n",
            "         np.average(patches_in): 3.064\n",
            "         np.min(patches_in): -1.432\n",
            "         np.max(patches_in): 51.53\n",
            "[@debug] mosaic.py:342 in loopOverImage()\n",
            "         patches_in.shape: (1245, 12, 32, 32, 2)\n",
            "[@debug] mosaic.py:344 in loopOverImage()- self.count_mask_batch: 1245\n",
            "[@debug] mosaic.py:345 in loopOverImage()- self.count_mask: 65985\n",
            "[@debug] mosaic.py:350 in loopOverImage()\n",
            "         self.pred_logits_patches.dtype: dtype('float16')\n",
            "[@debug] mosaic.py:351 in loopOverImage()\n",
            "         self.pred_logits_patches.shape: (1245, 32, 32, 9)\n",
            "[@debug] mosaic.py:353 in loopOverImage()\n",
            "         np.unique(self.pred_logits_patches.argmax(axis=-1), return_counts = True): (array([0, 1, 2, 3, 4, 5, 6, 7, 8]),\n",
            "                                                                                     array([253920, 519853,   7902,  14502,  79813, 122448, 224484,   1022,\n",
            "                                                                                            50936]))\n",
            "[@debug] mosaic.py:368 in loopOverImage()- self.count_mask: 65985\n",
            "[@debug] mosaic.py:502 in loopToPredict()- self.count_mask_batch: 1245\n",
            "[@debug] mosaic.py:503 in loopToPredict()- self.count_mask: 65985\n",
            "[@debug] mosaic.py:374 in loopOverImage()\n",
            "         np.unique(self.prediction_mosaic, return_counts=True): (array([  0,   1,   2,   3,   4,   5,   6,   7,   8, 255], dtype=uint8),\n",
            "                                                                 array([ 1476484,  1437130,    36561,   146089,   231495,   158523,\n",
            "                                                                         397815,     1246,   130566, 63877631]))\n",
            "[@debug] mosaic.py:379 in loopOverImage()\n",
            "         np.unique(self.prediction_mosaic, return_counts=True): (array([  0,   1,   2,   3,   4,   5,   6,   7,   8, 255], dtype=uint8),\n",
            "                                                                 array([ 1262494,  1000057,    29089,   131591,   151958,    36098,\n",
            "                                                                         199274,      224,    82137, 65000618]))\n"
          ],
          "name": "stderr"
        },
        {
          "output_type": "stream",
          "text": [
            "================== starting self.batch ... ==================\n"
          ],
          "name": "stdout"
        },
        {
          "output_type": "stream",
          "text": [
            "[@debug] mosaic.py:331 in loopOverImage()\n",
            "         self.count_mask_overall: 33615\n",
            "[@debug] mosaic.py:332 in loopOverImage()- self.batch: 27\n",
            "[@debug] mosaic.py:333 in loopOverImage()\n",
            "         self.batch * self.patches_per_batch: 33615\n",
            "[@debug] mosaic.py:334 in loopOverImage()\n",
            "         (self.batch + 1) * self.patches_per_batch: 34860\n",
            "[@debug] mosaic.py:340 in loopOverImage()\n",
            "         np.average(self.data.full_ims_test): 3.117\n",
            "         np.min(self.data.full_ims_test): -1.432\n",
            "         np.max(self.data.full_ims_test): 51.53\n",
            "[@debug] mosaic.py:341 in loopOverImage()\n",
            "         np.average(patches_in): 2.887\n",
            "         np.min(patches_in): -1.432\n",
            "         np.max(patches_in): 51.53\n",
            "[@debug] mosaic.py:342 in loopOverImage()\n",
            "         patches_in.shape: (1245, 12, 32, 32, 2)\n",
            "[@debug] mosaic.py:344 in loopOverImage()- self.count_mask_batch: 1245\n",
            "[@debug] mosaic.py:345 in loopOverImage()- self.count_mask: 65985\n",
            "[@debug] mosaic.py:350 in loopOverImage()\n",
            "         self.pred_logits_patches.dtype: dtype('float16')\n",
            "[@debug] mosaic.py:351 in loopOverImage()\n",
            "         self.pred_logits_patches.shape: (1245, 32, 32, 9)\n",
            "[@debug] mosaic.py:353 in loopOverImage()\n",
            "         np.unique(self.pred_logits_patches.argmax(axis=-1), return_counts = True): (array([0, 1, 2, 3, 4, 5, 6, 7, 8]),\n",
            "                                                                                     array([316381, 477704,   9590,  15110,  80197,  90803, 245607,   1173,\n",
            "                                                                                            38315]))\n",
            "[@debug] mosaic.py:368 in loopOverImage()- self.count_mask: 65985\n",
            "[@debug] mosaic.py:502 in loopToPredict()- self.count_mask_batch: 1245\n",
            "[@debug] mosaic.py:503 in loopToPredict()- self.count_mask: 65985\n",
            "[@debug] mosaic.py:374 in loopOverImage()\n",
            "         np.unique(self.prediction_mosaic, return_counts=True): (array([  0,   1,   2,   3,   4,   5,   6,   7,   8, 255], dtype=uint8),\n",
            "                                                                 array([ 1491821,  1477761,    38679,   146701,   232155,   126901,\n",
            "                                                                         444881,     1397,   120452, 63812792]))\n",
            "[@debug] mosaic.py:379 in loopOverImage()\n",
            "         np.unique(self.prediction_mosaic, return_counts=True): (array([  0,   1,   2,   3,   4,   5,   6,   7,   8, 255], dtype=uint8),\n",
            "                                                                 array([ 1211681,  1024283,    29194,   131592,   151985,    36126,\n",
            "                                                                         225327,      238,    82496, 65000618]))\n"
          ],
          "name": "stderr"
        },
        {
          "output_type": "stream",
          "text": [
            "================== starting self.batch ... ==================\n"
          ],
          "name": "stdout"
        },
        {
          "output_type": "stream",
          "text": [
            "[@debug] mosaic.py:331 in loopOverImage()\n",
            "         self.count_mask_overall: 34860\n",
            "[@debug] mosaic.py:332 in loopOverImage()- self.batch: 28\n",
            "[@debug] mosaic.py:333 in loopOverImage()\n",
            "         self.batch * self.patches_per_batch: 34860\n",
            "[@debug] mosaic.py:334 in loopOverImage()\n",
            "         (self.batch + 1) * self.patches_per_batch: 36105\n",
            "[@debug] mosaic.py:340 in loopOverImage()\n",
            "         np.average(self.data.full_ims_test): 3.117\n",
            "         np.min(self.data.full_ims_test): -1.432\n",
            "         np.max(self.data.full_ims_test): 51.53\n",
            "[@debug] mosaic.py:341 in loopOverImage()\n",
            "         np.average(patches_in): 2.686\n",
            "         np.min(patches_in): -1.432\n",
            "         np.max(patches_in): 51.53\n",
            "[@debug] mosaic.py:342 in loopOverImage()\n",
            "         patches_in.shape: (1245, 12, 32, 32, 2)\n",
            "[@debug] mosaic.py:344 in loopOverImage()- self.count_mask_batch: 1245\n",
            "[@debug] mosaic.py:345 in loopOverImage()- self.count_mask: 65985\n",
            "[@debug] mosaic.py:350 in loopOverImage()\n",
            "         self.pred_logits_patches.dtype: dtype('float16')\n",
            "[@debug] mosaic.py:351 in loopOverImage()\n",
            "         self.pred_logits_patches.shape: (1245, 32, 32, 9)\n",
            "[@debug] mosaic.py:353 in loopOverImage()\n",
            "         np.unique(self.pred_logits_patches.argmax(axis=-1), return_counts = True): (array([0, 1, 2, 3, 4, 5, 6, 7, 8]),\n",
            "                                                                                     array([267812, 326904,   3077,   9635, 101034, 136127, 393718,    850,\n",
            "                                                                                            35723]))\n",
            "[@debug] mosaic.py:368 in loopOverImage()- self.count_mask: 65985\n",
            "[@debug] mosaic.py:502 in loopToPredict()- self.count_mask_batch: 1245\n",
            "[@debug] mosaic.py:503 in loopToPredict()- self.count_mask: 65985\n",
            "[@debug] mosaic.py:374 in loopOverImage()\n",
            "         np.unique(self.prediction_mosaic, return_counts=True): (array([  0,   1,   2,   3,   4,   5,   6,   7,   8, 255], dtype=uint8),\n",
            "                                                                 array([ 1394383,  1351187,    32271,   141227,   253019,   172253,\n",
            "                                                                         619045,     1088,   118219, 63810848]))\n",
            "[@debug] mosaic.py:379 in loopOverImage()\n",
            "         np.unique(self.prediction_mosaic, return_counts=True): (array([  0,   1,   2,   3,   4,   5,   6,   7,   8, 255], dtype=uint8),\n",
            "                                                                 array([ 1158119,  1053311,    29198,   132032,   152090,    36195,\n",
            "                                                                         249029,      238,    82710, 65000618]))\n"
          ],
          "name": "stderr"
        },
        {
          "output_type": "stream",
          "text": [
            "================== starting self.batch ... ==================\n"
          ],
          "name": "stdout"
        },
        {
          "output_type": "stream",
          "text": [
            "[@debug] mosaic.py:331 in loopOverImage()\n",
            "         self.count_mask_overall: 36105\n",
            "[@debug] mosaic.py:332 in loopOverImage()- self.batch: 29\n",
            "[@debug] mosaic.py:333 in loopOverImage()\n",
            "         self.batch * self.patches_per_batch: 36105\n",
            "[@debug] mosaic.py:334 in loopOverImage()\n",
            "         (self.batch + 1) * self.patches_per_batch: 37350\n",
            "[@debug] mosaic.py:340 in loopOverImage()\n",
            "         np.average(self.data.full_ims_test): 3.117\n",
            "         np.min(self.data.full_ims_test): -1.432\n",
            "         np.max(self.data.full_ims_test): 51.53\n",
            "[@debug] mosaic.py:341 in loopOverImage()\n",
            "         np.average(patches_in): 2.475\n",
            "         np.min(patches_in): -1.432\n",
            "         np.max(patches_in): 51.53\n",
            "[@debug] mosaic.py:342 in loopOverImage()\n",
            "         patches_in.shape: (1245, 12, 32, 32, 2)\n",
            "[@debug] mosaic.py:344 in loopOverImage()- self.count_mask_batch: 1245\n",
            "[@debug] mosaic.py:345 in loopOverImage()- self.count_mask: 65985\n",
            "[@debug] mosaic.py:350 in loopOverImage()\n",
            "         self.pred_logits_patches.dtype: dtype('float16')\n",
            "[@debug] mosaic.py:351 in loopOverImage()\n",
            "         self.pred_logits_patches.shape: (1245, 32, 32, 9)\n",
            "[@debug] mosaic.py:353 in loopOverImage()\n",
            "         np.unique(self.pred_logits_patches.argmax(axis=-1), return_counts = True): (array([0, 1, 2, 3, 4, 5, 6, 7, 8]),\n",
            "                                                                                     array([291804, 297878,   2446,  10017,  70335, 113692, 438988,   1641,\n",
            "                                                                                            48079]))\n",
            "[@debug] mosaic.py:368 in loopOverImage()- self.count_mask: 65985\n",
            "[@debug] mosaic.py:502 in loopToPredict()- self.count_mask_batch: 1245\n",
            "[@debug] mosaic.py:503 in loopToPredict()- self.count_mask: 65985\n",
            "[@debug] mosaic.py:374 in loopOverImage()\n",
            "         np.unique(self.prediction_mosaic, return_counts=True): (array([  0,   1,   2,   3,   4,   5,   6,   7,   8, 255], dtype=uint8),\n",
            "                                                                 array([ 1349215,  1351189,    31644,   142049,   222425,   149887,\n",
            "                                                                         688017,     1879,   130789, 63826446]))\n",
            "[@debug] mosaic.py:379 in loopOverImage()\n",
            "         np.unique(self.prediction_mosaic, return_counts=True): (array([  0,   1,   2,   3,   4,   5,   6,   7,   8, 255], dtype=uint8),\n",
            "                                                                 array([ 1096228,  1094585,    29201,   132275,   152175,    36261,\n",
            "                                                                         269243,      239,    82715, 65000618]))\n"
          ],
          "name": "stderr"
        },
        {
          "output_type": "stream",
          "text": [
            "================== starting self.batch ... ==================\n"
          ],
          "name": "stdout"
        },
        {
          "output_type": "stream",
          "text": [
            "[@debug] mosaic.py:331 in loopOverImage()\n",
            "         self.count_mask_overall: 37350\n",
            "[@debug] mosaic.py:332 in loopOverImage()- self.batch: 30\n",
            "[@debug] mosaic.py:333 in loopOverImage()\n",
            "         self.batch * self.patches_per_batch: 37350\n",
            "[@debug] mosaic.py:334 in loopOverImage()\n",
            "         (self.batch + 1) * self.patches_per_batch: 38595\n",
            "[@debug] mosaic.py:340 in loopOverImage()\n",
            "         np.average(self.data.full_ims_test): 3.117\n",
            "         np.min(self.data.full_ims_test): -1.432\n",
            "         np.max(self.data.full_ims_test): 51.53\n",
            "[@debug] mosaic.py:341 in loopOverImage()\n",
            "         np.average(patches_in): 2.316\n",
            "         np.min(patches_in): -1.432\n",
            "         np.max(patches_in): 51.53\n",
            "[@debug] mosaic.py:342 in loopOverImage()\n",
            "         patches_in.shape: (1245, 12, 32, 32, 2)\n",
            "[@debug] mosaic.py:344 in loopOverImage()- self.count_mask_batch: 1245\n",
            "[@debug] mosaic.py:345 in loopOverImage()- self.count_mask: 65985\n",
            "[@debug] mosaic.py:350 in loopOverImage()\n",
            "         self.pred_logits_patches.dtype: dtype('float16')\n",
            "[@debug] mosaic.py:351 in loopOverImage()\n",
            "         self.pred_logits_patches.shape: (1245, 32, 32, 9)\n",
            "[@debug] mosaic.py:353 in loopOverImage()\n",
            "         np.unique(self.pred_logits_patches.argmax(axis=-1), return_counts = True): (array([0, 1, 2, 3, 4, 5, 6, 7, 8]),\n",
            "                                                                                     array([331035, 376166,   4415,  10519,  73899,  98414, 320210,   2443,\n",
            "                                                                                            57779]))\n",
            "[@debug] mosaic.py:368 in loopOverImage()- self.count_mask: 65985\n",
            "[@debug] mosaic.py:502 in loopToPredict()- self.count_mask_batch: 1245\n",
            "[@debug] mosaic.py:503 in loopToPredict()- self.count_mask: 65985\n",
            "[@debug] mosaic.py:374 in loopOverImage()\n",
            "         np.unique(self.prediction_mosaic, return_counts=True): (array([  0,   1,   2,   3,   4,   5,   6,   7,   8, 255], dtype=uint8),\n",
            "                                                                 array([ 1287433,  1470751,    33616,   142794,   226074,   134675,\n",
            "                                                                         589453,     2682,   140494, 63865568]))\n",
            "[@debug] mosaic.py:379 in loopOverImage()\n",
            "         np.unique(self.prediction_mosaic, return_counts=True): (array([  0,   1,   2,   3,   4,   5,   6,   7,   8, 255], dtype=uint8),\n",
            "                                                                 array([ 1006683,  1131861,    29230,   133161,   152326,    36294,\n",
            "                                                                         320307,      257,    82803, 65000618]))\n"
          ],
          "name": "stderr"
        },
        {
          "output_type": "stream",
          "text": [
            "================== starting self.batch ... ==================\n"
          ],
          "name": "stdout"
        },
        {
          "output_type": "stream",
          "text": [
            "[@debug] mosaic.py:331 in loopOverImage()\n",
            "         self.count_mask_overall: 38595\n",
            "[@debug] mosaic.py:332 in loopOverImage()- self.batch: 31\n",
            "[@debug] mosaic.py:333 in loopOverImage()\n",
            "         self.batch * self.patches_per_batch: 38595\n",
            "[@debug] mosaic.py:334 in loopOverImage()\n",
            "         (self.batch + 1) * self.patches_per_batch: 39840\n",
            "[@debug] mosaic.py:340 in loopOverImage()\n",
            "         np.average(self.data.full_ims_test): 3.117\n",
            "         np.min(self.data.full_ims_test): -1.432\n",
            "         np.max(self.data.full_ims_test): 51.53\n",
            "[@debug] mosaic.py:341 in loopOverImage()\n",
            "         np.average(patches_in): 2.188\n",
            "         np.min(patches_in): -1.432\n",
            "         np.max(patches_in): 51.53\n",
            "[@debug] mosaic.py:342 in loopOverImage()\n",
            "         patches_in.shape: (1245, 12, 32, 32, 2)\n",
            "[@debug] mosaic.py:344 in loopOverImage()- self.count_mask_batch: 1245\n",
            "[@debug] mosaic.py:345 in loopOverImage()- self.count_mask: 65985\n",
            "[@debug] mosaic.py:350 in loopOverImage()\n",
            "         self.pred_logits_patches.dtype: dtype('float16')\n",
            "[@debug] mosaic.py:351 in loopOverImage()\n",
            "         self.pred_logits_patches.shape: (1245, 32, 32, 9)\n",
            "[@debug] mosaic.py:353 in loopOverImage()\n",
            "         np.unique(self.pred_logits_patches.argmax(axis=-1), return_counts = True): (array([0, 1, 2, 3, 4, 5, 6, 7, 8]),\n",
            "                                                                                     array([328063, 280126,  13298,  25459, 119005, 125296, 262472,   4100,\n",
            "                                                                                           117061]))\n",
            "[@debug] mosaic.py:368 in loopOverImage()- self.count_mask: 65985\n",
            "[@debug] mosaic.py:502 in loopToPredict()- self.count_mask_batch: 1245\n",
            "[@debug] mosaic.py:503 in loopToPredict()- self.count_mask: 65985\n",
            "[@debug] mosaic.py:374 in loopOverImage()\n",
            "         np.unique(self.prediction_mosaic, return_counts=True): (array([  0,   1,   2,   3,   4,   5,   6,   7,   8, 255], dtype=uint8),\n",
            "                                                                 array([ 1253670,  1411987,    42528,   158620,   271331,   161590,\n",
            "                                                                         582779,     4357,   199864, 63806814]))\n",
            "[@debug] mosaic.py:379 in loopOverImage()\n",
            "         np.unique(self.prediction_mosaic, return_counts=True): (array([  0,   1,   2,   3,   4,   5,   6,   7,   8, 255], dtype=uint8),\n",
            "                                                                 array([  948441,  1143988,    30744,   133184,   158471,    36310,\n",
            "                                                                         357429,      489,    83866, 65000618]))\n"
          ],
          "name": "stderr"
        },
        {
          "output_type": "stream",
          "text": [
            "================== starting self.batch ... ==================\n"
          ],
          "name": "stdout"
        },
        {
          "output_type": "stream",
          "text": [
            "[@debug] mosaic.py:331 in loopOverImage()\n",
            "         self.count_mask_overall: 39840\n",
            "[@debug] mosaic.py:332 in loopOverImage()- self.batch: 32\n",
            "[@debug] mosaic.py:333 in loopOverImage()\n",
            "         self.batch * self.patches_per_batch: 39840\n",
            "[@debug] mosaic.py:334 in loopOverImage()\n",
            "         (self.batch + 1) * self.patches_per_batch: 41085\n",
            "[@debug] mosaic.py:340 in loopOverImage()\n",
            "         np.average(self.data.full_ims_test): 3.117\n",
            "         np.min(self.data.full_ims_test): -1.432\n",
            "         np.max(self.data.full_ims_test): 51.53\n",
            "[@debug] mosaic.py:341 in loopOverImage()\n",
            "         np.average(patches_in): 2.055\n",
            "         np.min(patches_in): -1.432\n",
            "         np.max(patches_in): 51.53\n",
            "[@debug] mosaic.py:342 in loopOverImage()\n",
            "         patches_in.shape: (1245, 12, 32, 32, 2)\n",
            "[@debug] mosaic.py:344 in loopOverImage()- self.count_mask_batch: 1245\n",
            "[@debug] mosaic.py:345 in loopOverImage()- self.count_mask: 65985\n",
            "[@debug] mosaic.py:350 in loopOverImage()\n",
            "         self.pred_logits_patches.dtype: dtype('float16')\n",
            "[@debug] mosaic.py:351 in loopOverImage()\n",
            "         self.pred_logits_patches.shape: (1245, 32, 32, 9)\n",
            "[@debug] mosaic.py:353 in loopOverImage()\n",
            "         np.unique(self.pred_logits_patches.argmax(axis=-1), return_counts = True): (array([0, 1, 2, 3, 4, 5, 6, 7, 8]),\n",
            "                                                                                     array([309015, 321733,  11223,  28992, 151615, 140546, 199420,   1186,\n",
            "                                                                                           111150]))\n",
            "[@debug] mosaic.py:368 in loopOverImage()- self.count_mask: 65985\n",
            "[@debug] mosaic.py:502 in loopToPredict()- self.count_mask_batch: 1245\n",
            "[@debug] mosaic.py:503 in loopToPredict()- self.count_mask: 65985\n",
            "[@debug] mosaic.py:374 in loopOverImage()\n",
            "         np.unique(self.prediction_mosaic, return_counts=True): (array([  0,   1,   2,   3,   4,   5,   6,   7,   8, 255], dtype=uint8),\n",
            "                                                                 array([ 1225112,  1465721,    41967,   162176,   310086,   176856,\n",
            "                                                                         556849,     1675,   195016, 63758082]))\n",
            "[@debug] mosaic.py:379 in loopOverImage()\n",
            "         np.unique(self.prediction_mosaic, return_counts=True): (array([  0,   1,   2,   3,   4,   5,   6,   7,   8, 255], dtype=uint8),\n",
            "                                                                 array([  925232,  1146876,    31003,   133187,   166359,    36320,\n",
            "                                                                         360680,      489,    92776, 65000618]))\n"
          ],
          "name": "stderr"
        },
        {
          "output_type": "stream",
          "text": [
            "================== starting self.batch ... ==================\n"
          ],
          "name": "stdout"
        },
        {
          "output_type": "stream",
          "text": [
            "[@debug] mosaic.py:331 in loopOverImage()\n",
            "         self.count_mask_overall: 41085\n",
            "[@debug] mosaic.py:332 in loopOverImage()- self.batch: 33\n",
            "[@debug] mosaic.py:333 in loopOverImage()\n",
            "         self.batch * self.patches_per_batch: 41085\n",
            "[@debug] mosaic.py:334 in loopOverImage()\n",
            "         (self.batch + 1) * self.patches_per_batch: 42330\n",
            "[@debug] mosaic.py:340 in loopOverImage()\n",
            "         np.average(self.data.full_ims_test): 3.117\n",
            "         np.min(self.data.full_ims_test): -1.432\n",
            "         np.max(self.data.full_ims_test): 51.53\n",
            "[@debug] mosaic.py:341 in loopOverImage()\n",
            "         np.average(patches_in): 1.928\n",
            "         np.min(patches_in): -1.432\n",
            "         np.max(patches_in): 51.53\n",
            "[@debug] mosaic.py:342 in loopOverImage()\n",
            "         patches_in.shape: (1245, 12, 32, 32, 2)\n",
            "[@debug] mosaic.py:344 in loopOverImage()- self.count_mask_batch: 1245\n",
            "[@debug] mosaic.py:345 in loopOverImage()- self.count_mask: 65985\n",
            "[@debug] mosaic.py:350 in loopOverImage()\n",
            "         self.pred_logits_patches.dtype: dtype('float16')\n",
            "[@debug] mosaic.py:351 in loopOverImage()\n",
            "         self.pred_logits_patches.shape: (1245, 32, 32, 9)\n",
            "[@debug] mosaic.py:353 in loopOverImage()\n",
            "         np.unique(self.pred_logits_patches.argmax(axis=-1), return_counts = True): (array([0, 1, 2, 3, 4, 5, 6, 7, 8]),\n",
            "                                                                                     array([379894, 236034,  28622,  18634, 143639, 196965, 162276,   2871,\n",
            "                                                                                           105945]))\n",
            "[@debug] mosaic.py:368 in loopOverImage()- self.count_mask: 65985\n",
            "[@debug] mosaic.py:502 in loopToPredict()- self.count_mask_batch: 1245\n",
            "[@debug] mosaic.py:503 in loopToPredict()- self.count_mask: 65985\n",
            "[@debug] mosaic.py:374 in loopOverImage()\n",
            "         np.unique(self.prediction_mosaic, return_counts=True): (array([  0,   1,   2,   3,   4,   5,   6,   7,   8, 255], dtype=uint8),\n",
            "                                                                 array([ 1275279,  1382910,    59625,   151821,   309998,   233285,\n",
            "                                                                         522956,     3360,   198721, 63755585]))\n",
            "[@debug] mosaic.py:379 in loopOverImage()\n",
            "         np.unique(self.prediction_mosaic, return_counts=True): (array([  0,   1,   2,   3,   4,   5,   6,   7,   8, 255], dtype=uint8),\n",
            "                                                                 array([  911974,  1146895,    31383,   133389,   168385,    36339,\n",
            "                                                                         370055,      492,    94010, 65000618]))\n"
          ],
          "name": "stderr"
        },
        {
          "output_type": "stream",
          "text": [
            "================== starting self.batch ... ==================\n"
          ],
          "name": "stdout"
        },
        {
          "output_type": "stream",
          "text": [
            "[@debug] mosaic.py:331 in loopOverImage()\n",
            "         self.count_mask_overall: 42330\n",
            "[@debug] mosaic.py:332 in loopOverImage()- self.batch: 34\n",
            "[@debug] mosaic.py:333 in loopOverImage()\n",
            "         self.batch * self.patches_per_batch: 42330\n",
            "[@debug] mosaic.py:334 in loopOverImage()\n",
            "         (self.batch + 1) * self.patches_per_batch: 43575\n",
            "[@debug] mosaic.py:340 in loopOverImage()\n",
            "         np.average(self.data.full_ims_test): 3.117\n",
            "         np.min(self.data.full_ims_test): -1.432\n",
            "         np.max(self.data.full_ims_test): 51.53\n",
            "[@debug] mosaic.py:341 in loopOverImage()\n",
            "         np.average(patches_in): 1.834\n",
            "         np.min(patches_in): -1.432\n",
            "         np.max(patches_in): 51.53\n",
            "[@debug] mosaic.py:342 in loopOverImage()\n",
            "         patches_in.shape: (1245, 12, 32, 32, 2)\n",
            "[@debug] mosaic.py:344 in loopOverImage()- self.count_mask_batch: 1245\n",
            "[@debug] mosaic.py:345 in loopOverImage()- self.count_mask: 65985\n",
            "[@debug] mosaic.py:350 in loopOverImage()\n",
            "         self.pred_logits_patches.dtype: dtype('float16')\n",
            "[@debug] mosaic.py:351 in loopOverImage()\n",
            "         self.pred_logits_patches.shape: (1245, 32, 32, 9)\n",
            "[@debug] mosaic.py:353 in loopOverImage()\n",
            "         np.unique(self.pred_logits_patches.argmax(axis=-1), return_counts = True): (array([0, 1, 2, 3, 4, 5, 6, 7, 8]),\n",
            "                                                                                     array([303441, 192094,  15451,  31265, 193642, 260461, 157151,   2349,\n",
            "                                                                                           119026]))\n",
            "[@debug] mosaic.py:368 in loopOverImage()- self.count_mask: 65985\n",
            "[@debug] mosaic.py:502 in loopToPredict()- self.count_mask_batch: 1245\n",
            "[@debug] mosaic.py:503 in loopToPredict()- self.count_mask: 65985\n",
            "[@debug] mosaic.py:374 in loopOverImage()\n",
            "         np.unique(self.prediction_mosaic, return_counts=True): (array([  0,   1,   2,   3,   4,   5,   6,   7,   8, 255], dtype=uint8),\n",
            "                                                                 array([ 1172999,  1338989,    46834,   164654,   362027,   296800,\n",
            "                                                                         527206,     2841,   213036, 63768154]))\n",
            "[@debug] mosaic.py:379 in loopOverImage()\n",
            "         np.unique(self.prediction_mosaic, return_counts=True): (array([  0,   1,   2,   3,   4,   5,   6,   7,   8, 255], dtype=uint8),\n",
            "                                                                 array([  892876,  1149250,    33425,   133450,   170627,    36429,\n",
            "                                                                         380954,      492,    95419, 65000618]))\n"
          ],
          "name": "stderr"
        },
        {
          "output_type": "stream",
          "text": [
            "================== starting self.batch ... ==================\n"
          ],
          "name": "stdout"
        },
        {
          "output_type": "stream",
          "text": [
            "[@debug] mosaic.py:331 in loopOverImage()\n",
            "         self.count_mask_overall: 43575\n",
            "[@debug] mosaic.py:332 in loopOverImage()- self.batch: 35\n",
            "[@debug] mosaic.py:333 in loopOverImage()\n",
            "         self.batch * self.patches_per_batch: 43575\n",
            "[@debug] mosaic.py:334 in loopOverImage()\n",
            "         (self.batch + 1) * self.patches_per_batch: 44820\n",
            "[@debug] mosaic.py:340 in loopOverImage()\n",
            "         np.average(self.data.full_ims_test): 3.117\n",
            "         np.min(self.data.full_ims_test): -1.432\n",
            "         np.max(self.data.full_ims_test): 51.53\n",
            "[@debug] mosaic.py:341 in loopOverImage()\n",
            "         np.average(patches_in): 1.6875\n",
            "         np.min(patches_in): -1.432\n",
            "         np.max(patches_in): 51.53\n",
            "[@debug] mosaic.py:342 in loopOverImage()\n",
            "         patches_in.shape: (1245, 12, 32, 32, 2)\n",
            "[@debug] mosaic.py:344 in loopOverImage()- self.count_mask_batch: 1245\n",
            "[@debug] mosaic.py:345 in loopOverImage()- self.count_mask: 65985\n",
            "[@debug] mosaic.py:350 in loopOverImage()\n",
            "         self.pred_logits_patches.dtype: dtype('float16')\n",
            "[@debug] mosaic.py:351 in loopOverImage()\n",
            "         self.pred_logits_patches.shape: (1245, 32, 32, 9)\n",
            "[@debug] mosaic.py:353 in loopOverImage()\n",
            "         np.unique(self.pred_logits_patches.argmax(axis=-1), return_counts = True): (array([0, 1, 2, 3, 4, 5, 6, 7, 8]),\n",
            "                                                                                     array([218085, 118971,  20441,  39533, 204925, 373604, 154489,   5743,\n",
            "                                                                                           139089]))\n",
            "[@debug] mosaic.py:368 in loopOverImage()- self.count_mask: 65985\n",
            "[@debug] mosaic.py:502 in loopToPredict()- self.count_mask_batch: 1245\n",
            "[@debug] mosaic.py:503 in loopToPredict()- self.count_mask: 65985\n",
            "[@debug] mosaic.py:374 in loopOverImage()\n",
            "         np.unique(self.prediction_mosaic, return_counts=True): (array([  0,   1,   2,   3,   4,   5,   6,   7,   8, 255], dtype=uint8),\n",
            "                                                                 array([ 1080698,  1268221,    53866,   172983,   375552,   410033,\n",
            "                                                                         535443,     6235,   234508, 63756001]))\n",
            "[@debug] mosaic.py:379 in loopOverImage()\n",
            "         np.unique(self.prediction_mosaic, return_counts=True): (array([  0,   1,   2,   3,   4,   5,   6,   7,   8, 255], dtype=uint8),\n",
            "                                                                 array([  874313,  1156067,    35046,   135071,   172756,    36665,\n",
            "                                                                         384779,      706,    97519, 65000618]))\n"
          ],
          "name": "stderr"
        },
        {
          "output_type": "stream",
          "text": [
            "================== starting self.batch ... ==================\n"
          ],
          "name": "stdout"
        },
        {
          "output_type": "stream",
          "text": [
            "[@debug] mosaic.py:331 in loopOverImage()\n",
            "         self.count_mask_overall: 44820\n",
            "[@debug] mosaic.py:332 in loopOverImage()- self.batch: 36\n",
            "[@debug] mosaic.py:333 in loopOverImage()\n",
            "         self.batch * self.patches_per_batch: 44820\n",
            "[@debug] mosaic.py:334 in loopOverImage()\n",
            "         (self.batch + 1) * self.patches_per_batch: 46065\n",
            "[@debug] mosaic.py:340 in loopOverImage()\n",
            "         np.average(self.data.full_ims_test): 3.117\n",
            "         np.min(self.data.full_ims_test): -1.432\n",
            "         np.max(self.data.full_ims_test): 51.53\n",
            "[@debug] mosaic.py:341 in loopOverImage()\n",
            "         np.average(patches_in): 1.505\n",
            "         np.min(patches_in): -1.432\n",
            "         np.max(patches_in): 51.53\n",
            "[@debug] mosaic.py:342 in loopOverImage()\n",
            "         patches_in.shape: (1245, 12, 32, 32, 2)\n",
            "[@debug] mosaic.py:344 in loopOverImage()- self.count_mask_batch: 1245\n",
            "[@debug] mosaic.py:345 in loopOverImage()- self.count_mask: 65985\n",
            "[@debug] mosaic.py:350 in loopOverImage()\n",
            "         self.pred_logits_patches.dtype: dtype('float16')\n",
            "[@debug] mosaic.py:351 in loopOverImage()\n",
            "         self.pred_logits_patches.shape: (1245, 32, 32, 9)\n",
            "[@debug] mosaic.py:353 in loopOverImage()\n",
            "         np.unique(self.pred_logits_patches.argmax(axis=-1), return_counts = True): (array([0, 1, 2, 3, 4, 5, 6, 7, 8]),\n",
            "                                                                                     array([234386,  84515,  16071,  44256, 283890, 319229, 146440,   3953,\n",
            "                                                                                           142140]))\n",
            "[@debug] mosaic.py:368 in loopOverImage()- self.count_mask: 65985\n",
            "[@debug] mosaic.py:502 in loopToPredict()- self.count_mask_batch: 1245\n",
            "[@debug] mosaic.py:503 in loopToPredict()- self.count_mask: 65985\n",
            "[@debug] mosaic.py:374 in loopOverImage()\n",
            "         np.unique(self.prediction_mosaic, return_counts=True): (array([  0,   1,   2,   3,   4,   5,   6,   7,   8, 255], dtype=uint8),\n",
            "                                                                 array([ 1102556,  1240582,    51117,   179327,   456646,   355894,\n",
            "                                                                         531219,     4659,   239659, 63731881]))\n",
            "[@debug] mosaic.py:379 in loopOverImage()\n",
            "         np.unique(self.prediction_mosaic, return_counts=True): (array([  0,   1,   2,   3,   4,   5,   6,   7,   8, 255], dtype=uint8),\n",
            "                                                                 array([  873927,  1156098,    35046,   135071,   172903,    36665,\n",
            "                                                                         384942,      706,    97564, 65000618]))\n"
          ],
          "name": "stderr"
        },
        {
          "output_type": "stream",
          "text": [
            "================== starting self.batch ... ==================\n"
          ],
          "name": "stdout"
        },
        {
          "output_type": "stream",
          "text": [
            "[@debug] mosaic.py:331 in loopOverImage()\n",
            "         self.count_mask_overall: 46065\n",
            "[@debug] mosaic.py:332 in loopOverImage()- self.batch: 37\n",
            "[@debug] mosaic.py:333 in loopOverImage()\n",
            "         self.batch * self.patches_per_batch: 46065\n",
            "[@debug] mosaic.py:334 in loopOverImage()\n",
            "         (self.batch + 1) * self.patches_per_batch: 47310\n",
            "[@debug] mosaic.py:340 in loopOverImage()\n",
            "         np.average(self.data.full_ims_test): 3.117\n",
            "         np.min(self.data.full_ims_test): -1.432\n",
            "         np.max(self.data.full_ims_test): 51.53\n",
            "[@debug] mosaic.py:341 in loopOverImage()\n",
            "         np.average(patches_in): 1.321\n",
            "         np.min(patches_in): -1.432\n",
            "         np.max(patches_in): 51.53\n",
            "[@debug] mosaic.py:342 in loopOverImage()\n",
            "         patches_in.shape: (1245, 12, 32, 32, 2)\n",
            "[@debug] mosaic.py:344 in loopOverImage()- self.count_mask_batch: 1245\n",
            "[@debug] mosaic.py:345 in loopOverImage()- self.count_mask: 65985\n",
            "[@debug] mosaic.py:350 in loopOverImage()\n",
            "         self.pred_logits_patches.dtype: dtype('float16')\n",
            "[@debug] mosaic.py:351 in loopOverImage()\n",
            "         self.pred_logits_patches.shape: (1245, 32, 32, 9)\n",
            "[@debug] mosaic.py:353 in loopOverImage()\n",
            "         np.unique(self.pred_logits_patches.argmax(axis=-1), return_counts = True): (array([0, 1, 2, 3, 4, 5, 6, 7, 8]),\n",
            "                                                                                     array([249237,  89066,  18355,  33059, 300871, 273365, 163487,   3123,\n",
            "                                                                                           144317]))\n",
            "[@debug] mosaic.py:368 in loopOverImage()- self.count_mask: 65985\n",
            "[@debug] mosaic.py:502 in loopToPredict()- self.count_mask_batch: 1245\n",
            "[@debug] mosaic.py:503 in loopToPredict()- self.count_mask: 65985\n",
            "[@debug] mosaic.py:374 in loopOverImage()\n",
            "         np.unique(self.prediction_mosaic, return_counts=True): (array([  0,   1,   2,   3,   4,   5,   6,   7,   8, 255], dtype=uint8),\n",
            "                                                                 array([ 1089067,  1245164,    53401,   168130,   473774,   310030,\n",
            "                                                                         548429,     3829,   241881, 63759835]))\n",
            "[@debug] mosaic.py:379 in loopOverImage()\n",
            "         np.unique(self.prediction_mosaic, return_counts=True): (array([  0,   1,   2,   3,   4,   5,   6,   7,   8, 255], dtype=uint8),\n",
            "                                                                 array([  869404,  1157962,    35322,   135458,   173892,    36680,\n",
            "                                                                         385442,      706,    98056, 65000618]))\n"
          ],
          "name": "stderr"
        },
        {
          "output_type": "stream",
          "text": [
            "================== starting self.batch ... ==================\n"
          ],
          "name": "stdout"
        },
        {
          "output_type": "stream",
          "text": [
            "[@debug] mosaic.py:331 in loopOverImage()\n",
            "         self.count_mask_overall: 47310\n",
            "[@debug] mosaic.py:332 in loopOverImage()- self.batch: 38\n",
            "[@debug] mosaic.py:333 in loopOverImage()\n",
            "         self.batch * self.patches_per_batch: 47310\n",
            "[@debug] mosaic.py:334 in loopOverImage()\n",
            "         (self.batch + 1) * self.patches_per_batch: 48555\n",
            "[@debug] mosaic.py:340 in loopOverImage()\n",
            "         np.average(self.data.full_ims_test): 3.117\n",
            "         np.min(self.data.full_ims_test): -1.432\n",
            "         np.max(self.data.full_ims_test): 51.53\n",
            "[@debug] mosaic.py:341 in loopOverImage()\n",
            "         np.average(patches_in): 1.226\n",
            "         np.min(patches_in): -1.432\n",
            "         np.max(patches_in): 51.53\n",
            "[@debug] mosaic.py:342 in loopOverImage()\n",
            "         patches_in.shape: (1245, 12, 32, 32, 2)\n",
            "[@debug] mosaic.py:344 in loopOverImage()- self.count_mask_batch: 1245\n",
            "[@debug] mosaic.py:345 in loopOverImage()- self.count_mask: 65985\n",
            "[@debug] mosaic.py:350 in loopOverImage()\n",
            "         self.pred_logits_patches.dtype: dtype('float16')\n",
            "[@debug] mosaic.py:351 in loopOverImage()\n",
            "         self.pred_logits_patches.shape: (1245, 32, 32, 9)\n",
            "[@debug] mosaic.py:353 in loopOverImage()\n",
            "         np.unique(self.pred_logits_patches.argmax(axis=-1), return_counts = True): (array([0, 1, 2, 3, 4, 5, 6, 7, 8]),\n",
            "                                                                                     array([263144,  75883,  18872,  32894, 302311, 322425, 131051,   2349,\n",
            "                                                                                           125951]))\n",
            "[@debug] mosaic.py:368 in loopOverImage()- self.count_mask: 65985\n",
            "[@debug] mosaic.py:502 in loopToPredict()- self.count_mask_batch: 1245\n",
            "[@debug] mosaic.py:503 in loopToPredict()- self.count_mask: 65985\n",
            "[@debug] mosaic.py:374 in loopOverImage()\n",
            "         np.unique(self.prediction_mosaic, return_counts=True): (array([  0,   1,   2,   3,   4,   5,   6,   7,   8, 255], dtype=uint8),\n",
            "                                                                 array([ 1113414,  1233845,    54194,   168352,   476203,   359105,\n",
            "                                                                         516493,     3055,   224007, 63744872]))\n",
            "[@debug] mosaic.py:379 in loopOverImage()\n",
            "         np.unique(self.prediction_mosaic, return_counts=True): (array([  0,   1,   2,   3,   4,   5,   6,   7,   8, 255], dtype=uint8),\n",
            "                                                                 array([  868552,  1158142,    35329,   136034,   173936,    36680,\n",
            "                                                                         385484,      709,    98056, 65000618]))\n"
          ],
          "name": "stderr"
        },
        {
          "output_type": "stream",
          "text": [
            "================== starting self.batch ... ==================\n"
          ],
          "name": "stdout"
        },
        {
          "output_type": "stream",
          "text": [
            "[@debug] mosaic.py:331 in loopOverImage()\n",
            "         self.count_mask_overall: 48555\n",
            "[@debug] mosaic.py:332 in loopOverImage()- self.batch: 39\n",
            "[@debug] mosaic.py:333 in loopOverImage()\n",
            "         self.batch * self.patches_per_batch: 48555\n",
            "[@debug] mosaic.py:334 in loopOverImage()\n",
            "         (self.batch + 1) * self.patches_per_batch: 49800\n",
            "[@debug] mosaic.py:340 in loopOverImage()\n",
            "         np.average(self.data.full_ims_test): 3.117\n",
            "         np.min(self.data.full_ims_test): -1.432\n",
            "         np.max(self.data.full_ims_test): 51.53\n",
            "[@debug] mosaic.py:341 in loopOverImage()\n",
            "         np.average(patches_in): 1.134\n",
            "         np.min(patches_in): -1.432\n",
            "         np.max(patches_in): 51.53\n",
            "[@debug] mosaic.py:342 in loopOverImage()\n",
            "         patches_in.shape: (1245, 12, 32, 32, 2)\n",
            "[@debug] mosaic.py:344 in loopOverImage()- self.count_mask_batch: 1245\n",
            "[@debug] mosaic.py:345 in loopOverImage()- self.count_mask: 65985\n",
            "[@debug] mosaic.py:350 in loopOverImage()\n",
            "         self.pred_logits_patches.dtype: dtype('float16')\n",
            "[@debug] mosaic.py:351 in loopOverImage()\n",
            "         self.pred_logits_patches.shape: (1245, 32, 32, 9)\n",
            "[@debug] mosaic.py:353 in loopOverImage()\n",
            "         np.unique(self.pred_logits_patches.argmax(axis=-1), return_counts = True): (array([0, 1, 2, 3, 4, 5, 6, 7, 8]),\n",
            "                                                                                     array([230338, 125437,  18927,  21697, 258221, 353597, 113807,   1817,\n",
            "                                                                                           151039]))\n",
            "[@debug] mosaic.py:368 in loopOverImage()- self.count_mask: 65985\n",
            "[@debug] mosaic.py:502 in loopToPredict()- self.count_mask_batch: 1245\n",
            "[@debug] mosaic.py:503 in loopToPredict()- self.count_mask: 65985\n",
            "[@debug] mosaic.py:374 in loopOverImage()\n",
            "         np.unique(self.prediction_mosaic, return_counts=True): (array([  0,   1,   2,   3,   4,   5,   6,   7,   8, 255], dtype=uint8),\n",
            "                                                                 array([ 1076899,  1283579,    54256,   157731,   432157,   390277,\n",
            "                                                                         499291,     2526,   249095, 63747729]))\n",
            "[@debug] mosaic.py:379 in loopOverImage()\n",
            "         np.unique(self.prediction_mosaic, return_counts=True): (array([  0,   1,   2,   3,   4,   5,   6,   7,   8, 255], dtype=uint8),\n",
            "                                                                 array([  856423,  1164107,    35329,   136034,   175147,    36690,\n",
            "                                                                         390407,      728,    98057, 65000618]))\n"
          ],
          "name": "stderr"
        },
        {
          "output_type": "stream",
          "text": [
            "================== starting self.batch ... ==================\n"
          ],
          "name": "stdout"
        },
        {
          "output_type": "stream",
          "text": [
            "[@debug] mosaic.py:331 in loopOverImage()\n",
            "         self.count_mask_overall: 49800\n",
            "[@debug] mosaic.py:332 in loopOverImage()- self.batch: 40\n",
            "[@debug] mosaic.py:333 in loopOverImage()\n",
            "         self.batch * self.patches_per_batch: 49800\n",
            "[@debug] mosaic.py:334 in loopOverImage()\n",
            "         (self.batch + 1) * self.patches_per_batch: 51045\n",
            "[@debug] mosaic.py:340 in loopOverImage()\n",
            "         np.average(self.data.full_ims_test): 3.117\n",
            "         np.min(self.data.full_ims_test): -1.432\n",
            "         np.max(self.data.full_ims_test): 51.53\n",
            "[@debug] mosaic.py:341 in loopOverImage()\n",
            "         np.average(patches_in): 0.944\n",
            "         np.min(patches_in): -1.432\n",
            "         np.max(patches_in): 51.53\n",
            "[@debug] mosaic.py:342 in loopOverImage()\n",
            "         patches_in.shape: (1245, 12, 32, 32, 2)\n",
            "[@debug] mosaic.py:344 in loopOverImage()- self.count_mask_batch: 1245\n",
            "[@debug] mosaic.py:345 in loopOverImage()- self.count_mask: 65985\n",
            "[@debug] mosaic.py:350 in loopOverImage()\n",
            "         self.pred_logits_patches.dtype: dtype('float16')\n",
            "[@debug] mosaic.py:351 in loopOverImage()\n",
            "         self.pred_logits_patches.shape: (1245, 32, 32, 9)\n",
            "[@debug] mosaic.py:353 in loopOverImage()\n",
            "         np.unique(self.pred_logits_patches.argmax(axis=-1), return_counts = True): (array([0, 1, 2, 3, 4, 5, 6, 7, 8]),\n",
            "                                                                                     array([202522, 129662,  15376,  30315, 287892, 346515,  66918,   1070,\n",
            "                                                                                           194610]))\n",
            "[@debug] mosaic.py:368 in loopOverImage()- self.count_mask: 65985\n",
            "[@debug] mosaic.py:502 in loopToPredict()- self.count_mask_batch: 1245\n",
            "[@debug] mosaic.py:503 in loopToPredict()- self.count_mask: 65985\n",
            "[@debug] mosaic.py:374 in loopOverImage()\n",
            "         np.unique(self.prediction_mosaic, return_counts=True): (array([  0,   1,   2,   3,   4,   5,   6,   7,   8, 255], dtype=uint8),\n",
            "                                                                 array([ 1049696,  1293769,    50705,   166349,   463039,   383205,\n",
            "                                                                         457325,     1798,   292667, 63734987]))\n",
            "[@debug] mosaic.py:379 in loopOverImage()\n",
            "         np.unique(self.prediction_mosaic, return_counts=True): (array([  0,   1,   2,   3,   4,   5,   6,   7,   8, 255], dtype=uint8),\n",
            "                                                                 array([  855629,  1164320,    35368,   136034,   175365,    36693,\n",
            "                                                                         390728,      728,    98057, 65000618]))\n"
          ],
          "name": "stderr"
        },
        {
          "output_type": "stream",
          "text": [
            "================== starting self.batch ... ==================\n"
          ],
          "name": "stdout"
        },
        {
          "output_type": "stream",
          "text": [
            "[@debug] mosaic.py:331 in loopOverImage()\n",
            "         self.count_mask_overall: 51045\n",
            "[@debug] mosaic.py:332 in loopOverImage()- self.batch: 41\n",
            "[@debug] mosaic.py:333 in loopOverImage()\n",
            "         self.batch * self.patches_per_batch: 51045\n",
            "[@debug] mosaic.py:334 in loopOverImage()\n",
            "         (self.batch + 1) * self.patches_per_batch: 52290\n",
            "[@debug] mosaic.py:340 in loopOverImage()\n",
            "         np.average(self.data.full_ims_test): 3.117\n",
            "         np.min(self.data.full_ims_test): -1.432\n",
            "         np.max(self.data.full_ims_test): 51.53\n",
            "[@debug] mosaic.py:341 in loopOverImage()\n",
            "         np.average(patches_in): 0.7837\n",
            "         np.min(patches_in): -1.432\n",
            "         np.max(patches_in): 51.53\n",
            "[@debug] mosaic.py:342 in loopOverImage()\n",
            "         patches_in.shape: (1245, 12, 32, 32, 2)\n",
            "[@debug] mosaic.py:344 in loopOverImage()- self.count_mask_batch: 1245\n",
            "[@debug] mosaic.py:345 in loopOverImage()- self.count_mask: 65985\n",
            "[@debug] mosaic.py:350 in loopOverImage()\n",
            "         self.pred_logits_patches.dtype: dtype('float16')\n",
            "[@debug] mosaic.py:351 in loopOverImage()\n",
            "         self.pred_logits_patches.shape: (1245, 32, 32, 9)\n",
            "[@debug] mosaic.py:353 in loopOverImage()\n",
            "         np.unique(self.pred_logits_patches.argmax(axis=-1), return_counts = True): (array([0, 1, 2, 3, 4, 5, 6, 7, 8]),\n",
            "                                                                                     array([183406,  74336,  18533,  21947, 316981, 368014,  85937,   1022,\n",
            "                                                                                           204704]))\n",
            "[@debug] mosaic.py:368 in loopOverImage()- self.count_mask: 65985\n",
            "[@debug] mosaic.py:502 in loopToPredict()- self.count_mask_batch: 1245\n",
            "[@debug] mosaic.py:503 in loopToPredict()- self.count_mask: 65985\n",
            "[@debug] mosaic.py:374 in loopOverImage()\n",
            "         np.unique(self.prediction_mosaic, return_counts=True): (array([  0,   1,   2,   3,   4,   5,   6,   7,   8, 255], dtype=uint8),\n",
            "                                                                 array([  992923,  1238656,    53901,   157981,   492346,   404707,\n",
            "                                                                         476665,     1750,   302761, 63771850]))\n",
            "[@debug] mosaic.py:379 in loopOverImage()\n",
            "         np.unique(self.prediction_mosaic, return_counts=True): (array([  0,   1,   2,   3,   4,   5,   6,   7,   8, 255], dtype=uint8),\n",
            "                                                                 array([  824900,  1168889,    35373,   136034,   175603,    62193,\n",
            "                                                                         391134,      733,    98063, 65000618]))\n"
          ],
          "name": "stderr"
        },
        {
          "output_type": "stream",
          "text": [
            "================== starting self.batch ... ==================\n"
          ],
          "name": "stdout"
        },
        {
          "output_type": "stream",
          "text": [
            "[@debug] mosaic.py:331 in loopOverImage()\n",
            "         self.count_mask_overall: 52290\n",
            "[@debug] mosaic.py:332 in loopOverImage()- self.batch: 42\n",
            "[@debug] mosaic.py:333 in loopOverImage()\n",
            "         self.batch * self.patches_per_batch: 52290\n",
            "[@debug] mosaic.py:334 in loopOverImage()\n",
            "         (self.batch + 1) * self.patches_per_batch: 53535\n",
            "[@debug] mosaic.py:340 in loopOverImage()\n",
            "         np.average(self.data.full_ims_test): 3.117\n",
            "         np.min(self.data.full_ims_test): -1.432\n",
            "         np.max(self.data.full_ims_test): 51.53\n",
            "[@debug] mosaic.py:341 in loopOverImage()\n",
            "         np.average(patches_in): 0.722\n",
            "         np.min(patches_in): -1.432\n",
            "         np.max(patches_in): 51.53\n",
            "[@debug] mosaic.py:342 in loopOverImage()\n",
            "         patches_in.shape: (1245, 12, 32, 32, 2)\n",
            "[@debug] mosaic.py:344 in loopOverImage()- self.count_mask_batch: 1245\n",
            "[@debug] mosaic.py:345 in loopOverImage()- self.count_mask: 65985\n",
            "[@debug] mosaic.py:350 in loopOverImage()\n",
            "         self.pred_logits_patches.dtype: dtype('float16')\n",
            "[@debug] mosaic.py:351 in loopOverImage()\n",
            "         self.pred_logits_patches.shape: (1245, 32, 32, 9)\n",
            "[@debug] mosaic.py:353 in loopOverImage()\n",
            "         np.unique(self.pred_logits_patches.argmax(axis=-1), return_counts = True): (array([0, 1, 2, 3, 4, 5, 6, 7, 8]),\n",
            "                                                                                     array([185181,  67350,  12687,  16703, 301698, 402615,  75992,   2080,\n",
            "                                                                                           210574]))\n",
            "[@debug] mosaic.py:368 in loopOverImage()- self.count_mask: 65985\n",
            "[@debug] mosaic.py:502 in loopToPredict()- self.count_mask_batch: 1245\n",
            "[@debug] mosaic.py:503 in loopToPredict()- self.count_mask: 65985\n",
            "[@debug] mosaic.py:374 in loopOverImage()\n",
            "         np.unique(self.prediction_mosaic, return_counts=True): (array([  0,   1,   2,   3,   4,   5,   6,   7,   8, 255], dtype=uint8),\n",
            "                                                                 array([  949008,  1236239,    48060,   152737,   477301,   464808,\n",
            "                                                                         467126,     2813,   308637, 63786811]))\n",
            "[@debug] mosaic.py:379 in loopOverImage()\n",
            "         np.unique(self.prediction_mosaic, return_counts=True): (array([  0,   1,   2,   3,   4,   5,   6,   7,   8, 255], dtype=uint8),\n",
            "                                                                 array([  781214,  1187319,    35404,   136037,   175799,    86772,\n",
            "                                                                         391443,      748,    98186, 65000618]))\n"
          ],
          "name": "stderr"
        },
        {
          "output_type": "stream",
          "text": [
            "================== starting self.batch ... ==================\n"
          ],
          "name": "stdout"
        },
        {
          "output_type": "stream",
          "text": [
            "[@debug] mosaic.py:331 in loopOverImage()\n",
            "         self.count_mask_overall: 53535\n",
            "[@debug] mosaic.py:332 in loopOverImage()- self.batch: 43\n",
            "[@debug] mosaic.py:333 in loopOverImage()\n",
            "         self.batch * self.patches_per_batch: 53535\n",
            "[@debug] mosaic.py:334 in loopOverImage()\n",
            "         (self.batch + 1) * self.patches_per_batch: 54780\n",
            "[@debug] mosaic.py:340 in loopOverImage()\n",
            "         np.average(self.data.full_ims_test): 3.117\n",
            "         np.min(self.data.full_ims_test): -1.432\n",
            "         np.max(self.data.full_ims_test): 51.53\n",
            "[@debug] mosaic.py:341 in loopOverImage()\n",
            "         np.average(patches_in): 0.59\n",
            "         np.min(patches_in): -1.432\n",
            "         np.max(patches_in): 51.53\n",
            "[@debug] mosaic.py:342 in loopOverImage()\n",
            "         patches_in.shape: (1245, 12, 32, 32, 2)\n",
            "[@debug] mosaic.py:344 in loopOverImage()- self.count_mask_batch: 1245\n",
            "[@debug] mosaic.py:345 in loopOverImage()- self.count_mask: 65985\n",
            "[@debug] mosaic.py:350 in loopOverImage()\n",
            "         self.pred_logits_patches.dtype: dtype('float16')\n",
            "[@debug] mosaic.py:351 in loopOverImage()\n",
            "         self.pred_logits_patches.shape: (1245, 32, 32, 9)\n",
            "[@debug] mosaic.py:353 in loopOverImage()\n",
            "         np.unique(self.pred_logits_patches.argmax(axis=-1), return_counts = True): (array([0, 1, 2, 3, 4, 5, 6, 7, 8]),\n",
            "                                                                                     array([136361,  92743,   9355,  10637, 377758, 321740,  79182,   1262,\n",
            "                                                                                           245842]))\n",
            "[@debug] mosaic.py:368 in loopOverImage()- self.count_mask: 65985\n",
            "[@debug] mosaic.py:502 in loopToPredict()- self.count_mask_batch: 1245\n",
            "[@debug] mosaic.py:503 in loopToPredict()- self.count_mask: 65985\n",
            "[@debug] mosaic.py:374 in loopOverImage()\n",
            "         np.unique(self.prediction_mosaic, return_counts=True): (array([  0,   1,   2,   3,   4,   5,   6,   7,   8, 255], dtype=uint8),\n",
            "                                                                 array([  868092,  1280062,    44759,   146674,   553557,   408512,\n",
            "                                                                         470625,     2010,   344028, 63775221]))\n",
            "[@debug] mosaic.py:379 in loopOverImage()\n",
            "         np.unique(self.prediction_mosaic, return_counts=True): (array([  0,   1,   2,   3,   4,   5,   6,   7,   8, 255], dtype=uint8),\n",
            "                                                                 array([  764951,  1189141,    35434,   136047,   178369,    91669,\n",
            "                                                                         392524,      752,   104035, 65000618]))\n"
          ],
          "name": "stderr"
        },
        {
          "output_type": "stream",
          "text": [
            "================== starting self.batch ... ==================\n"
          ],
          "name": "stdout"
        },
        {
          "output_type": "stream",
          "text": [
            "[@debug] mosaic.py:331 in loopOverImage()\n",
            "         self.count_mask_overall: 54780\n",
            "[@debug] mosaic.py:332 in loopOverImage()- self.batch: 44\n",
            "[@debug] mosaic.py:333 in loopOverImage()\n",
            "         self.batch * self.patches_per_batch: 54780\n",
            "[@debug] mosaic.py:334 in loopOverImage()\n",
            "         (self.batch + 1) * self.patches_per_batch: 56025\n",
            "[@debug] mosaic.py:340 in loopOverImage()\n",
            "         np.average(self.data.full_ims_test): 3.117\n",
            "         np.min(self.data.full_ims_test): -1.432\n",
            "         np.max(self.data.full_ims_test): 51.53\n",
            "[@debug] mosaic.py:341 in loopOverImage()\n",
            "         np.average(patches_in): 0.4912\n",
            "         np.min(patches_in): -1.432\n",
            "         np.max(patches_in): 51.53\n",
            "[@debug] mosaic.py:342 in loopOverImage()\n",
            "         patches_in.shape: (1245, 12, 32, 32, 2)\n",
            "[@debug] mosaic.py:344 in loopOverImage()- self.count_mask_batch: 1245\n",
            "[@debug] mosaic.py:345 in loopOverImage()- self.count_mask: 65985\n",
            "[@debug] mosaic.py:350 in loopOverImage()\n",
            "         self.pred_logits_patches.dtype: dtype('float16')\n",
            "[@debug] mosaic.py:351 in loopOverImage()\n",
            "         self.pred_logits_patches.shape: (1245, 32, 32, 9)\n",
            "[@debug] mosaic.py:353 in loopOverImage()\n",
            "         np.unique(self.pred_logits_patches.argmax(axis=-1), return_counts = True): (array([0, 1, 2, 3, 4, 5, 6, 7, 8]),\n",
            "                                                                                     array([159638,  54888,   9832,  15641, 377958, 327702,  79916,    576,\n",
            "                                                                                           248729]))\n",
            "[@debug] mosaic.py:368 in loopOverImage()- self.count_mask: 65985\n",
            "[@debug] mosaic.py:502 in loopToPredict()- self.count_mask_batch: 1245\n",
            "[@debug] mosaic.py:503 in loopToPredict()- self.count_mask: 65985\n",
            "[@debug] mosaic.py:374 in loopOverImage()\n",
            "         np.unique(self.prediction_mosaic, return_counts=True): (array([  0,   1,   2,   3,   4,   5,   6,   7,   8, 255], dtype=uint8),\n",
            "                                                                 array([  877154,  1244029,    45266,   151688,   556327,   419371,\n",
            "                                                                         472440,     1328,   352764, 63773173]))\n",
            "[@debug] mosaic.py:379 in loopOverImage()\n",
            "         np.unique(self.prediction_mosaic, return_counts=True): (array([  0,   1,   2,   3,   4,   5,   6,   7,   8, 255], dtype=uint8),\n",
            "                                                                 array([  747148,  1191301,    36230,   136360,   184765,    98663,\n",
            "                                                                         392736,      758,   104961, 65000618]))\n"
          ],
          "name": "stderr"
        },
        {
          "output_type": "stream",
          "text": [
            "================== starting self.batch ... ==================\n"
          ],
          "name": "stdout"
        },
        {
          "output_type": "stream",
          "text": [
            "[@debug] mosaic.py:331 in loopOverImage()\n",
            "         self.count_mask_overall: 56025\n",
            "[@debug] mosaic.py:332 in loopOverImage()- self.batch: 45\n",
            "[@debug] mosaic.py:333 in loopOverImage()\n",
            "         self.batch * self.patches_per_batch: 56025\n",
            "[@debug] mosaic.py:334 in loopOverImage()\n",
            "         (self.batch + 1) * self.patches_per_batch: 57270\n",
            "[@debug] mosaic.py:340 in loopOverImage()\n",
            "         np.average(self.data.full_ims_test): 3.117\n",
            "         np.min(self.data.full_ims_test): -1.432\n",
            "         np.max(self.data.full_ims_test): 51.53\n",
            "[@debug] mosaic.py:341 in loopOverImage()\n",
            "         np.average(patches_in): 0.415\n",
            "         np.min(patches_in): -1.432\n",
            "         np.max(patches_in): 51.53\n",
            "[@debug] mosaic.py:342 in loopOverImage()\n",
            "         patches_in.shape: (1245, 12, 32, 32, 2)\n",
            "[@debug] mosaic.py:344 in loopOverImage()- self.count_mask_batch: 1245\n",
            "[@debug] mosaic.py:345 in loopOverImage()- self.count_mask: 65985\n",
            "[@debug] mosaic.py:350 in loopOverImage()\n",
            "         self.pred_logits_patches.dtype: dtype('float16')\n",
            "[@debug] mosaic.py:351 in loopOverImage()\n",
            "         self.pred_logits_patches.shape: (1245, 32, 32, 9)\n",
            "[@debug] mosaic.py:353 in loopOverImage()\n",
            "         np.unique(self.pred_logits_patches.argmax(axis=-1), return_counts = True): (array([0, 1, 2, 3, 4, 5, 6, 7, 8]),\n",
            "                                                                                     array([125084,  33313,  12996,  28490, 309862, 373776,  98591,    807,\n",
            "                                                                                           291961]))\n",
            "[@debug] mosaic.py:368 in loopOverImage()- self.count_mask: 65985\n",
            "[@debug] mosaic.py:502 in loopToPredict()- self.count_mask_batch: 1245\n",
            "[@debug] mosaic.py:503 in loopToPredict()- self.count_mask: 65985\n",
            "[@debug] mosaic.py:374 in loopOverImage()\n",
            "         np.unique(self.prediction_mosaic, return_counts=True): (array([  0,   1,   2,   3,   4,   5,   6,   7,   8, 255], dtype=uint8),\n",
            "                                                                 array([  869686,  1224614,    49226,   164850,   494627,   472439,\n",
            "                                                                         491327,     1565,   396922, 63728284]))\n",
            "[@debug] mosaic.py:379 in loopOverImage()\n",
            "         np.unique(self.prediction_mosaic, return_counts=True): (array([  0,   1,   2,   3,   4,   5,   6,   7,   8, 255], dtype=uint8),\n",
            "                                                                 array([  744602,  1191301,    36230,   136360,   186439,    99519,\n",
            "                                                                         392736,      758,   104977, 65000618]))\n"
          ],
          "name": "stderr"
        },
        {
          "output_type": "stream",
          "text": [
            "================== starting self.batch ... ==================\n"
          ],
          "name": "stdout"
        },
        {
          "output_type": "stream",
          "text": [
            "[@debug] mosaic.py:331 in loopOverImage()\n",
            "         self.count_mask_overall: 57270\n",
            "[@debug] mosaic.py:332 in loopOverImage()- self.batch: 46\n",
            "[@debug] mosaic.py:333 in loopOverImage()\n",
            "         self.batch * self.patches_per_batch: 57270\n",
            "[@debug] mosaic.py:334 in loopOverImage()\n",
            "         (self.batch + 1) * self.patches_per_batch: 58515\n",
            "[@debug] mosaic.py:340 in loopOverImage()\n",
            "         np.average(self.data.full_ims_test): 3.117\n",
            "         np.min(self.data.full_ims_test): -1.432\n",
            "         np.max(self.data.full_ims_test): 51.53\n",
            "[@debug] mosaic.py:341 in loopOverImage()\n",
            "         np.average(patches_in): 0.305\n",
            "         np.min(patches_in): -1.432\n",
            "         np.max(patches_in): 51.53\n",
            "[@debug] mosaic.py:342 in loopOverImage()\n",
            "         patches_in.shape: (1245, 12, 32, 32, 2)\n",
            "[@debug] mosaic.py:344 in loopOverImage()- self.count_mask_batch: 1245\n",
            "[@debug] mosaic.py:345 in loopOverImage()- self.count_mask: 65985\n",
            "[@debug] mosaic.py:350 in loopOverImage()\n",
            "         self.pred_logits_patches.dtype: dtype('float16')\n",
            "[@debug] mosaic.py:351 in loopOverImage()\n",
            "         self.pred_logits_patches.shape: (1245, 32, 32, 9)\n",
            "[@debug] mosaic.py:353 in loopOverImage()\n",
            "         np.unique(self.pred_logits_patches.argmax(axis=-1), return_counts = True): (array([0, 1, 2, 3, 4, 5, 6, 7, 8]),\n",
            "                                                                                     array([143957,  22602,  11440,  43720, 296509, 357746,  58646,    504,\n",
            "                                                                                           339756]))\n",
            "[@debug] mosaic.py:368 in loopOverImage()- self.count_mask: 65985\n",
            "[@debug] mosaic.py:502 in loopToPredict()- self.count_mask_batch: 1245\n",
            "[@debug] mosaic.py:503 in loopToPredict()- self.count_mask: 65985\n",
            "[@debug] mosaic.py:374 in loopOverImage()\n",
            "         np.unique(self.prediction_mosaic, return_counts=True): (array([  0,   1,   2,   3,   4,   5,   6,   7,   8, 255], dtype=uint8),\n",
            "                                                                 array([  859986,  1213903,    47670,   180080,   482948,   457265,\n",
            "                                                                         451382,     1262,   444733, 63754311]))\n",
            "[@debug] mosaic.py:379 in loopOverImage()\n",
            "         np.unique(self.prediction_mosaic, return_counts=True): (array([  0,   1,   2,   3,   4,   5,   6,   7,   8, 255], dtype=uint8),\n",
            "                                                                 array([  722428,  1191301,    36256,   139287,   196013,    99519,\n",
            "                                                                         393115,      758,   114245, 65000618]))\n"
          ],
          "name": "stderr"
        },
        {
          "output_type": "stream",
          "text": [
            "================== starting self.batch ... ==================\n"
          ],
          "name": "stdout"
        },
        {
          "output_type": "stream",
          "text": [
            "[@debug] mosaic.py:331 in loopOverImage()\n",
            "         self.count_mask_overall: 58515\n",
            "[@debug] mosaic.py:332 in loopOverImage()- self.batch: 47\n",
            "[@debug] mosaic.py:333 in loopOverImage()\n",
            "         self.batch * self.patches_per_batch: 58515\n",
            "[@debug] mosaic.py:334 in loopOverImage()\n",
            "         (self.batch + 1) * self.patches_per_batch: 59760\n",
            "[@debug] mosaic.py:340 in loopOverImage()\n",
            "         np.average(self.data.full_ims_test): 3.117\n",
            "         np.min(self.data.full_ims_test): -1.432\n",
            "         np.max(self.data.full_ims_test): 51.53\n",
            "[@debug] mosaic.py:341 in loopOverImage()\n",
            "         np.average(patches_in): 0.1927\n",
            "         np.min(patches_in): -1.432\n",
            "         np.max(patches_in): 51.53\n",
            "[@debug] mosaic.py:342 in loopOverImage()\n",
            "         patches_in.shape: (1245, 12, 32, 32, 2)\n",
            "[@debug] mosaic.py:344 in loopOverImage()- self.count_mask_batch: 1245\n",
            "[@debug] mosaic.py:345 in loopOverImage()- self.count_mask: 65985\n",
            "[@debug] mosaic.py:350 in loopOverImage()\n",
            "         self.pred_logits_patches.dtype: dtype('float16')\n",
            "[@debug] mosaic.py:351 in loopOverImage()\n",
            "         self.pred_logits_patches.shape: (1245, 32, 32, 9)\n",
            "[@debug] mosaic.py:353 in loopOverImage()\n",
            "         np.unique(self.pred_logits_patches.argmax(axis=-1), return_counts = True): (array([0, 1, 2, 3, 4, 5, 6, 7, 8]),\n",
            "                                                                                     array([194617,  27270,   7491,  21078, 322226, 312252,  71475,   1144,\n",
            "                                                                                           317327]))\n",
            "[@debug] mosaic.py:368 in loopOverImage()- self.count_mask: 65985\n",
            "[@debug] mosaic.py:502 in loopToPredict()- self.count_mask_batch: 1245\n",
            "[@debug] mosaic.py:503 in loopToPredict()- self.count_mask: 65985\n",
            "[@debug] mosaic.py:374 in loopOverImage()\n",
            "         np.unique(self.prediction_mosaic, return_counts=True): (array([  0,   1,   2,   3,   4,   5,   6,   7,   8, 255], dtype=uint8),\n",
            "                                                                 array([  883201,  1218571,    43747,   160365,   518239,   411771,\n",
            "                                                                         464590,     1902,   431572, 63759582]))\n",
            "[@debug] mosaic.py:379 in loopOverImage()\n",
            "         np.unique(self.prediction_mosaic, return_counts=True): (array([  0,   1,   2,   3,   4,   5,   6,   7,   8, 255], dtype=uint8),\n",
            "                                                                 array([  705416,  1191426,    36264,   140266,   199435,    99930,\n",
            "                                                                         393457,      761,   125967, 65000618]))\n"
          ],
          "name": "stderr"
        },
        {
          "output_type": "stream",
          "text": [
            "================== starting self.batch ... ==================\n"
          ],
          "name": "stdout"
        },
        {
          "output_type": "stream",
          "text": [
            "[@debug] mosaic.py:331 in loopOverImage()\n",
            "         self.count_mask_overall: 59760\n",
            "[@debug] mosaic.py:332 in loopOverImage()- self.batch: 48\n",
            "[@debug] mosaic.py:333 in loopOverImage()\n",
            "         self.batch * self.patches_per_batch: 59760\n",
            "[@debug] mosaic.py:334 in loopOverImage()\n",
            "         (self.batch + 1) * self.patches_per_batch: 61005\n",
            "[@debug] mosaic.py:340 in loopOverImage()\n",
            "         np.average(self.data.full_ims_test): 3.117\n",
            "         np.min(self.data.full_ims_test): -1.432\n",
            "         np.max(self.data.full_ims_test): 51.53\n",
            "[@debug] mosaic.py:341 in loopOverImage()\n",
            "         np.average(patches_in): 0.172\n",
            "         np.min(patches_in): -1.431\n",
            "         np.max(patches_in): 51.53\n",
            "[@debug] mosaic.py:342 in loopOverImage()\n",
            "         patches_in.shape: (1245, 12, 32, 32, 2)\n",
            "[@debug] mosaic.py:344 in loopOverImage()- self.count_mask_batch: 1245\n",
            "[@debug] mosaic.py:345 in loopOverImage()- self.count_mask: 65985\n",
            "[@debug] mosaic.py:350 in loopOverImage()\n",
            "         self.pred_logits_patches.dtype: dtype('float16')\n",
            "[@debug] mosaic.py:351 in loopOverImage()\n",
            "         self.pred_logits_patches.shape: (1245, 32, 32, 9)\n",
            "[@debug] mosaic.py:353 in loopOverImage()\n",
            "         np.unique(self.pred_logits_patches.argmax(axis=-1), return_counts = True): (array([0, 1, 2, 3, 4, 5, 6, 7, 8]),\n",
            "                                                                                     array([230354,  62714,   8363,  15673, 300653, 255440,  73834,    487,\n",
            "                                                                                           327362]))\n",
            "[@debug] mosaic.py:368 in loopOverImage()- self.count_mask: 65985\n",
            "[@debug] mosaic.py:502 in loopToPredict()- self.count_mask_batch: 1245\n",
            "[@debug] mosaic.py:503 in loopToPredict()- self.count_mask: 65985\n",
            "[@debug] mosaic.py:374 in loopOverImage()\n",
            "         np.unique(self.prediction_mosaic, return_counts=True): (array([  0,   1,   2,   3,   4,   5,   6,   7,   8, 255], dtype=uint8),\n",
            "                                                                 array([  906429,  1254140,    44627,   155939,   500088,   355370,\n",
            "                                                                         467291,     1248,   453329, 63755079]))\n",
            "[@debug] mosaic.py:379 in loopOverImage()\n",
            "         np.unique(self.prediction_mosaic, return_counts=True): (array([  0,   1,   2,   3,   4,   5,   6,   7,   8, 255], dtype=uint8),\n",
            "                                                                 array([  703147,  1191485,    36275,   140910,   199637,   100260,\n",
            "                                                                         393494,      761,   126953, 65000618]))\n"
          ],
          "name": "stderr"
        },
        {
          "output_type": "stream",
          "text": [
            "================== starting self.batch ... ==================\n"
          ],
          "name": "stdout"
        },
        {
          "output_type": "stream",
          "text": [
            "[@debug] mosaic.py:331 in loopOverImage()\n",
            "         self.count_mask_overall: 61005\n",
            "[@debug] mosaic.py:332 in loopOverImage()- self.batch: 49\n",
            "[@debug] mosaic.py:333 in loopOverImage()\n",
            "         self.batch * self.patches_per_batch: 61005\n",
            "[@debug] mosaic.py:334 in loopOverImage()\n",
            "         (self.batch + 1) * self.patches_per_batch: 62250\n",
            "[@debug] mosaic.py:340 in loopOverImage()\n",
            "         np.average(self.data.full_ims_test): 3.117\n",
            "         np.min(self.data.full_ims_test): -1.432\n",
            "         np.max(self.data.full_ims_test): 51.53\n",
            "[@debug] mosaic.py:341 in loopOverImage()\n",
            "         np.average(patches_in): 0.2399\n",
            "         np.min(patches_in): -1.418\n",
            "         np.max(patches_in): 51.53\n",
            "[@debug] mosaic.py:342 in loopOverImage()\n",
            "         patches_in.shape: (1245, 12, 32, 32, 2)\n",
            "[@debug] mosaic.py:344 in loopOverImage()- self.count_mask_batch: 1245\n",
            "[@debug] mosaic.py:345 in loopOverImage()- self.count_mask: 65985\n",
            "[@debug] mosaic.py:350 in loopOverImage()\n",
            "         self.pred_logits_patches.dtype: dtype('float16')\n",
            "[@debug] mosaic.py:351 in loopOverImage()\n",
            "         self.pred_logits_patches.shape: (1245, 32, 32, 9)\n",
            "[@debug] mosaic.py:353 in loopOverImage()\n",
            "         np.unique(self.pred_logits_patches.argmax(axis=-1), return_counts = True): (array([0, 1, 2, 3, 4, 5, 6, 7, 8]),\n",
            "                                                                                     array([217475, 130723,   5027,  13074, 254032, 253645,  68236,    993,\n",
            "                                                                                           331675]))\n",
            "[@debug] mosaic.py:368 in loopOverImage()- self.count_mask: 65985\n",
            "[@debug] mosaic.py:502 in loopToPredict()- self.count_mask_batch: 1245\n",
            "[@debug] mosaic.py:503 in loopToPredict()- self.count_mask: 65985\n",
            "[@debug] mosaic.py:374 in loopOverImage()\n",
            "         np.unique(self.prediction_mosaic, return_counts=True): (array([  0,   1,   2,   3,   4,   5,   6,   7,   8, 255], dtype=uint8),\n",
            "                                                                 array([  908236,  1322208,    41302,   153984,   453669,   353905,\n",
            "                                                                         461730,     1754,   458628, 63738124]))\n",
            "[@debug] mosaic.py:379 in loopOverImage()\n",
            "         np.unique(self.prediction_mosaic, return_counts=True): (array([  0,   1,   2,   3,   4,   5,   6,   7,   8, 255], dtype=uint8),\n",
            "                                                                 array([  690761,  1191485,    36275,   140910,   207386,   100464,\n",
            "                                                                         393494,      761,   131386, 65000618]))\n"
          ],
          "name": "stderr"
        },
        {
          "output_type": "stream",
          "text": [
            "================== starting self.batch ... ==================\n"
          ],
          "name": "stdout"
        },
        {
          "output_type": "stream",
          "text": [
            "[@debug] mosaic.py:331 in loopOverImage()\n",
            "         self.count_mask_overall: 62250\n",
            "[@debug] mosaic.py:332 in loopOverImage()- self.batch: 50\n",
            "[@debug] mosaic.py:333 in loopOverImage()\n",
            "         self.batch * self.patches_per_batch: 62250\n",
            "[@debug] mosaic.py:334 in loopOverImage()\n",
            "         (self.batch + 1) * self.patches_per_batch: 63495\n",
            "[@debug] mosaic.py:340 in loopOverImage()\n",
            "         np.average(self.data.full_ims_test): 3.117\n",
            "         np.min(self.data.full_ims_test): -1.432\n",
            "         np.max(self.data.full_ims_test): 51.53\n",
            "[@debug] mosaic.py:341 in loopOverImage()\n",
            "         np.average(patches_in): 0.1558\n",
            "         np.min(patches_in): -1.419\n",
            "         np.max(patches_in): 51.53\n",
            "[@debug] mosaic.py:342 in loopOverImage()\n",
            "         patches_in.shape: (1245, 12, 32, 32, 2)\n",
            "[@debug] mosaic.py:344 in loopOverImage()- self.count_mask_batch: 1245\n",
            "[@debug] mosaic.py:345 in loopOverImage()- self.count_mask: 65985\n",
            "[@debug] mosaic.py:350 in loopOverImage()\n",
            "         self.pred_logits_patches.dtype: dtype('float16')\n",
            "[@debug] mosaic.py:351 in loopOverImage()\n",
            "         self.pred_logits_patches.shape: (1245, 32, 32, 9)\n",
            "[@debug] mosaic.py:353 in loopOverImage()\n",
            "         np.unique(self.pred_logits_patches.argmax(axis=-1), return_counts = True): (array([0, 1, 2, 3, 4, 5, 6, 7, 8]),\n",
            "                                                                                     array([203893, 117146,   8648,  22203, 254029, 220010,  78507,   1154,\n",
            "                                                                                           369290]))\n",
            "[@debug] mosaic.py:368 in loopOverImage()- self.count_mask: 65985\n",
            "[@debug] mosaic.py:502 in loopToPredict()- self.count_mask_batch: 1245\n",
            "[@debug] mosaic.py:503 in loopToPredict()- self.count_mask: 65985\n",
            "[@debug] mosaic.py:374 in loopOverImage()\n",
            "         np.unique(self.prediction_mosaic, return_counts=True): (array([  0,   1,   2,   3,   4,   5,   6,   7,   8, 255], dtype=uint8),\n",
            "                                                                 array([  892747,  1308631,    44923,   163113,   461415,   320474,\n",
            "                                                                         472001,     1915,   500676, 63727645]))\n",
            "[@debug] mosaic.py:379 in loopOverImage()\n",
            "         np.unique(self.prediction_mosaic, return_counts=True): (array([  0,   1,   2,   3,   4,   5,   6,   7,   8, 255], dtype=uint8),\n",
            "                                                                 array([  688991,  1191485,    36587,   141179,   207718,   100471,\n",
            "                                                                         394344,      761,   131386, 65000618]))\n"
          ],
          "name": "stderr"
        },
        {
          "output_type": "stream",
          "text": [
            "================== starting self.batch ... ==================\n"
          ],
          "name": "stdout"
        },
        {
          "output_type": "stream",
          "text": [
            "[@debug] mosaic.py:331 in loopOverImage()\n",
            "         self.count_mask_overall: 63495\n",
            "[@debug] mosaic.py:332 in loopOverImage()- self.batch: 51\n",
            "[@debug] mosaic.py:333 in loopOverImage()\n",
            "         self.batch * self.patches_per_batch: 63495\n",
            "[@debug] mosaic.py:334 in loopOverImage()\n",
            "         (self.batch + 1) * self.patches_per_batch: 64740\n",
            "[@debug] mosaic.py:340 in loopOverImage()\n",
            "         np.average(self.data.full_ims_test): 3.117\n",
            "         np.min(self.data.full_ims_test): -1.432\n",
            "         np.max(self.data.full_ims_test): 51.53\n",
            "[@debug] mosaic.py:341 in loopOverImage()\n",
            "         np.average(patches_in): 0.1256\n",
            "         np.min(patches_in): -1.419\n",
            "         np.max(patches_in): 51.53\n",
            "[@debug] mosaic.py:342 in loopOverImage()\n",
            "         patches_in.shape: (1245, 12, 32, 32, 2)\n",
            "[@debug] mosaic.py:344 in loopOverImage()- self.count_mask_batch: 1245\n",
            "[@debug] mosaic.py:345 in loopOverImage()- self.count_mask: 65985\n",
            "[@debug] mosaic.py:350 in loopOverImage()\n",
            "         self.pred_logits_patches.dtype: dtype('float16')\n",
            "[@debug] mosaic.py:351 in loopOverImage()\n",
            "         self.pred_logits_patches.shape: (1245, 32, 32, 9)\n",
            "[@debug] mosaic.py:353 in loopOverImage()\n",
            "         np.unique(self.pred_logits_patches.argmax(axis=-1), return_counts = True): (array([0, 1, 2, 3, 4, 5, 6, 7, 8]),\n",
            "                                                                                     array([164461,  61187,   6489,  30998, 307652, 250804, 113745,   1419,\n",
            "                                                                                           338125]))\n",
            "[@debug] mosaic.py:368 in loopOverImage()- self.count_mask: 65985\n",
            "[@debug] mosaic.py:502 in loopToPredict()- self.count_mask_batch: 1245\n",
            "[@debug] mosaic.py:503 in loopToPredict()- self.count_mask: 65985\n",
            "[@debug] mosaic.py:374 in loopOverImage()\n",
            "         np.unique(self.prediction_mosaic, return_counts=True): (array([  0,   1,   2,   3,   4,   5,   6,   7,   8, 255], dtype=uint8),\n",
            "                                                                 array([  853452,  1252672,    43076,   172177,   515370,   351275,\n",
            "                                                                         508089,     2180,   469511, 63725738]))\n",
            "[@debug] mosaic.py:379 in loopOverImage()\n",
            "         np.unique(self.prediction_mosaic, return_counts=True): (array([  0,   1,   2,   3,   4,   5,   6,   7,   8, 255], dtype=uint8),\n",
            "                                                                 array([  688991,  1191485,    36587,   141179,   207718,   100471,\n",
            "                                                                         394344,      761,   131386, 65000618]))\n"
          ],
          "name": "stderr"
        },
        {
          "output_type": "stream",
          "text": [
            "================== starting self.batch ... ==================\n"
          ],
          "name": "stdout"
        },
        {
          "output_type": "stream",
          "text": [
            "[@debug] mosaic.py:331 in loopOverImage()\n",
            "         self.count_mask_overall: 64740\n",
            "[@debug] mosaic.py:332 in loopOverImage()- self.batch: 52\n",
            "[@debug] mosaic.py:333 in loopOverImage()\n",
            "         self.batch * self.patches_per_batch: 64740\n",
            "[@debug] mosaic.py:334 in loopOverImage()\n",
            "         (self.batch + 1) * self.patches_per_batch: 65985\n",
            "[@debug] mosaic.py:340 in loopOverImage()\n",
            "         np.average(self.data.full_ims_test): 3.117\n",
            "         np.min(self.data.full_ims_test): -1.432\n",
            "         np.max(self.data.full_ims_test): 51.53\n",
            "[@debug] mosaic.py:341 in loopOverImage()\n",
            "         np.average(patches_in): 0.1558\n",
            "         np.min(patches_in): -1.419\n",
            "         np.max(patches_in): 51.53\n",
            "[@debug] mosaic.py:342 in loopOverImage()\n",
            "         patches_in.shape: (1245, 12, 32, 32, 2)\n",
            "[@debug] mosaic.py:344 in loopOverImage()- self.count_mask_batch: 1245\n",
            "[@debug] mosaic.py:345 in loopOverImage()- self.count_mask: 65985\n",
            "[@debug] mosaic.py:350 in loopOverImage()\n",
            "         self.pred_logits_patches.dtype: dtype('float16')\n",
            "[@debug] mosaic.py:351 in loopOverImage()\n",
            "         self.pred_logits_patches.shape: (1245, 32, 32, 9)\n",
            "[@debug] mosaic.py:353 in loopOverImage()\n",
            "         np.unique(self.pred_logits_patches.argmax(axis=-1), return_counts = True): (array([0, 1, 2, 3, 4, 5, 6, 7, 8]),\n",
            "                                                                                     array([167418,  65461,   4587,  34590, 321611, 261628,  81583,   1030,\n",
            "                                                                                           336972]))\n",
            "[@debug] mosaic.py:368 in loopOverImage()- self.count_mask: 65985\n",
            "[@debug] mosaic.py:502 in loopToPredict()- self.count_mask_batch: 1245\n",
            "[@debug] mosaic.py:503 in loopToPredict()- self.count_mask: 65985\n",
            "[@debug] mosaic.py:374 in loopOverImage()\n",
            "         np.unique(self.prediction_mosaic, return_counts=True): (array([  0,   1,   2,   3,   4,   5,   6,   7,   8, 255], dtype=uint8),\n",
            "                                                                 array([  856409,  1256946,    41174,   175769,   529329,   362099,\n",
            "                                                                         475927,     1791,   468358, 63725738]))\n",
            "[@debug] mosaic.py:379 in loopOverImage()\n",
            "         np.unique(self.prediction_mosaic, return_counts=True): (array([  0,   1,   2,   3,   4,   5,   6,   7,   8, 255], dtype=uint8),\n",
            "                                                                 array([  688991,  1191485,    36587,   141179,   207718,   100471,\n",
            "                                                                         394344,      761,   131386, 65000618]))\n"
          ],
          "name": "stderr"
        },
        {
          "output_type": "stream",
          "text": [
            "Entering newLabel2labelTranslate\n",
            "[@debug] np.unique(label,return_counts=True) = (array([  0,   1,   2,   3,   4,   5,   6,   7,   8, 255], dtype=uint8), array([  688991,  1191485,    36587,   141179,   207718,   100471,\n",
            "         394344,      761,   131386, 65000618]))\n",
            "[@debug] np.unique(label)[-1] = 255\n",
            "[@debug] np.unique(label,return_counts=True) = (array([  0,   1,   2,   3,   4,   5,   6,   7,   8, 255], dtype=uint8), array([  688991,  1191485,    36587,   141179,   207718,   100471,\n",
            "         394344,      761,   131386, 65000618]))\n",
            "[@debug] np.unique(label,return_counts=True) = (array([0, 1, 2, 3, 4, 5, 6, 7, 8, 9], dtype=uint8), array([65000618,   688991,  1191485,    36587,   141179,   207718,\n",
            "         100471,   394344,      761,   131386]))\n",
            "new_labels2labels filename <_io.BufferedReader name='results/label_translations/new_labels2labels_cv_20160613_S1.pkl'>\n",
            "[@debug] new_labels2labels = {0: 0, 1: 2, 2: 3, 3: 4, 4: 6, 5: 7, 6: 8, 7: 9, 8: 10, 9: 11}\n",
            "[@debug] classes = [0 1 2 3 4 5 6 7 8 9]\n",
            "0\n",
            "Translated 0\n",
            "1\n",
            "Translated 2\n",
            "2\n",
            "Translated 3\n",
            "3\n",
            "Translated 4\n",
            "4\n",
            "Translated 6\n",
            "5\n",
            "Translated 7\n",
            "6\n",
            "Translated 8\n",
            "7\n",
            "Translated 9\n",
            "8\n",
            "Translated 10\n",
            "9\n",
            "Translated 11\n"
          ],
          "name": "stdout"
        },
        {
          "output_type": "stream",
          "text": [
            "[@debug] mosaic.py:151 in create()\n",
            "         np.unique(self.prediction_mosaic, return_counts=True): (array([ 0,  2,  3,  4,  6,  7,  8,  9, 10, 11], dtype=uint8),\n",
            "                                                                 array([65000618,   688991,  1191485,    36587,   141179,   207718,\n",
            "                                                                         100471,   394344,      761,   131386]))\n",
            "[@debug] mosaic.py:153 in create()- time.time()-t0: 3439.62264084816\n",
            "[@debug] mosaic.py:156 in create()\n",
            "         self.data.full_label_test.shape: (8492, 7995)\n",
            "[@debug] mosaic.py:162 in create()\n",
            "         np.unique(self.prediction_mosaic, return_counts=True): (array([ 0,  2,  3,  4,  6,  7,  8,  9, 10, 11], dtype=uint8),\n",
            "                                                                 array([65000618,   688991,  1191485,    36587,   141179,   207718,\n",
            "                                                                         100471,   394344,      761,   131386]))\n",
            "[@debug] mosaic.py:169 in create()\n",
            "         self.data.full_label_test.shape: (8492, 7995)\n",
            "[@debug] mosaic.py:170 in create()\n",
            "         np.unique(self.data.full_label_test, return_counts=True): (array([ 0,  2,  3,  4,  6,  7,  8,  9, 10, 11], dtype=uint8),\n",
            "                                                                    array([65000618,   730790,  1199149,    25986,    88785,   312353,\n",
            "                                                                             83385,   362633,      308,    89533]))\n",
            "[@debug] mosaic.py:172 in create()\n",
            "         np.unique(self.label_mosaic, return_counts=True): (array([ 0,  2,  3,  4,  6,  7,  8,  9, 10, 11], dtype=uint8),\n",
            "                                                            array([65000618,   730790,  1199149,    25986,    88785,   312353,\n",
            "                                                                     83385,   362633,      308,    89533]))\n",
            "[@debug] mosaic.py:173 in create()\n",
            "         np.unique(self.prediction_mosaic, return_counts=True): (array([ 0,  2,  3,  4,  6,  7,  8,  9, 10, 11], dtype=uint8),\n",
            "                                                                 array([65000618,   688991,  1191485,    36587,   141179,   207718,\n",
            "                                                                         100471,   394344,      761,   131386]))\n",
            "[@debug] mosaic.py:179 in create()\n",
            "         np.unique(self.label_mosaic, return_counts=True): (array([  1,   2,   3,   5,   6,   7,   8,   9,  10, 255], dtype=uint8),\n",
            "                                                            array([  730790,  1199149,    25986,    88785,   312353,    83385,\n",
            "                                                                    362633,      308,    89533, 65000618]))\n",
            "[@debug] mosaic.py:180 in create()\n",
            "         np.unique(self.prediction_mosaic, return_counts=True): (array([  1,   2,   3,   5,   6,   7,   8,   9,  10, 255], dtype=uint8),\n",
            "                                                                 array([  688991,  1191485,    36587,   141179,   207718,   100471,\n",
            "                                                                         394344,      761,   131386, 65000618]))\n",
            "[@debug] dataset.py:678 in small_classes_ignore()\n",
            "         important_classes_idx: [1, 2, 3, 5, 6, 7, 8, 9, 10]\n"
          ],
          "name": "stderr"
        },
        {
          "output_type": "stream",
          "text": [
            "[@debug] important_classes_idx = [1, 2, 3, 5, 6, 7, 8, 9, 10]\n",
            "[@debug] np.unique(label,return_counts=True) = (array([  1,   2,   3,   5,   6,   7,   8,   9,  10, 255], dtype=uint8), array([  730790,  1199149,    25986,    88785,   312353,    83385,\n",
            "         362633,      308,    89533, 65000618]))\n",
            "[@debug] np.unique(predictions,return_counts=True) = (array([  1,   2,   3,   5,   6,   7,   8,   9,  10, 255], dtype=uint8), array([  688991,  1191485,    36587,   141179,   207718,   100471,\n",
            "         394344,      761,   131386, 65000618]))\n",
            "[@debug] np.unique(self.label_mosaic,return_counts=True) = (array([  1,   2,   3,   5,   6,   7,   8,   9,  10, 255], dtype=uint8), array([  730790,  1199149,    25986,    88785,   312353,    83385,\n",
            "         362633,      308,    89533, 65000618]))\n",
            "[@debug] np.unique(self.prediction_mosaic,return_counts=True) = (array([  1,   2,   3,   5,   6,   7,   8,   9,  10, 255], dtype=uint8), array([  688991,  1191485,    36587,   141179,   207718,   100471,\n",
            "         394344,      761,   131386, 65000618]))\n",
            "[@debug] self.label_mosaic.shape = (8492, 7995)\n",
            "[@debug] self.prediction_mosaic.shape = (8492, 7995)\n",
            "[@debug] important_classes_idx = [1, 2, 3, 5, 6, 7, 8, 9, 10]\n"
          ],
          "name": "stdout"
        },
        {
          "output_type": "stream",
          "text": [
            "[@debug] mosaic.py:198 in create()\n",
            "         self.data.mask.shape: (8492, 7995)\n",
            "         self.mask_pad.shape: (8492, 7995)\n",
            "         self.label_mosaic.shape: (8492, 7995)\n",
            "         self.prediction_mosaic.shape: (8492, 7995)\n",
            "[@debug] mosaic.py:215 in save_prediction_label_mosaic_Nto1()\n",
            "         np.unique(mask, return_counts=True): (array([0, 1, 2], dtype=uint8), array([61778564,  3222054,  2892922]))\n"
          ],
          "name": "stderr"
        },
        {
          "output_type": "stream",
          "text": [
            "[@debug] np.unique(self.label_mosaic,return_counts=True) = (array([  1,   2,   3,   5,   6,   7,   8,   9,  10, 255], dtype=uint8), array([  730790,  1199149,    25986,    88785,   312353,    83385,\n",
            "         362633,      308,    89533, 65000618]))\n",
            "[@debug] np.unique(self.prediction_mosaic,return_counts=True) = (array([  1,   2,   3,   5,   6,   7,   8,   9,  10, 255], dtype=uint8), array([  688991,  1191485,    36587,   141179,   207718,   100471,\n",
            "         394344,      761,   131386, 65000618]))\n",
            "everything outside mask is 255\n"
          ],
          "name": "stdout"
        },
        {
          "output_type": "stream",
          "text": [
            "[@debug] mosaic.py:226 in save_prediction_label_mosaic_Nto1()\n",
            "         np.unique(self.label_mosaic,return_counts=True): (array([  1,   2,   3,   5,   6,   7,   8,   9,  10, 255], dtype=uint8),\n",
            "                                                           array([  730790,  1199149,    25986,    88785,   312353,    83385,\n",
            "                                                                   362633,      308,    89533, 65000618]))\n",
            "[@debug] mosaic.py:227 in save_prediction_label_mosaic_Nto1()\n",
            "         np.unique(self.prediction_mosaic,return_counts=True): (array([  1,   2,   3,   5,   6,   7,   8,   9,  10, 255], dtype=uint8),\n",
            "                                                                array([  688991,  1191485,    36587,   141179,   207718,   100471,\n",
            "                                                                        394344,      761,   131386, 65000618]))\n"
          ],
          "name": "stderr"
        },
        {
          "output_type": "stream",
          "text": [
            "(11, 3)\n",
            "Gray uint8\n",
            "Adding color...\n",
            "RGB uint8 (8492, 7995, 3)\n",
            "[@debug] custom_colormap = [[255 146  36]\n",
            " [255 255   0]\n",
            " [164 164 164]\n",
            " [255  62  62]\n",
            " [  0   0   0]\n",
            " [172  89 255]\n",
            " [  0 166  83]\n",
            " [ 40 255  40]\n",
            " [187 122  83]\n",
            " [217  64 238]\n",
            " [ 45 150 255]]\n",
            "Assigning color...\n",
            "RGB uint8 (8492, 7995, 3)\n",
            "Saving the resulting images...\n",
            "[@debug] save_folder = results/spatial_results/cv/UUnetConvLSTM/jun\n"
          ],
          "name": "stdout"
        },
        {
          "output_type": "stream",
          "text": [
            "[@debug] mosaic.py:290 in save_prediction_label_mosaic_Nto1()\n",
            "         prediction_savename: PosixPath('results/spatial_results/cv/UUnetConvLSTM/jun/prediction_t_jun_UUnetConvLSTM_closedset_closed_set_overl0_all.png')\n"
          ],
          "name": "stderr"
        },
        {
          "output_type": "stream",
          "text": [
            "saving...\n",
            "no file to remove\n",
            "[@debug] ret = True\n"
          ],
          "name": "stdout"
        },
        {
          "output_type": "stream",
          "text": [
            "[@debug] mosaic.py:300 in save_prediction_label_mosaic_Nto1()\n",
            "         save_folder / (\"label_t_\"+paramsTrain.seq_date+\"_\"+str(paramsTrain.model_type)+\"_\"+self.name_id+\".png\"): PosixPath('results/spatial_results/cv/UUnetConvLSTM/jun/label_t_jun_UUnetConvLSTM_closed_set.png')\n"
          ],
          "name": "stderr"
        },
        {
          "output_type": "stream",
          "text": [
            "[@debug] ret = True\n",
            "[@debug] ret = True\n",
            "======================= METRICS GET\n"
          ],
          "name": "stdout"
        },
        {
          "output_type": "stream",
          "text": [
            "[@debug] metrics.py:34 in get()\n",
            "         prediction.shape: (8492, 7995)\n",
            "         label.shape: (8492, 7995)\n",
            "[@debug] metrics.py:35 in get()\n",
            "         np.unique(prediction, return_counts=True): (array([  1,   2,   3,   5,   6,   7,   8,   9,  10, 255], dtype=uint8),\n",
            "                                                     array([  688991,  1191485,    36587,   141179,   207718,   100471,\n",
            "                                                             394344,      761,   131386, 65000618]))\n",
            "[@debug] metrics.py:36 in get()\n",
            "         np.unique(label, return_counts=True): (array([  1,   2,   3,   5,   6,   7,   8,   9,  10, 255], dtype=uint8),\n",
            "                                                array([  730790,  1199149,    25986,    88785,   312353,    83385,\n",
            "                                                        362633,      308,    89533, 65000618]))\n",
            "[@debug] metrics.py:37 in get()\n",
            "         len(np.unique(label, return_counts=True)): 2\n",
            "[@debug] metrics.py:42 in get()- class_n: 9\n"
          ],
          "name": "stderr"
        },
        {
          "output_type": "stream",
          "text": [
            "[@debug] prediction.shape,debug,2 = (8492, 7995)\n",
            "[@debug] label.shape,debug,2 = (8492, 7995)\n",
            "[@debug] prediction.shape = (8492, 7995)\n",
            "[@debug] prediction.shape = (67893540,)\n"
          ],
          "name": "stdout"
        },
        {
          "output_type": "stream",
          "text": [
            "[@debug] metrics.py:70 in get()\n",
            "         np.unique(prediction, return_counts=True): (array([  1,   2,   3,   5,   6,   7,   8,   9,  10, 255], dtype=uint8),\n",
            "                                                     array([  688991,  1191485,    36587,   141179,   207718,   100471,\n",
            "                                                             394344,      761,   131386, 65000618]))\n",
            "[@debug] metrics.py:71 in get()\n",
            "         np.unique(label, return_counts=True): (array([  1,   2,   3,   5,   6,   7,   8,   9,  10, 255], dtype=uint8),\n",
            "                                                array([  730790,  1199149,    25986,    88785,   312353,    83385,\n",
            "                                                        362633,      308,    89533, 65000618]))\n",
            "[@debug] metrics.py:78 in get()\n",
            "         np.unique(label,return_counts=True): (array([ 1,  2,  3,  5,  6,  7,  8,  9, 10], dtype=uint8),\n",
            "                                               array([ 730790, 1199149,   25986,   88785,  312353,   83385,  362633,\n",
            "                                                         308,   89533]))\n",
            "[@debug] metrics.py:81 in get()\n",
            "         np.unique(prediction,return_counts=True): (array([ 1,  2,  3,  5,  6,  7,  8,  9, 10], dtype=uint8),\n",
            "                                                    array([ 688991, 1191485,   36587,  141179,  207718,  100471,  394344,\n",
            "                                                              761,  131386]))\n"
          ],
          "name": "stderr"
        },
        {
          "output_type": "stream",
          "text": [
            "[@debug] metrics_test = {'f1_score': 0.6260467771963101, 'f1_score_weighted': 0.7509033672062115, 'f1_score_noavg': array([0.690784  , 0.91052081, 0.48151759, 0.53425754, 0.63560937,\n",
            "       0.87756723, 0.52860787, 0.39289055, 0.58266605]), 'overall_acc': 0.7486665731049783, 'confusion_matrix': array([[ 490381,   53822,   11058,   14682,    6509,    2096,  144907,\n",
            "            228,    7107],\n",
            "       [  63467, 1088361,    5623,    5917,    5462,    2279,   26030,\n",
            "            157,    1853],\n",
            "       [   2749,     417,   15065,       0,     210,       0,    7545,\n",
            "              0,       0],\n",
            "       [   9668,    1830,     451,   61430,    4865,     576,    7989,\n",
            "              1,    1975],\n",
            "       [  15473,    1660,    3460,   53063,  165281,   12338,    7361,\n",
            "             86,   53631],\n",
            "       [     30,      98,       5,     127,    1569,   80673,     280,\n",
            "              0,     603],\n",
            "       [ 107077,   44587,     922,    3548,    4264,     244,  200072,\n",
            "             63,    1856],\n",
            "       [      3,       0,       3,       2,      87,       0,       3,\n",
            "            210,       0],\n",
            "       [    143,     710,       0,    2410,   19471,    2265,     157,\n",
            "             16,   64361]]), 'per_class_acc': array([0.67102861, 0.90761115, 0.57973524, 0.69189615, 0.52914811,\n",
            "       0.96747616, 0.55172033, 0.68181818, 0.71885227]), 'average_acc': 0.699920690565352}\n"
          ],
          "name": "stdout"
        }
      ]
    }
  ]
}