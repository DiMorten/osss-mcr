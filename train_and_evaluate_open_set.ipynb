{
  "nbformat": 4,
  "nbformat_minor": 2,
  "metadata": {
    "colab": {
      "name": "Welcome To Colaboratory",
      "provenance": [],
      "collapsed_sections": [],
      "machine_shape": "hm",
      "include_colab_link": true
    },
    "kernelspec": {
      "display_name": "Python 3",
      "name": "python3"
    },
    "accelerator": "GPU"
  },
  "cells": [
    {
      "cell_type": "markdown",
      "source": [
        "<a href=\"https://colab.research.google.com/github/DiMorten/FCN_ConvLSTM_Crop_Recognition_Open_Set/blob/coords5/train_and_evaluate_open_set.ipynb\" target=\"_parent\"><img src=\"https://colab.research.google.com/assets/colab-badge.svg\" alt=\"Open In Colab\"/></a>"
      ],
      "metadata": {
        "id": "view-in-github",
        "colab_type": "text"
      }
    },
    {
      "cell_type": "markdown",
      "source": [
        "## Dependencies"
      ],
      "metadata": {
        "id": "LJ7UjI3YD4w8"
      }
    },
    {
      "cell_type": "code",
      "execution_count": 1,
      "source": [
        "!pip install icecream\r\n",
        "#%tensorflow_version 1.x\r\n",
        "import os\r\n",
        "!pip install kora\r\n",
        "from kora import drive\r\n",
        "import time\r\n",
        "!pip install colorama\r\n",
        "\r\n",
        "ds_path='/content/drive/My Drive/PhD/datasets/cv_data/'"
      ],
      "outputs": [
        {
          "output_type": "stream",
          "name": "stdout",
          "text": [
            "Collecting icecream\n",
            "  Downloading icecream-2.1.1-py2.py3-none-any.whl (8.1 kB)\n",
            "Collecting colorama>=0.3.9\n",
            "  Downloading colorama-0.4.4-py2.py3-none-any.whl (16 kB)\n",
            "Collecting asttokens>=2.0.1\n",
            "  Downloading asttokens-2.0.5-py2.py3-none-any.whl (20 kB)\n",
            "Requirement already satisfied: pygments>=2.2.0 in /usr/local/lib/python3.7/dist-packages (from icecream) (2.6.1)\n",
            "Collecting executing>=0.3.1\n",
            "  Downloading executing-0.8.0-py2.py3-none-any.whl (15 kB)\n",
            "Requirement already satisfied: six in /usr/local/lib/python3.7/dist-packages (from asttokens>=2.0.1->icecream) (1.15.0)\n",
            "Installing collected packages: executing, colorama, asttokens, icecream\n",
            "Successfully installed asttokens-2.0.5 colorama-0.4.4 executing-0.8.0 icecream-2.1.1\n",
            "Collecting kora\n",
            "  Downloading kora-0.9.19-py3-none-any.whl (57 kB)\n",
            "\u001b[K     |████████████████████████████████| 57 kB 2.9 MB/s \n",
            "\u001b[?25hRequirement already satisfied: ipython in /usr/local/lib/python3.7/dist-packages (from kora) (5.5.0)\n",
            "Collecting fastcore\n",
            "  Downloading fastcore-1.3.26-py3-none-any.whl (56 kB)\n",
            "\u001b[K     |████████████████████████████████| 56 kB 4.1 MB/s \n",
            "\u001b[?25hRequirement already satisfied: pip in /usr/local/lib/python3.7/dist-packages (from fastcore->kora) (21.1.3)\n",
            "Requirement already satisfied: packaging in /usr/local/lib/python3.7/dist-packages (from fastcore->kora) (21.0)\n",
            "Requirement already satisfied: simplegeneric>0.8 in /usr/local/lib/python3.7/dist-packages (from ipython->kora) (0.8.1)\n",
            "Requirement already satisfied: prompt-toolkit<2.0.0,>=1.0.4 in /usr/local/lib/python3.7/dist-packages (from ipython->kora) (1.0.18)\n",
            "Requirement already satisfied: setuptools>=18.5 in /usr/local/lib/python3.7/dist-packages (from ipython->kora) (57.4.0)\n",
            "Requirement already satisfied: pygments in /usr/local/lib/python3.7/dist-packages (from ipython->kora) (2.6.1)\n",
            "Requirement already satisfied: decorator in /usr/local/lib/python3.7/dist-packages (from ipython->kora) (4.4.2)\n",
            "Requirement already satisfied: traitlets>=4.2 in /usr/local/lib/python3.7/dist-packages (from ipython->kora) (5.0.5)\n",
            "Requirement already satisfied: pexpect in /usr/local/lib/python3.7/dist-packages (from ipython->kora) (4.8.0)\n",
            "Requirement already satisfied: pickleshare in /usr/local/lib/python3.7/dist-packages (from ipython->kora) (0.7.5)\n",
            "Requirement already satisfied: six>=1.9.0 in /usr/local/lib/python3.7/dist-packages (from prompt-toolkit<2.0.0,>=1.0.4->ipython->kora) (1.15.0)\n",
            "Requirement already satisfied: wcwidth in /usr/local/lib/python3.7/dist-packages (from prompt-toolkit<2.0.0,>=1.0.4->ipython->kora) (0.2.5)\n",
            "Requirement already satisfied: ipython-genutils in /usr/local/lib/python3.7/dist-packages (from traitlets>=4.2->ipython->kora) (0.2.0)\n",
            "Requirement already satisfied: pyparsing>=2.0.2 in /usr/local/lib/python3.7/dist-packages (from packaging->fastcore->kora) (2.4.7)\n",
            "Requirement already satisfied: ptyprocess>=0.5 in /usr/local/lib/python3.7/dist-packages (from pexpect->ipython->kora) (0.7.0)\n",
            "Installing collected packages: fastcore, kora\n",
            "Successfully installed fastcore-1.3.26 kora-0.9.19\n",
            "Requirement already satisfied: colorama in /usr/local/lib/python3.7/dist-packages (0.4.4)\n"
          ]
        }
      ],
      "metadata": {
        "id": "jJZd_oJYCkmN",
        "colab": {
          "base_uri": "https://localhost:8080/"
        },
        "outputId": "447356a2-dc52-4d5e-8eac-c0197efa1b87"
      }
    },
    {
      "cell_type": "code",
      "execution_count": 2,
      "source": [
        "\r\n",
        "from google.colab import drive\r\n",
        "drive.mount('/content/drive')"
      ],
      "outputs": [
        {
          "output_type": "stream",
          "name": "stdout",
          "text": [
            "Mounted at /content/drive\n"
          ]
        }
      ],
      "metadata": {
        "id": "Cosqh5n5Pewo",
        "colab": {
          "base_uri": "https://localhost:8080/"
        },
        "outputId": "cf8c2f41-54a8-4dd1-a519-aa8c83f7e8ff"
      }
    },
    {
      "cell_type": "code",
      "execution_count": 3,
      "source": [
        "git_clone = True\r\n",
        "\r\n",
        "if git_clone == True:\r\n",
        "  os.chdir('/content')\r\n",
        "  %rm -rf FCN_ConvLSTM_Crop_Recognition_Open_Set\r\n",
        "  !git clone --branch coords5 https://github.com/DiMorten/FCN_ConvLSTM_Crop_Recognition_Open_Set.git"
      ],
      "outputs": [
        {
          "output_type": "stream",
          "name": "stdout",
          "text": [
            "Cloning into 'FCN_ConvLSTM_Crop_Recognition_Open_Set'...\n",
            "remote: Enumerating objects: 2231, done.\u001b[K\n",
            "remote: Counting objects: 100% (30/30), done.\u001b[K\n",
            "remote: Compressing objects: 100% (22/22), done.\u001b[K\n",
            "remote: Total 2231 (delta 11), reused 20 (delta 5), pack-reused 2201\u001b[K\n",
            "Receiving objects: 100% (2231/2231), 37.51 MiB | 33.00 MiB/s, done.\n",
            "Resolving deltas: 100% (1477/1477), done.\n"
          ]
        }
      ],
      "metadata": {
        "colab": {
          "base_uri": "https://localhost:8080/"
        },
        "id": "gJr_9dXGpJ05",
        "outputId": "958e092b-1785-4af2-bfc1-ad0bfbb825c4"
      }
    },
    {
      "cell_type": "markdown",
      "source": [
        "## Download images into proper folder"
      ],
      "metadata": {
        "id": "Xdj6CiT0Dz9l"
      }
    },
    {
      "cell_type": "code",
      "execution_count": 4,
      "source": [
        "!cp -r /content/drive/MyDrive/PhD/datasets/cv_data /content/FCN_ConvLSTM_Crop_Recognition_Open_Set/dataset/dataset/"
      ],
      "outputs": [],
      "metadata": {
        "id": "5q1eoQFaYvB4"
      }
    },
    {
      "cell_type": "code",
      "execution_count": 5,
      "source": [
        "os.chdir('/content/FCN_ConvLSTM_Crop_Recognition_Open_Set/networks/convlstm_networks/train_src')\r\n",
        "os.getcwd()\r\n",
        "os.listdir()"
      ],
      "outputs": [
        {
          "output_type": "execute_result",
          "data": {
            "text/plain": [
              "['densnet.py',\n",
              " 'metrics.py',\n",
              " 'patch_extractor.py',\n",
              " 'loss.py',\n",
              " 'modelArchitecture.py',\n",
              " 'parameters',\n",
              " '__init__.py',\n",
              " 'postprocessing.py',\n",
              " 'deb.py',\n",
              " 'obj',\n",
              " 'analysis',\n",
              " 'monitor.py',\n",
              " 'main.py',\n",
              " 'mosaic.py',\n",
              " 'densnet_timedistributed.py',\n",
              " 'mosaic.py.old',\n",
              " 'train_openset.py',\n",
              " 'dataset.py',\n",
              " 'model.py',\n",
              " 'open_set.py',\n",
              " 'model_input_mode.py',\n",
              " 'generator.py',\n",
              " 'dataSource.py']"
            ]
          },
          "metadata": {},
          "execution_count": 5
        }
      ],
      "metadata": {
        "id": "vvzH-luqPoiU",
        "colab": {
          "base_uri": "https://localhost:8080/"
        },
        "outputId": "8720be6a-7e5c-4112-8794-27285eff8d3b"
      }
    },
    {
      "cell_type": "code",
      "execution_count": 6,
      "source": [
        "from colorama import init\r\n",
        "init()\r\n",
        "from tensorflow.keras.layers import Input, Dense, Conv2D, MaxPool2D, Flatten, Dropout, Conv2DTranspose\r\n",
        "# from tensorflow.keras.callbacks import ModelCheckpoint , EarlyStopping\r\n",
        "from tensorflow.keras.optimizers import Adam,Adagrad \r\n",
        "from tensorflow.keras.models import Model\r\n",
        "from tensorflow.keras import backend as K\r\n",
        "import tensorflow.keras as keras\r\n",
        "\r\n",
        "import numpy as np\r\n",
        "from sklearn.utils import shuffle\r\n",
        "import cv2\r\n",
        "import argparse\r\n",
        "import tensorflow as tf\r\n",
        "\r\n",
        "from tensorflow.keras.models import *\r\n",
        "from tensorflow.keras.layers import *\r\n",
        "from tensorflow.keras.optimizers import *\r\n",
        "from tensorflow.keras import metrics\r\n",
        "import sys\r\n",
        "import glob\r\n",
        "\r\n",
        "from sklearn.metrics import confusion_matrix,f1_score,accuracy_score,classification_report\r\n",
        "# Local\r\n",
        "from densnet import DenseNetFCN\r\n",
        "from densnet_timedistributed import DenseNetFCNTimeDistributed\r\n",
        "\r\n",
        "#from metrics import fmeasure,categorical_accuracy\r\n",
        "import deb\r\n",
        "from loss import weighted_categorical_crossentropy, sparse_accuracy_ignoring_last_label, weighted_categorical_crossentropy_ignoring_last_label, categorical_focal_ignoring_last_label, weighted_categorical_focal_ignoring_last_label\r\n",
        "from tensorflow.keras.models import load_model\r\n",
        "from tensorflow.keras.layers import ConvLSTM2D, UpSampling2D, multiply\r\n",
        "from tensorflow.keras.regularizers import l1,l2\r\n",
        "import time\r\n",
        "import pickle\r\n",
        "#from tensorflow.keras_self_attention import SeqSelfAttention\r\n",
        "import pdb\r\n",
        "import pathlib\r\n",
        "from pathlib import Path, PureWindowsPath\r\n",
        "from tensorflow.keras.layers import Conv3DTranspose, Conv3D\r\n",
        "\r\n",
        "from tensorflow.keras.callbacks import EarlyStopping\r\n",
        "import tensorflow as tf\r\n",
        "from collections import Counter\r\n",
        "\r\n",
        "\r\n",
        "#from datagenerator import DataGenerator\r\n",
        "from generator import DataGenerator, DataGeneratorWithCoords, DataGeneratorWithCoordsRandom\r\n",
        "\r\n",
        "import matplotlib.pyplot as plt\r\n",
        "sys.path.append('../../../dataset/dataset/patches_extract_script/')\r\n",
        "from dataSource import DataSource, SARSource, Dataset, LEM, LEM2, CampoVerde\r\n",
        "from model_input_mode import MIMFixed, MIMVarLabel, MIMVarSeqLabel, MIMVarLabel_PaddedSeq, MIMFixedLabelAllLabels, MIMFixed_PaddedSeq\r\n",
        "from parameters.params_train import ParamsTrain\r\n",
        "\r\n",
        "from icecream import ic\r\n",
        "from monitor import Monitor, MonitorNPY, MonitorGenerator, MonitorNPYAndGenerator\r\n",
        "import natsort\r\n",
        "from model import ModelManagerCropRecognition, ModelManagerCropRecognition\r\n",
        "from dataset import Dataset, DatasetWithCoords\r\n",
        "\r\n",
        "from patch_extractor import PatchExtractor\r\n",
        "ic.configureOutput(includeContext=False)\r\n",
        "np.random.seed(2021)\r\n",
        "#tf.random.set_seed(2021)\r\n",
        "\r\n",
        "from main import TrainTest"
      ],
      "outputs": [],
      "metadata": {
        "id": "CUsDu9hhDZT8"
      }
    },
    {
      "cell_type": "code",
      "execution_count": 7,
      "source": [
        "!nvidia-smi"
      ],
      "outputs": [
        {
          "output_type": "stream",
          "name": "stdout",
          "text": [
            "Mon Aug 23 21:55:35 2021       \n",
            "+-----------------------------------------------------------------------------+\n",
            "| NVIDIA-SMI 470.57.02    Driver Version: 460.32.03    CUDA Version: 11.2     |\n",
            "|-------------------------------+----------------------+----------------------+\n",
            "| GPU  Name        Persistence-M| Bus-Id        Disp.A | Volatile Uncorr. ECC |\n",
            "| Fan  Temp  Perf  Pwr:Usage/Cap|         Memory-Usage | GPU-Util  Compute M. |\n",
            "|                               |                      |               MIG M. |\n",
            "|===============================+======================+======================|\n",
            "|   0  Tesla P100-PCIE...  Off  | 00000000:00:04.0 Off |                    0 |\n",
            "| N/A   50C    P0    30W / 250W |      0MiB / 16280MiB |      0%      Default |\n",
            "|                               |                      |                  N/A |\n",
            "+-------------------------------+----------------------+----------------------+\n",
            "                                                                               \n",
            "+-----------------------------------------------------------------------------+\n",
            "| Processes:                                                                  |\n",
            "|  GPU   GI   CI        PID   Type   Process name                  GPU Memory |\n",
            "|        ID   ID                                                   Usage      |\n",
            "|=============================================================================|\n",
            "|  No running processes found                                                 |\n",
            "+-----------------------------------------------------------------------------+\n"
          ]
        }
      ],
      "metadata": {
        "id": "uIs_yF23Psa_",
        "colab": {
          "base_uri": "https://localhost:8080/"
        },
        "outputId": "50545846-42c1-4a73-c01e-68f3d531ab03"
      }
    },
    {
      "cell_type": "markdown",
      "source": [
        "## Set parameters\n",
        "\n",
        "Parameters can be modified in /content/FCN_ConvLSTM_Crop_Recognition_Open_Set/networks/convlstm_networks/train_src/parameters/params_train.py"
      ],
      "metadata": {
        "id": "3ODvyAOie5NU"
      }
    },
    {
      "cell_type": "code",
      "execution_count": 8,
      "source": [
        "from pathlib import Path\r\n",
        "\r\n",
        "\r\n",
        "\r\n",
        "paramsTrainCustom = {\r\n",
        "    'getFullIms': False, # only True if first time\r\n",
        "    'coordsExtract': False, # only True if first time\r\n",
        "    'train': False,\r\n",
        "    'openSetMethod': 'OpenPCS++', # OpenPCS, SoftmaxThresholding, OpenPCS++\r\n",
        "    'openSetLoadModel': False,\r\n",
        "    'selectMainClasses': True,\r\n",
        "    'dataset': 'lm',\r\n",
        "    'seq_date': 'mar',\t# jun, mar\t\r\n",
        "    'dataSource': SARSource()\r\n",
        "}\r\n",
        "\r\n",
        "paramsTrain = ParamsTrain('parameters/', **paramsTrainCustom)\r\n",
        "\r\n",
        "paramsTrain.mim = MIMFixed_PaddedSeq()\r\n",
        "\r\n",
        "trainTest = TrainTest(paramsTrain)\r\n"
      ],
      "outputs": [
        {
          "output_type": "stream",
          "name": "stderr",
          "text": [
            "[@debug] params_train.py:115 in __init__()- self.seq_date: 'mar'\n"
          ]
        },
        {
          "output_type": "stream",
          "name": "stdout",
          "text": [
            "self.known_classes [0, 1, 2, 3, 4, 5, 6, 7, 8, 9, 10, 11, 12, 13]\n"
          ]
        },
        {
          "output_type": "stream",
          "name": "stderr",
          "text": [
            "[@debug] params_train.py:174 in __init__()- self.stride: 32\n"
          ]
        },
        {
          "output_type": "stream",
          "name": "stdout",
          "text": [
            "['save_nonaugmented_train_patches_unknownclasses.json', 'parameters_closedset_groupclasses.json', '__init__.py', 'params_train.py', 'parameters_closedset_groupclasses_lessclass8.json', 'twokkc_save_nonaugmented_train_patches.json', 'parameters_openset_lessclass8.json', 'cv', 'parameters_openset_specifyunknownclasses.json', 'parameters_openset.json', 'twokkc_parameters_openset.json', 'params_batchprocessing.py', '__pycache__', 'no_mode.json', 'allkkc_save_nonaugmented_train_patches.json', 'twokkc_parameters_closedset_groupclasses.json', 'save_nonaugmented_train_patches_lessclass8.json', 'save_nonaugmented_train_patches.json', 'allkkc_parameters_openset.json', 'params_mosaic.py']\n",
            "[@debug] self.seq_mode = fixed\n",
            "[@debug] self.mim = <model_input_mode.MIMFixed_PaddedSeq object at 0x7f0130dd06d0>\n",
            "[@debug] self.ds = <dataSource.CampoVerde object at 0x7f0130d14690>\n",
            "20151029\n",
            "20151110\n",
            "20151122\n",
            "20151204\n",
            "20151216\n",
            "20160121\n",
            "20160214\n",
            "20160309\n",
            "20160321\n",
            "20160508\n",
            "20160520\n",
            "20160613\n",
            "dotys_sin_cos.shape (12, 2)\n",
            "[302, 314, 326, 338, 350, 21, 45, 69, 81, 129, 141, 165]\n",
            "[[0.05084 0.7197 ]\n",
            " [0.1053  0.807  ]\n",
            " [0.1764  0.8813 ]\n",
            " [0.2612  0.9395 ]\n",
            " [0.3562  0.979  ]\n",
            " [0.6685  0.9707 ]\n",
            " [0.843   0.8643 ]\n",
            " [0.96    0.6963 ]\n",
            " [0.99    0.598  ]\n",
            " [0.905   0.2068 ]\n",
            " [0.8364  0.1301 ]\n",
            " [0.66    0.02637]]\n"
          ]
        },
        {
          "output_type": "stream",
          "name": "stderr",
          "text": [
            "[@debug] patch_extractor.py:17 in __init__()\n",
            "         self.dataSource: <dataSource.SARSource object at 0x7f0130dd0c50>\n",
            "[@debug] patch_extractor.py:26 in __init__()\n",
            "         self.conf['path']/self.label_folder/\"/\": PosixPath('/')\n",
            "[@debug] patch_extractor.py:35 in __init__()\n",
            "         self.conf[\"in_npy_path\"]: PosixPath('../../../dataset/dataset/cv_data/in_sar')\n",
            "[@debug] patch_extractor.py:43 in __init__()\n",
            "         self.conf[\"train\"][\"mask\"][\"dir\"]: PosixPath('../../../dataset/dataset/cv_data/TrainTestMask.tif')\n",
            "[@debug] patch_extractor.py:44 in __init__()\n",
            "         os.getcwd(): '/content/FCN_ConvLSTM_Crop_Recognition_Open_Set/networks/convlstm_networks/train_src'\n"
          ]
        }
      ],
      "metadata": {
        "id": "On6HSUJwDsCU",
        "colab": {
          "base_uri": "https://localhost:8080/"
        },
        "outputId": "ea09a4f8-92e0-4d72-e7b0-c5539d7841e1"
      }
    },
    {
      "cell_type": "code",
      "execution_count": null,
      "source": [
        "trainTest.main()"
      ],
      "outputs": [],
      "metadata": {}
    }
  ]
}