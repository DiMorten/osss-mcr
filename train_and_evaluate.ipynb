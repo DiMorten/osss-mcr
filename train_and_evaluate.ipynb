{
  "nbformat": 4,
  "nbformat_minor": 0,
  "metadata": {
    "colab": {
      "name": "Welcome To Colaboratory",
      "provenance": [],
      "collapsed_sections": [],
      "machine_shape": "hm",
      "include_colab_link": true
    },
    "kernelspec": {
      "display_name": "Python 3",
      "name": "python3"
    },
    "accelerator": "GPU"
  },
  "cells": [
    {
      "cell_type": "markdown",
      "metadata": {
        "id": "view-in-github",
        "colab_type": "text"
      },
      "source": [
        "<a href=\"https://colab.research.google.com/github/DiMorten/FCN_ConvLSTM_Crop_Recognition_Open_Set/blob/coords5/train_and_evaluate.ipynb\" target=\"_parent\"><img src=\"https://colab.research.google.com/assets/colab-badge.svg\" alt=\"Open In Colab\"/></a>"
      ]
    },
    {
      "cell_type": "markdown",
      "metadata": {
        "id": "LJ7UjI3YD4w8"
      },
      "source": [
        "## Dependencies"
      ]
    },
    {
      "cell_type": "code",
      "metadata": {
        "id": "jJZd_oJYCkmN",
        "colab": {
          "base_uri": "https://localhost:8080/"
        },
        "outputId": "989ee682-a428-439e-f8dc-5f7b3e12120a"
      },
      "source": [
        "!pip install icecream\n",
        "#%tensorflow_version 1.x\n",
        "import os\n",
        "!pip install kora\n",
        "from kora import drive\n",
        "import time\n",
        "!pip install colorama\n",
        "\n",
        "ds_path='/content/drive/My Drive/PhD/datasets/cv_data/'"
      ],
      "execution_count": 1,
      "outputs": [
        {
          "output_type": "stream",
          "text": [
            "Requirement already satisfied: icecream in /usr/local/lib/python3.7/dist-packages (2.1.1)\n",
            "Requirement already satisfied: asttokens>=2.0.1 in /usr/local/lib/python3.7/dist-packages (from icecream) (2.0.5)\n",
            "Requirement already satisfied: executing>=0.3.1 in /usr/local/lib/python3.7/dist-packages (from icecream) (0.8.0)\n",
            "Requirement already satisfied: colorama>=0.3.9 in /usr/local/lib/python3.7/dist-packages (from icecream) (0.4.4)\n",
            "Requirement already satisfied: pygments>=2.2.0 in /usr/local/lib/python3.7/dist-packages (from icecream) (2.6.1)\n",
            "Requirement already satisfied: six in /usr/local/lib/python3.7/dist-packages (from asttokens>=2.0.1->icecream) (1.15.0)\n",
            "Requirement already satisfied: kora in /usr/local/lib/python3.7/dist-packages (0.9.19)\n",
            "Requirement already satisfied: fastcore in /usr/local/lib/python3.7/dist-packages (from kora) (1.3.26)\n",
            "Requirement already satisfied: ipython in /usr/local/lib/python3.7/dist-packages (from kora) (5.5.0)\n",
            "Requirement already satisfied: pip in /usr/local/lib/python3.7/dist-packages (from fastcore->kora) (21.1.3)\n",
            "Requirement already satisfied: packaging in /usr/local/lib/python3.7/dist-packages (from fastcore->kora) (21.0)\n",
            "Requirement already satisfied: traitlets>=4.2 in /usr/local/lib/python3.7/dist-packages (from ipython->kora) (5.0.5)\n",
            "Requirement already satisfied: decorator in /usr/local/lib/python3.7/dist-packages (from ipython->kora) (4.4.2)\n",
            "Requirement already satisfied: setuptools>=18.5 in /usr/local/lib/python3.7/dist-packages (from ipython->kora) (57.4.0)\n",
            "Requirement already satisfied: pygments in /usr/local/lib/python3.7/dist-packages (from ipython->kora) (2.6.1)\n",
            "Requirement already satisfied: prompt-toolkit<2.0.0,>=1.0.4 in /usr/local/lib/python3.7/dist-packages (from ipython->kora) (1.0.18)\n",
            "Requirement already satisfied: pexpect in /usr/local/lib/python3.7/dist-packages (from ipython->kora) (4.8.0)\n",
            "Requirement already satisfied: simplegeneric>0.8 in /usr/local/lib/python3.7/dist-packages (from ipython->kora) (0.8.1)\n",
            "Requirement already satisfied: pickleshare in /usr/local/lib/python3.7/dist-packages (from ipython->kora) (0.7.5)\n",
            "Requirement already satisfied: six>=1.9.0 in /usr/local/lib/python3.7/dist-packages (from prompt-toolkit<2.0.0,>=1.0.4->ipython->kora) (1.15.0)\n",
            "Requirement already satisfied: wcwidth in /usr/local/lib/python3.7/dist-packages (from prompt-toolkit<2.0.0,>=1.0.4->ipython->kora) (0.2.5)\n",
            "Requirement already satisfied: ipython-genutils in /usr/local/lib/python3.7/dist-packages (from traitlets>=4.2->ipython->kora) (0.2.0)\n",
            "Requirement already satisfied: pyparsing>=2.0.2 in /usr/local/lib/python3.7/dist-packages (from packaging->fastcore->kora) (2.4.7)\n",
            "Requirement already satisfied: ptyprocess>=0.5 in /usr/local/lib/python3.7/dist-packages (from pexpect->ipython->kora) (0.7.0)\n",
            "Requirement already satisfied: colorama in /usr/local/lib/python3.7/dist-packages (0.4.4)\n"
          ],
          "name": "stdout"
        }
      ]
    },
    {
      "cell_type": "code",
      "metadata": {
        "id": "Cosqh5n5Pewo",
        "colab": {
          "base_uri": "https://localhost:8080/"
        },
        "outputId": "955b1143-18a8-4d2a-9ff3-c3385c2b32ce"
      },
      "source": [
        "\n",
        "from google.colab import drive\n",
        "drive.mount('/content/drive')"
      ],
      "execution_count": 2,
      "outputs": [
        {
          "output_type": "stream",
          "text": [
            "Drive already mounted at /content/drive; to attempt to forcibly remount, call drive.mount(\"/content/drive\", force_remount=True).\n"
          ],
          "name": "stdout"
        }
      ]
    },
    {
      "cell_type": "code",
      "metadata": {
        "colab": {
          "base_uri": "https://localhost:8080/"
        },
        "id": "gJr_9dXGpJ05",
        "outputId": "5825da69-dd40-4a44-804f-e23aaf64c80c"
      },
      "source": [
        "git_clone = True\n",
        "\n",
        "if git_clone == True:\n",
        "  os.chdir('/content')\n",
        "  %rm -rf FCN_ConvLSTM_Crop_Recognition_Open_Set\n",
        "  !git clone --branch coords5 https://github.com/DiMorten/FCN_ConvLSTM_Crop_Recognition_Open_Set.git"
      ],
      "execution_count": 3,
      "outputs": [
        {
          "output_type": "stream",
          "text": [
            "Cloning into 'FCN_ConvLSTM_Crop_Recognition_Open_Set'...\n",
            "remote: Enumerating objects: 2186, done.\u001b[K\n",
            "remote: Counting objects: 100% (2186/2186), done.\u001b[K\n",
            "remote: Compressing objects: 100% (1615/1615), done.\u001b[K\n",
            "remote: Total 2186 (delta 1438), reused 1063 (delta 366), pack-reused 0\u001b[K\n",
            "Receiving objects: 100% (2186/2186), 37.49 MiB | 25.21 MiB/s, done.\n",
            "Resolving deltas: 100% (1438/1438), done.\n"
          ],
          "name": "stdout"
        }
      ]
    },
    {
      "cell_type": "markdown",
      "metadata": {
        "id": "Xdj6CiT0Dz9l"
      },
      "source": [
        "## Download images into proper folder"
      ]
    },
    {
      "cell_type": "code",
      "metadata": {
        "id": "5q1eoQFaYvB4"
      },
      "source": [
        "!cp -r /content/drive/MyDrive/PhD/datasets/cv_data /content/FCN_ConvLSTM_Crop_Recognition_Open_Set/dataset/dataset/"
      ],
      "execution_count": 4,
      "outputs": []
    },
    {
      "cell_type": "code",
      "metadata": {
        "id": "vvzH-luqPoiU",
        "colab": {
          "base_uri": "https://localhost:8080/"
        },
        "outputId": "c8316527-c823-4949-e4ea-81dd862e0d53"
      },
      "source": [
        "os.chdir('/content/FCN_ConvLSTM_Crop_Recognition_Open_Set/networks/convlstm_networks/train_src')\n",
        "os.getcwd()\n",
        "os.listdir()"
      ],
      "execution_count": 5,
      "outputs": [
        {
          "output_type": "execute_result",
          "data": {
            "text/plain": [
              "['mosaic.py.old',\n",
              " 'postprocessing.py',\n",
              " 'model_input_mode.py',\n",
              " 'model_best_UUnet4ConvLSTM_jun_cv_criteria_0_92',\n",
              " 'densnet_timedistributed.py',\n",
              " '__init__.py',\n",
              " 'keras_weighted_categorical_crossentropy.py',\n",
              " 'deb.py',\n",
              " 'model.py',\n",
              " 'modelArchitecture.py',\n",
              " 'main.py',\n",
              " 'patch_extractor.py',\n",
              " 'parameters',\n",
              " 'mosaic.py',\n",
              " 'metrics.py',\n",
              " 'monitor.py',\n",
              " 'dataset.py',\n",
              " 'generator.py',\n",
              " 'open_set.py',\n",
              " 'obj',\n",
              " 'dataSource.py',\n",
              " 'densnet.py',\n",
              " 'analysis']"
            ]
          },
          "metadata": {},
          "execution_count": 5
        }
      ]
    },
    {
      "cell_type": "code",
      "metadata": {
        "id": "CUsDu9hhDZT8"
      },
      "source": [
        "from colorama import init\n",
        "init()\n",
        "from tensorflow.keras.layers import Input, Dense, Conv2D, MaxPool2D, Flatten, Dropout, Conv2DTranspose\n",
        "# from tensorflow.keras.callbacks import ModelCheckpoint , EarlyStopping\n",
        "from tensorflow.keras.optimizers import Adam,Adagrad \n",
        "from tensorflow.keras.models import Model\n",
        "from tensorflow.keras import backend as K\n",
        "import tensorflow.keras as keras\n",
        "\n",
        "import numpy as np\n",
        "from sklearn.utils import shuffle\n",
        "import cv2\n",
        "import argparse\n",
        "import tensorflow as tf\n",
        "\n",
        "from tensorflow.keras.models import *\n",
        "from tensorflow.keras.layers import *\n",
        "from tensorflow.keras.optimizers import *\n",
        "from tensorflow.keras import metrics\n",
        "import sys\n",
        "import glob\n",
        "\n",
        "from sklearn.metrics import confusion_matrix,f1_score,accuracy_score,classification_report\n",
        "# Local\n",
        "from densnet import DenseNetFCN\n",
        "from densnet_timedistributed import DenseNetFCNTimeDistributed\n",
        "\n",
        "#from metrics import fmeasure,categorical_accuracy\n",
        "import deb\n",
        "from keras_weighted_categorical_crossentropy import weighted_categorical_crossentropy, sparse_accuracy_ignoring_last_label, weighted_categorical_crossentropy_ignoring_last_label, categorical_focal_ignoring_last_label, weighted_categorical_focal_ignoring_last_label\n",
        "from tensorflow.keras.models import load_model\n",
        "from tensorflow.keras.layers import ConvLSTM2D, UpSampling2D, multiply\n",
        "from tensorflow.keras.regularizers import l1,l2\n",
        "import time\n",
        "import pickle\n",
        "#from tensorflow.keras_self_attention import SeqSelfAttention\n",
        "import pdb\n",
        "import pathlib\n",
        "from pathlib import Path, PureWindowsPath\n",
        "from tensorflow.keras.layers import Conv3DTranspose, Conv3D\n",
        "\n",
        "from tensorflow.keras.callbacks import EarlyStopping\n",
        "import tensorflow as tf\n",
        "from collections import Counter\n",
        "\n",
        "\n",
        "#from datagenerator import DataGenerator\n",
        "from generator import DataGenerator, DataGeneratorWithCoords, DataGeneratorWithCoordsRandom\n",
        "\n",
        "import matplotlib.pyplot as plt\n",
        "sys.path.append('../../../dataset/dataset/patches_extract_script/')\n",
        "from dataSource import DataSource, SARSource, OpticalSource, Dataset, LEM, LEM2, CampoVerde, OpticalSourceWithClouds, Humidity\n",
        "from model_input_mode import MIMFixed, MIMVarLabel, MIMVarSeqLabel, MIMVarLabel_PaddedSeq, MIMFixedLabelAllLabels, MIMFixed_PaddedSeq\n",
        "from parameters.parameters_reader import ParamsTrain\n",
        "\n",
        "from icecream import ic\n",
        "from monitor import Monitor, MonitorNPY, MonitorGenerator, MonitorNPYAndGenerator\n",
        "import natsort\n",
        "from model import NetModel, ModelFit, ModelLoadGeneratorWithCoords\n",
        "from dataset import Dataset, DatasetWithCoords\n",
        "\n",
        "from patch_extractor import PatchExtractor\n",
        "ic.configureOutput(includeContext=False)\n",
        "np.random.seed(2021)\n",
        "tf.random.set_seed(2021)\n",
        "\n",
        "from main import TrainTest"
      ],
      "execution_count": 6,
      "outputs": []
    },
    {
      "cell_type": "code",
      "metadata": {
        "id": "uIs_yF23Psa_",
        "colab": {
          "base_uri": "https://localhost:8080/"
        },
        "outputId": "a584c72d-4138-4b85-d1b2-b1f79556e4fb"
      },
      "source": [
        "!nvidia-smi"
      ],
      "execution_count": 7,
      "outputs": [
        {
          "output_type": "stream",
          "text": [
            "Sat Aug 21 17:17:09 2021       \n",
            "+-----------------------------------------------------------------------------+\n",
            "| NVIDIA-SMI 470.57.02    Driver Version: 460.32.03    CUDA Version: 11.2     |\n",
            "|-------------------------------+----------------------+----------------------+\n",
            "| GPU  Name        Persistence-M| Bus-Id        Disp.A | Volatile Uncorr. ECC |\n",
            "| Fan  Temp  Perf  Pwr:Usage/Cap|         Memory-Usage | GPU-Util  Compute M. |\n",
            "|                               |                      |               MIG M. |\n",
            "|===============================+======================+======================|\n",
            "|   0  Tesla P100-PCIE...  Off  | 00000000:00:04.0 Off |                    0 |\n",
            "| N/A   37C    P0    27W / 250W |      0MiB / 16280MiB |      0%      Default |\n",
            "|                               |                      |                  N/A |\n",
            "+-------------------------------+----------------------+----------------------+\n",
            "                                                                               \n",
            "+-----------------------------------------------------------------------------+\n",
            "| Processes:                                                                  |\n",
            "|  GPU   GI   CI        PID   Type   Process name                  GPU Memory |\n",
            "|        ID   ID                                                   Usage      |\n",
            "|=============================================================================|\n",
            "|  No running processes found                                                 |\n",
            "+-----------------------------------------------------------------------------+\n"
          ],
          "name": "stdout"
        }
      ]
    },
    {
      "cell_type": "markdown",
      "metadata": {
        "id": "3ODvyAOie5NU"
      },
      "source": [
        "## Set parameters\n",
        "\n",
        "Parameters can be modified in /content/FCN_ConvLSTM_Crop_Recognition_Open_Set/networks/convlstm_networks/train_src/parameters/parameters_reader.py"
      ]
    },
    {
      "cell_type": "code",
      "metadata": {
        "id": "On6HSUJwDsCU",
        "colab": {
          "base_uri": "https://localhost:8080/"
        },
        "outputId": "4253e69f-09c1-49f5-b95a-85d7dc1057b2"
      },
      "source": [
        "from pathlib import Path\n",
        "\n",
        "paramsTrain = ParamsTrain('parameters/')\n",
        "paramsTrain.mim = MIMFixed_PaddedSeq()\n",
        "\n",
        "paramsTrain.getFullIms = True\n",
        "paramsTrain.coordsExtract = True\n",
        "paramsTrain.train = True\n",
        "\n",
        "paramsTrain.train_overlap_percentage = 0\n",
        "paramsTrain.trainGeneratorRandom = False\n",
        "paramsTrain.patch_len = 32\n",
        "paramsTrain.stride = int(paramsTrain.patch_len - paramsTrain.patch_len * paramsTrain.train_overlap_percentage)\n",
        "paramsTrain.patch_step_train = paramsTrain.stride\n",
        "paramsTrain.patch_step_test = paramsTrain.patch_len # to do: paramsTrain.getCalculatedParams() does these calculations\n",
        "\n",
        "paramsTrain.dataset = 'cv'\n",
        "paramsTrain.seq_date = 'jun'\n",
        "paramsTrain.path = Path(\"../../../dataset/dataset/\") / (paramsTrain.dataset + \"_data\")\n",
        "\n",
        "paramsTrain.test_overlap_percentage = 0\n",
        "\n",
        "paramsTrain.dataSource = SARSource()\n",
        "paramsTrain.openSetMethod = None\n",
        "trainTest = TrainTest(paramsTrain)\n",
        "\n",
        "patchExtractor = PatchExtractor(paramsTrain, trainTest.ds)\t"
      ],
      "execution_count": 8,
      "outputs": [
        {
          "output_type": "stream",
          "text": [
            "[@debug] parameters_reader.py:115 in __init__()- self.seq_date: 'mar'\n"
          ],
          "name": "stderr"
        },
        {
          "output_type": "stream",
          "text": [
            "self.known_classes [0, 1, 2, 3, 4, 5, 6, 7, 8, 9, 10, 11, 12, 13]\n"
          ],
          "name": "stdout"
        },
        {
          "output_type": "stream",
          "text": [
            "[@debug] parameters_reader.py:174 in __init__()- self.stride: 32\n"
          ],
          "name": "stderr"
        },
        {
          "output_type": "stream",
          "text": [
            "['parameters_reader.py', 'save_nonaugmented_train_patches_unknownclasses.json', 'save_nonaugmented_train_patches.json', 'cv', 'twokkc_parameters_closedset_groupclasses.json', 'twokkc_parameters_openset.json', '__pycache__', 'twokkc_save_nonaugmented_train_patches.json', 'save_nonaugmented_train_patches_lessclass8.json', 'allkkc_save_nonaugmented_train_patches.json', 'params_batchprocessing.py', 'parameters_openset_lessclass8.json', '__init__.py', 'params_reconstruct.py', 'no_mode.json', 'allkkc_parameters_openset.json', 'parameters_openset.json', 'parameters_closedset_groupclasses.json', 'parameters_openset_specifyunknownclasses.json', 'parameters_closedset_groupclasses_lessclass8.json']\n",
            "[@debug] self.seq_mode = fixed\n",
            "[@debug] self.mim = <model_input_mode.MIMFixed_PaddedSeq object at 0x7f8d95c025d0>\n",
            "[@debug] self.ds = <dataSource.CampoVerde object at 0x7f8d95c025d0>\n",
            "20151029\n",
            "20151110\n",
            "20151122\n",
            "20151204\n",
            "20151216\n",
            "20160121\n",
            "20160214\n",
            "20160309\n",
            "20160321\n",
            "20160508\n",
            "20160520\n",
            "20160613\n",
            "dotys_sin_cos.shape (12, 2)\n",
            "[302, 314, 326, 338, 350, 21, 45, 69, 81, 129, 141, 165]\n",
            "[[0.05084 0.7197 ]\n",
            " [0.1053  0.807  ]\n",
            " [0.1764  0.8813 ]\n",
            " [0.2612  0.9395 ]\n",
            " [0.3562  0.979  ]\n",
            " [0.6685  0.9707 ]\n",
            " [0.843   0.8643 ]\n",
            " [0.96    0.6963 ]\n",
            " [0.99    0.598  ]\n",
            " [0.905   0.2068 ]\n",
            " [0.8364  0.1301 ]\n",
            " [0.66    0.02637]]\n"
          ],
          "name": "stdout"
        },
        {
          "output_type": "stream",
          "text": [
            "[@debug] patch_extractor.py:17 in __init__()\n",
            "         self.dataSource: <dataSource.SARSource object at 0x7f8d95c02290>\n",
            "[@debug] patch_extractor.py:26 in __init__()\n",
            "         self.conf['path']/self.label_folder/\"/\": PosixPath('/')\n",
            "[@debug] patch_extractor.py:35 in __init__()\n",
            "         self.conf[\"in_npy_path\"]: PosixPath('../../../dataset/dataset/cv_data/in_sar')\n",
            "[@debug] patch_extractor.py:43 in __init__()\n",
            "         self.conf[\"train\"][\"mask\"][\"dir\"]: PosixPath('../../../dataset/dataset/cv_data/TrainTestMask.tif')\n",
            "[@debug] patch_extractor.py:44 in __init__()\n",
            "         os.getcwd(): '/content/FCN_ConvLSTM_Crop_Recognition_Open_Set/networks/convlstm_networks/train_src'\n"
          ],
          "name": "stderr"
        }
      ]
    },
    {
      "cell_type": "markdown",
      "metadata": {
        "id": "eqA-z0Ju9-xO"
      },
      "source": [
        "## Download or load sequence of images\n"
      ]
    },
    {
      "cell_type": "code",
      "metadata": {
        "id": "8BaFQV6M9yKS",
        "colab": {
          "base_uri": "https://localhost:8080/"
        },
        "outputId": "3881eb3d-4744-4394-8cd2-6823b8a6e3c1"
      },
      "source": [
        "if paramsTrain.getFullIms == True:\n",
        "  patchExtractor.getFullIms()\t\n",
        "else:\n",
        "  patchExtractor.fullImsLoad()\n"
      ],
      "execution_count": 9,
      "outputs": [
        {
          "output_type": "stream",
          "text": [
            "[@debug] patch_extractor.py:90 in getFullIms()\n",
            "         patch[\"full_ims\"].shape: (12, 8492, 7995, 2)\n",
            "[@debug] patch_extractor.py:91 in getFullIms()\n",
            "         self.dataset.im_list: ['20151029_S1',\n",
            "                                '20151110_S1',\n",
            "                                '20151122_S1',\n",
            "                                '20151204_S1',\n",
            "                                '20151216_S1',\n",
            "                                '20160121_S1',\n",
            "                                '20160214_S1',\n",
            "                                '20160309_S1',\n",
            "                                '20160321_S1',\n",
            "                                '20160508_S1',\n",
            "                                '20160520_S1',\n",
            "                                '20160613_S1']\n"
          ],
          "name": "stderr"
        },
        {
          "output_type": "stream",
          "text": [
            "0 0\n",
            "[@debug] conf[\"in_npy_path\"]/(im_names[t_step]+\".npy\") = ../../../dataset/dataset/cv_data/in_sar/20151029_S1.npy\n",
            "[@debug] patch[\"full_ims\"].dtype = float16\n",
            "[@debug] np.average(patch[\"full_ims\"][t_step]) = 0.1871337890625\n",
            "[@debug] np.max(patch[\"full_ims\"][t_step]) = 1.0\n",
            "[@debug] np.min(patch[\"full_ims\"][t_step]) = 4.172325134277344e-07\n",
            "../../../dataset/dataset/cv_data/labels/20151029_S1.tif\n",
            "[@debug] conf[\"path\"]/(self.dataSource.label_folder+\"/\"+label_names[t_step]+\".tif\") = ../../../dataset/dataset/cv_data/labels/20151029_S1.tif\n",
            "[@debug] np.unique(patch[\"full_label_ims\"][t_step],return_counts=True) = (array([ 0,  1,  2,  6,  7,  8,  9, 10, 11], dtype=int8), array([61778564,    45178,    51808,   131138,   438371,   155189,\n",
            "        5136068,     1007,   156217]))\n",
            "1 0\n",
            "[@debug] conf[\"in_npy_path\"]/(im_names[t_step]+\".npy\") = ../../../dataset/dataset/cv_data/in_sar/20151110_S1.npy\n",
            "[@debug] patch[\"full_ims\"].dtype = float16\n",
            "[@debug] np.average(patch[\"full_ims\"][t_step]) = 0.180419921875\n",
            "[@debug] np.max(patch[\"full_ims\"][t_step]) = 1.9267578125\n",
            "[@debug] np.min(patch[\"full_ims\"][t_step]) = 2.384185791015625e-07\n",
            "../../../dataset/dataset/cv_data/labels/20151110_S1.tif\n",
            "[@debug] conf[\"path\"]/(self.dataSource.label_folder+\"/\"+label_names[t_step]+\".tif\") = ../../../dataset/dataset/cv_data/labels/20151110_S1.tif\n",
            "[@debug] np.unique(patch[\"full_label_ims\"][t_step],return_counts=True) = (array([ 0,  1,  2,  5,  6,  7,  8,  9, 10, 11], dtype=int8), array([61778564,  1524080,    27056,    11783,   432952,   419824,\n",
            "         155189,  3386868,     1007,   156217]))\n",
            "2 0\n",
            "[@debug] conf[\"in_npy_path\"]/(im_names[t_step]+\".npy\") = ../../../dataset/dataset/cv_data/in_sar/20151122_S1.npy\n",
            "[@debug] patch[\"full_ims\"].dtype = float16\n",
            "[@debug] np.average(patch[\"full_ims\"][t_step]) = 0.1802978515625\n",
            "[@debug] np.max(patch[\"full_ims\"][t_step]) = 1.7099609375\n",
            "[@debug] np.min(patch[\"full_ims\"][t_step]) = 2.384185791015625e-07\n",
            "../../../dataset/dataset/cv_data/labels/20151122_S1.tif\n",
            "[@debug] conf[\"path\"]/(self.dataSource.label_folder+\"/\"+label_names[t_step]+\".tif\") = ../../../dataset/dataset/cv_data/labels/20151122_S1.tif\n",
            "[@debug] np.unique(patch[\"full_label_ims\"][t_step],return_counts=True) = (array([ 0,  1,  2,  5,  6,  7,  8,  9, 10, 11], dtype=int8), array([61778564,  1524080,    27056,    11783,   432952,   419824,\n",
            "         155189,  3386868,     1007,   156217]))\n",
            "3 0\n",
            "[@debug] conf[\"in_npy_path\"]/(im_names[t_step]+\".npy\") = ../../../dataset/dataset/cv_data/in_sar/20151204_S1.npy\n",
            "[@debug] patch[\"full_ims\"].dtype = float16\n",
            "[@debug] np.average(patch[\"full_ims\"][t_step]) = 0.1793212890625\n",
            "[@debug] np.max(patch[\"full_ims\"][t_step]) = 3.447265625\n",
            "[@debug] np.min(patch[\"full_ims\"][t_step]) = 1.1920928955078125e-07\n",
            "../../../dataset/dataset/cv_data/labels/20151204_S1.tif\n",
            "[@debug] conf[\"path\"]/(self.dataSource.label_folder+\"/\"+label_names[t_step]+\".tif\") = ../../../dataset/dataset/cv_data/labels/20151204_S1.tif\n",
            "[@debug] np.unique(patch[\"full_label_ims\"][t_step],return_counts=True) = (array([ 0,  1,  2,  3,  4,  5,  6,  7,  8,  9, 10, 11], dtype=int8), array([61778564,  4496663,    35095,    18211,     2197,    11783,\n",
            "         366875,   419824,   155189,   451915,     1007,   156217]))\n",
            "4 0\n",
            "[@debug] conf[\"in_npy_path\"]/(im_names[t_step]+\".npy\") = ../../../dataset/dataset/cv_data/in_sar/20151216_S1.npy\n",
            "[@debug] patch[\"full_ims\"].dtype = float16\n",
            "[@debug] np.average(patch[\"full_ims\"][t_step]) = 0.1737060546875\n",
            "[@debug] np.max(patch[\"full_ims\"][t_step]) = 1.373046875\n",
            "[@debug] np.min(patch[\"full_ims\"][t_step]) = 1.7881393432617188e-07\n",
            "../../../dataset/dataset/cv_data/labels/20151216_S1.tif\n",
            "[@debug] conf[\"path\"]/(self.dataSource.label_folder+\"/\"+label_names[t_step]+\".tif\") = ../../../dataset/dataset/cv_data/labels/20151216_S1.tif\n",
            "[@debug] np.unique(patch[\"full_label_ims\"][t_step],return_counts=True) = (array([ 0,  1,  2,  3,  4,  5,  6,  7,  8,  9, 10, 11], dtype=int8), array([61778564,  4496663,    35095,    18211,     2197,    11783,\n",
            "         366875,   419824,   155189,   451915,     1007,   156217]))\n",
            "5 0\n",
            "[@debug] conf[\"in_npy_path\"]/(im_names[t_step]+\".npy\") = ../../../dataset/dataset/cv_data/in_sar/20160121_S1.npy\n",
            "[@debug] patch[\"full_ims\"].dtype = float16\n",
            "[@debug] np.average(patch[\"full_ims\"][t_step]) = 0.159912109375\n",
            "[@debug] np.max(patch[\"full_ims\"][t_step]) = 138.0\n",
            "[@debug] np.min(patch[\"full_ims\"][t_step]) = 3.2186508178710938e-06\n",
            "../../../dataset/dataset/cv_data/labels/20160121_S1.tif\n",
            "[@debug] conf[\"path\"]/(self.dataSource.label_folder+\"/\"+label_names[t_step]+\".tif\") = ../../../dataset/dataset/cv_data/labels/20160121_S1.tif\n",
            "[@debug] np.unique(patch[\"full_label_ims\"][t_step],return_counts=True) = (array([ 0,  1,  2,  3,  4,  6,  7,  8,  9, 10, 11], dtype=int8), array([61778564,  2956904,     8039,    18211,     2197,     8859,\n",
            "         419824,   155189,  2388529,     1007,   156217]))\n",
            "6 0\n",
            "[@debug] conf[\"in_npy_path\"]/(im_names[t_step]+\".npy\") = ../../../dataset/dataset/cv_data/in_sar/20160214_S1.npy\n",
            "[@debug] patch[\"full_ims\"].dtype = float16\n",
            "[@debug] np.average(patch[\"full_ims\"][t_step]) = 0.171630859375\n",
            "[@debug] np.max(patch[\"full_ims\"][t_step]) = 1.4169921875\n",
            "[@debug] np.min(patch[\"full_ims\"][t_step]) = 7.748603820800781e-07\n",
            "../../../dataset/dataset/cv_data/labels/20160214_S1.tif\n",
            "[@debug] conf[\"path\"]/(self.dataSource.label_folder+\"/\"+label_names[t_step]+\".tif\") = ../../../dataset/dataset/cv_data/labels/20160214_S1.tif\n",
            "[@debug] np.unique(patch[\"full_label_ims\"][t_step],return_counts=True) = (array([ 0,  1,  2,  3,  4,  6,  7,  8,  9, 10, 11], dtype=int8), array([61778564,  2183414,     8039,   116684,     2197,     8006,\n",
            "         419824,   155189,  3064399,     1007,   156217]))\n",
            "7 0\n",
            "[@debug] conf[\"in_npy_path\"]/(im_names[t_step]+\".npy\") = ../../../dataset/dataset/cv_data/in_sar/20160309_S1.npy\n",
            "[@debug] patch[\"full_ims\"].dtype = float16\n",
            "[@debug] np.average(patch[\"full_ims\"][t_step]) = 0.188232421875\n",
            "[@debug] np.max(patch[\"full_ims\"][t_step]) = 2.869140625\n",
            "[@debug] np.min(patch[\"full_ims\"][t_step]) = 3.5762786865234375e-07\n",
            "../../../dataset/dataset/cv_data/labels/20160309_S1.tif\n",
            "[@debug] conf[\"path\"]/(self.dataSource.label_folder+\"/\"+label_names[t_step]+\".tif\") = ../../../dataset/dataset/cv_data/labels/20160309_S1.tif\n",
            "[@debug] np.unique(patch[\"full_label_ims\"][t_step],return_counts=True) = (array([ 0,  1,  2,  3,  4,  6,  7,  8,  9, 10, 11], dtype=int8), array([61778564,    10049,   900649,  2084968,     2197,     8006,\n",
            "         419824,   155189,  2376870,     1007,   156217]))\n",
            "8 0\n",
            "[@debug] conf[\"in_npy_path\"]/(im_names[t_step]+\".npy\") = ../../../dataset/dataset/cv_data/in_sar/20160321_S1.npy\n",
            "[@debug] patch[\"full_ims\"].dtype = float16\n",
            "[@debug] np.average(patch[\"full_ims\"][t_step]) = 0.16064453125\n",
            "[@debug] np.max(patch[\"full_ims\"][t_step]) = 3.5390625\n",
            "[@debug] np.min(patch[\"full_ims\"][t_step]) = 0.0\n",
            "../../../dataset/dataset/cv_data/labels/20160321_S1.tif\n",
            "[@debug] conf[\"path\"]/(self.dataSource.label_folder+\"/\"+label_names[t_step]+\".tif\") = ../../../dataset/dataset/cv_data/labels/20160321_S1.tif\n",
            "[@debug] np.unique(patch[\"full_label_ims\"][t_step],return_counts=True) = (array([ 0,  1,  2,  3,  4,  6,  7,  8,  9, 10, 11], dtype=int8), array([61778564,    10049,   900649,  2084968,     2197,     8006,\n",
            "         419824,   155189,  2376870,     1007,   156217]))\n",
            "9 0\n",
            "[@debug] conf[\"in_npy_path\"]/(im_names[t_step]+\".npy\") = ../../../dataset/dataset/cv_data/in_sar/20160508_S1.npy\n",
            "[@debug] patch[\"full_ims\"].dtype = float16\n",
            "[@debug] np.average(patch[\"full_ims\"][t_step]) = 0.154541015625\n",
            "[@debug] np.max(patch[\"full_ims\"][t_step]) = 1.1572265625\n",
            "[@debug] np.min(patch[\"full_ims\"][t_step]) = 0.0\n",
            "../../../dataset/dataset/cv_data/labels/20160508_S1.tif\n",
            "[@debug] conf[\"path\"]/(self.dataSource.label_folder+\"/\"+label_names[t_step]+\".tif\") = ../../../dataset/dataset/cv_data/labels/20160508_S1.tif\n",
            "[@debug] np.unique(patch[\"full_label_ims\"][t_step],return_counts=True) = (array([ 0,  2,  3,  4,  5,  6,  7,  8,  9, 10, 11], dtype=int8), array([61778564,  2187712,  2771075,    57536,     2285,   236822,\n",
            "         525054,   155189,    22079,     1007,   156217]))\n",
            "10 0\n",
            "[@debug] conf[\"in_npy_path\"]/(im_names[t_step]+\".npy\") = ../../../dataset/dataset/cv_data/in_sar/20160520_S1.npy\n",
            "[@debug] patch[\"full_ims\"].dtype = float16\n",
            "[@debug] np.average(patch[\"full_ims\"][t_step]) = 0.16552734375\n",
            "[@debug] np.max(patch[\"full_ims\"][t_step]) = 3.634765625\n",
            "[@debug] np.min(patch[\"full_ims\"][t_step]) = 0.0\n",
            "../../../dataset/dataset/cv_data/labels/20160520_S1.tif\n",
            "[@debug] conf[\"path\"]/(self.dataSource.label_folder+\"/\"+label_names[t_step]+\".tif\") = ../../../dataset/dataset/cv_data/labels/20160520_S1.tif\n",
            "[@debug] np.unique(patch[\"full_label_ims\"][t_step],return_counts=True) = (array([ 0,  2,  3,  4,  5,  6,  7,  8,  9, 10, 11], dtype=int8), array([61778564,  2187712,  2771075,    57536,     2285,   236822,\n",
            "         525054,   155189,    22079,     1007,   156217]))\n",
            "11 0\n",
            "[@debug] conf[\"in_npy_path\"]/(im_names[t_step]+\".npy\") = ../../../dataset/dataset/cv_data/in_sar/20160613_S1.npy\n",
            "[@debug] patch[\"full_ims\"].dtype = float16\n",
            "[@debug] np.average(patch[\"full_ims\"][t_step]) = 0.140380859375\n",
            "[@debug] np.max(patch[\"full_ims\"][t_step]) = 4.57421875\n",
            "[@debug] np.min(patch[\"full_ims\"][t_step]) = 0.0\n",
            "../../../dataset/dataset/cv_data/labels/20160613_S1.tif\n",
            "[@debug] conf[\"path\"]/(self.dataSource.label_folder+\"/\"+label_names[t_step]+\".tif\") = ../../../dataset/dataset/cv_data/labels/20160613_S1.tif\n",
            "[@debug] np.unique(patch[\"full_label_ims\"][t_step],return_counts=True) = (array([ 0,  2,  3,  4,  6,  7,  8,  9, 10, 11], dtype=int8), array([61778564,  1441022,  2573657,    57536,   225585,   525054,\n",
            "         155189,   979709,     1007,   156217]))\n"
          ],
          "name": "stdout"
        },
        {
          "output_type": "stream",
          "text": [
            "[@debug] dataSource.py:369 in im_load()\n",
            "         patch[\"full_ims\"].shape: (12, 8492, 7995, 2)\n",
            "[@debug] dataSource.py:370 in im_load()\n",
            "         patch[\"full_label_ims\"].shape: (12, 8492, 7995)\n",
            "[@debug] dataSource.py:371 in im_load()\n",
            "         patch[\"full_ims\"].dtype: dtype('float16')\n",
            "[@debug] dataSource.py:372 in im_load()\n",
            "         patch[\"full_label_ims\"].dtype: dtype('int8')\n"
          ],
          "name": "stderr"
        },
        {
          "output_type": "stream",
          "text": [
            "[@debug] np.unique(patch['full_label_ims'],return_counts=True) = (array([ 0,  1,  2,  3,  4,  5,  6,  7,  8,  9, 10, 11], dtype=int8), array([741342768,  17247080,   7809932,  12457060,    185790,     51702,\n",
            "         2462898,   5372125,   1862268,  24044169,     12084,   1874604]))\n",
            "0.0 1.0 0.1702\n",
            "[@debug] self.dataset.name = cv\n",
            "[@debug] self.dataset.scaler_name = cv\n",
            "[@debug] self.dataset.seq_mode = fixed\n",
            "[@debug] self.dataset.seq_date = jun\n",
            "[@debug] self.dataset.scaler_load = False\n",
            "[@debug] im.shape = (12, 8492, 7995, 2)\n",
            "[@debug] im_flat[mask_flat==1,:].shape = (38664648, 2)\n",
            "0.0001407 1.0 0.0779\n",
            "[@debug] im_norm.shape = (12, 8492, 7995, 2)\n",
            "FINISHED NORMALIZING, RESULT:\n",
            "-1.432 51.53 3.117\n",
            "[@debug] im.shape = (12, 8492, 7995)\n",
            "[@debug] mask_train.shape = (8492, 7995)\n",
            "[@debug] im.dtype = uint8\n",
            "[@debug] mask_train.dtype = uint8\n",
            "[@debug] im_train.shape = (12, 8492, 7995)\n",
            "Train masked unique/count [ 0  1  2  3  4  5  6  7  8  9 10 11] [776057832   9399025   4170646   6930141    103494     34628   1280237\n",
            "   2371008    861648  12705225      8388    800208]\n",
            "Test masked unique/count [ 0  1  2  3  4  5  6  7  8  9 10 11] [780007416   7848055   3639286   5526919     82296     17074   1182661\n",
            "   3001117   1000620  11338944      3696   1074396]\n"
          ],
          "name": "stdout"
        },
        {
          "output_type": "stream",
          "text": [
            "[@debug] patch_extractor.py:127 in getFullIms()\n",
            "         self.paramsTrain.path / 'full_ims/full_ims_test.npy': PosixPath('../../../dataset/dataset/cv_data/full_ims/full_ims_test.npy')\n"
          ],
          "name": "stderr"
        }
      ]
    },
    {
      "cell_type": "markdown",
      "metadata": {
        "id": "R5FPmIpS-Hqu"
      },
      "source": [
        "## Extract coords of image patches"
      ]
    },
    {
      "cell_type": "code",
      "metadata": {
        "id": "2XzJoNO896wl",
        "colab": {
          "base_uri": "https://localhost:8080/"
        },
        "outputId": "03870e42-bd81-4f70-d7d7-4aa4050fbb46"
      },
      "source": [
        "\n",
        "if paramsTrain.coordsExtract == True:\n",
        "  patchExtractor.extract()\n",
        "\n",
        "del patchExtractor\n",
        "\n"
      ],
      "execution_count": 10,
      "outputs": [
        {
          "output_type": "stream",
          "text": [
            "STARTED PATCH EXTRACTION\n",
            "[@debug] gridx.shape = (250,)\n",
            "[@debug] gridy.shape = (266,)\n"
          ],
          "name": "stdout"
        },
        {
          "output_type": "stream",
          "text": [
            "[@debug] patch_extractor.py:205 in extract()\n",
            "         coords_train.shape: (4983, 2)\n",
            "         coords_test.shape: (4626, 2)\n",
            "[@debug] patch_extractor.py:206 in extract()\n",
            "         coords_train.dtype: dtype('int64')\n",
            "[@debug] patch_extractor.py:207 in extract()\n",
            "         coords_train[0]: array([7568,  656])\n"
          ],
          "name": "stderr"
        }
      ]
    },
    {
      "cell_type": "markdown",
      "metadata": {
        "id": "2fhs6GZ4qFMx"
      },
      "source": [
        "## Train\n"
      ]
    },
    {
      "cell_type": "code",
      "metadata": {
        "id": "TZztSJXG977M",
        "colab": {
          "base_uri": "https://localhost:8080/",
          "height": 1000
        },
        "outputId": "3c82b3d5-fa13-4383-f97b-fe7d7d8c5f06"
      },
      "source": [
        "\ttrainTest.setData()\n",
        "\n",
        "\n",
        "\ttrainTest.preprocess(paramsTrain.model_name_id) # move into if\n",
        "\n",
        "\ttrainTest.setModel()\n",
        "\n",
        "\tif paramsTrain.train == True:\n",
        "\t\ttrainTest.train()\n",
        "\telse:\n",
        "\t\ttrainTest.modelLoad(paramsTrain.model_name_id)"
      ],
      "execution_count": 11,
      "outputs": [
        {
          "metadata": {
            "tags": null
          },
          "name": "stdout",
          "output_type": "stream",
          "text": [
            "Initializing object...\n",
            "12 2\n",
            "[@debug] self.channel_n = 2\n"
          ]
        },
        {
          "metadata": {
            "tags": null
          },
          "name": "stderr",
          "output_type": "stream",
          "text": [
            "[@debug] dataset.py:96 in __init__()- self.class_n: 10\n"
          ]
        },
        {
          "metadata": {
            "tags": null
          },
          "name": "stdout",
          "output_type": "stream",
          "text": [
            "[@debug] self.t_len = 12\n",
            "Initializing Dataset instance\n"
          ]
        },
        {
          "metadata": {
            "tags": null
          },
          "name": "stderr",
          "output_type": "stream",
          "text": [
            "[@debug] main.py:118 in setData()- self.data.class_n: 10\n",
            "[@debug] main.py:146 in preprocess()\n",
            "         self.model_name: '../results/convlstm_results/model/lm/model_best_UUnetConvLSTM_mar_lm_nomode.h5'\n",
            "[@debug] dataset.py:186 in create_load()\n",
            "         os.path.dirname(os.path.abspath(__file__)): '/content/FCN_ConvLSTM_Crop_Recognition_Open_Set/networks/convlstm_networks/train_src'\n",
            "[@debug] dataset.py:187 in create_load()\n",
            "         os.getcwd(): '/content/FCN_ConvLSTM_Crop_Recognition_Open_Set/networks/convlstm_networks/train_src'\n",
            "[@debug] dataset.py:191 in create_load()\n",
            "         self.patches['train']['coords'].shape: (4983, 2)\n",
            "[@debug] dataset.py:284 in labelPreprocess()\n",
            "         np.unique(self.full_label_train, return_counts=True): (array([ 0,  2,  3,  4,  6,  7,  8,  9, 10, 11], dtype=uint8),\n",
            "                                                                array([64671486,   710232,  1374508,    31550,   136800,   212701,\n",
            "                                                                         71804,   617076,      699,    66684]))\n",
            "[@debug] dataset.py:285 in labelPreprocess()\n",
            "         np.unique(self.full_label_test, return_counts=True): (array([ 0,  2,  3,  4,  6,  7,  8,  9, 10, 11], dtype=uint8),\n",
            "                                                               array([65000618,   730790,  1199149,    25986,    88785,   312353,\n",
            "                                                                        83385,   362633,      308,    89533]))\n",
            "[@debug] dataset.py:289 in labelPreprocess()\n",
            "         self.paramsTrain.known_classes: array([ 1,  2,  3,  5,  6,  7,  8,  9, 10], dtype=uint8)\n",
            "[@debug] dataset.py:333 in labelPreprocess()\n",
            "         np.unique(self.full_label_train, return_counts=True): (array([ 0,  2,  3,  4,  6,  7,  8,  9, 10, 11], dtype=uint8),\n",
            "                                                                array([64671486,   710232,  1374508,    31550,   136800,   212701,\n",
            "                                                                         71804,   617076,      699,    66684]))\n",
            "[@debug] dataset.py:339 in labelPreprocess()\n",
            "         self.classes: array([ 0,  2,  3,  4,  6,  7,  8,  9, 10, 11], dtype=uint8)\n"
          ]
        },
        {
          "metadata": {
            "tags": null
          },
          "name": "stdout",
          "output_type": "stream",
          "text": [
            "[@debug] np.unique(self.full_label_train, return_counts=True) = (array([ 0,  2,  3,  4,  6,  7,  8,  9, 10, 11], dtype=uint8), array([64671486,   710232,  1374508,    31550,   136800,   212701,\n",
            "          71804,   617076,      699,    66684]))\n"
          ]
        },
        {
          "metadata": {
            "tags": null
          },
          "name": "stderr",
          "output_type": "stream",
          "text": [
            "[@debug] dataset.py:343 in labelPreprocess()\n",
            "         self.labels2new_labels: {0: 0, 2: 1, 3: 2, 4: 3, 6: 4, 7: 5, 8: 6, 9: 7, 10: 8, 11: 9}\n",
            "         self.new_labels2labels: {0: 0, 1: 2, 2: 3, 3: 4, 4: 6, 5: 7, 6: 8, 7: 9, 8: 10, 9: 11}\n"
          ]
        },
        {
          "metadata": {
            "tags": null
          },
          "name": "stdout",
          "output_type": "stream",
          "text": [
            "Transforming labels2new_labels...\n",
            "Transformed labels2new_labels. Moving bcknd to last...\n",
            "[@debug] dict_filename = results/label_translations/new_labels2labels_cv_20160613_S1.pkl\n",
            "[@debug] self.new_labels2labels = {0: 0, 1: 2, 2: 3, 3: 4, 4: 6, 5: 7, 6: 8, 7: 9, 8: 10, 9: 11}\n"
          ]
        },
        {
          "metadata": {
            "tags": null
          },
          "name": "stderr",
          "output_type": "stream",
          "text": [
            "[@debug] dataset.py:364 in labelPreprocess()\n",
            "         np.unique(self.full_label_train, return_counts=True): (array([0, 1, 2, 3, 4, 5, 6, 7, 8, 9], dtype=uint8),\n",
            "                                                                array([64671486,   710232,  1374508,    31550,   136800,   212701,\n",
            "                                                                         71804,   617076,      699,    66684]))\n"
          ]
        },
        {
          "metadata": {
            "tags": null
          },
          "name": "stdout",
          "output_type": "stream",
          "text": [
            "Moved bcknd to last\n"
          ]
        },
        {
          "metadata": {
            "tags": null
          },
          "name": "stderr",
          "output_type": "stream",
          "text": [
            "[@debug] dataset.py:373 in labelPreprocess()\n",
            "         np.unique(self.full_label_train, return_counts=True): (array([0, 1, 2, 3, 4, 5, 6, 7, 8, 9], dtype=uint8),\n",
            "                                                                array([  710232,  1374508,    31550,   136800,   212701,    71804,\n",
            "                                                                        617076,      699,    66684, 64671486]))\n",
            "[@debug] dataset.py:374 in labelPreprocess()\n",
            "         np.unique(self.full_label_test, return_counts=True): (array([0, 1, 2, 3, 4, 5, 6, 7, 8, 9], dtype=uint8),\n",
            "                                                               array([  730790,  1199149,    25986,    88785,   312353,    83385,\n",
            "                                                                       362633,      308,    89533, 65000618]))\n",
            "[@debug] dataset.py:377 in labelPreprocess()- self.class_n: 10\n",
            "[@debug] dataset.py:215 in create_load()\n",
            "         self.patches['train']['label'].shape: (4983, 32, 32)\n",
            "[@debug] dataset.py:216 in create_load()\n",
            "         np.unique(self.patches['train']['label'], return_counts = True): (array([0, 1, 2, 3, 4, 5, 6, 7, 8, 9]),\n",
            "                                                                           array([ 710232, 1374508,   31550,  136800,  212701,   71804,  617076,\n",
            "                                                                                     699,   66684, 1880538]))\n",
            "[@debug] dataset.py:217 in create_load()\n",
            "         self.patches['test']['label'].shape: (4626, 32, 32)\n",
            "[@debug] dataset.py:218 in create_load()\n",
            "         np.unique(self.patches['test']['label'], return_counts = True): (array([0, 1, 2, 3, 4, 5, 6, 7, 8, 9]),\n",
            "                                                                          array([ 730790, 1199149,   25986,   88785,  312353,   83385,  362633,\n",
            "                                                                                    308,   89533, 1844102]))\n",
            "[@debug] dataset.py:223 in create_load()\n",
            "         np.unique(self.full_label_train,return_counts=True): (array([0, 1, 2, 3, 4, 5, 6, 7, 8, 9], dtype=uint8),\n",
            "                                                               array([  710232,  1374508,    31550,   136800,   212701,    71804,\n",
            "                                                                       617076,      699,    66684, 64671486]))\n",
            "[@debug] dataset.py:224 in create_load()- self.class_n: 10\n",
            "[@debug] main.py:151 in preprocess()- self.paramsTrain.class_n: 10\n"
          ]
        },
        {
          "metadata": {
            "tags": null
          },
          "name": "stdout",
          "output_type": "stream",
          "text": [
            "=== SELECT VALIDATION SET FROM TRAIN SET\n"
          ]
        },
        {
          "metadata": {
            "tags": null
          },
          "name": "stderr",
          "output_type": "stream",
          "text": [
            "[@debug] main.py:159 in preprocess()- self.paramsTrain.val_set: True\n"
          ]
        },
        {
          "metadata": {
            "tags": null
          },
          "name": "stdout",
          "output_type": "stream",
          "text": [
            "[@debug] self.paramsTrain.val_set_mode = random\n"
          ]
        },
        {
          "metadata": {
            "tags": null
          },
          "name": "stderr",
          "output_type": "stream",
          "text": [
            "[@debug] dataset.py:402 in val_set_get()\n",
            "         self.patches['train']['n']: 4983\n",
            "         self.patches['val']['n']: 747\n",
            "[@debug] dataset.py:403 in val_set_get()\n",
            "         self.patches['train']['coords'].shape: (4983, 2)\n",
            "[@debug] dataset.py:412 in val_set_get()\n",
            "         self.patches['train']['coords'].shape: (4236, 2)\n",
            "[@debug] dataset.py:413 in val_set_get()\n",
            "         self.patches['val']['coords'].shape: (747, 2)\n",
            "[@debug] main.py:163 in preprocess()\n",
            "         self.data.patches['val']['coords'].shape: (747, 2)\n"
          ]
        },
        {
          "metadata": {
            "tags": null
          },
          "name": "stdout",
          "output_type": "stream",
          "text": [
            "=== AUGMENTING TRAINING DATA\n",
            "[@debug] label_type = Nto1\n",
            "Before balancing:\n",
            "data.semantic_balance\n"
          ]
        },
        {
          "metadata": {
            "tags": null
          },
          "name": "stderr",
          "output_type": "stream",
          "text": [
            "[@debug] dataset.py:439 in semantic_balance()\n",
            "         balance[\"coords\"].shape: (6300, 2)\n",
            "[@debug] dataset.py:443 in semantic_balance()\n",
            "         np.unique(self.full_label_train, return_counts = True): (array([0, 1, 2, 3, 4, 5, 6, 7, 8, 9], dtype=uint8),\n",
            "                                                                  array([  710232,  1374508,    31550,   136800,   212701,    71804,\n",
            "                                                                          617076,      699,    66684, 64671486]))\n",
            "[@debug] dataset.py:449 in semantic_balance()\n",
            "         coords_classes.shape: (4236, 10)\n",
            "[@debug] dataset.py:451 in semantic_balance()\n",
            "         unique_train: array([0, 1, 2, 3, 4, 5, 6, 7, 8, 9], dtype=uint8)\n",
            "[@debug] dataset.py:453 in semantic_balance()- bcknd_idx: 9\n",
            "[@debug] dataset.py:455 in semantic_balance()- psize: 32\n",
            "[@debug] dataset.py:468 in semantic_balance()\n",
            "         patch_count: array([1055., 1820.,   55.,  196.,  352.,  125.,  882.,    6.,  120.,\n",
            "                                0.])\n",
            "[@debug] dataset.py:474 in semantic_balance()\n",
            "         patch_count[clss]: 1055.0\n",
            "[@debug] dataset.py:478 in semantic_balance()- clss: 0\n",
            "[@debug] dataset.py:481 in semantic_balance()\n",
            "         idxs.shape: (4236,)\n",
            "         idxs.dtype: dtype('bool')\n",
            "[@debug] dataset.py:482 in semantic_balance()\n",
            "         np.unique(idxs, return_counts = True): (array([False,  True]), array([3181, 1055]))\n",
            "[@debug] dataset.py:487 in semantic_balance()\n",
            "         balance[\"class_coords\"].shape: (1055, 2)\n",
            "[@debug] dataset.py:488 in semantic_balance()- samples_per_class: 700\n"
          ]
        },
        {
          "metadata": {
            "tags": null
          },
          "name": "stdout",
          "output_type": "stream",
          "text": [
            "[@debug] clss = 0\n"
          ]
        },
        {
          "metadata": {
            "tags": null
          },
          "name": "stderr",
          "output_type": "stream",
          "text": [
            "[@debug] dataset.py:474 in semantic_balance()\n",
            "         patch_count[clss]: 1820.0\n",
            "[@debug] dataset.py:478 in semantic_balance()- clss: 1\n",
            "[@debug] dataset.py:481 in semantic_balance()\n",
            "         idxs.shape: (4236,)\n",
            "         idxs.dtype: dtype('bool')\n",
            "[@debug] dataset.py:482 in semantic_balance()\n",
            "         np.unique(idxs, return_counts = True): (array([False,  True]), array([2416, 1820]))\n",
            "[@debug] dataset.py:487 in semantic_balance()\n",
            "         balance[\"class_coords\"].shape: (1820, 2)\n",
            "[@debug] dataset.py:488 in semantic_balance()- samples_per_class: 700\n"
          ]
        },
        {
          "metadata": {
            "tags": null
          },
          "name": "stdout",
          "output_type": "stream",
          "text": [
            "[@debug] clss = 1\n"
          ]
        },
        {
          "metadata": {
            "tags": null
          },
          "name": "stderr",
          "output_type": "stream",
          "text": [
            "[@debug] dataset.py:474 in semantic_balance()- patch_count[clss]: 55.0\n",
            "[@debug] dataset.py:478 in semantic_balance()- clss: 2\n",
            "[@debug] dataset.py:481 in semantic_balance()\n",
            "         idxs.shape: (4236,)\n",
            "         idxs.dtype: dtype('bool')\n",
            "[@debug] dataset.py:482 in semantic_balance()\n",
            "         np.unique(idxs, return_counts = True): (array([False,  True]), array([4181,   55]))\n",
            "[@debug] dataset.py:487 in semantic_balance()\n",
            "         balance[\"class_coords\"].shape: (55, 2)\n",
            "[@debug] dataset.py:488 in semantic_balance()- samples_per_class: 700\n"
          ]
        },
        {
          "metadata": {
            "tags": null
          },
          "name": "stdout",
          "output_type": "stream",
          "text": [
            "[@debug] clss = 2\n"
          ]
        },
        {
          "metadata": {
            "tags": null
          },
          "name": "stderr",
          "output_type": "stream",
          "text": [
            "[@debug] dataset.py:474 in semantic_balance()\n",
            "         patch_count[clss]: 196.0\n",
            "[@debug] dataset.py:478 in semantic_balance()- clss: 3\n",
            "[@debug] dataset.py:481 in semantic_balance()\n",
            "         idxs.shape: (4236,)\n",
            "         idxs.dtype: dtype('bool')\n",
            "[@debug] dataset.py:482 in semantic_balance()\n",
            "         np.unique(idxs, return_counts = True): (array([False,  True]), array([4040,  196]))\n",
            "[@debug] dataset.py:487 in semantic_balance()\n",
            "         balance[\"class_coords\"].shape: (196, 2)\n",
            "[@debug] dataset.py:488 in semantic_balance()- samples_per_class: 700\n"
          ]
        },
        {
          "metadata": {
            "tags": null
          },
          "name": "stdout",
          "output_type": "stream",
          "text": [
            "[@debug] clss = 3\n"
          ]
        },
        {
          "metadata": {
            "tags": null
          },
          "name": "stderr",
          "output_type": "stream",
          "text": [
            "[@debug] dataset.py:474 in semantic_balance()\n",
            "         patch_count[clss]: 352.0\n",
            "[@debug] dataset.py:478 in semantic_balance()- clss: 4\n",
            "[@debug] dataset.py:481 in semantic_balance()\n",
            "         idxs.shape: (4236,)\n",
            "         idxs.dtype: dtype('bool')\n",
            "[@debug] dataset.py:482 in semantic_balance()\n",
            "         np.unique(idxs, return_counts = True): (array([False,  True]), array([3884,  352]))\n",
            "[@debug] dataset.py:487 in semantic_balance()\n",
            "         balance[\"class_coords\"].shape: (352, 2)\n",
            "[@debug] dataset.py:488 in semantic_balance()- samples_per_class: 700\n"
          ]
        },
        {
          "metadata": {
            "tags": null
          },
          "name": "stdout",
          "output_type": "stream",
          "text": [
            "[@debug] clss = 4\n"
          ]
        },
        {
          "metadata": {
            "tags": null
          },
          "name": "stderr",
          "output_type": "stream",
          "text": [
            "[@debug] dataset.py:474 in semantic_balance()\n",
            "         patch_count[clss]: 125.0\n",
            "[@debug] dataset.py:478 in semantic_balance()- clss: 5\n",
            "[@debug] dataset.py:481 in semantic_balance()\n",
            "         idxs.shape: (4236,)\n",
            "         idxs.dtype: dtype('bool')\n",
            "[@debug] dataset.py:482 in semantic_balance()\n",
            "         np.unique(idxs, return_counts = True): (array([False,  True]), array([4111,  125]))\n",
            "[@debug] dataset.py:487 in semantic_balance()\n",
            "         balance[\"class_coords\"].shape: (125, 2)\n",
            "[@debug] dataset.py:488 in semantic_balance()- samples_per_class: 700\n"
          ]
        },
        {
          "metadata": {
            "tags": null
          },
          "name": "stdout",
          "output_type": "stream",
          "text": [
            "[@debug] clss = 5\n"
          ]
        },
        {
          "metadata": {
            "tags": null
          },
          "name": "stderr",
          "output_type": "stream",
          "text": [
            "[@debug] dataset.py:474 in semantic_balance()\n",
            "         patch_count[clss]: 882.0\n",
            "[@debug] dataset.py:478 in semantic_balance()- clss: 6\n",
            "[@debug] dataset.py:481 in semantic_balance()\n",
            "         idxs.shape: (4236,)\n",
            "         idxs.dtype: dtype('bool')\n",
            "[@debug] dataset.py:482 in semantic_balance()\n",
            "         np.unique(idxs, return_counts = True): (array([False,  True]), array([3354,  882]))\n",
            "[@debug] dataset.py:487 in semantic_balance()\n",
            "         balance[\"class_coords\"].shape: (882, 2)\n",
            "[@debug] dataset.py:488 in semantic_balance()- samples_per_class: 700\n"
          ]
        },
        {
          "metadata": {
            "tags": null
          },
          "name": "stdout",
          "output_type": "stream",
          "text": [
            "[@debug] clss = 6\n"
          ]
        },
        {
          "metadata": {
            "tags": null
          },
          "name": "stderr",
          "output_type": "stream",
          "text": [
            "[@debug] dataset.py:474 in semantic_balance()- patch_count[clss]: 6.0\n",
            "[@debug] dataset.py:478 in semantic_balance()- clss: 7\n",
            "[@debug] dataset.py:481 in semantic_balance()\n",
            "         idxs.shape: (4236,)\n",
            "         idxs.dtype: dtype('bool')\n",
            "[@debug] dataset.py:482 in semantic_balance()\n",
            "         np.unique(idxs, return_counts = True): (array([False,  True]), array([4230,    6]))\n",
            "[@debug] dataset.py:487 in semantic_balance()\n",
            "         balance[\"class_coords\"].shape: (6, 2)\n",
            "[@debug] dataset.py:488 in semantic_balance()- samples_per_class: 700\n"
          ]
        },
        {
          "metadata": {
            "tags": null
          },
          "name": "stdout",
          "output_type": "stream",
          "text": [
            "[@debug] clss = 7\n"
          ]
        },
        {
          "metadata": {
            "tags": null
          },
          "name": "stderr",
          "output_type": "stream",
          "text": [
            "[@debug] dataset.py:474 in semantic_balance()\n",
            "         patch_count[clss]: 120.0\n",
            "[@debug] dataset.py:478 in semantic_balance()- clss: 8\n",
            "[@debug] dataset.py:481 in semantic_balance()\n",
            "         idxs.shape: (4236,)\n",
            "         idxs.dtype: dtype('bool')\n",
            "[@debug] dataset.py:482 in semantic_balance()\n",
            "         np.unique(idxs, return_counts = True): (array([False,  True]), array([4116,  120]))\n",
            "[@debug] dataset.py:487 in semantic_balance()\n",
            "         balance[\"class_coords\"].shape: (120, 2)\n",
            "[@debug] dataset.py:488 in semantic_balance()- samples_per_class: 700\n"
          ]
        },
        {
          "metadata": {
            "tags": null
          },
          "name": "stdout",
          "output_type": "stream",
          "text": [
            "[@debug] clss = 8\n",
            "Balanced train unique (coords):\n",
            "[@debug] self.patches['train']['coords'].shape = (6300, 2)\n",
            "[@debug] self.data.patches['train']['coords'].shape = (6300, 2)\n",
            "Initializing object...\n",
            "12 2\n",
            "[@debug] self.channel_n = 2\n",
            "[@debug] self.t_len = 12\n",
            "Initializing Model instance\n",
            "[@debug] self.mp = {'dense': {'recurrent_filters': 128, 'nb_dense_block': 2, 'growth_rate': 64, 'nb_layers_per_block': 1}, 'unet': {'recurrent_filters': 128, 'filter_size': 16}, 'atrous': {'recurrent_filters': 128, 'filter_size': 16, 'dilation_rate_mode': 'auto', 'dilation_rates': [1, 2, 4, 8]}}\n",
            "[@debug] self.stop_epoch = 400\n"
          ]
        },
        {
          "metadata": {
            "tags": null
          },
          "name": "stderr",
          "output_type": "stream",
          "text": [
            "[@debug] main.py:132 in setModel()\n",
            "         self.model.name: PosixPath('../results/convlstm_results/model/lm/../results/convlstm_results/model/lm/model_best_UUnetConvLSTM_mar_lm_nomode.h5')\n",
            "[@debug] main.py:134 in setModel()- self.model.class_n: 9\n",
            "[@debug] main.py:135 in setModel()- self.data.class_n: 10\n"
          ]
        },
        {
          "metadata": {
            "tags": null
          },
          "name": "stdout",
          "output_type": "stream",
          "text": [
            "[@debug] self.data.class_n = 10\n",
            "[@debug] self.t_len = 12\n",
            "[@debug] self.model_t_len = 12\n",
            "WARNING:tensorflow:From /usr/local/lib/python3.7/dist-packages/keras/layers/normalization/batch_normalization.py:520: _colocate_with (from tensorflow.python.framework.ops) is deprecated and will be removed in a future version.\n",
            "Instructions for updating:\n",
            "Colocations handled automatically by placer.\n",
            "[@debug] K.int_shape(x) = (None, 12, 8, 8, 64)\n",
            "[@debug] K.int_shape(res2) = (None, 8, 8, 64)\n",
            "[@debug] K.int_shape(p3) = (None, 8, 8, 64)\n",
            "[@debug] K.int_shape(d3) = (None, 8, 8, 64)\n",
            "[@debug] K.int_shape(x) = (None, 12, 16, 16, 32)\n",
            "[@debug] K.int_shape(res2) = (None, 16, 16, 32)\n",
            "[@debug] K.int_shape(p2) = (None, 16, 16, 32)\n",
            "[@debug] K.int_shape(d2) = (None, 16, 16, 32)\n",
            "[@debug] K.int_shape(x) = (None, 12, 32, 32, 16)\n",
            "[@debug] K.int_shape(res2) = (None, 32, 32, 16)\n",
            "[@debug] K.int_shape(p1) = (None, 32, 32, 16)\n",
            "[@debug] K.int_shape(d1) = (None, 32, 32, 16)\n",
            "Model: \"model\"\n",
            "__________________________________________________________________________________________________\n",
            "Layer (type)                    Output Shape         Param #     Connected to                     \n",
            "==================================================================================================\n",
            "input_1 (InputLayer)            [(None, 12, 32, 32,  0                                            \n",
            "__________________________________________________________________________________________________\n",
            "time_distributed (TimeDistribut (None, 12, 32, 32, 1 304         input_1[0][0]                    \n",
            "__________________________________________________________________________________________________\n",
            "batch_normalization (BatchNorma (None, 12, 32, 32, 1 64          time_distributed[0][0]           \n",
            "__________________________________________________________________________________________________\n",
            "activation (Activation)         (None, 12, 32, 32, 1 0           batch_normalization[0][0]        \n",
            "__________________________________________________________________________________________________\n",
            "time_distributed_1 (TimeDistrib (None, 12, 32, 32, 1 2320        activation[0][0]                 \n",
            "__________________________________________________________________________________________________\n",
            "batch_normalization_1 (BatchNor (None, 12, 32, 32, 1 64          time_distributed_1[0][0]         \n",
            "__________________________________________________________________________________________________\n",
            "activation_1 (Activation)       (None, 12, 32, 32, 1 0           batch_normalization_1[0][0]      \n",
            "__________________________________________________________________________________________________\n",
            "time_distributed_2 (TimeDistrib (None, 12, 16, 16, 1 0           activation_1[0][0]               \n",
            "__________________________________________________________________________________________________\n",
            "time_distributed_3 (TimeDistrib (None, 12, 16, 16, 3 4640        time_distributed_2[0][0]         \n",
            "__________________________________________________________________________________________________\n",
            "batch_normalization_2 (BatchNor (None, 12, 16, 16, 3 128         time_distributed_3[0][0]         \n",
            "__________________________________________________________________________________________________\n",
            "activation_2 (Activation)       (None, 12, 16, 16, 3 0           batch_normalization_2[0][0]      \n",
            "__________________________________________________________________________________________________\n",
            "time_distributed_4 (TimeDistrib (None, 12, 8, 8, 32) 0           activation_2[0][0]               \n",
            "__________________________________________________________________________________________________\n",
            "time_distributed_5 (TimeDistrib (None, 12, 8, 8, 64) 18496       time_distributed_4[0][0]         \n",
            "__________________________________________________________________________________________________\n",
            "batch_normalization_3 (BatchNor (None, 12, 8, 8, 64) 256         time_distributed_5[0][0]         \n",
            "__________________________________________________________________________________________________\n",
            "activation_3 (Activation)       (None, 12, 8, 8, 64) 0           batch_normalization_3[0][0]      \n",
            "__________________________________________________________________________________________________\n",
            "time_distributed_6 (TimeDistrib (None, 12, 4, 4, 64) 0           activation_3[0][0]               \n",
            "__________________________________________________________________________________________________\n",
            "conv_lst_m2d (ConvLSTM2D)       (None, 4, 4, 256)    2950144     time_distributed_6[0][0]         \n",
            "__________________________________________________________________________________________________\n",
            "conv2d_transpose (Conv2DTranspo (None, 8, 8, 64)     147520      conv_lst_m2d[0][0]               \n",
            "__________________________________________________________________________________________________\n",
            "batch_normalization_4 (BatchNor (None, 8, 8, 64)     256         conv2d_transpose[0][0]           \n",
            "__________________________________________________________________________________________________\n",
            "activation_4 (Activation)       (None, 8, 8, 64)     0           batch_normalization_4[0][0]      \n",
            "__________________________________________________________________________________________________\n",
            "lambda (Lambda)                 (None, 8, 8, 64)     0           activation_3[0][0]               \n",
            "__________________________________________________________________________________________________\n",
            "concatenate (Concatenate)       (None, 8, 8, 128)    0           activation_4[0][0]               \n",
            "                                                                 lambda[0][0]                     \n",
            "__________________________________________________________________________________________________\n",
            "conv2d_4 (Conv2D)               (None, 8, 8, 64)     73792       concatenate[0][0]                \n",
            "__________________________________________________________________________________________________\n",
            "batch_normalization_5 (BatchNor (None, 8, 8, 64)     256         conv2d_4[0][0]                   \n",
            "__________________________________________________________________________________________________\n",
            "activation_5 (Activation)       (None, 8, 8, 64)     0           batch_normalization_5[0][0]      \n",
            "__________________________________________________________________________________________________\n",
            "conv2d_transpose_1 (Conv2DTrans (None, 16, 16, 32)   18464       activation_5[0][0]               \n",
            "__________________________________________________________________________________________________\n",
            "batch_normalization_6 (BatchNor (None, 16, 16, 32)   128         conv2d_transpose_1[0][0]         \n",
            "__________________________________________________________________________________________________\n",
            "activation_6 (Activation)       (None, 16, 16, 32)   0           batch_normalization_6[0][0]      \n",
            "__________________________________________________________________________________________________\n",
            "lambda_1 (Lambda)               (None, 16, 16, 32)   0           activation_2[0][0]               \n",
            "__________________________________________________________________________________________________\n",
            "concatenate_1 (Concatenate)     (None, 16, 16, 64)   0           activation_6[0][0]               \n",
            "                                                                 lambda_1[0][0]                   \n",
            "__________________________________________________________________________________________________\n",
            "conv2d_5 (Conv2D)               (None, 16, 16, 32)   18464       concatenate_1[0][0]              \n",
            "__________________________________________________________________________________________________\n",
            "batch_normalization_7 (BatchNor (None, 16, 16, 32)   128         conv2d_5[0][0]                   \n",
            "__________________________________________________________________________________________________\n",
            "activation_7 (Activation)       (None, 16, 16, 32)   0           batch_normalization_7[0][0]      \n",
            "__________________________________________________________________________________________________\n",
            "conv2d_transpose_2 (Conv2DTrans (None, 32, 32, 16)   4624        activation_7[0][0]               \n",
            "__________________________________________________________________________________________________\n",
            "batch_normalization_8 (BatchNor (None, 32, 32, 16)   64          conv2d_transpose_2[0][0]         \n",
            "__________________________________________________________________________________________________\n",
            "activation_8 (Activation)       (None, 32, 32, 16)   0           batch_normalization_8[0][0]      \n",
            "__________________________________________________________________________________________________\n",
            "lambda_2 (Lambda)               (None, 32, 32, 16)   0           activation_1[0][0]               \n",
            "__________________________________________________________________________________________________\n",
            "concatenate_2 (Concatenate)     (None, 32, 32, 32)   0           activation_8[0][0]               \n",
            "                                                                 lambda_2[0][0]                   \n",
            "__________________________________________________________________________________________________\n",
            "conv2d_6 (Conv2D)               (None, 32, 32, 16)   4624        concatenate_2[0][0]              \n",
            "__________________________________________________________________________________________________\n",
            "batch_normalization_9 (BatchNor (None, 32, 32, 16)   64          conv2d_6[0][0]                   \n",
            "__________________________________________________________________________________________________\n",
            "activation_9 (Activation)       (None, 32, 32, 16)   0           batch_normalization_9[0][0]      \n",
            "__________________________________________________________________________________________________\n",
            "conv2d_7 (Conv2D)               (None, 32, 32, 9)    153         activation_9[0][0]               \n",
            "==================================================================================================\n",
            "Total params: 3,244,953\n",
            "Trainable params: 3,244,249\n",
            "Non-trainable params: 704\n",
            "__________________________________________________________________________________________________\n",
            "None\n"
          ]
        },
        {
          "metadata": {
            "tags": null
          },
          "name": "stderr",
          "output_type": "stream",
          "text": [
            "/usr/local/lib/python3.7/dist-packages/keras/optimizer_v2/optimizer_v2.py:356: UserWarning: The `lr` argument is deprecated, use `learning_rate` instead.\n",
            "  \"The `lr` argument is deprecated, use `learning_rate` instead.\")\n",
            "[@debug] model.py:243 in train()\n",
            "         data.patches['train']['coords'].shape: (6300, 2)\n",
            "[@debug] model.py:248 in train()- data.t_len: 12\n",
            "[@debug] model.py:249 in train()\n",
            "         data.full_ims_train.shape: (12, 8492, 7995, 2)\n",
            "[@debug] model.py:250 in train()- self.model_t_len: 12\n",
            "[@debug] dataset.py:386 in addPaddingToInput()\n",
            "         im.shape: (12, 8492, 7995, 2)\n",
            "[@debug] model.py:256 in train()\n",
            "         data.full_ims_train.shape: (12, 8492, 7995, 2)\n",
            "[@debug] model.py:311 in applyFitMethod()- self.class_n: 9\n",
            "[@debug] model.py:330 in applyFitMethod()\n",
            "         data.patches['train']['coords'].shape: (6300, 2)\n",
            "[@debug] model.py:331 in applyFitMethod()\n",
            "         data.patches['train']['coords'][0:16]: array([[5744, 1488],\n",
            "                                                       [5552, 2032],\n",
            "                                                       [5328, 3440],\n",
            "                                                       [6544, 1392],\n",
            "                                                       [5712, 1456],\n",
            "                                                       [4080, 3472],\n",
            "                                                       [6992, 2000],\n",
            "                                                       [2928, 2224],\n",
            "                                                       [ 432, 6160],\n",
            "                                                       [5680, 1456],\n",
            "                                                       [5680, 1488],\n",
            "                                                       [2288, 4976],\n",
            "                                                       [3984, 7664],\n",
            "                                                       [ 688, 5808],\n",
            "                                                       [5680, 1456],\n",
            "                                                       [1616, 4624]])\n",
            "[@debug] model.py:332 in applyFitMethod()\n",
            "         data.patches['val']['coords'][0:16]: array([[4048, 7472],\n",
            "                                                     [ 528, 6256],\n",
            "                                                     [ 496, 6288],\n",
            "                                                     [3632, 2736],\n",
            "                                                     [3536, 4464],\n",
            "                                                     [ 944, 5520],\n",
            "                                                     [7344,  976],\n",
            "                                                     [1776, 4240],\n",
            "                                                     [7344, 1040],\n",
            "                                                     [4752, 1808],\n",
            "                                                     [7824,  848],\n",
            "                                                     [3440, 5040],\n",
            "                                                     [4368, 3472],\n",
            "                                                     [3600, 2992],\n",
            "                                                     [1488, 4368],\n",
            "                                                     [4048, 3664]])\n",
            "[@debug] generator.py:170 in __init__()- self.batch_size: 16\n",
            "[@debug] generator.py:172 in __init__()- self.patch_size: 32\n",
            "[@debug] generator.py:170 in __init__()- self.batch_size: 16\n",
            "[@debug] generator.py:172 in __init__()- self.patch_size: 32\n",
            "[@debug] model.py:345 in applyFitMethod()\n",
            "         data.patches['val']['coords'].shape: (747, 2)\n",
            "[@debug] model.py:346 in applyFitMethod()\n",
            "         data.patches['val']['coords']: array([[4048, 7472],\n",
            "                                               [ 528, 6256],\n",
            "                                               [ 496, 6288],\n",
            "                                               ...,\n",
            "                                               [4304, 6416],\n",
            "                                               [1776, 4048],\n",
            "                                               [3024, 2096]])\n",
            "[@debug] generator.py:192 in __len__()- n_batches: 393\n",
            "[@debug] generator.py:192 in __len__()- n_batches: 393\n"
          ]
        },
        {
          "metadata": {
            "tags": null
          },
          "name": "stdout",
          "output_type": "stream",
          "text": [
            "Epoch 1/70\n",
            "393/393 [==============================] - ETA: 0s - batch: 196.0000 - size: 16.0000 - loss: 0.2331 - accuracy: 0.3499"
          ]
        },
        {
          "metadata": {
            "tags": null
          },
          "name": "stderr",
          "output_type": "stream",
          "text": [
            "[@debug] generator.py:192 in __len__()- n_batches: 46\n",
            "[@debug] generator.py:192 in __len__()- n_batches: 46\n",
            "/usr/local/lib/python3.7/dist-packages/keras/engine/training.py:2470: UserWarning: `Model.state_updates` will be removed in a future version. This property should not be used in TensorFlow 2.0, as `updates` are applied automatically.\n",
            "  warnings.warn('`Model.state_updates` will be removed in a future version. '\n",
            "[@debug] generator.py:192 in __len__()- n_batches: 46\n",
            "/usr/local/lib/python3.7/dist-packages/sklearn/metrics/_classification.py:1272: UndefinedMetricWarning: Recall is ill-defined and being set to 0.0 in labels with no true samples. Use `zero_division` parameter to control this behavior.\n",
            "  _warn_prf(average, modifier, msg_start, len(result))\n"
          ]
        },
        {
          "metadata": {
            "tags": null
          },
          "name": "stdout",
          "output_type": "stream",
          "text": [
            " — val_f1: [59.65 82.92 11.16 22.3  49.57 68.28 54.79  0.   31.1 ]\n",
            " — val_precision: [53.16 90.98  7.37 33.55 71.77 61.41 54.64  0.   22.21]\n",
            " — val_recall: [67.94 76.17 22.98 16.7  37.86 76.88 54.95  0.   51.91]\n",
            " — mean_f1: 42.196666666666665\n",
            "oa 64.46\n",
            "Found best weights at epoch 1\n",
            "393/393 [==============================] - 60s 98ms/step - batch: 196.0000 - size: 16.0000 - loss: 0.2331 - accuracy: 0.3499 - val_loss: 0.1753 - val_accuracy: 0.2855 - mean_f1: 42.1967\n",
            "Epoch 2/70\n",
            "393/393 [==============================] - ETA: 0s - batch: 196.0000 - size: 16.0000 - loss: 0.1550 - accuracy: 0.1932"
          ]
        },
        {
          "metadata": {
            "tags": null
          },
          "name": "stderr",
          "output_type": "stream",
          "text": [
            "[@debug] generator.py:192 in __len__()- n_batches: 46\n",
            "[@debug] generator.py:192 in __len__()- n_batches: 46\n",
            "[@debug] generator.py:192 in __len__()- n_batches: 46\n"
          ]
        },
        {
          "metadata": {
            "tags": null
          },
          "name": "stdout",
          "output_type": "stream",
          "text": [
            " — val_f1: [71.77 90.93 47.28 59.86 69.93 92.33 65.35  0.   49.03]\n",
            " — val_precision: [74.65 91.6  32.32 48.87 68.83 89.37 70.85  0.   45.84]\n",
            " — val_recall: [69.11 90.28 88.05 77.23 71.05 95.5  60.64  0.   52.7 ]\n",
            " — mean_f1: 60.71999999999999\n",
            "oa 77.67\n",
            "Found best weights at epoch 2\n",
            "393/393 [==============================] - 38s 96ms/step - batch: 196.0000 - size: 16.0000 - loss: 0.1550 - accuracy: 0.1932 - val_loss: 0.1101 - val_accuracy: 0.2061 - mean_f1: 60.7200\n",
            "Epoch 3/70\n",
            "393/393 [==============================] - ETA: 0s - batch: 196.0000 - size: 16.0000 - loss: 0.1195 - accuracy: 0.1383"
          ]
        },
        {
          "metadata": {
            "tags": null
          },
          "name": "stderr",
          "output_type": "stream",
          "text": [
            "[@debug] generator.py:192 in __len__()- n_batches: 46\n",
            "[@debug] generator.py:192 in __len__()- n_batches: 46\n",
            "[@debug] generator.py:192 in __len__()- n_batches: 46\n"
          ]
        },
        {
          "metadata": {
            "tags": null
          },
          "name": "stdout",
          "output_type": "stream",
          "text": [
            " — val_f1: [75.59 91.94 53.97 69.32 72.34 94.67 70.72  0.   55.74]\n",
            " — val_precision: [82.68 91.45 37.14 57.65 73.84 92.58 73.13  0.   50.32]\n",
            " — val_recall: [69.62 92.44 98.65 86.9  70.89 96.86 68.47  0.   62.47]\n",
            " — mean_f1: 64.9211111111111\n",
            "oa 80.86\n",
            "Found best weights at epoch 3\n",
            "393/393 [==============================] - 37s 95ms/step - batch: 196.0000 - size: 16.0000 - loss: 0.1195 - accuracy: 0.1383 - val_loss: 0.0941 - val_accuracy: 0.1850 - mean_f1: 64.9211\n",
            "Epoch 4/70\n",
            "393/393 [==============================] - ETA: 0s - batch: 196.0000 - size: 16.0000 - loss: 0.1006 - accuracy: 0.1340"
          ]
        },
        {
          "metadata": {
            "tags": null
          },
          "name": "stderr",
          "output_type": "stream",
          "text": [
            "[@debug] generator.py:192 in __len__()- n_batches: 46\n",
            "[@debug] generator.py:192 in __len__()- n_batches: 46\n",
            "[@debug] generator.py:192 in __len__()- n_batches: 46\n"
          ]
        },
        {
          "metadata": {
            "tags": null
          },
          "name": "stdout",
          "output_type": "stream",
          "text": [
            " — val_f1: [76.24 92.69 55.84 72.13 76.75 92.91 74.34  0.   57.06]\n",
            " — val_precision: [85.08 92.24 38.78 60.07 76.13 89.03 75.55  0.   54.2 ]\n",
            " — val_recall: [69.06 93.14 99.66 90.26 77.39 97.14 73.17  0.   60.24]\n",
            " — mean_f1: 66.44\n",
            "oa 82.47\n",
            "Found best weights at epoch 4\n",
            "393/393 [==============================] - 37s 95ms/step - batch: 196.0000 - size: 16.0000 - loss: 0.1006 - accuracy: 0.1340 - val_loss: 0.0858 - val_accuracy: 0.1765 - mean_f1: 66.4400\n",
            "Epoch 5/70\n",
            "393/393 [==============================] - ETA: 0s - batch: 196.0000 - size: 16.0000 - loss: 0.0868 - accuracy: 0.1351"
          ]
        },
        {
          "metadata": {
            "tags": null
          },
          "name": "stderr",
          "output_type": "stream",
          "text": [
            "[@debug] generator.py:192 in __len__()- n_batches: 46\n",
            "[@debug] generator.py:192 in __len__()- n_batches: 46\n",
            "[@debug] generator.py:192 in __len__()- n_batches: 46\n"
          ]
        },
        {
          "metadata": {
            "tags": null
          },
          "name": "stdout",
          "output_type": "stream",
          "text": [
            " — val_f1: [77.45 93.09 73.73 72.26 80.5  89.72 74.44  0.   55.01]\n",
            " — val_precision: [87.35 92.6  58.43 60.39 77.63 83.28 73.95  0.   52.02]\n",
            " — val_recall: [69.57 93.6  99.88 89.96 83.58 97.23 74.94  0.   58.37]\n",
            " — mean_f1: 68.46666666666667\n",
            "oa 83.51\n",
            "Found best weights at epoch 5\n",
            "393/393 [==============================] - 37s 95ms/step - batch: 196.0000 - size: 16.0000 - loss: 0.0868 - accuracy: 0.1351 - val_loss: 0.0795 - val_accuracy: 0.1672 - mean_f1: 68.4667\n",
            "Epoch 6/70\n",
            "393/393 [==============================] - ETA: 0s - batch: 196.0000 - size: 16.0000 - loss: 0.0752 - accuracy: 0.1374"
          ]
        },
        {
          "metadata": {
            "tags": null
          },
          "name": "stderr",
          "output_type": "stream",
          "text": [
            "[@debug] generator.py:192 in __len__()- n_batches: 46\n",
            "[@debug] generator.py:192 in __len__()- n_batches: 46\n",
            "[@debug] generator.py:192 in __len__()- n_batches: 46\n"
          ]
        },
        {
          "metadata": {
            "tags": null
          },
          "name": "stdout",
          "output_type": "stream",
          "text": [
            " — val_f1: [79.66 93.63 74.27 73.97 82.26 90.99 76.96  0.   63.88]\n",
            " — val_precision: [88.49 92.93 59.16 61.62 77.53 85.6  78.14  0.   63.59]\n",
            " — val_recall: [72.44 94.34 99.73 92.52 87.6  97.09 75.82  0.   64.17]\n",
            " — mean_f1: 70.62444444444445\n",
            "oa 85.1\n",
            "Found best weights at epoch 6\n",
            "393/393 [==============================] - 38s 96ms/step - batch: 196.0000 - size: 16.0000 - loss: 0.0752 - accuracy: 0.1374 - val_loss: 0.0736 - val_accuracy: 0.1677 - mean_f1: 70.6244\n",
            "Epoch 7/70\n",
            "393/393 [==============================] - ETA: 0s - batch: 196.0000 - size: 16.0000 - loss: 0.0664 - accuracy: 0.1414"
          ]
        },
        {
          "metadata": {
            "tags": null
          },
          "name": "stderr",
          "output_type": "stream",
          "text": [
            "[@debug] generator.py:192 in __len__()- n_batches: 46\n",
            "[@debug] generator.py:192 in __len__()- n_batches: 46\n",
            "[@debug] generator.py:192 in __len__()- n_batches: 46\n"
          ]
        },
        {
          "metadata": {
            "tags": null
          },
          "name": "stdout",
          "output_type": "stream",
          "text": [
            " — val_f1: [81.2  94.36 89.88 75.61 85.01 93.18 80.04  0.   65.44]\n",
            " — val_precision: [89.26 95.17 81.77 63.81 83.99 89.5  76.61  0.   59.97]\n",
            " — val_recall: [74.46 93.57 99.78 92.76 86.05 97.18 83.8   0.   72.  ]\n",
            " — mean_f1: 73.85777777777778\n",
            "oa 86.74\n",
            "Found best weights at epoch 7\n",
            "393/393 [==============================] - 38s 97ms/step - batch: 196.0000 - size: 16.0000 - loss: 0.0664 - accuracy: 0.1414 - val_loss: 0.0665 - val_accuracy: 0.1767 - mean_f1: 73.8578\n",
            "Epoch 8/70\n",
            "393/393 [==============================] - ETA: 0s - batch: 196.0000 - size: 16.0000 - loss: 0.0594 - accuracy: 0.1433"
          ]
        },
        {
          "metadata": {
            "tags": null
          },
          "name": "stderr",
          "output_type": "stream",
          "text": [
            "[@debug] generator.py:192 in __len__()- n_batches: 46\n",
            "[@debug] generator.py:192 in __len__()- n_batches: 46\n",
            "[@debug] generator.py:192 in __len__()- n_batches: 46\n"
          ]
        },
        {
          "metadata": {
            "tags": null
          },
          "name": "stdout",
          "output_type": "stream",
          "text": [
            " — val_f1: [82.35 95.44 89.66 74.75 87.45 92.89 82.49  0.   75.88]\n",
            " — val_precision: [90.54 97.   81.57 62.4  89.96 88.92 77.57  0.   66.07]\n",
            " — val_recall: [75.52 93.94 99.53 93.19 85.07 97.23 88.08  0.   89.11]\n",
            " — mean_f1: 75.65666666666667\n",
            "oa 88.18\n",
            "Found best weights at epoch 8\n",
            "393/393 [==============================] - 37s 95ms/step - batch: 196.0000 - size: 16.0000 - loss: 0.0594 - accuracy: 0.1433 - val_loss: 0.0624 - val_accuracy: 0.1796 - mean_f1: 75.6567\n",
            "Epoch 9/70\n",
            "393/393 [==============================] - ETA: 0s - batch: 196.0000 - size: 16.0000 - loss: 0.0538 - accuracy: 0.1446"
          ]
        },
        {
          "metadata": {
            "tags": null
          },
          "name": "stderr",
          "output_type": "stream",
          "text": [
            "[@debug] generator.py:192 in __len__()- n_batches: 46\n",
            "[@debug] generator.py:192 in __len__()- n_batches: 46\n",
            "[@debug] generator.py:192 in __len__()- n_batches: 46\n"
          ]
        },
        {
          "metadata": {
            "tags": null
          },
          "name": "stdout",
          "output_type": "stream",
          "text": [
            " — val_f1: [85.98 95.35 91.27 79.19 89.87 95.66 84.8   0.   81.07]\n",
            " — val_precision: [90.4  97.91 84.41 67.25 89.77 94.27 80.71  0.   73.68]\n",
            " — val_recall: [81.96 92.92 99.34 96.29 89.98 97.08 89.32  0.   90.1 ]\n",
            " — mean_f1: 78.1322222222222\n",
            "oa 89.86\n",
            "Found best weights at epoch 9\n",
            "393/393 [==============================] - 37s 95ms/step - batch: 196.0000 - size: 16.0000 - loss: 0.0538 - accuracy: 0.1446 - val_loss: 0.0572 - val_accuracy: 0.1953 - mean_f1: 78.1322\n",
            "Epoch 10/70\n",
            "393/393 [==============================] - ETA: 0s - batch: 196.0000 - size: 16.0000 - loss: 0.0497 - accuracy: 0.1475"
          ]
        },
        {
          "metadata": {
            "tags": null
          },
          "name": "stderr",
          "output_type": "stream",
          "text": [
            "[@debug] generator.py:192 in __len__()- n_batches: 46\n",
            "[@debug] generator.py:192 in __len__()- n_batches: 46\n",
            "[@debug] generator.py:192 in __len__()- n_batches: 46\n"
          ]
        },
        {
          "metadata": {
            "tags": null
          },
          "name": "stdout",
          "output_type": "stream",
          "text": [
            " — val_f1: [85.86 95.91 92.71 80.66 90.04 95.31 84.43  0.   81.44]\n",
            " — val_precision: [90.23 97.99 86.74 69.68 87.81 93.47 81.07  0.   76.41]\n",
            " — val_recall: [81.89 93.9  99.56 95.75 92.39 97.22 88.08  0.   87.18]\n",
            " — mean_f1: 78.48444444444446\n",
            "oa 90.14\n",
            "Found best weights at epoch 10\n",
            "393/393 [==============================] - 37s 95ms/step - batch: 196.0000 - size: 16.0000 - loss: 0.0497 - accuracy: 0.1475 - val_loss: 0.0553 - val_accuracy: 0.1949 - mean_f1: 78.4844\n",
            "Epoch 11/70\n",
            "393/393 [==============================] - ETA: 0s - batch: 196.0000 - size: 16.0000 - loss: 0.0456 - accuracy: 0.1488"
          ]
        },
        {
          "metadata": {
            "tags": null
          },
          "name": "stderr",
          "output_type": "stream",
          "text": [
            "[@debug] generator.py:192 in __len__()- n_batches: 46\n",
            "[@debug] generator.py:192 in __len__()- n_batches: 46\n",
            "[@debug] generator.py:192 in __len__()- n_batches: 46\n"
          ]
        },
        {
          "metadata": {
            "tags": null
          },
          "name": "stdout",
          "output_type": "stream",
          "text": [
            " — val_f1: [88.03 96.34 93.95 80.16 90.62 93.17 86.14  0.   86.92]\n",
            " — val_precision: [91.24 98.89 88.78 68.68 89.97 89.41 82.8   0.   82.03]\n",
            " — val_recall: [85.04 93.92 99.76 96.25 91.29 97.27 89.77  0.   92.43]\n",
            " — mean_f1: 79.48111111111112\n",
            "oa 91.2\n",
            "Found best weights at epoch 11\n",
            "393/393 [==============================] - 37s 95ms/step - batch: 196.0000 - size: 16.0000 - loss: 0.0456 - accuracy: 0.1488 - val_loss: 0.0521 - val_accuracy: 0.1952 - mean_f1: 79.4811\n",
            "Epoch 12/70\n",
            "393/393 [==============================] - ETA: 0s - batch: 196.0000 - size: 16.0000 - loss: 0.0422 - accuracy: 0.1496"
          ]
        },
        {
          "metadata": {
            "tags": null
          },
          "name": "stderr",
          "output_type": "stream",
          "text": [
            "[@debug] generator.py:192 in __len__()- n_batches: 46\n",
            "[@debug] generator.py:192 in __len__()- n_batches: 46\n",
            "[@debug] generator.py:192 in __len__()- n_batches: 46\n"
          ]
        },
        {
          "metadata": {
            "tags": null
          },
          "name": "stdout",
          "output_type": "stream",
          "text": [
            " — val_f1: [88.61 95.81 95.69 81.84 91.95 93.54 86.74  0.   88.36]\n",
            " — val_precision: [89.73 98.94 92.25 70.74 91.11 90.08 83.71  0.   86.65]\n",
            " — val_recall: [87.52 92.87 99.41 97.06 92.81 97.29 90.    0.   90.14]\n",
            " — mean_f1: 80.28222222222223\n",
            "oa 91.42\n",
            "Found best weights at epoch 12\n",
            "393/393 [==============================] - 37s 94ms/step - batch: 196.0000 - size: 16.0000 - loss: 0.0422 - accuracy: 0.1496 - val_loss: 0.0502 - val_accuracy: 0.2154 - mean_f1: 80.2822\n",
            "Epoch 13/70\n",
            "393/393 [==============================] - ETA: 0s - batch: 196.0000 - size: 16.0000 - loss: 0.0395 - accuracy: 0.1491"
          ]
        },
        {
          "metadata": {
            "tags": null
          },
          "name": "stderr",
          "output_type": "stream",
          "text": [
            "[@debug] generator.py:192 in __len__()- n_batches: 46\n",
            "[@debug] generator.py:192 in __len__()- n_batches: 46\n",
            "[@debug] generator.py:192 in __len__()- n_batches: 46\n"
          ]
        },
        {
          "metadata": {
            "tags": null
          },
          "name": "stdout",
          "output_type": "stream",
          "text": [
            " — val_f1: [91.31 96.67 95.5  85.96 90.89 95.02 88.76  0.   83.23]\n",
            " — val_precision: [92.11 98.86 91.67 78.68 90.8  92.78 86.31  0.   78.81]\n",
            " — val_recall: [90.53 94.57 99.68 94.72 90.98 97.36 91.35  0.   88.17]\n",
            " — mean_f1: 80.81555555555556\n",
            "oa 92.84\n",
            "Found best weights at epoch 13\n",
            "393/393 [==============================] - 37s 95ms/step - batch: 196.0000 - size: 16.0000 - loss: 0.0395 - accuracy: 0.1491 - val_loss: 0.0460 - val_accuracy: 0.2119 - mean_f1: 80.8156\n",
            "Epoch 14/70\n",
            "393/393 [==============================] - ETA: 0s - batch: 196.0000 - size: 16.0000 - loss: 0.0368 - accuracy: 0.1513"
          ]
        },
        {
          "metadata": {
            "tags": null
          },
          "name": "stderr",
          "output_type": "stream",
          "text": [
            "[@debug] generator.py:192 in __len__()- n_batches: 46\n",
            "[@debug] generator.py:192 in __len__()- n_batches: 46\n",
            "[@debug] generator.py:192 in __len__()- n_batches: 46\n"
          ]
        },
        {
          "metadata": {
            "tags": null
          },
          "name": "stdout",
          "output_type": "stream",
          "text": [
            " — val_f1: [90.25 94.18 96.84 84.45 91.93 95.07 86.66  0.   88.97]\n",
            " — val_precision: [88.95 99.02 94.37 75.16 91.78 92.99 82.45  0.   84.58]\n",
            " — val_recall: [91.59 89.79 99.44 96.35 92.08 97.25 91.32  0.   93.84]\n",
            " — mean_f1: 80.92777777777778\n",
            "oa 91.22\n",
            "Found best weights at epoch 14\n",
            "393/393 [==============================] - 38s 96ms/step - batch: 196.0000 - size: 16.0000 - loss: 0.0368 - accuracy: 0.1513 - val_loss: 0.0492 - val_accuracy: 0.2248 - mean_f1: 80.9278\n",
            "Epoch 15/70\n",
            "393/393 [==============================] - ETA: 0s - batch: 196.0000 - size: 16.0000 - loss: 0.0356 - accuracy: 0.1501"
          ]
        },
        {
          "metadata": {
            "tags": null
          },
          "name": "stderr",
          "output_type": "stream",
          "text": [
            "[@debug] generator.py:192 in __len__()- n_batches: 46\n",
            "[@debug] generator.py:192 in __len__()- n_batches: 46\n",
            "[@debug] generator.py:192 in __len__()- n_batches: 46\n"
          ]
        },
        {
          "metadata": {
            "tags": null
          },
          "name": "stdout",
          "output_type": "stream",
          "text": [
            " — val_f1: [91.03 97.86 96.23 86.66 92.09 94.63 91.59  0.   90.7 ]\n",
            " — val_precision: [90.21 98.7  93.08 78.44 92.4  92.38 93.76  0.   86.54]\n",
            " — val_recall: [91.87 97.03 99.61 96.81 91.77 96.99 89.51  0.   95.29]\n",
            " — mean_f1: 82.31\n",
            "oa 94.12\n",
            "Found best weights at epoch 15\n",
            "393/393 [==============================] - 38s 97ms/step - batch: 196.0000 - size: 16.0000 - loss: 0.0356 - accuracy: 0.1501 - val_loss: 0.0436 - val_accuracy: 0.2270 - mean_f1: 82.3100\n",
            "Epoch 16/70\n",
            "393/393 [==============================] - ETA: 0s - batch: 196.0000 - size: 16.0000 - loss: 0.0344 - accuracy: 0.1520"
          ]
        },
        {
          "metadata": {
            "tags": null
          },
          "name": "stderr",
          "output_type": "stream",
          "text": [
            "[@debug] generator.py:192 in __len__()- n_batches: 46\n",
            "[@debug] generator.py:192 in __len__()- n_batches: 46\n",
            "[@debug] generator.py:192 in __len__()- n_batches: 46\n"
          ]
        },
        {
          "metadata": {
            "tags": null
          },
          "name": "stdout",
          "output_type": "stream",
          "text": [
            " — val_f1: [87.78 96.56 90.51 72.72 88.57 94.46 90.21 85.46]\n",
            " — val_precision: [92.69 97.78 83.42 58.64 87.75 92.04 88.99 85.38]\n",
            " — val_recall: [83.36 95.37 98.92 95.68 89.4  97.01 91.46 85.53]\n",
            " — mean_f1: 78.47444444444444\n",
            "oa 91.48\n",
            "393/393 [==============================] - 37s 94ms/step - batch: 196.0000 - size: 16.0000 - loss: 0.0344 - accuracy: 0.1520 - val_loss: 0.0484 - val_accuracy: 0.1904 - mean_f1: 78.4744\n",
            "Epoch 17/70\n",
            "393/393 [==============================] - ETA: 0s - batch: 196.0000 - size: 16.0000 - loss: 0.0322 - accuracy: 0.1511"
          ]
        },
        {
          "metadata": {
            "tags": null
          },
          "name": "stderr",
          "output_type": "stream",
          "text": [
            "[@debug] generator.py:192 in __len__()- n_batches: 46\n",
            "[@debug] generator.py:192 in __len__()- n_batches: 46\n",
            "[@debug] generator.py:192 in __len__()- n_batches: 46\n"
          ]
        },
        {
          "metadata": {
            "tags": null
          },
          "name": "stdout",
          "output_type": "stream",
          "text": [
            " — val_f1: [91.9  95.27 94.92 86.49 89.44 92.45 86.01  0.   80.56]\n",
            " — val_precision: [90.08 99.14 90.64 79.08 94.54 90.63 82.98  0.   69.08]\n",
            " — val_recall: [93.79 91.69 99.61 95.43 84.85 94.35 89.27  0.   96.63]\n",
            " — mean_f1: 79.6711111111111\n",
            "oa 91.6\n",
            "393/393 [==============================] - 37s 94ms/step - batch: 196.0000 - size: 16.0000 - loss: 0.0322 - accuracy: 0.1511 - val_loss: 0.0457 - val_accuracy: 0.2284 - mean_f1: 79.6711\n",
            "Epoch 18/70\n",
            "393/393 [==============================] - ETA: 0s - batch: 196.0000 - size: 16.0000 - loss: 0.0309 - accuracy: 0.1495"
          ]
        },
        {
          "metadata": {
            "tags": null
          },
          "name": "stderr",
          "output_type": "stream",
          "text": [
            "[@debug] generator.py:192 in __len__()- n_batches: 46\n",
            "[@debug] generator.py:192 in __len__()- n_batches: 46\n",
            "[@debug] generator.py:192 in __len__()- n_batches: 46\n"
          ]
        },
        {
          "metadata": {
            "tags": null
          },
          "name": "stdout",
          "output_type": "stream",
          "text": [
            " — val_f1: [91.9  98.15 95.08 86.29 91.87 94.65 92.39  0.   85.38]\n",
            " — val_precision: [91.31 98.52 90.9  79.86 92.11 93.92 94.25  0.   85.17]\n",
            " — val_recall: [92.49 97.78 99.66 93.85 91.63 95.38 90.59  0.   85.58]\n",
            " — mean_f1: 81.74555555555555\n",
            "oa 94.46\n",
            "393/393 [==============================] - 38s 96ms/step - batch: 196.0000 - size: 16.0000 - loss: 0.0309 - accuracy: 0.1495 - val_loss: 0.0393 - val_accuracy: 0.2204 - mean_f1: 81.7456\n",
            "Epoch 19/70\n",
            "393/393 [==============================] - ETA: 0s - batch: 196.0000 - size: 16.0000 - loss: 0.0303 - accuracy: 0.1516"
          ]
        },
        {
          "metadata": {
            "tags": null
          },
          "name": "stderr",
          "output_type": "stream",
          "text": [
            "[@debug] generator.py:192 in __len__()- n_batches: 46\n",
            "[@debug] generator.py:192 in __len__()- n_batches: 46\n",
            "[@debug] generator.py:192 in __len__()- n_batches: 46\n"
          ]
        },
        {
          "metadata": {
            "tags": null
          },
          "name": "stdout",
          "output_type": "stream",
          "text": [
            " — val_f1: [91.43 97.87 94.24 86.09 91.26 94.51 92.35  0.   88.43]\n",
            " — val_precision: [91.02 98.78 89.35 78.59 91.79 91.99 93.51  0.   86.52]\n",
            " — val_recall: [91.84 96.98 99.7  95.17 90.74 97.17 91.21  0.   90.42]\n",
            " — mean_f1: 81.79777777777778\n",
            "oa 94.19\n",
            "393/393 [==============================] - 37s 94ms/step - batch: 196.0000 - size: 16.0000 - loss: 0.0303 - accuracy: 0.1516 - val_loss: 0.0400 - val_accuracy: 0.2191 - mean_f1: 81.7978\n",
            "Epoch 20/70\n",
            "393/393 [==============================] - ETA: 0s - batch: 196.0000 - size: 16.0000 - loss: 0.0286 - accuracy: 0.1504"
          ]
        },
        {
          "metadata": {
            "tags": null
          },
          "name": "stderr",
          "output_type": "stream",
          "text": [
            "[@debug] generator.py:192 in __len__()- n_batches: 46\n",
            "[@debug] generator.py:192 in __len__()- n_batches: 46\n",
            "[@debug] generator.py:192 in __len__()- n_batches: 46\n"
          ]
        },
        {
          "metadata": {
            "tags": null
          },
          "name": "stdout",
          "output_type": "stream",
          "text": [
            " — val_f1: [92.24 98.03 96.65 84.58 90.49 95.01 93.36  0.   85.21]\n",
            " — val_precision: [93.14 98.   93.7  75.56 92.45 93.75 95.43  0.   78.46]\n",
            " — val_recall: [91.35 98.07 99.8  96.05 88.6  96.3  91.38  0.   93.22]\n",
            " — mean_f1: 81.73\n",
            "oa 94.5\n",
            "393/393 [==============================] - 37s 95ms/step - batch: 196.0000 - size: 16.0000 - loss: 0.0286 - accuracy: 0.1504 - val_loss: 0.0400 - val_accuracy: 0.2124 - mean_f1: 81.7300\n",
            "Epoch 21/70\n",
            "393/393 [==============================] - ETA: 0s - batch: 196.0000 - size: 16.0000 - loss: 0.0286 - accuracy: 0.1513"
          ]
        },
        {
          "metadata": {
            "tags": null
          },
          "name": "stderr",
          "output_type": "stream",
          "text": [
            "[@debug] generator.py:192 in __len__()- n_batches: 46\n",
            "[@debug] generator.py:192 in __len__()- n_batches: 46\n",
            "[@debug] generator.py:192 in __len__()- n_batches: 46\n"
          ]
        },
        {
          "output_type": "stream",
          "text": [
            " — val_f1: [92.18 98.24 97.66 84.54 91.05 93.26 93.32 89.35]\n",
            " — val_precision: [92.36 98.83 95.91 75.49 93.7  90.75 94.54 82.81]\n",
            " — val_recall: [92.   97.66 99.48 96.07 88.55 95.92 92.14 97.02]\n",
            " — mean_f1: 82.17777777777778\n",
            "oa 94.66\n",
            "393/393 [==============================] - 37s 95ms/step - batch: 196.0000 - size: 16.0000 - loss: 0.0286 - accuracy: 0.1513 - val_loss: 0.0386 - val_accuracy: 0.2175 - mean_f1: 82.1778\n",
            "Epoch 22/70\n",
            "393/393 [==============================] - ETA: 0s - batch: 196.0000 - size: 16.0000 - loss: 0.0262 - accuracy: 0.1505"
          ],
          "name": "stdout"
        },
        {
          "output_type": "stream",
          "text": [
            "[@debug] generator.py:192 in __len__()- n_batches: 46\n",
            "[@debug] generator.py:192 in __len__()- n_batches: 46\n",
            "[@debug] generator.py:192 in __len__()- n_batches: 46\n"
          ],
          "name": "stderr"
        },
        {
          "output_type": "stream",
          "text": [
            " — val_f1: [92.48 98.32 95.4  82.56 91.62 94.96 93.41 91.29]\n",
            " — val_precision: [93.72 98.52 91.49 72.32 94.31 92.26 94.49 88.33]\n",
            " — val_recall: [91.28 98.12 99.66 96.18 89.08 97.83 92.35 94.46]\n",
            " — mean_f1: 82.22666666666666\n",
            "oa 94.78\n",
            "393/393 [==============================] - 38s 96ms/step - batch: 196.0000 - size: 16.0000 - loss: 0.0262 - accuracy: 0.1505 - val_loss: 0.0380 - val_accuracy: 0.2123 - mean_f1: 82.2267\n",
            "Epoch 23/70\n",
            "393/393 [==============================] - ETA: 0s - batch: 196.0000 - size: 16.0000 - loss: 0.0250 - accuracy: 0.1481"
          ],
          "name": "stdout"
        },
        {
          "output_type": "stream",
          "text": [
            "[@debug] generator.py:192 in __len__()- n_batches: 46\n",
            "[@debug] generator.py:192 in __len__()- n_batches: 46\n",
            "[@debug] generator.py:192 in __len__()- n_batches: 46\n"
          ],
          "name": "stderr"
        },
        {
          "output_type": "stream",
          "text": [
            " — val_f1: [93.36 98.13 97.04 86.95 91.44 94.76 93.37 91.35]\n",
            " — val_precision: [92.93 98.88 94.56 79.15 93.94 92.19 94.07 88.48]\n",
            " — val_recall: [93.79 97.38 99.64 96.44 89.06 97.47 92.67 94.41]\n",
            " — mean_f1: 82.93333333333334\n",
            "oa 95.07\n",
            "Found best weights at epoch 23\n",
            "393/393 [==============================] - 38s 96ms/step - batch: 196.0000 - size: 16.0000 - loss: 0.0250 - accuracy: 0.1481 - val_loss: 0.0366 - val_accuracy: 0.2226 - mean_f1: 82.9333\n",
            "Epoch 24/70\n",
            "393/393 [==============================] - ETA: 0s - batch: 196.0000 - size: 16.0000 - loss: 0.0241 - accuracy: 0.1496"
          ],
          "name": "stdout"
        },
        {
          "output_type": "stream",
          "text": [
            "[@debug] generator.py:192 in __len__()- n_batches: 46\n",
            "[@debug] generator.py:192 in __len__()- n_batches: 46\n",
            "[@debug] generator.py:192 in __len__()- n_batches: 46\n"
          ],
          "name": "stderr"
        },
        {
          "output_type": "stream",
          "text": [
            " — val_f1: [93.47 97.77 92.61 85.65 90.32 95.23 92.05  0.   87.1 ]\n",
            " — val_precision: [93.98 98.95 87.09 79.83 91.35 93.22 91.07  0.   84.22]\n",
            " — val_recall: [92.96 96.61 98.88 92.4  89.33 97.32 93.05  0.   90.19]\n",
            " — mean_f1: 81.57777777777778\n",
            "oa 94.4\n",
            "393/393 [==============================] - 38s 96ms/step - batch: 196.0000 - size: 16.0000 - loss: 0.0241 - accuracy: 0.1496 - val_loss: 0.0375 - val_accuracy: 0.2126 - mean_f1: 81.5778\n",
            "Epoch 25/70\n",
            "393/393 [==============================] - ETA: 0s - batch: 196.0000 - size: 16.0000 - loss: 0.0261 - accuracy: 0.1476"
          ],
          "name": "stdout"
        },
        {
          "output_type": "stream",
          "text": [
            "[@debug] generator.py:192 in __len__()- n_batches: 46\n",
            "[@debug] generator.py:192 in __len__()- n_batches: 46\n",
            "[@debug] generator.py:192 in __len__()- n_batches: 46\n"
          ],
          "name": "stderr"
        },
        {
          "output_type": "stream",
          "text": [
            " — val_f1: [92.54 98.01 96.91 87.06 91.12 95.44 92.27 91.63]\n",
            " — val_precision: [91.11 98.27 94.09 80.75 93.58 93.47 95.23 86.64]\n",
            " — val_recall: [94.01 97.76 99.9  94.44 88.78 97.49 89.49 97.24]\n",
            " — mean_f1: 82.77555555555556\n",
            "oa 94.66\n",
            "393/393 [==============================] - 38s 97ms/step - batch: 196.0000 - size: 16.0000 - loss: 0.0261 - accuracy: 0.1476 - val_loss: 0.0364 - val_accuracy: 0.2246 - mean_f1: 82.7756\n",
            "Epoch 26/70\n",
            "393/393 [==============================] - ETA: 0s - batch: 196.0000 - size: 16.0000 - loss: 0.0247 - accuracy: 0.1500"
          ],
          "name": "stdout"
        },
        {
          "output_type": "stream",
          "text": [
            "[@debug] generator.py:192 in __len__()- n_batches: 46\n",
            "[@debug] generator.py:192 in __len__()- n_batches: 46\n",
            "[@debug] generator.py:192 in __len__()- n_batches: 46\n"
          ],
          "name": "stderr"
        },
        {
          "output_type": "stream",
          "text": [
            " — val_f1: [92.92 98.12 97.36 87.91 92.16 97.51 92.27  0.   88.62]\n",
            " — val_precision: [93.26 98.77 94.94 80.6  93.31 97.78 92.6   0.   83.31]\n",
            " — val_recall: [92.57 97.49 99.9  96.68 91.04 97.23 91.95  0.   94.65]\n",
            " — mean_f1: 82.98555555555555\n",
            "oa 94.87\n",
            "Found best weights at epoch 26\n",
            "393/393 [==============================] - 38s 96ms/step - batch: 196.0000 - size: 16.0000 - loss: 0.0247 - accuracy: 0.1500 - val_loss: 0.0338 - val_accuracy: 0.2150 - mean_f1: 82.9856\n",
            "Epoch 27/70\n",
            "393/393 [==============================] - ETA: 0s - batch: 196.0000 - size: 16.0000 - loss: 0.0223 - accuracy: 0.1500"
          ],
          "name": "stdout"
        },
        {
          "output_type": "stream",
          "text": [
            "[@debug] generator.py:192 in __len__()- n_batches: 46\n",
            "[@debug] generator.py:192 in __len__()- n_batches: 46\n",
            "[@debug] generator.py:192 in __len__()- n_batches: 46\n"
          ],
          "name": "stderr"
        },
        {
          "output_type": "stream",
          "text": [
            " — val_f1: [94.56 98.44 97.74 87.63 92.43 96.18 94.71  0.   90.1 ]\n",
            " — val_precision: [94.92 98.59 95.78 79.84 95.48 95.34 95.7   0.   84.93]\n",
            " — val_recall: [94.2  98.29 99.78 97.11 89.57 97.04 93.74  0.   95.93]\n",
            " — mean_f1: 83.53222222222223\n",
            "oa 95.84\n",
            "Found best weights at epoch 27\n",
            "393/393 [==============================] - 38s 97ms/step - batch: 196.0000 - size: 16.0000 - loss: 0.0223 - accuracy: 0.1500 - val_loss: 0.0324 - val_accuracy: 0.2177 - mean_f1: 83.5322\n",
            "Epoch 28/70\n",
            "393/393 [==============================] - ETA: 0s - batch: 196.0000 - size: 16.0000 - loss: 0.0212 - accuracy: 0.1497"
          ],
          "name": "stdout"
        },
        {
          "output_type": "stream",
          "text": [
            "[@debug] generator.py:192 in __len__()- n_batches: 46\n",
            "[@debug] generator.py:192 in __len__()- n_batches: 46\n",
            "[@debug] generator.py:192 in __len__()- n_batches: 46\n"
          ],
          "name": "stderr"
        },
        {
          "output_type": "stream",
          "text": [
            " — val_f1: [94.19 98.66 97.71 86.68 91.8  96.05 94.57 88.97]\n",
            " — val_precision: [94.88 98.72 95.78 79.18 93.83 94.26 95.35 87.09]\n",
            " — val_recall: [93.5  98.6  99.71 95.75 89.86 97.91 93.81 90.93]\n",
            " — mean_f1: 83.18111111111111\n",
            "oa 95.73\n",
            "393/393 [==============================] - 38s 96ms/step - batch: 196.0000 - size: 16.0000 - loss: 0.0212 - accuracy: 0.1497 - val_loss: 0.0321 - val_accuracy: 0.2070 - mean_f1: 83.1811\n",
            "Epoch 29/70\n",
            "393/393 [==============================] - ETA: 0s - batch: 196.0000 - size: 16.0000 - loss: 0.0215 - accuracy: 0.1510"
          ],
          "name": "stdout"
        },
        {
          "output_type": "stream",
          "text": [
            "[@debug] generator.py:192 in __len__()- n_batches: 46\n",
            "[@debug] generator.py:192 in __len__()- n_batches: 46\n",
            "[@debug] generator.py:192 in __len__()- n_batches: 46\n"
          ],
          "name": "stderr"
        },
        {
          "output_type": "stream",
          "text": [
            " — val_f1: [93.28 97.81 96.28 84.77 83.26 92.61 92.81  0.   63.09]\n",
            " — val_precision: [94.4  99.04 92.93 75.1  89.5  87.29 92.28  0.   53.08]\n",
            " — val_recall: [92.18 96.61 99.86 97.29 77.83 98.63 93.35  0.   77.73]\n",
            " — mean_f1: 78.21222222222222\n",
            "oa 93.48\n",
            "393/393 [==============================] - 38s 96ms/step - batch: 196.0000 - size: 16.0000 - loss: 0.0215 - accuracy: 0.1510 - val_loss: 0.0382 - val_accuracy: 0.2108 - mean_f1: 78.2122\n",
            "Epoch 30/70\n",
            "393/393 [==============================] - ETA: 0s - batch: 196.0000 - size: 16.0000 - loss: 0.0208 - accuracy: 0.1491"
          ],
          "name": "stdout"
        },
        {
          "output_type": "stream",
          "text": [
            "[@debug] generator.py:192 in __len__()- n_batches: 46\n",
            "[@debug] generator.py:192 in __len__()- n_batches: 46\n",
            "[@debug] generator.py:192 in __len__()- n_batches: 46\n"
          ],
          "name": "stderr"
        },
        {
          "output_type": "stream",
          "text": [
            " — val_f1: [92.67 98.27 96.97 85.82 91.8  96.19 91.89  0.   90.4 ]\n",
            " — val_precision: [91.51 98.51 94.21 82.03 94.3  95.43 93.32  0.   88.68]\n",
            " — val_recall: [93.87 98.03 99.9  89.97 89.43 96.97 90.5   0.   92.2 ]\n",
            " — mean_f1: 82.66777777777777\n",
            "oa 94.71\n",
            "393/393 [==============================] - 38s 96ms/step - batch: 196.0000 - size: 16.0000 - loss: 0.0208 - accuracy: 0.1491 - val_loss: 0.0341 - val_accuracy: 0.2207 - mean_f1: 82.6678\n",
            "Epoch 31/70\n",
            "393/393 [==============================] - ETA: 0s - batch: 196.0000 - size: 16.0000 - loss: 0.0197 - accuracy: 0.1504"
          ],
          "name": "stdout"
        },
        {
          "output_type": "stream",
          "text": [
            "[@debug] generator.py:192 in __len__()- n_batches: 46\n",
            "[@debug] generator.py:192 in __len__()- n_batches: 46\n",
            "[@debug] generator.py:192 in __len__()- n_batches: 46\n"
          ],
          "name": "stderr"
        },
        {
          "output_type": "stream",
          "text": [
            " — val_f1: [93.37 98.44 97.59 85.76 92.07 95.55 93.29  0.   88.76]\n",
            " — val_precision: [92.3  98.42 95.43 82.6  93.11 92.49 96.02  0.   85.12]\n",
            " — val_recall: [94.47 98.45 99.85 89.19 91.06 98.82 90.71  0.   92.71]\n",
            " — mean_f1: 82.75888888888889\n",
            "oa 95.2\n",
            "393/393 [==============================] - 38s 96ms/step - batch: 196.0000 - size: 16.0000 - loss: 0.0197 - accuracy: 0.1504 - val_loss: 0.0313 - val_accuracy: 0.2160 - mean_f1: 82.7589\n",
            "Epoch 32/70\n",
            "393/393 [==============================] - ETA: 0s - batch: 196.0000 - size: 16.0000 - loss: 0.0190 - accuracy: 0.1489"
          ],
          "name": "stdout"
        },
        {
          "output_type": "stream",
          "text": [
            "[@debug] generator.py:192 in __len__()- n_batches: 46\n",
            "[@debug] generator.py:192 in __len__()- n_batches: 46\n",
            "[@debug] generator.py:192 in __len__()- n_batches: 46\n"
          ],
          "name": "stderr"
        },
        {
          "output_type": "stream",
          "text": [
            " — val_f1: [93.56 98.46 97.14 85.94 92.95 96.18 93.21  0.   89.76]\n",
            " — val_precision: [92.77 99.08 94.59 80.76 92.43 94.69 94.59  0.   90.35]\n",
            " — val_recall: [94.35 97.85 99.83 91.83 93.47 97.72 91.88  0.   89.17]\n",
            " — mean_f1: 83.02222222222221\n",
            "oa 95.31\n",
            "393/393 [==============================] - 37s 95ms/step - batch: 196.0000 - size: 16.0000 - loss: 0.0190 - accuracy: 0.1489 - val_loss: 0.0301 - val_accuracy: 0.2203 - mean_f1: 83.0222\n",
            "Epoch 33/70\n",
            "393/393 [==============================] - ETA: 0s - batch: 196.0000 - size: 16.0000 - loss: 0.0183 - accuracy: 0.1486"
          ],
          "name": "stdout"
        },
        {
          "output_type": "stream",
          "text": [
            "[@debug] generator.py:192 in __len__()- n_batches: 46\n",
            "[@debug] generator.py:192 in __len__()- n_batches: 46\n",
            "[@debug] generator.py:192 in __len__()- n_batches: 46\n"
          ],
          "name": "stderr"
        },
        {
          "output_type": "stream",
          "text": [
            " — val_f1: [93.84 98.1  92.05 87.38 92.61 96.55 92.6   0.   90.03]\n",
            " — val_precision: [94.04 98.44 85.3  79.75 94.82 94.9  93.75  0.   87.87]\n",
            " — val_recall: [93.64 97.77 99.97 96.63 90.5  98.26 91.49  0.   92.29]\n",
            " — mean_f1: 82.57333333333332\n",
            "oa 95.08\n",
            "393/393 [==============================] - 37s 95ms/step - batch: 196.0000 - size: 16.0000 - loss: 0.0183 - accuracy: 0.1486 - val_loss: 0.0309 - val_accuracy: 0.2155 - mean_f1: 82.5733\n",
            "Epoch 34/70\n",
            "393/393 [==============================] - ETA: 0s - batch: 196.0000 - size: 16.0000 - loss: 0.0180 - accuracy: 0.1477"
          ],
          "name": "stdout"
        },
        {
          "output_type": "stream",
          "text": [
            "[@debug] generator.py:192 in __len__()- n_batches: 46\n",
            "[@debug] generator.py:192 in __len__()- n_batches: 46\n",
            "[@debug] generator.py:192 in __len__()- n_batches: 46\n"
          ],
          "name": "stderr"
        },
        {
          "output_type": "stream",
          "text": [
            " — val_f1: [92.68 98.09 95.81 83.29 92.24 93.95 93.18  0.   90.67]\n",
            " — val_precision: [92.78 98.71 92.15 75.92 95.06 89.7  93.96  0.   85.66]\n",
            " — val_recall: [92.58 97.47 99.78 92.23 89.59 98.62 92.41  0.   96.3 ]\n",
            " — mean_f1: 82.21222222222222\n",
            "oa 94.73\n",
            "393/393 [==============================] - 38s 96ms/step - batch: 196.0000 - size: 16.0000 - loss: 0.0180 - accuracy: 0.1477 - val_loss: 0.0309 - val_accuracy: 0.2191 - mean_f1: 82.2122\n",
            "Epoch 35/70\n",
            "393/393 [==============================] - ETA: 0s - batch: 196.0000 - size: 16.0000 - loss: 0.0179 - accuracy: 0.1495"
          ],
          "name": "stdout"
        },
        {
          "output_type": "stream",
          "text": [
            "[@debug] generator.py:192 in __len__()- n_batches: 46\n",
            "[@debug] generator.py:192 in __len__()- n_batches: 46\n",
            "[@debug] generator.py:192 in __len__()- n_batches: 46\n"
          ],
          "name": "stderr"
        },
        {
          "output_type": "stream",
          "text": [
            " — val_f1: [93.86 98.55 97.59 86.93 93.52 96.54 94.83  0.   92.05]\n",
            " — val_precision: [94.01 98.8  95.6  79.7  95.32 94.82 95.97  0.   89.19]\n",
            " — val_recall: [93.71 98.31 99.66 95.61 91.78 98.32 93.73  0.   95.09]\n",
            " — mean_f1: 83.76333333333332\n",
            "oa 95.84\n",
            "Found best weights at epoch 35\n",
            "393/393 [==============================] - 38s 96ms/step - batch: 196.0000 - size: 16.0000 - loss: 0.0179 - accuracy: 0.1495 - val_loss: 0.0282 - val_accuracy: 0.2168 - mean_f1: 83.7633\n",
            "Epoch 36/70\n",
            "393/393 [==============================] - ETA: 0s - batch: 196.0000 - size: 16.0000 - loss: 0.0163 - accuracy: 0.1479"
          ],
          "name": "stdout"
        },
        {
          "output_type": "stream",
          "text": [
            "[@debug] generator.py:192 in __len__()- n_batches: 46\n",
            "[@debug] generator.py:192 in __len__()- n_batches: 46\n",
            "[@debug] generator.py:192 in __len__()- n_batches: 46\n"
          ],
          "name": "stderr"
        },
        {
          "output_type": "stream",
          "text": [
            " — val_f1: [93.91 98.51 97.3  86.1  93.61 95.6  93.77  0.   90.75]\n",
            " — val_precision: [93.7  99.07 95.12 77.56 95.25 92.93 95.01  0.   90.3 ]\n",
            " — val_recall: [94.12 97.96 99.58 96.77 92.02 98.43 92.57  0.   91.2 ]\n",
            " — mean_f1: 83.28333333333333\n",
            "oa 95.56\n",
            "393/393 [==============================] - 37s 95ms/step - batch: 196.0000 - size: 16.0000 - loss: 0.0163 - accuracy: 0.1479 - val_loss: 0.0281 - val_accuracy: 0.2232 - mean_f1: 83.2833\n",
            "Epoch 37/70\n",
            "393/393 [==============================] - ETA: 0s - batch: 196.0000 - size: 16.0000 - loss: 0.0164 - accuracy: 0.1475"
          ],
          "name": "stdout"
        },
        {
          "output_type": "stream",
          "text": [
            "[@debug] generator.py:192 in __len__()- n_batches: 46\n",
            "[@debug] generator.py:192 in __len__()- n_batches: 46\n",
            "[@debug] generator.py:192 in __len__()- n_batches: 46\n"
          ],
          "name": "stderr"
        },
        {
          "output_type": "stream",
          "text": [
            " — val_f1: [83.29 87.89 57.63 85.65 88.55 93.23 72.22  0.   86.82]\n",
            " — val_precision: [93.09 97.87 40.51 79.42 92.72 90.69 59.7   0.   78.72]\n",
            " — val_recall: [75.36 79.75 99.85 92.94 84.73 95.92 91.38  0.   96.79]\n",
            " — mean_f1: 72.80888888888889\n",
            "oa 82.65\n",
            "393/393 [==============================] - 38s 96ms/step - batch: 196.0000 - size: 16.0000 - loss: 0.0164 - accuracy: 0.1475 - val_loss: 0.0519 - val_accuracy: 0.1666 - mean_f1: 72.8089\n",
            "Epoch 38/70\n",
            "393/393 [==============================] - ETA: 0s - batch: 196.0000 - size: 16.0000 - loss: 0.0173 - accuracy: 0.1466"
          ],
          "name": "stdout"
        },
        {
          "output_type": "stream",
          "text": [
            "[@debug] generator.py:192 in __len__()- n_batches: 46\n",
            "[@debug] generator.py:192 in __len__()- n_batches: 46\n",
            "[@debug] generator.py:192 in __len__()- n_batches: 46\n"
          ],
          "name": "stderr"
        },
        {
          "output_type": "stream",
          "text": [
            " — val_f1: [92.47 98.71 95.38 86.13 92.53 94.76 92.65  0.   88.03]\n",
            " — val_precision: [91.04 98.99 91.37 77.85 95.16 91.93 96.5   0.   83.09]\n",
            " — val_recall: [93.95 98.43 99.76 96.38 90.05 97.77 89.09  0.   93.6 ]\n",
            " — mean_f1: 82.29555555555557\n",
            "oa 94.96\n",
            "393/393 [==============================] - 38s 96ms/step - batch: 196.0000 - size: 16.0000 - loss: 0.0173 - accuracy: 0.1466 - val_loss: 0.0288 - val_accuracy: 0.2190 - mean_f1: 82.2956\n",
            "Epoch 39/70\n",
            "393/393 [==============================] - ETA: 0s - batch: 196.0000 - size: 16.0000 - loss: 0.0150 - accuracy: 0.1495"
          ],
          "name": "stdout"
        },
        {
          "output_type": "stream",
          "text": [
            "[@debug] generator.py:192 in __len__()- n_batches: 46\n",
            "[@debug] generator.py:192 in __len__()- n_batches: 46\n",
            "[@debug] generator.py:192 in __len__()- n_batches: 46\n"
          ],
          "name": "stderr"
        },
        {
          "output_type": "stream",
          "text": [
            " — val_f1: [93.7  98.65 97.23 87.11 92.46 94.46 94.14  0.   91.92]\n",
            " — val_precision: [93.   98.89 94.95 80.13 95.88 90.88 96.05  0.   88.29]\n",
            " — val_recall: [94.41 98.41 99.61 95.42 89.28 98.33 92.3   0.   95.86]\n",
            " — mean_f1: 83.29666666666667\n",
            "oa 95.61\n",
            "393/393 [==============================] - 38s 96ms/step - batch: 196.0000 - size: 16.0000 - loss: 0.0150 - accuracy: 0.1495 - val_loss: 0.0272 - val_accuracy: 0.2228 - mean_f1: 83.2967\n",
            "Epoch 40/70\n",
            "393/393 [==============================] - ETA: 0s - batch: 196.0000 - size: 16.0000 - loss: 0.0142 - accuracy: 0.1491"
          ],
          "name": "stdout"
        },
        {
          "output_type": "stream",
          "text": [
            "[@debug] generator.py:192 in __len__()- n_batches: 46\n",
            "[@debug] generator.py:192 in __len__()- n_batches: 46\n",
            "[@debug] generator.py:192 in __len__()- n_batches: 46\n"
          ],
          "name": "stderr"
        },
        {
          "output_type": "stream",
          "text": [
            " — val_f1: [94.32 98.79 96.96 87.   93.09 94.74 94.66  0.   89.07]\n",
            " — val_precision: [94.05 98.81 94.48 79.73 94.99 91.69 96.87  0.   87.86]\n",
            " — val_recall: [94.59 98.77 99.58 95.73 91.27 98.   92.54  0.   90.32]\n",
            " — mean_f1: 83.1811111111111\n",
            "oa 95.9\n",
            "393/393 [==============================] - 38s 97ms/step - batch: 196.0000 - size: 16.0000 - loss: 0.0142 - accuracy: 0.1491 - val_loss: 0.0261 - val_accuracy: 0.2214 - mean_f1: 83.1811\n",
            "Epoch 41/70\n",
            "393/393 [==============================] - ETA: 0s - batch: 196.0000 - size: 16.0000 - loss: 0.0143 - accuracy: 0.1501"
          ],
          "name": "stdout"
        },
        {
          "output_type": "stream",
          "text": [
            "[@debug] generator.py:192 in __len__()- n_batches: 46\n",
            "[@debug] generator.py:192 in __len__()- n_batches: 46\n",
            "[@debug] generator.py:192 in __len__()- n_batches: 46\n"
          ],
          "name": "stderr"
        },
        {
          "output_type": "stream",
          "text": [
            " — val_f1: [90.53 95.5  97.49 78.17 92.07 96.54 87.8  87.2 ]\n",
            " — val_precision: [91.11 99.28 95.51 66.35 90.95 95.11 84.56 84.31]\n",
            " — val_recall: [89.96 91.99 99.56 95.11 93.2  98.01 91.31 90.31]\n",
            " — mean_f1: 80.58888888888889\n",
            "oa 91.8\n",
            "393/393 [==============================] - 38s 96ms/step - batch: 196.0000 - size: 16.0000 - loss: 0.0143 - accuracy: 0.1501 - val_loss: 0.0334 - val_accuracy: 0.2207 - mean_f1: 80.5889\n",
            "Epoch 42/70\n",
            "393/393 [==============================] - ETA: 0s - batch: 196.0000 - size: 16.0000 - loss: 0.0146 - accuracy: 0.1463"
          ],
          "name": "stdout"
        },
        {
          "output_type": "stream",
          "text": [
            "[@debug] generator.py:192 in __len__()- n_batches: 46\n",
            "[@debug] generator.py:192 in __len__()- n_batches: 46\n",
            "[@debug] generator.py:192 in __len__()- n_batches: 46\n"
          ],
          "name": "stderr"
        },
        {
          "output_type": "stream",
          "text": [
            " — val_f1: [94.71 98.47 95.71 87.53 91.9  94.76 94.29  0.   84.98]\n",
            " — val_precision: [94.95 98.85 92.   80.24 96.43 92.06 94.97  0.   77.66]\n",
            " — val_recall: [94.48 98.1  99.73 96.27 87.77 97.62 93.63  0.   93.81]\n",
            " — mean_f1: 82.48333333333335\n",
            "oa 95.61\n",
            "393/393 [==============================] - 38s 96ms/step - batch: 196.0000 - size: 16.0000 - loss: 0.0146 - accuracy: 0.1463 - val_loss: 0.0253 - val_accuracy: 0.2126 - mean_f1: 82.4833\n",
            "Epoch 43/70\n",
            "393/393 [==============================] - ETA: 0s - batch: 196.0000 - size: 16.0000 - loss: 0.0133 - accuracy: 0.1507"
          ],
          "name": "stdout"
        },
        {
          "output_type": "stream",
          "text": [
            "[@debug] generator.py:192 in __len__()- n_batches: 46\n",
            "[@debug] generator.py:192 in __len__()- n_batches: 46\n",
            "[@debug] generator.py:192 in __len__()- n_batches: 46\n"
          ],
          "name": "stderr"
        },
        {
          "output_type": "stream",
          "text": [
            " — val_f1: [94.44 98.61 97.54 86.89 92.14 95.44 94.72  0.   84.71]\n",
            " — val_precision: [94.66 99.06 95.47 79.03 93.73 94.11 95.6   0.   81.57]\n",
            " — val_recall: [94.22 98.17 99.7  96.49 90.59 96.82 93.85  0.   88.11]\n",
            " — mean_f1: 82.72111111111111\n",
            "oa 95.71\n",
            "393/393 [==============================] - 38s 96ms/step - batch: 196.0000 - size: 16.0000 - loss: 0.0133 - accuracy: 0.1507 - val_loss: 0.0244 - val_accuracy: 0.2133 - mean_f1: 82.7211\n",
            "Epoch 44/70\n",
            "393/393 [==============================] - ETA: 0s - batch: 196.0000 - size: 16.0000 - loss: 0.0131 - accuracy: 0.1486"
          ],
          "name": "stdout"
        },
        {
          "output_type": "stream",
          "text": [
            "[@debug] generator.py:192 in __len__()- n_batches: 46\n",
            "[@debug] generator.py:192 in __len__()- n_batches: 46\n",
            "[@debug] generator.py:192 in __len__()- n_batches: 46\n"
          ],
          "name": "stderr"
        },
        {
          "output_type": "stream",
          "text": [
            " — val_f1: [92.59 98.77 82.83 87.82 92.83 95.54 93.2   0.   88.84]\n",
            " — val_precision: [94.11 99.14 83.48 80.59 97.28 95.7  91.55  0.   83.1 ]\n",
            " — val_recall: [91.11 98.39 82.19 96.49 88.77 95.38 94.91  0.   95.43]\n",
            " — mean_f1: 81.38\n",
            "oa 95.08\n",
            "393/393 [==============================] - 37s 95ms/step - batch: 196.0000 - size: 16.0000 - loss: 0.0131 - accuracy: 0.1486 - val_loss: 0.0255 - val_accuracy: 0.2033 - mean_f1: 81.3800\n",
            "Epoch 45/70\n",
            "393/393 [==============================] - ETA: 0s - batch: 196.0000 - size: 16.0000 - loss: 0.0139 - accuracy: 0.1465"
          ],
          "name": "stdout"
        },
        {
          "output_type": "stream",
          "text": [
            "[@debug] generator.py:192 in __len__()- n_batches: 46\n",
            "[@debug] generator.py:192 in __len__()- n_batches: 46\n",
            "[@debug] generator.py:192 in __len__()- n_batches: 46\n"
          ],
          "name": "stderr"
        },
        {
          "output_type": "stream",
          "text": [
            " — val_f1: [93.88 98.7  95.2  87.28 91.93 95.9  93.99  0.   87.37]\n",
            " — val_precision: [93.27 98.67 91.16 80.01 93.74 93.22 96.96  0.   85.37]\n",
            " — val_recall: [94.49 98.73 99.61 96.   90.2  98.75 91.21  0.   89.47]\n",
            " — mean_f1: 82.69444444444444\n",
            "oa 95.54\n",
            "Restoring model weights from the end of the best epoch.\n",
            "393/393 [==============================] - 38s 96ms/step - batch: 196.0000 - size: 16.0000 - loss: 0.0139 - accuracy: 0.1465 - val_loss: 0.0246 - val_accuracy: 0.2246 - mean_f1: 82.6944\n",
            "Epoch %05d: early stopping\n",
            "f1 history [42.196666666666665, 60.71999999999999, 64.9211111111111, 66.44, 68.46666666666667, 70.62444444444445, 73.85777777777778, 75.65666666666667, 78.1322222222222, 78.48444444444446, 79.48111111111112, 80.28222222222223, 80.81555555555556, 80.92777777777778, 82.31, 78.47444444444444, 79.6711111111111, 81.74555555555555, 81.79777777777778, 81.73, 82.17777777777778, 82.22666666666666, 82.93333333333334, 81.57777777777778, 82.77555555555556, 82.98555555555555, 83.53222222222223, 83.18111111111111, 78.21222222222222, 82.66777777777777, 82.75888888888889, 83.02222222222221, 82.57333333333332, 82.21222222222222, 83.76333333333332, 83.28333333333333, 72.80888888888889, 82.29555555555557, 83.29666666666667, 83.1811111111111, 80.58888888888889, 82.48333333333335, 82.72111111111111, 81.38, 82.69444444444444]\n",
            "oa history [64.46, 77.67, 80.86, 82.47, 83.51, 85.1, 86.74, 88.18, 89.86, 90.14, 91.2, 91.42, 92.84, 91.22, 94.12, 91.48, 91.6, 94.46, 94.19, 94.5, 94.66, 94.78, 95.07, 94.4, 94.66, 94.87, 95.84, 95.73, 93.48, 94.71, 95.2, 95.31, 95.08, 94.73, 95.84, 95.56, 82.65, 94.96, 95.61, 95.9, 91.8, 95.61, 95.71, 95.08, 95.54]\n"
          ],
          "name": "stdout"
        },
        {
          "output_type": "display_data",
          "data": {
            "image/png": "[encoded data removed]",
            "text/plain": [
              "<Figure size 432x288 with 1 Axes>"
            ]
          },
          "metadata": {
            "needs_background": "light"
          }
        }
      ]
    },
    {
      "cell_type": "markdown",
      "metadata": {
        "id": "0lD8P03YG0IX"
      },
      "source": [
        "## Evaluate\n"
      ]
    },
    {
      "cell_type": "code",
      "metadata": {
        "id": "im68QpP-JvbR",
        "colab": {
          "base_uri": "https://localhost:8080/",
          "height": 1000
        },
        "outputId": "444d4af2-9cbf-451b-e3c4-f6be0c7eaaa6"
      },
      "source": [
        "trainTest.evaluate()"
      ],
      "execution_count": 12,
      "outputs": [
        {
          "output_type": "stream",
          "text": [
            "[@debug] dataset.py:562 in loadMask()\n",
            "         str(self.paramsTrain.path): '../../../dataset/dataset/cv_data'\n",
            "[@debug] dataset.py:564 in loadMask()- self.mask.shape: (8492, 7995)\n",
            "[@debug] dataset.py:386 in addPaddingToInput()\n",
            "         im.shape: (12, 8492, 7995, 2)\n",
            "[@debug] params_reconstruct.py:43 in __init__()\n",
            "         self.overlap: 0\n",
            "         self.threshold_idx: 4\n",
            "[@debug] params_reconstruct.py:43 in __init__()\n",
            "         self.overlap: 0\n",
            "         self.threshold_idx: 4\n",
            "[@debug] mosaic.py:45 in __init__()- paramsTrain.seq_date: 'jun'\n"
          ],
          "name": "stderr"
        },
        {
          "output_type": "stream",
          "text": [
            "[@debug] dataset = cv\n",
            "[@debug] paramsTrain.model_type = UUnetConvLSTM\n"
          ],
          "name": "stdout"
        },
        {
          "output_type": "stream",
          "text": [
            "[@debug] mosaic.py:133 in create()- self.data.class_n: 10\n",
            "[@debug] mosaic.py:134 in create()\n",
            "         np.unique(self.data.full_label_test): array([ 0,  2,  3,  4,  6,  7,  8,  9, 10, 11], dtype=uint8)\n",
            "         len(np.unique(self.data.full_label_test)): 10\n",
            "[@debug] mosaic.py:135 in create()\n",
            "         np.unique(self.data.full_label_train): array([0, 1, 2, 3, 4, 5, 6, 7, 8, 9], dtype=uint8)\n",
            "         len(np.unique(self.data.full_label_train)): 10\n"
          ],
          "name": "stderr"
        },
        {
          "output_type": "error",
          "ename": "FileNotFoundError",
          "evalue": "ignored",
          "traceback": [
            "\u001b[0;31m---------------------------------------------------------------------------\u001b[0m",
            "\u001b[0;31mFileNotFoundError\u001b[0m                         Traceback (most recent call last)",
            "\u001b[0;32m<ipython-input-12-a09e6dd7457e>\u001b[0m in \u001b[0;36m<module>\u001b[0;34m()\u001b[0m\n\u001b[0;32m----> 1\u001b[0;31m \u001b[0mtrainTest\u001b[0m\u001b[0;34m.\u001b[0m\u001b[0mevaluate\u001b[0m\u001b[0;34m(\u001b[0m\u001b[0;34m)\u001b[0m\u001b[0;34m\u001b[0m\u001b[0;34m\u001b[0m\u001b[0m\n\u001b[0m",
            "\u001b[0;32m/content/FCN_ConvLSTM_Crop_Recognition_Open_Set/networks/convlstm_networks/train_src/main.py\u001b[0m in \u001b[0;36mevaluate\u001b[0;34m(self)\u001b[0m\n\u001b[1;32m    221\u001b[0m         \u001b[0;32mdef\u001b[0m \u001b[0mevaluate\u001b[0m\u001b[0;34m(\u001b[0m\u001b[0mself\u001b[0m\u001b[0;34m)\u001b[0m\u001b[0;34m:\u001b[0m\u001b[0;34m\u001b[0m\u001b[0;34m\u001b[0m\u001b[0m\n\u001b[1;32m    222\u001b[0m                 \u001b[0mself\u001b[0m\u001b[0;34m.\u001b[0m\u001b[0mdata\u001b[0m\u001b[0;34m.\u001b[0m\u001b[0mloadMask\u001b[0m\u001b[0;34m(\u001b[0m\u001b[0;34m)\u001b[0m\u001b[0;34m\u001b[0m\u001b[0;34m\u001b[0m\u001b[0m\n\u001b[0;32m--> 223\u001b[0;31m                 \u001b[0mself\u001b[0m\u001b[0;34m.\u001b[0m\u001b[0mmodel\u001b[0m\u001b[0;34m.\u001b[0m\u001b[0mevaluate\u001b[0m\u001b[0;34m(\u001b[0m\u001b[0mself\u001b[0m\u001b[0;34m.\u001b[0m\u001b[0mdata\u001b[0m\u001b[0;34m,\u001b[0m \u001b[0mself\u001b[0m\u001b[0;34m.\u001b[0m\u001b[0mds\u001b[0m\u001b[0;34m)\u001b[0m\u001b[0;34m\u001b[0m\u001b[0;34m\u001b[0m\u001b[0m\n\u001b[0m\u001b[1;32m    224\u001b[0m \u001b[0;34m\u001b[0m\u001b[0m\n\u001b[1;32m    225\u001b[0m \t'''\n",
            "\u001b[0;32m/content/FCN_ConvLSTM_Crop_Recognition_Open_Set/networks/convlstm_networks/train_src/model.py\u001b[0m in \u001b[0;36mevaluate\u001b[0;34m(self, data, ds)\u001b[0m\n\u001b[1;32m    426\u001b[0m                 \u001b[0mself\u001b[0m\u001b[0;34m.\u001b[0m\u001b[0mpostProcessing\u001b[0m \u001b[0;34m=\u001b[0m \u001b[0mPostProcessingMosaic\u001b[0m\u001b[0;34m(\u001b[0m\u001b[0mself\u001b[0m\u001b[0;34m.\u001b[0m\u001b[0mparamsTrain\u001b[0m\u001b[0;34m,\u001b[0m \u001b[0mh\u001b[0m\u001b[0;34m,\u001b[0m \u001b[0mw\u001b[0m\u001b[0;34m)\u001b[0m\u001b[0;34m\u001b[0m\u001b[0;34m\u001b[0m\u001b[0m\n\u001b[1;32m    427\u001b[0m \u001b[0;34m\u001b[0m\u001b[0m\n\u001b[0;32m--> 428\u001b[0;31m                 \u001b[0mmosaic\u001b[0m\u001b[0;34m.\u001b[0m\u001b[0mcreate\u001b[0m\u001b[0;34m(\u001b[0m\u001b[0mself\u001b[0m\u001b[0;34m.\u001b[0m\u001b[0mparamsTrain\u001b[0m\u001b[0;34m,\u001b[0m \u001b[0mself\u001b[0m\u001b[0;34m,\u001b[0m \u001b[0mdata\u001b[0m\u001b[0;34m,\u001b[0m \u001b[0mds\u001b[0m\u001b[0;34m,\u001b[0m \u001b[0mself\u001b[0m\u001b[0;34m.\u001b[0m\u001b[0mpostProcessing\u001b[0m\u001b[0;34m)\u001b[0m\u001b[0;34m\u001b[0m\u001b[0;34m\u001b[0m\u001b[0m\n\u001b[0m\u001b[1;32m    429\u001b[0m \u001b[0;34m\u001b[0m\u001b[0m\n\u001b[1;32m    430\u001b[0m                 \u001b[0mmetrics\u001b[0m \u001b[0;34m=\u001b[0m \u001b[0mMetricsTranslated\u001b[0m\u001b[0;34m(\u001b[0m\u001b[0mself\u001b[0m\u001b[0;34m.\u001b[0m\u001b[0mparamsTrain\u001b[0m\u001b[0;34m)\u001b[0m\u001b[0;34m\u001b[0m\u001b[0;34m\u001b[0m\u001b[0m\n",
            "\u001b[0;32m/content/FCN_ConvLSTM_Crop_Recognition_Open_Set/networks/convlstm_networks/train_src/mosaic.py\u001b[0m in \u001b[0;36mcreate\u001b[0;34m(self, paramsTrain, model, data, ds, postProcessing)\u001b[0m\n\u001b[1;32m    146\u001b[0m                         \u001b[0mself\u001b[0m\u001b[0;34m.\u001b[0m\u001b[0mloopOverImage\u001b[0m\u001b[0;34m(\u001b[0m\u001b[0mparamsTrain\u001b[0m\u001b[0;34m)\u001b[0m\u001b[0;34m\u001b[0m\u001b[0;34m\u001b[0m\u001b[0m\n\u001b[1;32m    147\u001b[0m                 \u001b[0;32melse\u001b[0m\u001b[0;34m:\u001b[0m\u001b[0;34m\u001b[0m\u001b[0;34m\u001b[0m\u001b[0m\n\u001b[0;32m--> 148\u001b[0;31m                         \u001b[0mself\u001b[0m\u001b[0;34m.\u001b[0m\u001b[0mloadMosaic\u001b[0m\u001b[0;34m(\u001b[0m\u001b[0;34m)\u001b[0m\u001b[0;34m\u001b[0m\u001b[0;34m\u001b[0m\u001b[0m\n\u001b[0m\u001b[1;32m    149\u001b[0m                 \u001b[0mself\u001b[0m\u001b[0;34m.\u001b[0m\u001b[0mpostProcess\u001b[0m\u001b[0;34m(\u001b[0m\u001b[0mparamsTrain\u001b[0m\u001b[0;34m)\u001b[0m\u001b[0;34m\u001b[0m\u001b[0;34m\u001b[0m\u001b[0m\n\u001b[1;32m    150\u001b[0m \u001b[0;34m\u001b[0m\u001b[0m\n",
            "\u001b[0;32m/content/FCN_ConvLSTM_Crop_Recognition_Open_Set/networks/convlstm_networks/train_src/mosaic.py\u001b[0m in \u001b[0;36mloadMosaic\u001b[0;34m(self)\u001b[0m\n\u001b[1;32m    102\u001b[0m         \u001b[0;32mdef\u001b[0m \u001b[0mloadMosaic\u001b[0m\u001b[0;34m(\u001b[0m\u001b[0mself\u001b[0m\u001b[0;34m)\u001b[0m\u001b[0;34m:\u001b[0m\u001b[0;34m\u001b[0m\u001b[0;34m\u001b[0m\u001b[0m\n\u001b[1;32m    103\u001b[0m \t\tself.prediction_mosaic = np.load(self.pr.spatial_results_path / \n\u001b[0;32m--> 104\u001b[0;31m \t\t\t('prediction_mosaic_'+self.data.dataset_date+'_'+self.name_id+'_overl'+str(self.pr.overlap)+'.npy'))\n\u001b[0m\u001b[1;32m    105\u001b[0m                 \u001b[0;32mif\u001b[0m \u001b[0mself\u001b[0m\u001b[0;34m.\u001b[0m\u001b[0mpr\u001b[0m\u001b[0;34m.\u001b[0m\u001b[0mopen_set_mode\u001b[0m \u001b[0;34m==\u001b[0m \u001b[0;32mTrue\u001b[0m\u001b[0;34m:\u001b[0m\u001b[0;34m\u001b[0m\u001b[0;34m\u001b[0m\u001b[0m\n\u001b[1;32m    106\u001b[0m \t\t\tself.postProcessing.openSetMosaic.scores_mosaic = np.load(self.pr.spatial_results_path / \n",
            "\u001b[0;32m/usr/local/lib/python3.7/dist-packages/numpy/lib/npyio.py\u001b[0m in \u001b[0;36mload\u001b[0;34m(file, mmap_mode, allow_pickle, fix_imports, encoding)\u001b[0m\n\u001b[1;32m    414\u001b[0m             \u001b[0mown_fid\u001b[0m \u001b[0;34m=\u001b[0m \u001b[0;32mFalse\u001b[0m\u001b[0;34m\u001b[0m\u001b[0;34m\u001b[0m\u001b[0m\n\u001b[1;32m    415\u001b[0m         \u001b[0;32melse\u001b[0m\u001b[0;34m:\u001b[0m\u001b[0;34m\u001b[0m\u001b[0;34m\u001b[0m\u001b[0m\n\u001b[0;32m--> 416\u001b[0;31m             \u001b[0mfid\u001b[0m \u001b[0;34m=\u001b[0m \u001b[0mstack\u001b[0m\u001b[0;34m.\u001b[0m\u001b[0menter_context\u001b[0m\u001b[0;34m(\u001b[0m\u001b[0mopen\u001b[0m\u001b[0;34m(\u001b[0m\u001b[0mos_fspath\u001b[0m\u001b[0;34m(\u001b[0m\u001b[0mfile\u001b[0m\u001b[0;34m)\u001b[0m\u001b[0;34m,\u001b[0m \u001b[0;34m\"rb\"\u001b[0m\u001b[0;34m)\u001b[0m\u001b[0;34m)\u001b[0m\u001b[0;34m\u001b[0m\u001b[0;34m\u001b[0m\u001b[0m\n\u001b[0m\u001b[1;32m    417\u001b[0m             \u001b[0mown_fid\u001b[0m \u001b[0;34m=\u001b[0m \u001b[0;32mTrue\u001b[0m\u001b[0;34m\u001b[0m\u001b[0;34m\u001b[0m\u001b[0m\n\u001b[1;32m    418\u001b[0m \u001b[0;34m\u001b[0m\u001b[0m\n",
            "\u001b[0;31mFileNotFoundError\u001b[0m: [Errno 2] No such file or directory: 'results/spatial_results/prediction_mosaic_20160613_closed_set_overl0.npy'"
          ]
        }
      ]
    }
  ]
}