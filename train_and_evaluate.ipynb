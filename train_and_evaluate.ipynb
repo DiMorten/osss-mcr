{
  "nbformat": 4,
  "nbformat_minor": 0,
  "metadata": {
    "colab": {
      "name": "Welcome To Colaboratory",
      "provenance": [],
      "collapsed_sections": [],
      "machine_shape": "hm",
      "include_colab_link": true
    },
    "kernelspec": {
      "display_name": "Python 3",
      "name": "python3"
    },
    "accelerator": "GPU"
  },
  "cells": [
    {
      "cell_type": "markdown",
      "metadata": {
        "id": "view-in-github",
        "colab_type": "text"
      },
      "source": [
        "<a href=\"https://colab.research.google.com/github/DiMorten/FCN_ConvLSTM_Crop_Recognition_Open_Set/blob/coords4/train_and_evaluate.ipynb\" target=\"_parent\"><img src=\"https://colab.research.google.com/assets/colab-badge.svg\" alt=\"Open In Colab\"/></a>"
      ]
    },
    {
      "cell_type": "markdown",
      "metadata": {
        "id": "LJ7UjI3YD4w8"
      },
      "source": [
        "## Dependencies"
      ]
    },
    {
      "cell_type": "code",
      "metadata": {
        "id": "jJZd_oJYCkmN",
        "colab": {
          "base_uri": "https://localhost:8080/"
        },
        "outputId": "aeb6b86a-4b47-4136-a873-5cb1f1625b24"
      },
      "source": [
        "!pip install icecream\n",
        "%tensorflow_version 1.x\n",
        "import os\n",
        "!pip install kora\n",
        "from kora import drive\n",
        "import time\n",
        "!pip install colorama\n",
        "\n",
        "ds_path='/content/drive/My Drive/PhD/datasets/cv_data/'"
      ],
      "execution_count": null,
      "outputs": [
        {
          "output_type": "stream",
          "text": [
            "Requirement already satisfied: icecream in /usr/local/lib/python3.7/dist-packages (2.1.1)\n",
            "Requirement already satisfied: pygments>=2.2.0 in /usr/local/lib/python3.7/dist-packages (from icecream) (2.6.1)\n",
            "Requirement already satisfied: colorama>=0.3.9 in /usr/local/lib/python3.7/dist-packages (from icecream) (0.4.4)\n",
            "Requirement already satisfied: executing>=0.3.1 in /usr/local/lib/python3.7/dist-packages (from icecream) (0.7.0)\n",
            "Requirement already satisfied: asttokens>=2.0.1 in /usr/local/lib/python3.7/dist-packages (from icecream) (2.0.5)\n",
            "Requirement already satisfied: six in /usr/local/lib/python3.7/dist-packages (from asttokens>=2.0.1->icecream) (1.15.0)\n",
            "TensorFlow 1.x selected.\n",
            "Requirement already satisfied: kora in /usr/local/lib/python3.7/dist-packages (0.9.19)\n",
            "Requirement already satisfied: ipython in /usr/local/lib/python3.7/dist-packages (from kora) (5.5.0)\n",
            "Requirement already satisfied: fastcore in /usr/local/lib/python3.7/dist-packages (from kora) (1.3.20)\n",
            "Requirement already satisfied: pip in /usr/local/lib/python3.7/dist-packages (from fastcore->kora) (21.1.3)\n",
            "Requirement already satisfied: packaging in /usr/local/lib/python3.7/dist-packages (from fastcore->kora) (21.0)\n",
            "Requirement already satisfied: pickleshare in /usr/local/lib/python3.7/dist-packages (from ipython->kora) (0.7.5)\n",
            "Requirement already satisfied: prompt-toolkit<2.0.0,>=1.0.4 in /usr/local/lib/python3.7/dist-packages (from ipython->kora) (1.0.18)\n",
            "Requirement already satisfied: decorator in /usr/local/lib/python3.7/dist-packages (from ipython->kora) (4.4.2)\n",
            "Requirement already satisfied: setuptools>=18.5 in /usr/local/lib/python3.7/dist-packages (from ipython->kora) (57.2.0)\n",
            "Requirement already satisfied: simplegeneric>0.8 in /usr/local/lib/python3.7/dist-packages (from ipython->kora) (0.8.1)\n",
            "Requirement already satisfied: pexpect in /usr/local/lib/python3.7/dist-packages (from ipython->kora) (4.8.0)\n",
            "Requirement already satisfied: pygments in /usr/local/lib/python3.7/dist-packages (from ipython->kora) (2.6.1)\n",
            "Requirement already satisfied: traitlets>=4.2 in /usr/local/lib/python3.7/dist-packages (from ipython->kora) (5.0.5)\n",
            "Requirement already satisfied: wcwidth in /usr/local/lib/python3.7/dist-packages (from prompt-toolkit<2.0.0,>=1.0.4->ipython->kora) (0.2.5)\n",
            "Requirement already satisfied: six>=1.9.0 in /usr/local/lib/python3.7/dist-packages (from prompt-toolkit<2.0.0,>=1.0.4->ipython->kora) (1.15.0)\n",
            "Requirement already satisfied: ipython-genutils in /usr/local/lib/python3.7/dist-packages (from traitlets>=4.2->ipython->kora) (0.2.0)\n",
            "Requirement already satisfied: pyparsing>=2.0.2 in /usr/local/lib/python3.7/dist-packages (from packaging->fastcore->kora) (2.4.7)\n",
            "Requirement already satisfied: ptyprocess>=0.5 in /usr/local/lib/python3.7/dist-packages (from pexpect->ipython->kora) (0.7.0)\n",
            "Requirement already satisfied: colorama in /usr/local/lib/python3.7/dist-packages (0.4.4)\n"
          ],
          "name": "stdout"
        }
      ]
    },
    {
      "cell_type": "code",
      "metadata": {
        "id": "Cosqh5n5Pewo",
        "colab": {
          "base_uri": "https://localhost:8080/"
        },
        "outputId": "ea771ec3-0989-4074-b3f4-97fac746de72"
      },
      "source": [
        "\n",
        "from google.colab import drive\n",
        "drive.mount('/content/drive')"
      ],
      "execution_count": null,
      "outputs": [
        {
          "output_type": "stream",
          "text": [
            "Drive already mounted at /content/drive; to attempt to forcibly remount, call drive.mount(\"/content/drive\", force_remount=True).\n"
          ],
          "name": "stdout"
        }
      ]
    },
    {
      "cell_type": "code",
      "metadata": {
        "colab": {
          "base_uri": "https://localhost:8080/"
        },
        "id": "gJr_9dXGpJ05",
        "outputId": "e3017bcf-b6c6-4199-d66e-a22ee5a9cfba"
      },
      "source": [
        "git_clone = True\n",
        "\n",
        "if git_clone == True:\n",
        "  os.chdir('/content')\n",
        "  %rm -rf FCN_ConvLSTM_Crop_Recognition_Open_Set\n",
        "  !git clone --branch coords4 https://github.com/DiMorten/FCN_ConvLSTM_Crop_Recognition_Open_Set.git"
      ],
      "execution_count": null,
      "outputs": [
        {
          "output_type": "stream",
          "text": [
            "Cloning into 'FCN_ConvLSTM_Crop_Recognition_Open_Set'...\n",
            "remote: Enumerating objects: 1747, done.\u001b[K\n",
            "remote: Counting objects: 100% (1747/1747), done.\u001b[K\n",
            "remote: Compressing objects: 100% (1243/1243), done.\u001b[K\n",
            "remote: Total 1747 (delta 1121), reused 935 (delta 333), pack-reused 0\u001b[K\n",
            "Receiving objects: 100% (1747/1747), 37.28 MiB | 28.53 MiB/s, done.\n",
            "Resolving deltas: 100% (1121/1121), done.\n"
          ],
          "name": "stdout"
        }
      ]
    },
    {
      "cell_type": "markdown",
      "metadata": {
        "id": "Xdj6CiT0Dz9l"
      },
      "source": [
        "## Download images into proper folder"
      ]
    },
    {
      "cell_type": "code",
      "metadata": {
        "id": "5q1eoQFaYvB4"
      },
      "source": [
        "!cp -r /content/drive/MyDrive/PhD/datasets/cv_data /content/FCN_ConvLSTM_Crop_Recognition_Open_Set/dataset/dataset/"
      ],
      "execution_count": null,
      "outputs": []
    },
    {
      "cell_type": "code",
      "metadata": {
        "id": "vvzH-luqPoiU",
        "colab": {
          "base_uri": "https://localhost:8080/"
        },
        "outputId": "7eef4c6d-3208-49ce-b6fb-b1a8271d6da8"
      },
      "source": [
        "os.chdir('/content/FCN_ConvLSTM_Crop_Recognition_Open_Set/networks/convlstm_networks/train_src')\n",
        "os.getcwd()\n",
        "os.listdir()"
      ],
      "execution_count": null,
      "outputs": [
        {
          "output_type": "execute_result",
          "data": {
            "text/plain": [
              "['obj',\n",
              " 'deb.py',\n",
              " 'metrics.py',\n",
              " 'model.py',\n",
              " 'keras_weighted_categorical_crossentropy.py',\n",
              " 'dataset.py',\n",
              " 'model_best_UUnet4ConvLSTM_jun_cv_criteria_0_92',\n",
              " 'model_input_mode.py',\n",
              " 'generator.py',\n",
              " 'densnet.py',\n",
              " 'parameters',\n",
              " 'monitor.py',\n",
              " 'densnet_timedistributed.py',\n",
              " 'patch_extractor.py',\n",
              " 'analysis',\n",
              " '__init__.py',\n",
              " 'main.py']"
            ]
          },
          "metadata": {
            "tags": []
          },
          "execution_count": 5
        }
      ]
    },
    {
      "cell_type": "code",
      "metadata": {
        "id": "CUsDu9hhDZT8",
        "colab": {
          "base_uri": "https://localhost:8080/"
        },
        "outputId": "34fbfdda-71a7-4301-f4a4-2dc60a08bc1c"
      },
      "source": [
        "from colorama import init\n",
        "init()\n",
        "from keras.layers import Input, Dense, Conv2D, MaxPool2D, Flatten, Dropout, Conv2DTranspose\n",
        "# from keras.callbacks import ModelCheckpoint , EarlyStopping\n",
        "from keras.optimizers import Adam,Adagrad \n",
        "from keras.models import Model\n",
        "from keras import backend as K\n",
        "import keras\n",
        "\n",
        "import numpy as np\n",
        "from sklearn.utils import shuffle\n",
        "import cv2\n",
        "import argparse\n",
        "import tensorflow as tf\n",
        "\n",
        "from keras.models import *\n",
        "from keras.layers import *\n",
        "from keras.optimizers import *\n",
        "from keras import metrics\n",
        "import sys\n",
        "import glob\n",
        "\n",
        "from sklearn.metrics import confusion_matrix,f1_score,accuracy_score,classification_report\n",
        "# Local\n",
        "from densnet import DenseNetFCN\n",
        "from densnet_timedistributed import DenseNetFCNTimeDistributed\n",
        "\n",
        "#from metrics import fmeasure,categorical_accuracy\n",
        "import deb\n",
        "from keras_weighted_categorical_crossentropy import weighted_categorical_crossentropy, sparse_accuracy_ignoring_last_label, weighted_categorical_crossentropy_ignoring_last_label, categorical_focal_ignoring_last_label, weighted_categorical_focal_ignoring_last_label\n",
        "from keras.models import load_model\n",
        "from keras.layers import ConvLSTM2D, UpSampling2D, multiply\n",
        "from keras.utils.vis_utils import plot_model\n",
        "from keras.regularizers import l1,l2\n",
        "import time\n",
        "import pickle\n",
        "#from keras_self_attention import SeqSelfAttention\n",
        "import pdb\n",
        "import pathlib\n",
        "from pathlib import Path, PureWindowsPath\n",
        "from keras.layers import Conv3DTranspose, Conv3D\n",
        "\n",
        "from keras.callbacks import EarlyStopping\n",
        "import tensorflow as tf\n",
        "from collections import Counter\n",
        "\n",
        "\n",
        "#from datagenerator import DataGenerator\n",
        "from generator import DataGenerator, DataGeneratorWithCoords, DataGeneratorWithCoordsPatches\n",
        "\n",
        "import matplotlib.pyplot as plt\n",
        "sys.path.append('../../../dataset/dataset/patches_extract_script/')\n",
        "from dataSource import DataSource, SARSource, OpticalSource, Dataset, LEM, LEM2, CampoVerde, OpticalSourceWithClouds, Humidity\n",
        "from model_input_mode import MIMFixed, MIMVarLabel, MIMVarSeqLabel, MIMVarLabel_PaddedSeq, MIMFixedLabelAllLabels, MIMFixed_PaddedSeq\n",
        "from parameters.parameters_reader import ParamsTrain\n",
        "\n",
        "from icecream import ic\n",
        "from monitor import Monitor, MonitorNPY, MonitorGenerator, MonitorNPYAndGenerator\n",
        "import natsort\n",
        "from model import NetModel, ModelFit, ModelLoadGenerator, ModelLoadGeneratorDebug, ModelLoadGeneratorWithCoords, ModelLoadEachBatch\n",
        "from dataset import Dataset, DatasetWithCoords\n",
        "\n",
        "from patch_extractor import PatchExtractor\n",
        "ic.configureOutput(includeContext=False)\n",
        "np.random.seed(2021)\n",
        "tf.set_random_seed(2021)\n",
        "\n",
        "from main import TrainTest"
      ],
      "execution_count": null,
      "outputs": [
        {
          "output_type": "stream",
          "text": [
            "Using TensorFlow backend.\n"
          ],
          "name": "stderr"
        },
        {
          "output_type": "stream",
          "text": [
            "['parameters_openset_specifyunknownclasses.json', 'parameters_openset_lessclass8.json', 'no_mode.json', 'twokkc_parameters_closedset_groupclasses.json', 'twokkc_parameters_openset.json', 'allkkc_parameters_openset.json', 'cv', 'parameters_closedset_groupclasses_lessclass8.json', 'save_nonaugmented_train_patches_lessclass8.json', 'parameters_reader.py', 'parameters_openset.json', '__pycache__', 'parameters_closedset_groupclasses.json', 'twokkc_save_nonaugmented_train_patches.json', 'save_nonaugmented_train_patches_unknownclasses.json', 'allkkc_save_nonaugmented_train_patches.json', 'save_nonaugmented_train_patches.json', '__init__.py']\n"
          ],
          "name": "stdout"
        },
        {
          "output_type": "stream",
          "text": [
            "ic| self.seq_date: 'jun'\n"
          ],
          "name": "stderr"
        },
        {
          "output_type": "stream",
          "text": [
            "self.known_classes [1, 2, 6, 8]\n",
            "[@debug] paramsTrain.seq_mode = fixed\n",
            "[@debug] paramsTrain.mim = <model_input_mode.MIMFixed_PaddedSeq object at 0x7f80c6e93b50>\n"
          ],
          "name": "stdout"
        }
      ]
    },
    {
      "cell_type": "code",
      "metadata": {
        "id": "uIs_yF23Psa_",
        "colab": {
          "base_uri": "https://localhost:8080/"
        },
        "outputId": "6395e54f-7294-4631-a859-f5c26735fd39"
      },
      "source": [
        "!nvidia-smi"
      ],
      "execution_count": null,
      "outputs": [
        {
          "output_type": "stream",
          "text": [
            "Tue Jul 20 19:41:21 2021       \n",
            "+-----------------------------------------------------------------------------+\n",
            "| NVIDIA-SMI 470.42.01    Driver Version: 460.32.03    CUDA Version: 11.2     |\n",
            "|-------------------------------+----------------------+----------------------+\n",
            "| GPU  Name        Persistence-M| Bus-Id        Disp.A | Volatile Uncorr. ECC |\n",
            "| Fan  Temp  Perf  Pwr:Usage/Cap|         Memory-Usage | GPU-Util  Compute M. |\n",
            "|                               |                      |               MIG M. |\n",
            "|===============================+======================+======================|\n",
            "|   0  Tesla P100-PCIE...  Off  | 00000000:00:04.0 Off |                    0 |\n",
            "| N/A   42C    P0    29W / 250W |      0MiB / 16280MiB |      0%      Default |\n",
            "|                               |                      |                  N/A |\n",
            "+-------------------------------+----------------------+----------------------+\n",
            "                                                                               \n",
            "+-----------------------------------------------------------------------------+\n",
            "| Processes:                                                                  |\n",
            "|  GPU   GI   CI        PID   Type   Process name                  GPU Memory |\n",
            "|        ID   ID                                                   Usage      |\n",
            "|=============================================================================|\n",
            "|  No running processes found                                                 |\n",
            "+-----------------------------------------------------------------------------+\n"
          ],
          "name": "stdout"
        }
      ]
    },
    {
      "cell_type": "markdown",
      "metadata": {
        "id": "3ODvyAOie5NU"
      },
      "source": [
        "## Set parameters\n",
        "\n",
        "Parameters can be modified in /content/FCN_ConvLSTM_Crop_Recognition_Open_Set/networks/convlstm_networks/train_src/parameters/parameters_reader.py"
      ]
    },
    {
      "cell_type": "code",
      "metadata": {
        "id": "On6HSUJwDsCU",
        "colab": {
          "base_uri": "https://localhost:8080/"
        },
        "outputId": "98177b36-8a8a-44cd-f980-66d63f56ae91"
      },
      "source": [
        "\n",
        "\n",
        "paramsTrain = ParamsTrain('parameters/')\n",
        "paramsTrain.mim = MIMFixed_PaddedSeq()\n",
        "\n",
        "paramsTrain.getFullIms = True\n",
        "paramsTrain.coordsExtract = True\n",
        "paramsTrain.train = True\n",
        "\n",
        "paramsTrain.dataSource = SARSource()\n",
        "\n",
        "trainTest = TrainTest(paramsTrain)\n",
        "\n",
        "patchExtractor = PatchExtractor(paramsTrain, trainTest.ds)\t\n",
        "\n"
      ],
      "execution_count": null,
      "outputs": [
        {
          "output_type": "stream",
          "text": [
            "['parameters_openset_specifyunknownclasses.json', 'parameters_openset_lessclass8.json', 'no_mode.json', 'twokkc_parameters_closedset_groupclasses.json', 'twokkc_parameters_openset.json', 'allkkc_parameters_openset.json', 'cv', 'parameters_closedset_groupclasses_lessclass8.json', 'save_nonaugmented_train_patches_lessclass8.json', 'parameters_reader.py', 'parameters_openset.json', '__pycache__', 'parameters_closedset_groupclasses.json', 'twokkc_save_nonaugmented_train_patches.json', 'save_nonaugmented_train_patches_unknownclasses.json', 'allkkc_save_nonaugmented_train_patches.json', 'save_nonaugmented_train_patches.json', '__init__.py']\n"
          ],
          "name": "stdout"
        },
        {
          "output_type": "stream",
          "text": [
            "ic| self.seq_date: 'jun'\n"
          ],
          "name": "stderr"
        },
        {
          "output_type": "stream",
          "text": [
            "self.known_classes [1, 2, 6, 8]\n",
            "[@debug] self.ds = <dataSource.CampoVerde object at 0x7f80c10a6a90>\n",
            "20151029\n",
            "20151110\n",
            "20151122\n",
            "20151204\n",
            "20151216\n",
            "20160121\n",
            "20160214\n",
            "20160309\n",
            "20160321\n",
            "20160508\n",
            "20160520\n",
            "20160613\n",
            "dotys_sin_cos.shape (12, 2)\n",
            "[302, 314, 326, 338, 350, 21, 45, 69, 81, 129, 141, 165]\n",
            "[[0.05084 0.7197 ]\n",
            " [0.1053  0.807  ]\n",
            " [0.1764  0.8813 ]\n",
            " [0.2612  0.9395 ]\n",
            " [0.3562  0.979  ]\n",
            " [0.6685  0.9707 ]\n",
            " [0.843   0.8643 ]\n",
            " [0.96    0.6963 ]\n",
            " [0.99    0.598  ]\n",
            " [0.905   0.2068 ]\n",
            " [0.8364  0.1301 ]\n",
            " [0.66    0.02637]]\n"
          ],
          "name": "stdout"
        },
        {
          "output_type": "stream",
          "text": [
            "ic| self.dataSource: <dataSource.SARSource object at 0x7f80c10a6a50>\n",
            "ic| self.conf['path']/self.label_folder/\"/\": PosixPath('/')\n",
            "ic| self.conf[\"in_npy_path\"]: PosixPath('../../../dataset/dataset/cv_data/in_sar')\n",
            "ic| self.conf[\"train\"][\"mask\"][\"dir\"]: PosixPath('../../../dataset/dataset/cv_data/TrainTestMask.tif')\n",
            "ic| os.getcwd(): '/content/FCN_ConvLSTM_Crop_Recognition_Open_Set/networks/convlstm_networks/train_src'\n"
          ],
          "name": "stderr"
        }
      ]
    },
    {
      "cell_type": "markdown",
      "metadata": {
        "id": "eqA-z0Ju9-xO"
      },
      "source": [
        "## Download or load sequence of images\n"
      ]
    },
    {
      "cell_type": "code",
      "metadata": {
        "id": "8BaFQV6M9yKS",
        "colab": {
          "base_uri": "https://localhost:8080/"
        },
        "outputId": "27a0d66a-cf8c-4ac5-a3fc-61fd4a452a43"
      },
      "source": [
        "if paramsTrain.getFullIms == True:\n",
        "  patchExtractor.getFullIms()\t\n",
        "else:\n",
        "  patchExtractor.fullImsLoad()\n"
      ],
      "execution_count": null,
      "outputs": [
        {
          "output_type": "stream",
          "text": [
            "ic| patch[\"full_ims\"].shape: (12, 8492, 7995, 2)\n",
            "ic| self.dataset.im_list: ['20151029_S1',\n",
            "                           '20151110_S1',\n",
            "                           '20151122_S1',\n",
            "                           '20151204_S1',\n",
            "                           '20151216_S1',\n",
            "                           '20160121_S1',\n",
            "                           '20160214_S1',\n",
            "                           '20160309_S1',\n",
            "                           '20160321_S1',\n",
            "                           '20160508_S1',\n",
            "                           '20160520_S1',\n",
            "                           '20160613_S1']\n"
          ],
          "name": "stderr"
        },
        {
          "output_type": "stream",
          "text": [
            "0 0\n",
            "[@debug] conf[\"in_npy_path\"]/(im_names[t_step]+\".npy\") = ../../../dataset/dataset/cv_data/in_sar/20151029_S1.npy\n",
            "[@debug] patch[\"full_ims\"].dtype = float16\n",
            "[@debug] np.average(patch[\"full_ims\"][t_step]) = 0.1871337890625\n",
            "[@debug] np.max(patch[\"full_ims\"][t_step]) = 1.0\n",
            "[@debug] np.min(patch[\"full_ims\"][t_step]) = 4.172325134277344e-07\n",
            "../../../dataset/dataset/cv_data/labels/20151029_S1.tif\n",
            "[@debug] conf[\"path\"]/(self.dataSource.label_folder+\"/\"+label_names[t_step]+\".tif\") = ../../../dataset/dataset/cv_data/labels/20151029_S1.tif\n",
            "[@debug] np.unique(patch[\"full_label_ims\"][t_step],return_counts=True) = (array([ 0,  1,  2,  6,  7,  8,  9, 10, 11], dtype=int8), array([61778564,    45178,    51808,   131138,   438371,   155189,\n",
            "        5136068,     1007,   156217]))\n",
            "1 0\n",
            "[@debug] conf[\"in_npy_path\"]/(im_names[t_step]+\".npy\") = ../../../dataset/dataset/cv_data/in_sar/20151110_S1.npy\n",
            "[@debug] patch[\"full_ims\"].dtype = float16\n",
            "[@debug] np.average(patch[\"full_ims\"][t_step]) = 0.180419921875\n",
            "[@debug] np.max(patch[\"full_ims\"][t_step]) = 1.9267578125\n",
            "[@debug] np.min(patch[\"full_ims\"][t_step]) = 2.384185791015625e-07\n",
            "../../../dataset/dataset/cv_data/labels/20151110_S1.tif\n",
            "[@debug] conf[\"path\"]/(self.dataSource.label_folder+\"/\"+label_names[t_step]+\".tif\") = ../../../dataset/dataset/cv_data/labels/20151110_S1.tif\n",
            "[@debug] np.unique(patch[\"full_label_ims\"][t_step],return_counts=True) = (array([ 0,  1,  2,  5,  6,  7,  8,  9, 10, 11], dtype=int8), array([61778564,  1524080,    27056,    11783,   432952,   419824,\n",
            "         155189,  3386868,     1007,   156217]))\n",
            "2 0\n",
            "[@debug] conf[\"in_npy_path\"]/(im_names[t_step]+\".npy\") = ../../../dataset/dataset/cv_data/in_sar/20151122_S1.npy\n",
            "[@debug] patch[\"full_ims\"].dtype = float16\n",
            "[@debug] np.average(patch[\"full_ims\"][t_step]) = 0.1802978515625\n",
            "[@debug] np.max(patch[\"full_ims\"][t_step]) = 1.7099609375\n",
            "[@debug] np.min(patch[\"full_ims\"][t_step]) = 2.384185791015625e-07\n",
            "../../../dataset/dataset/cv_data/labels/20151122_S1.tif\n",
            "[@debug] conf[\"path\"]/(self.dataSource.label_folder+\"/\"+label_names[t_step]+\".tif\") = ../../../dataset/dataset/cv_data/labels/20151122_S1.tif\n",
            "[@debug] np.unique(patch[\"full_label_ims\"][t_step],return_counts=True) = (array([ 0,  1,  2,  5,  6,  7,  8,  9, 10, 11], dtype=int8), array([61778564,  1524080,    27056,    11783,   432952,   419824,\n",
            "         155189,  3386868,     1007,   156217]))\n",
            "3 0\n",
            "[@debug] conf[\"in_npy_path\"]/(im_names[t_step]+\".npy\") = ../../../dataset/dataset/cv_data/in_sar/20151204_S1.npy\n",
            "[@debug] patch[\"full_ims\"].dtype = float16\n",
            "[@debug] np.average(patch[\"full_ims\"][t_step]) = 0.1793212890625\n",
            "[@debug] np.max(patch[\"full_ims\"][t_step]) = 3.447265625\n",
            "[@debug] np.min(patch[\"full_ims\"][t_step]) = 1.1920928955078125e-07\n",
            "../../../dataset/dataset/cv_data/labels/20151204_S1.tif\n",
            "[@debug] conf[\"path\"]/(self.dataSource.label_folder+\"/\"+label_names[t_step]+\".tif\") = ../../../dataset/dataset/cv_data/labels/20151204_S1.tif\n",
            "[@debug] np.unique(patch[\"full_label_ims\"][t_step],return_counts=True) = (array([ 0,  1,  2,  3,  4,  5,  6,  7,  8,  9, 10, 11], dtype=int8), array([61778564,  4496663,    35095,    18211,     2197,    11783,\n",
            "         366875,   419824,   155189,   451915,     1007,   156217]))\n",
            "4 0\n",
            "[@debug] conf[\"in_npy_path\"]/(im_names[t_step]+\".npy\") = ../../../dataset/dataset/cv_data/in_sar/20151216_S1.npy\n",
            "[@debug] patch[\"full_ims\"].dtype = float16\n",
            "[@debug] np.average(patch[\"full_ims\"][t_step]) = 0.1737060546875\n",
            "[@debug] np.max(patch[\"full_ims\"][t_step]) = 1.373046875\n",
            "[@debug] np.min(patch[\"full_ims\"][t_step]) = 1.7881393432617188e-07\n",
            "../../../dataset/dataset/cv_data/labels/20151216_S1.tif\n",
            "[@debug] conf[\"path\"]/(self.dataSource.label_folder+\"/\"+label_names[t_step]+\".tif\") = ../../../dataset/dataset/cv_data/labels/20151216_S1.tif\n",
            "[@debug] np.unique(patch[\"full_label_ims\"][t_step],return_counts=True) = (array([ 0,  1,  2,  3,  4,  5,  6,  7,  8,  9, 10, 11], dtype=int8), array([61778564,  4496663,    35095,    18211,     2197,    11783,\n",
            "         366875,   419824,   155189,   451915,     1007,   156217]))\n",
            "5 0\n",
            "[@debug] conf[\"in_npy_path\"]/(im_names[t_step]+\".npy\") = ../../../dataset/dataset/cv_data/in_sar/20160121_S1.npy\n",
            "[@debug] patch[\"full_ims\"].dtype = float16\n",
            "[@debug] np.average(patch[\"full_ims\"][t_step]) = 0.159912109375\n",
            "[@debug] np.max(patch[\"full_ims\"][t_step]) = 138.0\n",
            "[@debug] np.min(patch[\"full_ims\"][t_step]) = 3.2186508178710938e-06\n",
            "../../../dataset/dataset/cv_data/labels/20160121_S1.tif\n",
            "[@debug] conf[\"path\"]/(self.dataSource.label_folder+\"/\"+label_names[t_step]+\".tif\") = ../../../dataset/dataset/cv_data/labels/20160121_S1.tif\n",
            "[@debug] np.unique(patch[\"full_label_ims\"][t_step],return_counts=True) = (array([ 0,  1,  2,  3,  4,  6,  7,  8,  9, 10, 11], dtype=int8), array([61778564,  2956904,     8039,    18211,     2197,     8859,\n",
            "         419824,   155189,  2388529,     1007,   156217]))\n",
            "6 0\n",
            "[@debug] conf[\"in_npy_path\"]/(im_names[t_step]+\".npy\") = ../../../dataset/dataset/cv_data/in_sar/20160214_S1.npy\n",
            "[@debug] patch[\"full_ims\"].dtype = float16\n",
            "[@debug] np.average(patch[\"full_ims\"][t_step]) = 0.171630859375\n",
            "[@debug] np.max(patch[\"full_ims\"][t_step]) = 1.4169921875\n",
            "[@debug] np.min(patch[\"full_ims\"][t_step]) = 7.748603820800781e-07\n",
            "../../../dataset/dataset/cv_data/labels/20160214_S1.tif\n",
            "[@debug] conf[\"path\"]/(self.dataSource.label_folder+\"/\"+label_names[t_step]+\".tif\") = ../../../dataset/dataset/cv_data/labels/20160214_S1.tif\n",
            "[@debug] np.unique(patch[\"full_label_ims\"][t_step],return_counts=True) = (array([ 0,  1,  2,  3,  4,  6,  7,  8,  9, 10, 11], dtype=int8), array([61778564,  2183414,     8039,   116684,     2197,     8006,\n",
            "         419824,   155189,  3064399,     1007,   156217]))\n",
            "7 0\n",
            "[@debug] conf[\"in_npy_path\"]/(im_names[t_step]+\".npy\") = ../../../dataset/dataset/cv_data/in_sar/20160309_S1.npy\n",
            "[@debug] patch[\"full_ims\"].dtype = float16\n",
            "[@debug] np.average(patch[\"full_ims\"][t_step]) = 0.188232421875\n",
            "[@debug] np.max(patch[\"full_ims\"][t_step]) = 2.869140625\n",
            "[@debug] np.min(patch[\"full_ims\"][t_step]) = 3.5762786865234375e-07\n",
            "../../../dataset/dataset/cv_data/labels/20160309_S1.tif\n",
            "[@debug] conf[\"path\"]/(self.dataSource.label_folder+\"/\"+label_names[t_step]+\".tif\") = ../../../dataset/dataset/cv_data/labels/20160309_S1.tif\n",
            "[@debug] np.unique(patch[\"full_label_ims\"][t_step],return_counts=True) = (array([ 0,  1,  2,  3,  4,  6,  7,  8,  9, 10, 11], dtype=int8), array([61778564,    10049,   900649,  2084968,     2197,     8006,\n",
            "         419824,   155189,  2376870,     1007,   156217]))\n",
            "8 0\n",
            "[@debug] conf[\"in_npy_path\"]/(im_names[t_step]+\".npy\") = ../../../dataset/dataset/cv_data/in_sar/20160321_S1.npy\n",
            "[@debug] patch[\"full_ims\"].dtype = float16\n",
            "[@debug] np.average(patch[\"full_ims\"][t_step]) = 0.16064453125\n",
            "[@debug] np.max(patch[\"full_ims\"][t_step]) = 3.5390625\n",
            "[@debug] np.min(patch[\"full_ims\"][t_step]) = 0.0\n",
            "../../../dataset/dataset/cv_data/labels/20160321_S1.tif\n",
            "[@debug] conf[\"path\"]/(self.dataSource.label_folder+\"/\"+label_names[t_step]+\".tif\") = ../../../dataset/dataset/cv_data/labels/20160321_S1.tif\n",
            "[@debug] np.unique(patch[\"full_label_ims\"][t_step],return_counts=True) = (array([ 0,  1,  2,  3,  4,  6,  7,  8,  9, 10, 11], dtype=int8), array([61778564,    10049,   900649,  2084968,     2197,     8006,\n",
            "         419824,   155189,  2376870,     1007,   156217]))\n",
            "9 0\n",
            "[@debug] conf[\"in_npy_path\"]/(im_names[t_step]+\".npy\") = ../../../dataset/dataset/cv_data/in_sar/20160508_S1.npy\n",
            "[@debug] patch[\"full_ims\"].dtype = float16\n",
            "[@debug] np.average(patch[\"full_ims\"][t_step]) = 0.154541015625\n",
            "[@debug] np.max(patch[\"full_ims\"][t_step]) = 1.1572265625\n",
            "[@debug] np.min(patch[\"full_ims\"][t_step]) = 0.0\n",
            "../../../dataset/dataset/cv_data/labels/20160508_S1.tif\n",
            "[@debug] conf[\"path\"]/(self.dataSource.label_folder+\"/\"+label_names[t_step]+\".tif\") = ../../../dataset/dataset/cv_data/labels/20160508_S1.tif\n",
            "[@debug] np.unique(patch[\"full_label_ims\"][t_step],return_counts=True) = (array([ 0,  2,  3,  4,  5,  6,  7,  8,  9, 10, 11], dtype=int8), array([61778564,  2187712,  2771075,    57536,     2285,   236822,\n",
            "         525054,   155189,    22079,     1007,   156217]))\n",
            "10 0\n",
            "[@debug] conf[\"in_npy_path\"]/(im_names[t_step]+\".npy\") = ../../../dataset/dataset/cv_data/in_sar/20160520_S1.npy\n",
            "[@debug] patch[\"full_ims\"].dtype = float16\n",
            "[@debug] np.average(patch[\"full_ims\"][t_step]) = 0.16552734375\n",
            "[@debug] np.max(patch[\"full_ims\"][t_step]) = 3.634765625\n",
            "[@debug] np.min(patch[\"full_ims\"][t_step]) = 0.0\n",
            "../../../dataset/dataset/cv_data/labels/20160520_S1.tif\n",
            "[@debug] conf[\"path\"]/(self.dataSource.label_folder+\"/\"+label_names[t_step]+\".tif\") = ../../../dataset/dataset/cv_data/labels/20160520_S1.tif\n",
            "[@debug] np.unique(patch[\"full_label_ims\"][t_step],return_counts=True) = (array([ 0,  2,  3,  4,  5,  6,  7,  8,  9, 10, 11], dtype=int8), array([61778564,  2187712,  2771075,    57536,     2285,   236822,\n",
            "         525054,   155189,    22079,     1007,   156217]))\n",
            "11 0\n",
            "[@debug] conf[\"in_npy_path\"]/(im_names[t_step]+\".npy\") = ../../../dataset/dataset/cv_data/in_sar/20160613_S1.npy\n",
            "[@debug] patch[\"full_ims\"].dtype = float16\n",
            "[@debug] np.average(patch[\"full_ims\"][t_step]) = 0.140380859375\n",
            "[@debug] np.max(patch[\"full_ims\"][t_step]) = 4.57421875\n",
            "[@debug] np.min(patch[\"full_ims\"][t_step]) = 0.0\n",
            "../../../dataset/dataset/cv_data/labels/20160613_S1.tif\n",
            "[@debug] conf[\"path\"]/(self.dataSource.label_folder+\"/\"+label_names[t_step]+\".tif\") = ../../../dataset/dataset/cv_data/labels/20160613_S1.tif\n",
            "[@debug] np.unique(patch[\"full_label_ims\"][t_step],return_counts=True) = (array([ 0,  2,  3,  4,  6,  7,  8,  9, 10, 11], dtype=int8), array([61778564,  1441022,  2573657,    57536,   225585,   525054,\n",
            "         155189,   979709,     1007,   156217]))\n"
          ],
          "name": "stdout"
        },
        {
          "output_type": "stream",
          "text": [
            "ic| patch[\"full_ims\"].shape: (12, 8492, 7995, 2)\n",
            "ic| patch[\"full_label_ims\"].shape: (12, 8492, 7995)\n",
            "ic| patch[\"full_ims\"].dtype: dtype('float16')\n",
            "ic| patch[\"full_label_ims\"].dtype: dtype('int8')\n"
          ],
          "name": "stderr"
        },
        {
          "output_type": "stream",
          "text": [
            "[@debug] np.unique(patch['full_label_ims'],return_counts=True) = (array([ 0,  1,  2,  3,  4,  5,  6,  7,  8,  9, 10, 11], dtype=int8), array([741342768,  17247080,   7809932,  12457060,    185790,     51702,\n",
            "         2462898,   5372125,   1862268,  24044169,     12084,   1874604]))\n",
            "0.0 1.0 0.1702\n",
            "[@debug] self.dataset.name = cv\n",
            "[@debug] self.dataset.scaler_name = cv\n",
            "[@debug] self.dataset.seq_mode = fixed\n",
            "[@debug] self.dataset.seq_date = jun\n",
            "[@debug] self.dataset.scaler_load = False\n",
            "[@debug] im.shape = (12, 8492, 7995, 2)\n",
            "[@debug] im_flat[mask_flat==1,:].shape = (38664648, 2)\n",
            "0.0001407 1.0 0.0779\n",
            "[@debug] im_norm.shape = (12, 8492, 7995, 2)\n",
            "FINISHED NORMALIZING, RESULT:\n",
            "-1.432 51.53 3.117\n",
            "[@debug] im.shape = (12, 8492, 7995)\n",
            "[@debug] mask_train.shape = (8492, 7995)\n",
            "[@debug] im.dtype = uint8\n",
            "[@debug] mask_train.dtype = uint8\n",
            "[@debug] im_train.shape = (12, 8492, 7995)\n",
            "Train masked unique/count [ 0  1  2  3  4  5  6  7  8  9 10 11] [776057832   9399025   4170646   6930141    103494     34628   1280237\n",
            "   2371008    861648  12705225      8388    800208]\n",
            "Test masked unique/count [ 0  1  2  3  4  5  6  7  8  9 10 11] [780007416   7848055   3639286   5526919     82296     17074   1182661\n",
            "   3001117   1000620  11338944      3696   1074396]\n"
          ],
          "name": "stdout"
        },
        {
          "output_type": "stream",
          "text": [
            "ic| self.paramsTrain.path / 'full_ims/full_ims_test.npy': PosixPath('../../../dataset/dataset/cv_data/full_ims/full_ims_test.npy')\n"
          ],
          "name": "stderr"
        }
      ]
    },
    {
      "cell_type": "markdown",
      "metadata": {
        "id": "R5FPmIpS-Hqu"
      },
      "source": [
        "## Extract coords of image patches"
      ]
    },
    {
      "cell_type": "code",
      "metadata": {
        "id": "2XzJoNO896wl",
        "colab": {
          "base_uri": "https://localhost:8080/"
        },
        "outputId": "c8c4f175-108b-4b16-9aa1-f774e62af758"
      },
      "source": [
        "\n",
        "if paramsTrain.coordsExtract == True:\n",
        "  patchExtractor.extract()\n",
        "\n",
        "del patchExtractor\n",
        "\n"
      ],
      "execution_count": null,
      "outputs": [
        {
          "output_type": "stream",
          "text": [
            "STARTED PATCH EXTRACTION\n",
            "[@debug] gridx.shape = (250,)\n",
            "[@debug] gridy.shape = (266,)\n"
          ],
          "name": "stdout"
        },
        {
          "output_type": "stream",
          "text": [
            "ic| coords_train.shape: (4983, 2), coords_test.shape: (4626, 2)\n",
            "ic| coords_train.dtype: dtype('int64')\n",
            "ic| coords_train[0]: array([7568,  656])\n"
          ],
          "name": "stderr"
        }
      ]
    },
    {
      "cell_type": "markdown",
      "metadata": {
        "id": "2fhs6GZ4qFMx"
      },
      "source": [
        "## Train and evaluate\n"
      ]
    },
    {
      "cell_type": "code",
      "metadata": {
        "id": "TZztSJXG977M",
        "colab": {
          "base_uri": "https://localhost:8080/",
          "height": 1000
        },
        "outputId": "44a07e14-bd62-402b-91da-af2bbff11fca"
      },
      "source": [
        "\n",
        "model_name_id = 'model_best_' + paramsTrain.model_type + '_' + \\\n",
        "    paramsTrain.seq_date + '_' + paramsTrain.dataset + '_' + \\\n",
        "    paramsTrain.model_name + '.h5'\n",
        "\n",
        "\n",
        "trainTest.setData()\n",
        "trainTest.setModel()\n",
        "\n",
        "trainTest.preprocess() # move into if\n",
        "if paramsTrain.train == True:\n",
        "  trainTest.train()\n",
        "else:\n",
        "  trainTest.modelLoad(model_name_id)\n",
        "\n"
      ],
      "execution_count": null,
      "outputs": [
        {
          "output_type": "stream",
          "text": [
            "ic| self.model_name: 'model_best_UUnet4ConvLSTM_jun_cv_nomode.h5'\n"
          ],
          "name": "stderr"
        },
        {
          "output_type": "stream",
          "text": [
            "Initializing object...\n",
            "12 2\n",
            "[@debug] self.channel_n = 2\n",
            "[@debug] self.t_len = 12\n",
            "Initializing Dataset instance\n"
          ],
          "name": "stdout"
        },
        {
          "output_type": "stream",
          "text": [
            "ic| os.path.dirname(os.path.abspath(__file__)): '/content/FCN_ConvLSTM_Crop_Recognition_Open_Set/networks/convlstm_networks/train_src'\n",
            "ic| os.getcwd(): '/content/FCN_ConvLSTM_Crop_Recognition_Open_Set/networks/convlstm_networks/train_src'\n",
            "ic| self.patches['train']['coords'].shape: (4983, 2)\n",
            "ic| np.unique(self.full_label_train, return_counts=True): (array([ 0,  2,  3,  4,  6,  7,  8,  9, 10, 11], dtype=uint8),\n",
            "                                                           array([64671486,   710232,  1374508,    31550,   136800,   212701,\n",
            "                                                                    71804,   617076,      699,    66684]))\n",
            "ic| np.unique(self.full_label_test, return_counts=True): (array([ 0,  2,  3,  4,  6,  7,  8,  9, 10, 11], dtype=uint8),\n",
            "                                                          array([65000618,   730790,  1199149,    25986,    88785,   312353,\n",
            "                                                                   83385,   362633,      308,    89533]))\n",
            "ic| self.paramsTrain.known_classes: array([ 1,  2,  3,  5,  6,  7,  8,  9, 10], dtype=uint8)\n",
            "ic| np.unique(self.full_label_train, return_counts=True): (array([ 0,  2,  3,  4,  6,  7,  8,  9, 10, 11], dtype=uint8),\n",
            "                                                           array([64671486,   710232,  1374508,    31550,   136800,   212701,\n",
            "                                                                    71804,   617076,      699,    66684]))\n",
            "ic| self.classes: array([ 0,  2,  3,  4,  6,  7,  8,  9, 10, 11], dtype=uint8)\n"
          ],
          "name": "stderr"
        },
        {
          "output_type": "stream",
          "text": [
            "[@debug] np.unique(self.full_label_train, return_counts=True) = (array([ 0,  2,  3,  4,  6,  7,  8,  9, 10, 11], dtype=uint8), array([64671486,   710232,  1374508,    31550,   136800,   212701,\n",
            "          71804,   617076,      699,    66684]))\n"
          ],
          "name": "stdout"
        },
        {
          "output_type": "stream",
          "text": [
            "ic| self.labels2new_labels: {0: 0, 2: 1, 3: 2, 4: 3, 6: 4, 7: 5, 8: 6, 9: 7, 10: 8, 11: 9}\n",
            "    self.new_labels2labels: {0: 0, 1: 2, 2: 3, 3: 4, 4: 6, 5: 7, 6: 8, 7: 9, 8: 10, 9: 11}\n"
          ],
          "name": "stderr"
        },
        {
          "output_type": "stream",
          "text": [
            "Transforming labels2new_labels...\n",
            "Transformed labels2new_labels. Moving bcknd to last...\n",
            "[@debug] dict_filename = new_labels2labels_cv_20160613_S1.pkl\n",
            "[@debug] self.new_labels2labels = {0: 0, 1: 2, 2: 3, 3: 4, 4: 6, 5: 7, 6: 8, 7: 9, 8: 10, 9: 11}\n"
          ],
          "name": "stdout"
        },
        {
          "output_type": "stream",
          "text": [
            "ic| np.unique(self.full_label_train, return_counts=True): (array([0, 1, 2, 3, 4, 5, 6, 7, 8, 9], dtype=uint8),\n",
            "                                                           array([64671486,   710232,  1374508,    31550,   136800,   212701,\n",
            "                                                                    71804,   617076,      699,    66684]))\n"
          ],
          "name": "stderr"
        },
        {
          "output_type": "stream",
          "text": [
            "Moved bcknd to last\n"
          ],
          "name": "stdout"
        },
        {
          "output_type": "stream",
          "text": [
            "ic| np.unique(self.full_label_train, return_counts=True): (array([0, 1, 2, 3, 4, 5, 6, 7, 8, 9], dtype=uint8),\n",
            "                                                           array([  710232,  1374508,    31550,   136800,   212701,    71804,\n",
            "                                                                   617076,      699,    66684, 64671486]))\n",
            "ic| np.unique(self.full_label_test, return_counts=True): (array([0, 1, 2, 3, 4, 5, 6, 7, 8, 9], dtype=uint8),\n",
            "                                                          array([  730790,  1199149,    25986,    88785,   312353,    83385,\n",
            "                                                                  362633,      308,    89533, 65000618]))\n",
            "ic| self.class_n: 10\n",
            "ic| self.patches['train']['label'].shape: (4983, 32, 32)\n",
            "ic| np.unique(self.patches['train']['label'], return_counts = True): (array([0, 1, 2, 3, 4, 5, 6, 7, 8, 9]),\n",
            "                                                                      array([ 710232, 1374508,   31550,  136800,  212701,   71804,  617076,\n",
            "                                                                                699,   66684, 1880538]))\n",
            "ic| self.patches['test']['label'].shape: (4626, 32, 32)\n",
            "ic| np.unique(self.patches['test']['label'], return_counts = True): (array([0, 1, 2, 3, 4, 5, 6, 7, 8, 9]),\n",
            "                                                                     array([ 730790, 1199149,   25986,   88785,  312353,   83385,  362633,\n",
            "                                                                               308,   89533, 1844102]))\n",
            "ic| self.paramsTrain.class_n: 10\n"
          ],
          "name": "stderr"
        },
        {
          "output_type": "stream",
          "text": [
            "WARNING:tensorflow:From /tensorflow-1.15.2/python3.7/tensorflow_core/python/ops/resource_variable_ops.py:1630: calling BaseResourceVariable.__init__ (from tensorflow.python.ops.resource_variable_ops) with constraint is deprecated and will be removed in a future version.\n",
            "Instructions for updating:\n",
            "If using Keras pass *_constraint arguments to layers.\n",
            "Initializing object...\n",
            "12 2\n",
            "[@debug] self.channel_n = 2\n",
            "[@debug] self.t_len = 12\n",
            "Initializing Model instance\n",
            "[@debug] self.mp = {'dense': {'recurrent_filters': 128, 'nb_dense_block': 2, 'growth_rate': 64, 'nb_layers_per_block': 1}, 'unet': {'recurrent_filters': 128, 'filter_size': 16}, 'atrous': {'recurrent_filters': 128, 'filter_size': 16, 'dilation_rate_mode': 'auto', 'dilation_rates': [1, 2, 4, 8]}}\n",
            "[@debug] self.stop_epoch = 400\n",
            "[@debug] data.class_n = 10\n",
            "[@debug] self.t_len = 12\n",
            "[@debug] self.model_t_len = 12\n",
            "WARNING:tensorflow:From /tensorflow-1.15.2/python3.7/keras/backend/tensorflow_backend.py:4074: The name tf.nn.avg_pool is deprecated. Please use tf.nn.avg_pool2d instead.\n",
            "\n",
            "[@debug] output_shape = (None, 8, 8, 64)\n",
            "[@debug] K.int_shape(x) = (None, 12, 8, 8, 64)\n",
            "[@debug] K.int_shape(res2) = (None, 8, 8, 64)\n",
            "[@debug] K.int_shape(p3) = (None, 8, 8, 64)\n",
            "[@debug] K.int_shape(d3) = (None, 8, 8, 64)\n",
            "[@debug] output_shape = (None, 16, 16, 32)\n",
            "[@debug] K.int_shape(x) = (None, 12, 16, 16, 32)\n",
            "[@debug] K.int_shape(res2) = (None, 16, 16, 32)\n",
            "[@debug] K.int_shape(p2) = (None, 16, 16, 32)\n",
            "[@debug] K.int_shape(d2) = (None, 16, 16, 32)\n",
            "[@debug] output_shape = (None, 32, 32, 16)\n",
            "[@debug] K.int_shape(x) = (None, 12, 32, 32, 16)\n",
            "[@debug] K.int_shape(res2) = (None, 32, 32, 16)\n",
            "[@debug] K.int_shape(p1) = (None, 32, 32, 16)\n",
            "[@debug] K.int_shape(d1) = (None, 32, 32, 16)\n",
            "Model: \"model_1\"\n",
            "__________________________________________________________________________________________________\n",
            "Layer (type)                    Output Shape         Param #     Connected to                     \n",
            "==================================================================================================\n",
            "input_1 (InputLayer)            (None, 12, 32, 32, 2 0                                            \n",
            "__________________________________________________________________________________________________\n",
            "time_distributed_1 (TimeDistrib (None, 12, 32, 32, 1 304         input_1[0][0]                    \n",
            "__________________________________________________________________________________________________\n",
            "batch_normalization_1 (BatchNor (None, 12, 32, 32, 1 64          time_distributed_1[0][0]         \n",
            "__________________________________________________________________________________________________\n",
            "activation_1 (Activation)       (None, 12, 32, 32, 1 0           batch_normalization_1[0][0]      \n",
            "__________________________________________________________________________________________________\n",
            "time_distributed_2 (TimeDistrib (None, 12, 32, 32, 1 2320        activation_1[0][0]               \n",
            "__________________________________________________________________________________________________\n",
            "batch_normalization_2 (BatchNor (None, 12, 32, 32, 1 64          time_distributed_2[0][0]         \n",
            "__________________________________________________________________________________________________\n",
            "activation_2 (Activation)       (None, 12, 32, 32, 1 0           batch_normalization_2[0][0]      \n",
            "__________________________________________________________________________________________________\n",
            "time_distributed_3 (TimeDistrib (None, 12, 16, 16, 1 0           activation_2[0][0]               \n",
            "__________________________________________________________________________________________________\n",
            "time_distributed_4 (TimeDistrib (None, 12, 16, 16, 3 4640        time_distributed_3[0][0]         \n",
            "__________________________________________________________________________________________________\n",
            "batch_normalization_3 (BatchNor (None, 12, 16, 16, 3 128         time_distributed_4[0][0]         \n",
            "__________________________________________________________________________________________________\n",
            "activation_3 (Activation)       (None, 12, 16, 16, 3 0           batch_normalization_3[0][0]      \n",
            "__________________________________________________________________________________________________\n",
            "time_distributed_5 (TimeDistrib (None, 12, 8, 8, 32) 0           activation_3[0][0]               \n",
            "__________________________________________________________________________________________________\n",
            "time_distributed_6 (TimeDistrib (None, 12, 8, 8, 64) 18496       time_distributed_5[0][0]         \n",
            "__________________________________________________________________________________________________\n",
            "batch_normalization_4 (BatchNor (None, 12, 8, 8, 64) 256         time_distributed_6[0][0]         \n",
            "__________________________________________________________________________________________________\n",
            "activation_4 (Activation)       (None, 12, 8, 8, 64) 0           batch_normalization_4[0][0]      \n",
            "__________________________________________________________________________________________________\n",
            "time_distributed_7 (TimeDistrib (None, 12, 4, 4, 64) 0           activation_4[0][0]               \n",
            "__________________________________________________________________________________________________\n",
            "conv_lst_m2d_1 (ConvLSTM2D)     (None, 4, 4, 256)    2950144     time_distributed_7[0][0]         \n",
            "__________________________________________________________________________________________________\n",
            "conv2d_transpose_1 (Conv2DTrans (None, 8, 8, 64)     147520      conv_lst_m2d_1[0][0]             \n",
            "__________________________________________________________________________________________________\n",
            "batch_normalization_5 (BatchNor (None, 8, 8, 64)     256         conv2d_transpose_1[0][0]         \n",
            "__________________________________________________________________________________________________\n",
            "activation_5 (Activation)       (None, 8, 8, 64)     0           batch_normalization_5[0][0]      \n",
            "__________________________________________________________________________________________________\n",
            "lambda_1 (Lambda)               (None, 8, 8, 64)     0           activation_4[0][0]               \n",
            "__________________________________________________________________________________________________\n",
            "concatenate_1 (Concatenate)     (None, 8, 8, 128)    0           activation_5[0][0]               \n",
            "                                                                 lambda_1[0][0]                   \n",
            "__________________________________________________________________________________________________\n",
            "conv2d_5 (Conv2D)               (None, 8, 8, 64)     73792       concatenate_1[0][0]              \n",
            "__________________________________________________________________________________________________\n",
            "batch_normalization_6 (BatchNor (None, 8, 8, 64)     256         conv2d_5[0][0]                   \n",
            "__________________________________________________________________________________________________\n",
            "activation_6 (Activation)       (None, 8, 8, 64)     0           batch_normalization_6[0][0]      \n",
            "__________________________________________________________________________________________________\n",
            "conv2d_transpose_2 (Conv2DTrans (None, 16, 16, 32)   18464       activation_6[0][0]               \n",
            "__________________________________________________________________________________________________\n",
            "batch_normalization_7 (BatchNor (None, 16, 16, 32)   128         conv2d_transpose_2[0][0]         \n",
            "__________________________________________________________________________________________________\n",
            "activation_7 (Activation)       (None, 16, 16, 32)   0           batch_normalization_7[0][0]      \n",
            "__________________________________________________________________________________________________\n",
            "lambda_2 (Lambda)               (None, 16, 16, 32)   0           activation_3[0][0]               \n",
            "__________________________________________________________________________________________________\n",
            "concatenate_2 (Concatenate)     (None, 16, 16, 64)   0           activation_7[0][0]               \n",
            "                                                                 lambda_2[0][0]                   \n",
            "__________________________________________________________________________________________________\n",
            "conv2d_6 (Conv2D)               (None, 16, 16, 32)   18464       concatenate_2[0][0]              \n",
            "__________________________________________________________________________________________________\n",
            "batch_normalization_8 (BatchNor (None, 16, 16, 32)   128         conv2d_6[0][0]                   \n",
            "__________________________________________________________________________________________________\n",
            "activation_8 (Activation)       (None, 16, 16, 32)   0           batch_normalization_8[0][0]      \n",
            "__________________________________________________________________________________________________\n",
            "conv2d_transpose_3 (Conv2DTrans (None, 32, 32, 16)   4624        activation_8[0][0]               \n",
            "__________________________________________________________________________________________________\n",
            "batch_normalization_9 (BatchNor (None, 32, 32, 16)   64          conv2d_transpose_3[0][0]         \n",
            "__________________________________________________________________________________________________\n",
            "activation_9 (Activation)       (None, 32, 32, 16)   0           batch_normalization_9[0][0]      \n",
            "__________________________________________________________________________________________________\n",
            "lambda_3 (Lambda)               (None, 32, 32, 16)   0           activation_2[0][0]               \n",
            "__________________________________________________________________________________________________\n",
            "concatenate_3 (Concatenate)     (None, 32, 32, 32)   0           activation_9[0][0]               \n",
            "                                                                 lambda_3[0][0]                   \n",
            "__________________________________________________________________________________________________\n",
            "conv2d_7 (Conv2D)               (None, 32, 32, 16)   4624        concatenate_3[0][0]              \n",
            "__________________________________________________________________________________________________\n",
            "batch_normalization_10 (BatchNo (None, 32, 32, 16)   64          conv2d_7[0][0]                   \n",
            "__________________________________________________________________________________________________\n",
            "activation_10 (Activation)      (None, 32, 32, 16)   0           batch_normalization_10[0][0]     \n",
            "__________________________________________________________________________________________________\n",
            "conv2d_8 (Conv2D)               (None, 32, 32, 9)    153         activation_10[0][0]              \n",
            "==================================================================================================\n",
            "Total params: 3,244,953\n",
            "Trainable params: 3,244,249\n",
            "Non-trainable params: 704\n",
            "__________________________________________________________________________________________________\n",
            "None\n",
            "Model: \"model_1\"\n",
            "_____________________________________________________________________________________________________________________________\n",
            "Layer (type)                             Output Shape               Param #        Connected to                              \n",
            "=============================================================================================================================\n",
            "input_1 (InputLayer)                     (None, 12, 32, 32, 2)      0                                                        \n",
            "_____________________________________________________________________________________________________________________________\n",
            "time_distributed_1 (TimeDistributed)     (None, 12, 32, 32, 16)     304            input_1[0][0]                             \n",
            "_____________________________________________________________________________________________________________________________\n",
            "batch_normalization_1 (BatchNormalizatio (None, 12, 32, 32, 16)     64             time_distributed_1[0][0]                  \n",
            "_____________________________________________________________________________________________________________________________\n",
            "activation_1 (Activation)                (None, 12, 32, 32, 16)     0              batch_normalization_1[0][0]               \n",
            "_____________________________________________________________________________________________________________________________\n",
            "time_distributed_2 (TimeDistributed)     (None, 12, 32, 32, 16)     2320           activation_1[0][0]                        \n",
            "_____________________________________________________________________________________________________________________________\n",
            "batch_normalization_2 (BatchNormalizatio (None, 12, 32, 32, 16)     64             time_distributed_2[0][0]                  \n",
            "_____________________________________________________________________________________________________________________________\n",
            "activation_2 (Activation)                (None, 12, 32, 32, 16)     0              batch_normalization_2[0][0]               \n",
            "_____________________________________________________________________________________________________________________________\n",
            "time_distributed_3 (TimeDistributed)     (None, 12, 16, 16, 16)     0              activation_2[0][0]                        \n",
            "_____________________________________________________________________________________________________________________________\n",
            "time_distributed_4 (TimeDistributed)     (None, 12, 16, 16, 32)     4640           time_distributed_3[0][0]                  \n",
            "_____________________________________________________________________________________________________________________________\n",
            "batch_normalization_3 (BatchNormalizatio (None, 12, 16, 16, 32)     128            time_distributed_4[0][0]                  \n",
            "_____________________________________________________________________________________________________________________________\n",
            "activation_3 (Activation)                (None, 12, 16, 16, 32)     0              batch_normalization_3[0][0]               \n",
            "_____________________________________________________________________________________________________________________________\n",
            "time_distributed_5 (TimeDistributed)     (None, 12, 8, 8, 32)       0              activation_3[0][0]                        \n",
            "_____________________________________________________________________________________________________________________________\n",
            "time_distributed_6 (TimeDistributed)     (None, 12, 8, 8, 64)       18496          time_distributed_5[0][0]                  \n",
            "_____________________________________________________________________________________________________________________________\n",
            "batch_normalization_4 (BatchNormalizatio (None, 12, 8, 8, 64)       256            time_distributed_6[0][0]                  \n",
            "_____________________________________________________________________________________________________________________________\n",
            "activation_4 (Activation)                (None, 12, 8, 8, 64)       0              batch_normalization_4[0][0]               \n",
            "_____________________________________________________________________________________________________________________________\n",
            "time_distributed_7 (TimeDistributed)     (None, 12, 4, 4, 64)       0              activation_4[0][0]                        \n",
            "_____________________________________________________________________________________________________________________________\n",
            "conv_lst_m2d_1 (ConvLSTM2D)              (None, 4, 4, 256)          2950144        time_distributed_7[0][0]                  \n",
            "_____________________________________________________________________________________________________________________________\n",
            "conv2d_transpose_1 (Conv2DTranspose)     (None, 8, 8, 64)           147520         conv_lst_m2d_1[0][0]                      \n",
            "_____________________________________________________________________________________________________________________________\n",
            "batch_normalization_5 (BatchNormalizatio (None, 8, 8, 64)           256            conv2d_transpose_1[0][0]                  \n",
            "_____________________________________________________________________________________________________________________________\n",
            "activation_5 (Activation)                (None, 8, 8, 64)           0              batch_normalization_5[0][0]               \n",
            "_____________________________________________________________________________________________________________________________\n",
            "lambda_1 (Lambda)                        (None, 8, 8, 64)           0              activation_4[0][0]                        \n",
            "_____________________________________________________________________________________________________________________________\n",
            "concatenate_1 (Concatenate)              (None, 8, 8, 128)          0              activation_5[0][0]                        \n",
            "                                                                                   lambda_1[0][0]                            \n",
            "_____________________________________________________________________________________________________________________________\n",
            "conv2d_5 (Conv2D)                        (None, 8, 8, 64)           73792          concatenate_1[0][0]                       \n",
            "_____________________________________________________________________________________________________________________________\n",
            "batch_normalization_6 (BatchNormalizatio (None, 8, 8, 64)           256            conv2d_5[0][0]                            \n",
            "_____________________________________________________________________________________________________________________________\n",
            "activation_6 (Activation)                (None, 8, 8, 64)           0              batch_normalization_6[0][0]               \n",
            "_____________________________________________________________________________________________________________________________\n",
            "conv2d_transpose_2 (Conv2DTranspose)     (None, 16, 16, 32)         18464          activation_6[0][0]                        \n",
            "_____________________________________________________________________________________________________________________________\n",
            "batch_normalization_7 (BatchNormalizatio (None, 16, 16, 32)         128            conv2d_transpose_2[0][0]                  \n",
            "_____________________________________________________________________________________________________________________________\n",
            "activation_7 (Activation)                (None, 16, 16, 32)         0              batch_normalization_7[0][0]               \n",
            "_____________________________________________________________________________________________________________________________\n",
            "lambda_2 (Lambda)                        (None, 16, 16, 32)         0              activation_3[0][0]                        \n",
            "_____________________________________________________________________________________________________________________________\n",
            "concatenate_2 (Concatenate)              (None, 16, 16, 64)         0              activation_7[0][0]                        \n",
            "                                                                                   lambda_2[0][0]                            \n",
            "_____________________________________________________________________________________________________________________________\n",
            "conv2d_6 (Conv2D)                        (None, 16, 16, 32)         18464          concatenate_2[0][0]                       \n",
            "_____________________________________________________________________________________________________________________________\n",
            "batch_normalization_8 (BatchNormalizatio (None, 16, 16, 32)         128            conv2d_6[0][0]                            \n",
            "_____________________________________________________________________________________________________________________________\n",
            "activation_8 (Activation)                (None, 16, 16, 32)         0              batch_normalization_8[0][0]               \n",
            "_____________________________________________________________________________________________________________________________\n",
            "conv2d_transpose_3 (Conv2DTranspose)     (None, 32, 32, 16)         4624           activation_8[0][0]                        \n",
            "_____________________________________________________________________________________________________________________________\n",
            "batch_normalization_9 (BatchNormalizatio (None, 32, 32, 16)         64             conv2d_transpose_3[0][0]                  \n",
            "_____________________________________________________________________________________________________________________________\n",
            "activation_9 (Activation)                (None, 32, 32, 16)         0              batch_normalization_9[0][0]               \n",
            "_____________________________________________________________________________________________________________________________\n",
            "lambda_3 (Lambda)                        (None, 32, 32, 16)         0              activation_2[0][0]                        \n",
            "_____________________________________________________________________________________________________________________________\n",
            "concatenate_3 (Concatenate)              (None, 32, 32, 32)         0              activation_9[0][0]                        \n",
            "                                                                                   lambda_3[0][0]                            \n",
            "_____________________________________________________________________________________________________________________________\n",
            "conv2d_7 (Conv2D)                        (None, 32, 32, 16)         4624           concatenate_3[0][0]                       \n",
            "_____________________________________________________________________________________________________________________________\n",
            "batch_normalization_10 (BatchNormalizati (None, 32, 32, 16)         64             conv2d_7[0][0]                            \n",
            "_____________________________________________________________________________________________________________________________\n",
            "activation_10 (Activation)               (None, 32, 32, 16)         0              batch_normalization_10[0][0]              \n",
            "_____________________________________________________________________________________________________________________________\n",
            "conv2d_8 (Conv2D)                        (None, 32, 32, 9)          153            activation_10[0][0]                       \n",
            "=============================================================================================================================\n",
            "Total params: 3,244,953\n",
            "Trainable params: 3,244,249\n",
            "Non-trainable params: 704\n",
            "_____________________________________________________________________________________________________________________________\n",
            "None\n",
            "=== SELECT VALIDATION SET FROM TRAIN SET\n",
            "[@debug] self.paramsTrain.val_set_mode = random\n"
          ],
          "name": "stdout"
        },
        {
          "output_type": "stream",
          "text": [
            "ic| self.patches['train']['n']: 4983, self.patches['val']['n']: 747\n",
            "ic| self.patches['train']['coords'].shape: (4236, 2)\n",
            "ic| self.patches['val']['coords'].shape: (747, 2)\n"
          ],
          "name": "stderr"
        },
        {
          "output_type": "stream",
          "text": [
            "=== AUGMENTING TRAINING DATA\n",
            "[@debug] label_type = Nto1\n",
            "Before balancing:\n",
            "data.semantic_balance\n"
          ],
          "name": "stdout"
        },
        {
          "output_type": "stream",
          "text": [
            "ic| balance[\"coords\"].shape: (6300, 2)\n",
            "ic| np.unique(self.full_label_train, return_counts = True): (array([0, 1, 2, 3, 4, 5, 6, 7, 8, 9], dtype=uint8),\n",
            "                                                             array([  710232,  1374508,    31550,   136800,   212701,    71804,\n",
            "                                                                     617076,      699,    66684, 64671486]))\n",
            "ic| coords_classes.shape: (4236, 10)\n",
            "ic| unique_train: array([0, 1, 2, 3, 4, 5, 6, 7, 8, 9], dtype=uint8)\n",
            "ic| bcknd_idx: 9\n",
            "ic| psize: 32\n",
            "ic| patch_count: array([1058., 1847.,   51.,  187.,  365.,  118.,  867.,    6.,  119.,\n",
            "                           0.])\n",
            "ic| patch_count[clss]: 1058.0\n",
            "ic| clss: 0\n",
            "ic| idxs.shape: (4236,), idxs.dtype: dtype('bool')\n",
            "ic| np.unique(idxs, return_counts = True): (array([False,  True]), array([3178, 1058]))\n",
            "ic| balance[\"class_coords\"].shape: (1058, 2)\n",
            "ic| samples_per_class: 700\n"
          ],
          "name": "stderr"
        },
        {
          "output_type": "stream",
          "text": [
            "[@debug] clss = 0\n"
          ],
          "name": "stdout"
        },
        {
          "output_type": "stream",
          "text": [
            "ic| patch_count[clss]: 1847.0\n",
            "ic| clss: 1\n",
            "ic| idxs.shape: (4236,), idxs.dtype: dtype('bool')\n",
            "ic| np.unique(idxs, return_counts = True): (array([False,  True]), array([2389, 1847]))\n",
            "ic| balance[\"class_coords\"].shape: (1847, 2)\n",
            "ic| samples_per_class: 700\n"
          ],
          "name": "stderr"
        },
        {
          "output_type": "stream",
          "text": [
            "[@debug] clss = 1\n"
          ],
          "name": "stdout"
        },
        {
          "output_type": "stream",
          "text": [
            "ic| patch_count[clss]: 51.0\n",
            "ic| clss: 2\n",
            "ic| idxs.shape: (4236,), idxs.dtype: dtype('bool')\n",
            "ic| np.unique(idxs, return_counts = True): (array([False,  True]), array([4185,   51]))\n",
            "ic| balance[\"class_coords\"].shape: (51, 2)\n",
            "ic| samples_per_class: 700\n"
          ],
          "name": "stderr"
        },
        {
          "output_type": "stream",
          "text": [
            "[@debug] clss = 2\n"
          ],
          "name": "stdout"
        },
        {
          "output_type": "stream",
          "text": [
            "ic| patch_count[clss]: 187.0\n",
            "ic| clss: 3\n",
            "ic| idxs.shape: (4236,), idxs.dtype: dtype('bool')\n",
            "ic| np.unique(idxs, return_counts = True): (array([False,  True]), array([4049,  187]))\n",
            "ic| balance[\"class_coords\"].shape: (187, 2)\n",
            "ic| samples_per_class: 700\n"
          ],
          "name": "stderr"
        },
        {
          "output_type": "stream",
          "text": [
            "[@debug] clss = 3\n"
          ],
          "name": "stdout"
        },
        {
          "output_type": "stream",
          "text": [
            "ic| patch_count[clss]: 365.0\n",
            "ic| clss: 4\n",
            "ic| idxs.shape: (4236,), idxs.dtype: dtype('bool')\n",
            "ic| np.unique(idxs, return_counts = True): (array([False,  True]), array([3871,  365]))\n",
            "ic| balance[\"class_coords\"].shape: (365, 2)\n",
            "ic| samples_per_class: 700\n"
          ],
          "name": "stderr"
        },
        {
          "output_type": "stream",
          "text": [
            "[@debug] clss = 4\n"
          ],
          "name": "stdout"
        },
        {
          "output_type": "stream",
          "text": [
            "ic| patch_count[clss]: 118.0\n",
            "ic| clss: 5\n",
            "ic| idxs.shape: (4236,), idxs.dtype: dtype('bool')\n",
            "ic| np.unique(idxs, return_counts = True): (array([False,  True]), array([4118,  118]))\n",
            "ic| balance[\"class_coords\"].shape: (118, 2)\n",
            "ic| samples_per_class: 700\n"
          ],
          "name": "stderr"
        },
        {
          "output_type": "stream",
          "text": [
            "[@debug] clss = 5\n"
          ],
          "name": "stdout"
        },
        {
          "output_type": "stream",
          "text": [
            "ic| patch_count[clss]: 867.0\n",
            "ic| clss: 6\n",
            "ic| idxs.shape: (4236,), idxs.dtype: dtype('bool')\n",
            "ic| np.unique(idxs, return_counts = True): (array([False,  True]), array([3369,  867]))\n",
            "ic| balance[\"class_coords\"].shape: (867, 2)\n",
            "ic| samples_per_class: 700\n"
          ],
          "name": "stderr"
        },
        {
          "output_type": "stream",
          "text": [
            "[@debug] clss = 6\n"
          ],
          "name": "stdout"
        },
        {
          "output_type": "stream",
          "text": [
            "ic| patch_count[clss]: 6.0\n",
            "ic| clss: 7\n",
            "ic| idxs.shape: (4236,), idxs.dtype: dtype('bool')\n",
            "ic| np.unique(idxs, return_counts = True): (array([False,  True]), array([4230,    6]))\n",
            "ic| balance[\"class_coords\"].shape: (6, 2)\n",
            "ic| samples_per_class: 700\n"
          ],
          "name": "stderr"
        },
        {
          "output_type": "stream",
          "text": [
            "[@debug] clss = 7\n"
          ],
          "name": "stdout"
        },
        {
          "output_type": "stream",
          "text": [
            "ic| patch_count[clss]: 119.0\n",
            "ic| clss: 8\n",
            "ic| idxs.shape: (4236,), idxs.dtype: dtype('bool')\n",
            "ic| np.unique(idxs, return_counts = True): (array([False,  True]), array([4117,  119]))\n",
            "ic| balance[\"class_coords\"].shape: (119, 2)\n",
            "ic| samples_per_class: 700\n"
          ],
          "name": "stderr"
        },
        {
          "output_type": "stream",
          "text": [
            "[@debug] clss = 8\n",
            "Balanced train unique (coords):\n",
            "[@debug] self.patches['train']['coords'].shape = (6300, 2)\n",
            "[@debug] data.patches['train']['coords'].shape = (6300, 2)\n",
            "WARNING:tensorflow:From /content/FCN_ConvLSTM_Crop_Recognition_Open_Set/networks/convlstm_networks/train_src/keras_weighted_categorical_crossentropy.py:89: to_int32 (from tensorflow.python.ops.math_ops) is deprecated and will be removed in a future version.\n",
            "Instructions for updating:\n",
            "Use `tf.cast` instead.\n"
          ],
          "name": "stdout"
        },
        {
          "output_type": "stream",
          "text": [
            "ic| data.patches['train']['coords'].shape: (6300, 2)\n",
            "ic| data.t_len: 12\n",
            "ic| data.full_ims_train.shape: (12, 8492, 7995, 2)\n",
            "ic| self.model_t_len: 12\n",
            "ic| im.shape: (12, 8492, 7995, 2)\n",
            "ic| data.full_ims_train.shape: (12, 8492, 7995, 2)\n",
            "ic| self.class_n: 9\n",
            "ic| data.patches['train']['coords'].shape: (6300, 2)\n",
            "ic| data.patches['train']['coords'][0:16]: array([[5712, 1456],\n",
            "                                                  [5744, 1456],\n",
            "                                                  [1232, 5392],\n",
            "                                                  [7376,  912],\n",
            "                                                  [4848, 4720],\n",
            "                                                  [1232, 5488],\n",
            "                                                  [4080, 7472],\n",
            "                                                  [6768, 1136],\n",
            "                                                  [6000, 1424],\n",
            "                                                  [1104, 3536],\n",
            "                                                  [3952, 6416],\n",
            "                                                  [2960, 2192],\n",
            "                                                  [4528, 3536],\n",
            "                                                  [6672, 1456],\n",
            "                                                  [5680, 1456],\n",
            "                                                  [5712, 1488]])\n",
            "ic| data.patches['val']['coords'][0:16]: array([[3984, 2448],\n",
            "                                                [ 624, 5776],\n",
            "                                                [2416, 3216],\n",
            "                                                [1392, 6000],\n",
            "                                                [3952, 6544],\n",
            "                                                [1328, 6032],\n",
            "                                                [4752, 6096],\n",
            "                                                [3952, 7184],\n",
            "                                                [3952, 6352],\n",
            "                                                [4688, 5840],\n",
            "                                                [4400, 5648],\n",
            "                                                [1232, 3664],\n",
            "                                                [4400, 6192],\n",
            "                                                [4560, 3984],\n",
            "                                                [4048, 6896],\n",
            "                                                [7184, 1872]])\n",
            "ic| self.batch_size: 16\n",
            "ic| self.patch_size: 32\n",
            "ic| self.batch_size: 16\n",
            "ic| self.patch_size: 32\n",
            "ic| data.patches['val']['coords'].shape: (747, 2)\n",
            "ic| data.patches['val']['coords']: array([[3984, 2448],\n",
            "                                          [ 624, 5776],\n",
            "                                          [2416, 3216],\n",
            "                                          ...,\n",
            "                                          [4400, 2320],\n",
            "                                          [4848, 4112],\n",
            "                                          [4592, 5968]])\n",
            "ic| n_batches: 46\n"
          ],
          "name": "stderr"
        },
        {
          "output_type": "stream",
          "text": [
            "WARNING:tensorflow:From /tensorflow-1.15.2/python3.7/tensorflow_core/python/ops/math_grad.py:1375: where (from tensorflow.python.ops.array_ops) is deprecated and will be removed in a future version.\n",
            "Instructions for updating:\n",
            "Use tf.where in 2.0, which has the same broadcast rule as np.where\n",
            "WARNING:tensorflow:From /tensorflow-1.15.2/python3.7/keras/backend/tensorflow_backend.py:422: The name tf.global_variables is deprecated. Please use tf.compat.v1.global_variables instead.\n",
            "\n"
          ],
          "name": "stdout"
        },
        {
          "output_type": "stream",
          "text": [
            "ic| n_batches: 393\n",
            "ic| n_batches: 46\n",
            "icic||  n_batchesn_batches: :393 \n",
            "46\n"
          ],
          "name": "stderr"
        },
        {
          "output_type": "stream",
          "text": [
            "Epoch 1/70\n",
            "392/393 [============================>.] - ETA: 0s - loss: 0.2232 - accuracy: 0.1470"
          ],
          "name": "stdout"
        },
        {
          "output_type": "stream",
          "text": [
            "ic| n_batches: 393\n"
          ],
          "name": "stderr"
        },
        {
          "output_type": "stream",
          "text": [
            "393/393 [==============================] - 37s 95ms/step - loss: 0.2231 - accuracy: 0.1473 - val_loss: 0.1889 - val_accuracy: 0.2324\n"
          ],
          "name": "stdout"
        },
        {
          "output_type": "stream",
          "text": [
            "ic| n_batches: 46\n",
            "ic| n_batches: 46\n",
            "/usr/local/lib/python3.7/dist-packages/sklearn/metrics/_classification.py:1272: UndefinedMetricWarning: Recall is ill-defined and being set to 0.0 in labels with no true samples. Use `zero_division` parameter to control this behavior.\n",
            "  _warn_prf(average, modifier, msg_start, len(result))\n"
          ],
          "name": "stderr"
        },
        {
          "output_type": "stream",
          "text": [
            " — val_f1: [60.65 84.09  6.86 39.33  9.7  69.18 64.05  0.   35.98]\n",
            " — val_precision: [55.57 89.6   4.72 35.04 73.1  72.08 69.95  0.   24.18]\n",
            " — val_recall: [66.75 79.21 12.53 44.81  5.19 66.51 59.07  0.   70.25]\n",
            " — mean_f1: 41.093333333333334\n",
            "oa 64.09\n",
            "Found best weights at epoch 1\n"
          ],
          "name": "stdout"
        },
        {
          "output_type": "stream",
          "text": [
            "ic| n_batches: 393\n"
          ],
          "name": "stderr"
        },
        {
          "output_type": "stream",
          "text": [
            "Epoch 2/70\n",
            "392/393 [============================>.] - ETA: 0s - loss: 0.1670 - accuracy: 0.2227"
          ],
          "name": "stdout"
        },
        {
          "output_type": "stream",
          "text": [
            "ic| n_batches: 393\n"
          ],
          "name": "stderr"
        },
        {
          "output_type": "stream",
          "text": [
            "393/393 [==============================] - 29s 74ms/step - loss: 0.1670 - accuracy: 0.2228 - val_loss: 0.1158 - val_accuracy: 0.2229\n"
          ],
          "name": "stdout"
        },
        {
          "output_type": "stream",
          "text": [
            "ic| n_batches: 46\n",
            "ic| n_batches: 46\n"
          ],
          "name": "stderr"
        },
        {
          "output_type": "stream",
          "text": [
            " — val_f1: [70.1  89.52  1.6  61.66 25.18 82.35 72.63  0.   35.64]\n",
            " — val_precision: [64.94 88.69  5.57 67.56 69.02 73.27 77.72  0.   22.58]\n",
            " — val_recall: [76.15 90.36  0.93 56.71 15.4  94.01 68.16  0.   84.51]\n",
            " — mean_f1: 48.74222222222222\n",
            "oa 74.52\n",
            "Found best weights at epoch 2\n"
          ],
          "name": "stdout"
        },
        {
          "output_type": "stream",
          "text": [
            "ic| n_batches: 393\n"
          ],
          "name": "stderr"
        },
        {
          "output_type": "stream",
          "text": [
            "Epoch 3/70\n",
            "392/393 [============================>.] - ETA: 0s - loss: 0.1362 - accuracy: 0.1763"
          ],
          "name": "stdout"
        },
        {
          "output_type": "stream",
          "text": [
            "ic| n_batches: 393\n"
          ],
          "name": "stderr"
        },
        {
          "output_type": "stream",
          "text": [
            "393/393 [==============================] - 30s 76ms/step - loss: 0.1362 - accuracy: 0.1765 - val_loss: 0.0942 - val_accuracy: 0.2184\n"
          ],
          "name": "stdout"
        },
        {
          "output_type": "stream",
          "text": [
            "ic| n_batches: 46\n",
            "ic| n_batches: 46\n"
          ],
          "name": "stderr"
        },
        {
          "output_type": "stream",
          "text": [
            " — val_f1: [73.86 90.04 21.42 69.09 64.6  92.36 74.49  0.   56.62]\n",
            " — val_precision: [69.04 89.09 26.75 74.33 73.37 91.06 81.67  0.   40.44]\n",
            " — val_recall: [79.4  91.02 17.86 64.54 57.7  93.69 68.47  0.   94.41]\n",
            " — mean_f1: 60.275555555555556\n",
            "oa 78.98\n",
            "Found best weights at epoch 3\n"
          ],
          "name": "stdout"
        },
        {
          "output_type": "stream",
          "text": [
            "ic| n_batches: 393\n"
          ],
          "name": "stderr"
        },
        {
          "output_type": "stream",
          "text": [
            "Epoch 4/70\n",
            "392/393 [============================>.] - ETA: 0s - loss: 0.1119 - accuracy: 0.1531"
          ],
          "name": "stdout"
        },
        {
          "output_type": "stream",
          "text": [
            "ic| n_batches: 393\n"
          ],
          "name": "stderr"
        },
        {
          "output_type": "stream",
          "text": [
            "393/393 [==============================] - 29s 74ms/step - loss: 0.1119 - accuracy: 0.1530 - val_loss: 0.0932 - val_accuracy: 0.1838\n"
          ],
          "name": "stdout"
        },
        {
          "output_type": "stream",
          "text": [
            "ic| n_batches: 46\n",
            "ic| n_batches: 46\n"
          ],
          "name": "stderr"
        },
        {
          "output_type": "stream",
          "text": [
            " — val_f1: [76.6  90.21 58.94 79.59 72.48 90.71 75.69  0.   62.2 ]\n",
            " — val_precision: [78.69 89.11 47.63 71.27 79.26 88.54 82.46  0.   47.25]\n",
            " — val_recall: [74.61 91.34 77.28 90.11 66.78 92.99 69.96  0.   90.99]\n",
            " — mean_f1: 67.38000000000001\n",
            "oa 81.45\n",
            "Found best weights at epoch 4\n"
          ],
          "name": "stdout"
        },
        {
          "output_type": "stream",
          "text": [
            "ic| n_batches: 393\n"
          ],
          "name": "stderr"
        },
        {
          "output_type": "stream",
          "text": [
            "Epoch 5/70\n",
            "392/393 [============================>.] - ETA: 0s - loss: 0.0934 - accuracy: 0.1463"
          ],
          "name": "stdout"
        },
        {
          "output_type": "stream",
          "text": [
            "ic| n_batches: 393\n"
          ],
          "name": "stderr"
        },
        {
          "output_type": "stream",
          "text": [
            "393/393 [==============================] - 30s 77ms/step - loss: 0.0933 - accuracy: 0.1462 - val_loss: 0.0762 - val_accuracy: 0.1949\n"
          ],
          "name": "stdout"
        },
        {
          "output_type": "stream",
          "text": [
            "ic| n_batches: 46\n",
            "ic| n_batches: 46\n"
          ],
          "name": "stderr"
        },
        {
          "output_type": "stream",
          "text": [
            " — val_f1: [81.05 90.54 64.44 85.48 79.55 93.75 78.75  0.   69.16]\n",
            " — val_precision: [80.49 89.23 51.33 82.64 80.14 92.73 87.65  0.   55.34]\n",
            " — val_recall: [81.61 91.9  86.53 88.51 78.96 94.78 71.49  0.   92.19]\n",
            " — mean_f1: 71.41333333333333\n",
            "oa 84.28\n",
            "Found best weights at epoch 5\n"
          ],
          "name": "stdout"
        },
        {
          "output_type": "stream",
          "text": [
            "ic| n_batches: 393\n"
          ],
          "name": "stderr"
        },
        {
          "output_type": "stream",
          "text": [
            "Epoch 6/70\n",
            "392/393 [============================>.] - ETA: 0s - loss: 0.0786 - accuracy: 0.1462"
          ],
          "name": "stdout"
        },
        {
          "output_type": "stream",
          "text": [
            "ic| n_batches: 393\n"
          ],
          "name": "stderr"
        },
        {
          "output_type": "stream",
          "text": [
            "393/393 [==============================] - 29s 75ms/step - loss: 0.0786 - accuracy: 0.1461 - val_loss: 0.0574 - val_accuracy: 0.1903\n"
          ],
          "name": "stdout"
        },
        {
          "output_type": "stream",
          "text": [
            "ic| n_batches: 46\n",
            "ic| n_batches: 46\n"
          ],
          "name": "stderr"
        },
        {
          "output_type": "stream",
          "text": [
            " — val_f1: [81.76 90.98 67.95 86.01 86.33 94.72 80.04  0.   81.72]\n",
            " — val_precision: [82.33 89.78 55.7  80.73 84.35 93.87 87.13  0.   73.49]\n",
            " — val_recall: [81.19 92.22 87.09 92.02 88.4  95.57 74.01  0.   92.02]\n",
            " — mean_f1: 74.39000000000001\n",
            "oa 85.7\n",
            "Found best weights at epoch 6\n"
          ],
          "name": "stdout"
        },
        {
          "output_type": "stream",
          "text": [
            "ic| n_batches: 393\n"
          ],
          "name": "stderr"
        },
        {
          "output_type": "stream",
          "text": [
            "Epoch 7/70\n",
            "392/393 [============================>.] - ETA: 0s - loss: 0.0672 - accuracy: 0.1496"
          ],
          "name": "stdout"
        },
        {
          "output_type": "stream",
          "text": [
            "ic| n_batches: 393\n"
          ],
          "name": "stderr"
        },
        {
          "output_type": "stream",
          "text": [
            "393/393 [==============================] - 30s 76ms/step - loss: 0.0672 - accuracy: 0.1495 - val_loss: 0.0544 - val_accuracy: 0.1838\n"
          ],
          "name": "stdout"
        },
        {
          "output_type": "stream",
          "text": [
            "ic| n_batches: 46\n",
            "ic| n_batches: 46\n"
          ],
          "name": "stderr"
        },
        {
          "output_type": "stream",
          "text": [
            " — val_f1: [84.28 91.56 73.78 88.52 88.13 94.87 82.92  0.   84.59]\n",
            " — val_precision: [86.59 91.79 62.7  84.38 86.01 94.75 84.35  0.   77.38]\n",
            " — val_recall: [82.09 91.32 89.62 93.09 90.37 94.99 81.54  0.   93.3 ]\n",
            " — mean_f1: 76.51666666666667\n",
            "oa 87.43\n",
            "Found best weights at epoch 7\n"
          ],
          "name": "stdout"
        },
        {
          "output_type": "stream",
          "text": [
            "ic| n_batches: 393\n"
          ],
          "name": "stderr"
        },
        {
          "output_type": "stream",
          "text": [
            "Epoch 8/70\n",
            "392/393 [============================>.] - ETA: 0s - loss: 0.0596 - accuracy: 0.1482"
          ],
          "name": "stdout"
        },
        {
          "output_type": "stream",
          "text": [
            "ic| n_batches: 393\n"
          ],
          "name": "stderr"
        },
        {
          "output_type": "stream",
          "text": [
            "393/393 [==============================] - 29s 75ms/step - loss: 0.0596 - accuracy: 0.1481 - val_loss: 0.0482 - val_accuracy: 0.1795\n"
          ],
          "name": "stdout"
        },
        {
          "output_type": "stream",
          "text": [
            "ic| n_batches: 46\n",
            "ic| n_batches: 46\n"
          ],
          "name": "stderr"
        },
        {
          "output_type": "stream",
          "text": [
            " — val_f1: [84.71 91.35 77.55 86.52 89.13 96.02 84.75  0.   84.24]\n",
            " — val_precision: [87.87 94.83 67.71 79.32 86.62 96.26 81.79  0.   75.32]\n",
            " — val_recall: [81.76 88.11 90.74 95.15 91.79 95.77 87.93  0.   95.55]\n",
            " — mean_f1: 77.14111111111112\n",
            "oa 87.8\n",
            "Found best weights at epoch 8\n"
          ],
          "name": "stdout"
        },
        {
          "output_type": "stream",
          "text": [
            "ic| n_batches: 393\n"
          ],
          "name": "stderr"
        },
        {
          "output_type": "stream",
          "text": [
            "Epoch 9/70\n",
            "392/393 [============================>.] - ETA: 0s - loss: 0.0530 - accuracy: 0.1485"
          ],
          "name": "stdout"
        },
        {
          "output_type": "stream",
          "text": [
            "ic| n_batches: 393\n",
            "ic| n_batches: 46\n"
          ],
          "name": "stderr"
        },
        {
          "output_type": "stream",
          "text": [
            "393/393 [==============================] - 30s 76ms/step - loss: 0.0530 - accuracy: 0.1484 - val_loss: 0.0483 - val_accuracy: 0.1738\n"
          ],
          "name": "stdout"
        },
        {
          "output_type": "stream",
          "text": [
            "ic| n_batches: 46\n"
          ],
          "name": "stderr"
        },
        {
          "output_type": "stream",
          "text": [
            " — val_f1: [85.15 89.88 80.04 87.91 88.73 95.85 83.77  0.   83.64]\n",
            " — val_precision: [89.1  96.65 70.85 81.29 85.91 96.62 76.63  0.   75.49]\n",
            " — val_recall: [81.52 83.99 91.97 95.69 91.74 95.09 92.37  0.   93.75]\n",
            " — mean_f1: 77.21888888888888\n",
            "oa 87.11\n",
            "Found best weights at epoch 9\n"
          ],
          "name": "stdout"
        },
        {
          "output_type": "stream",
          "text": [
            "ic| n_batches: 393\n"
          ],
          "name": "stderr"
        },
        {
          "output_type": "stream",
          "text": [
            "Epoch 10/70\n",
            "392/393 [============================>.] - ETA: 0s - loss: 0.0487 - accuracy: 0.1499"
          ],
          "name": "stdout"
        },
        {
          "output_type": "stream",
          "text": [
            "ic| n_batches: 393\n"
          ],
          "name": "stderr"
        },
        {
          "output_type": "stream",
          "text": [
            "393/393 [==============================] - 30s 77ms/step - loss: 0.0487 - accuracy: 0.1497 - val_loss: 0.0449 - val_accuracy: 0.1801\n"
          ],
          "name": "stdout"
        },
        {
          "output_type": "stream",
          "text": [
            "ic| n_batches: 46\n",
            "ic| n_batches: 46\n"
          ],
          "name": "stderr"
        },
        {
          "output_type": "stream",
          "text": [
            " — val_f1: [86.57 89.91 79.48 89.66 90.25 96.51 83.94  0.   92.07]\n",
            " — val_precision: [90.33 97.68 70.59 84.13 86.16 97.12 75.72  0.   89.14]\n",
            " — val_recall: [83.12 83.29 90.93 95.97 94.75 95.91 94.15  0.   95.2 ]\n",
            " — mean_f1: 78.70999999999998\n",
            "oa 87.78\n",
            "Found best weights at epoch 10\n"
          ],
          "name": "stdout"
        },
        {
          "output_type": "stream",
          "text": [
            "ic| n_batches: 393\n"
          ],
          "name": "stderr"
        },
        {
          "output_type": "stream",
          "text": [
            "Epoch 11/70\n",
            "392/393 [============================>.] - ETA: 0s - loss: 0.0441 - accuracy: 0.1518"
          ],
          "name": "stdout"
        },
        {
          "output_type": "stream",
          "text": [
            "ic| n_batches: 393\n"
          ],
          "name": "stderr"
        },
        {
          "output_type": "stream",
          "text": [
            "393/393 [==============================] - 29s 75ms/step - loss: 0.0441 - accuracy: 0.1514 - val_loss: 0.0415 - val_accuracy: 0.1829\n"
          ],
          "name": "stdout"
        },
        {
          "output_type": "stream",
          "text": [
            "ic| n_batches: 46\n",
            "ic| n_batches: 46\n"
          ],
          "name": "stderr"
        },
        {
          "output_type": "stream",
          "text": [
            " — val_f1: [87.86 94.39 75.35 89.12 90.02 96.38 90.67  0.   89.04]\n",
            " — val_precision: [90.56 97.13 64.05 82.84 85.71 98.31 88.84  0.   85.24]\n",
            " — val_recall: [85.31 91.8  91.49 96.42 94.78 94.53 92.57  0.   93.2 ]\n",
            " — mean_f1: 79.20333333333332\n",
            "oa 91.22\n",
            "Found best weights at epoch 11\n"
          ],
          "name": "stdout"
        },
        {
          "output_type": "stream",
          "text": [
            "ic| n_batches: 393\n"
          ],
          "name": "stderr"
        },
        {
          "output_type": "stream",
          "text": [
            "Epoch 12/70\n",
            "392/393 [============================>.] - ETA: 0s - loss: 0.0418 - accuracy: 0.1517"
          ],
          "name": "stdout"
        },
        {
          "output_type": "stream",
          "text": [
            "ic| n_batches: 393\n"
          ],
          "name": "stderr"
        },
        {
          "output_type": "stream",
          "text": [
            "393/393 [==============================] - 30s 76ms/step - loss: 0.0418 - accuracy: 0.1515 - val_loss: 0.0426 - val_accuracy: 0.1833\n"
          ],
          "name": "stdout"
        },
        {
          "output_type": "stream",
          "text": [
            "ic| n_batches: 46\n",
            "ic| n_batches: 46\n"
          ],
          "name": "stderr"
        },
        {
          "output_type": "stream",
          "text": [
            " — val_f1: [87.21 92.3  82.84 91.04 89.81 96.12 88.33  0.   88.38]\n",
            " — val_precision: [88.51 97.75 75.69 88.59 85.77 97.77 82.54  0.   84.09]\n",
            " — val_recall: [85.94 87.42 91.49 93.62 94.24 94.52 94.98  0.   93.13]\n",
            " — mean_f1: 79.55888888888889\n",
            "oa 89.94\n",
            "Found best weights at epoch 12\n"
          ],
          "name": "stdout"
        },
        {
          "output_type": "stream",
          "text": [
            "ic| n_batches: 393\n"
          ],
          "name": "stderr"
        },
        {
          "output_type": "stream",
          "text": [
            "Epoch 13/70\n",
            "392/393 [============================>.] - ETA: 0s - loss: 0.0404 - accuracy: 0.1524"
          ],
          "name": "stdout"
        },
        {
          "output_type": "stream",
          "text": [
            "ic| n_batches: 393\n"
          ],
          "name": "stderr"
        },
        {
          "output_type": "stream",
          "text": [
            "393/393 [==============================] - 29s 75ms/step - loss: 0.0404 - accuracy: 0.1522 - val_loss: 0.0461 - val_accuracy: 0.1794\n"
          ],
          "name": "stdout"
        },
        {
          "output_type": "stream",
          "text": [
            "ic| n_batches: 46\n",
            "ic| n_batches: 46\n"
          ],
          "name": "stderr"
        },
        {
          "output_type": "stream",
          "text": [
            " — val_f1: [87.27 92.83 83.85 86.18 90.73 96.98 88.48  0.   84.53]\n",
            " — val_precision: [90.76 97.83 75.78 77.3  89.58 97.09 83.3   0.   78.03]\n",
            " — val_recall: [84.03 88.31 93.86 97.38 91.91 96.88 94.35  0.   92.23]\n",
            " — mean_f1: 78.98333333333332\n",
            "oa 89.94\n"
          ],
          "name": "stdout"
        },
        {
          "output_type": "stream",
          "text": [
            "ic| n_batches: 393\n"
          ],
          "name": "stderr"
        },
        {
          "output_type": "stream",
          "text": [
            "Epoch 14/70\n",
            "392/393 [============================>.] - ETA: 0s - loss: 0.0370 - accuracy: 0.1541"
          ],
          "name": "stdout"
        },
        {
          "output_type": "stream",
          "text": [
            "ic| n_batches: 393\n"
          ],
          "name": "stderr"
        },
        {
          "output_type": "stream",
          "text": [
            "393/393 [==============================] - 30s 76ms/step - loss: 0.0370 - accuracy: 0.1539 - val_loss: 0.0446 - val_accuracy: 0.1820\n"
          ],
          "name": "stdout"
        },
        {
          "output_type": "stream",
          "text": [
            "ic| n_batches: 46\n",
            "ic| n_batches: 46\n"
          ],
          "name": "stderr"
        },
        {
          "output_type": "stream",
          "text": [
            " — val_f1: [87.44 87.15 82.24 89.21 90.95 95.46 81.84  0.   90.09]\n",
            " — val_precision: [90.94 97.62 73.71 82.54 88.78 95.35 71.81  0.   86.83]\n",
            " — val_recall: [84.21 78.71 93.   97.06 93.22 95.57 95.12  0.   93.59]\n",
            " — mean_f1: 78.26444444444445\n",
            "oa 86.37\n"
          ],
          "name": "stdout"
        },
        {
          "output_type": "stream",
          "text": [
            "ic| n_batches: 393\n"
          ],
          "name": "stderr"
        },
        {
          "output_type": "stream",
          "text": [
            "Epoch 15/70\n",
            "392/393 [============================>.] - ETA: 0s - loss: 0.0375 - accuracy: 0.1530"
          ],
          "name": "stdout"
        },
        {
          "output_type": "stream",
          "text": [
            "ic| n_batches: 393\n"
          ],
          "name": "stderr"
        },
        {
          "output_type": "stream",
          "text": [
            "393/393 [==============================] - 29s 75ms/step - loss: 0.0375 - accuracy: 0.1527 - val_loss: 0.0427 - val_accuracy: 0.1737\n"
          ],
          "name": "stdout"
        },
        {
          "output_type": "stream",
          "text": [
            "ic| n_batches: 46\n",
            "ic| n_batches: 46\n"
          ],
          "name": "stderr"
        },
        {
          "output_type": "stream",
          "text": [
            " — val_f1: [86.43 93.49 76.73 87.09 91.19 96.78 89.03  0.   89.81]\n",
            " — val_precision: [91.38 97.84 63.17 79.28 89.56 96.79 83.84  0.   88.48]\n",
            " — val_recall: [81.99 89.51 97.71 96.61 92.87 96.76 94.91  0.   91.19]\n",
            " — mean_f1: 78.94999999999999\n",
            "oa 90.18\n"
          ],
          "name": "stdout"
        },
        {
          "output_type": "stream",
          "text": [
            "ic| n_batches: 393\n"
          ],
          "name": "stderr"
        },
        {
          "output_type": "stream",
          "text": [
            "Epoch 16/70\n",
            "392/393 [============================>.] - ETA: 0s - loss: 0.0344 - accuracy: 0.1550"
          ],
          "name": "stdout"
        },
        {
          "output_type": "stream",
          "text": [
            "ic| n_batches: 393\n"
          ],
          "name": "stderr"
        },
        {
          "output_type": "stream",
          "text": [
            "393/393 [==============================] - 30s 76ms/step - loss: 0.0344 - accuracy: 0.1547 - val_loss: 0.0380 - val_accuracy: 0.1803\n"
          ],
          "name": "stdout"
        },
        {
          "output_type": "stream",
          "text": [
            "ic| n_batches: 46\n",
            "ic| n_batches: 46\n"
          ],
          "name": "stderr"
        },
        {
          "output_type": "stream",
          "text": [
            " — val_f1: [88.22 94.64 79.3  89.39 92.52 96.78 90.95  0.   93.51]\n",
            " — val_precision: [92.15 97.74 67.2  82.88 90.57 96.82 87.18  0.   92.33]\n",
            " — val_recall: [84.61 91.74 96.71 97.   94.57 96.75 95.06  0.   94.71]\n",
            " — mean_f1: 80.58999999999999\n",
            "oa 91.79\n",
            "Found best weights at epoch 16\n"
          ],
          "name": "stdout"
        },
        {
          "output_type": "stream",
          "text": [
            "ic| n_batches: 393\n"
          ],
          "name": "stderr"
        },
        {
          "output_type": "stream",
          "text": [
            "Epoch 17/70\n",
            "392/393 [============================>.] - ETA: 0s - loss: 0.0322 - accuracy: 0.1565"
          ],
          "name": "stdout"
        },
        {
          "output_type": "stream",
          "text": [
            "ic| n_batches: 393\n"
          ],
          "name": "stderr"
        },
        {
          "output_type": "stream",
          "text": [
            "393/393 [==============================] - 29s 75ms/step - loss: 0.0322 - accuracy: 0.1562 - val_loss: 0.0435 - val_accuracy: 0.1814\n"
          ],
          "name": "stdout"
        },
        {
          "output_type": "stream",
          "text": [
            "ic| n_batches: 46\n",
            "ic| n_batches: 46\n"
          ],
          "name": "stderr"
        },
        {
          "output_type": "stream",
          "text": [
            " — val_f1: [88.81 95.35 80.75 91.35 92.06 96.68 91.2   0.   89.78]\n",
            " — val_precision: [92.88 98.19 68.37 86.18 89.8  96.5  87.42  0.   88.  ]\n",
            " — val_recall: [85.07 92.67 98.59 97.17 94.43 96.87 95.31  0.   91.63]\n",
            " — mean_f1: 80.66444444444444\n",
            "oa 92.3\n",
            "Found best weights at epoch 17\n"
          ],
          "name": "stdout"
        },
        {
          "output_type": "stream",
          "text": [
            "ic| n_batches: 393\n"
          ],
          "name": "stderr"
        },
        {
          "output_type": "stream",
          "text": [
            "Epoch 18/70\n",
            "392/393 [============================>.] - ETA: 0s - loss: 0.0315 - accuracy: 0.1556"
          ],
          "name": "stdout"
        },
        {
          "output_type": "stream",
          "text": [
            "ic| n_batches: 393\n"
          ],
          "name": "stderr"
        },
        {
          "output_type": "stream",
          "text": [
            "393/393 [==============================] - 30s 76ms/step - loss: 0.0315 - accuracy: 0.1553 - val_loss: 0.0354 - val_accuracy: 0.1594\n"
          ],
          "name": "stdout"
        },
        {
          "output_type": "stream",
          "text": [
            "ic| n_batches: 46\n",
            "ic| n_batches: 46\n"
          ],
          "name": "stderr"
        },
        {
          "output_type": "stream",
          "text": [
            " — val_f1: [86.44 95.84 86.67 84.1  91.27 95.46 90.73  0.   90.33]\n",
            " — val_precision: [94.42 98.51 82.98 74.29 87.82 93.72 85.94  0.   90.03]\n",
            " — val_recall: [79.71 93.32 90.7  96.88 95.01 97.27 96.07  0.   90.63]\n",
            " — mean_f1: 80.09333333333333\n",
            "oa 91.53\n"
          ],
          "name": "stdout"
        },
        {
          "output_type": "stream",
          "text": [
            "ic| n_batches: 393\n"
          ],
          "name": "stderr"
        },
        {
          "output_type": "stream",
          "text": [
            "Epoch 19/70\n",
            "392/393 [============================>.] - ETA: 0s - loss: 0.0299 - accuracy: 0.1548"
          ],
          "name": "stdout"
        },
        {
          "output_type": "stream",
          "text": [
            "ic| n_batches: 393\n"
          ],
          "name": "stderr"
        },
        {
          "output_type": "stream",
          "text": [
            "393/393 [==============================] - 30s 77ms/step - loss: 0.0299 - accuracy: 0.1545 - val_loss: 0.0392 - val_accuracy: 0.1955\n"
          ],
          "name": "stdout"
        },
        {
          "output_type": "stream",
          "text": [
            "ic| n_batches: 46\n",
            "ic| n_batches: 46\n"
          ],
          "name": "stderr"
        },
        {
          "output_type": "stream",
          "text": [
            " — val_f1: [92.16 96.35 90.38 92.76 92.09 96.52 93.97  0.   91.19]\n",
            " — val_precision: [92.31 98.13 84.53 89.35 89.93 97.01 93.2   0.   88.75]\n",
            " — val_recall: [92.02 94.64 97.11 96.44 94.37 96.03 94.75  0.   93.76]\n",
            " — mean_f1: 82.82444444444445\n",
            "oa 94.29\n",
            "Found best weights at epoch 19\n"
          ],
          "name": "stdout"
        },
        {
          "output_type": "stream",
          "text": [
            "ic| n_batches: 393\n"
          ],
          "name": "stderr"
        },
        {
          "output_type": "stream",
          "text": [
            "Epoch 20/70\n",
            "392/393 [============================>.] - ETA: 0s - loss: 0.0286 - accuracy: 0.1568"
          ],
          "name": "stdout"
        },
        {
          "output_type": "stream",
          "text": [
            "ic| n_batches: 393\n"
          ],
          "name": "stderr"
        },
        {
          "output_type": "stream",
          "text": [
            "393/393 [==============================] - 30s 75ms/step - loss: 0.0286 - accuracy: 0.1565 - val_loss: 0.0381 - val_accuracy: 0.1827\n"
          ],
          "name": "stdout"
        },
        {
          "output_type": "stream",
          "text": [
            "ic| n_batches: 46\n",
            "ic| n_batches: 46\n"
          ],
          "name": "stderr"
        },
        {
          "output_type": "stream",
          "text": [
            " — val_f1: [88.29 95.25 80.61 86.65 92.11 96.72 92.92  0.   91.88]\n",
            " — val_precision: [90.76 98.03 72.75 78.73 89.17 97.28 90.46  0.   95.34]\n",
            " — val_recall: [85.95 92.63 90.39 96.34 95.25 96.17 95.5   0.   88.66]\n",
            " — mean_f1: 80.49222222222221\n",
            "oa 92.3\n"
          ],
          "name": "stdout"
        },
        {
          "output_type": "stream",
          "text": [
            "ic| n_batches: 393\n"
          ],
          "name": "stderr"
        },
        {
          "output_type": "stream",
          "text": [
            "Epoch 21/70\n",
            "392/393 [============================>.] - ETA: 0s - loss: 0.0281 - accuracy: 0.1564"
          ],
          "name": "stdout"
        },
        {
          "output_type": "stream",
          "text": [
            "ic| n_batches: 393\n"
          ],
          "name": "stderr"
        },
        {
          "output_type": "stream",
          "text": [
            "393/393 [==============================] - 30s 77ms/step - loss: 0.0281 - accuracy: 0.1561 - val_loss: 0.0396 - val_accuracy: 0.1771\n"
          ],
          "name": "stdout"
        },
        {
          "output_type": "stream",
          "text": [
            "ic| n_batches: 46\n",
            "ic| n_batches: 46\n"
          ],
          "name": "stderr"
        },
        {
          "output_type": "stream",
          "text": [
            " — val_f1: [89.5  94.59 86.19 90.48 90.82 96.11 89.98  0.   89.75]\n",
            " — val_precision: [92.82 98.45 78.09 85.61 87.67 96.27 85.22  0.   84.88]\n",
            " — val_recall: [86.41 91.02 96.16 95.92 94.21 95.95 95.29  0.   95.21]\n",
            " — mean_f1: 80.82444444444445\n",
            "oa 91.81\n"
          ],
          "name": "stdout"
        },
        {
          "output_type": "stream",
          "text": [
            "ic| n_batches: 393\n"
          ],
          "name": "stderr"
        },
        {
          "output_type": "stream",
          "text": [
            "Epoch 22/70\n",
            "392/393 [============================>.] - ETA: 0s - loss: 0.0272 - accuracy: 0.1549"
          ],
          "name": "stdout"
        },
        {
          "output_type": "stream",
          "text": [
            "ic| n_batches: 393\n"
          ],
          "name": "stderr"
        },
        {
          "output_type": "stream",
          "text": [
            "393/393 [==============================] - 29s 75ms/step - loss: 0.0272 - accuracy: 0.1546 - val_loss: 0.0331 - val_accuracy: 0.1954\n"
          ],
          "name": "stdout"
        },
        {
          "output_type": "stream",
          "text": [
            "ic| n_batches: 46\n",
            "ic| n_batches: 46\n"
          ],
          "name": "stderr"
        },
        {
          "output_type": "stream",
          "text": [
            " — val_f1: [93.07 96.27 93.86 93.95 92.44 96.84 92.69  0.   92.76]\n",
            " — val_precision: [93.67 98.4  91.06 91.72 90.1  97.11 90.18  0.   94.27]\n",
            " — val_recall: [92.48 94.23 96.84 96.29 94.91 96.58 95.34  0.   91.3 ]\n",
            " — mean_f1: 83.54222222222222\n",
            "oa 94.35\n",
            "Found best weights at epoch 22\n"
          ],
          "name": "stdout"
        },
        {
          "output_type": "stream",
          "text": [
            "ic| n_batches: 393\n"
          ],
          "name": "stderr"
        },
        {
          "output_type": "stream",
          "text": [
            "Epoch 23/70\n",
            "392/393 [============================>.] - ETA: 0s - loss: 0.0258 - accuracy: 0.1540"
          ],
          "name": "stdout"
        },
        {
          "output_type": "stream",
          "text": [
            "ic| n_batches: 393\n"
          ],
          "name": "stderr"
        },
        {
          "output_type": "stream",
          "text": [
            "393/393 [==============================] - 30s 77ms/step - loss: 0.0258 - accuracy: 0.1537 - val_loss: 0.0384 - val_accuracy: 0.1792\n"
          ],
          "name": "stdout"
        },
        {
          "output_type": "stream",
          "text": [
            "ic| n_batches: 46\n",
            "ic| n_batches: 46\n"
          ],
          "name": "stderr"
        },
        {
          "output_type": "stream",
          "text": [
            " — val_f1: [89.9  95.76 83.78 92.96 91.94 96.82 91.06 89.51]\n",
            " — val_precision: [94.06 98.4  73.58 88.81 90.45 97.69 86.75 85.26]\n",
            " — val_recall: [86.09 93.26 97.26 97.51 93.49 95.97 95.82 94.21]\n",
            " — mean_f1: 81.30333333333334\n",
            "oa 92.81\n"
          ],
          "name": "stdout"
        },
        {
          "output_type": "stream",
          "text": [
            "ic| n_batches: 393\n"
          ],
          "name": "stderr"
        },
        {
          "output_type": "stream",
          "text": [
            "Epoch 24/70\n",
            "392/393 [============================>.] - ETA: 0s - loss: 0.0246 - accuracy: 0.1538"
          ],
          "name": "stdout"
        },
        {
          "output_type": "stream",
          "text": [
            "ic| n_batches: 393\n"
          ],
          "name": "stderr"
        },
        {
          "output_type": "stream",
          "text": [
            "393/393 [==============================] - 30s 75ms/step - loss: 0.0246 - accuracy: 0.1536 - val_loss: 0.0348 - val_accuracy: 0.1716\n"
          ],
          "name": "stdout"
        },
        {
          "output_type": "stream",
          "text": [
            "ic| n_batches: 46\n",
            "ic| n_batches: 46\n"
          ],
          "name": "stderr"
        },
        {
          "output_type": "stream",
          "text": [
            " — val_f1: [88.22 94.99 92.31 91.09 91.67 95.82 87.9  89.04]\n",
            " — val_precision: [93.12 97.59 89.96 85.74 90.42 96.64 82.92 83.85]\n",
            " — val_recall: [83.82 92.53 94.78 97.15 92.95 95.01 93.51 94.91]\n",
            " — mean_f1: 81.22666666666666\n",
            "oa 91.44\n"
          ],
          "name": "stdout"
        },
        {
          "output_type": "stream",
          "text": [
            "ic| n_batches: 393\n"
          ],
          "name": "stderr"
        },
        {
          "output_type": "stream",
          "text": [
            "Epoch 25/70\n",
            "392/393 [============================>.] - ETA: 0s - loss: 0.0274 - accuracy: 0.1519"
          ],
          "name": "stdout"
        },
        {
          "output_type": "stream",
          "text": [
            "ic| n_batches: 393\n"
          ],
          "name": "stderr"
        },
        {
          "output_type": "stream",
          "text": [
            "393/393 [==============================] - 30s 77ms/step - loss: 0.0274 - accuracy: 0.1516 - val_loss: 0.0511 - val_accuracy: 0.1606\n"
          ],
          "name": "stdout"
        },
        {
          "output_type": "stream",
          "text": [
            "ic| n_batches: 46\n",
            "ic| n_batches: 46\n"
          ],
          "name": "stderr"
        },
        {
          "output_type": "stream",
          "text": [
            " — val_f1: [86.33 96.18 77.44 87.48 89.24 94.41 91.12  0.   85.  ]\n",
            " — val_precision: [93.9  98.11 64.73 79.92 87.39 92.21 88.    0.   75.86]\n",
            " — val_recall: [79.88 94.33 96.35 96.62 91.17 96.72 94.48  0.   96.65]\n",
            " — mean_f1: 78.57777777777778\n",
            "oa 91.54\n"
          ],
          "name": "stdout"
        },
        {
          "output_type": "stream",
          "text": [
            "ic| n_batches: 393\n"
          ],
          "name": "stderr"
        },
        {
          "output_type": "stream",
          "text": [
            "Epoch 26/70\n",
            "392/393 [============================>.] - ETA: 0s - loss: 0.0237 - accuracy: 0.1541"
          ],
          "name": "stdout"
        },
        {
          "output_type": "stream",
          "text": [
            "ic| n_batches: 393\n"
          ],
          "name": "stderr"
        },
        {
          "output_type": "stream",
          "text": [
            "393/393 [==============================] - 30s 75ms/step - loss: 0.0237 - accuracy: 0.1537 - val_loss: 0.0334 - val_accuracy: 0.1992\n"
          ],
          "name": "stdout"
        },
        {
          "output_type": "stream",
          "text": [
            "ic| n_batches: 46\n",
            "ic| n_batches: 46\n"
          ],
          "name": "stderr"
        },
        {
          "output_type": "stream",
          "text": [
            " — val_f1: [92.67 96.94 90.49 93.35 92.98 97.29 95.09 92.56]\n",
            " — val_precision: [92.3  98.41 85.09 90.15 92.05 97.12 94.82 90.21]\n",
            " — val_recall: [93.04 95.51 96.61 96.78 93.93 97.46 95.37 95.03]\n",
            " — mean_f1: 83.48555555555555\n",
            "oa 95.02\n"
          ],
          "name": "stdout"
        },
        {
          "output_type": "stream",
          "text": [
            "ic| n_batches: 393\n"
          ],
          "name": "stderr"
        },
        {
          "output_type": "stream",
          "text": [
            "Epoch 27/70\n",
            "392/393 [============================>.] - ETA: 0s - loss: 0.0224 - accuracy: 0.1543"
          ],
          "name": "stdout"
        },
        {
          "output_type": "stream",
          "text": [
            "ic| n_batches: 393\n"
          ],
          "name": "stderr"
        },
        {
          "output_type": "stream",
          "text": [
            "393/393 [==============================] - 30s 77ms/step - loss: 0.0224 - accuracy: 0.1540 - val_loss: 0.0377 - val_accuracy: 0.2127\n"
          ],
          "name": "stdout"
        },
        {
          "output_type": "stream",
          "text": [
            "ic| n_batches: 46\n",
            "ic| n_batches: 46\n"
          ],
          "name": "stderr"
        },
        {
          "output_type": "stream",
          "text": [
            " — val_f1: [92.22 97.03 90.38 93.42 92.59 97.06 94.7  94.2 ]\n",
            " — val_precision: [90.2  98.6  84.26 90.35 91.69 97.89 95.76 92.46]\n",
            " — val_recall: [94.32 95.51 97.45 96.72 93.5  96.24 93.66 96.  ]\n",
            " — mean_f1: 83.51111111111112\n",
            "oa 94.87\n"
          ],
          "name": "stdout"
        },
        {
          "output_type": "stream",
          "text": [
            "ic| n_batches: 393\n"
          ],
          "name": "stderr"
        },
        {
          "output_type": "stream",
          "text": [
            "Epoch 28/70\n",
            "392/393 [============================>.] - ETA: 0s - loss: 0.0217 - accuracy: 0.1561"
          ],
          "name": "stdout"
        },
        {
          "output_type": "stream",
          "text": [
            "ic| n_batches: 393\n"
          ],
          "name": "stderr"
        },
        {
          "output_type": "stream",
          "text": [
            "393/393 [==============================] - 30s 75ms/step - loss: 0.0217 - accuracy: 0.1558 - val_loss: 0.0330 - val_accuracy: 0.1903\n"
          ],
          "name": "stdout"
        },
        {
          "output_type": "stream",
          "text": [
            "ic| n_batches: 46\n",
            "ic| n_batches: 46\n"
          ],
          "name": "stderr"
        },
        {
          "output_type": "stream",
          "text": [
            " — val_f1: [90.89 96.92 87.56 93.18 92.79 96.64 93.78 93.43]\n",
            " — val_precision: [92.33 97.56 79.34 89.44 91.32 96.85 93.77 92.24]\n",
            " — val_recall: [89.49 96.29 97.7  97.25 94.3  96.42 93.79 94.65]\n",
            " — mean_f1: 82.7988888888889\n",
            "oa 94.3\n"
          ],
          "name": "stdout"
        },
        {
          "output_type": "stream",
          "text": [
            "ic| n_batches: 393\n"
          ],
          "name": "stderr"
        },
        {
          "output_type": "stream",
          "text": [
            "Epoch 29/70\n",
            "392/393 [============================>.] - ETA: 0s - loss: 0.0211 - accuracy: 0.1552"
          ],
          "name": "stdout"
        },
        {
          "output_type": "stream",
          "text": [
            "ic| n_batches: 393\n"
          ],
          "name": "stderr"
        },
        {
          "output_type": "stream",
          "text": [
            "393/393 [==============================] - 30s 77ms/step - loss: 0.0211 - accuracy: 0.1549 - val_loss: 0.0295 - val_accuracy: 0.2024\n"
          ],
          "name": "stdout"
        },
        {
          "output_type": "stream",
          "text": [
            "ic| n_batches: 46\n",
            "ic| n_batches: 46\n"
          ],
          "name": "stderr"
        },
        {
          "output_type": "stream",
          "text": [
            " — val_f1: [93.22 97.01 90.55 94.04 92.77 97.35 94.47  0.   92.39]\n",
            " — val_precision: [92.42 98.9  87.77 92.3  91.29 97.79 93.39  0.   89.7 ]\n",
            " — val_recall: [94.04 95.19 93.5  95.84 94.29 96.91 95.57  0.   95.25]\n",
            " — mean_f1: 83.53333333333335\n",
            "oa 95.05\n"
          ],
          "name": "stdout"
        },
        {
          "output_type": "stream",
          "text": [
            "ic| n_batches: 393\n"
          ],
          "name": "stderr"
        },
        {
          "output_type": "stream",
          "text": [
            "Epoch 30/70\n",
            "392/393 [============================>.] - ETA: 0s - loss: 0.0223 - accuracy: 0.1553"
          ],
          "name": "stdout"
        },
        {
          "output_type": "stream",
          "text": [
            "ic| n_batches: 393\n"
          ],
          "name": "stderr"
        },
        {
          "output_type": "stream",
          "text": [
            "393/393 [==============================] - 30s 77ms/step - loss: 0.0223 - accuracy: 0.1550 - val_loss: 0.0335 - val_accuracy: 0.1755\n"
          ],
          "name": "stdout"
        },
        {
          "output_type": "stream",
          "text": [
            "ic| n_batches: 46\n",
            "ic| n_batches: 46\n"
          ],
          "name": "stderr"
        },
        {
          "output_type": "stream",
          "text": [
            " — val_f1: [88.93 95.08 82.27 88.83 91.13 95.73 90.34  0.   90.63]\n",
            " — val_precision: [93.99 98.76 71.22 81.42 89.67 95.06 85.48  0.   86.31]\n",
            " — val_recall: [84.39 91.67 97.38 97.73 92.64 96.41 95.8   0.   95.4 ]\n",
            " — mean_f1: 80.32666666666667\n",
            "oa 91.83\n"
          ],
          "name": "stdout"
        },
        {
          "output_type": "stream",
          "text": [
            "ic| n_batches: 393\n"
          ],
          "name": "stderr"
        },
        {
          "output_type": "stream",
          "text": [
            "Epoch 31/70\n",
            "392/393 [============================>.] - ETA: 0s - loss: 0.0218 - accuracy: 0.1535"
          ],
          "name": "stdout"
        },
        {
          "output_type": "stream",
          "text": [
            "ic| n_batches: 393\n"
          ],
          "name": "stderr"
        },
        {
          "output_type": "stream",
          "text": [
            "393/393 [==============================] - 30s 75ms/step - loss: 0.0218 - accuracy: 0.1532 - val_loss: 0.0290 - val_accuracy: 0.2038\n"
          ],
          "name": "stdout"
        },
        {
          "output_type": "stream",
          "text": [
            "ic| n_batches: 46\n",
            "ic| n_batches: 46\n"
          ],
          "name": "stderr"
        },
        {
          "output_type": "stream",
          "text": [
            " — val_f1: [91.3  95.93 84.99 94.16 93.14 96.36 92.88  0.   91.85]\n",
            " — val_precision: [90.84 98.62 77.67 92.58 92.02 96.62 90.76  0.   88.  ]\n",
            " — val_recall: [91.75 93.38 93.83 95.78 94.28 96.1  95.11  0.   96.04]\n",
            " — mean_f1: 82.29\n",
            "oa 93.76\n"
          ],
          "name": "stdout"
        },
        {
          "output_type": "stream",
          "text": [
            "ic| n_batches: 393\n"
          ],
          "name": "stderr"
        },
        {
          "output_type": "stream",
          "text": [
            "Epoch 32/70\n",
            "392/393 [============================>.] - ETA: 0s - loss: 0.0195 - accuracy: 0.1541"
          ],
          "name": "stdout"
        },
        {
          "output_type": "stream",
          "text": [
            "ic| n_batches: 393\n"
          ],
          "name": "stderr"
        },
        {
          "output_type": "stream",
          "text": [
            "393/393 [==============================] - 30s 77ms/step - loss: 0.0195 - accuracy: 0.1539 - val_loss: 0.0290 - val_accuracy: 0.2005\n"
          ],
          "name": "stdout"
        },
        {
          "output_type": "stream",
          "text": [
            "ic| n_batches: 46\n",
            "ic| n_batches: 46\n"
          ],
          "name": "stderr"
        },
        {
          "output_type": "stream",
          "text": [
            " — val_f1: [93.42 97.54 92.95 94.57 93.51 97.07 94.77  0.   92.72]\n",
            " — val_precision: [92.78 98.75 90.97 92.97 92.04 96.81 94.68  0.   89.49]\n",
            " — val_recall: [94.08 96.37 95.01 96.23 95.03 97.34 94.87  0.   96.2 ]\n",
            " — mean_f1: 84.0611111111111\n",
            "oa 95.49\n",
            "Found best weights at epoch 32\n"
          ],
          "name": "stdout"
        },
        {
          "output_type": "stream",
          "text": [
            "ic| n_batches: 393\n"
          ],
          "name": "stderr"
        },
        {
          "output_type": "stream",
          "text": [
            "Epoch 33/70\n",
            "392/393 [============================>.] - ETA: 0s - loss: 0.0186 - accuracy: 0.1531"
          ],
          "name": "stdout"
        },
        {
          "output_type": "stream",
          "text": [
            "ic| n_batches: 393\n"
          ],
          "name": "stderr"
        },
        {
          "output_type": "stream",
          "text": [
            "393/393 [==============================] - 30s 75ms/step - loss: 0.0186 - accuracy: 0.1528 - val_loss: 0.0284 - val_accuracy: 0.1953\n"
          ],
          "name": "stdout"
        },
        {
          "output_type": "stream",
          "text": [
            "ic| n_batches: 46\n",
            "ic| n_batches: 46\n"
          ],
          "name": "stderr"
        },
        {
          "output_type": "stream",
          "text": [
            " — val_f1: [92.76 97.08 92.46 93.57 93.01 96.49 93.81  0.   94.31]\n",
            " — val_precision: [93.24 98.88 88.68 89.61 92.67 95.8  92.17  0.   93.25]\n",
            " — val_recall: [92.29 95.35 96.58 97.89 93.36 97.2  95.51  0.   95.39]\n",
            " — mean_f1: 83.72111111111111\n",
            "oa 94.87\n"
          ],
          "name": "stdout"
        },
        {
          "output_type": "stream",
          "text": [
            "ic| n_batches: 393\n"
          ],
          "name": "stderr"
        },
        {
          "output_type": "stream",
          "text": [
            "Epoch 34/70\n",
            "392/393 [============================>.] - ETA: 0s - loss: 0.0178 - accuracy: 0.1541"
          ],
          "name": "stdout"
        },
        {
          "output_type": "stream",
          "text": [
            "ic| n_batches: 393\n"
          ],
          "name": "stderr"
        },
        {
          "output_type": "stream",
          "text": [
            "393/393 [==============================] - 30s 76ms/step - loss: 0.0178 - accuracy: 0.1538 - val_loss: 0.0316 - val_accuracy: 0.2009\n"
          ],
          "name": "stdout"
        },
        {
          "output_type": "stream",
          "text": [
            "ic| n_batches: 46\n",
            "ic| n_batches: 46\n"
          ],
          "name": "stderr"
        },
        {
          "output_type": "stream",
          "text": [
            " — val_f1: [93.86 97.29 90.72 96.33 93.3  97.53 94.65  0.   91.99]\n",
            " — val_precision: [93.22 98.85 86.74 95.43 93.3  97.79 93.55  0.   87.79]\n",
            " — val_recall: [94.5  95.77 95.09 97.25 93.29 97.28 95.79  0.   96.62]\n",
            " — mean_f1: 83.96333333333334\n",
            "oa 95.5\n"
          ],
          "name": "stdout"
        },
        {
          "output_type": "stream",
          "text": [
            "ic| n_batches: 393\n"
          ],
          "name": "stderr"
        },
        {
          "output_type": "stream",
          "text": [
            "Epoch 35/70\n",
            "392/393 [============================>.] - ETA: 0s - loss: 0.0173 - accuracy: 0.1548"
          ],
          "name": "stdout"
        },
        {
          "output_type": "stream",
          "text": [
            "ic| n_batches: 393\n"
          ],
          "name": "stderr"
        },
        {
          "output_type": "stream",
          "text": [
            "393/393 [==============================] - 30s 75ms/step - loss: 0.0173 - accuracy: 0.1546 - val_loss: 0.0299 - val_accuracy: 0.2040\n"
          ],
          "name": "stdout"
        },
        {
          "output_type": "stream",
          "text": [
            "ic| n_batches: 46\n",
            "ic| n_batches: 46\n"
          ],
          "name": "stderr"
        },
        {
          "output_type": "stream",
          "text": [
            " — val_f1: [92.52 97.43 87.33 94.92 93.54 97.5  94.98  0.   93.82]\n",
            " — val_precision: [91.6  98.77 80.22 92.12 94.13 97.62 94.93  0.   93.07]\n",
            " — val_recall: [93.45 96.12 95.82 97.89 92.96 97.37 95.02  0.   94.58]\n",
            " — mean_f1: 83.56\n",
            "oa 95.26\n"
          ],
          "name": "stdout"
        },
        {
          "output_type": "stream",
          "text": [
            "ic| n_batches: 393\n"
          ],
          "name": "stderr"
        },
        {
          "output_type": "stream",
          "text": [
            "Epoch 36/70\n",
            "392/393 [============================>.] - ETA: 0s - loss: 0.0181 - accuracy: 0.1538"
          ],
          "name": "stdout"
        },
        {
          "output_type": "stream",
          "text": [
            "ic| n_batches: 393\n"
          ],
          "name": "stderr"
        },
        {
          "output_type": "stream",
          "text": [
            "393/393 [==============================] - 30s 76ms/step - loss: 0.0181 - accuracy: 0.1536 - val_loss: 0.0268 - val_accuracy: 0.1926\n"
          ],
          "name": "stdout"
        },
        {
          "output_type": "stream",
          "text": [
            "ic| n_batches: 46\n",
            "ic| n_batches: 46\n"
          ],
          "name": "stderr"
        },
        {
          "output_type": "stream",
          "text": [
            " — val_f1: [89.12 96.8  89.43 94.15 91.78 95.51 89.44  0.   85.28]\n",
            " — val_precision: [88.54 96.62 86.23 90.58 92.56 96.37 92.1   0.   77.47]\n",
            " — val_recall: [89.72 96.99 92.87 98.02 91.02 94.66 86.93  0.   94.84]\n",
            " — mean_f1: 81.27888888888889\n",
            "oa 92.82\n"
          ],
          "name": "stdout"
        },
        {
          "output_type": "stream",
          "text": [
            "ic| n_batches: 393\n"
          ],
          "name": "stderr"
        },
        {
          "output_type": "stream",
          "text": [
            "Epoch 37/70\n",
            "392/393 [============================>.] - ETA: 0s - loss: 0.0183 - accuracy: 0.1544"
          ],
          "name": "stdout"
        },
        {
          "output_type": "stream",
          "text": [
            "ic| n_batches: 393\n"
          ],
          "name": "stderr"
        },
        {
          "output_type": "stream",
          "text": [
            "393/393 [==============================] - 30s 76ms/step - loss: 0.0183 - accuracy: 0.1541 - val_loss: 0.0285 - val_accuracy: 0.1909\n"
          ],
          "name": "stdout"
        },
        {
          "output_type": "stream",
          "text": [
            "ic| n_batches: 46\n",
            "ic| n_batches: 46\n"
          ],
          "name": "stderr"
        },
        {
          "output_type": "stream",
          "text": [
            " — val_f1: [90.01 94.38 81.64 94.08 91.82 97.5  90.87  0.   91.22]\n",
            " — val_precision: [90.55 99.07 72.68 91.41 89.14 97.99 86.28  0.   87.98]\n",
            " — val_recall: [89.47 90.11 93.1  96.92 94.67 97.   95.98  0.   94.71]\n",
            " — mean_f1: 81.28\n",
            "oa 92.28\n"
          ],
          "name": "stdout"
        },
        {
          "output_type": "stream",
          "text": [
            "ic| n_batches: 393\n"
          ],
          "name": "stderr"
        },
        {
          "output_type": "stream",
          "text": [
            "Epoch 38/70\n",
            "392/393 [============================>.] - ETA: 0s - loss: 0.0164 - accuracy: 0.1558"
          ],
          "name": "stdout"
        },
        {
          "output_type": "stream",
          "text": [
            "ic| n_batches: 393\n"
          ],
          "name": "stderr"
        },
        {
          "output_type": "stream",
          "text": [
            "393/393 [==============================] - 30s 78ms/step - loss: 0.0164 - accuracy: 0.1555 - val_loss: 0.0274 - val_accuracy: 0.1915\n"
          ],
          "name": "stdout"
        },
        {
          "output_type": "stream",
          "text": [
            "ic| n_batches: 46\n",
            "ic| n_batches: 46\n"
          ],
          "name": "stderr"
        },
        {
          "output_type": "stream",
          "text": [
            " — val_f1: [92.2  96.25 93.37 93.44 93.57 97.44 93.14  0.   92.31]\n",
            " — val_precision: [93.65 99.06 89.98 89.12 93.42 97.35 89.3   0.   91.26]\n",
            " — val_recall: [90.79 93.6  97.03 98.21 93.72 97.53 97.32  0.   93.39]\n",
            " — mean_f1: 83.52444444444444\n",
            "oa 94.3\n"
          ],
          "name": "stdout"
        },
        {
          "output_type": "stream",
          "text": [
            "ic| n_batches: 393\n"
          ],
          "name": "stderr"
        },
        {
          "output_type": "stream",
          "text": [
            "Epoch 39/70\n",
            "392/393 [============================>.] - ETA: 0s - loss: 0.0154 - accuracy: 0.1547"
          ],
          "name": "stdout"
        },
        {
          "output_type": "stream",
          "text": [
            "ic| n_batches: 393\n"
          ],
          "name": "stderr"
        },
        {
          "output_type": "stream",
          "text": [
            "393/393 [==============================] - 30s 76ms/step - loss: 0.0154 - accuracy: 0.1544 - val_loss: 0.0265 - val_accuracy: 0.2051\n"
          ],
          "name": "stdout"
        },
        {
          "output_type": "stream",
          "text": [
            "ic| n_batches: 46\n",
            "ic| n_batches: 46\n"
          ],
          "name": "stderr"
        },
        {
          "output_type": "stream",
          "text": [
            " — val_f1: [92.34 97.49 90.84 94.64 93.01 96.91 94.16  0.   92.15]\n",
            " — val_precision: [90.33 98.72 85.49 92.65 92.72 96.05 95.3   0.   91.64]\n",
            " — val_recall: [94.44 96.29 96.9  96.72 93.3  97.8  93.04  0.   92.66]\n",
            " — mean_f1: 83.50444444444446\n",
            "oa 95.03\n"
          ],
          "name": "stdout"
        },
        {
          "output_type": "stream",
          "text": [
            "ic| n_batches: 393\n"
          ],
          "name": "stderr"
        },
        {
          "output_type": "stream",
          "text": [
            "Epoch 40/70\n",
            "392/393 [============================>.] - ETA: 0s - loss: 0.0149 - accuracy: 0.1543"
          ],
          "name": "stdout"
        },
        {
          "output_type": "stream",
          "text": [
            "ic| n_batches: 393\n"
          ],
          "name": "stderr"
        },
        {
          "output_type": "stream",
          "text": [
            "393/393 [==============================] - 30s 76ms/step - loss: 0.0149 - accuracy: 0.1540 - val_loss: 0.0267 - val_accuracy: 0.2079\n"
          ],
          "name": "stdout"
        },
        {
          "output_type": "stream",
          "text": [
            "ic| n_batches: 46\n",
            "ic| n_batches: 46\n"
          ],
          "name": "stderr"
        },
        {
          "output_type": "stream",
          "text": [
            " — val_f1: [93.29 97.05 87.73 94.13 92.95 96.92 94.81  0.   92.45]\n",
            " — val_precision: [92.26 98.79 80.07 91.65 92.97 96.64 94.2   0.   94.26]\n",
            " — val_recall: [94.35 95.36 97.02 96.75 92.92 97.2  95.43  0.   90.7 ]\n",
            " — mean_f1: 83.2588888888889\n",
            "oa 95.11\n"
          ],
          "name": "stdout"
        },
        {
          "output_type": "stream",
          "text": [
            "ic| n_batches: 393\n"
          ],
          "name": "stderr"
        },
        {
          "output_type": "stream",
          "text": [
            "Epoch 41/70\n",
            "392/393 [============================>.] - ETA: 0s - loss: 0.0162 - accuracy: 0.1551"
          ],
          "name": "stdout"
        },
        {
          "output_type": "stream",
          "text": [
            "ic| n_batches: 393\n"
          ],
          "name": "stderr"
        },
        {
          "output_type": "stream",
          "text": [
            "393/393 [==============================] - 30s 76ms/step - loss: 0.0162 - accuracy: 0.1547 - val_loss: 0.0355 - val_accuracy: 0.1938\n"
          ],
          "name": "stdout"
        },
        {
          "output_type": "stream",
          "text": [
            "ic| n_batches: 46\n",
            "ic| n_batches: 46\n"
          ],
          "name": "stderr"
        },
        {
          "output_type": "stream",
          "text": [
            " — val_f1: [91.95 97.03 88.67 94.38 91.73 96.22 93.72  0.   89.96]\n",
            " — val_precision: [92.24 98.95 83.18 91.84 92.25 95.72 91.96  0.   84.38]\n",
            " — val_recall: [91.67 95.19 94.93 97.07 91.21 96.72 95.56  0.   96.33]\n",
            " — mean_f1: 82.6288888888889\n",
            "oa 94.49\n"
          ],
          "name": "stdout"
        },
        {
          "output_type": "stream",
          "text": [
            "ic| n_batches: 393\n"
          ],
          "name": "stderr"
        },
        {
          "output_type": "stream",
          "text": [
            "Epoch 42/70\n",
            "392/393 [============================>.] - ETA: 0s - loss: 0.0146 - accuracy: 0.1536"
          ],
          "name": "stdout"
        },
        {
          "output_type": "stream",
          "text": [
            "ic| n_batches: 393\n"
          ],
          "name": "stderr"
        },
        {
          "output_type": "stream",
          "text": [
            "393/393 [==============================] - 30s 76ms/step - loss: 0.0146 - accuracy: 0.1533 - val_loss: 0.0209 - val_accuracy: 0.2078\n"
          ],
          "name": "stdout"
        },
        {
          "output_type": "stream",
          "text": [
            "ic| n_batches: 46\n",
            "ic| n_batches: 46\n"
          ],
          "name": "stderr"
        },
        {
          "output_type": "stream",
          "text": [
            " — val_f1: [93.58 97.9  92.12 96.26 93.61 96.72 95.41  0.   93.84]\n",
            " — val_precision: [91.53 98.63 88.8  95.81 92.74 96.29 96.82  0.   94.26]\n",
            " — val_recall: [95.72 97.17 95.69 96.72 94.5  97.16 94.04  0.   93.43]\n",
            " — mean_f1: 84.38222222222223\n",
            "oa 95.91\n",
            "Found best weights at epoch 42\n"
          ],
          "name": "stdout"
        },
        {
          "output_type": "stream",
          "text": [
            "ic| n_batches: 393\n"
          ],
          "name": "stderr"
        },
        {
          "output_type": "stream",
          "text": [
            "Epoch 43/70\n",
            "392/393 [============================>.] - ETA: 0s - loss: 0.0136 - accuracy: 0.1554"
          ],
          "name": "stdout"
        },
        {
          "output_type": "stream",
          "text": [
            "ic| n_batches: 393\n"
          ],
          "name": "stderr"
        },
        {
          "output_type": "stream",
          "text": [
            "393/393 [==============================] - 30s 76ms/step - loss: 0.0136 - accuracy: 0.1550 - val_loss: 0.0220 - val_accuracy: 0.2078\n"
          ],
          "name": "stdout"
        },
        {
          "output_type": "stream",
          "text": [
            "ic| n_batches: 46\n",
            "ic| n_batches: 46\n"
          ],
          "name": "stderr"
        },
        {
          "output_type": "stream",
          "text": [
            " — val_f1: [93.47 97.68 92.7  96.07 93.7  96.23 96.    0.   92.55]\n",
            " — val_precision: [91.94 98.99 90.4  94.16 93.89 95.39 95.99  0.   92.54]\n",
            " — val_recall: [95.05 96.41 95.11 98.06 93.5  97.08 96.    0.   92.55]\n",
            " — mean_f1: 84.26666666666665\n",
            "oa 95.9\n"
          ],
          "name": "stdout"
        },
        {
          "output_type": "stream",
          "text": [
            "ic| n_batches: 393\n"
          ],
          "name": "stderr"
        },
        {
          "output_type": "stream",
          "text": [
            "Epoch 44/70\n",
            "392/393 [============================>.] - ETA: 0s - loss: 0.0132 - accuracy: 0.1550"
          ],
          "name": "stdout"
        },
        {
          "output_type": "stream",
          "text": [
            "ic| n_batches: 393\n"
          ],
          "name": "stderr"
        },
        {
          "output_type": "stream",
          "text": [
            "393/393 [==============================] - 30s 76ms/step - loss: 0.0132 - accuracy: 0.1547 - val_loss: 0.0205 - val_accuracy: 0.2092\n"
          ],
          "name": "stdout"
        },
        {
          "output_type": "stream",
          "text": [
            "ic| n_batches: 46\n",
            "ic| n_batches: 46\n"
          ],
          "name": "stderr"
        },
        {
          "output_type": "stream",
          "text": [
            " — val_f1: [93.79 97.95 91.55 96.46 93.98 96.78 95.5   0.   93.7 ]\n",
            " — val_precision: [91.95 98.64 87.2  96.07 93.04 96.47 96.86  0.   94.13]\n",
            " — val_recall: [95.7  97.26 96.37 96.84 94.95 97.1  94.18  0.   93.28]\n",
            " — mean_f1: 84.41222222222223\n",
            "oa 96.01\n",
            "Found best weights at epoch 44\n"
          ],
          "name": "stdout"
        },
        {
          "output_type": "stream",
          "text": [
            "ic| n_batches: 393\n"
          ],
          "name": "stderr"
        },
        {
          "output_type": "stream",
          "text": [
            "Epoch 45/70\n",
            "392/393 [============================>.] - ETA: 0s - loss: 0.0126 - accuracy: 0.1542"
          ],
          "name": "stdout"
        },
        {
          "output_type": "stream",
          "text": [
            "ic| n_batches: 393\n"
          ],
          "name": "stderr"
        },
        {
          "output_type": "stream",
          "text": [
            "393/393 [==============================] - 30s 77ms/step - loss: 0.0126 - accuracy: 0.1539 - val_loss: 0.0230 - val_accuracy: 0.2038\n"
          ],
          "name": "stdout"
        },
        {
          "output_type": "stream",
          "text": [
            "ic| n_batches: 46\n",
            "ic| n_batches: 46\n"
          ],
          "name": "stderr"
        },
        {
          "output_type": "stream",
          "text": [
            " — val_f1: [93.59 97.81 90.41 96.28 93.42 96.25 95.36  0.   92.49]\n",
            " — val_precision: [92.44 98.2  85.48 95.22 92.81 95.82 96.78  0.   92.13]\n",
            " — val_recall: [94.77 97.42 95.94 97.36 94.04 96.68 93.98  0.   92.85]\n",
            " — mean_f1: 83.95666666666668\n",
            "oa 95.79\n"
          ],
          "name": "stdout"
        },
        {
          "output_type": "stream",
          "text": [
            "ic| n_batches: 393\n"
          ],
          "name": "stderr"
        },
        {
          "output_type": "stream",
          "text": [
            "Epoch 46/70\n",
            "392/393 [============================>.] - ETA: 0s - loss: 0.0124 - accuracy: 0.1548"
          ],
          "name": "stdout"
        },
        {
          "output_type": "stream",
          "text": [
            "ic| n_batches: 393\n"
          ],
          "name": "stderr"
        },
        {
          "output_type": "stream",
          "text": [
            "393/393 [==============================] - 30s 76ms/step - loss: 0.0124 - accuracy: 0.1545 - val_loss: 0.0231 - val_accuracy: 0.1943\n"
          ],
          "name": "stdout"
        },
        {
          "output_type": "stream",
          "text": [
            "ic| n_batches: 46\n",
            "ic| n_batches: 46\n"
          ],
          "name": "stderr"
        },
        {
          "output_type": "stream",
          "text": [
            " — val_f1: [91.68 96.95 87.27 94.43 93.01 96.84 95.15  0.   91.66]\n",
            " — val_precision: [91.86 98.32 79.38 91.41 92.73 96.07 94.88  0.   87.01]\n",
            " — val_recall: [91.51 95.63 96.92 97.66 93.29 97.62 95.42  0.   96.85]\n",
            " — mean_f1: 82.99888888888887\n",
            "oa 94.83\n"
          ],
          "name": "stdout"
        },
        {
          "output_type": "stream",
          "text": [
            "ic| n_batches: 393\n"
          ],
          "name": "stderr"
        },
        {
          "output_type": "stream",
          "text": [
            "Epoch 47/70\n",
            "392/393 [============================>.] - ETA: 0s - loss: 0.0140 - accuracy: 0.1546"
          ],
          "name": "stdout"
        },
        {
          "output_type": "stream",
          "text": [
            "ic| n_batches: 393\n"
          ],
          "name": "stderr"
        },
        {
          "output_type": "stream",
          "text": [
            "393/393 [==============================] - 30s 76ms/step - loss: 0.0140 - accuracy: 0.1543 - val_loss: 0.0152 - val_accuracy: 0.2078\n"
          ],
          "name": "stdout"
        },
        {
          "output_type": "stream",
          "text": [
            "ic| n_batches: 46\n",
            "ic| n_batches: 46\n"
          ],
          "name": "stderr"
        },
        {
          "output_type": "stream",
          "text": [
            " — val_f1: [89.   92.55 85.13 90.42 91.41 95.46 87.43  0.   94.31]\n",
            " — val_precision: [87.92 98.74 77.85 91.86 88.02 95.75 81.45  0.   94.38]\n",
            " — val_recall: [90.1  87.09 93.91 89.03 95.08 95.18 94.37  0.   94.23]\n",
            " — mean_f1: 80.63444444444445\n",
            "oa 90.37\n"
          ],
          "name": "stdout"
        },
        {
          "output_type": "stream",
          "text": [
            "ic| n_batches: 393\n"
          ],
          "name": "stderr"
        },
        {
          "output_type": "stream",
          "text": [
            "Epoch 48/70\n",
            "392/393 [============================>.] - ETA: 0s - loss: 0.0128 - accuracy: 0.1536"
          ],
          "name": "stdout"
        },
        {
          "output_type": "stream",
          "text": [
            "ic| n_batches: 393\n"
          ],
          "name": "stderr"
        },
        {
          "output_type": "stream",
          "text": [
            "393/393 [==============================] - 30s 77ms/step - loss: 0.0128 - accuracy: 0.1532 - val_loss: 0.0251 - val_accuracy: 0.2090\n"
          ],
          "name": "stdout"
        },
        {
          "output_type": "stream",
          "text": [
            "ic| n_batches: 46\n",
            "ic| n_batches: 46\n"
          ],
          "name": "stderr"
        },
        {
          "output_type": "stream",
          "text": [
            " — val_f1: [93.34 95.74 93.63 92.99 93.58 97.29 93.17  0.   92.83]\n",
            " — val_precision: [92.2  98.39 93.02 89.66 92.23 97.54 91.47  0.   90.41]\n",
            " — val_recall: [94.51 93.23 94.26 96.57 94.97 97.04 94.93  0.   95.38]\n",
            " — mean_f1: 83.61888888888889\n",
            "oa 94.32\n"
          ],
          "name": "stdout"
        },
        {
          "output_type": "stream",
          "text": [
            "ic| n_batches: 393\n"
          ],
          "name": "stderr"
        },
        {
          "output_type": "stream",
          "text": [
            "Epoch 49/70\n",
            "392/393 [============================>.] - ETA: 0s - loss: 0.0114 - accuracy: 0.1522"
          ],
          "name": "stdout"
        },
        {
          "output_type": "stream",
          "text": [
            "ic| n_batches: 393\n"
          ],
          "name": "stderr"
        },
        {
          "output_type": "stream",
          "text": [
            "393/393 [==============================] - 30s 77ms/step - loss: 0.0114 - accuracy: 0.1519 - val_loss: 0.0228 - val_accuracy: 0.2114\n"
          ],
          "name": "stdout"
        },
        {
          "output_type": "stream",
          "text": [
            "ic| n_batches: 46\n",
            "ic| n_batches: 46\n"
          ],
          "name": "stderr"
        },
        {
          "output_type": "stream",
          "text": [
            " — val_f1: [92.72 97.31 92.32 95.73 94.25 97.32 94.1   0.   93.91]\n",
            " — val_precision: [90.3  98.87 87.92 94.26 93.45 97.31 94.98  0.   91.97]\n",
            " — val_recall: [95.27 95.8  97.19 97.26 95.07 97.32 93.24  0.   95.94]\n",
            " — mean_f1: 84.18444444444444\n",
            "oa 95.23\n"
          ],
          "name": "stdout"
        },
        {
          "output_type": "stream",
          "text": [
            "ic| n_batches: 393\n"
          ],
          "name": "stderr"
        },
        {
          "output_type": "stream",
          "text": [
            "Epoch 50/70\n",
            "392/393 [============================>.] - ETA: 0s - loss: 0.0109 - accuracy: 0.1537"
          ],
          "name": "stdout"
        },
        {
          "output_type": "stream",
          "text": [
            "ic| n_batches: 393\n"
          ],
          "name": "stderr"
        },
        {
          "output_type": "stream",
          "text": [
            "393/393 [==============================] - 30s 76ms/step - loss: 0.0109 - accuracy: 0.1534 - val_loss: 0.0235 - val_accuracy: 0.2057\n"
          ],
          "name": "stdout"
        },
        {
          "output_type": "stream",
          "text": [
            "ic| n_batches: 46\n",
            "ic| n_batches: 46\n"
          ],
          "name": "stderr"
        },
        {
          "output_type": "stream",
          "text": [
            " — val_f1: [93.22 96.65 91.66 94.66 94.94 97.34 93.79  0.   96.57]\n",
            " — val_precision: [92.83 98.57 87.93 91.89 93.89 97.94 92.28  0.   97.18]\n",
            " — val_recall: [93.61 94.81 95.73 97.59 96.01 96.75 95.36  0.   95.98]\n",
            " — mean_f1: 84.31444444444443\n",
            "oa 95.01\n"
          ],
          "name": "stdout"
        },
        {
          "output_type": "stream",
          "text": [
            "ic| n_batches: 393\n"
          ],
          "name": "stderr"
        },
        {
          "output_type": "stream",
          "text": [
            "Epoch 51/70\n",
            "392/393 [============================>.] - ETA: 0s - loss: 0.0106 - accuracy: 0.1532"
          ],
          "name": "stdout"
        },
        {
          "output_type": "stream",
          "text": [
            "ic| n_batches: 393\n"
          ],
          "name": "stderr"
        },
        {
          "output_type": "stream",
          "text": [
            "393/393 [==============================] - 30s 77ms/step - loss: 0.0106 - accuracy: 0.1529 - val_loss: 0.0209 - val_accuracy: 0.2093\n"
          ],
          "name": "stdout"
        },
        {
          "output_type": "stream",
          "text": [
            "ic| n_batches: 46\n",
            "ic| n_batches: 46\n"
          ],
          "name": "stderr"
        },
        {
          "output_type": "stream",
          "text": [
            " — val_f1: [92.27 97.27 93.18 95.22 94.95 97.72 94.23  0.   96.1 ]\n",
            " — val_precision: [90.44 98.8  90.88 93.25 94.45 98.34 94.31  0.   94.75]\n",
            " — val_recall: [94.18 95.78 95.6  97.27 95.47 97.11 94.15  0.   97.49]\n",
            " — mean_f1: 84.5488888888889\n",
            "oa 95.22\n",
            "Found best weights at epoch 51\n"
          ],
          "name": "stdout"
        },
        {
          "output_type": "stream",
          "text": [
            "ic| n_batches: 393\n"
          ],
          "name": "stderr"
        },
        {
          "output_type": "stream",
          "text": [
            "Epoch 52/70\n",
            "392/393 [============================>.] - ETA: 0s - loss: 0.0117 - accuracy: 0.1550"
          ],
          "name": "stdout"
        },
        {
          "output_type": "stream",
          "text": [
            "ic| n_batches: 393\n"
          ],
          "name": "stderr"
        },
        {
          "output_type": "stream",
          "text": [
            "393/393 [==============================] - 30s 76ms/step - loss: 0.0117 - accuracy: 0.1547 - val_loss: 0.0210 - val_accuracy: 0.2045\n"
          ],
          "name": "stdout"
        },
        {
          "output_type": "stream",
          "text": [
            "ic| n_batches: 46\n",
            "ic| n_batches: 46\n"
          ],
          "name": "stderr"
        },
        {
          "output_type": "stream",
          "text": [
            " — val_f1: [90.85 97.27 79.03 94.66 93.81 97.37 93.76  0.   93.89]\n",
            " — val_precision: [91.79 98.48 70.9  93.07 91.95 98.01 92.68  0.   93.88]\n",
            " — val_recall: [89.92 96.08 89.28 96.31 95.74 96.73 94.86  0.   93.91]\n",
            " — mean_f1: 82.29333333333334\n",
            "oa 94.43\n"
          ],
          "name": "stdout"
        },
        {
          "output_type": "stream",
          "text": [
            "ic| n_batches: 393\n"
          ],
          "name": "stderr"
        },
        {
          "output_type": "stream",
          "text": [
            "Epoch 53/70\n",
            "392/393 [============================>.] - ETA: 0s - loss: 0.0106 - accuracy: 0.1575"
          ],
          "name": "stdout"
        },
        {
          "output_type": "stream",
          "text": [
            "ic| n_batches: 393\n"
          ],
          "name": "stderr"
        },
        {
          "output_type": "stream",
          "text": [
            "393/393 [==============================] - 30s 77ms/step - loss: 0.0106 - accuracy: 0.1573 - val_loss: 0.0226 - val_accuracy: 0.2112\n"
          ],
          "name": "stdout"
        },
        {
          "output_type": "stream",
          "text": [
            "ic| n_batches: 46\n",
            "ic| n_batches: 46\n"
          ],
          "name": "stderr"
        },
        {
          "output_type": "stream",
          "text": [
            " — val_f1: [92.85 97.11 89.74 94.77 92.9  96.97 93.97  0.   95.15]\n",
            " — val_precision: [90.89 98.69 83.62 92.74 92.16 96.72 94.72  0.   93.04]\n",
            " — val_recall: [94.91 95.58 96.83 96.9  93.65 97.22 93.23  0.   97.36]\n",
            " — mean_f1: 83.71777777777777\n",
            "oa 94.97\n"
          ],
          "name": "stdout"
        },
        {
          "output_type": "stream",
          "text": [
            "ic| n_batches: 393\n"
          ],
          "name": "stderr"
        },
        {
          "output_type": "stream",
          "text": [
            "Epoch 54/70\n",
            "392/393 [============================>.] - ETA: 0s - loss: 0.0098 - accuracy: 0.1561"
          ],
          "name": "stdout"
        },
        {
          "output_type": "stream",
          "text": [
            "ic| n_batches: 393\n"
          ],
          "name": "stderr"
        },
        {
          "output_type": "stream",
          "text": [
            "393/393 [==============================] - 30s 76ms/step - loss: 0.0098 - accuracy: 0.1558 - val_loss: 0.0182 - val_accuracy: 0.2083\n"
          ],
          "name": "stdout"
        },
        {
          "output_type": "stream",
          "text": [
            "ic| n_batches: 46\n",
            "ic| n_batches: 46\n"
          ],
          "name": "stderr"
        },
        {
          "output_type": "stream",
          "text": [
            " — val_f1: [93.64 97.39 88.85 96.83 93.97 97.46 95.38 94.9 ]\n",
            " — val_precision: [92.52 98.93 83.02 95.91 93.68 97.59 94.84 92.9 ]\n",
            " — val_recall: [94.79 95.9  95.56 97.76 94.27 97.32 95.92 96.98]\n",
            " — mean_f1: 84.2688888888889\n",
            "oa 95.74\n"
          ],
          "name": "stdout"
        },
        {
          "output_type": "stream",
          "text": [
            "ic| n_batches: 393\n"
          ],
          "name": "stderr"
        },
        {
          "output_type": "stream",
          "text": [
            "Epoch 55/70\n",
            "392/393 [============================>.] - ETA: 0s - loss: 0.0094 - accuracy: 0.1559"
          ],
          "name": "stdout"
        },
        {
          "output_type": "stream",
          "text": [
            "ic| n_batches: 393\n"
          ],
          "name": "stderr"
        },
        {
          "output_type": "stream",
          "text": [
            "393/393 [==============================] - 30s 77ms/step - loss: 0.0094 - accuracy: 0.1556 - val_loss: 0.0196 - val_accuracy: 0.2094\n"
          ],
          "name": "stdout"
        },
        {
          "output_type": "stream",
          "text": [
            "ic| n_batches: 46\n",
            "ic| n_batches: 46\n"
          ],
          "name": "stderr"
        },
        {
          "output_type": "stream",
          "text": [
            " — val_f1: [93.83 97.57 89.18 95.4  93.91 97.38 96.12 93.99]\n",
            " — val_precision: [92.55 98.95 83.16 93.34 93.46 97.78 96.45 90.84]\n",
            " — val_recall: [95.14 96.24 96.15 97.56 94.37 96.97 95.78 97.37]\n",
            " — mean_f1: 84.15333333333334\n",
            "oa 95.92\n"
          ],
          "name": "stdout"
        },
        {
          "output_type": "stream",
          "text": [
            "ic| n_batches: 393\n"
          ],
          "name": "stderr"
        },
        {
          "output_type": "stream",
          "text": [
            "Epoch 56/70\n",
            "392/393 [============================>.] - ETA: 0s - loss: 0.0119 - accuracy: 0.1520"
          ],
          "name": "stdout"
        },
        {
          "output_type": "stream",
          "text": [
            "ic| n_batches: 393\n"
          ],
          "name": "stderr"
        },
        {
          "output_type": "stream",
          "text": [
            "393/393 [==============================] - 30s 76ms/step - loss: 0.0119 - accuracy: 0.1517 - val_loss: 0.0194 - val_accuracy: 0.1898\n"
          ],
          "name": "stdout"
        },
        {
          "output_type": "stream",
          "text": [
            "ic| n_batches: 46\n",
            "ic| n_batches: 46\n"
          ],
          "name": "stderr"
        },
        {
          "output_type": "stream",
          "text": [
            " — val_f1: [89.42 95.38 85.12 90.96 92.76 97.06 91.18  0.   91.85]\n",
            " — val_precision: [90.68 98.47 77.05 85.58 92.47 97.33 88.06  0.   88.79]\n",
            " — val_recall: [88.18 92.49 95.07 97.07 93.05 96.8  94.54  0.   95.12]\n",
            " — mean_f1: 81.52555555555556\n",
            "oa 92.59\n"
          ],
          "name": "stdout"
        },
        {
          "output_type": "stream",
          "text": [
            "ic| n_batches: 393\n"
          ],
          "name": "stderr"
        },
        {
          "output_type": "stream",
          "text": [
            "Epoch 57/70\n",
            "392/393 [============================>.] - ETA: 0s - loss: 0.0096 - accuracy: 0.1498"
          ],
          "name": "stdout"
        },
        {
          "output_type": "stream",
          "text": [
            "ic| n_batches: 393\n"
          ],
          "name": "stderr"
        },
        {
          "output_type": "stream",
          "text": [
            "393/393 [==============================] - 30s 77ms/step - loss: 0.0096 - accuracy: 0.1495 - val_loss: 0.0267 - val_accuracy: 0.2053\n"
          ],
          "name": "stdout"
        },
        {
          "output_type": "stream",
          "text": [
            "ic| n_batches: 46\n",
            "ic| n_batches: 46\n"
          ],
          "name": "stderr"
        },
        {
          "output_type": "stream",
          "text": [
            " — val_f1: [91.42 97.16 89.02 91.9  93.42 97.08 94.47  0.   92.8 ]\n",
            " — val_precision: [90.3  98.97 83.57 86.69 93.25 97.07 94.7   0.   92.34]\n",
            " — val_recall: [92.57 95.42 95.23 97.77 93.6  97.08 94.25  0.   93.27]\n",
            " — mean_f1: 83.03\n",
            "oa 94.62\n"
          ],
          "name": "stdout"
        },
        {
          "output_type": "stream",
          "text": [
            "ic| n_batches: 393\n"
          ],
          "name": "stderr"
        },
        {
          "output_type": "stream",
          "text": [
            "Epoch 58/70\n",
            "392/393 [============================>.] - ETA: 0s - loss: 0.0091 - accuracy: 0.1525"
          ],
          "name": "stdout"
        },
        {
          "output_type": "stream",
          "text": [
            "ic| n_batches: 393\n"
          ],
          "name": "stderr"
        },
        {
          "output_type": "stream",
          "text": [
            "393/393 [==============================] - 30s 77ms/step - loss: 0.0091 - accuracy: 0.1521 - val_loss: 0.0174 - val_accuracy: 0.2033\n"
          ],
          "name": "stdout"
        },
        {
          "output_type": "stream",
          "text": [
            "ic| n_batches: 46\n",
            "ic| n_batches: 46\n"
          ],
          "name": "stderr"
        },
        {
          "output_type": "stream",
          "text": [
            " — val_f1: [93.21 97.48 87.5  95.82 93.05 97.23 95.66  0.   96.17]\n",
            " — val_precision: [92.49 98.85 80.97 94.77 93.59 97.28 94.74  0.   96.49]\n",
            " — val_recall: [93.94 96.13 95.19 96.89 92.51 97.17 96.59  0.   95.86]\n",
            " — mean_f1: 84.01333333333334\n",
            "oa 95.63\n"
          ],
          "name": "stdout"
        },
        {
          "output_type": "stream",
          "text": [
            "ic| n_batches: 393\n"
          ],
          "name": "stderr"
        },
        {
          "output_type": "stream",
          "text": [
            "Epoch 59/70\n",
            "392/393 [============================>.] - ETA: 0s - loss: 0.0086 - accuracy: 0.1546"
          ],
          "name": "stdout"
        },
        {
          "output_type": "stream",
          "text": [
            "ic| n_batches: 393\n"
          ],
          "name": "stderr"
        },
        {
          "output_type": "stream",
          "text": [
            "393/393 [==============================] - 30s 76ms/step - loss: 0.0086 - accuracy: 0.1542 - val_loss: 0.0170 - val_accuracy: 0.2144\n"
          ],
          "name": "stdout"
        },
        {
          "output_type": "stream",
          "text": [
            "ic| n_batches: 46\n",
            "ic| n_batches: 46\n"
          ],
          "name": "stderr"
        },
        {
          "output_type": "stream",
          "text": [
            " — val_f1: [93.78 97.61 92.57 96.14 93.95 97.67 95.83  0.   95.56]\n",
            " — val_precision: [91.22 98.88 92.07 95.59 93.87 97.71 96.4   0.   95.22]\n",
            " — val_recall: [96.49 96.37 93.08 96.7  94.03 97.64 95.27  0.   95.9 ]\n",
            " — mean_f1: 84.78999999999999\n",
            "oa 96.0\n",
            "Found best weights at epoch 59\n"
          ],
          "name": "stdout"
        },
        {
          "output_type": "stream",
          "text": [
            "ic| n_batches: 393\n"
          ],
          "name": "stderr"
        },
        {
          "output_type": "stream",
          "text": [
            "Epoch 60/70\n",
            "392/393 [============================>.] - ETA: 0s - loss: 0.0083 - accuracy: 0.1536"
          ],
          "name": "stdout"
        },
        {
          "output_type": "stream",
          "text": [
            "ic| n_batches: 393\n"
          ],
          "name": "stderr"
        },
        {
          "output_type": "stream",
          "text": [
            "393/393 [==============================] - 30s 77ms/step - loss: 0.0083 - accuracy: 0.1533 - val_loss: 0.0160 - val_accuracy: 0.2059\n"
          ],
          "name": "stdout"
        },
        {
          "output_type": "stream",
          "text": [
            "ic| n_batches: 46\n",
            "ic| n_batches: 46\n"
          ],
          "name": "stderr"
        },
        {
          "output_type": "stream",
          "text": [
            " — val_f1: [94.45 97.71 93.4  96.65 94.26 97.35 96.37  0.   96.12]\n",
            " — val_precision: [92.93 98.8  92.63 96.19 94.26 97.12 96.1   0.   96.88]\n",
            " — val_recall: [96.03 96.64 94.19 97.11 94.27 97.57 96.64  0.   95.38]\n",
            " — mean_f1: 85.14555555555556\n",
            "oa 96.36\n",
            "Found best weights at epoch 60\n"
          ],
          "name": "stdout"
        },
        {
          "output_type": "stream",
          "text": [
            "ic| n_batches: 393\n"
          ],
          "name": "stderr"
        },
        {
          "output_type": "stream",
          "text": [
            "Epoch 61/70\n",
            "392/393 [============================>.] - ETA: 0s - loss: 0.0082 - accuracy: 0.1532"
          ],
          "name": "stdout"
        },
        {
          "output_type": "stream",
          "text": [
            "ic| n_batches: 393\n"
          ],
          "name": "stderr"
        },
        {
          "output_type": "stream",
          "text": [
            "393/393 [==============================] - 30s 76ms/step - loss: 0.0082 - accuracy: 0.1529 - val_loss: 0.0176 - val_accuracy: 0.2120\n"
          ],
          "name": "stdout"
        },
        {
          "output_type": "stream",
          "text": [
            "ic| n_batches: 46\n",
            "ic| n_batches: 46\n"
          ],
          "name": "stderr"
        },
        {
          "output_type": "stream",
          "text": [
            " — val_f1: [93.16 97.51 91.52 95.82 94.28 97.12 95.17  0.   95.96]\n",
            " — val_precision: [91.34 98.17 92.03 96.16 94.58 96.98 95.56  0.   96.47]\n",
            " — val_recall: [95.06 96.87 91.02 95.48 93.99 97.25 94.78  0.   95.46]\n",
            " — mean_f1: 84.50444444444445\n",
            "oa 95.67\n"
          ],
          "name": "stdout"
        },
        {
          "output_type": "stream",
          "text": [
            "ic| n_batches: 393\n"
          ],
          "name": "stderr"
        },
        {
          "output_type": "stream",
          "text": [
            "Epoch 62/70\n",
            "392/393 [============================>.] - ETA: 0s - loss: 0.0080 - accuracy: 0.1544"
          ],
          "name": "stdout"
        },
        {
          "output_type": "stream",
          "text": [
            "ic| n_batches: 393\n"
          ],
          "name": "stderr"
        },
        {
          "output_type": "stream",
          "text": [
            "393/393 [==============================] - 30s 76ms/step - loss: 0.0080 - accuracy: 0.1541 - val_loss: 0.0174 - val_accuracy: 0.2082\n"
          ],
          "name": "stdout"
        },
        {
          "output_type": "stream",
          "text": [
            "ic| n_batches: 46\n",
            "ic| n_batches: 46\n"
          ],
          "name": "stderr"
        },
        {
          "output_type": "stream",
          "text": [
            " — val_f1: [94.16 97.49 90.92 95.16 94.24 97.45 95.97 95.17]\n",
            " — val_precision: [92.78 99.03 86.72 92.3  94.14 98.   95.85 94.46]\n",
            " — val_recall: [95.58 96.   95.53 98.2  94.35 96.89 96.09 95.89]\n",
            " — mean_f1: 84.50666666666666\n",
            "oa 95.98\n"
          ],
          "name": "stdout"
        },
        {
          "output_type": "stream",
          "text": [
            "ic| n_batches: 393\n"
          ],
          "name": "stderr"
        },
        {
          "output_type": "stream",
          "text": [
            "Epoch 63/70\n",
            "392/393 [============================>.] - ETA: 0s - loss: 0.0079 - accuracy: 0.1562"
          ],
          "name": "stdout"
        },
        {
          "output_type": "stream",
          "text": [
            "ic| n_batches: 393\n"
          ],
          "name": "stderr"
        },
        {
          "output_type": "stream",
          "text": [
            "393/393 [==============================] - 29s 75ms/step - loss: 0.0079 - accuracy: 0.1559 - val_loss: 0.0132 - val_accuracy: 0.2044\n"
          ],
          "name": "stdout"
        },
        {
          "output_type": "stream",
          "text": [
            "ic| n_batches: 46\n",
            "ic| n_batches: 46\n"
          ],
          "name": "stderr"
        },
        {
          "output_type": "stream",
          "text": [
            " — val_f1: [93.4  97.65 91.93 96.51 92.8  96.33 95.41 90.47]\n",
            " — val_precision: [92.8  98.5  89.16 95.57 92.05 96.13 95.2  90.7 ]\n",
            " — val_recall: [94.01 96.81 94.88 97.47 93.57 96.54 95.61 90.24]\n",
            " — mean_f1: 83.83333333333333\n",
            "oa 95.67\n"
          ],
          "name": "stdout"
        },
        {
          "output_type": "stream",
          "text": [
            "ic| n_batches: 393\n"
          ],
          "name": "stderr"
        },
        {
          "output_type": "stream",
          "text": [
            "Epoch 64/70\n",
            "392/393 [============================>.] - ETA: 0s - loss: 0.0075 - accuracy: 0.1543"
          ],
          "name": "stdout"
        },
        {
          "output_type": "stream",
          "text": [
            "ic| n_batches: 393\n"
          ],
          "name": "stderr"
        },
        {
          "output_type": "stream",
          "text": [
            "393/393 [==============================] - 30s 77ms/step - loss: 0.0075 - accuracy: 0.1541 - val_loss: 0.0193 - val_accuracy: 0.2137\n"
          ],
          "name": "stdout"
        },
        {
          "output_type": "stream",
          "text": [
            "ic| n_batches: 46\n",
            "ic| n_batches: 46\n"
          ],
          "name": "stderr"
        },
        {
          "output_type": "stream",
          "text": [
            " — val_f1: [93.75 97.56 92.3  96.78 94.02 97.66 95.09 94.44]\n",
            " — val_precision: [91.41 98.62 90.77 96.48 94.47 97.44 95.71 93.45]\n",
            " — val_recall: [96.22 96.51 93.87 97.09 93.57 97.89 94.47 95.44]\n",
            " — mean_f1: 84.62222222222222\n",
            "oa 95.83\n"
          ],
          "name": "stdout"
        },
        {
          "output_type": "stream",
          "text": [
            "ic| n_batches: 393\n"
          ],
          "name": "stderr"
        },
        {
          "output_type": "stream",
          "text": [
            "Epoch 65/70\n",
            "392/393 [============================>.] - ETA: 0s - loss: 0.0103 - accuracy: 0.1522"
          ],
          "name": "stdout"
        },
        {
          "output_type": "stream",
          "text": [
            "ic| n_batches: 393\n"
          ],
          "name": "stderr"
        },
        {
          "output_type": "stream",
          "text": [
            "393/393 [==============================] - 29s 75ms/step - loss: 0.0103 - accuracy: 0.1518 - val_loss: 0.0204 - val_accuracy: 0.1905\n"
          ],
          "name": "stdout"
        },
        {
          "output_type": "stream",
          "text": [
            "ic| n_batches: 46\n",
            "ic| n_batches: 46\n"
          ],
          "name": "stderr"
        },
        {
          "output_type": "stream",
          "text": [
            " — val_f1: [92.09 95.61 87.67 94.4  93.74 96.16 91.93 90.57]\n",
            " — val_precision: [93.42 98.29 79.38 92.32 93.53 96.03 88.43 87.03]\n",
            " — val_recall: [90.81 93.06 97.89 96.58 93.95 96.29 95.73 94.41]\n",
            " — mean_f1: 82.46333333333332\n",
            "oa 93.65\n"
          ],
          "name": "stdout"
        },
        {
          "output_type": "stream",
          "text": [
            "ic| n_batches: 393\n"
          ],
          "name": "stderr"
        },
        {
          "output_type": "stream",
          "text": [
            "Epoch 66/70\n",
            "392/393 [============================>.] - ETA: 0s - loss: 0.0081 - accuracy: 0.1523"
          ],
          "name": "stdout"
        },
        {
          "output_type": "stream",
          "text": [
            "ic| n_batches: 393\n"
          ],
          "name": "stderr"
        },
        {
          "output_type": "stream",
          "text": [
            "393/393 [==============================] - 30s 77ms/step - loss: 0.0081 - accuracy: 0.1521 - val_loss: 0.0184 - val_accuracy: 0.1973\n"
          ],
          "name": "stdout"
        },
        {
          "output_type": "stream",
          "text": [
            "ic| n_batches: 46\n",
            "ic| n_batches: 46\n"
          ],
          "name": "stderr"
        },
        {
          "output_type": "stream",
          "text": [
            " — val_f1: [94.02 96.86 90.78 94.83 93.26 97.   94.69 93.37]\n",
            " — val_precision: [94.5  98.68 84.7  92.06 93.02 96.62 92.89 91.2 ]\n",
            " — val_recall: [93.56 95.11 97.81 97.76 93.5  97.4  96.55 95.65]\n",
            " — mean_f1: 83.86777777777777\n",
            "oa 95.29\n"
          ],
          "name": "stdout"
        },
        {
          "output_type": "stream",
          "text": [
            "ic| n_batches: 393\n"
          ],
          "name": "stderr"
        },
        {
          "output_type": "stream",
          "text": [
            "Epoch 67/70\n",
            "392/393 [============================>.] - ETA: 0s - loss: 0.0071 - accuracy: 0.1531"
          ],
          "name": "stdout"
        },
        {
          "output_type": "stream",
          "text": [
            "ic| n_batches: 393\n"
          ],
          "name": "stderr"
        },
        {
          "output_type": "stream",
          "text": [
            "393/393 [==============================] - 30s 76ms/step - loss: 0.0071 - accuracy: 0.1528 - val_loss: 0.0155 - val_accuracy: 0.2054\n"
          ],
          "name": "stdout"
        },
        {
          "output_type": "stream",
          "text": [
            "ic| n_batches: 46\n",
            "ic| n_batches: 46\n"
          ],
          "name": "stderr"
        },
        {
          "output_type": "stream",
          "text": [
            " — val_f1: [94.21 97.57 90.03 95.77 93.9  97.65 95.79 93.98]\n",
            " — val_precision: [93.61 98.81 84.21 93.65 93.63 98.43 95.46 92.39]\n",
            " — val_recall: [94.81 96.37 96.71 98.   94.16 96.88 96.13 95.63]\n",
            " — mean_f1: 84.32222222222224\n",
            "oa 95.97\n"
          ],
          "name": "stdout"
        },
        {
          "output_type": "stream",
          "text": [
            "ic| n_batches: 393\n"
          ],
          "name": "stderr"
        },
        {
          "output_type": "stream",
          "text": [
            "Epoch 68/70\n",
            "392/393 [============================>.] - ETA: 0s - loss: 0.0068 - accuracy: 0.1531"
          ],
          "name": "stdout"
        },
        {
          "output_type": "stream",
          "text": [
            "ic| n_batches: 393\n"
          ],
          "name": "stderr"
        },
        {
          "output_type": "stream",
          "text": [
            "393/393 [==============================] - 29s 75ms/step - loss: 0.0068 - accuracy: 0.1528 - val_loss: 0.0150 - val_accuracy: 0.2100\n"
          ],
          "name": "stdout"
        },
        {
          "output_type": "stream",
          "text": [
            "ic| n_batches: 46\n",
            "ic| n_batches: 46\n"
          ],
          "name": "stderr"
        },
        {
          "output_type": "stream",
          "text": [
            " — val_f1: [94.13 97.61 94.07 95.85 94.07 97.33 95.84 94.12]\n",
            " — val_precision: [92.48 98.87 91.28 93.61 93.98 97.71 96.19 92.81]\n",
            " — val_recall: [95.84 96.38 97.04 98.21 94.17 96.94 95.5  95.47]\n",
            " — mean_f1: 84.78\n",
            "oa 96.06\n"
          ],
          "name": "stdout"
        },
        {
          "output_type": "stream",
          "text": [
            "ic| n_batches: 393\n"
          ],
          "name": "stderr"
        },
        {
          "output_type": "stream",
          "text": [
            "Epoch 69/70\n",
            "392/393 [============================>.] - ETA: 0s - loss: 0.0066 - accuracy: 0.1528"
          ],
          "name": "stdout"
        },
        {
          "output_type": "stream",
          "text": [
            "ic| n_batches: 393\n"
          ],
          "name": "stderr"
        },
        {
          "output_type": "stream",
          "text": [
            "393/393 [==============================] - 30s 76ms/step - loss: 0.0066 - accuracy: 0.1525 - val_loss: 0.0158 - val_accuracy: 0.2093\n"
          ],
          "name": "stdout"
        },
        {
          "output_type": "stream",
          "text": [
            "ic| n_batches: 46\n",
            "ic| n_batches: 46\n"
          ],
          "name": "stderr"
        },
        {
          "output_type": "stream",
          "text": [
            " — val_f1: [94.44 97.47 94.22 95.23 93.5  97.52 95.99  0.   93.76]\n",
            " — val_precision: [92.91 98.63 91.86 93.05 93.83 97.84 96.25  0.   92.3 ]\n",
            " — val_recall: [96.02 96.35 96.7  97.51 93.18 97.2  95.74  0.   95.26]\n",
            " — mean_f1: 84.68111111111111\n",
            "oa 96.03\n"
          ],
          "name": "stdout"
        },
        {
          "output_type": "stream",
          "text": [
            "ic| n_batches: 393\n"
          ],
          "name": "stderr"
        },
        {
          "output_type": "stream",
          "text": [
            "Epoch 70/70\n",
            "392/393 [============================>.] - ETA: 0s - loss: 0.0064 - accuracy: 0.1524"
          ],
          "name": "stdout"
        },
        {
          "output_type": "stream",
          "text": [
            "ic| n_batches: 393\n"
          ],
          "name": "stderr"
        },
        {
          "output_type": "stream",
          "text": [
            "393/393 [==============================] - 29s 75ms/step - loss: 0.0064 - accuracy: 0.1521 - val_loss: 0.0183 - val_accuracy: 0.2060\n"
          ],
          "name": "stdout"
        },
        {
          "output_type": "stream",
          "text": [
            "ic| n_batches: 46\n",
            "ic| n_batches: 46\n"
          ],
          "name": "stderr"
        },
        {
          "output_type": "stream",
          "text": [
            " — val_f1: [94.31 97.51 90.94 95.52 93.78 97.5  95.56  0.   91.99]\n",
            " — val_precision: [93.06 99.1  85.74 93.43 93.22 97.66 95.44  0.   89.18]\n",
            " — val_recall: [95.6  95.96 96.81 97.71 94.36 97.33 95.67  0.   94.97]\n",
            " — mean_f1: 84.12333333333333\n",
            "oa 95.86\n",
            "Restoring model weights from the end of the best epoch.\n",
            "Epoch %05d: early stopping\n",
            "f1 history [41.093333333333334, 48.74222222222222, 60.275555555555556, 67.38000000000001, 71.41333333333333, 74.39000000000001, 76.51666666666667, 77.14111111111112, 77.21888888888888, 78.70999999999998, 79.20333333333332, 79.55888888888889, 78.98333333333332, 78.26444444444445, 78.94999999999999, 80.58999999999999, 80.66444444444444, 80.09333333333333, 82.82444444444445, 80.49222222222221, 80.82444444444445, 83.54222222222222, 81.30333333333334, 81.22666666666666, 78.57777777777778, 83.48555555555555, 83.51111111111112, 82.7988888888889, 83.53333333333335, 80.32666666666667, 82.29, 84.0611111111111, 83.72111111111111, 83.96333333333334, 83.56, 81.27888888888889, 81.28, 83.52444444444444, 83.50444444444446, 83.2588888888889, 82.6288888888889, 84.38222222222223, 84.26666666666665, 84.41222222222223, 83.95666666666668, 82.99888888888887, 80.63444444444445, 83.61888888888889, 84.18444444444444, 84.31444444444443, 84.5488888888889, 82.29333333333334, 83.71777777777777, 84.2688888888889, 84.15333333333334, 81.52555555555556, 83.03, 84.01333333333334, 84.78999999999999, 85.14555555555556, 84.50444444444445, 84.50666666666666, 83.83333333333333, 84.62222222222222, 82.46333333333332, 83.86777777777777, 84.32222222222224, 84.78, 84.68111111111111, 84.12333333333333]\n",
            "oa history [64.09, 74.52, 78.98, 81.45, 84.28, 85.7, 87.43, 87.8, 87.11, 87.78, 91.22, 89.94, 89.94, 86.37, 90.18, 91.79, 92.3, 91.53, 94.29, 92.3, 91.81, 94.35, 92.81, 91.44, 91.54, 95.02, 94.87, 94.3, 95.05, 91.83, 93.76, 95.49, 94.87, 95.5, 95.26, 92.82, 92.28, 94.3, 95.03, 95.11, 94.49, 95.91, 95.9, 96.01, 95.79, 94.83, 90.37, 94.32, 95.23, 95.01, 95.22, 94.43, 94.97, 95.74, 95.92, 92.59, 94.62, 95.63, 96.0, 96.36, 95.67, 95.98, 95.67, 95.83, 93.65, 95.29, 95.97, 96.06, 96.03, 95.86]\n"
          ],
          "name": "stdout"
        },
        {
          "output_type": "stream",
          "text": [
            "ic| im.shape: (12, 8492, 7995, 2)\n",
            "ic| self.batch_size: 1\n",
            "ic| self.patch_size: 32\n",
            "ic| n_batches: 4626\n",
            "ic| n_batches: 4626\n"
          ],
          "name": "stderr"
        },
        {
          "output_type": "stream",
          "text": [
            "======================= METRICS GET\n",
            "[@debug] prediction.shape,debug,2 = (4626, 32, 32, 9)\n",
            "[@debug] label.shape,debug,2 = (4626, 32, 32)\n",
            "[@debug] prediction.shape = (4626, 32, 32)\n",
            "[@debug] prediction.shape = (4737024,)\n",
            "Metric real unique+1,count [1 2 3 4 5 6 7 8 9] [ 730790 1199149   25986   88785  312353   83385  362633     308   89533]\n",
            "Metric prediction unique+1,count [1 2 3 4 5 6 7 8 9] [ 679229 1161480   37861  120499  206527   97874  457573     406  131473]\n",
            "[@debug] metrics_test = {'f1_score': 0.6843557379887292, 'f1_score_weighted': 0.7583788159543936, 'f1_score_noavg': array([0.67803342, 0.90892216, 0.44775792, 0.62576212, 0.67029756,\n",
            "       0.88580429, 0.54878896, 0.73669468, 0.65714053]), 'overall_acc': 0.7545070347558628, 'confusion_matrix': array([[ 478020,   45288,    6693,   11134,    7276,    1010,  177434,\n",
            "             46,    3889],\n",
            "       [  65900, 1072814,    6229,    5367,    4997,    1597,   36561,\n",
            "              4,    5680],\n",
            "       [   3650,    1268,   14294,      24,      98,       0,    6652,\n",
            "              0,       0],\n",
            "       [   6114,    5281,      36,   65481,    3838,     221,    3274,\n",
            "             60,    4480],\n",
            "       [  29754,    3623,   10329,   32877,  173902,   11527,    8249,\n",
            "             15,   42077],\n",
            "       [     20,     144,      26,     529,    1086,   80280,      41,\n",
            "              0,    1259],\n",
            "       [  94964,   32343,     254,    3050,    5255,     221,  225060,\n",
            "             18,    1468],\n",
            "       [      0,       3,       0,      13,      24,       1,       0,\n",
            "            263,       4],\n",
            "       [    807,     716,       0,    2024,   10051,    3017,     302,\n",
            "              0,   72616]]), 'per_class_acc': array([0.65411404, 0.89464612, 0.55006542, 0.73752323, 0.55674829,\n",
            "       0.96276309, 0.62062747, 0.8538961 , 0.81105291]), 'average_acc': 0.7379374078158139}\n"
          ],
          "name": "stdout"
        },
        {
          "output_type": "display_data",
          "data": {
            "image/png": "[encoded data removed]",
            "text/plain": [
              "<Figure size 432x288 with 1 Axes>"
            ]
          },
          "metadata": {
            "tags": [],
            "needs_background": "light"
          }
        }
      ]
    },
    {
      "cell_type": "code",
      "metadata": {
        "id": "im68QpP-JvbR"
      },
      "source": [
        "trainTest.evaluate()"
      ],
      "execution_count": null,
      "outputs": []
    }
  ]
}