{
  "nbformat": 4,
  "nbformat_minor": 0,
  "metadata": {
    "colab": {
      "name": "Welcome To Colaboratory",
      "provenance": [],
      "collapsed_sections": [],
      "machine_shape": "hm",
      "include_colab_link": true
    },
    "kernelspec": {
      "display_name": "Python 3",
      "name": "python3"
    },
    "accelerator": "GPU"
  },
  "cells": [
    {
      "cell_type": "markdown",
      "metadata": {
        "id": "view-in-github",
        "colab_type": "text"
      },
      "source": [
        "<a href=\"https://colab.research.google.com/github/DiMorten/FCN_ConvLSTM_Crop_Recognition_Open_Set/blob/coords4/train_and_evaluate.ipynb\" target=\"_parent\"><img src=\"https://colab.research.google.com/assets/colab-badge.svg\" alt=\"Open In Colab\"/></a>"
      ]
    },
    {
      "cell_type": "markdown",
      "metadata": {
        "id": "LJ7UjI3YD4w8"
      },
      "source": [
        "## Dependencies"
      ]
    },
    {
      "cell_type": "code",
      "metadata": {
        "id": "jJZd_oJYCkmN",
        "colab": {
          "base_uri": "https://localhost:8080/"
        },
        "outputId": "1c8d66f1-cb12-4756-fff6-d68b0c3a4bfe"
      },
      "source": [
        "!pip install icecream\n",
        "%tensorflow_version 1.x\n",
        "import os\n",
        "!pip install kora\n",
        "from kora import drive\n",
        "import time\n",
        "!pip install colorama\n",
        "\n",
        "ds_path='/content/drive/My Drive/PhD/datasets/cv_data/'"
      ],
      "execution_count": 1,
      "outputs": [
        {
          "output_type": "stream",
          "text": [
            "Requirement already satisfied: icecream in /usr/local/lib/python3.7/dist-packages (2.1.1)\n",
            "Requirement already satisfied: asttokens>=2.0.1 in /usr/local/lib/python3.7/dist-packages (from icecream) (2.0.5)\n",
            "Requirement already satisfied: pygments>=2.2.0 in /usr/local/lib/python3.7/dist-packages (from icecream) (2.6.1)\n",
            "Requirement already satisfied: colorama>=0.3.9 in /usr/local/lib/python3.7/dist-packages (from icecream) (0.4.4)\n",
            "Requirement already satisfied: executing>=0.3.1 in /usr/local/lib/python3.7/dist-packages (from icecream) (0.7.0)\n",
            "Requirement already satisfied: six in /usr/local/lib/python3.7/dist-packages (from asttokens>=2.0.1->icecream) (1.15.0)\n",
            "TensorFlow 1.x selected.\n",
            "Requirement already satisfied: kora in /usr/local/lib/python3.7/dist-packages (0.9.19)\n",
            "Requirement already satisfied: fastcore in /usr/local/lib/python3.7/dist-packages (from kora) (1.3.24)\n",
            "Requirement already satisfied: ipython in /usr/local/lib/python3.7/dist-packages (from kora) (5.5.0)\n",
            "Requirement already satisfied: packaging in /usr/local/lib/python3.7/dist-packages (from fastcore->kora) (21.0)\n",
            "Requirement already satisfied: pip in /usr/local/lib/python3.7/dist-packages (from fastcore->kora) (21.1.3)\n",
            "Requirement already satisfied: decorator in /usr/local/lib/python3.7/dist-packages (from ipython->kora) (4.4.2)\n",
            "Requirement already satisfied: simplegeneric>0.8 in /usr/local/lib/python3.7/dist-packages (from ipython->kora) (0.8.1)\n",
            "Requirement already satisfied: traitlets>=4.2 in /usr/local/lib/python3.7/dist-packages (from ipython->kora) (5.0.5)\n",
            "Requirement already satisfied: setuptools>=18.5 in /usr/local/lib/python3.7/dist-packages (from ipython->kora) (57.2.0)\n",
            "Requirement already satisfied: pygments in /usr/local/lib/python3.7/dist-packages (from ipython->kora) (2.6.1)\n",
            "Requirement already satisfied: pickleshare in /usr/local/lib/python3.7/dist-packages (from ipython->kora) (0.7.5)\n",
            "Requirement already satisfied: pexpect in /usr/local/lib/python3.7/dist-packages (from ipython->kora) (4.8.0)\n",
            "Requirement already satisfied: prompt-toolkit<2.0.0,>=1.0.4 in /usr/local/lib/python3.7/dist-packages (from ipython->kora) (1.0.18)\n",
            "Requirement already satisfied: six>=1.9.0 in /usr/local/lib/python3.7/dist-packages (from prompt-toolkit<2.0.0,>=1.0.4->ipython->kora) (1.15.0)\n",
            "Requirement already satisfied: wcwidth in /usr/local/lib/python3.7/dist-packages (from prompt-toolkit<2.0.0,>=1.0.4->ipython->kora) (0.2.5)\n",
            "Requirement already satisfied: ipython-genutils in /usr/local/lib/python3.7/dist-packages (from traitlets>=4.2->ipython->kora) (0.2.0)\n",
            "Requirement already satisfied: pyparsing>=2.0.2 in /usr/local/lib/python3.7/dist-packages (from packaging->fastcore->kora) (2.4.7)\n",
            "Requirement already satisfied: ptyprocess>=0.5 in /usr/local/lib/python3.7/dist-packages (from pexpect->ipython->kora) (0.7.0)\n",
            "Requirement already satisfied: colorama in /usr/local/lib/python3.7/dist-packages (0.4.4)\n"
          ],
          "name": "stdout"
        }
      ]
    },
    {
      "cell_type": "code",
      "metadata": {
        "id": "Cosqh5n5Pewo",
        "colab": {
          "base_uri": "https://localhost:8080/"
        },
        "outputId": "d71f62e9-ee2a-4060-8e1b-f4861db6c85f"
      },
      "source": [
        "\n",
        "from google.colab import drive\n",
        "drive.mount('/content/drive')"
      ],
      "execution_count": 2,
      "outputs": [
        {
          "output_type": "stream",
          "text": [
            "Drive already mounted at /content/drive; to attempt to forcibly remount, call drive.mount(\"/content/drive\", force_remount=True).\n"
          ],
          "name": "stdout"
        }
      ]
    },
    {
      "cell_type": "code",
      "metadata": {
        "colab": {
          "base_uri": "https://localhost:8080/"
        },
        "id": "gJr_9dXGpJ05",
        "outputId": "36ea89dd-5163-46f1-888c-6e8e0ec76a05"
      },
      "source": [
        "git_clone = True\n",
        "\n",
        "if git_clone == True:\n",
        "  os.chdir('/content')\n",
        "  %rm -rf FCN_ConvLSTM_Crop_Recognition_Open_Set\n",
        "  !git clone --branch coords4 https://github.com/DiMorten/FCN_ConvLSTM_Crop_Recognition_Open_Set.git"
      ],
      "execution_count": 3,
      "outputs": [
        {
          "output_type": "stream",
          "text": [
            "Cloning into 'FCN_ConvLSTM_Crop_Recognition_Open_Set'...\n",
            "remote: Enumerating objects: 1944, done.\u001b[K\n",
            "remote: Counting objects: 100% (1944/1944), done.\u001b[K\n",
            "remote: Compressing objects: 100% (1422/1422), done.\u001b[K\n",
            "remote: Total 1944 (delta 1259), reused 982 (delta 335), pack-reused 0\u001b[K\n",
            "Receiving objects: 100% (1944/1944), 37.35 MiB | 24.30 MiB/s, done.\n",
            "Resolving deltas: 100% (1259/1259), done.\n"
          ],
          "name": "stdout"
        }
      ]
    },
    {
      "cell_type": "markdown",
      "metadata": {
        "id": "Xdj6CiT0Dz9l"
      },
      "source": [
        "## Download images into proper folder"
      ]
    },
    {
      "cell_type": "code",
      "metadata": {
        "id": "5q1eoQFaYvB4"
      },
      "source": [
        "!cp -r /content/drive/MyDrive/PhD/datasets/cv_data /content/FCN_ConvLSTM_Crop_Recognition_Open_Set/dataset/dataset/"
      ],
      "execution_count": 4,
      "outputs": []
    },
    {
      "cell_type": "code",
      "metadata": {
        "id": "vvzH-luqPoiU",
        "colab": {
          "base_uri": "https://localhost:8080/"
        },
        "outputId": "7f5e9c97-faad-4054-87c1-e05fa689c5b3"
      },
      "source": [
        "os.chdir('/content/FCN_ConvLSTM_Crop_Recognition_Open_Set/networks/convlstm_networks/train_src')\n",
        "os.getcwd()\n",
        "os.listdir()"
      ],
      "execution_count": 5,
      "outputs": [
        {
          "output_type": "execute_result",
          "data": {
            "text/plain": [
              "['keras_weighted_categorical_crossentropy.py',\n",
              " 'mosaic.py',\n",
              " 'patch_extractor.py',\n",
              " '__init__.py',\n",
              " 'metrics.py',\n",
              " 'model_best_UUnet4ConvLSTM_jun_cv_criteria_0_92',\n",
              " 'mosaic.py.old',\n",
              " 'densnet.py',\n",
              " 'analysis',\n",
              " 'dataset.py',\n",
              " 'monitor.py',\n",
              " 'densnet_timedistributed.py',\n",
              " 'deb.py',\n",
              " 'model_input_mode.py',\n",
              " 'model.py',\n",
              " 'generator.py',\n",
              " 'main.py',\n",
              " 'obj',\n",
              " 'parameters']"
            ]
          },
          "metadata": {
            "tags": []
          },
          "execution_count": 5
        }
      ]
    },
    {
      "cell_type": "code",
      "metadata": {
        "id": "CUsDu9hhDZT8",
        "colab": {
          "base_uri": "https://localhost:8080/"
        },
        "outputId": "406717ed-127e-4f10-82b7-73fff2dfd1f3"
      },
      "source": [
        "from colorama import init\n",
        "init()\n",
        "from keras.layers import Input, Dense, Conv2D, MaxPool2D, Flatten, Dropout, Conv2DTranspose\n",
        "# from keras.callbacks import ModelCheckpoint , EarlyStopping\n",
        "from keras.optimizers import Adam,Adagrad \n",
        "from keras.models import Model\n",
        "from keras import backend as K\n",
        "import keras\n",
        "\n",
        "import numpy as np\n",
        "from sklearn.utils import shuffle\n",
        "import cv2\n",
        "import argparse\n",
        "import tensorflow as tf\n",
        "\n",
        "from keras.models import *\n",
        "from keras.layers import *\n",
        "from keras.optimizers import *\n",
        "from keras import metrics\n",
        "import sys\n",
        "import glob\n",
        "\n",
        "from sklearn.metrics import confusion_matrix,f1_score,accuracy_score,classification_report\n",
        "# Local\n",
        "from densnet import DenseNetFCN\n",
        "from densnet_timedistributed import DenseNetFCNTimeDistributed\n",
        "\n",
        "#from metrics import fmeasure,categorical_accuracy\n",
        "import deb\n",
        "from keras_weighted_categorical_crossentropy import weighted_categorical_crossentropy, sparse_accuracy_ignoring_last_label, weighted_categorical_crossentropy_ignoring_last_label, categorical_focal_ignoring_last_label, weighted_categorical_focal_ignoring_last_label\n",
        "from keras.models import load_model\n",
        "from keras.layers import ConvLSTM2D, UpSampling2D, multiply\n",
        "from keras.utils.vis_utils import plot_model\n",
        "from keras.regularizers import l1,l2\n",
        "import time\n",
        "import pickle\n",
        "#from keras_self_attention import SeqSelfAttention\n",
        "import pdb\n",
        "import pathlib\n",
        "from pathlib import Path, PureWindowsPath\n",
        "from keras.layers import Conv3DTranspose, Conv3D\n",
        "\n",
        "from keras.callbacks import EarlyStopping\n",
        "import tensorflow as tf\n",
        "from collections import Counter\n",
        "\n",
        "\n",
        "#from datagenerator import DataGenerator\n",
        "from generator import DataGenerator, DataGeneratorWithCoords, DataGeneratorWithCoordsRandom\n",
        "\n",
        "import matplotlib.pyplot as plt\n",
        "sys.path.append('../../../dataset/dataset/patches_extract_script/')\n",
        "from dataSource import DataSource, SARSource, OpticalSource, Dataset, LEM, LEM2, CampoVerde, OpticalSourceWithClouds, Humidity\n",
        "from model_input_mode import MIMFixed, MIMVarLabel, MIMVarSeqLabel, MIMVarLabel_PaddedSeq, MIMFixedLabelAllLabels, MIMFixed_PaddedSeq\n",
        "from parameters.parameters_reader import ParamsTrain\n",
        "\n",
        "from icecream import ic\n",
        "from monitor import Monitor, MonitorNPY, MonitorGenerator, MonitorNPYAndGenerator\n",
        "import natsort\n",
        "from model import NetModel, ModelFit, ModelLoadGeneratorWithCoords\n",
        "from dataset import Dataset, DatasetWithCoords\n",
        "\n",
        "from patch_extractor import PatchExtractor\n",
        "ic.configureOutput(includeContext=False)\n",
        "np.random.seed(2021)\n",
        "tf.set_random_seed(2021)\n",
        "\n",
        "from main import TrainTest"
      ],
      "execution_count": 6,
      "outputs": [
        {
          "output_type": "stream",
          "text": [
            "Using TensorFlow backend.\n",
            "[@debug] parameters_reader.py:94 in __init__()- self.seq_date: 'mar'\n"
          ],
          "name": "stderr"
        },
        {
          "output_type": "stream",
          "text": [
            "self.known_classes [0, 1, 2, 3, 4, 5, 6, 7, 8, 9, 10, 11, 12, 13]\n"
          ],
          "name": "stdout"
        },
        {
          "output_type": "stream",
          "text": [
            "[@debug] parameters_reader.py:153 in __init__()- self.stride: 25\n"
          ],
          "name": "stderr"
        },
        {
          "output_type": "stream",
          "text": [
            "['parameters_openset.json', 'parameters_reader.py', 'save_nonaugmented_train_patches_lessclass8.json', '__pycache__', 'parameters_closedset_groupclasses_lessclass8.json', 'params_batchprocessing.py', '__init__.py', 'twokkc_parameters_openset.json', 'parameters_closedset_groupclasses.json', 'twokkc_save_nonaugmented_train_patches.json', 'parameters_openset_specifyunknownclasses.json', 'twokkc_parameters_closedset_groupclasses.json', 'cv', 'parameters_openset_lessclass8.json', 'params_reconstruct.py', 'allkkc_parameters_openset.json', 'save_nonaugmented_train_patches.json', 'allkkc_save_nonaugmented_train_patches.json', 'save_nonaugmented_train_patches_unknownclasses.json', 'no_mode.json']\n",
            "[@debug] paramsTrain.seq_mode = fixed\n",
            "[@debug] paramsTrain.mim = <model_input_mode.MIMFixed_PaddedSeq object at 0x7f9e92e960d0>\n"
          ],
          "name": "stdout"
        }
      ]
    },
    {
      "cell_type": "code",
      "metadata": {
        "id": "uIs_yF23Psa_",
        "colab": {
          "base_uri": "https://localhost:8080/"
        },
        "outputId": "80fd54c9-e3dc-49bc-fef9-c43ff3c9e815"
      },
      "source": [
        "!nvidia-smi"
      ],
      "execution_count": 7,
      "outputs": [
        {
          "output_type": "stream",
          "text": [
            "Sat Jul 31 20:20:03 2021       \n",
            "+-----------------------------------------------------------------------------+\n",
            "| NVIDIA-SMI 470.42.01    Driver Version: 460.32.03    CUDA Version: 11.2     |\n",
            "|-------------------------------+----------------------+----------------------+\n",
            "| GPU  Name        Persistence-M| Bus-Id        Disp.A | Volatile Uncorr. ECC |\n",
            "| Fan  Temp  Perf  Pwr:Usage/Cap|         Memory-Usage | GPU-Util  Compute M. |\n",
            "|                               |                      |               MIG M. |\n",
            "|===============================+======================+======================|\n",
            "|   0  Tesla P100-PCIE...  Off  | 00000000:00:04.0 Off |                    0 |\n",
            "| N/A   33C    P0    25W / 250W |      0MiB / 16280MiB |      0%      Default |\n",
            "|                               |                      |                  N/A |\n",
            "+-------------------------------+----------------------+----------------------+\n",
            "                                                                               \n",
            "+-----------------------------------------------------------------------------+\n",
            "| Processes:                                                                  |\n",
            "|  GPU   GI   CI        PID   Type   Process name                  GPU Memory |\n",
            "|        ID   ID                                                   Usage      |\n",
            "|=============================================================================|\n",
            "|  No running processes found                                                 |\n",
            "+-----------------------------------------------------------------------------+\n"
          ],
          "name": "stdout"
        }
      ]
    },
    {
      "cell_type": "markdown",
      "metadata": {
        "id": "3ODvyAOie5NU"
      },
      "source": [
        "## Set parameters\n",
        "\n",
        "Parameters can be modified in /content/FCN_ConvLSTM_Crop_Recognition_Open_Set/networks/convlstm_networks/train_src/parameters/parameters_reader.py"
      ]
    },
    {
      "cell_type": "code",
      "metadata": {
        "id": "On6HSUJwDsCU",
        "colab": {
          "base_uri": "https://localhost:8080/"
        },
        "outputId": "3a8c453e-850e-4ab1-b9a2-c519ff878588"
      },
      "source": [
        "from pathlib import Path\n",
        "\n",
        "paramsTrain = ParamsTrain('parameters/')\n",
        "paramsTrain.mim = MIMFixed_PaddedSeq()\n",
        "\n",
        "paramsTrain.getFullIms = False\n",
        "paramsTrain.coordsExtract = True\n",
        "paramsTrain.train = True\n",
        "\n",
        "paramsTrain.train_overlap_percentage = 0\n",
        "paramsTrain.trainGeneratorRandom = False\n",
        "paramsTrain.patch_len = 32\n",
        "paramsTrain.stride = int(paramsTrain.patch_len - paramsTrain.patch_len * paramsTrain.train_overlap_percentage)\n",
        "paramsTrain.patch_step_train = paramsTrain.stride\n",
        "paramsTrain.patch_step_test = paramsTrain.patch_len # to do: paramsTrain.getCalculatedParams() does these calculations\n",
        "\n",
        "paramsTrain.dataset = 'cv'\n",
        "paramsTrain.seq_date = 'jun'\n",
        "paramsTrain.path = Path(\"../../../dataset/dataset/\") / (paramsTrain.dataset + \"_data\")\n",
        "\n",
        "paramsTrain.test_overlap_percentage = 0\n",
        "\n",
        "paramsTrain.dataSource = SARSource()\n",
        "\n",
        "trainTest = TrainTest(paramsTrain)\n",
        "\n",
        "patchExtractor = PatchExtractor(paramsTrain, trainTest.ds)\t\n",
        "\n"
      ],
      "execution_count": 8,
      "outputs": [
        {
          "output_type": "stream",
          "text": [
            "[@debug] parameters_reader.py:94 in __init__()- self.seq_date: 'mar'\n"
          ],
          "name": "stderr"
        },
        {
          "output_type": "stream",
          "text": [
            "self.known_classes [0, 1, 2, 3, 4, 5, 6, 7, 8, 9, 10, 11, 12, 13]\n"
          ],
          "name": "stdout"
        },
        {
          "output_type": "stream",
          "text": [
            "[@debug] parameters_reader.py:153 in __init__()- self.stride: 25\n"
          ],
          "name": "stderr"
        },
        {
          "output_type": "stream",
          "text": [
            "['parameters_openset.json', 'parameters_reader.py', 'save_nonaugmented_train_patches_lessclass8.json', '__pycache__', 'parameters_closedset_groupclasses_lessclass8.json', 'params_batchprocessing.py', '__init__.py', 'twokkc_parameters_openset.json', 'parameters_closedset_groupclasses.json', 'twokkc_save_nonaugmented_train_patches.json', 'parameters_openset_specifyunknownclasses.json', 'twokkc_parameters_closedset_groupclasses.json', 'cv', 'parameters_openset_lessclass8.json', 'params_reconstruct.py', 'allkkc_parameters_openset.json', 'save_nonaugmented_train_patches.json', 'allkkc_save_nonaugmented_train_patches.json', 'save_nonaugmented_train_patches_unknownclasses.json', 'no_mode.json']\n",
            "[@debug] self.ds = <dataSource.CampoVerde object at 0x7f9e92ec7490>\n",
            "20151029\n",
            "20151110\n",
            "20151122\n",
            "20151204\n",
            "20151216\n",
            "20160121\n",
            "20160214\n",
            "20160309\n",
            "20160321\n",
            "20160508\n",
            "20160520\n",
            "20160613\n",
            "dotys_sin_cos.shape (12, 2)\n",
            "[302, 314, 326, 338, 350, 21, 45, 69, 81, 129, 141, 165]\n",
            "[[0.05084 0.7197 ]\n",
            " [0.1053  0.807  ]\n",
            " [0.1764  0.8813 ]\n",
            " [0.2612  0.9395 ]\n",
            " [0.3562  0.979  ]\n",
            " [0.6685  0.9707 ]\n",
            " [0.843   0.8643 ]\n",
            " [0.96    0.6963 ]\n",
            " [0.99    0.598  ]\n",
            " [0.905   0.2068 ]\n",
            " [0.8364  0.1301 ]\n",
            " [0.66    0.02637]]\n"
          ],
          "name": "stdout"
        },
        {
          "output_type": "stream",
          "text": [
            "[@debug] patch_extractor.py:17 in __init__()\n",
            "         self.dataSource: <dataSource.SARSource object at 0x7f9e92ec7390>\n",
            "[@debug] patch_extractor.py:26 in __init__()\n",
            "         self.conf['path']/self.label_folder/\"/\": PosixPath('/')\n",
            "[@debug] patch_extractor.py:35 in __init__()\n",
            "         self.conf[\"in_npy_path\"]: PosixPath('../../../dataset/dataset/cv_data/in_sar')\n",
            "[@debug] patch_extractor.py:43 in __init__()\n",
            "         self.conf[\"train\"][\"mask\"][\"dir\"]: PosixPath('../../../dataset/dataset/cv_data/TrainTestMask.tif')\n",
            "[@debug] patch_extractor.py:44 in __init__()\n",
            "         os.getcwd(): '/content/FCN_ConvLSTM_Crop_Recognition_Open_Set/networks/convlstm_networks/train_src'\n"
          ],
          "name": "stderr"
        }
      ]
    },
    {
      "cell_type": "markdown",
      "metadata": {
        "id": "eqA-z0Ju9-xO"
      },
      "source": [
        "## Download or load sequence of images\n"
      ]
    },
    {
      "cell_type": "code",
      "metadata": {
        "id": "8BaFQV6M9yKS",
        "colab": {
          "base_uri": "https://localhost:8080/"
        },
        "outputId": "fbb71f53-5143-4d73-cca7-f805315978d9"
      },
      "source": [
        "if paramsTrain.getFullIms == True:\n",
        "  patchExtractor.getFullIms()\t\n",
        "else:\n",
        "  patchExtractor.fullImsLoad()\n"
      ],
      "execution_count": 9,
      "outputs": [
        {
          "output_type": "stream",
          "text": [
            "[@debug] patch_extractor.py:90 in getFullIms()\n",
            "         patch[\"full_ims\"].shape: (12, 8492, 7995, 2)\n",
            "[@debug] patch_extractor.py:91 in getFullIms()\n",
            "         self.dataset.im_list: ['20151029_S1',\n",
            "                                '20151110_S1',\n",
            "                                '20151122_S1',\n",
            "                                '20151204_S1',\n",
            "                                '20151216_S1',\n",
            "                                '20160121_S1',\n",
            "                                '20160214_S1',\n",
            "                                '20160309_S1',\n",
            "                                '20160321_S1',\n",
            "                                '20160508_S1',\n",
            "                                '20160520_S1',\n",
            "                                '20160613_S1']\n"
          ],
          "name": "stderr"
        },
        {
          "output_type": "stream",
          "text": [
            "0 0\n",
            "[@debug] conf[\"in_npy_path\"]/(im_names[t_step]+\".npy\") = ../../../dataset/dataset/cv_data/in_sar/20151029_S1.npy\n",
            "[@debug] patch[\"full_ims\"].dtype = float16\n",
            "[@debug] np.average(patch[\"full_ims\"][t_step]) = 0.1871337890625\n",
            "[@debug] np.max(patch[\"full_ims\"][t_step]) = 1.0\n",
            "[@debug] np.min(patch[\"full_ims\"][t_step]) = 4.172325134277344e-07\n",
            "../../../dataset/dataset/cv_data/labels/20151029_S1.tif\n",
            "[@debug] conf[\"path\"]/(self.dataSource.label_folder+\"/\"+label_names[t_step]+\".tif\") = ../../../dataset/dataset/cv_data/labels/20151029_S1.tif\n",
            "[@debug] np.unique(patch[\"full_label_ims\"][t_step],return_counts=True) = (array([ 0,  1,  2,  6,  7,  8,  9, 10, 11], dtype=int8), array([61778564,    45178,    51808,   131138,   438371,   155189,\n",
            "        5136068,     1007,   156217]))\n",
            "1 0\n",
            "[@debug] conf[\"in_npy_path\"]/(im_names[t_step]+\".npy\") = ../../../dataset/dataset/cv_data/in_sar/20151110_S1.npy\n",
            "[@debug] patch[\"full_ims\"].dtype = float16\n",
            "[@debug] np.average(patch[\"full_ims\"][t_step]) = 0.180419921875\n",
            "[@debug] np.max(patch[\"full_ims\"][t_step]) = 1.9267578125\n",
            "[@debug] np.min(patch[\"full_ims\"][t_step]) = 2.384185791015625e-07\n",
            "../../../dataset/dataset/cv_data/labels/20151110_S1.tif\n",
            "[@debug] conf[\"path\"]/(self.dataSource.label_folder+\"/\"+label_names[t_step]+\".tif\") = ../../../dataset/dataset/cv_data/labels/20151110_S1.tif\n",
            "[@debug] np.unique(patch[\"full_label_ims\"][t_step],return_counts=True) = (array([ 0,  1,  2,  5,  6,  7,  8,  9, 10, 11], dtype=int8), array([61778564,  1524080,    27056,    11783,   432952,   419824,\n",
            "         155189,  3386868,     1007,   156217]))\n",
            "2 0\n",
            "[@debug] conf[\"in_npy_path\"]/(im_names[t_step]+\".npy\") = ../../../dataset/dataset/cv_data/in_sar/20151122_S1.npy\n",
            "[@debug] patch[\"full_ims\"].dtype = float16\n",
            "[@debug] np.average(patch[\"full_ims\"][t_step]) = 0.1802978515625\n",
            "[@debug] np.max(patch[\"full_ims\"][t_step]) = 1.7099609375\n",
            "[@debug] np.min(patch[\"full_ims\"][t_step]) = 2.384185791015625e-07\n",
            "../../../dataset/dataset/cv_data/labels/20151122_S1.tif\n",
            "[@debug] conf[\"path\"]/(self.dataSource.label_folder+\"/\"+label_names[t_step]+\".tif\") = ../../../dataset/dataset/cv_data/labels/20151122_S1.tif\n",
            "[@debug] np.unique(patch[\"full_label_ims\"][t_step],return_counts=True) = (array([ 0,  1,  2,  5,  6,  7,  8,  9, 10, 11], dtype=int8), array([61778564,  1524080,    27056,    11783,   432952,   419824,\n",
            "         155189,  3386868,     1007,   156217]))\n",
            "3 0\n",
            "[@debug] conf[\"in_npy_path\"]/(im_names[t_step]+\".npy\") = ../../../dataset/dataset/cv_data/in_sar/20151204_S1.npy\n",
            "[@debug] patch[\"full_ims\"].dtype = float16\n",
            "[@debug] np.average(patch[\"full_ims\"][t_step]) = 0.1793212890625\n",
            "[@debug] np.max(patch[\"full_ims\"][t_step]) = 3.447265625\n",
            "[@debug] np.min(patch[\"full_ims\"][t_step]) = 1.1920928955078125e-07\n",
            "../../../dataset/dataset/cv_data/labels/20151204_S1.tif\n",
            "[@debug] conf[\"path\"]/(self.dataSource.label_folder+\"/\"+label_names[t_step]+\".tif\") = ../../../dataset/dataset/cv_data/labels/20151204_S1.tif\n",
            "[@debug] np.unique(patch[\"full_label_ims\"][t_step],return_counts=True) = (array([ 0,  1,  2,  3,  4,  5,  6,  7,  8,  9, 10, 11], dtype=int8), array([61778564,  4496663,    35095,    18211,     2197,    11783,\n",
            "         366875,   419824,   155189,   451915,     1007,   156217]))\n",
            "4 0\n",
            "[@debug] conf[\"in_npy_path\"]/(im_names[t_step]+\".npy\") = ../../../dataset/dataset/cv_data/in_sar/20151216_S1.npy\n",
            "[@debug] patch[\"full_ims\"].dtype = float16\n",
            "[@debug] np.average(patch[\"full_ims\"][t_step]) = 0.1737060546875\n",
            "[@debug] np.max(patch[\"full_ims\"][t_step]) = 1.373046875\n",
            "[@debug] np.min(patch[\"full_ims\"][t_step]) = 1.7881393432617188e-07\n",
            "../../../dataset/dataset/cv_data/labels/20151216_S1.tif\n",
            "[@debug] conf[\"path\"]/(self.dataSource.label_folder+\"/\"+label_names[t_step]+\".tif\") = ../../../dataset/dataset/cv_data/labels/20151216_S1.tif\n",
            "[@debug] np.unique(patch[\"full_label_ims\"][t_step],return_counts=True) = (array([ 0,  1,  2,  3,  4,  5,  6,  7,  8,  9, 10, 11], dtype=int8), array([61778564,  4496663,    35095,    18211,     2197,    11783,\n",
            "         366875,   419824,   155189,   451915,     1007,   156217]))\n",
            "5 0\n",
            "[@debug] conf[\"in_npy_path\"]/(im_names[t_step]+\".npy\") = ../../../dataset/dataset/cv_data/in_sar/20160121_S1.npy\n",
            "[@debug] patch[\"full_ims\"].dtype = float16\n",
            "[@debug] np.average(patch[\"full_ims\"][t_step]) = 0.159912109375\n",
            "[@debug] np.max(patch[\"full_ims\"][t_step]) = 138.0\n",
            "[@debug] np.min(patch[\"full_ims\"][t_step]) = 3.2186508178710938e-06\n",
            "../../../dataset/dataset/cv_data/labels/20160121_S1.tif\n",
            "[@debug] conf[\"path\"]/(self.dataSource.label_folder+\"/\"+label_names[t_step]+\".tif\") = ../../../dataset/dataset/cv_data/labels/20160121_S1.tif\n",
            "[@debug] np.unique(patch[\"full_label_ims\"][t_step],return_counts=True) = (array([ 0,  1,  2,  3,  4,  6,  7,  8,  9, 10, 11], dtype=int8), array([61778564,  2956904,     8039,    18211,     2197,     8859,\n",
            "         419824,   155189,  2388529,     1007,   156217]))\n",
            "6 0\n",
            "[@debug] conf[\"in_npy_path\"]/(im_names[t_step]+\".npy\") = ../../../dataset/dataset/cv_data/in_sar/20160214_S1.npy\n",
            "[@debug] patch[\"full_ims\"].dtype = float16\n",
            "[@debug] np.average(patch[\"full_ims\"][t_step]) = 0.171630859375\n",
            "[@debug] np.max(patch[\"full_ims\"][t_step]) = 1.4169921875\n",
            "[@debug] np.min(patch[\"full_ims\"][t_step]) = 7.748603820800781e-07\n",
            "../../../dataset/dataset/cv_data/labels/20160214_S1.tif\n",
            "[@debug] conf[\"path\"]/(self.dataSource.label_folder+\"/\"+label_names[t_step]+\".tif\") = ../../../dataset/dataset/cv_data/labels/20160214_S1.tif\n",
            "[@debug] np.unique(patch[\"full_label_ims\"][t_step],return_counts=True) = (array([ 0,  1,  2,  3,  4,  6,  7,  8,  9, 10, 11], dtype=int8), array([61778564,  2183414,     8039,   116684,     2197,     8006,\n",
            "         419824,   155189,  3064399,     1007,   156217]))\n",
            "7 0\n",
            "[@debug] conf[\"in_npy_path\"]/(im_names[t_step]+\".npy\") = ../../../dataset/dataset/cv_data/in_sar/20160309_S1.npy\n",
            "[@debug] patch[\"full_ims\"].dtype = float16\n",
            "[@debug] np.average(patch[\"full_ims\"][t_step]) = 0.188232421875\n",
            "[@debug] np.max(patch[\"full_ims\"][t_step]) = 2.869140625\n",
            "[@debug] np.min(patch[\"full_ims\"][t_step]) = 3.5762786865234375e-07\n",
            "../../../dataset/dataset/cv_data/labels/20160309_S1.tif\n",
            "[@debug] conf[\"path\"]/(self.dataSource.label_folder+\"/\"+label_names[t_step]+\".tif\") = ../../../dataset/dataset/cv_data/labels/20160309_S1.tif\n",
            "[@debug] np.unique(patch[\"full_label_ims\"][t_step],return_counts=True) = (array([ 0,  1,  2,  3,  4,  6,  7,  8,  9, 10, 11], dtype=int8), array([61778564,    10049,   900649,  2084968,     2197,     8006,\n",
            "         419824,   155189,  2376870,     1007,   156217]))\n",
            "8 0\n",
            "[@debug] conf[\"in_npy_path\"]/(im_names[t_step]+\".npy\") = ../../../dataset/dataset/cv_data/in_sar/20160321_S1.npy\n",
            "[@debug] patch[\"full_ims\"].dtype = float16\n",
            "[@debug] np.average(patch[\"full_ims\"][t_step]) = 0.16064453125\n",
            "[@debug] np.max(patch[\"full_ims\"][t_step]) = 3.5390625\n",
            "[@debug] np.min(patch[\"full_ims\"][t_step]) = 0.0\n",
            "../../../dataset/dataset/cv_data/labels/20160321_S1.tif\n",
            "[@debug] conf[\"path\"]/(self.dataSource.label_folder+\"/\"+label_names[t_step]+\".tif\") = ../../../dataset/dataset/cv_data/labels/20160321_S1.tif\n",
            "[@debug] np.unique(patch[\"full_label_ims\"][t_step],return_counts=True) = (array([ 0,  1,  2,  3,  4,  6,  7,  8,  9, 10, 11], dtype=int8), array([61778564,    10049,   900649,  2084968,     2197,     8006,\n",
            "         419824,   155189,  2376870,     1007,   156217]))\n",
            "9 0\n",
            "[@debug] conf[\"in_npy_path\"]/(im_names[t_step]+\".npy\") = ../../../dataset/dataset/cv_data/in_sar/20160508_S1.npy\n",
            "[@debug] patch[\"full_ims\"].dtype = float16\n",
            "[@debug] np.average(patch[\"full_ims\"][t_step]) = 0.154541015625\n",
            "[@debug] np.max(patch[\"full_ims\"][t_step]) = 1.1572265625\n",
            "[@debug] np.min(patch[\"full_ims\"][t_step]) = 0.0\n",
            "../../../dataset/dataset/cv_data/labels/20160508_S1.tif\n",
            "[@debug] conf[\"path\"]/(self.dataSource.label_folder+\"/\"+label_names[t_step]+\".tif\") = ../../../dataset/dataset/cv_data/labels/20160508_S1.tif\n",
            "[@debug] np.unique(patch[\"full_label_ims\"][t_step],return_counts=True) = (array([ 0,  2,  3,  4,  5,  6,  7,  8,  9, 10, 11], dtype=int8), array([61778564,  2187712,  2771075,    57536,     2285,   236822,\n",
            "         525054,   155189,    22079,     1007,   156217]))\n",
            "10 0\n",
            "[@debug] conf[\"in_npy_path\"]/(im_names[t_step]+\".npy\") = ../../../dataset/dataset/cv_data/in_sar/20160520_S1.npy\n",
            "[@debug] patch[\"full_ims\"].dtype = float16\n",
            "[@debug] np.average(patch[\"full_ims\"][t_step]) = 0.16552734375\n",
            "[@debug] np.max(patch[\"full_ims\"][t_step]) = 3.634765625\n",
            "[@debug] np.min(patch[\"full_ims\"][t_step]) = 0.0\n",
            "../../../dataset/dataset/cv_data/labels/20160520_S1.tif\n",
            "[@debug] conf[\"path\"]/(self.dataSource.label_folder+\"/\"+label_names[t_step]+\".tif\") = ../../../dataset/dataset/cv_data/labels/20160520_S1.tif\n",
            "[@debug] np.unique(patch[\"full_label_ims\"][t_step],return_counts=True) = (array([ 0,  2,  3,  4,  5,  6,  7,  8,  9, 10, 11], dtype=int8), array([61778564,  2187712,  2771075,    57536,     2285,   236822,\n",
            "         525054,   155189,    22079,     1007,   156217]))\n",
            "11 0\n",
            "[@debug] conf[\"in_npy_path\"]/(im_names[t_step]+\".npy\") = ../../../dataset/dataset/cv_data/in_sar/20160613_S1.npy\n",
            "[@debug] patch[\"full_ims\"].dtype = float16\n",
            "[@debug] np.average(patch[\"full_ims\"][t_step]) = 0.140380859375\n",
            "[@debug] np.max(patch[\"full_ims\"][t_step]) = 4.57421875\n",
            "[@debug] np.min(patch[\"full_ims\"][t_step]) = 0.0\n",
            "../../../dataset/dataset/cv_data/labels/20160613_S1.tif\n",
            "[@debug] conf[\"path\"]/(self.dataSource.label_folder+\"/\"+label_names[t_step]+\".tif\") = ../../../dataset/dataset/cv_data/labels/20160613_S1.tif\n",
            "[@debug] np.unique(patch[\"full_label_ims\"][t_step],return_counts=True) = (array([ 0,  2,  3,  4,  6,  7,  8,  9, 10, 11], dtype=int8), array([61778564,  1441022,  2573657,    57536,   225585,   525054,\n",
            "         155189,   979709,     1007,   156217]))\n"
          ],
          "name": "stdout"
        },
        {
          "output_type": "stream",
          "text": [
            "[@debug] dataSource.py:369 in im_load()\n",
            "         patch[\"full_ims\"].shape: (12, 8492, 7995, 2)\n",
            "[@debug] dataSource.py:370 in im_load()\n",
            "         patch[\"full_label_ims\"].shape: (12, 8492, 7995)\n",
            "[@debug] dataSource.py:371 in im_load()\n",
            "         patch[\"full_ims\"].dtype: dtype('float16')\n",
            "[@debug] dataSource.py:372 in im_load()\n",
            "         patch[\"full_label_ims\"].dtype: dtype('int8')\n"
          ],
          "name": "stderr"
        },
        {
          "output_type": "stream",
          "text": [
            "[@debug] np.unique(patch['full_label_ims'],return_counts=True) = (array([ 0,  1,  2,  3,  4,  5,  6,  7,  8,  9, 10, 11], dtype=int8), array([741342768,  17247080,   7809932,  12457060,    185790,     51702,\n",
            "         2462898,   5372125,   1862268,  24044169,     12084,   1874604]))\n",
            "0.0 1.0 0.1702\n",
            "[@debug] self.dataset.name = cv\n",
            "[@debug] self.dataset.scaler_name = cv\n",
            "[@debug] self.dataset.seq_mode = fixed\n",
            "[@debug] self.dataset.seq_date = jun\n",
            "[@debug] self.dataset.scaler_load = False\n",
            "[@debug] im.shape = (12, 8492, 7995, 2)\n",
            "[@debug] im_flat[mask_flat==1,:].shape = (38664648, 2)\n",
            "0.0001407 1.0 0.0779\n",
            "[@debug] im_norm.shape = (12, 8492, 7995, 2)\n",
            "FINISHED NORMALIZING, RESULT:\n",
            "-1.432 51.53 3.117\n",
            "[@debug] im.shape = (12, 8492, 7995)\n",
            "[@debug] mask_train.shape = (8492, 7995)\n",
            "[@debug] im.dtype = uint8\n",
            "[@debug] mask_train.dtype = uint8\n",
            "[@debug] im_train.shape = (12, 8492, 7995)\n",
            "Train masked unique/count [ 0  1  2  3  4  5  6  7  8  9 10 11] [776057832   9399025   4170646   6930141    103494     34628   1280237\n",
            "   2371008    861648  12705225      8388    800208]\n",
            "Test masked unique/count [ 0  1  2  3  4  5  6  7  8  9 10 11] [780007416   7848055   3639286   5526919     82296     17074   1182661\n",
            "   3001117   1000620  11338944      3696   1074396]\n"
          ],
          "name": "stdout"
        },
        {
          "output_type": "stream",
          "text": [
            "[@debug] patch_extractor.py:127 in getFullIms()\n",
            "         self.paramsTrain.path / 'full_ims/full_ims_test.npy': PosixPath('../../../dataset/dataset/cv_data/full_ims/full_ims_test.npy')\n"
          ],
          "name": "stderr"
        }
      ]
    },
    {
      "cell_type": "markdown",
      "metadata": {
        "id": "R5FPmIpS-Hqu"
      },
      "source": [
        "## Extract coords of image patches"
      ]
    },
    {
      "cell_type": "code",
      "metadata": {
        "id": "2XzJoNO896wl",
        "colab": {
          "base_uri": "https://localhost:8080/"
        },
        "outputId": "3f25f7bd-93cf-455c-d7c0-a00d3b91d1d7"
      },
      "source": [
        "\n",
        "if paramsTrain.coordsExtract == True:\n",
        "  patchExtractor.extract()\n",
        "\n",
        "del patchExtractor\n",
        "\n"
      ],
      "execution_count": 10,
      "outputs": [
        {
          "output_type": "stream",
          "text": [
            "STARTED PATCH EXTRACTION\n",
            "[@debug] gridx.shape = (320,)\n",
            "[@debug] gridy.shape = (340,)\n"
          ],
          "name": "stdout"
        },
        {
          "output_type": "stream",
          "text": [
            "[@debug] patch_extractor.py:205 in extract()\n",
            "         coords_train.shape: (8187, 2)\n",
            "         coords_test.shape: (7586, 2)\n",
            "[@debug] patch_extractor.py:206 in extract()\n",
            "         coords_train.dtype: dtype('int64')\n",
            "[@debug] patch_extractor.py:207 in extract()\n",
            "         coords_train[0]: array([7566,  666])\n"
          ],
          "name": "stderr"
        }
      ]
    },
    {
      "cell_type": "markdown",
      "metadata": {
        "id": "2fhs6GZ4qFMx"
      },
      "source": [
        "## Train\n"
      ]
    },
    {
      "cell_type": "code",
      "metadata": {
        "id": "TZztSJXG977M",
        "colab": {
          "base_uri": "https://localhost:8080/",
          "height": 1000
        },
        "outputId": "9864df8b-f927-4c89-9db5-9d19cf5b112a"
      },
      "source": [
        "\n",
        "model_name_id = 'model_best_' + paramsTrain.model_type + '_' + \\\n",
        "    paramsTrain.seq_date + '_' + paramsTrain.dataset + '_' + \\\n",
        "    paramsTrain.model_name + '.h5'\n",
        "\n",
        "\n",
        "trainTest.setData()\n",
        "trainTest.setModel()\n",
        "\n",
        "trainTest.preprocess(model_name_id) # move into if\n",
        "if paramsTrain.train == True:\n",
        "  trainTest.train()\n",
        "else:\n",
        "  trainTest.modelLoad(model_name_id)\n",
        "\n"
      ],
      "execution_count": 12,
      "outputs": [
        {
          "output_type": "stream",
          "text": [
            "Initializing object...\n",
            "12 2\n",
            "[@debug] self.channel_n = 2\n"
          ],
          "name": "stdout"
        },
        {
          "output_type": "stream",
          "text": [
            "[@debug] dataset.py:97 in __init__()- self.class_n: 10\n"
          ],
          "name": "stderr"
        },
        {
          "output_type": "stream",
          "text": [
            "[@debug] self.t_len = 12\n",
            "Initializing Dataset instance\n"
          ],
          "name": "stdout"
        },
        {
          "output_type": "stream",
          "text": [
            "[@debug] main.py:192 in setData()- self.data.class_n: 10\n"
          ],
          "name": "stderr"
        },
        {
          "output_type": "stream",
          "text": [
            "Initializing object...\n",
            "12 2\n",
            "[@debug] self.channel_n = 2\n",
            "[@debug] self.t_len = 12\n",
            "Initializing Model instance\n",
            "[@debug] self.mp = {'dense': {'recurrent_filters': 128, 'nb_dense_block': 2, 'growth_rate': 64, 'nb_layers_per_block': 1}, 'unet': {'recurrent_filters': 128, 'filter_size': 16}, 'atrous': {'recurrent_filters': 128, 'filter_size': 16, 'dilation_rate_mode': 'auto', 'dilation_rates': [1, 2, 4, 8]}}\n",
            "[@debug] self.stop_epoch = 400\n"
          ],
          "name": "stdout"
        },
        {
          "output_type": "stream",
          "text": [
            "[@debug] main.py:206 in setModel()- self.model.class_n: 9\n",
            "[@debug] main.py:207 in setModel()- self.data.class_n: 10\n"
          ],
          "name": "stderr"
        },
        {
          "output_type": "stream",
          "text": [
            "[@debug] self.data.class_n = 10\n",
            "[@debug] self.t_len = 12\n",
            "[@debug] self.model_t_len = 12\n",
            "[@debug] output_shape = (None, 8, 8, 64)\n",
            "[@debug] K.int_shape(x) = (None, 12, 8, 8, 64)\n",
            "[@debug] K.int_shape(res2) = (None, 8, 8, 64)\n",
            "[@debug] K.int_shape(p3) = (None, 8, 8, 64)\n",
            "[@debug] K.int_shape(d3) = (None, 8, 8, 64)\n",
            "[@debug] output_shape = (None, 16, 16, 32)\n",
            "[@debug] K.int_shape(x) = (None, 12, 16, 16, 32)\n",
            "[@debug] K.int_shape(res2) = (None, 16, 16, 32)\n",
            "[@debug] K.int_shape(p2) = (None, 16, 16, 32)\n",
            "[@debug] K.int_shape(d2) = (None, 16, 16, 32)\n",
            "[@debug] output_shape = (None, 32, 32, 16)\n",
            "[@debug] K.int_shape(x) = (None, 12, 32, 32, 16)\n",
            "[@debug] K.int_shape(res2) = (None, 32, 32, 16)\n",
            "[@debug] K.int_shape(p1) = (None, 32, 32, 16)\n",
            "[@debug] K.int_shape(d1) = (None, 32, 32, 16)\n",
            "Model: \"model_2\"\n",
            "__________________________________________________________________________________________________\n",
            "Layer (type)                    Output Shape         Param #     Connected to                     \n",
            "==================================================================================================\n",
            "input_2 (InputLayer)            (None, 12, 32, 32, 2 0                                            \n",
            "__________________________________________________________________________________________________\n",
            "time_distributed_8 (TimeDistrib (None, 12, 32, 32, 1 304         input_2[0][0]                    \n",
            "__________________________________________________________________________________________________\n",
            "batch_normalization_11 (BatchNo (None, 12, 32, 32, 1 64          time_distributed_8[0][0]         \n",
            "__________________________________________________________________________________________________\n",
            "activation_11 (Activation)      (None, 12, 32, 32, 1 0           batch_normalization_11[0][0]     \n",
            "__________________________________________________________________________________________________\n",
            "time_distributed_9 (TimeDistrib (None, 12, 32, 32, 1 2320        activation_11[0][0]              \n",
            "__________________________________________________________________________________________________\n",
            "batch_normalization_12 (BatchNo (None, 12, 32, 32, 1 64          time_distributed_9[0][0]         \n",
            "__________________________________________________________________________________________________\n",
            "activation_12 (Activation)      (None, 12, 32, 32, 1 0           batch_normalization_12[0][0]     \n",
            "__________________________________________________________________________________________________\n",
            "time_distributed_10 (TimeDistri (None, 12, 16, 16, 1 0           activation_12[0][0]              \n",
            "__________________________________________________________________________________________________\n",
            "time_distributed_11 (TimeDistri (None, 12, 16, 16, 3 4640        time_distributed_10[0][0]        \n",
            "__________________________________________________________________________________________________\n",
            "batch_normalization_13 (BatchNo (None, 12, 16, 16, 3 128         time_distributed_11[0][0]        \n",
            "__________________________________________________________________________________________________\n",
            "activation_13 (Activation)      (None, 12, 16, 16, 3 0           batch_normalization_13[0][0]     \n",
            "__________________________________________________________________________________________________\n",
            "time_distributed_12 (TimeDistri (None, 12, 8, 8, 32) 0           activation_13[0][0]              \n",
            "__________________________________________________________________________________________________\n",
            "time_distributed_13 (TimeDistri (None, 12, 8, 8, 64) 18496       time_distributed_12[0][0]        \n",
            "__________________________________________________________________________________________________\n",
            "batch_normalization_14 (BatchNo (None, 12, 8, 8, 64) 256         time_distributed_13[0][0]        \n",
            "__________________________________________________________________________________________________\n",
            "activation_14 (Activation)      (None, 12, 8, 8, 64) 0           batch_normalization_14[0][0]     \n",
            "__________________________________________________________________________________________________\n",
            "time_distributed_14 (TimeDistri (None, 12, 4, 4, 64) 0           activation_14[0][0]              \n",
            "__________________________________________________________________________________________________\n",
            "conv_lst_m2d_2 (ConvLSTM2D)     (None, 4, 4, 256)    2950144     time_distributed_14[0][0]        \n",
            "__________________________________________________________________________________________________\n",
            "conv2d_transpose_4 (Conv2DTrans (None, 8, 8, 64)     147520      conv_lst_m2d_2[0][0]             \n",
            "__________________________________________________________________________________________________\n",
            "batch_normalization_15 (BatchNo (None, 8, 8, 64)     256         conv2d_transpose_4[0][0]         \n",
            "__________________________________________________________________________________________________\n",
            "activation_15 (Activation)      (None, 8, 8, 64)     0           batch_normalization_15[0][0]     \n",
            "__________________________________________________________________________________________________\n",
            "lambda_4 (Lambda)               (None, 8, 8, 64)     0           activation_14[0][0]              \n",
            "__________________________________________________________________________________________________\n",
            "concatenate_4 (Concatenate)     (None, 8, 8, 128)    0           activation_15[0][0]              \n",
            "                                                                 lambda_4[0][0]                   \n",
            "__________________________________________________________________________________________________\n",
            "conv2d_13 (Conv2D)              (None, 8, 8, 64)     73792       concatenate_4[0][0]              \n",
            "__________________________________________________________________________________________________\n",
            "batch_normalization_16 (BatchNo (None, 8, 8, 64)     256         conv2d_13[0][0]                  \n",
            "__________________________________________________________________________________________________\n",
            "activation_16 (Activation)      (None, 8, 8, 64)     0           batch_normalization_16[0][0]     \n",
            "__________________________________________________________________________________________________\n",
            "conv2d_transpose_5 (Conv2DTrans (None, 16, 16, 32)   18464       activation_16[0][0]              \n",
            "__________________________________________________________________________________________________\n",
            "batch_normalization_17 (BatchNo (None, 16, 16, 32)   128         conv2d_transpose_5[0][0]         \n",
            "__________________________________________________________________________________________________\n",
            "activation_17 (Activation)      (None, 16, 16, 32)   0           batch_normalization_17[0][0]     \n",
            "__________________________________________________________________________________________________\n",
            "lambda_5 (Lambda)               (None, 16, 16, 32)   0           activation_13[0][0]              \n",
            "__________________________________________________________________________________________________\n",
            "concatenate_5 (Concatenate)     (None, 16, 16, 64)   0           activation_17[0][0]              \n",
            "                                                                 lambda_5[0][0]                   \n",
            "__________________________________________________________________________________________________\n",
            "conv2d_14 (Conv2D)              (None, 16, 16, 32)   18464       concatenate_5[0][0]              \n",
            "__________________________________________________________________________________________________\n",
            "batch_normalization_18 (BatchNo (None, 16, 16, 32)   128         conv2d_14[0][0]                  \n",
            "__________________________________________________________________________________________________\n",
            "activation_18 (Activation)      (None, 16, 16, 32)   0           batch_normalization_18[0][0]     \n",
            "__________________________________________________________________________________________________\n",
            "conv2d_transpose_6 (Conv2DTrans (None, 32, 32, 16)   4624        activation_18[0][0]              \n",
            "__________________________________________________________________________________________________\n",
            "batch_normalization_19 (BatchNo (None, 32, 32, 16)   64          conv2d_transpose_6[0][0]         \n",
            "__________________________________________________________________________________________________\n",
            "activation_19 (Activation)      (None, 32, 32, 16)   0           batch_normalization_19[0][0]     \n",
            "__________________________________________________________________________________________________\n",
            "lambda_6 (Lambda)               (None, 32, 32, 16)   0           activation_12[0][0]              \n",
            "__________________________________________________________________________________________________\n",
            "concatenate_6 (Concatenate)     (None, 32, 32, 32)   0           activation_19[0][0]              \n",
            "                                                                 lambda_6[0][0]                   \n",
            "__________________________________________________________________________________________________\n",
            "conv2d_15 (Conv2D)              (None, 32, 32, 16)   4624        concatenate_6[0][0]              \n",
            "__________________________________________________________________________________________________\n",
            "batch_normalization_20 (BatchNo (None, 32, 32, 16)   64          conv2d_15[0][0]                  \n",
            "__________________________________________________________________________________________________\n",
            "activation_20 (Activation)      (None, 32, 32, 16)   0           batch_normalization_20[0][0]     \n",
            "__________________________________________________________________________________________________\n",
            "conv2d_16 (Conv2D)              (None, 32, 32, 9)    153         activation_20[0][0]              \n",
            "==================================================================================================\n",
            "Total params: 3,244,953\n",
            "Trainable params: 3,244,249\n",
            "Non-trainable params: 704\n",
            "__________________________________________________________________________________________________\n",
            "None\n",
            "Model: \"model_2\"\n",
            "_____________________________________________________________________________________________________________________________\n",
            "Layer (type)                             Output Shape               Param #        Connected to                              \n",
            "=============================================================================================================================\n",
            "input_2 (InputLayer)                     (None, 12, 32, 32, 2)      0                                                        \n",
            "_____________________________________________________________________________________________________________________________\n",
            "time_distributed_8 (TimeDistributed)     (None, 12, 32, 32, 16)     304            input_2[0][0]                             \n",
            "_____________________________________________________________________________________________________________________________\n",
            "batch_normalization_11 (BatchNormalizati (None, 12, 32, 32, 16)     64             time_distributed_8[0][0]                  \n",
            "_____________________________________________________________________________________________________________________________\n",
            "activation_11 (Activation)               (None, 12, 32, 32, 16)     0              batch_normalization_11[0][0]              \n",
            "_____________________________________________________________________________________________________________________________\n",
            "time_distributed_9 (TimeDistributed)     (None, 12, 32, 32, 16)     2320           activation_11[0][0]                       \n",
            "_____________________________________________________________________________________________________________________________\n",
            "batch_normalization_12 (BatchNormalizati (None, 12, 32, 32, 16)     64             time_distributed_9[0][0]                  \n",
            "_____________________________________________________________________________________________________________________________\n",
            "activation_12 (Activation)               (None, 12, 32, 32, 16)     0              batch_normalization_12[0][0]              \n",
            "_____________________________________________________________________________________________________________________________\n",
            "time_distributed_10 (TimeDistributed)    (None, 12, 16, 16, 16)     0              activation_12[0][0]                       \n",
            "_____________________________________________________________________________________________________________________________\n",
            "time_distributed_11 (TimeDistributed)    (None, 12, 16, 16, 32)     4640           time_distributed_10[0][0]                 \n",
            "_____________________________________________________________________________________________________________________________\n",
            "batch_normalization_13 (BatchNormalizati (None, 12, 16, 16, 32)     128            time_distributed_11[0][0]                 \n",
            "_____________________________________________________________________________________________________________________________\n",
            "activation_13 (Activation)               (None, 12, 16, 16, 32)     0              batch_normalization_13[0][0]              \n",
            "_____________________________________________________________________________________________________________________________\n",
            "time_distributed_12 (TimeDistributed)    (None, 12, 8, 8, 32)       0              activation_13[0][0]                       \n",
            "_____________________________________________________________________________________________________________________________\n",
            "time_distributed_13 (TimeDistributed)    (None, 12, 8, 8, 64)       18496          time_distributed_12[0][0]                 \n",
            "_____________________________________________________________________________________________________________________________\n",
            "batch_normalization_14 (BatchNormalizati (None, 12, 8, 8, 64)       256            time_distributed_13[0][0]                 \n",
            "_____________________________________________________________________________________________________________________________\n",
            "activation_14 (Activation)               (None, 12, 8, 8, 64)       0              batch_normalization_14[0][0]              \n",
            "_____________________________________________________________________________________________________________________________\n",
            "time_distributed_14 (TimeDistributed)    (None, 12, 4, 4, 64)       0              activation_14[0][0]                       \n",
            "_____________________________________________________________________________________________________________________________\n",
            "conv_lst_m2d_2 (ConvLSTM2D)              (None, 4, 4, 256)          2950144        time_distributed_14[0][0]                 \n",
            "_____________________________________________________________________________________________________________________________\n",
            "conv2d_transpose_4 (Conv2DTranspose)     (None, 8, 8, 64)           147520         conv_lst_m2d_2[0][0]                      \n",
            "_____________________________________________________________________________________________________________________________\n",
            "batch_normalization_15 (BatchNormalizati (None, 8, 8, 64)           256            conv2d_transpose_4[0][0]                  \n",
            "_____________________________________________________________________________________________________________________________\n",
            "activation_15 (Activation)               (None, 8, 8, 64)           0              batch_normalization_15[0][0]              \n",
            "_____________________________________________________________________________________________________________________________\n",
            "lambda_4 (Lambda)                        (None, 8, 8, 64)           0              activation_14[0][0]                       \n",
            "_____________________________________________________________________________________________________________________________\n",
            "concatenate_4 (Concatenate)              (None, 8, 8, 128)          0              activation_15[0][0]                       \n",
            "                                                                                   lambda_4[0][0]                            \n",
            "_____________________________________________________________________________________________________________________________\n",
            "conv2d_13 (Conv2D)                       (None, 8, 8, 64)           73792          concatenate_4[0][0]                       \n",
            "_____________________________________________________________________________________________________________________________\n",
            "batch_normalization_16 (BatchNormalizati (None, 8, 8, 64)           256            conv2d_13[0][0]                           \n",
            "_____________________________________________________________________________________________________________________________\n",
            "activation_16 (Activation)               (None, 8, 8, 64)           0              batch_normalization_16[0][0]              \n",
            "_____________________________________________________________________________________________________________________________\n",
            "conv2d_transpose_5 (Conv2DTranspose)     (None, 16, 16, 32)         18464          activation_16[0][0]                       \n",
            "_____________________________________________________________________________________________________________________________\n",
            "batch_normalization_17 (BatchNormalizati (None, 16, 16, 32)         128            conv2d_transpose_5[0][0]                  \n",
            "_____________________________________________________________________________________________________________________________\n",
            "activation_17 (Activation)               (None, 16, 16, 32)         0              batch_normalization_17[0][0]              \n",
            "_____________________________________________________________________________________________________________________________\n",
            "lambda_5 (Lambda)                        (None, 16, 16, 32)         0              activation_13[0][0]                       \n",
            "_____________________________________________________________________________________________________________________________\n",
            "concatenate_5 (Concatenate)              (None, 16, 16, 64)         0              activation_17[0][0]                       \n",
            "                                                                                   lambda_5[0][0]                            \n",
            "_____________________________________________________________________________________________________________________________\n",
            "conv2d_14 (Conv2D)                       (None, 16, 16, 32)         18464          concatenate_5[0][0]                       \n",
            "_____________________________________________________________________________________________________________________________\n",
            "batch_normalization_18 (BatchNormalizati (None, 16, 16, 32)         128            conv2d_14[0][0]                           \n",
            "_____________________________________________________________________________________________________________________________\n",
            "activation_18 (Activation)               (None, 16, 16, 32)         0              batch_normalization_18[0][0]              \n",
            "_____________________________________________________________________________________________________________________________\n",
            "conv2d_transpose_6 (Conv2DTranspose)     (None, 32, 32, 16)         4624           activation_18[0][0]                       \n",
            "_____________________________________________________________________________________________________________________________\n",
            "batch_normalization_19 (BatchNormalizati (None, 32, 32, 16)         64             conv2d_transpose_6[0][0]                  \n",
            "_____________________________________________________________________________________________________________________________\n",
            "activation_19 (Activation)               (None, 32, 32, 16)         0              batch_normalization_19[0][0]              \n",
            "_____________________________________________________________________________________________________________________________\n",
            "lambda_6 (Lambda)                        (None, 32, 32, 16)         0              activation_12[0][0]                       \n",
            "_____________________________________________________________________________________________________________________________\n",
            "concatenate_6 (Concatenate)              (None, 32, 32, 32)         0              activation_19[0][0]                       \n",
            "                                                                                   lambda_6[0][0]                            \n",
            "_____________________________________________________________________________________________________________________________\n",
            "conv2d_15 (Conv2D)                       (None, 32, 32, 16)         4624           concatenate_6[0][0]                       \n",
            "_____________________________________________________________________________________________________________________________\n",
            "batch_normalization_20 (BatchNormalizati (None, 32, 32, 16)         64             conv2d_15[0][0]                           \n",
            "_____________________________________________________________________________________________________________________________\n",
            "activation_20 (Activation)               (None, 32, 32, 16)         0              batch_normalization_20[0][0]              \n",
            "_____________________________________________________________________________________________________________________________\n",
            "conv2d_16 (Conv2D)                       (None, 32, 32, 9)          153            activation_20[0][0]                       \n",
            "=============================================================================================================================\n",
            "Total params: 3,244,953\n",
            "Trainable params: 3,244,249\n",
            "Non-trainable params: 704\n",
            "_____________________________________________________________________________________________________________________________\n",
            "None\n"
          ],
          "name": "stdout"
        },
        {
          "output_type": "stream",
          "text": [
            "[@debug] main.py:217 in preprocess()\n",
            "         self.model_name: 'model_best_UUnet4ConvLSTM_jun_cv_nomode.h5'\n",
            "[@debug] dataset.py:693 in create_load()\n",
            "         os.path.dirname(os.path.abspath(__file__)): '/content/FCN_ConvLSTM_Crop_Recognition_Open_Set/networks/convlstm_networks/train_src'\n",
            "[@debug] dataset.py:694 in create_load()\n",
            "         os.getcwd(): '/content/FCN_ConvLSTM_Crop_Recognition_Open_Set/networks/convlstm_networks/train_src'\n",
            "[@debug] dataset.py:698 in create_load()\n",
            "         self.patches['train']['coords'].shape: (8187, 2)\n",
            "[@debug] dataset.py:791 in labelPreprocess()\n",
            "         np.unique(self.full_label_train, return_counts=True): (array([ 0,  2,  3,  4,  6,  7,  8,  9, 10, 11], dtype=uint8),\n",
            "                                                                array([64671486,   710232,  1374508,    31550,   136800,   212701,\n",
            "                                                                         71804,   617076,      699,    66684]))\n",
            "[@debug] dataset.py:792 in labelPreprocess()\n",
            "         np.unique(self.full_label_test, return_counts=True): (array([ 0,  2,  3,  4,  6,  7,  8,  9, 10, 11], dtype=uint8),\n",
            "                                                               array([65000618,   730790,  1199149,    25986,    88785,   312353,\n",
            "                                                                        83385,   362633,      308,    89533]))\n",
            "[@debug] dataset.py:796 in labelPreprocess()\n",
            "         self.paramsTrain.known_classes: array([ 1,  2,  3,  5,  6,  7,  8,  9, 10], dtype=uint8)\n",
            "[@debug] dataset.py:840 in labelPreprocess()\n",
            "         np.unique(self.full_label_train, return_counts=True): (array([ 0,  2,  3,  4,  6,  7,  8,  9, 10, 11], dtype=uint8),\n",
            "                                                                array([64671486,   710232,  1374508,    31550,   136800,   212701,\n",
            "                                                                         71804,   617076,      699,    66684]))\n",
            "[@debug] dataset.py:846 in labelPreprocess()\n",
            "         self.classes: array([ 0,  2,  3,  4,  6,  7,  8,  9, 10, 11], dtype=uint8)\n"
          ],
          "name": "stderr"
        },
        {
          "output_type": "stream",
          "text": [
            "[@debug] np.unique(self.full_label_train, return_counts=True) = (array([ 0,  2,  3,  4,  6,  7,  8,  9, 10, 11], dtype=uint8), array([64671486,   710232,  1374508,    31550,   136800,   212701,\n",
            "          71804,   617076,      699,    66684]))\n"
          ],
          "name": "stdout"
        },
        {
          "output_type": "stream",
          "text": [
            "[@debug] dataset.py:850 in labelPreprocess()\n",
            "         self.labels2new_labels: {0: 0, 2: 1, 3: 2, 4: 3, 6: 4, 7: 5, 8: 6, 9: 7, 10: 8, 11: 9}\n",
            "         self.new_labels2labels: {0: 0, 1: 2, 2: 3, 3: 4, 4: 6, 5: 7, 6: 8, 7: 9, 8: 10, 9: 11}\n"
          ],
          "name": "stderr"
        },
        {
          "output_type": "stream",
          "text": [
            "Transforming labels2new_labels...\n",
            "Transformed labels2new_labels. Moving bcknd to last...\n",
            "[@debug] dict_filename = new_labels2labels_cv_20160613_S1.pkl\n",
            "[@debug] self.new_labels2labels = {0: 0, 1: 2, 2: 3, 3: 4, 4: 6, 5: 7, 6: 8, 7: 9, 8: 10, 9: 11}\n"
          ],
          "name": "stdout"
        },
        {
          "output_type": "stream",
          "text": [
            "[@debug] dataset.py:869 in labelPreprocess()\n",
            "         np.unique(self.full_label_train, return_counts=True): (array([0, 1, 2, 3, 4, 5, 6, 7, 8, 9], dtype=uint8),\n",
            "                                                                array([64671486,   710232,  1374508,    31550,   136800,   212701,\n",
            "                                                                         71804,   617076,      699,    66684]))\n"
          ],
          "name": "stderr"
        },
        {
          "output_type": "stream",
          "text": [
            "Moved bcknd to last\n"
          ],
          "name": "stdout"
        },
        {
          "output_type": "stream",
          "text": [
            "[@debug] dataset.py:878 in labelPreprocess()\n",
            "         np.unique(self.full_label_train, return_counts=True): (array([0, 1, 2, 3, 4, 5, 6, 7, 8, 9], dtype=uint8),\n",
            "                                                                array([  710232,  1374508,    31550,   136800,   212701,    71804,\n",
            "                                                                        617076,      699,    66684, 64671486]))\n",
            "[@debug] dataset.py:879 in labelPreprocess()\n",
            "         np.unique(self.full_label_test, return_counts=True): (array([0, 1, 2, 3, 4, 5, 6, 7, 8, 9], dtype=uint8),\n",
            "                                                               array([  730790,  1199149,    25986,    88785,   312353,    83385,\n",
            "                                                                       362633,      308,    89533, 65000618]))\n",
            "[@debug] dataset.py:882 in labelPreprocess()- self.class_n: 10\n",
            "[@debug] dataset.py:722 in create_load()\n",
            "         self.patches['train']['label'].shape: (8187, 32, 32)\n",
            "[@debug] dataset.py:723 in create_load()\n",
            "         np.unique(self.patches['train']['label'], return_counts = True): (array([0, 1, 2, 3, 4, 5, 6, 7, 8, 9]),\n",
            "                                                                           array([1164334, 2249911,   51355,  224669,  347713,  117563, 1010742,\n",
            "                                                                                    1209,  109535, 3106457]))\n",
            "[@debug] dataset.py:724 in create_load()\n",
            "         self.patches['test']['label'].shape: (7586, 32, 32)\n",
            "[@debug] dataset.py:725 in create_load()\n",
            "         np.unique(self.patches['test']['label'], return_counts = True): (array([0, 1, 2, 3, 4, 5, 6, 7, 8, 9]),\n",
            "                                                                          array([1198321, 1962479,   42756,  145251,  511922,  137012,  593995,\n",
            "                                                                                    541,  146687, 3029100]))\n",
            "[@debug] dataset.py:730 in create_load()\n",
            "         np.unique(self.full_label_train,return_counts=True): (array([0, 1, 2, 3, 4, 5, 6, 7, 8, 9], dtype=uint8),\n",
            "                                                               array([  710232,  1374508,    31550,   136800,   212701,    71804,\n",
            "                                                                       617076,      699,    66684, 64671486]))\n",
            "[@debug] dataset.py:731 in create_load()- self.class_n: 10\n",
            "[@debug] main.py:222 in preprocess()- self.paramsTrain.class_n: 10\n"
          ],
          "name": "stderr"
        },
        {
          "output_type": "stream",
          "text": [
            "=== SELECT VALIDATION SET FROM TRAIN SET\n",
            "[@debug] self.paramsTrain.val_set_mode = random\n"
          ],
          "name": "stdout"
        },
        {
          "output_type": "stream",
          "text": [
            "[@debug] dataset.py:907 in val_set_get()\n",
            "         self.patches['train']['n']: 8187\n",
            "         self.patches['val']['n']: 1228\n",
            "[@debug] dataset.py:908 in val_set_get()\n",
            "         self.patches['train']['coords'].shape: (8187, 2)\n",
            "[@debug] dataset.py:917 in val_set_get()\n",
            "         self.patches['train']['coords'].shape: (6959, 2)\n",
            "[@debug] dataset.py:918 in val_set_get()\n",
            "         self.patches['val']['coords'].shape: (1228, 2)\n"
          ],
          "name": "stderr"
        },
        {
          "output_type": "stream",
          "text": [
            "=== AUGMENTING TRAINING DATA\n",
            "[@debug] label_type = Nto1\n",
            "Before balancing:\n",
            "data.semantic_balance\n"
          ],
          "name": "stdout"
        },
        {
          "output_type": "stream",
          "text": [
            "[@debug] dataset.py:944 in semantic_balance()\n",
            "         balance[\"coords\"].shape: (6300, 2)\n",
            "[@debug] dataset.py:948 in semantic_balance()\n",
            "         np.unique(self.full_label_train, return_counts = True): (array([0, 1, 2, 3, 4, 5, 6, 7, 8, 9], dtype=uint8),\n",
            "                                                                  array([  710232,  1374508,    31550,   136800,   212701,    71804,\n",
            "                                                                          617076,      699,    66684, 64671486]))\n",
            "[@debug] dataset.py:954 in semantic_balance()\n",
            "         coords_classes.shape: (6959, 10)\n",
            "[@debug] dataset.py:956 in semantic_balance()\n",
            "         unique_train: array([0, 1, 2, 3, 4, 5, 6, 7, 8, 9], dtype=uint8)\n",
            "[@debug] dataset.py:958 in semantic_balance()- bcknd_idx: 9\n",
            "[@debug] dataset.py:960 in semantic_balance()- psize: 32\n",
            "[@debug] dataset.py:973 in semantic_balance()\n",
            "         patch_count: array([1.741e+03, 3.014e+03, 8.400e+01, 3.220e+02, 5.700e+02, 2.010e+02,\n",
            "                             1.463e+03, 3.000e+00, 1.920e+02, 0.000e+00])\n",
            "[@debug] dataset.py:979 in semantic_balance()\n",
            "         patch_count[clss]: 1741.0\n",
            "[@debug] dataset.py:983 in semantic_balance()- clss: 0\n",
            "[@debug] dataset.py:986 in semantic_balance()\n",
            "         idxs.shape: (6959,)\n",
            "         idxs.dtype: dtype('bool')\n",
            "[@debug] dataset.py:987 in semantic_balance()\n",
            "         np.unique(idxs, return_counts = True): (array([False,  True]), array([5218, 1741]))\n",
            "[@debug] dataset.py:992 in semantic_balance()\n",
            "         balance[\"class_coords\"].shape: (1741, 2)\n",
            "[@debug] dataset.py:993 in semantic_balance()- samples_per_class: 700\n"
          ],
          "name": "stderr"
        },
        {
          "output_type": "stream",
          "text": [
            "[@debug] clss = 0\n"
          ],
          "name": "stdout"
        },
        {
          "output_type": "stream",
          "text": [
            "[@debug] dataset.py:979 in semantic_balance()\n",
            "         patch_count[clss]: 3014.0\n",
            "[@debug] dataset.py:983 in semantic_balance()- clss: 1\n",
            "[@debug] dataset.py:986 in semantic_balance()\n",
            "         idxs.shape: (6959,)\n",
            "         idxs.dtype: dtype('bool')\n",
            "[@debug] dataset.py:987 in semantic_balance()\n",
            "         np.unique(idxs, return_counts = True): (array([False,  True]), array([3945, 3014]))\n",
            "[@debug] dataset.py:992 in semantic_balance()\n",
            "         balance[\"class_coords\"].shape: (3014, 2)\n",
            "[@debug] dataset.py:993 in semantic_balance()- samples_per_class: 700\n"
          ],
          "name": "stderr"
        },
        {
          "output_type": "stream",
          "text": [
            "[@debug] clss = 1\n"
          ],
          "name": "stdout"
        },
        {
          "output_type": "stream",
          "text": [
            "[@debug] dataset.py:979 in semantic_balance()- patch_count[clss]: 84.0\n",
            "[@debug] dataset.py:983 in semantic_balance()- clss: 2\n",
            "[@debug] dataset.py:986 in semantic_balance()\n",
            "         idxs.shape: (6959,)\n",
            "         idxs.dtype: dtype('bool')\n",
            "[@debug] dataset.py:987 in semantic_balance()\n",
            "         np.unique(idxs, return_counts = True): (array([False,  True]), array([6875,   84]))\n",
            "[@debug] dataset.py:992 in semantic_balance()\n",
            "         balance[\"class_coords\"].shape: (84, 2)\n",
            "[@debug] dataset.py:993 in semantic_balance()- samples_per_class: 700\n"
          ],
          "name": "stderr"
        },
        {
          "output_type": "stream",
          "text": [
            "[@debug] clss = 2\n"
          ],
          "name": "stdout"
        },
        {
          "output_type": "stream",
          "text": [
            "[@debug] dataset.py:979 in semantic_balance()\n",
            "         patch_count[clss]: 322.0\n",
            "[@debug] dataset.py:983 in semantic_balance()- clss: 3\n",
            "[@debug] dataset.py:986 in semantic_balance()\n",
            "         idxs.shape: (6959,)\n",
            "         idxs.dtype: dtype('bool')\n",
            "[@debug] dataset.py:987 in semantic_balance()\n",
            "         np.unique(idxs, return_counts = True): (array([False,  True]), array([6637,  322]))\n",
            "[@debug] dataset.py:992 in semantic_balance()\n",
            "         balance[\"class_coords\"].shape: (322, 2)\n",
            "[@debug] dataset.py:993 in semantic_balance()- samples_per_class: 700\n"
          ],
          "name": "stderr"
        },
        {
          "output_type": "stream",
          "text": [
            "[@debug] clss = 3\n"
          ],
          "name": "stdout"
        },
        {
          "output_type": "stream",
          "text": [
            "[@debug] dataset.py:979 in semantic_balance()\n",
            "         patch_count[clss]: 570.0\n",
            "[@debug] dataset.py:983 in semantic_balance()- clss: 4\n",
            "[@debug] dataset.py:986 in semantic_balance()\n",
            "         idxs.shape: (6959,)\n",
            "         idxs.dtype: dtype('bool')\n",
            "[@debug] dataset.py:987 in semantic_balance()\n",
            "         np.unique(idxs, return_counts = True): (array([False,  True]), array([6389,  570]))\n",
            "[@debug] dataset.py:992 in semantic_balance()\n",
            "         balance[\"class_coords\"].shape: (570, 2)\n",
            "[@debug] dataset.py:993 in semantic_balance()- samples_per_class: 700\n"
          ],
          "name": "stderr"
        },
        {
          "output_type": "stream",
          "text": [
            "[@debug] clss = 4\n"
          ],
          "name": "stdout"
        },
        {
          "output_type": "stream",
          "text": [
            "[@debug] dataset.py:979 in semantic_balance()\n",
            "         patch_count[clss]: 201.0\n",
            "[@debug] dataset.py:983 in semantic_balance()- clss: 5\n",
            "[@debug] dataset.py:986 in semantic_balance()\n",
            "         idxs.shape: (6959,)\n",
            "         idxs.dtype: dtype('bool')\n",
            "[@debug] dataset.py:987 in semantic_balance()\n",
            "         np.unique(idxs, return_counts = True): (array([False,  True]), array([6758,  201]))\n",
            "[@debug] dataset.py:992 in semantic_balance()\n",
            "         balance[\"class_coords\"].shape: (201, 2)\n",
            "[@debug] dataset.py:993 in semantic_balance()- samples_per_class: 700\n"
          ],
          "name": "stderr"
        },
        {
          "output_type": "stream",
          "text": [
            "[@debug] clss = 5\n"
          ],
          "name": "stdout"
        },
        {
          "output_type": "stream",
          "text": [
            "[@debug] dataset.py:979 in semantic_balance()\n",
            "         patch_count[clss]: 1463.0\n",
            "[@debug] dataset.py:983 in semantic_balance()- clss: 6\n",
            "[@debug] dataset.py:986 in semantic_balance()\n",
            "         idxs.shape: (6959,)\n",
            "         idxs.dtype: dtype('bool')\n",
            "[@debug] dataset.py:987 in semantic_balance()\n",
            "         np.unique(idxs, return_counts = True): (array([False,  True]), array([5496, 1463]))\n",
            "[@debug] dataset.py:992 in semantic_balance()\n",
            "         balance[\"class_coords\"].shape: (1463, 2)\n",
            "[@debug] dataset.py:993 in semantic_balance()- samples_per_class: 700\n"
          ],
          "name": "stderr"
        },
        {
          "output_type": "stream",
          "text": [
            "[@debug] clss = 6\n"
          ],
          "name": "stdout"
        },
        {
          "output_type": "stream",
          "text": [
            "[@debug] dataset.py:979 in semantic_balance()- patch_count[clss]: 3.0\n",
            "[@debug] dataset.py:983 in semantic_balance()- clss: 7\n",
            "[@debug] dataset.py:986 in semantic_balance()\n",
            "         idxs.shape: (6959,)\n",
            "         idxs.dtype: dtype('bool')\n",
            "[@debug] dataset.py:987 in semantic_balance()\n",
            "         np.unique(idxs, return_counts = True): (array([False,  True]), array([6956,    3]))\n",
            "[@debug] dataset.py:992 in semantic_balance()\n",
            "         balance[\"class_coords\"].shape: (3, 2)\n",
            "[@debug] dataset.py:993 in semantic_balance()- samples_per_class: 700\n"
          ],
          "name": "stderr"
        },
        {
          "output_type": "stream",
          "text": [
            "[@debug] clss = 7\n"
          ],
          "name": "stdout"
        },
        {
          "output_type": "stream",
          "text": [
            "[@debug] dataset.py:979 in semantic_balance()\n",
            "         patch_count[clss]: 192.0\n",
            "[@debug] dataset.py:983 in semantic_balance()- clss: 8\n",
            "[@debug] dataset.py:986 in semantic_balance()\n",
            "         idxs.shape: (6959,)\n",
            "         idxs.dtype: dtype('bool')\n",
            "[@debug] dataset.py:987 in semantic_balance()\n",
            "         np.unique(idxs, return_counts = True): (array([False,  True]), array([6767,  192]))\n",
            "[@debug] dataset.py:992 in semantic_balance()\n",
            "         balance[\"class_coords\"].shape: (192, 2)\n",
            "[@debug] dataset.py:993 in semantic_balance()- samples_per_class: 700\n"
          ],
          "name": "stderr"
        },
        {
          "output_type": "stream",
          "text": [
            "[@debug] clss = 8\n",
            "Balanced train unique (coords):\n",
            "[@debug] self.patches['train']['coords'].shape = (6300, 2)\n",
            "[@debug] self.data.patches['train']['coords'].shape = (6300, 2)\n",
            "WARNING:tensorflow:From /content/FCN_ConvLSTM_Crop_Recognition_Open_Set/networks/convlstm_networks/train_src/keras_weighted_categorical_crossentropy.py:89: to_int32 (from tensorflow.python.ops.math_ops) is deprecated and will be removed in a future version.\n",
            "Instructions for updating:\n",
            "Use `tf.cast` instead.\n"
          ],
          "name": "stdout"
        },
        {
          "output_type": "stream",
          "text": [
            "[@debug] model.py:2091 in train()\n",
            "         data.patches['train']['coords'].shape: (6300, 2)\n",
            "[@debug] model.py:2096 in train()- data.t_len: 12\n",
            "[@debug] model.py:2097 in train()\n",
            "         data.full_ims_train.shape: (12, 8492, 7995, 2)\n",
            "[@debug] model.py:2098 in train()- self.model_t_len: 12\n",
            "[@debug] dataset.py:891 in addPaddingToInput()\n",
            "         im.shape: (12, 8492, 7995, 2)\n",
            "[@debug] model.py:2104 in train()\n",
            "         data.full_ims_train.shape: (12, 8492, 7995, 2)\n",
            "[@debug] model.py:2159 in applyFitMethod()- self.class_n: 9\n",
            "[@debug] model.py:2178 in applyFitMethod()\n",
            "         data.patches['train']['coords'].shape: (6300, 2)\n",
            "[@debug] model.py:2179 in applyFitMethod()\n",
            "         data.patches['train']['coords'][0:16]: array([[7441, 1016],\n",
            "                                                       [1791, 4216],\n",
            "                                                       [5741, 1466],\n",
            "                                                       [1466, 4666],\n",
            "                                                       [1566, 4316],\n",
            "                                                       [4891, 5916],\n",
            "                                                       [3391, 3016],\n",
            "                                                       [4516, 6241],\n",
            "                                                       [1216, 5441],\n",
            "                                                       [6616, 1541],\n",
            "                                                       [4891, 5141],\n",
            "                                                       [1441, 5991],\n",
            "                                                       [5741, 1466],\n",
            "                                                       [7341, 1191],\n",
            "                                                       [4416, 2541],\n",
            "                                                       [5741, 1466]])\n",
            "[@debug] model.py:2180 in applyFitMethod()\n",
            "         data.patches['val']['coords'][0:16]: array([[4391, 5866],\n",
            "                                                     [4191, 7191],\n",
            "                                                     [3941, 6766],\n",
            "                                                     [4616, 5766],\n",
            "                                                     [1291, 5966],\n",
            "                                                     [1291, 4966],\n",
            "                                                     [4916, 4991],\n",
            "                                                     [1341, 5591],\n",
            "                                                     [1291, 5766],\n",
            "                                                     [4541, 5741],\n",
            "                                                     [4816, 3341],\n",
            "                                                     [1291, 4891],\n",
            "                                                     [4441, 5616],\n",
            "                                                     [1766, 4241],\n",
            "                                                     [4816, 2091],\n",
            "                                                     [8191,  766]])\n",
            "[@debug] generator.py:170 in __init__()- self.batch_size: 16\n",
            "[@debug] generator.py:172 in __init__()- self.patch_size: 32\n",
            "[@debug] generator.py:170 in __init__()- self.batch_size: 16\n",
            "[@debug] generator.py:172 in __init__()- self.patch_size: 32\n",
            "[@debug] model.py:2193 in applyFitMethod()\n",
            "         data.patches['val']['coords'].shape: (1228, 2)\n",
            "[@debug] model.py:2194 in applyFitMethod()\n",
            "         data.patches['val']['coords']: array([[4391, 5866],\n",
            "                                               [4191, 7191],\n",
            "                                               [3941, 6766],\n",
            "                                               ...,\n",
            "                                               [4391, 5916],\n",
            "                                               [1091, 5266],\n",
            "                                               [6366, 2666]])\n",
            "[@debug] generator.py:192 in __len__()- n_batches: 76\n"
          ],
          "name": "stderr"
        },
        {
          "output_type": "stream",
          "text": [
            "WARNING:tensorflow:From /tensorflow-1.15.2/python3.7/tensorflow_core/python/ops/math_grad.py:1375: where (from tensorflow.python.ops.array_ops) is deprecated and will be removed in a future version.\n",
            "Instructions for updating:\n",
            "Use tf.where in 2.0, which has the same broadcast rule as np.where\n",
            "WARNING:tensorflow:From /tensorflow-1.15.2/python3.7/keras/backend/tensorflow_backend.py:422: The name tf.global_variables is deprecated. Please use tf.compat.v1.global_variables instead.\n",
            "\n"
          ],
          "name": "stdout"
        },
        {
          "output_type": "stream",
          "text": [
            "[@debug] generator.py:192 in __len__()- n_batches: 393\n",
            "[@debug] generator.py:192 in __len__()- n_batches: 76\n",
            "[[@debug@debug]]  generatorgenerator..pypy:192: 192 inin __len__ (__len__)-() -n_batches:  n_batches393:\n",
            " 76\n"
          ],
          "name": "stderr"
        },
        {
          "output_type": "stream",
          "text": [
            "Epoch 1/70\n",
            "392/393 [============================>.] - ETA: 0s - loss: 0.2362 - accuracy: 0.0390"
          ],
          "name": "stdout"
        },
        {
          "output_type": "stream",
          "text": [
            "[@debug] generator.py:192 in __len__()- n_batches: 393\n"
          ],
          "name": "stderr"
        },
        {
          "output_type": "stream",
          "text": [
            "393/393 [==============================] - 39s 100ms/step - loss: 0.2361 - accuracy: 0.0391 - val_loss: 0.1482 - val_accuracy: 0.0540\n"
          ],
          "name": "stdout"
        },
        {
          "output_type": "stream",
          "text": [
            "[@debug] generator.py:192 in __len__()- [n_batches@debug:]  76generator\n",
            ".py:192 in __len__()- n_batches: 76\n"
          ],
          "name": "stderr"
        },
        {
          "output_type": "stream",
          "text": [
            " — val_f1: [23.53 82.97  2.92 22.44 62.2  43.23 54.2  45.54 25.19]\n",
            " — val_precision: [56.94 79.7   2.95 30.1  61.21 38.69 43.45 45.1  30.64]\n",
            " — val_recall: [14.83 86.53  2.89 17.89 63.21 48.97 72.02 46.   21.38]\n",
            " — mean_f1: 40.24666666666667\n",
            "oa 61.43\n",
            "Found best weights at epoch 1\n"
          ],
          "name": "stdout"
        },
        {
          "output_type": "stream",
          "text": [
            "[@debug] generator.py:192 in __len__()- n_batches: 393\n"
          ],
          "name": "stderr"
        },
        {
          "output_type": "stream",
          "text": [
            "Epoch 2/70\n",
            "392/393 [============================>.] - ETA: 0s - loss: 0.1703 - accuracy: 0.1481"
          ],
          "name": "stdout"
        },
        {
          "output_type": "stream",
          "text": [
            "[@debug] generator.py:192 in __len__()- n_batches: 393\n"
          ],
          "name": "stderr"
        },
        {
          "output_type": "stream",
          "text": [
            "393/393 [==============================] - 31s 78ms/step - loss: 0.1703 - accuracy: 0.1481 - val_loss: 0.0851 - val_accuracy: 0.1579\n"
          ],
          "name": "stdout"
        },
        {
          "output_type": "stream",
          "text": [
            "[@debug] generator.py:192 in __len__([)-@debug ]n_batches :generator .76py:\n",
            "192 in __len__()- n_batches: 76\n"
          ],
          "name": "stderr"
        },
        {
          "output_type": "stream",
          "text": [
            " — val_f1: [72.99 88.29 24.75 69.55 71.68 59.56 63.57 28.16 35.79]\n",
            " — val_precision: [80.31 87.39 15.36 59.83 72.5  51.55 71.77 21.87 32.1 ]\n",
            " — val_recall: [66.9  89.21 63.57 83.05 70.88 70.52 57.05 39.54 40.44]\n",
            " — mean_f1: 57.14888888888889\n",
            "oa 75.16\n",
            "Found best weights at epoch 2\n"
          ],
          "name": "stdout"
        },
        {
          "output_type": "stream",
          "text": [
            "[@debug] generator.py:192 in __len__()- n_batches: 393\n"
          ],
          "name": "stderr"
        },
        {
          "output_type": "stream",
          "text": [
            "Epoch 3/70\n",
            "392/393 [============================>.] - ETA: 0s - loss: 0.1317 - accuracy: 0.1610"
          ],
          "name": "stdout"
        },
        {
          "output_type": "stream",
          "text": [
            "[@debug] generator.py:192 in __len__()- n_batches: 393\n"
          ],
          "name": "stderr"
        },
        {
          "output_type": "stream",
          "text": [
            "393/393 [==============================] - 31s 80ms/step - loss: 0.1317 - accuracy: 0.1608 - val_loss: 0.0745 - val_accuracy: 0.1610\n"
          ],
          "name": "stdout"
        },
        {
          "output_type": "stream",
          "text": [
            "[@debug] generator.py:192 in __len__[@debug()]- generator n_batches.py:: 19276 \n",
            "in __len__()- n_batches: 76\n"
          ],
          "name": "stderr"
        },
        {
          "output_type": "stream",
          "text": [
            " — val_f1: [75.24 89.19 35.04 72.46 74.68 61.35 62.88 59.81 45.74]\n",
            " — val_precision: [81.71 87.71 21.49 60.02 75.09 52.83 78.07 50.92 38.68]\n",
            " — val_recall: [69.72 90.73 94.69 91.42 74.27 73.15 52.64 72.46 55.96]\n",
            " — mean_f1: 64.04333333333335\n",
            "oa 76.9\n",
            "Found best weights at epoch 3\n"
          ],
          "name": "stdout"
        },
        {
          "output_type": "stream",
          "text": [
            "[@debug] generator.py:192 in __len__()- n_batches: 393\n"
          ],
          "name": "stderr"
        },
        {
          "output_type": "stream",
          "text": [
            "Epoch 4/70\n",
            "392/393 [============================>.] - ETA: 0s - loss: 0.1081 - accuracy: 0.1604"
          ],
          "name": "stdout"
        },
        {
          "output_type": "stream",
          "text": [
            "[@debug] generator.py:192 in __len__()- n_batches: 393\n"
          ],
          "name": "stderr"
        },
        {
          "output_type": "stream",
          "text": [
            "393/393 [==============================] - 32s 82ms/step - loss: 0.1081 - accuracy: 0.1603 - val_loss: 0.0772 - val_accuracy: 0.1730\n"
          ],
          "name": "stdout"
        },
        {
          "output_type": "stream",
          "text": [
            "[@debug] generator.py:192 in __len__[(@debug)]-  generatorn_batches.:py :76192\n",
            " in __len__()- n_batches: 76\n"
          ],
          "name": "stderr"
        },
        {
          "output_type": "stream",
          "text": [
            " — val_f1: [78.17 89.82 56.15 74.87 79.6  70.79 70.42 80.15 57.41]\n",
            " — val_precision: [81.81 88.52 39.8  64.39 82.32 67.44 78.52 80.15 47.46]\n",
            " — val_recall: [74.84 91.16 95.31 89.42 77.06 74.49 63.84 80.15 72.64]\n",
            " — mean_f1: 73.04222222222222\n",
            "oa 80.77\n",
            "Found best weights at epoch 4\n"
          ],
          "name": "stdout"
        },
        {
          "output_type": "stream",
          "text": [
            "[@debug] generator.py:192 in __len__()- n_batches: 393\n"
          ],
          "name": "stderr"
        },
        {
          "output_type": "stream",
          "text": [
            "Epoch 5/70\n",
            "392/393 [============================>.] - ETA: 0s - loss: 0.0923 - accuracy: 0.1568"
          ],
          "name": "stdout"
        },
        {
          "output_type": "stream",
          "text": [
            "[@debug] generator.py:192 in __len__()- n_batches: 393\n"
          ],
          "name": "stderr"
        },
        {
          "output_type": "stream",
          "text": [
            "393/393 [==============================] - 32s 81ms/step - loss: 0.0922 - accuracy: 0.1567 - val_loss: 0.0569 - val_accuracy: 0.2014\n"
          ],
          "name": "stdout"
        },
        {
          "output_type": "stream",
          "text": [
            "[@debug] generator.py:192 in[ @debug__len__(]) -generator .pyn_batches:: 19276 \n",
            "in __len__()- n_batches: 76\n"
          ],
          "name": "stderr"
        },
        {
          "output_type": "stream",
          "text": [
            " — val_f1: [80.87 90.28 76.68 78.66 84.78 84.63 72.64 67.47 71.53]\n",
            " — val_precision: [79.21 89.28 67.1  69.93 85.8  79.14 82.66 62.66 62.41]\n",
            " — val_recall: [82.6  91.31 89.44 89.89 83.78 90.94 64.79 73.08 83.76]\n",
            " — mean_f1: 78.61555555555555\n",
            "oa 83.5\n",
            "Found best weights at epoch 5\n"
          ],
          "name": "stdout"
        },
        {
          "output_type": "stream",
          "text": [
            "[@debug] generator.py:192 in __len__()- n_batches: 393\n"
          ],
          "name": "stderr"
        },
        {
          "output_type": "stream",
          "text": [
            "Epoch 6/70\n",
            "392/393 [============================>.] - ETA: 0s - loss: 0.0799 - accuracy: 0.1569"
          ],
          "name": "stdout"
        },
        {
          "output_type": "stream",
          "text": [
            "[@debug] generator.py:192 in __len__()- n_batches: 393\n"
          ],
          "name": "stderr"
        },
        {
          "output_type": "stream",
          "text": [
            "393/393 [==============================] - 33s 84ms/step - loss: 0.0799 - accuracy: 0.1569 - val_loss: 0.0515 - val_accuracy: 0.2240\n"
          ],
          "name": "stdout"
        },
        {
          "output_type": "stream",
          "text": [
            "[@debug] generator.py:192 in[@debug ]__len__( )generator-. n_batchespy::192  76\n",
            "in __len__()- n_batches: 76\n"
          ],
          "name": "stderr"
        },
        {
          "output_type": "stream",
          "text": [
            " — val_f1: [81.62 90.88 70.82 81.4  88.24 84.42 72.57 66.   76.73]\n",
            " — val_precision: [76.28 90.67 70.34 73.34 90.88 76.32 84.12 58.24 69.55]\n",
            " — val_recall: [87.76 91.1  71.31 91.44 85.74 94.44 63.81 76.15 85.58]\n",
            " — mean_f1: 79.18666666666667\n",
            "oa 84.35\n",
            "Found best weights at epoch 6\n"
          ],
          "name": "stdout"
        },
        {
          "output_type": "stream",
          "text": [
            "[@debug] generator.py:192 in __len__()- n_batches: 393\n"
          ],
          "name": "stderr"
        },
        {
          "output_type": "stream",
          "text": [
            "Epoch 7/70\n",
            "392/393 [============================>.] - ETA: 0s - loss: 0.0707 - accuracy: 0.1602"
          ],
          "name": "stdout"
        },
        {
          "output_type": "stream",
          "text": [
            "[@debug] generator.py:192 in __len__()- n_batches: 393\n"
          ],
          "name": "stderr"
        },
        {
          "output_type": "stream",
          "text": [
            "393/393 [==============================] - 33s 84ms/step - loss: 0.0706 - accuracy: 0.1602 - val_loss: 0.0485 - val_accuracy: 0.2042\n"
          ],
          "name": "stdout"
        },
        {
          "output_type": "stream",
          "text": [
            "[@debug] generator.py:[192@debug ]in  generator__len__.(py):-192  inn_batches :__len__ (76)\n",
            "- n_batches: 76\n"
          ],
          "name": "stderr"
        },
        {
          "output_type": "stream",
          "text": [
            " — val_f1: [83.69 91.92 71.11 81.09 89.84 87.06 80.15 72.74 82.32]\n",
            " — val_precision: [81.52 92.9  58.07 72.01 89.38 81.02 86.34 68.62 81.9 ]\n",
            " — val_recall: [85.98 90.97 91.7  92.79 90.3  94.07 74.8  77.38 82.75]\n",
            " — mean_f1: 82.21333333333331\n",
            "oa 86.72\n",
            "Found best weights at epoch 7\n"
          ],
          "name": "stdout"
        },
        {
          "output_type": "stream",
          "text": [
            "[@debug] generator.py:192 in __len__()- n_batches: 393\n"
          ],
          "name": "stderr"
        },
        {
          "output_type": "stream",
          "text": [
            "Epoch 8/70\n",
            "392/393 [============================>.] - ETA: 0s - loss: 0.0638 - accuracy: 0.1630"
          ],
          "name": "stdout"
        },
        {
          "output_type": "stream",
          "text": [
            "[@debug] generator.py:192 in __len__()- n_batches: 393\n"
          ],
          "name": "stderr"
        },
        {
          "output_type": "stream",
          "text": [
            "393/393 [==============================] - 34s 87ms/step - loss: 0.0638 - accuracy: 0.1629 - val_loss: 0.0435 - val_accuracy: 0.2212\n"
          ],
          "name": "stdout"
        },
        {
          "output_type": "stream",
          "text": [
            "[@debug] generator.py:[192@debug ]in  generator__len__.(py):-192  n_batchesin: __len__ 76(\n",
            ")- n_batches: 76\n"
          ],
          "name": "stderr"
        },
        {
          "output_type": "stream",
          "text": [
            " — val_f1: [84.93 92.76 75.64 83.92 90.06 89.38 82.58 86.26 82.4 ]\n",
            " — val_precision: [80.04 94.28 72.2  76.13 87.88 84.84 89.31 89.7  89.69]\n",
            " — val_recall: [90.46 91.28 79.41 93.5  92.35 94.44 76.78 83.08 76.21]\n",
            " — mean_f1: 85.32555555555555\n",
            "oa 88.09\n",
            "Found best weights at epoch 8\n"
          ],
          "name": "stdout"
        },
        {
          "output_type": "stream",
          "text": [
            "[@debug] generator.py:192 in __len__()- n_batches: 393\n"
          ],
          "name": "stderr"
        },
        {
          "output_type": "stream",
          "text": [
            "Epoch 9/70\n",
            "392/393 [============================>.] - ETA: 0s - loss: 0.0575 - accuracy: 0.1647"
          ],
          "name": "stdout"
        },
        {
          "output_type": "stream",
          "text": [
            "[@debug] generator.py:192 in __len__()- n_batches: 393\n"
          ],
          "name": "stderr"
        },
        {
          "output_type": "stream",
          "text": [
            "393/393 [==============================] - 34s 86ms/step - loss: 0.0575 - accuracy: 0.1646 - val_loss: 0.0408 - val_accuracy: 0.2156\n"
          ],
          "name": "stdout"
        },
        {
          "output_type": "stream",
          "text": [
            "[@debug] generator.py:192[ @debugin]  __len__generator(.py):-192  n_batchesin:  __len__76(\n",
            ")- n_batches: 76\n"
          ],
          "name": "stderr"
        },
        {
          "output_type": "stream",
          "text": [
            " — val_f1: [86.78 93.64 79.55 86.36 91.27 87.83 86.21 80.51 85.77]\n",
            " — val_precision: [83.51 95.22 74.69 78.66 90.22 81.84 90.04 98.01 92.04]\n",
            " — val_recall: [90.33 92.1  85.09 95.72 92.35 94.76 82.69 68.31 80.3 ]\n",
            " — mean_f1: 86.43555555555557\n",
            "oa 89.82\n",
            "Found best weights at epoch 9\n"
          ],
          "name": "stdout"
        },
        {
          "output_type": "stream",
          "text": [
            "[@debug] generator.py:192 in __len__()- n_batches: 393\n"
          ],
          "name": "stderr"
        },
        {
          "output_type": "stream",
          "text": [
            "Epoch 10/70\n",
            "392/393 [============================>.] - ETA: 0s - loss: 0.0532 - accuracy: 0.1669"
          ],
          "name": "stdout"
        },
        {
          "output_type": "stream",
          "text": [
            "[@debug] generator.py:192 in __len__()- n_batches: 393\n"
          ],
          "name": "stderr"
        },
        {
          "output_type": "stream",
          "text": [
            "393/393 [==============================] - 35s 90ms/step - loss: 0.0532 - accuracy: 0.1668 - val_loss: 0.0464 - val_accuracy: 0.1988\n"
          ],
          "name": "stdout"
        },
        {
          "output_type": "stream",
          "text": [
            "[@debug] generator.py:[192 @debugin]  __len__(generator).-py :n_batches192:  in76 \n",
            "__len__()- n_batches: 76\n"
          ],
          "name": "stderr"
        },
        {
          "output_type": "stream",
          "text": [
            " — val_f1: [86.54 94.16 69.29 86.65 91.18 83.3  86.59 70.24 85.62]\n",
            " — val_precision: [85.67 96.69 56.25 79.63 93.58 73.56 86.4  83.8  85.26]\n",
            " — val_recall: [87.42 91.76 90.19 95.03 88.89 96.01 86.79 60.46 85.97]\n",
            " — mean_f1: 83.73\n",
            "oa 89.76\n"
          ],
          "name": "stdout"
        },
        {
          "output_type": "stream",
          "text": [
            "[@debug] generator.py:192 in __len__()- n_batches: 393\n"
          ],
          "name": "stderr"
        },
        {
          "output_type": "stream",
          "text": [
            "Epoch 11/70\n",
            "392/393 [============================>.] - ETA: 0s - loss: 0.0488 - accuracy: 0.1685"
          ],
          "name": "stdout"
        },
        {
          "output_type": "stream",
          "text": [
            "[@debug] generator.py:192 in __len__()- n_batches: 393\n"
          ],
          "name": "stderr"
        },
        {
          "output_type": "stream",
          "text": [
            "393/393 [==============================] - 35s 90ms/step - loss: 0.0488 - accuracy: 0.1684 - val_loss: 0.0362 - val_accuracy: 0.2086\n"
          ],
          "name": "stdout"
        },
        {
          "output_type": "stream",
          "text": [
            "[@debug] generator.[py:@debug192]  ingenerator .__len__py(:)192-  inn_batches :__len__ (76)\n",
            "- n_batches: 76\n"
          ],
          "name": "stderr"
        },
        {
          "output_type": "stream",
          "text": [
            " — val_f1: [88.82 95.04 77.46 89.33 92.57 90.88 88.26 84.12 87.48]\n",
            " — val_precision: [86.21 96.81 64.27 86.08 91.83 87.57 90.12 88.87 91.07]\n",
            " — val_recall: [91.59 93.32 97.46 92.84 93.32 94.46 86.47 79.85 84.15]\n",
            " — mean_f1: 88.21777777777778\n",
            "oa 91.5\n",
            "Found best weights at epoch 11\n"
          ],
          "name": "stdout"
        },
        {
          "output_type": "stream",
          "text": [
            "[@debug] generator.py:192 in __len__()- n_batches: 393\n"
          ],
          "name": "stderr"
        },
        {
          "output_type": "stream",
          "text": [
            "Epoch 12/70\n",
            "392/393 [============================>.] - ETA: 0s - loss: 0.0452 - accuracy: 0.1694"
          ],
          "name": "stdout"
        },
        {
          "output_type": "stream",
          "text": [
            "[@debug] generator.py:192 in __len__()- n_batches: 393\n"
          ],
          "name": "stderr"
        },
        {
          "output_type": "stream",
          "text": [
            "393/393 [==============================] - 35s 90ms/step - loss: 0.0452 - accuracy: 0.1694 - val_loss: 0.0351 - val_accuracy: 0.2153\n"
          ],
          "name": "stdout"
        },
        {
          "output_type": "stream",
          "text": [
            "[@debug] generator.py[:@debug192]  ingenerator __len__.(py):-192  inn_batches :__len__ (76)\n",
            "- n_batches: 76\n"
          ],
          "name": "stderr"
        },
        {
          "output_type": "stream",
          "text": [
            " — val_f1: [90.08 95.9  82.08 89.94 93.24 90.72 88.05 88.44 89.93]\n",
            " — val_precision: [87.44 97.19 72.02 83.58 92.28 87.41 92.02 85.29 89.23]\n",
            " — val_recall: [92.89 94.65 95.41 97.36 94.23 94.28 84.42 91.85 90.64]\n",
            " — mean_f1: 89.82000000000001\n",
            "oa 92.31\n",
            "Found best weights at epoch 12\n"
          ],
          "name": "stdout"
        },
        {
          "output_type": "stream",
          "text": [
            "[@debug] generator.py:192 in __len__()- n_batches: 393\n"
          ],
          "name": "stderr"
        },
        {
          "output_type": "stream",
          "text": [
            "Epoch 13/70\n",
            "392/393 [============================>.] - ETA: 0s - loss: 0.0423 - accuracy: 0.1706"
          ],
          "name": "stdout"
        },
        {
          "output_type": "stream",
          "text": [
            "[@debug] generator.py:192 in __len__()- n_batches: 393\n"
          ],
          "name": "stderr"
        },
        {
          "output_type": "stream",
          "text": [
            "393/393 [==============================] - 37s 93ms/step - loss: 0.0423 - accuracy: 0.1705 - val_loss: 0.0323 - val_accuracy: 0.2045\n"
          ],
          "name": "stdout"
        },
        {
          "output_type": "stream",
          "text": [
            "[@debug] generator.[py@debug:]192  generatorin. py:__len__192( )-in  n_batches__len__(: )-76 \n",
            "n_batches: 76\n"
          ],
          "name": "stderr"
        },
        {
          "output_type": "stream",
          "text": [
            " — val_f1: [90.27 96.29 70.62 88.41 92.93 88.   89.01 77.72 89.26]\n",
            " — val_precision: [88.79 97.08 54.94 82.21 92.14 80.57 94.26 90.41 90.98]\n",
            " — val_recall: [91.8  95.51 98.82 95.63 93.73 96.94 84.32 68.15 87.59]\n",
            " — mean_f1: 86.94555555555556\n",
            "oa 92.33\n"
          ],
          "name": "stdout"
        },
        {
          "output_type": "stream",
          "text": [
            "[@debug] generator.py:192 in __len__()- n_batches: 393\n"
          ],
          "name": "stderr"
        },
        {
          "output_type": "stream",
          "text": [
            "Epoch 14/70\n",
            "392/393 [============================>.] - ETA: 0s - loss: 0.0402 - accuracy: 0.1699"
          ],
          "name": "stdout"
        },
        {
          "output_type": "stream",
          "text": [
            "[@debug] generator.py:192 in __len__()- n_batches: 393\n"
          ],
          "name": "stderr"
        },
        {
          "output_type": "stream",
          "text": [
            "393/393 [==============================] - 37s 94ms/step - loss: 0.0402 - accuracy: 0.1700 - val_loss: 0.0321 - val_accuracy: 0.1928\n"
          ],
          "name": "stdout"
        },
        {
          "output_type": "stream",
          "text": [
            "[@debug] generator[@debug.py]:192  generatorin. py__len__:(192) -in n_batches :__len__ (76)\n",
            "- n_batches: 76\n"
          ],
          "name": "stderr"
        },
        {
          "output_type": "stream",
          "text": [
            " — val_f1: [89.66 95.85 74.41 89.25 93.91 89.31 89.94 88.19 89.71]\n",
            " — val_precision: [90.14 96.99 59.41 83.29 93.54 84.22 91.2  95.19 90.5 ]\n",
            " — val_recall: [89.18 94.73 99.55 96.13 94.27 95.07 88.71 82.15 88.94]\n",
            " — mean_f1: 88.91444444444444\n",
            "oa 92.41\n"
          ],
          "name": "stdout"
        },
        {
          "output_type": "stream",
          "text": [
            "[@debug] generator.py:192 in __len__()- n_batches: 393\n"
          ],
          "name": "stderr"
        },
        {
          "output_type": "stream",
          "text": [
            "Epoch 15/70\n",
            "392/393 [============================>.] - ETA: 0s - loss: 0.0378 - accuracy: 0.1693"
          ],
          "name": "stdout"
        },
        {
          "output_type": "stream",
          "text": [
            "[@debug] generator.py:192 in __len__()- n_batches: 393\n"
          ],
          "name": "stderr"
        },
        {
          "output_type": "stream",
          "text": [
            "393/393 [==============================] - 38s 96ms/step - loss: 0.0378 - accuracy: 0.1694 - val_loss: 0.0304 - val_accuracy: 0.2053\n"
          ],
          "name": "stdout"
        },
        {
          "output_type": "stream",
          "text": [
            "[@debug] [generator@debug.]py :generator192. pyin :__len__192( )in-  __len__n_batches(:) 76-\n",
            " n_batches: 76\n"
          ],
          "name": "stderr"
        },
        {
          "output_type": "stream",
          "text": [
            " — val_f1: [91.6  96.74 91.09 90.76 94.48 88.28 91.07 81.49 91.08]\n",
            " — val_precision: [90.56 97.37 84.08 85.72 95.5  81.61 93.15 96.03 89.62]\n",
            " — val_recall: [92.66 96.12 99.36 96.42 93.47 96.14 89.08 70.77 92.59]\n",
            " — mean_f1: 90.73222222222222\n",
            "oa 93.8\n",
            "Found best weights at epoch 15\n"
          ],
          "name": "stdout"
        },
        {
          "output_type": "stream",
          "text": [
            "[@debug] generator.py:192 in __len__()- n_batches: 393\n"
          ],
          "name": "stderr"
        },
        {
          "output_type": "stream",
          "text": [
            "Epoch 16/70\n",
            "392/393 [============================>.] - ETA: 0s - loss: 0.0355 - accuracy: 0.1706"
          ],
          "name": "stdout"
        },
        {
          "output_type": "stream",
          "text": [
            "[@debug] generator.py:192 in __len__()- n_batches: 393\n"
          ],
          "name": "stderr"
        },
        {
          "output_type": "stream",
          "text": [
            "393/393 [==============================] - 38s 97ms/step - loss: 0.0355 - accuracy: 0.1707 - val_loss: 0.0295 - val_accuracy: 0.2029\n"
          ],
          "name": "stdout"
        },
        {
          "output_type": "stream",
          "text": [
            "[@debug] [generator@debug.]py :192generator .inpy :192__len__ ()in- __len__ (n_batches): -76 \n",
            "n_batches: 76\n"
          ],
          "name": "stderr"
        },
        {
          "output_type": "stream",
          "text": [
            " — val_f1: [91.56 95.92 75.49 91.   93.61 89.45 90.01 73.99 92.32]\n",
            " — val_precision: [90.34 96.74 61.06 85.41 91.99 83.21 94.19 81.37 94.59]\n",
            " — val_recall: [92.81 95.12 98.85 97.38 95.29 96.7  86.19 67.85 90.15]\n",
            " — mean_f1: 88.14999999999999\n",
            "oa 92.98\n"
          ],
          "name": "stdout"
        },
        {
          "output_type": "stream",
          "text": [
            "[@debug] generator.py:192 in __len__()- n_batches: 393\n"
          ],
          "name": "stderr"
        },
        {
          "output_type": "stream",
          "text": [
            "Epoch 17/70\n",
            "392/393 [============================>.] - ETA: 0s - loss: 0.0346 - accuracy: 0.1713"
          ],
          "name": "stdout"
        },
        {
          "output_type": "stream",
          "text": [
            "[@debug] generator.py:192 in __len__()- n_batches: 393\n"
          ],
          "name": "stderr"
        },
        {
          "output_type": "stream",
          "text": [
            "393/393 [==============================] - 39s 100ms/step - loss: 0.0346 - accuracy: 0.1712 - val_loss: 0.0281 - val_accuracy: 0.2005\n"
          ],
          "name": "stdout"
        },
        {
          "output_type": "stream",
          "text": [
            "[@debug] generator[.@debugpy]: 192generator .inpy __len__:192( )in-  __len__n_batches:( )76-\n",
            " n_batches: 76\n"
          ],
          "name": "stderr"
        },
        {
          "output_type": "stream",
          "text": [
            " — val_f1: [92.09 96.72 86.56 89.97 94.6  89.23 91.43 81.37 90.13]\n",
            " — val_precision: [92.17 97.19 76.66 83.79 95.64 83.22 93.51 89.03 86.77]\n",
            " — val_recall: [92.   96.26 99.39 97.13 93.58 96.17 89.43 74.92 93.76]\n",
            " — mean_f1: 90.23333333333333\n",
            "oa 93.86\n"
          ],
          "name": "stdout"
        },
        {
          "output_type": "stream",
          "text": [
            "[@debug] generator.py:192 in __len__()- n_batches: 393\n"
          ],
          "name": "stderr"
        },
        {
          "output_type": "stream",
          "text": [
            "Epoch 18/70\n",
            "392/393 [============================>.] - ETA: 0s - loss: 0.0326 - accuracy: 0.1718"
          ],
          "name": "stdout"
        },
        {
          "output_type": "stream",
          "text": [
            "[@debug] generator.py:192 in __len__()- n_batches: 393\n"
          ],
          "name": "stderr"
        },
        {
          "output_type": "stream",
          "text": [
            "393/393 [==============================] - 40s 102ms/step - loss: 0.0326 - accuracy: 0.1719 - val_loss: 0.0280 - val_accuracy: 0.2027\n"
          ],
          "name": "stdout"
        },
        {
          "output_type": "stream",
          "text": [
            "[@debug] [generator@debug.]py :generator192. pyin: 192__len__ (in) -__len__ (n_batches:) -76 \n",
            "n_batches: 76\n"
          ],
          "name": "stderr"
        },
        {
          "output_type": "stream",
          "text": [
            " — val_f1: [91.84 96.34 84.83 90.08 94.01 87.99 90.73 71.71 90.54]\n",
            " — val_precision: [90.81 96.7  75.53 87.3  95.35 80.41 93.3  99.18 85.83]\n",
            " — val_recall: [92.9  95.99 96.73 93.03 92.71 97.14 88.3  56.15 95.79]\n",
            " — mean_f1: 88.67444444444443\n",
            "oa 93.44\n"
          ],
          "name": "stdout"
        },
        {
          "output_type": "stream",
          "text": [
            "[@debug] generator.py:192 in __len__()- n_batches: 393\n"
          ],
          "name": "stderr"
        },
        {
          "output_type": "stream",
          "text": [
            "Epoch 19/70\n",
            "392/393 [============================>.] - ETA: 0s - loss: 0.0309 - accuracy: 0.1697"
          ],
          "name": "stdout"
        },
        {
          "output_type": "stream",
          "text": [
            "[@debug] generator.py:192 in __len__()- n_batches: 393\n"
          ],
          "name": "stderr"
        },
        {
          "output_type": "stream",
          "text": [
            "393/393 [==============================] - 40s 101ms/step - loss: 0.0309 - accuracy: 0.1698 - val_loss: 0.0280 - val_accuracy: 0.1879\n"
          ],
          "name": "stdout"
        },
        {
          "output_type": "stream",
          "text": [
            "[@debug][ @debuggenerator]. generatorpy.:py192: 192in  in__len__ (__len__)(-) -n_batches: n_batches :76 \n",
            "76\n"
          ],
          "name": "stderr"
        },
        {
          "output_type": "stream",
          "text": [
            " — val_f1: [91.59 96.63 89.23 90.03 93.96 88.28 90.5  71.02 91.4 ]\n",
            " — val_precision: [92.93 96.63 83.92 86.49 94.27 81.01 91.33 94.39 87.85]\n",
            " — val_recall: [90.29 96.62 95.25 93.87 93.64 96.99 89.68 56.92 95.24]\n",
            " — mean_f1: 89.18222222222222\n",
            "oa 93.55\n"
          ],
          "name": "stdout"
        },
        {
          "output_type": "stream",
          "text": [
            "[@debug] generator.py:192 in __len__()- n_batches: 393\n"
          ],
          "name": "stderr"
        },
        {
          "output_type": "stream",
          "text": [
            "Epoch 20/70\n",
            "392/393 [============================>.] - ETA: 0s - loss: 0.0306 - accuracy: 0.1708"
          ],
          "name": "stdout"
        },
        {
          "output_type": "stream",
          "text": [
            "[@debug] generator.py:192 in __len__()- n_batches: 393\n"
          ],
          "name": "stderr"
        },
        {
          "output_type": "stream",
          "text": [
            "393/393 [==============================] - 40s 102ms/step - loss: 0.0306 - accuracy: 0.1708 - val_loss: 0.0274 - val_accuracy: 0.1819\n"
          ],
          "name": "stdout"
        },
        {
          "output_type": "stream",
          "text": [
            "[@debug] generator[.@debugpy]: 192generator .inpy :__len__192() -in  n_batches__len__:( )76\n",
            "- n_batches: 76\n"
          ],
          "name": "stderr"
        },
        {
          "output_type": "stream",
          "text": [
            " — val_f1: [92.07 96.4  79.79 89.78 93.49 90.35 90.96 62.14 86.71]\n",
            " — val_precision: [ 94.54  96.58  68.55  83.53  90.13  84.19  92.28 100.    96.4 ]\n",
            " — val_recall: [89.74 96.22 95.43 97.05 97.12 97.48 89.67 45.08 78.79]\n",
            " — mean_f1: 86.85444444444444\n",
            "oa 93.4\n"
          ],
          "name": "stdout"
        },
        {
          "output_type": "stream",
          "text": [
            "[@debug] generator.py:192 in __len__()- n_batches: 393\n"
          ],
          "name": "stderr"
        },
        {
          "output_type": "stream",
          "text": [
            "Epoch 21/70\n",
            "392/393 [============================>.] - ETA: 0s - loss: 0.0298 - accuracy: 0.1711"
          ],
          "name": "stdout"
        },
        {
          "output_type": "stream",
          "text": [
            "[@debug] generator.py:192 in __len__()- n_batches: 393\n"
          ],
          "name": "stderr"
        },
        {
          "output_type": "stream",
          "text": [
            "393/393 [==============================] - 42s 106ms/step - loss: 0.0298 - accuracy: 0.1712 - val_loss: 0.0275 - val_accuracy: 0.1857\n"
          ],
          "name": "stdout"
        },
        {
          "output_type": "stream",
          "text": [
            "[@debug] [generator@debug.]py :generator192. pyin: 192__len__ (in) -__len__ n_batches():-  76n_batches\n",
            ": 76\n"
          ],
          "name": "stderr"
        },
        {
          "output_type": "stream",
          "text": [
            " — val_f1: [92.09 96.55 81.44 89.18 93.19 89.12 90.65 73.07 82.63]\n",
            " — val_precision: [94.1  96.21 72.41 83.9  97.74 82.16 92.06 87.72 72.05]\n",
            " — val_recall: [90.17 96.88 93.03 95.17 89.05 97.36 89.28 62.62 96.84]\n",
            " — mean_f1: 87.54666666666667\n",
            "oa 93.27\n"
          ],
          "name": "stdout"
        },
        {
          "output_type": "stream",
          "text": [
            "[@debug] generator.py:192 in __len__()- n_batches: 393\n"
          ],
          "name": "stderr"
        },
        {
          "output_type": "stream",
          "text": [
            "Epoch 22/70\n",
            "392/393 [============================>.] - ETA: 0s - loss: 0.0290 - accuracy: 0.1715"
          ],
          "name": "stdout"
        },
        {
          "output_type": "stream",
          "text": [
            "[@debug] generator.py:192 in __len__()- n_batches: 393\n"
          ],
          "name": "stderr"
        },
        {
          "output_type": "stream",
          "text": [
            "393/393 [==============================] - 43s 109ms/step - loss: 0.0289 - accuracy: 0.1715 - val_loss: 0.0233 - val_accuracy: 0.1968\n"
          ],
          "name": "stdout"
        },
        {
          "output_type": "stream",
          "text": [
            "[@debug] [generator@debug.]py :generator192 .pyin: 192__len__ (in) -__len__ (n_batches):-  n_batches76:\n",
            " 76\n"
          ],
          "name": "stderr"
        },
        {
          "output_type": "stream",
          "text": [
            " — val_f1: [92.5  97.05 87.44 90.06 93.21 88.8  92.87 74.14 88.98]\n",
            " — val_precision: [92.56 98.13 78.76 83.65 93.12 82.1  94.38 98.22 83.6 ]\n",
            " — val_recall: [92.43 95.99 98.27 97.53 93.3  96.68 91.4  59.54 95.09]\n",
            " — mean_f1: 89.44999999999999\n",
            "oa 94.22\n"
          ],
          "name": "stdout"
        },
        {
          "output_type": "stream",
          "text": [
            "[@debug] generator.py:192 in __len__()- n_batches: 393\n"
          ],
          "name": "stderr"
        },
        {
          "output_type": "stream",
          "text": [
            "Epoch 23/70\n",
            "392/393 [============================>.] - ETA: 0s - loss: 0.0276 - accuracy: 0.1697"
          ],
          "name": "stdout"
        },
        {
          "output_type": "stream",
          "text": [
            "[@debug] generator.py:192 in __len__()- n_batches: 393\n"
          ],
          "name": "stderr"
        },
        {
          "output_type": "stream",
          "text": [
            "393/393 [==============================] - 43s 110ms/step - loss: 0.0276 - accuracy: 0.1698 - val_loss: 0.0231 - val_accuracy: 0.2049\n"
          ],
          "name": "stdout"
        },
        {
          "output_type": "stream",
          "text": [
            "[@debug][ generator@debug.]py :generator192. py:in192  __len__in( )__len__-( n_batches)-:  n_batches76:\n",
            " 76\n"
          ],
          "name": "stderr"
        },
        {
          "output_type": "stream",
          "text": [
            " — val_f1: [92.16 96.7  88.54 89.77 94.18 87.89 92.62 50.22 92.21]\n",
            " — val_precision: [91.24 98.18 85.16 84.59 95.01 80.26 92.96 92.56 88.35]\n",
            " — val_recall: [93.1  95.26 92.2  95.64 93.36 97.11 92.29 34.46 96.43]\n",
            " — mean_f1: 87.14333333333333\n",
            "oa 94.07\n"
          ],
          "name": "stdout"
        },
        {
          "output_type": "stream",
          "text": [
            "[@debug] generator.py:192 in __len__()- n_batches: 393\n"
          ],
          "name": "stderr"
        },
        {
          "output_type": "stream",
          "text": [
            "Epoch 24/70\n",
            "392/393 [============================>.] - ETA: 0s - loss: 0.0268 - accuracy: 0.1689"
          ],
          "name": "stdout"
        },
        {
          "output_type": "stream",
          "text": [
            "[@debug] generator.py:192 in __len__()- n_batches: 393\n"
          ],
          "name": "stderr"
        },
        {
          "output_type": "stream",
          "text": [
            "393/393 [==============================] - 44s 111ms/step - loss: 0.0268 - accuracy: 0.1689 - val_loss: 0.0276 - val_accuracy: 0.1960\n"
          ],
          "name": "stdout"
        },
        {
          "output_type": "stream",
          "text": [
            "[@debug][ @debuggenerator]. pygenerator:.192py :in192  __len__in( )__len__-( )n_batches-:  n_batches76\n",
            ": 76\n"
          ],
          "name": "stderr"
        },
        {
          "output_type": "stream",
          "text": [
            " — val_f1: [92.85 96.45 75.05 90.36 91.82 91.82 92.85 75.77 79.24]\n",
            " — val_precision: [93.84 98.2  60.27 84.58 94.4  87.75 92.86 77.8  67.56]\n",
            " — val_recall: [91.88 94.76 99.42 96.99 89.37 96.29 92.85 73.85 95.8 ]\n",
            " — mean_f1: 87.35666666666667\n",
            "oa 93.56\n"
          ],
          "name": "stdout"
        },
        {
          "output_type": "stream",
          "text": [
            "[@debug] generator.py:192 in __len__()- n_batches: 393\n"
          ],
          "name": "stderr"
        },
        {
          "output_type": "stream",
          "text": [
            "Epoch 25/70\n",
            "392/393 [============================>.] - ETA: 0s - loss: 0.0259 - accuracy: 0.1724"
          ],
          "name": "stdout"
        },
        {
          "output_type": "stream",
          "text": [
            "[@debug] generator.py:192 in __len__()- n_batches: 393\n"
          ],
          "name": "stderr"
        },
        {
          "output_type": "stream",
          "text": [
            "393/393 [==============================] - 44s 112ms/step - loss: 0.0259 - accuracy: 0.1724 - val_loss: 0.0243 - val_accuracy: 0.1880\n"
          ],
          "name": "stdout"
        },
        {
          "output_type": "stream",
          "text": [
            "[@debug][ @debuggenerator]. pygenerator.:py192 :192in  in__len__ (__len__)(-) -n_batches :n_batches :76 \n",
            "76\n"
          ],
          "name": "stderr"
        },
        {
          "output_type": "stream",
          "text": [
            " — val_f1: [91.32 97.21 89.7  89.7  95.37 92.8  91.85 68.51 92.34]\n",
            " — val_precision: [92.91 98.19 87.63 84.06 93.65 88.97 91.01 95.59 92.09]\n",
            " — val_recall: [89.79 96.25 91.87 96.15 97.16 96.97 92.7  53.38 92.6 ]\n",
            " — mean_f1: 89.86666666666667\n",
            "oa 94.19\n",
            "Restoring model weights from the end of the best epoch.\n",
            "Epoch %05d: early stopping\n",
            "f1 history [40.24666666666667, 57.14888888888889, 64.04333333333335, 73.04222222222222, 78.61555555555555, 79.18666666666667, 82.21333333333331, 85.32555555555555, 86.43555555555557, 83.73, 88.21777777777778, 89.82000000000001, 86.94555555555556, 88.91444444444444, 90.73222222222222, 88.14999999999999, 90.23333333333333, 88.67444444444443, 89.18222222222222, 86.85444444444444, 87.54666666666667, 89.44999999999999, 87.14333333333333, 87.35666666666667, 89.86666666666667]\n",
            "oa history [61.43, 75.16, 76.9, 80.77, 83.5, 84.35, 86.72, 88.09, 89.82, 89.76, 91.5, 92.31, 92.33, 92.41, 93.8, 92.98, 93.86, 93.44, 93.55, 93.4, 93.27, 94.22, 94.07, 93.56, 94.19]\n"
          ],
          "name": "stdout"
        },
        {
          "output_type": "display_data",
          "data": {
            "image/png": "[encoded data removed]",
            "text/plain": [
              "<Figure size 432x288 with 1 Axes>"
            ]
          },
          "metadata": {
            "tags": [],
            "needs_background": "light"
          }
        }
      ]
    },
    {
      "cell_type": "markdown",
      "metadata": {
        "id": "0lD8P03YG0IX"
      },
      "source": [
        "## Evaluate\n"
      ]
    },
    {
      "cell_type": "code",
      "metadata": {
        "id": "im68QpP-JvbR",
        "colab": {
          "base_uri": "https://localhost:8080/"
        },
        "outputId": "64cd42ae-8907-436c-f438-b35f8f7b6804"
      },
      "source": [
        "trainTest.evaluate()"
      ],
      "execution_count": 13,
      "outputs": [
        {
          "output_type": "stream",
          "text": [
            "[@debug] dataset.py:1067 in loadMask()\n",
            "         str(self.paramsTrain.path): '../../../dataset/dataset/cv_data'\n",
            "[@debug] dataset.py:1069 in loadMask()- self.mask.shape: (8492, 7995)\n",
            "[@debug] dataset.py:891 in addPaddingToInput()\n",
            "         im.shape: (12, 8492, 7995, 2)\n",
            "[@debug] params_reconstruct.py:42 in __init__()\n",
            "         self.overlap: 0\n",
            "         self.threshold_idx: 4\n",
            "[@debug] params_reconstruct.py:42 in __init__()\n",
            "         self.overlap: 0\n",
            "         self.threshold_idx: 4\n",
            "[@debug] mosaic.py:44 in __init__()- paramsTrain.seq_date: 'jun'\n"
          ],
          "name": "stderr"
        },
        {
          "output_type": "stream",
          "text": [
            "[@debug] dataset = cv\n",
            "[@debug] paramsTrain.model_type = unet\n"
          ],
          "name": "stdout"
        },
        {
          "output_type": "stream",
          "text": [
            "[@debug] mosaic.py:70 in create()- data.class_n: 10\n",
            "[@debug] mosaic.py:71 in create()\n",
            "         np.unique(data.full_label_test): array([ 0,  2,  3,  4,  6,  7,  8,  9, 10, 11], dtype=uint8)\n",
            "         len(np.unique(data.full_label_test)): 10\n",
            "[@debug] mosaic.py:72 in create()\n",
            "         np.unique(data.full_label_train): array([0, 1, 2, 3, 4, 5, 6, 7, 8, 9], dtype=uint8)\n",
            "         len(np.unique(data.full_label_train)): 10\n",
            "[@debug] mosaic.py:122 in create()\n",
            "         prediction_mosaic.shape: (8492, 7995)\n",
            "         mask_pad.shape: (8492, 7995)\n",
            "         data.full_label_test.shape: (8492, 7995)\n",
            "[@debug] mosaic.py:123 in create()\n",
            "         np.unique(data.full_label_test, return_counts=True): (array([ 0,  2,  3,  4,  6,  7,  8,  9, 10, 11], dtype=uint8),\n",
            "                                                               array([65000618,   730790,  1199149,    25986,    88785,   312353,\n",
            "                                                                        83385,   362633,      308,    89533]))\n",
            "[@debug] mosaic.py:124 in create()\n",
            "         np.unique(prediction_mosaic, return_counts=True): (array([0, 1, 2, 3, 4, 5, 6, 7, 8], dtype=uint8),\n",
            "                                                            array([64216186,  1790127,    86312,   221580,   461213,   259551,\n",
            "                                                                    650434,     3613,   204524]))\n",
            "[@debug] mosaic.py:140 in create()- time.time()-t0: 76.96136784553528\n",
            "[@debug] mosaic.py:147 in create()\n",
            "         data.full_label_test.shape: (8492, 7995)\n",
            "[@debug] mosaic.py:153 in create()\n",
            "         np.unique(prediction_mosaic, return_counts=True): (array([0, 1, 2, 3, 4, 5, 6, 7, 8], dtype=uint8),\n",
            "                                                            array([64216186,  1790127,    86312,   221580,   461213,   259551,\n",
            "                                                                    650434,     3613,   204524]))\n"
          ],
          "name": "stderr"
        },
        {
          "output_type": "stream",
          "text": [
            "Entering newLabel2labelTranslate\n",
            "[@debug] np.unique(label,return_counts=True) = (array([0, 1, 2, 3, 4, 5, 6, 7, 8], dtype=uint8), array([64216186,  1790127,    86312,   221580,   461213,   259551,\n",
            "         650434,     3613,   204524]))\n",
            "[@debug] np.unique(label)[-1] = 8\n",
            "[@debug] np.unique(label,return_counts=True) = (array([0, 1, 2, 3, 4, 5, 6, 7, 8], dtype=uint8), array([64216186,  1790127,    86312,   221580,   461213,   259551,\n",
            "         650434,     3613,   204524]))\n",
            "[@debug] np.unique(label,return_counts=True) = (array([1, 2, 3, 4, 5, 6, 7, 8, 9], dtype=uint8), array([64216186,  1790127,    86312,   221580,   461213,   259551,\n",
            "         650434,     3613,   204524]))\n",
            "new_labels2labels filename <_io.BufferedReader name='new_labels2labels_cv_20160613_S1.pkl'>\n",
            "[@debug] new_labels2labels = {0: 0, 1: 2, 2: 3, 3: 4, 4: 6, 5: 7, 6: 8, 7: 9, 8: 10, 9: 11}\n",
            "[@debug] classes = [1 2 3 4 5 6 7 8 9]\n",
            "1\n",
            "Translated 2\n",
            "2\n",
            "Translated 3\n",
            "3\n",
            "Translated 4\n",
            "4\n",
            "Translated 6\n",
            "5\n",
            "Translated 7\n",
            "6\n",
            "Translated 8\n",
            "7\n",
            "Translated 9\n",
            "8\n",
            "Translated 10\n",
            "9\n",
            "Translated 11\n"
          ],
          "name": "stdout"
        },
        {
          "output_type": "stream",
          "text": [
            "[@debug] mosaic.py:157 in create()\n",
            "         np.unique(prediction_mosaic, return_counts=True): (array([ 2,  3,  4,  6,  7,  8,  9, 10, 11], dtype=uint8),\n",
            "                                                            array([64216186,  1790127,    86312,   221580,   461213,   259551,\n",
            "                                                                    650434,     3613,   204524]))\n",
            "[@debug] mosaic.py:160 in create()\n",
            "         data.full_label_test.shape: (8492, 7995)\n",
            "[@debug] mosaic.py:161 in create()\n",
            "         np.unique(data.full_label_test, return_counts=True): (array([ 0,  2,  3,  4,  6,  7,  8,  9, 10, 11], dtype=uint8),\n",
            "                                                               array([65000618,   730790,  1199149,    25986,    88785,   312353,\n",
            "                                                                        83385,   362633,      308,    89533]))\n",
            "[@debug] mosaic.py:163 in create()\n",
            "         np.unique(label_mosaic, return_counts=True): (array([ 0,  2,  3,  4,  6,  7,  8,  9, 10, 11], dtype=uint8),\n",
            "                                                       array([65000618,   730790,  1199149,    25986,    88785,   312353,\n",
            "                                                                83385,   362633,      308,    89533]))\n",
            "[@debug] mosaic.py:164 in create()\n",
            "         np.unique(prediction_mosaic, return_counts=True): (array([ 2,  3,  4,  6,  7,  8,  9, 10, 11], dtype=uint8),\n",
            "                                                            array([64216186,  1790127,    86312,   221580,   461213,   259551,\n",
            "                                                                    650434,     3613,   204524]))\n",
            "[@debug] mosaic.py:170 in create()\n",
            "         np.unique(label_mosaic, return_counts=True): (array([  1,   2,   3,   5,   6,   7,   8,   9,  10, 255], dtype=uint8),\n",
            "                                                       array([  730790,  1199149,    25986,    88785,   312353,    83385,\n",
            "                                                               362633,      308,    89533, 65000618]))\n",
            "[@debug] mosaic.py:171 in create()\n",
            "         np.unique(prediction_mosaic, return_counts=True): (array([ 1,  2,  3,  5,  6,  7,  8,  9, 10], dtype=uint8),\n",
            "                                                            array([64216186,  1790127,    86312,   221580,   461213,   259551,\n",
            "                                                                    650434,     3613,   204524]))\n",
            "[@debug] dataset.py:1183 in small_classes_ignore()\n",
            "         important_classes_idx: [1, 2, 3, 5, 6, 7, 8, 9, 10]\n"
          ],
          "name": "stderr"
        },
        {
          "output_type": "stream",
          "text": [
            "[@debug] important_classes_idx = [1, 2, 3, 5, 6, 7, 8, 9, 10]\n",
            "[@debug] np.unique(label,return_counts=True) = (array([  1,   2,   3,   5,   6,   7,   8,   9,  10, 255], dtype=uint8), array([  730790,  1199149,    25986,    88785,   312353,    83385,\n",
            "         362633,      308,    89533, 65000618]))\n",
            "[@debug] np.unique(predictions,return_counts=True) = (array([ 1,  2,  3,  5,  6,  7,  8,  9, 10], dtype=uint8), array([64216186,  1790127,    86312,   221580,   461213,   259551,\n",
            "         650434,     3613,   204524]))\n",
            "[@debug] np.unique(label_mosaic,return_counts=True) = (array([  1,   2,   3,   5,   6,   7,   8,   9,  10, 255], dtype=uint8), array([  730790,  1199149,    25986,    88785,   312353,    83385,\n",
            "         362633,      308,    89533, 65000618]))\n",
            "[@debug] np.unique(prediction_mosaic,return_counts=True) = (array([ 1,  2,  3,  5,  6,  7,  8,  9, 10], dtype=uint8), array([64216186,  1790127,    86312,   221580,   461213,   259551,\n",
            "         650434,     3613,   204524]))\n",
            "[@debug] label_mosaic.shape = (8492, 7995)\n",
            "[@debug] prediction_mosaic.shape = (8492, 7995)\n",
            "[@debug] important_classes_idx = [1, 2, 3, 5, 6, 7, 8, 9, 10]\n"
          ],
          "name": "stdout"
        },
        {
          "output_type": "stream",
          "text": [
            "[@debug] mosaic.py:189 in create()\n",
            "         data.mask.shape: (8492, 7995)\n",
            "         mask_pad.shape: (8492, 7995)\n",
            "         label_mosaic.shape: (8492, 7995)\n",
            "         prediction_mosaic.shape: (8492, 7995)\n",
            "[@debug] mosaic.py:202 in save_prediction_label_mosaic_Nto1()\n",
            "         np.unique(mask, return_counts=True): (array([0, 1, 2], dtype=uint8), array([61778564,  3222054,  2892922]))\n"
          ],
          "name": "stderr"
        },
        {
          "output_type": "stream",
          "text": [
            "[@debug] np.unique(label_mosaic,return_counts=True) = (array([  1,   2,   3,   5,   6,   7,   8,   9,  10, 255], dtype=uint8), array([  730790,  1199149,    25986,    88785,   312353,    83385,\n",
            "         362633,      308,    89533, 65000618]))\n",
            "[@debug] np.unique(prediction_mosaic,return_counts=True) = (array([ 1,  2,  3,  5,  6,  7,  8,  9, 10], dtype=uint8), array([64216186,  1790127,    86312,   221580,   461213,   259551,\n",
            "         650434,     3613,   204524]))\n",
            "everything outside mask is 255\n"
          ],
          "name": "stdout"
        },
        {
          "output_type": "stream",
          "text": [
            "[@debug] mosaic.py:213 in save_prediction_label_mosaic_Nto1()\n",
            "         np.unique(label_mosaic,return_counts=True): (array([  1,   2,   3,   5,   6,   7,   8,   9,  10, 255], dtype=uint8),\n",
            "                                                      array([  730790,  1199149,    25986,    88785,   312353,    83385,\n",
            "                                                              362633,      308,    89533, 65000618]))\n",
            "[@debug] mosaic.py:214 in save_prediction_label_mosaic_Nto1()\n",
            "         np.unique(prediction_mosaic,return_counts=True): (array([ 1,  2,  3,  5,  6,  7,  8,  9, 10], dtype=uint8),\n",
            "                                                           array([64216186,  1790127,    86312,   221580,   461213,   259551,\n",
            "                                                                   650434,     3613,   204524]))\n"
          ],
          "name": "stderr"
        },
        {
          "output_type": "stream",
          "text": [
            "(11, 3)\n",
            "Gray uint8\n",
            "Adding color...\n",
            "RGB uint8 (8492, 7995, 3)\n",
            "[@debug] custom_colormap = [[255 146  36]\n",
            " [255 255   0]\n",
            " [164 164 164]\n",
            " [255  62  62]\n",
            " [  0   0   0]\n",
            " [172  89 255]\n",
            " [  0 166  83]\n",
            " [ 40 255  40]\n",
            " [187 122  83]\n",
            " [217  64 238]\n",
            " [ 45 150 255]]\n",
            "Assigning color...\n",
            "RGB uint8 (8492, 7995, 3)\n",
            "Saving the resulting images...\n",
            "[@debug] save_folder = results/spatial_results/cv/unet/jun\n"
          ],
          "name": "stdout"
        },
        {
          "output_type": "stream",
          "text": [
            "[@debug] mosaic.py:276 in save_prediction_label_mosaic_Nto1()\n",
            "         prediction_savename: PosixPath('results/spatial_results/cv/unet/jun/prediction_t_jun_unet_closedset_closed_set_overl0_test.png')\n"
          ],
          "name": "stderr"
        },
        {
          "output_type": "stream",
          "text": [
            "saving...\n",
            "no file to remove\n",
            "[@debug] ret = True\n"
          ],
          "name": "stdout"
        },
        {
          "output_type": "stream",
          "text": [
            "[@debug] mosaic.py:286 in save_prediction_label_mosaic_Nto1()\n",
            "         save_folder / (\"label_t_\"+paramsTrain.seq_date+\"_\"+paramsTrain.model_type+\"_\"+name_id+\".png\"): PosixPath('results/spatial_results/cv/unet/jun/label_t_jun_unet_closed_set.png')\n"
          ],
          "name": "stderr"
        },
        {
          "output_type": "stream",
          "text": [
            "[@debug] ret = True\n",
            "[@debug] ret = True\n",
            "======================= METRICS GET\n"
          ],
          "name": "stdout"
        },
        {
          "output_type": "stream",
          "text": [
            "[@debug] metrics.py:31 in get()\n",
            "         prediction.shape: (8492, 7995)\n",
            "         label.shape: (8492, 7995)\n",
            "[@debug] metrics.py:32 in get()\n",
            "         np.unique(prediction, return_counts=True): (array([ 1,  2,  3,  5,  6,  7,  8,  9, 10], dtype=uint8),\n",
            "                                                     array([64216186,  1790127,    86312,   221580,   461213,   259551,\n",
            "                                                             650434,     3613,   204524]))\n",
            "[@debug] metrics.py:33 in get()\n",
            "         np.unique(label, return_counts=True): (array([  1,   2,   3,   5,   6,   7,   8,   9,  10, 255], dtype=uint8),\n",
            "                                                array([  730790,  1199149,    25986,    88785,   312353,    83385,\n",
            "                                                        362633,      308,    89533, 65000618]))\n",
            "[@debug] metrics.py:34 in get()\n",
            "         len(np.unique(label, return_counts=True)): 2\n",
            "[@debug] metrics.py:39 in get()- class_n: 9\n"
          ],
          "name": "stderr"
        },
        {
          "output_type": "stream",
          "text": [
            "[@debug] prediction.shape,debug,2 = (8492, 7995)\n",
            "[@debug] label.shape,debug,2 = (8492, 7995)\n",
            "[@debug] prediction.shape = (8492, 7995)\n",
            "[@debug] prediction.shape = (67893540,)\n"
          ],
          "name": "stdout"
        },
        {
          "output_type": "stream",
          "text": [
            "[@debug] metrics.py:67 in get()\n",
            "         np.unique(prediction, return_counts=True): (array([ 1,  2,  3,  5,  6,  7,  8,  9, 10], dtype=uint8),\n",
            "                                                     array([64216186,  1790127,    86312,   221580,   461213,   259551,\n",
            "                                                             650434,     3613,   204524]))\n",
            "[@debug] metrics.py:68 in get()\n",
            "         np.unique(label, return_counts=True): (array([  1,   2,   3,   5,   6,   7,   8,   9,  10, 255], dtype=uint8),\n",
            "                                                array([  730790,  1199149,    25986,    88785,   312353,    83385,\n",
            "                                                        362633,      308,    89533, 65000618]))\n"
          ],
          "name": "stderr"
        },
        {
          "output_type": "stream",
          "text": [
            "Metric label unique+1,count [ 2  3  4  6  7  8  9 10 11] [ 730790 1199149   25986   88785  312353   83385  362633     308   89533]\n",
            "Metric prediction unique+1,count [ 2  3  4  6  7  8  9 10 11] [ 686189 1182801   45070  142324  212888  101480  417404     456  104310]\n",
            "[@debug] metrics_test = {'f1_score': 0.6194929438106419, 'f1_score_weighted': 0.7604218683817516, 'f1_score_noavg': array([0.68272289, 0.91030542, 0.40734069, 0.51525471, 0.67111669,\n",
            "       0.88159468, 0.57612908, 0.2513089 , 0.67966344]), 'overall_acc': 0.7571144330887594, 'confusion_matrix': array([[ 483702,   52061,   17646,   13517,    7515,     857,  153629,\n",
            "            147,    1716],\n",
            "       [  65641, 1084151,    5104,   10239,    6321,    3131,   23065,\n",
            "              1,    1496],\n",
            "       [   3791,    1099,   14472,     242,     230,       0,    6152,\n",
            "              0,       0],\n",
            "       [  13762,    4024,    1981,   59540,    1860,    1041,    5779,\n",
            "             90,     708],\n",
            "       [  25072,    3722,    5027,   52802,  176249,   12736,    3848,\n",
            "             12,   32885],\n",
            "       [    240,     371,       9,     100,     529,   81488,     115,\n",
            "              0,     533],\n",
            "       [  92360,   36608,     830,    3536,    3298,     222,  224701,\n",
            "             65,    1013],\n",
            "       [     23,       0,       0,       1,      33,       1,      69,\n",
            "             96,      85],\n",
            "       [   1598,     765,       1,    2347,   16853,    2004,      46,\n",
            "             45,   65874]]), 'per_class_acc': array([0.66188919, 0.90410032, 0.55691526, 0.67060877, 0.56426223,\n",
            "       0.9772501 , 0.61963748, 0.31168831, 0.73575106]), 'average_acc': 0.6669003047911667}\n"
          ],
          "name": "stdout"
        }
      ]
    }
  ]
}